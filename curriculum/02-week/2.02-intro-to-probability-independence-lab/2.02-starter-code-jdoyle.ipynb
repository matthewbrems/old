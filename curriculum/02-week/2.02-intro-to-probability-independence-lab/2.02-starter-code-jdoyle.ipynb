{
 "cells": [
  {
   "cell_type": "markdown",
   "metadata": {},
   "source": [
    "## Problem 1\n",
    "\n",
    "A bag contains a chip, known to be either white or black. A white chip is put in, the bag is shaken, and a chip is drawn out, which proves to be white. What is now the chance of drawing a white chip?"
   ]
  },
  {
   "cell_type": "markdown",
   "metadata": {},
   "source": [
    "#### 1-A) Build a function that simulates this game n times, where n is some positive integer input."
   ]
  },
  {
   "cell_type": "code",
   "execution_count": null,
   "metadata": {
    "collapsed": true
   },
   "outputs": [],
   "source": [
    "return(np.random.choice([black,white]))"
   ]
  },
  {
   "cell_type": "code",
   "execution_count": null,
   "metadata": {
    "collapsed": true
   },
   "outputs": [],
   "source": [
    "n = 5\n",
    "list_n = []\n",
    "i = 0\n",
    "while i < n+1:  \n",
    "    i+=1\n",
    "    bag = np.random.choice([black,white])\n",
    "    print(bag)\n",
    "    if bag==\"black\":\n",
    "        black = 1\n",
    "        white = 0\n",
    "    else:\n",
    "        white = 1\n",
    "        black = 0\n",
    "        \n",
    "    p_black_bag = 0.5 * float(black)\n",
    "    p_white_bag = 0.5 * float(white)\n",
    "\n",
    "    if black==0:\n",
    "        white_1_white_bag = float(p_white_bag)*(2/2)\n",
    "        white_2_white_bag = float(white_1_white_bag)*(1/1)\n",
    "    else:\n",
    "        white_1_black_bag = float(p_black_bag)*(1/2)\n",
    "        white_2_black_bag = float(white_1_black_bag)*0\n",
    "    p_first_white = float(white_1_white_bag) + float(white_1_black_bag)\n",
    "    p_second_white = float(white_2_white_bag) + float(white_2_black_bag)\n",
    "    p_second_white_given_first_white = float(p_second_white) / float(p_first_white)\n",
    "    list_n.append(p_second_white_given_first_white)\n",
    "return(list_n)\n",
    "\n"
   ]
  },
  {
   "cell_type": "code",
   "execution_count": null,
   "metadata": {
    "collapsed": false
   },
   "outputs": [],
   "source": [
    "import numpy as np\n",
    "def white_chip_prob(n):\n",
    "    list_n = []\n",
    "    i = 0\n",
    "    while i < n+1:  \n",
    "        i+=1\n",
    "        bag = np.random.choice([black,white])\n",
    "        if bag==\"black\":\n",
    "            black = 1\n",
    "            white = 0\n",
    "        else:\n",
    "            white = 1\n",
    "            black = 0\n",
    "        p_black_bag = 0.5 * float(black)\n",
    "        p_white_bag = 0.5 * float(white)\n",
    "\n",
    "        if black==0:\n",
    "            white_1_white_bag = float(p_white_bag)*(2/2)\n",
    "            white_2_white_bag = float(white_1_white_bag)*(1/1)\n",
    "        else:\n",
    "            white_1_black_bag = float(p_black_bag)*(1/2)\n",
    "            white_2_black_bag = float(white_1_black_bag)*0\n",
    "        p_first_white = float(white_1_white_bag) + float(white_1_black_bag)\n",
    "        p_second_white = float(white_2_white_bag) + float(white_2_black_bag)\n",
    "        p_second_white_given_first_white = float(p_second_white) / float(p_first_white)\n",
    "        list_n.append(p_second_white_given_first_white)\n",
    "    return(list_n)\n",
    "\n",
    "\n",
    "# def white_chip_prob(n):\n",
    "#     black_start = np.random.choice([0,1])\n",
    "#     if black_start == 1:\n",
    "#         white = 0\n",
    "#         p_white = 0\n",
    "#         p_white2_given_white1 = 1\n",
    "#         while white < n+1:\n",
    "#             white += 1\n",
    "#             total = white + 1\n",
    "#             p_white1 = float(white) / float(total)\n",
    "#             p_white2_given_white1 = p_white2_given_white1 * (float(p_white1) ** 2 )\n",
    "#         p_white = (0.25) * p_white2_given_white1    \n",
    "#     return 0.5 + p_white\n"
   ]
  },
  {
   "cell_type": "markdown",
   "metadata": {},
   "source": [
    "#### 1-B) Simulate this game 5 times. Record your results. What do you conclude about them?"
   ]
  },
  {
   "cell_type": "code",
   "execution_count": null,
   "metadata": {
    "collapsed": false
   },
   "outputs": [],
   "source": [
    "white_chip_prob(5)"
   ]
  },
  {
   "cell_type": "markdown",
   "metadata": {},
   "source": [
    "#### 1-C) Simulate this game 50 times. Record your results. What do you conclude about them?"
   ]
  },
  {
   "cell_type": "code",
   "execution_count": null,
   "metadata": {
    "collapsed": false
   },
   "outputs": [],
   "source": [
    "white_chip_prob(50)"
   ]
  },
  {
   "cell_type": "markdown",
   "metadata": {},
   "source": [
    "#### 1-D) Simulate this game 50,000 times. Record your results. "
   ]
  },
  {
   "cell_type": "code",
   "execution_count": null,
   "metadata": {
    "collapsed": false
   },
   "outputs": [],
   "source": [
    "white_chip_prob(50000)"
   ]
  },
  {
   "cell_type": "markdown",
   "metadata": {},
   "source": [
    "#### 1-E) By hand, find the probability that the second chip drawn is white. How does this match up with your answers from 1-B, 1-C, and 1-D?"
   ]
  },
  {
   "cell_type": "code",
   "execution_count": null,
   "metadata": {
    "collapsed": true
   },
   "outputs": [],
   "source": []
  },
  {
   "cell_type": "markdown",
   "metadata": {},
   "source": []
  }
 ],
 "metadata": {
  "anaconda-cloud": {},
  "kernelspec": {
   "display_name": "Python 2",
   "language": "python",
   "name": "python2"
  },
  "language_info": {
   "codemirror_mode": {
    "name": "ipython",
    "version": 2
   },
   "file_extension": ".py",
   "mimetype": "text/x-python",
   "name": "python",
   "nbconvert_exporter": "python",
   "pygments_lexer": "ipython2",
   "version": "2.7.13"
  }
 },
 "nbformat": 4,
 "nbformat_minor": 1
}
