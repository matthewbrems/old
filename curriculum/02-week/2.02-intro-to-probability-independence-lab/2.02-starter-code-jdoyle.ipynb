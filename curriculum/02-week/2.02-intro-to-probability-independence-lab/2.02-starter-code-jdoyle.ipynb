{
 "cells": [
  {
   "cell_type": "markdown",
   "metadata": {},
   "source": [
    "## Problem 1\n",
    "\n",
    "A bag contains a chip, known to be either white or black. A white chip is put in, the bag is shaken, and a chip is drawn out, which proves to be white. What is now the chance of drawing a white chip?"
   ]
  },
  {
   "cell_type": "markdown",
   "metadata": {},
   "source": [
    "#### 1-A) Build a function that simulates this game n times, where n is some positive integer input."
   ]
  },
  {
   "cell_type": "code",
   "execution_count": 57,
   "metadata": {
    "collapsed": false
   },
   "outputs": [],
   "source": [
    "import numpy as np\n",
    "def white_chip_prob(n):\n",
    "    list_n = []\n",
    "    i = 0\n",
    "    while i < n+1:  \n",
    "        i+=1\n",
    "        bag = np.random.choice(['black','white'])\n",
    "        white_1_white_bag = 0\n",
    "        white_2_white_bag = 0        \n",
    "        white_1_black_bag = 0\n",
    "        white_2_black_bag = 0\n",
    "        print(bag)\n",
    "        if bag==\"black\":\n",
    "            p_black_bag = 0.5\n",
    "            p_white_bag = 0\n",
    "        else:\n",
    "            p_black_bag = 0\n",
    "            p_white_bag = 0.5\n",
    "\n",
    "        white_1_white_bag = float(p_white_bag)*(2/2)\n",
    "        white_2_white_bag = float(white_1_white_bag)*(1/1)\n",
    "        print(white_1_white_bag)\n",
    "        white_1_black_bag = float(p_black_bag)*(1/2)\n",
    "        white_2_black_bag = 0\n",
    "        print(white_1_black_bag)\n",
    "        p_first_white = float(white_1_white_bag) + float(white_1_black_bag)\n",
    "        p_second_white = float(white_2_white_bag) + float(white_2_black_bag)\n",
    "\n",
    "        if float(p_first_white)>0:\n",
    "            p_second_white_given_first_white = float(p_second_white) / float(p_first_white)\n",
    "            list_n.append(p_second_white_given_first_white)\n",
    "    return(sum(list_n)/n)\n",
    "\n",
    "\n",
    "# def white_chip_prob(n):\n",
    "#     black_start = np.random.choice([0,1])\n",
    "#     if black_start == 1:\n",
    "#         white = 0\n",
    "#         p_white = 0\n",
    "#         p_white2_given_white1 = 1\n",
    "#         while white < n+1:\n",
    "#             white += 1\n",
    "#             total = white + 1\n",
    "#             p_white1 = float(white) / float(total)\n",
    "#             p_white2_given_white1 = p_white2_given_white1 * (float(p_white1) ** 2 )\n",
    "#         p_white = (0.25) * p_white2_given_white1    \n",
    "#     return 0.5 + p_white\n"
   ]
  },
  {
   "cell_type": "markdown",
   "metadata": {},
   "source": [
    "#### 1-B) Simulate this game 5 times. Record your results. What do you conclude about them?"
   ]
  },
  {
   "cell_type": "code",
   "execution_count": 58,
   "metadata": {
    "collapsed": false
   },
   "outputs": [
    {
     "name": "stdout",
     "output_type": "stream",
     "text": [
      "white\n",
      "0.5\n",
      "0.0\n",
      "white\n",
      "0.5\n",
      "0.0\n",
      "black\n",
      "0.0\n",
      "0.0\n",
      "black\n",
      "0.0\n",
      "0.0\n",
      "black\n",
      "0.0\n",
      "0.0\n",
      "white\n",
      "0.5\n",
      "0.0\n"
     ]
    },
    {
     "data": {
      "text/plain": [
       "0.6"
      ]
     },
     "execution_count": 58,
     "metadata": {},
     "output_type": "execute_result"
    }
   ],
   "source": [
    "white_chip_prob(5)"
   ]
  },
  {
   "cell_type": "markdown",
   "metadata": {},
   "source": [
    "#### 1-C) Simulate this game 50 times. Record your results. What do you conclude about them?"
   ]
  },
  {
   "cell_type": "code",
   "execution_count": 50,
   "metadata": {
    "collapsed": false
   },
   "outputs": [
    {
     "data": {
      "text/plain": [
       "0.52"
      ]
     },
     "execution_count": 50,
     "metadata": {},
     "output_type": "execute_result"
    }
   ],
   "source": [
    "white_chip_prob(50)"
   ]
  },
  {
   "cell_type": "markdown",
   "metadata": {},
   "source": [
    "#### 1-D) Simulate this game 50,000 times. Record your results. "
   ]
  },
  {
   "cell_type": "code",
   "execution_count": 53,
   "metadata": {
    "collapsed": false
   },
   "outputs": [
    {
     "data": {
      "text/plain": [
       "0.50068"
      ]
     },
     "execution_count": 53,
     "metadata": {},
     "output_type": "execute_result"
    }
   ],
   "source": [
    "white_chip_prob(50000)"
   ]
  },
  {
   "cell_type": "markdown",
   "metadata": {},
   "source": [
    "#### 1-E) By hand, find the probability that the second chip drawn is white. How does this match up with your answers from 1-B, 1-C, and 1-D?"
   ]
  },
  {
   "cell_type": "code",
   "execution_count": 56,
   "metadata": {
    "collapsed": false
   },
   "outputs": [
    {
     "name": "stdout",
     "output_type": "stream",
     "text": [
      "0.666666666667\n"
     ]
    }
   ],
   "source": [
    "## assuming that you do NOT put the white chip back in the bag after the first pull...\n",
    "\n",
    "## p(bag has black and white chip) = 1/2\n",
    "## p(black bag, white pulled first) = 1/2 * 1/2\n",
    "## p(white is pulled second) = 0\n",
    "\n",
    "## p(bag has 2 white chips) = 1/2\n",
    "## p(white bag, white pulled first) = 1/2 * 1\n",
    "## p(white is pulled second) = 1/2 * 1 * 1\n",
    "\n",
    "## p(white pulled first) = p(white bag, white pulled first) + p(black bag, white pulled first)\n",
    "white_first = 0.25 + 0.5\n",
    "\n",
    "## p(white pulled second) = p(white bag, white pulled second)\n",
    "white_second = 0.5\n",
    "\n",
    "white_second_given_white_first = float(white_second) / float(white_first)\n",
    "print(white_second_given_white_first)"
   ]
  },
  {
   "cell_type": "markdown",
   "metadata": {},
   "source": []
  },
  {
   "cell_type": "markdown",
   "metadata": {},
   "source": [
    "####Problem 2\n",
    "Two players are playing a game where they flip a not necessarily fair coin, starting with Player 1. The first person to flip heads wins. The probability that a coin flipped lands on heads is p. What is the probability that Player 1 will win the game?\n",
    "2-A) Build a function that simulates this game with two inputs: n (the number of times to simulate this game) and p (the probability of flipping heads)."
   ]
  },
  {
   "cell_type": "code",
   "execution_count": null,
   "metadata": {
    "collapsed": true
   },
   "outputs": [],
   "source": []
  }
 ],
 "metadata": {
  "anaconda-cloud": {},
  "kernelspec": {
   "display_name": "Python 2",
   "language": "python",
   "name": "python2"
  },
  "language_info": {
   "codemirror_mode": {
    "name": "ipython",
    "version": 2
   },
   "file_extension": ".py",
   "mimetype": "text/x-python",
   "name": "python",
   "nbconvert_exporter": "python",
   "pygments_lexer": "ipython2",
   "version": "2.7.13"
  }
 },
 "nbformat": 4,
 "nbformat_minor": 1
}
