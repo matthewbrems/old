{
 "cells": [
  {
   "cell_type": "markdown",
   "metadata": {},
   "source": [
    "## Problem 1\n",
    "\n",
    "A bag contains a chip, known to be either white or black. A white chip is put in, the bag is shaken, and a chip is drawn out, which proves to be white. What is now the chance of drawing a white chip?"
   ]
  },
  {
   "cell_type": "markdown",
   "metadata": {},
   "source": [
    "#### 1-A) Build a function that simulates this game n times, where n is some positive integer input."
   ]
  },
  {
   "cell_type": "code",
   "execution_count": 6,
   "metadata": {
    "collapsed": false
   },
   "outputs": [],
   "source": [
    "import numpy as np\n",
    "def white_chip_prob(n):\n",
    "    list_n = []\n",
    "    i = 0\n",
    "    while i < n+1:  \n",
    "        i+=1\n",
    "        bag = np.random.choice(['black','white'])\n",
    "        white_1_white_bag = 0\n",
    "        white_2_white_bag = 0        \n",
    "        white_1_black_bag = 0\n",
    "        white_2_black_bag = 0\n",
    "\n",
    "        if bag==\"black\":\n",
    "            p_black_bag = 0.5\n",
    "            p_white_bag = 0\n",
    "        else:\n",
    "            p_black_bag = 0\n",
    "            p_white_bag = 0.5\n",
    "\n",
    "        white_1_white_bag = float(p_white_bag)*(2/2)\n",
    "        white_2_white_bag = float(white_1_white_bag)*(1/1)\n",
    "\n",
    "        white_1_black_bag = float(p_black_bag)*(1/2)\n",
    "        white_2_black_bag = 0\n",
    "        p_first_white = float(white_1_white_bag) + float(white_1_black_bag)\n",
    "        p_second_white = float(white_2_white_bag) + float(white_2_black_bag)\n",
    "\n",
    "        if float(p_first_white)>0:\n",
    "            p_second_white_given_first_white = float(p_second_white) / float(p_first_white)\n",
    "            list_n.append(p_second_white_given_first_white)\n",
    "    return(float(len(list_n))/n)\n",
    "\n",
    "# brendan:\n",
    "# def chip_game(n):\n",
    "#     white_count = 0\n",
    "#     for game in range(n):\n",
    "#         chip_list = [np.random.randint(0,1), 0]\n",
    "#         chip_list.remove(0)\n",
    "#         if chip_list[0] == 0:\n",
    "#             white_count += 1\n",
    "#     print \"White Count is %s. Black Count is %s.\" % (white_count, n - white_count)\n",
    "\n",
    "# mike salmon:    \n",
    "# def prob_two_whites(num):   #determining the probability of drawing another white chip, given drawing a first white chip\n",
    "#     counter = 0  #counts the number of iterations or games played\n",
    "#     first_white = 0  #counts how many times the first pull was white\n",
    "#     double_white = 0 #counts how many times the second pull was white, if the first was also white\n",
    "#     while counter <= num:    #runs a game until total number of games is reached\n",
    "#         chip_1 = \"white\"    #this is the chip we know is white\n",
    "#         chip_2 = np.random.choice([\"white\",\"black\"])    #chip two has an equal chance of being white or black for each game\n",
    "#         result = np.random.choice([chip_1, chip_2], 2, replace = False) #drawing both chips without replacement\n",
    "#         if result[0] == \"white\":    #if the first chip pulled is white\n",
    "#             first_white += 1        # add one to the first white\n",
    "#             if result[1] == \"white\":    #if the second pull was white, given the first was also white\n",
    "#                 double_white += 1       # add one to double_white\n",
    "#         counter +=1          #add one to the counter\n",
    "#     return (float(double_white)/float(counter))/(float(first_white)/float(counter))\n",
    "# prob_two_whites(50000)"
   ]
  },
  {
   "cell_type": "markdown",
   "metadata": {},
   "source": [
    "#### 1-B) Simulate this game 5 times. Record your results. What do you conclude about them?"
   ]
  },
  {
   "cell_type": "code",
   "execution_count": 168,
   "metadata": {
    "collapsed": false
   },
   "outputs": [
    {
     "data": {
      "text/plain": [
       "0.8"
      ]
     },
     "execution_count": 168,
     "metadata": {},
     "output_type": "execute_result"
    }
   ],
   "source": [
    "white_chip_prob(5)"
   ]
  },
  {
   "cell_type": "markdown",
   "metadata": {},
   "source": [
    "#### 1-C) Simulate this game 50 times. Record your results. What do you conclude about them?"
   ]
  },
  {
   "cell_type": "code",
   "execution_count": 166,
   "metadata": {
    "collapsed": false
   },
   "outputs": [
    {
     "data": {
      "text/plain": [
       "0.54"
      ]
     },
     "execution_count": 166,
     "metadata": {},
     "output_type": "execute_result"
    }
   ],
   "source": [
    "white_chip_prob(50)"
   ]
  },
  {
   "cell_type": "markdown",
   "metadata": {},
   "source": [
    "#### 1-D) Simulate this game 50,000 times. Record your results. "
   ]
  },
  {
   "cell_type": "code",
   "execution_count": 165,
   "metadata": {
    "collapsed": false
   },
   "outputs": [
    {
     "data": {
      "text/plain": [
       "0.50002"
      ]
     },
     "execution_count": 165,
     "metadata": {},
     "output_type": "execute_result"
    }
   ],
   "source": [
    "white_chip_prob(50000)"
   ]
  },
  {
   "cell_type": "markdown",
   "metadata": {},
   "source": [
    "#### 1-E) By hand, find the probability that the second chip drawn is white. How does this match up with your answers from 1-B, 1-C, and 1-D?"
   ]
  },
  {
   "cell_type": "code",
   "execution_count": 169,
   "metadata": {
    "collapsed": false
   },
   "outputs": [
    {
     "name": "stdout",
     "output_type": "stream",
     "text": [
      "0.666666666667\n"
     ]
    }
   ],
   "source": [
    "## assuming that you do NOT put the white chip back in the bag after the first pull...\n",
    "\n",
    "## p(bag has black and white chip) = 1/2\n",
    "## p(black bag, white pulled first) = 1/2 * 1/2\n",
    "## p(white is pulled second) = 0\n",
    "\n",
    "## p(bag has 2 white chips) = 1/2\n",
    "## p(white bag, white pulled first) = 1/2 * 1\n",
    "## p(white is pulled second) = 1/2 * 1 * 1\n",
    "\n",
    "## p(white pulled first) = p(white bag, white pulled first) + p(black bag, white pulled first)\n",
    "white_first = 0.25 + 0.5\n",
    "\n",
    "## p(white pulled second) = p(white bag, white pulled second)\n",
    "white_second = 0.5\n",
    "\n",
    "white_second_given_white_first = float(white_second) / float(white_first)\n",
    "print(white_second_given_white_first)\n"
   ]
  },
  {
   "cell_type": "markdown",
   "metadata": {},
   "source": [
    "This probability is higher, as it is accounting for both possible scenarios. However, the function is explicity determining whether or not the bag has a black chip, so that part of the probability is removed (since it becomes a fact in the random pull).\n",
    "\n",
    "So we're randomly repeating the experiment and will either get that\n",
    "--if it's the black chip bag, the probability of getting the first white is 1/2\n",
    "--if it gets the white, then there's only a black remaining so p(white #2)=0\n",
    "--therefore the probability of getting a second white given that you get the first white is 0 in black chip bag\n",
    "\n",
    "Then the other option is the white chip bag, so first white = 1/2 and second white = 1/2*1, then 1/2 / 1/2 = 1\n",
    "\n",
    "So if we're getting 1s or 0s, it makes sense that the probabilities are averaging to 1/2\n"
   ]
  },
  {
   "cell_type": "markdown",
   "metadata": {},
   "source": []
  },
  {
   "cell_type": "markdown",
   "metadata": {},
   "source": [
    "## Problem 2\n",
    "\n",
    "Two players are playing a game where they flip a not necessarily fair coin, starting with Player 1. The first person to flip heads wins. The probability that a coin flipped lands on heads is p. What is the probability that Player 1 will win the game?\n",
    "\n",
    "#### 2-A) Build a function that simulates this game with two inputs: n (the number of times to simulate this game) and p (the probability of flipping heads)."
   ]
  },
  {
   "cell_type": "code",
   "execution_count": 7,
   "metadata": {
    "collapsed": false
   },
   "outputs": [],
   "source": [
    "import numpy as np\n",
    "def coin_flips(n,p):\n",
    "    p_heads = p\n",
    "    p_tails = 1-p\n",
    "    p1_wins = []\n",
    "    p2_wins = []\n",
    "    i = 1\n",
    "    while i < n+1:\n",
    "        i+=1\n",
    "        winner = 'none'\n",
    "#         flips = 0\n",
    "        while winner=='none':\n",
    "            p1_flip = np.random.uniform(0,1)\n",
    "            p2_flip = np.random.uniform(0,1)\n",
    "#             flips += 1\n",
    "            if float(p1_flip) <= float(p_heads):\n",
    "#                 p1_win = float(p_tails)**(flips-1) * float(p_heads)\n",
    "                p1_wins.append('win')\n",
    "                winner = 'p1'\n",
    "\n",
    "            elif float(p2_flip) <= float(p_heads):\n",
    "#                 p2_win = float(p_tails)**(flips-1) * float(p_heads)\n",
    "                p2_wins.append('win')\n",
    "                winner = 'p2'\n",
    "            \n",
    "            else:\n",
    "                winner = 'none'\n",
    "\n",
    "    print 'Probability that p1 wins: ' + str( round( float(len(p1_wins)) / (n) * 100, 2) ) + '%'\n",
    "    print 'Probability that p2 wins: ' + str( round( float(len(p2_wins)) / (n) * 100, 2) ) + '%'  \n",
    "\n",
    "# troy    \n",
    "# runs experiment n times\n",
    "# while loop flips coin and checks if it is heads or tails\n",
    "# counts number of times loop is run\n",
    "# if flip is heads, breaks loop\n",
    "# use counter to see if player 1 or player 2 was the one who flipped heads\n",
    "# appends winner to empty list\n",
    "# create sublist with just times player 1 won\n",
    "# prob = sublist / winner list\n",
    "\n",
    "# def coin_flip(n,p):\n",
    "#     winners = []\n",
    "#     for i in range(0,n):\n",
    "#         heads = 0\n",
    "#         count = 0\n",
    "#         while heads == 0:\n",
    "#             flip = np.random.uniform(0.0, 1.0)\n",
    "#             if flip < p:\n",
    "#                 heads = 1\n",
    "#             count += 1\n",
    "#         if count % 2 == 0:\n",
    "#             winner = 'Player 2'\n",
    "#         else:\n",
    "#             winner = 'Player 1'\n",
    "#         winners.append(winner)\n",
    "#     player1_wins = [i for i in winners if i == \"Player 1\"]\n",
    "#     p1_prob = float(len(player1_wins)) / len(winners)\n",
    "#     return p1_prob\n",
    "    \n",
    "## rob:    \n",
    "# def f(n):\n",
    "#    games = ['Black' if x==0 else 'White' for x in [random.randint(0,2) for x in range(n)]]  \n",
    "# #Black counter starts at 0; White is for those that are not black for values 1 and 2 in the range    \n",
    "#    whites = float(sum([x=='White' for x in games])) #use float because probaility won't be a decimal    \n",
    "#    black = float(n) - whites  :Black selection probablity less whites\n",
    "#    return whites/n    "
   ]
  },
  {
   "cell_type": "markdown",
   "metadata": {},
   "source": [
    "\n",
    "\n",
    "#### 2-B) Simulate this game 5, 50, and 50,000 times. Record your results and discuss them.\n"
   ]
  },
  {
   "cell_type": "code",
   "execution_count": 151,
   "metadata": {
    "collapsed": false
   },
   "outputs": [
    {
     "name": "stdout",
     "output_type": "stream",
     "text": [
      "Probability that p1 wins: 80.0%\n",
      "Probability that p2 wins: 20.0%\n"
     ]
    }
   ],
   "source": [
    "coin_flips(5,0.6)\n",
    "# Probability that p1 wins: 80.0%\n",
    "# Probability that p2 wins: 20.0%"
   ]
  },
  {
   "cell_type": "code",
   "execution_count": 152,
   "metadata": {
    "collapsed": false
   },
   "outputs": [
    {
     "name": "stdout",
     "output_type": "stream",
     "text": [
      "Probability that p1 wins: 74.0%\n",
      "Probability that p2 wins: 26.0%\n"
     ]
    }
   ],
   "source": [
    "coin_flips(50,0.6)\n",
    "# Probability that p1 wins: 74.0%\n",
    "# Probability that p2 wins: 26.0%"
   ]
  },
  {
   "cell_type": "code",
   "execution_count": 153,
   "metadata": {
    "collapsed": false
   },
   "outputs": [
    {
     "name": "stdout",
     "output_type": "stream",
     "text": [
      "Probability that p1 wins: 71.56%\n",
      "Probability that p2 wins: 28.44%\n"
     ]
    }
   ],
   "source": [
    "coin_flips(50000,0.6)\n",
    "# Probability that p1 wins: 71.62%\n",
    "# Probability that p2 wins: 28.38%"
   ]
  },
  {
   "cell_type": "markdown",
   "metadata": {
    "collapsed": true
   },
   "source": [
    "When the number of simulations is 5, the odds are at the highest in favor of player 1 winning, 80-20. As the number of simulations increases, we see those odds decreasing just a bit closer to 70-30. We get a good idea of how the sample size can affect the outcome."
   ]
  },
  {
   "cell_type": "code",
   "execution_count": null,
   "metadata": {
    "collapsed": true
   },
   "outputs": [],
   "source": []
  }
 ],
 "metadata": {
  "anaconda-cloud": {},
  "kernelspec": {
   "display_name": "Python 2",
   "language": "python",
   "name": "python2"
  },
  "language_info": {
   "codemirror_mode": {
    "name": "ipython",
    "version": 2
   },
   "file_extension": ".py",
   "mimetype": "text/x-python",
   "name": "python",
   "nbconvert_exporter": "python",
   "pygments_lexer": "ipython2",
   "version": "2.7.13"
  }
 },
 "nbformat": 4,
 "nbformat_minor": 1
}
