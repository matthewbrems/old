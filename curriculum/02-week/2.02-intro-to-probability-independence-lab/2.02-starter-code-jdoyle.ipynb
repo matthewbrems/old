{
 "cells": [
  {
   "cell_type": "markdown",
   "metadata": {},
   "source": [
    "## Problem 1\n",
    "\n",
    "A bag contains a chip, known to be either white or black. A white chip is put in, the bag is shaken, and a chip is drawn out, which proves to be white. What is now the chance of drawing a white chip?"
   ]
  },
  {
   "cell_type": "markdown",
   "metadata": {},
   "source": [
    "#### 1-A) Build a function that simulates this game n times, where n is some positive integer input."
   ]
  },
  {
   "cell_type": "code",
   "execution_count": 32,
   "metadata": {
    "collapsed": false
   },
   "outputs": [],
   "source": [
    "import numpy as np\n",
    "def white_chip_prob(n):\n",
    "    list_n = []\n",
    "    i = 0\n",
    "    while i < n+1:  \n",
    "        i+=1\n",
    "        bag = np.random.choice(['black','white'])\n",
    "        white_1_white_bag = 0\n",
    "        white_2_white_bag = 0        \n",
    "        white_1_black_bag = 0\n",
    "        white_2_black_bag = 0\n",
    "\n",
    "        if bag==\"black\":\n",
    "            p_black_bag = 0.5\n",
    "            p_white_bag = 0\n",
    "        else:\n",
    "            p_black_bag = 0\n",
    "            p_white_bag = 0.5\n",
    "\n",
    "        white_1_white_bag = float(p_white_bag)*(2/2)\n",
    "        white_2_white_bag = float(white_1_white_bag)*(1/1)\n",
    "\n",
    "        white_1_black_bag = float(p_black_bag)*(1/2)\n",
    "        white_2_black_bag = 0\n",
    "        p_first_white = float(white_1_white_bag) + float(white_1_black_bag)\n",
    "        p_second_white = float(white_2_white_bag) + float(white_2_black_bag)\n",
    "\n",
    "        if float(p_first_white)>0:\n",
    "            p_second_white_given_first_white = float(p_second_white) / float(p_first_white)\n",
    "            list_n.append(p_second_white_given_first_white)\n",
    "    return(sum(list_n)/n)\n",
    "\n",
    "\n",
    "# def white_chip_prob(n):\n",
    "#     black_start = np.random.choice([0,1])\n",
    "#     if black_start == 1:\n",
    "#         white = 0\n",
    "#         p_white = 0\n",
    "#         p_white2_given_white1 = 1\n",
    "#         while white < n+1:\n",
    "#             white += 1\n",
    "#             total = white + 1\n",
    "#             p_white1 = float(white) / float(total)\n",
    "#             p_white2_given_white1 = p_white2_given_white1 * (float(p_white1) ** 2 )\n",
    "#         p_white = (0.25) * p_white2_given_white1    \n",
    "#     return 0.5 + p_white\n"
   ]
  },
  {
   "cell_type": "markdown",
   "metadata": {},
   "source": [
    "#### 1-B) Simulate this game 5 times. Record your results. What do you conclude about them?"
   ]
  },
  {
   "cell_type": "code",
   "execution_count": 37,
   "metadata": {
    "collapsed": false
   },
   "outputs": [
    {
     "data": {
      "text/plain": [
       "0.4"
      ]
     },
     "execution_count": 37,
     "metadata": {},
     "output_type": "execute_result"
    }
   ],
   "source": [
    "white_chip_prob(5)"
   ]
  },
  {
   "cell_type": "markdown",
   "metadata": {},
   "source": [
    "#### 1-C) Simulate this game 50 times. Record your results. What do you conclude about them?"
   ]
  },
  {
   "cell_type": "code",
   "execution_count": 38,
   "metadata": {
    "collapsed": false
   },
   "outputs": [
    {
     "data": {
      "text/plain": [
       "0.52"
      ]
     },
     "execution_count": 38,
     "metadata": {},
     "output_type": "execute_result"
    }
   ],
   "source": [
    "white_chip_prob(50)"
   ]
  },
  {
   "cell_type": "markdown",
   "metadata": {},
   "source": [
    "#### 1-D) Simulate this game 50,000 times. Record your results. "
   ]
  },
  {
   "cell_type": "code",
   "execution_count": 39,
   "metadata": {
    "collapsed": false
   },
   "outputs": [
    {
     "data": {
      "text/plain": [
       "0.50104"
      ]
     },
     "execution_count": 39,
     "metadata": {},
     "output_type": "execute_result"
    }
   ],
   "source": [
    "white_chip_prob(50000)"
   ]
  },
  {
   "cell_type": "markdown",
   "metadata": {},
   "source": [
    "#### 1-E) By hand, find the probability that the second chip drawn is white. How does this match up with your answers from 1-B, 1-C, and 1-D?"
   ]
  },
  {
   "cell_type": "code",
   "execution_count": 40,
   "metadata": {
    "collapsed": false
   },
   "outputs": [
    {
     "name": "stdout",
     "output_type": "stream",
     "text": [
      "0.666666666667\n"
     ]
    }
   ],
   "source": [
    "## assuming that you do NOT put the white chip back in the bag after the first pull...\n",
    "\n",
    "## p(bag has black and white chip) = 1/2\n",
    "## p(black bag, white pulled first) = 1/2 * 1/2\n",
    "## p(white is pulled second) = 0\n",
    "\n",
    "## p(bag has 2 white chips) = 1/2\n",
    "## p(white bag, white pulled first) = 1/2 * 1\n",
    "## p(white is pulled second) = 1/2 * 1 * 1\n",
    "\n",
    "## p(white pulled first) = p(white bag, white pulled first) + p(black bag, white pulled first)\n",
    "white_first = 0.25 + 0.5\n",
    "\n",
    "## p(white pulled second) = p(white bag, white pulled second)\n",
    "white_second = 0.5\n",
    "\n",
    "white_second_given_white_first = float(white_second) / float(white_first)\n",
    "print(white_second_given_white_first)"
   ]
  },
  {
   "cell_type": "markdown",
   "metadata": {},
   "source": []
  },
  {
   "cell_type": "markdown",
   "metadata": {},
   "source": [
    "## Problem 2\n",
    "\n",
    "Two players are playing a game where they flip a not necessarily fair coin, starting with Player 1. The first person to flip heads wins. The probability that a coin flipped lands on heads is p. What is the probability that Player 1 will win the game?\n",
    "\n",
    "#### 2-A) Build a function that simulates this game with two inputs: n (the number of times to simulate this game) and p (the probability of flipping heads)."
   ]
  },
  {
   "cell_type": "code",
   "execution_count": 22,
   "metadata": {
    "collapsed": false
   },
   "outputs": [],
   "source": [
    "import numpy as np\n",
    "def coin_flips(n,p):\n",
    "    p_heads = p\n",
    "    p_tails = 1-p\n",
    "    p1_wins = []\n",
    "    p2_wins = []\n",
    "    i = 0\n",
    "    while i < n+1:\n",
    "        i+=1\n",
    "        winner = 'none'\n",
    "        while winner=='none':\n",
    "            p1_flip = np.random.uniform(0,1)\n",
    "            p2_flip = np.random.uniform(0,1)\n",
    "        \n",
    "            if float(p1_flip) <= float(p_heads):\n",
    "                p1_win = float(p_tails)**(i-1) * float(p_heads)\n",
    "                p1_wins.append(float(p1_win))\n",
    "                winner = 'p1'\n",
    "\n",
    "            elif float(p2_flip) <= float(p_heads):\n",
    "                p2_win = float(p_tails)**(i-1) * float(p_heads)\n",
    "                p2_wins.append(float(p2_win))\n",
    "                winner = 'p2'\n",
    "            \n",
    "            else:\n",
    "                winner = 'none'\n",
    "\n",
    "    print sum(p1_wins) / n * 100\n",
    "    print sum(p2_wins) / n * 100    "
   ]
  },
  {
   "cell_type": "markdown",
   "metadata": {},
   "source": [
    "#### 2-B) Simulate this game 5, 50, and 50,000 times. Record your results and discuss them.\n"
   ]
  },
  {
   "cell_type": "code",
   "execution_count": 30,
   "metadata": {
    "collapsed": false
   },
   "outputs": [
    {
     "name": "stdout",
     "output_type": "stream",
     "text": [
      "14.9952\n",
      "4.92288\n"
     ]
    }
   ],
   "source": [
    "coin_flips(5,0.6)\n",
    "# 0.1991808"
   ]
  },
  {
   "cell_type": "code",
   "execution_count": 24,
   "metadata": {
    "collapsed": false
   },
   "outputs": [
    {
     "name": "stdout",
     "output_type": "stream",
     "text": [
      "1.44319947056\n",
      "0.556800529438\n"
     ]
    }
   ],
   "source": [
    "coin_flips(50,0.6)\n",
    "# 0.014124257977204686"
   ]
  },
  {
   "cell_type": "code",
   "execution_count": 26,
   "metadata": {
    "collapsed": false
   },
   "outputs": [
    {
     "name": "stdout",
     "output_type": "stream",
     "text": [
      "0.000674930800387\n",
      "0.00132506919961\n"
     ]
    }
   ],
   "source": [
    "coin_flips(50000,0.6)"
   ]
  },
  {
   "cell_type": "code",
   "execution_count": null,
   "metadata": {
    "collapsed": true
   },
   "outputs": [],
   "source": []
  }
 ],
 "metadata": {
  "anaconda-cloud": {},
  "kernelspec": {
   "display_name": "Python 2",
   "language": "python",
   "name": "python2"
  },
  "language_info": {
   "codemirror_mode": {
    "name": "ipython",
    "version": 2
   },
   "file_extension": ".py",
   "mimetype": "text/x-python",
   "name": "python",
   "nbconvert_exporter": "python",
   "pygments_lexer": "ipython2",
   "version": "2.7.13"
  }
 },
 "nbformat": 4,
 "nbformat_minor": 1
}
