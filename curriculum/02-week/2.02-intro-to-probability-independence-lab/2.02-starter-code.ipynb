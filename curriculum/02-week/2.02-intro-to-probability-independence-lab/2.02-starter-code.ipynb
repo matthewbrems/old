
{
 "cells": [
  {
   "cell_type": "markdown",
   "metadata": {},
   "source": [
    "## Problem 1\n",
    "\n",
    "A bag contains a chip, known to be either white or black. A white chip is put in, the bag is shaken, and a chip is drawn out, which proves to be white. What is now the chance of drawing a white chip?"
   ]
  },
  {
   "cell_type": "markdown",
   "metadata": {},
   "source": [
    "#### 1-A) Build a function that simulates this game n times, where n is some positive integer input."
   ]
  },
  {
   "cell_type": "code",
   "execution_count": 56,
   "metadata": {
    "collapsed": false
   },
   "outputs": [],
   "source": [
    "def chip_game(n): ## Defines the chip game with n games as input.\n",
    "    import numpy as np ## must import numpy\n",
    "    results = []\n",
    "    count = 1 ## counter to ensure we're getting n games where our first pull is always white\n",
    "    while count < n: ## \n",
    "        bag = ['white'] ## put the white chip in the bag\n",
    "        bag.append(np.random.choice(['white','black'])) ## put a white or black chip in, not sure which\n",
    "        first_chip = np.random.choice([0,1]) ## identifies which chip we're going to pull\n",
    "        if bag[first_chip] == 'white': ## if the first chip is white...\n",
    "            bag.pop(first_chip) ## remove that chip from the bag\n",
    "            results.append(bag) ## append the remaining chip to results\n",
    "            count += 1 ## add to counter (so we're only counting games when the first chip is white)\n",
    "    return float(results.count(['white'])) / len(results) ## returns percent of second white chips"
   ]
  },
  {
   "cell_type": "code",
   "execution_count": 57,
   "metadata": {
    "collapsed": false
   },
   "outputs": [
    {
     "data": {
      "text/plain": [
       "0.6670366703667037"
      ]
     },
     "execution_count": 57,
     "metadata": {},
     "output_type": "execute_result"
    }
   ],
   "source": [
    "chip_game(100000)"
   ]
  },
  {
   "cell_type": "markdown",
   "metadata": {},
   "source": [
    "#### 1-B) Simulate this game 5 times. Record your results. What do you conclude about them?"
   ]
  },
  {
   "cell_type": "code",
   "execution_count": null,
   "metadata": {
    "collapsed": true
   },
   "outputs": [],
   "source": []
  },
  {
   "cell_type": "markdown",
   "metadata": {},
   "source": [
    "#### 1-C) Simulate this game 50 times. Record your results. What do you conclude about them?"
   ]
  },
  {
   "cell_type": "code",
   "execution_count": null,
   "metadata": {
    "collapsed": true
   },
   "outputs": [],
   "source": []
  },
  {
   "cell_type": "markdown",
   "metadata": {},
   "source": [
    "#### 1-D) Simulate this game 50,000 times. Record your results. "
   ]
  },
  {
   "cell_type": "code",
   "execution_count": null,
   "metadata": {
    "collapsed": true
   },
   "outputs": [],
   "source": []
  },
  {
   "cell_type": "markdown",
   "metadata": {},
   "source": [
    "#### 1-E) By hand, find the probability that the second chip drawn is white. How does this match up with your answers from 1-B, 1-C, and 1-D?"
   ]
  },
  {
   "cell_type": "code",
   "execution_count": null,
   "metadata": {
    "collapsed": true
   },
   "outputs": [],
   "source": []
  },
  {
   "cell_type": "markdown",
   "metadata": {},
   "source": [
    "## Problem 2\n",
    "\n",
    "Two players are playing a game where they flip a *not necessarily fair* coin, starting with Player 1. The first person to flip heads wins. The probability that a coin flipped lands on heads is p. What is the probability that Player 1 will win the game?"
   ]
  },
  {
   "cell_type": "markdown",
   "metadata": {},
   "source": [
    "#### 2-A) Build a function that simulates this game with two inputs: n (the number of times to simulate this game) and p (the probability of flipping heads)."
   ]
  },
  {
   "cell_type": "code",
   "execution_count": 40,
   "metadata": {
    "collapsed": false
   },
   "outputs": [],
   "source": [
    "def coin_game(n,p): ## Defines a coin game with input n (number of games) and p (probability of heads).\n",
    "    import numpy as np ## must import numpy\n",
    "    results = []\n",
    "    for i in range(n): ## Run the game n times.\n",
    "        turn_counter = 1 ## Turn counter identifies which turn it is. If odd, it's player 1. If even, player 2.\n",
    "        heads = False ## We haven't had a heads yet, so set this to false.\n",
    "        while heads == False: ## Run the game over and over while heads is false (a.k.a. until heads is True).\n",
    "            flip_coin = np.random.uniform(0,1,1) ## Generate one random number between 0 and 1.\n",
    "            if flip_coin > p: ## If the number is above p, that signals tails...\n",
    "                turn_counter += 1 ## ...so we pass the coin to the next player.\n",
    "            else: ## If the number is at or below p, this signals a heads!\n",
    "                heads = True ## ... so let's set heads to be True! This will break the while loop above.\n",
    "        if turn_counter % 2 != 0: ## If the number of turns is even, player 1 wins. Append player 1 to results.\n",
    "            results.append(\"Player 1\")\n",
    "        else: ## If the number of turns is odd, player 2 wins. Append player 2 to results.\n",
    "            results.append(\"Player 2\")\n",
    "    return float(results.count(\"Player 1\")) / len(results) ## Return percent of games player 1 wins."
   ]
  },
  {
   "cell_type": "markdown",
   "metadata": {},
   "source": [
    "#### 2-B) Simulate this game 5, 50, and 50,000 times. Record your results and discuss them."
   ]
  },
  {
   "cell_type": "code",
   "execution_count": 41,
   "metadata": {
    "collapsed": false
   },
   "outputs": [
    {
     "data": {
      "text/plain": [
       "0.4"
      ]
     },
     "execution_count": 41,
     "metadata": {},
     "output_type": "execute_result"
    }
   ],
   "source": [
    "coin_game(5,0.5)"
   ]
  },
  {
   "cell_type": "code",
   "execution_count": 42,
   "metadata": {
    "collapsed": false
   },
   "outputs": [
    {
     "data": {
      "text/plain": [
       "0.72"
      ]
     },
     "execution_count": 42,
     "metadata": {},
     "output_type": "execute_result"
    }
   ],
   "source": [
    "coin_game(50,0.5)"
   ]
  },
  {
   "cell_type": "code",
   "execution_count": 43,
   "metadata": {
    "collapsed": false
   },
   "outputs": [
    {
     "data": {
      "text/plain": [
       "0.6651"
      ]
     },
     "execution_count": 43,
     "metadata": {},
     "output_type": "execute_result"
    }
   ],
   "source": [
    "coin_game(50000,0.5)"
   ]
  },
  {
   "cell_type": "code",
   "execution_count": 48,
   "metadata": {
    "collapsed": false
   },
   "outputs": [
    {
     "data": {
      "text/plain": [
       "0.52236"
      ]
     },
     "execution_count": 48,
     "metadata": {},
     "output_type": "execute_result"
    }
   ],
   "source": [
    "coin_game(50000,0.1)"
   ]
  }
 ],
 "metadata": {
  "anaconda-cloud": {},
  "kernelspec": {
   "display_name": "Python 2",
   "language": "python",
   "name": "python2"
  },
  "language_info": {
   "codemirror_mode": {
    "name": "ipython",
    "version": 2
   },
   "file_extension": ".py",
   "mimetype": "text/x-python",
   "name": "python",
   "nbconvert_exporter": "python",
   "pygments_lexer": "ipython2",
   "version": "2.7.13"
  }
 },
 "nbformat": 4,
 "nbformat_minor": 1
}















