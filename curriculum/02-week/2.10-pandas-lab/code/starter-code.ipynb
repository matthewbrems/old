{
 "cells": [
  {
   "cell_type": "markdown",
   "metadata": {},
   "source": [
    "## Pandas Data Manipulation Lab\n",
    "\n",
    "This lab is intentionally open-ended, and you're encouraged to answer your own inquisitivities about the dataset.\n",
    "\n",
    "#### Lab Summary\n",
    "\n",
    "On next week's episode of the 'Are You Entertained?' podcast, we're going to be analyzing the latest generation's guilty pleasure- the music of the '00s. Our Data Scientists have poured through Billboard chart data to analyze what made a hit soar to the top of the charts, and how long they stayed there. Tune in next week for an awesome exploration of music and data as we continue to address an omnipresent question in the industry- why do we like what we like?\n",
    "\n",
    "You must provide, at least, a markdown cell explaining your key learnings about top hits: what are they, what common themes are there, is there a trend among artists (type of music)?\n",
    "\n",
    "#### Minimum Requirements\n",
    "\n",
    "At a minimum, you must:\n",
    "\n",
    "- Use Pandas to read in your data\n",
    "- Rename column names where appropriate\n",
    "- Describe your data: check the value counts and descriptive statistics\n",
    "- Make use of groupby statements\n",
    "- Utilize Boolean sorting\n",
    "- Assess the validity of your data (missing data, distributions?)\n",
    "\n",
    "At a maximum, you should strive:\n",
    "\n",
    "- Produce a blog-post ready description of your lab\n",
    "- State your assumptions about the data\n",
    "- Describe limitations\n",
    "- Consider how you can action this from a stakeholder perspective (radio, record label, fan)\n",
    "- Include visualization* (tomorrow will help)"
   ]
  }
 ],
 "metadata": {
  "kernelspec": {
   "display_name": "Python [Root]",
   "language": "python",
   "name": "Python [Root]"
  },
  "language_info": {
   "codemirror_mode": {
    "name": "ipython",
    "version": 2
   },
   "file_extension": ".py",
   "mimetype": "text/x-python",
   "name": "python",
   "nbconvert_exporter": "python",
   "pygments_lexer": "ipython2",
   "version": "2.7.12"
  }
 },
 "nbformat": 4,
 "nbformat_minor": 0
}
