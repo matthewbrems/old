{
 "cells": [
  {
   "cell_type": "markdown",
   "metadata": {},
   "source": [
    "# Monty Hall\n",
    "\n",
    "If you've ever heard of the \"Monty Hall Problem,\" it is a famous problem in statistics based on the game show \"Let's Make a Deal.\" (Monty Hall was the original host of this game show.) If you haven't heard of this game show, no worries.\n",
    "\n",
    "As part of \"Let's Make a Deal,\" there are three doors labeled \"A,\" \"B,\" and \"C.\" You are the contestant and are informed that behind exactly one door, there is a new car. Behind the other two doors are goats. Obviously, your goal as the contestant is to select the door with the car.\n",
    "\n",
    "The game goes as follows:\n",
    "1. You select a door.\n",
    "2. The game show host, knowing which door hides the car, opens one of the doors you do not select to reveal a goat. (Important: If you selected a door with a goat, the host picks the other door with a goat. If you started by selecting the door with the car, the host picks from the remaining two doors at random.)\n",
    "3. The host then asks you if you would like to stick with the door you originally picked, or if you would want to switch to the other remaining door."
   ]
  },
  {
   "cell_type": "markdown",
   "metadata": {},
   "source": [
    "Question 1: Suppose you pick a door. The host opens one of the remaining doors. You are then asked to stick with your original door or to switch to the remaining door. Based on your intuition, is it more advantageous to stick with your original door, to switch to the remaining door, or does your probability of success not change?"
   ]
  },
  {
   "cell_type": "code",
   "execution_count": null,
   "metadata": {
    "collapsed": true
   },
   "outputs": [],
   "source": [
    "## Answer 1:\n",
    "# Initially, I didn't think there would be that much more advantageous \n",
    "# to switch to the remaining door, but after class conversation, \n",
    "# I realize how it can be\n"
   ]
  },
  {
   "cell_type": "markdown",
   "metadata": {},
   "source": [
    "Now let's apply some Bayesian reasoning to this problem. Recall that the formula for Bayes' Rule, as applied to some data $y$ and an unknown parameter $\\theta$, is:\n",
    "\n",
    "$$P(\\theta|y) = \\frac{P(y|\\theta)P(\\theta)}{P(y)}$$\n",
    "\n",
    "Further recall that:\n",
    "- $P(\\theta)$ is the **prior probability** of $\\theta$.\n",
    "- $P(y|\\theta)$ is the **likelihood** of our data $y$ given $\\theta$.\n",
    "- $P(y)$ is the **marginal likelihood** of our data $y$.\n",
    "\n",
    "Our strategy here will be to find $P(\\theta|y)$ for $\\theta=A,B,C$ and decide which probability is highest."
   ]
  },
  {
   "cell_type": "markdown",
   "metadata": {},
   "source": [
    "For these scenarios, the data $y$ is that the host selects door B *and* that door B does not contain the car."
   ]
  },
  {
   "cell_type": "markdown",
   "metadata": {},
   "source": [
    "Question 2: Suppose you pick door A. The host opens door B to reveal a goat.\n",
    "\n",
    "For $P(\\theta=A|y=B)$, identify the prior $P(\\theta=A)$, the likelihood $P(y=B|\\theta=A)$, and the marginal likelihood $P(y=B)$. Then calculate the posterior $P(\\theta=A|y=B)$."
   ]
  },
  {
   "cell_type": "code",
   "execution_count": 18,
   "metadata": {
    "collapsed": false
   },
   "outputs": [
    {
     "name": "stdout",
     "output_type": "stream",
     "text": [
      "0.3333\n"
     ]
    }
   ],
   "source": [
    "## Answer 2:\n",
    "\n",
    "prior_A = float(0.3333)\n",
    "\n",
    "likelihood = float(0.5) # prob of Monty choosing door B given that contestant chose door A\n",
    "\n",
    "marginal_likelihood = float(0.5) # since the contestant has already picked a door, the probability of the door B having a car is 1/2\n",
    "\n",
    "posterior = (float(likelihood) * float(prior_A)) /  float(marginal_likelihood)\n",
    "\n",
    "print(posterior)\n",
    "\n",
    "\n",
    "\n",
    "\n"
   ]
  },
  {
   "cell_type": "markdown",
   "metadata": {},
   "source": [
    "Question 3: Is this surprising? Why or why not?"
   ]
  },
  {
   "cell_type": "markdown",
   "metadata": {
    "collapsed": true
   },
   "source": [
    "Answer 3: \n",
    "\n",
    "This is not surprising because it's more likely that you'd chose a goat door (2/3), and then Monty will open the other goat door and the remaining will be the car. Choosing the car on the first try is just lower odds"
   ]
  },
  {
   "cell_type": "markdown",
   "metadata": {},
   "source": [
    "Question 4: Suppose you pick door A. The host opens door B to reveal a goat.\n",
    "\n",
    "For $P(\\theta=B|y=B)$, identify the prior $P(\\theta=B)$, the likelihood $P(y=B|\\theta=B)$, and the marginal likelihood $P(y=B)$. Then calculate the posterior $P(\\theta=B|y=B)$."
   ]
  },
  {
   "cell_type": "code",
   "execution_count": 35,
   "metadata": {
    "collapsed": false
   },
   "outputs": [
    {
     "name": "stdout",
     "output_type": "stream",
     "text": [
      "0.0\n"
     ]
    }
   ],
   "source": [
    "## Answer 4:\n",
    "\n",
    "\n",
    "prior_B = float(0.3333)\n",
    "\n",
    "likelihood = float(0) # prob of Monty choosing door B given that contestant chose door A\n",
    "\n",
    "marginal_likelihood = float(0.5) # since the contestant has already picked a door, the probability of the door B having a car is 1/2\n",
    "\n",
    "posterior = (float(likelihood) * float(prior_B)) /  float(marginal_likelihood)\n",
    "\n",
    "print(posterior)\n"
   ]
  },
  {
   "cell_type": "markdown",
   "metadata": {},
   "source": [
    "Question 5: Is this surprising? Why or why not?\n"
   ]
  },
  {
   "cell_type": "code",
   "execution_count": 36,
   "metadata": {
    "collapsed": false
   },
   "outputs": [],
   "source": [
    "## Answer 5: \n",
    "# Not surprising, because it's judging whether Monty opens door B given that the contestant chose door B/"
   ]
  },
  {
   "cell_type": "markdown",
   "metadata": {},
   "source": [
    "Question 6: Suppose you pick door A. The host opens door B to reveal a goat.\n",
    "\n",
    "For $P(\\theta=C|y)$, identify the prior $P(\\theta=C)$, the likelihood $P(y|\\theta=C)$, and the marginal likelihood $P(y)$. Then calculate the posterior $P(\\theta=C|y)$."
   ]
  },
  {
   "cell_type": "code",
   "execution_count": 39,
   "metadata": {
    "collapsed": false
   },
   "outputs": [
    {
     "name": "stdout",
     "output_type": "stream",
     "text": [
      "0.3333\n"
     ]
    }
   ],
   "source": [
    "## Answer 6:\n",
    "prior_C = float(0.3333)\n",
    "\n",
    "likelihood = float(0.5) # prob of Monty choosing door C given that contestant chose door A\n",
    "\n",
    "marginal_likelihood = float(0.5) # since the contestant has already picked a door, the probability of the door B having a car is 1/2\n",
    "\n",
    "posterior = (float(likelihood) * float(prior_C)) /  float(marginal_likelihood)\n",
    "\n",
    "print(posterior)"
   ]
  },
  {
   "cell_type": "markdown",
   "metadata": {},
   "source": [
    "Question 7: Is this surprising? Why or why not?"
   ]
  },
  {
   "cell_type": "code",
   "execution_count": null,
   "metadata": {
    "collapsed": true
   },
   "outputs": [],
   "source": [
    "## Answer 7: Not surprising because Monty won't be choosing door C "
   ]
  },
  {
   "cell_type": "markdown",
   "metadata": {},
   "source": [
    "Question 8: Build a function called lets_make_a_deal that runs the Let's Make a Deal game by taking:\n",
    "- 'A', 'B', or 'C' as the input for the door\n",
    "- 'K' or 'S' as the input indicating \"keep\" or \"switch\" when asked\n",
    "\n",
    "The function should return:\n",
    "- 'win' if the contestant won.\n",
    "- 'lose' if the contestant lost.\n",
    "\n",
    "Note that you'll need to make sure that, before anything else, the computer selects a random entry."
   ]
  },
  {
   "cell_type": "code",
   "execution_count": 33,
   "metadata": {
    "collapsed": false
   },
   "outputs": [],
   "source": [
    "## Answer 8: \n",
    "import numpy as np\n",
    "\n",
    "def lets_make_a_deal(door,action):\n",
    "    result = 'none'\n",
    "    car_door = np.random.choice(['A','B','C'])\n",
    "    if door==car_door:\n",
    "        if action=='keep':\n",
    "            result = 'win'\n",
    "        elif action=='switch':\n",
    "            result = 'lose'\n",
    "    else:\n",
    "        if action=='keep':\n",
    "            result = 'lose'\n",
    "        elif action=='switch':\n",
    "            result = 'win'\n",
    "    return result\n"
   ]
  },
  {
   "cell_type": "markdown",
   "metadata": {},
   "source": [
    "Question 9: Simulate 10,000 games where the person always switched. Report your results."
   ]
  },
  {
   "cell_type": "code",
   "execution_count": 29,
   "metadata": {
    "collapsed": false
   },
   "outputs": [
    {
     "name": "stdout",
     "output_type": "stream",
     "text": [
      "P(win) = 67.1%\n",
      "P(lose) = 32.91%\n"
     ]
    }
   ],
   "source": [
    "## Answer 9:\n",
    "\n",
    "def lets_make_a_deal_sim(door,action,n):\n",
    "    i=0\n",
    "    results = []\n",
    "    result = 'none'\n",
    "    while i < n+1:\n",
    "        i+=1\n",
    "        car_door = np.random.choice(['A','B','C'])\n",
    "        if door==car_door:\n",
    "            if action=='keep':\n",
    "                result = 'win'\n",
    "            elif action=='switch':\n",
    "                result = 'lose'\n",
    "        else:\n",
    "            if action=='keep':\n",
    "                result = 'lose'\n",
    "            elif action=='switch':\n",
    "                result = 'win'\n",
    "        results.append(result)\n",
    "    wins = 0\n",
    "    losses = 0\n",
    "    for result in results:\n",
    "        if result == 'win':\n",
    "            wins += 1\n",
    "        elif result == 'lose':\n",
    "            losses += 1\n",
    "    p_win = float(wins) / n\n",
    "    p_lose = float(losses) / n\n",
    "    print 'P(win) = ' + str(float(p_win)*100) + '%'\n",
    "    print 'P(lose) = ' + str(float(p_lose)*100) + '%'\n",
    "\n",
    "lets_make_a_deal_sim('A','switch',10000)"
   ]
  },
  {
   "cell_type": "code",
   "execution_count": null,
   "metadata": {
    "collapsed": true
   },
   "outputs": [],
   "source": []
  }
 ],
 "metadata": {
  "anaconda-cloud": {},
  "kernelspec": {
   "display_name": "Python 2",
   "language": "python",
   "name": "python2"
  },
  "language_info": {
   "codemirror_mode": {
    "name": "ipython",
    "version": 2
   },
   "file_extension": ".py",
   "mimetype": "text/x-python",
   "name": "python",
   "nbconvert_exporter": "python",
   "pygments_lexer": "ipython2",
   "version": "2.7.13"
  }
 },
 "nbformat": 4,
 "nbformat_minor": 1
}
