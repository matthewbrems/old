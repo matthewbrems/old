{
 "cells": [
  {
   "cell_type": "markdown",
   "metadata": {},
   "source": [
    "## Inferential statistics lab"
   ]
  },
  {
   "cell_type": "markdown",
   "metadata": {},
   "source": [
    "It might be a good idea to first check the [source of the Boston housing data](https://archive.ics.uci.edu/ml/datasets/Housing). "
   ]
  },
  {
   "cell_type": "markdown",
   "metadata": {},
   "source": [
    "We've saved the data for you in a file named \"housing.data\". Load it in using any method you choose."
   ]
  },
  {
   "cell_type": "code",
   "execution_count": 2,
   "metadata": {
    "collapsed": false
   },
   "outputs": [
    {
     "data": {
      "text/html": [
       "<div>\n",
       "<table border=\"1\" class=\"dataframe\">\n",
       "  <thead>\n",
       "    <tr style=\"text-align: right;\">\n",
       "      <th></th>\n",
       "      <th>CRIM</th>\n",
       "      <th>ZN</th>\n",
       "      <th>INDUS</th>\n",
       "      <th>CHAS</th>\n",
       "      <th>NOX</th>\n",
       "      <th>RM</th>\n",
       "      <th>AGE</th>\n",
       "      <th>DIS</th>\n",
       "      <th>RAD</th>\n",
       "      <th>TAX</th>\n",
       "      <th>PTRATIO</th>\n",
       "      <th>B</th>\n",
       "      <th>LSTAT</th>\n",
       "      <th>MEDV</th>\n",
       "    </tr>\n",
       "  </thead>\n",
       "  <tbody>\n",
       "    <tr>\n",
       "      <th>0</th>\n",
       "      <td>0.00632</td>\n",
       "      <td>18.0</td>\n",
       "      <td>2.31</td>\n",
       "      <td>0</td>\n",
       "      <td>0.538</td>\n",
       "      <td>6.575</td>\n",
       "      <td>65.2</td>\n",
       "      <td>4.0900</td>\n",
       "      <td>1</td>\n",
       "      <td>296.0</td>\n",
       "      <td>15.3</td>\n",
       "      <td>396.90</td>\n",
       "      <td>4.98</td>\n",
       "      <td>24.0</td>\n",
       "    </tr>\n",
       "    <tr>\n",
       "      <th>1</th>\n",
       "      <td>0.02731</td>\n",
       "      <td>0.0</td>\n",
       "      <td>7.07</td>\n",
       "      <td>0</td>\n",
       "      <td>0.469</td>\n",
       "      <td>6.421</td>\n",
       "      <td>78.9</td>\n",
       "      <td>4.9671</td>\n",
       "      <td>2</td>\n",
       "      <td>242.0</td>\n",
       "      <td>17.8</td>\n",
       "      <td>396.90</td>\n",
       "      <td>9.14</td>\n",
       "      <td>21.6</td>\n",
       "    </tr>\n",
       "    <tr>\n",
       "      <th>2</th>\n",
       "      <td>0.02729</td>\n",
       "      <td>0.0</td>\n",
       "      <td>7.07</td>\n",
       "      <td>0</td>\n",
       "      <td>0.469</td>\n",
       "      <td>7.185</td>\n",
       "      <td>61.1</td>\n",
       "      <td>4.9671</td>\n",
       "      <td>2</td>\n",
       "      <td>242.0</td>\n",
       "      <td>17.8</td>\n",
       "      <td>392.83</td>\n",
       "      <td>4.03</td>\n",
       "      <td>34.7</td>\n",
       "    </tr>\n",
       "    <tr>\n",
       "      <th>3</th>\n",
       "      <td>0.03237</td>\n",
       "      <td>0.0</td>\n",
       "      <td>2.18</td>\n",
       "      <td>0</td>\n",
       "      <td>0.458</td>\n",
       "      <td>6.998</td>\n",
       "      <td>45.8</td>\n",
       "      <td>6.0622</td>\n",
       "      <td>3</td>\n",
       "      <td>222.0</td>\n",
       "      <td>18.7</td>\n",
       "      <td>394.63</td>\n",
       "      <td>2.94</td>\n",
       "      <td>33.4</td>\n",
       "    </tr>\n",
       "    <tr>\n",
       "      <th>4</th>\n",
       "      <td>0.06905</td>\n",
       "      <td>0.0</td>\n",
       "      <td>2.18</td>\n",
       "      <td>0</td>\n",
       "      <td>0.458</td>\n",
       "      <td>7.147</td>\n",
       "      <td>54.2</td>\n",
       "      <td>6.0622</td>\n",
       "      <td>3</td>\n",
       "      <td>222.0</td>\n",
       "      <td>18.7</td>\n",
       "      <td>396.90</td>\n",
       "      <td>5.33</td>\n",
       "      <td>36.2</td>\n",
       "    </tr>\n",
       "  </tbody>\n",
       "</table>\n",
       "</div>"
      ],
      "text/plain": [
       "      CRIM    ZN  INDUS  CHAS    NOX     RM   AGE     DIS  RAD    TAX  \\\n",
       "0  0.00632  18.0   2.31     0  0.538  6.575  65.2  4.0900    1  296.0   \n",
       "1  0.02731   0.0   7.07     0  0.469  6.421  78.9  4.9671    2  242.0   \n",
       "2  0.02729   0.0   7.07     0  0.469  7.185  61.1  4.9671    2  242.0   \n",
       "3  0.03237   0.0   2.18     0  0.458  6.998  45.8  6.0622    3  222.0   \n",
       "4  0.06905   0.0   2.18     0  0.458  7.147  54.2  6.0622    3  222.0   \n",
       "\n",
       "   PTRATIO       B  LSTAT  MEDV  \n",
       "0     15.3  396.90   4.98  24.0  \n",
       "1     17.8  396.90   9.14  21.6  \n",
       "2     17.8  392.83   4.03  34.7  \n",
       "3     18.7  394.63   2.94  33.4  \n",
       "4     18.7  396.90   5.33  36.2  "
      ]
     },
     "execution_count": 2,
     "metadata": {},
     "output_type": "execute_result"
    }
   ],
   "source": [
    "## i'm going to load this in with pandas for ease of reading\n",
    "\n",
    "import pandas as pd #first import pandas as pd\n",
    "\n",
    "##i know that the data doesn't have headers, so i'm going to create a list of column names to add to the dataframe\n",
    "names = [\"CRIM\", \"ZN\", \"INDUS\", \"CHAS\", \"NOX\", \"RM\", \"AGE\", \"DIS\", \"RAD\", \"TAX\", \"PTRATIO\", \"B\", \"LSTAT\", \"MEDV\"]\n",
    "\n",
    "#then i'm going to read in the data delimiting on any whitespace\n",
    "#i'm specifying that i don't want any of the existing rows to be headers, but i DO want my list of column names to be the headers\n",
    "#which pandas lets you do with a simple declaration\n",
    "data = pd.read_csv(\"./housing.data\", header=None, names=names, delim_whitespace=True)\n",
    "\n",
    "#we can now use the .head() method to look at the first few rows of the dataframe and make sure everything looks okay\n",
    "data.head()"
   ]
  },
  {
   "cell_type": "markdown",
   "metadata": {
    "collapsed": false
   },
   "source": [
    "Exercise 1: Conduct a brief integrity check of your data. This integrity check should include, but is not limited to, checking for missing values and making sure all values make logical sense. (i.e. Is one variable a percentage, but there are observations above 100%?)\n",
    "Summarize your findings in a few sentences, including what you checked and, if appropriate, any steps you took to rectify potential integrity issues."
   ]
  },
  {
   "cell_type": "code",
   "execution_count": 7,
   "metadata": {
    "collapsed": false
   },
   "outputs": [],
   "source": [
    "#here's a short version of one of the functions i use for EDA:\n",
    "\n",
    "def eda(dataframe):\n",
    "    print \"missing values \\n\", dataframe.isnull().sum() #this is to check if there are any null values in the dataframe\n",
    "    print \"dataframe types \\n\", dataframe.dtypes #this is to look at what kind of datatypes each column contains\n",
    "    print \"dataframe describe \\n\", dataframe.describe() #and this looks at EVERYTHING from mean, std, min, max, etc. etc. \n",
    "    for item in dataframe: #and this runs through every single column in the dataframe \n",
    "        print item         #prints out the column name\n",
    "        print dataframe[item].nunique() #and then prints out how many unique items (non-repeated items) each column contains"
   ]
  },
  {
   "cell_type": "code",
   "execution_count": 8,
   "metadata": {
    "collapsed": false
   },
   "outputs": [
    {
     "name": "stdout",
     "output_type": "stream",
     "text": [
      "missing values \n",
      "CRIM       0\n",
      "ZN         0\n",
      "INDUS      0\n",
      "CHAS       0\n",
      "NOX        0\n",
      "RM         0\n",
      "AGE        0\n",
      "DIS        0\n",
      "RAD        0\n",
      "TAX        0\n",
      "PTRATIO    0\n",
      "B          0\n",
      "LSTAT      0\n",
      "MEDV       0\n",
      "dtype: int64\n",
      "dataframe types \n",
      "CRIM       float64\n",
      "ZN         float64\n",
      "INDUS      float64\n",
      "CHAS         int64\n",
      "NOX        float64\n",
      "RM         float64\n",
      "AGE        float64\n",
      "DIS        float64\n",
      "RAD          int64\n",
      "TAX        float64\n",
      "PTRATIO    float64\n",
      "B          float64\n",
      "LSTAT      float64\n",
      "MEDV       float64\n",
      "dtype: object\n",
      "dataframe describe \n",
      "             CRIM          ZN       INDUS        CHAS         NOX          RM  \\\n",
      "count  506.000000  506.000000  506.000000  506.000000  506.000000  506.000000   \n",
      "mean     3.613524   11.363636   11.136779    0.069170    0.554695    6.284634   \n",
      "std      8.601545   23.322453    6.860353    0.253994    0.115878    0.702617   \n",
      "min      0.006320    0.000000    0.460000    0.000000    0.385000    3.561000   \n",
      "25%      0.082045    0.000000    5.190000    0.000000    0.449000    5.885500   \n",
      "50%      0.256510    0.000000    9.690000    0.000000    0.538000    6.208500   \n",
      "75%      3.677082   12.500000   18.100000    0.000000    0.624000    6.623500   \n",
      "max     88.976200  100.000000   27.740000    1.000000    0.871000    8.780000   \n",
      "\n",
      "              AGE         DIS         RAD         TAX     PTRATIO           B  \\\n",
      "count  506.000000  506.000000  506.000000  506.000000  506.000000  506.000000   \n",
      "mean    68.574901    3.795043    9.549407  408.237154   18.455534  356.674032   \n",
      "std     28.148861    2.105710    8.707259  168.537116    2.164946   91.294864   \n",
      "min      2.900000    1.129600    1.000000  187.000000   12.600000    0.320000   \n",
      "25%     45.025000    2.100175    4.000000  279.000000   17.400000  375.377500   \n",
      "50%     77.500000    3.207450    5.000000  330.000000   19.050000  391.440000   \n",
      "75%     94.075000    5.188425   24.000000  666.000000   20.200000  396.225000   \n",
      "max    100.000000   12.126500   24.000000  711.000000   22.000000  396.900000   \n",
      "\n",
      "            LSTAT        MEDV  \n",
      "count  506.000000  506.000000  \n",
      "mean    12.653063   22.532806  \n",
      "std      7.141062    9.197104  \n",
      "min      1.730000    5.000000  \n",
      "25%      6.950000   17.025000  \n",
      "50%     11.360000   21.200000  \n",
      "75%     16.955000   25.000000  \n",
      "max     37.970000   50.000000  \n",
      "CRIM\n",
      "504\n",
      "ZN\n",
      "26\n",
      "INDUS\n",
      "76\n",
      "CHAS\n",
      "2\n",
      "NOX\n",
      "81\n",
      "RM\n",
      "446\n",
      "AGE\n",
      "356\n",
      "DIS\n",
      "412\n",
      "RAD\n",
      "9\n",
      "TAX\n",
      "66\n",
      "PTRATIO\n",
      "46\n",
      "B\n",
      "357\n",
      "LSTAT\n",
      "455\n",
      "MEDV\n",
      "229\n"
     ]
    }
   ],
   "source": [
    "eda(data)"
   ]
  },
  {
   "cell_type": "markdown",
   "metadata": {},
   "source": [
    "Exercise 2: For what two attributes does it make the least sense to calculate mean and median? Why?"
   ]
  },
  {
   "cell_type": "code",
   "execution_count": 9,
   "metadata": {
    "collapsed": true
   },
   "outputs": [],
   "source": [
    "## The dummy variable CHAS and the categorical variable RAD. CHAS is a dummy (categorical) variable that \n",
    "## makes no sense quantitatively. RAD is a variable that indexes the distance to highways. It has many low \n",
    "## values and, after a large gap, has higher values. It stands to reason that this is not a \"true\"\n",
    "## quantitative variable in the sense that the difference between RAD = 1 and RAD = 2 may not be the same\n",
    "## as the difference between RAD = 2 and RAD = 3."
   ]
  },
  {
   "cell_type": "markdown",
   "metadata": {},
   "source": [
    "Exercise 3: Find the mean, standard deviation, and the standard error of the mean for variable 'AGE.'"
   ]
  },
  {
   "cell_type": "code",
   "execution_count": 10,
   "metadata": {
    "collapsed": false
   },
   "outputs": [
    {
     "name": "stdout",
     "output_type": "stream",
     "text": [
      "The mean is 68.5749011858.\n",
      "The standard deviation is 28.1210325702.\n",
      "The standard error of the mean is 1.25136952526.\n"
     ]
    }
   ],
   "source": [
    "import numpy as np\n",
    "\n",
    "print \"The mean is \" + str(np.mean(data['AGE'])) + \".\"\n",
    "print \"The standard deviation is \" + str(np.std(data['AGE'])) + \".\"\n",
    "print \"The standard error of the mean is \" + str(np.std(data['AGE'],ddof = 1)/(len(data['AGE']))**0.5) + \".\""
   ]
  },
  {
   "cell_type": "markdown",
   "metadata": {},
   "source": [
    "Exercise 4: Generate a 90%, 95%, and 99% confidence interval for 'AGE'. Do at least one of these manually (i.e. by plugging in the appropriate parts) and at least one of these using a function from scipy.stats. Interpret the results from all three confidence intervals."
   ]
  },
  {
   "cell_type": "code",
   "execution_count": 11,
   "metadata": {
    "collapsed": false
   },
   "outputs": [
    {
     "name": "stdout",
     "output_type": "stream",
     "text": [
      "We are 90% confident that the true mean value for 'AGE' is between 66.512798667 and 70.6370037045 years of age.\n",
      "We are 95% confident that the true mean value for 'AGE' is between 66.1163697185 and 71.033432653 years of age.\n"
     ]
    }
   ],
   "source": [
    "from scipy.stats import t\n",
    "\n",
    "t_interval_90 = t.interval(0.9,\n",
    "                           len(data['AGE'])-1,\n",
    "                           loc=np.mean(data['AGE']),\n",
    "                           scale=np.std(data['AGE'],ddof = 1)/(len(data['AGE']))**0.5)\n",
    "\n",
    "print \"We are 90% confident that the true mean value for 'AGE' is between \" + str(t_interval_90[0]) + \" and \" + str(t_interval_90[1]) + \" years of age.\"\n",
    "\n",
    "t_interval_95 = t.interval(0.95,\n",
    "                           len(data['AGE'])-1,\n",
    "                           loc=np.mean(data['AGE']),\n",
    "                           scale=np.std(data['AGE'],ddof = 1)/(len(data['AGE']))**0.5)\n",
    "\n",
    "print \"We are 95% confident that the true mean value for 'AGE' is between \" + str(t_interval_95[0]) + \" and \" + str(t_interval_95[1]) + \" years of age.\""
   ]
  },
  {
   "cell_type": "code",
   "execution_count": 12,
   "metadata": {
    "collapsed": true
   },
   "outputs": [],
   "source": [
    "## Recall that a 99% t confidence interval will be of the form\n",
    "## (x-bar - t * s/sqrt(n), x-bar + t * s/sqrt(n))\n",
    "## where t is the critical t-value with 506 degrees of freedom\n",
    "## and for 99% confidence.\n",
    "\n",
    "critical_t = t.ppf(0.995,506) # This pulls the critical value for 99.5%, which is appropriate."
   ]
  },
  {
   "cell_type": "markdown",
   "metadata": {},
   "source": [
    "Exercise 5: For variable 'NOX', generate a 95% confidence interval and interpret it."
   ]
  },
  {
   "cell_type": "code",
   "execution_count": 13,
   "metadata": {
    "collapsed": false
   },
   "outputs": [
    {
     "name": "stdout",
     "output_type": "stream",
     "text": [
      "We are 95% confident that the true mean value for 'NOX' is between 0.544574262292 and 0.564815856285.\n"
     ]
    }
   ],
   "source": [
    "t_interval_95 = t.interval(0.95,\n",
    "                           len(data['NOX'])-1,\n",
    "                           loc=np.mean(data['NOX']),\n",
    "                           scale=np.std(data['NOX'],ddof = 1)/(len(data['NOX']))**0.5)\n",
    "\n",
    "print \"We are 95% confident that the true mean value for 'NOX' is between \" + str(t_interval_95[0]) + \" and \" + str(t_interval_95[1]) + \".\""
   ]
  },
  {
   "cell_type": "markdown",
   "metadata": {},
   "source": [
    "Exercise 6: For the variable 'NOX', find the median."
   ]
  },
  {
   "cell_type": "code",
   "execution_count": 14,
   "metadata": {
    "collapsed": false
   },
   "outputs": [
    {
     "data": {
      "text/plain": [
       "0.53800000000000003"
      ]
     },
     "execution_count": 14,
     "metadata": {},
     "output_type": "execute_result"
    }
   ],
   "source": [
    "np.median(data['NOX'])"
   ]
  },
  {
   "cell_type": "markdown",
   "metadata": {},
   "source": [
    "Exercise 7: For the variable 'NOX', test the hypothesis that the mean is equal to the median. You may use scipy functions to complete this, but complete all steps - define hypotheses, etc. Let alpha = 0.05. Interpret your results."
   ]
  },
  {
   "cell_type": "code",
   "execution_count": 15,
   "metadata": {
    "collapsed": false
   },
   "outputs": [
    {
     "name": "stdout",
     "output_type": "stream",
     "text": [
      "Our sample mean is 0.554695059289.\n",
      "Our t-statistic is 3.24088371678.\n",
      "Our p-value is 0.00127005273618.\n",
      "We reject our null hypothesis and conclude that the true mean NOX value is different from the median NOX value.\n"
     ]
    }
   ],
   "source": [
    "## Step 1: Define hypotheses.\n",
    "### H_0: mu_NOX = M_NOX\n",
    "### H_A: mu_NOX != M_NOX\n",
    "\n",
    "## Step 2: alpha = 0.05.\n",
    "alpha = 0.05\n",
    "\n",
    "## Step 3: Calculate point estimate.\n",
    "sample_mean = np.mean(data['NOX'])\n",
    "\n",
    "## Step 4: Calculate test statistic.\n",
    "t_statistic = (sample_mean - np.median(data['NOX']))/(np.std(data['NOX'], ddof=1)/len(data['NOX'])**0.5)\n",
    "\n",
    "## Step 5: Find p-value.\n",
    "p_value = t.sf(np.abs(t_statistic), len(data['NOX'])) * 2 \n",
    "## Because our alternative hypothesis is != (rather than greater than or less than),\n",
    "## we multiply our p-value by 2. (This is called a two-sided test.)\n",
    "\n",
    "print \"Our sample mean is \" + str(sample_mean) + \".\"\n",
    "print \"Our t-statistic is \" + str(t_statistic) + \".\"\n",
    "print \"Our p-value is \" + str(p_value) + \".\"\n",
    "\n",
    "if p_value < alpha:\n",
    "    print \"We reject our null hypothesis and conclude that the true mean NOX value is different from the median NOX value.\"\n",
    "elif p_value > alpha:\n",
    "    print \"We fail to reject our null hypothesis and cannot conclude that the true mean NOX value is different from the median .\"\n",
    "else:\n",
    "    print \"Our test is inconclusive.\""
   ]
  },
  {
   "cell_type": "markdown",
   "metadata": {},
   "source": [
    "Exercise 8: What do you notice about the results from Exercise 5 through Exercise 7? If you were going to generalize this to the relationship between hypothesis tests and confidence intervals, what might you say? Be specific."
   ]
  },
  {
   "cell_type": "code",
   "execution_count": 16,
   "metadata": {
    "collapsed": true
   },
   "outputs": [],
   "source": [
    "## When we calculated the median, it was 0.538. The 95% confidence interval for our\n",
    "## mean contained 0.545 through 0.565. Since the median was outside our 95%\n",
    "## confidence interval, this suggests that the true mean would not be equal to our\n",
    "## median.\n",
    "\n",
    "## We then conducted the hypothesis test and found that, at the alpha = 0.05\n",
    "## significance level, we rejected the hypothesis that the mean and median were\n",
    "## equal.\n",
    "\n",
    "## The results of our hypothesis test and confidence interval are in agreement\n",
    "## here. Because our significance level (for HT) is alpha, as long as our \n",
    "## confidence level (for CI) is 1 - alpha, the results should be in agreement.\n",
    "## That is, if the value of interest does not lie in our 1 - alpha CI, then\n",
    "## testing the hypothesis that the parameter equals the value of interest\n",
    "## should be rejected at the alpha significance level. Similarly, if the value\n",
    "## of interest *does* lie in our 1 - alpha CI, then testing the hypothesis that\n",
    "## the parameter equals the value of interest should *not* be rejected at the\n",
    "## alpha significance level."
   ]
  },
  {
   "cell_type": "markdown",
   "metadata": {},
   "source": [
    "Exercise 9: For the variable 'NOX', test the hypothesis that the mean is greater than or equal to the median. You may use scipy functions to complete this, but complete all steps - define hypotheses, etc. Let alpha = 0.05. Interpret your results."
   ]
  },
  {
   "cell_type": "code",
   "execution_count": 17,
   "metadata": {
    "collapsed": false
   },
   "outputs": [
    {
     "name": "stdout",
     "output_type": "stream",
     "text": [
      "Our sample mean is 0.554695059289.\n",
      "Our t-statistic is 3.24088371678.\n",
      "Our p-value is 0.00063502636809.\n",
      "We reject our null hypothesis and conclude that the true mean NOX value is different from the median NOX value.\n"
     ]
    }
   ],
   "source": [
    "## Step 1: Define hypotheses.\n",
    "### H_0: mu_NOX >= M_NOX\n",
    "### H_A: mu_NOX < M_NOX\n",
    "\n",
    "## Step 2: alpha = 0.05.\n",
    "alpha = 0.05\n",
    "\n",
    "## Step 3: Calculate point estimate.\n",
    "sample_mean = np.mean(data['NOX'])\n",
    "\n",
    "## Step 4: Calculate test statistic.\n",
    "t_statistic = (sample_mean - np.median(data['NOX']))/(np.std(data['NOX'], ddof=1)/len(data['NOX'])**0.5)\n",
    "\n",
    "## Step 5: Find p-value.\n",
    "p_value = t.sf(np.abs(t_statistic), len(data['NOX']))\n",
    "## Because our alternative hypothesis is < (rather than equal to),\n",
    "## we DO NOT multiply our p-value by 2. (This is called a one-sided test.)\n",
    "\n",
    "print \"Our sample mean is \" + str(sample_mean) + \".\"\n",
    "print \"Our t-statistic is \" + str(t_statistic) + \".\"\n",
    "print \"Our p-value is \" + str(p_value) + \".\"\n",
    "\n",
    "if p_value < alpha:\n",
    "    print \"We reject our null hypothesis and conclude that the true mean NOX value is different from the median NOX value.\"\n",
    "elif p_value > alpha:\n",
    "    print \"We fail to reject our null hypothesis and cannot conclude that the true mean NOX value is different from the median .\"\n",
    "else:\n",
    "    print \"Our test is inconclusive.\""
   ]
  },
  {
   "cell_type": "markdown",
   "metadata": {},
   "source": [
    "Exercise 10: Compare the p-values from Exercise 7 and Exercise 9. What do you notice?"
   ]
  },
  {
   "cell_type": "code",
   "execution_count": 18,
   "metadata": {
    "collapsed": true
   },
   "outputs": [],
   "source": [
    "## The p-value in Exercise 6 is exactly double the p-value in Exercise 8, by construction.\n",
    "## This is because of the fact that our alternative hypotheses are different. In Exercise\n",
    "## 6, we can reject the null hypothesis for very large values of mu or very small values\n",
    "## of mu. Because this is a two-sided test, we double our p-value. In Exercise 8, we can\n",
    "## reject the null hypothesis for very small values of mu *but* cannot reject the null\n",
    "## hypothesis for very large values of mu. Because we can only reject on one side, we\n",
    "## call this a one-sided test. Due to the fact that this is a one-sided test, we do not\n",
    "## need to double our p-value."
   ]
  }
 ],
 "metadata": {
  "anaconda-cloud": {},
  "kernelspec": {
   "display_name": "Python [conda root]",
   "language": "python",
   "name": "conda-root-py"
  },
  "language_info": {
   "codemirror_mode": {
    "name": "ipython",
    "version": 2
   },
   "file_extension": ".py",
   "mimetype": "text/x-python",
   "name": "python",
   "nbconvert_exporter": "python",
   "pygments_lexer": "ipython2",
   "version": "2.7.13"
  }
 },
 "nbformat": 4,
 "nbformat_minor": 1
}
