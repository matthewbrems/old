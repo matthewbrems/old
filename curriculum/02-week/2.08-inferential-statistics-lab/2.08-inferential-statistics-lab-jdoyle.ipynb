{
 "cells": [
  {
   "cell_type": "markdown",
   "metadata": {},
   "source": [
    "## Inferential statistics lab"
   ]
  },
  {
   "cell_type": "markdown",
   "metadata": {},
   "source": [
    "It might be a good idea to first check the [source of the Boston housing data](https://archive.ics.uci.edu/ml/datasets/Housing). "
   ]
  },
  {
   "cell_type": "markdown",
   "metadata": {},
   "source": [
    "We've saved the data for you in a file named \"housing.data\". Load it in using any method you choose."
   ]
  },
  {
   "cell_type": "code",
   "execution_count": 3,
   "metadata": {
    "collapsed": false
   },
   "outputs": [],
   "source": [
    "import csv\n",
    "data = []\n",
    "with open('housing.data') as f:\n",
    "    reader = csv.reader(f, delimiter=\"\\t\")\n",
    "    for row in reader:\n",
    "        data.append(map(float, row[0].split()))\n",
    "    data = list(data)"
   ]
  },
  {
   "cell_type": "code",
   "execution_count": 4,
   "metadata": {
    "collapsed": false
   },
   "outputs": [],
   "source": [
    "# housing_data = {\n",
    "#                 'CRIM' : [row[0] for row in data],\n",
    "#                 'ZN' : [row[1] for row in data],\n",
    "#                 'INDUS' : [row[2] for row in data],\n",
    "#                 'CHAS' : [row[3] for row in data],\n",
    "#                 'NOX' : [row[4] for row in data],\n",
    "#                 'RM' : [row[5] for row in data],\n",
    "#                 'AGE' : [row[6] for row in data],\n",
    "#                 'DIS' : [row[7] for row in data],\n",
    "#                 'RAD' : [row[8] for row in data],\n",
    "#                 'TAX' : [row[9] for row in data],\n",
    "#                 'PTRATIO' : [row[10] for row in data],\n",
    "#                 'B' : [row[11] for row in data],\n",
    "#                 'LSTAT' : [row[12] for row in data],\n",
    "#                 'MEDV' : [row[13] for row in data]\n",
    "#                }\n",
    "#### MORE EFFICIENT from brian:\n",
    "# headers = 'CRIM,ZN,INDUS,CHAS,NOX,RM,AGE,DIS,RAD,TAX,PTRATIO,B,LSTAT,MEDV'\n",
    "# headers = headers.split(',')\n",
    "# data = {}\n",
    "# for i,header in enumerate(headers):\n",
    "#     data[header] = [row[i] for row in rows] \n",
    "\n",
    "# for i in housing_data:\n",
    "#     housing_data[i] = [x/100 if i in ['ZN','INDUS','AGE','LSTAT'] else x for x in housing_data[i] ]\n",
    "#     print i + ' ' + str(max(housing_data[i]))\n",
    "# print housing_data\n",
    "\n",
    "import pandas as pd\n",
    "df = pd.DataFrame(data)\n",
    "housing_data = df.apply(pd.to_numeric)\n",
    "\n",
    "  "
   ]
  },
  {
   "cell_type": "markdown",
   "metadata": {
    "collapsed": false
   },
   "source": [
    "Exercise 1: Conduct a brief integrity check of your data. This integrity check should include, but is not limited to, checking for missing values and making sure all values make logical sense. (i.e. Is one variable a percentage, but there are observations above 100%?)\n",
    "Summarize your findings in a few sentences, including what you checked and, if appropriate, any steps you took to rectify potential integrity issues."
   ]
  },
  {
   "cell_type": "markdown",
   "metadata": {
    "collapsed": false
   },
   "source": [
    "When I loaded the data, I noticed that the values weren't comma separated, but tab delimited. I had to account for that when creating the array. \n",
    "\n",
    "Also, there were a few columns that were described as proportions but listed as integers instead of their decimal representations. All of those columns were converted to decimals to be 0-1 instead of 0-100"
   ]
  },
  {
   "cell_type": "markdown",
   "metadata": {},
   "source": [
    "Exercise 2: For what two attributes does it make the least sense to calculate mean and median? Why?"
   ]
  },
  {
   "cell_type": "markdown",
   "metadata": {
    "collapsed": true
   },
   "source": [
    "CHAS      Charles River dummy variable (= 1 if tract bounds \n",
    "                  river; 0 otherwise)\n",
    "RAD       index of accessibility to radial highways\n",
    "\n",
    "CHAS is either 0 or 1, so it would be silly to calculate a mean and median. \n",
    "We do not know how the RAD index is assigned, so it wouldn't make sense to find the average index.\n",
    "\n"
   ]
  },
  {
   "cell_type": "markdown",
   "metadata": {},
   "source": [
    "Exercise 3: Find the mean, standard deviation, and the standard error of the mean for variable 'AGE.'"
   ]
  },
  {
   "cell_type": "code",
   "execution_count": 16,
   "metadata": {
    "collapsed": false
   },
   "outputs": [
    {
     "name": "stdout",
     "output_type": "stream",
     "text": [
      "68.5749011858\n",
      "28.1210325702\n",
      "1.25136952526\n"
     ]
    }
   ],
   "source": [
    "import scipy\n",
    "import numpy as np\n",
    "from scipy import stats\n",
    "\n",
    "age = housing_data[6]\n",
    "\n",
    "mean_age = np.mean(age)\n",
    "std_dev_age = np.std(age)\n",
    "std_error_age = scipy.stats.sem(age)\n",
    "\n",
    "print mean_age\n",
    "print std_dev_age\n",
    "print std_error_age\n"
   ]
  },
  {
   "cell_type": "markdown",
   "metadata": {},
   "source": [
    "Exercise 4: Generate a 90%, 95%, and 99% confidence interval for 'AGE'. Do at least one of these manually (i.e. by plugging in the appropriate parts) and at least one of these using a function from scipy.stats. Interpret the results from all three confidence intervals."
   ]
  },
  {
   "cell_type": "code",
   "execution_count": 17,
   "metadata": {
    "collapsed": false
   },
   "outputs": [
    {
     "name": "stdout",
     "output_type": "stream",
     "text": [
      "(66.516398316720867, 70.633404054820701)\n",
      "(66.124686740030128, 71.02511563151144)\n",
      "(65.354773561436559, 71.795028810105009)\n"
     ]
    }
   ],
   "source": [
    "## manual -- 90% CI\n",
    "multiplier = 1.645\n",
    "\n",
    "conf_int_low = mean_age - (multiplier * std_error_age)\n",
    "conf_int_high = mean_age + (multiplier * std_error_age)\n",
    "\n",
    "print (conf_int_low, conf_int_high)\n",
    "## (0.66516398316720848, 0.70633404054820659)\n",
    "## We can be 90% certain that the true mean age is between (0.66516398316720848, 0.70633404054820659)\n",
    "\n",
    "import math\n",
    "N = len(age)\n",
    "sigma = std_dev_age\n",
    "\n",
    "conf_int_95 = stats.norm.interval(.95, \n",
    "                               loc=mean_age, \n",
    "                               scale=sigma / (math.sqrt(N)))\n",
    "\n",
    "print conf_int_95\n",
    "\n",
    "## We can be 95% sure that the true mean age is \n",
    "## between(0.66124686740030103, 0.71025115631511404)\n",
    "\n",
    "conf_int_99 = stats.norm.interval(.99, \n",
    "                               loc=mean_age, \n",
    "\n",
    "                               scale=sigma / (math.sqrt(N)))\n",
    "print conf_int_99\n",
    "\n",
    "## We can be 99% sure that the true mean age is \n",
    "## between (0.6535477356143653, 0.71795028810104977)\n",
    "\n"
   ]
  },
  {
   "cell_type": "markdown",
   "metadata": {},
   "source": [
    "Exercise 5: For variable 'NOX', generate a 95% confidence interval and interpret it."
   ]
  },
  {
   "cell_type": "code",
   "execution_count": 7,
   "metadata": {
    "collapsed": false
   },
   "outputs": [
    {
     "name": "stdout",
     "output_type": "stream",
     "text": [
      "(0.54460850016434248, 0.564781618412732)\n"
     ]
    }
   ],
   "source": [
    "nox = housing_data[4]\n",
    "N_nox = len(nox)\n",
    "sigma_nox = np.std(nox)\n",
    "mean_nox = np.mean(nox)\n",
    "\n",
    "conf_int = stats.norm.interval(.95, \n",
    "                               loc=mean_nox, \n",
    "                               scale=sigma_nox / (math.sqrt(N_nox)))\n",
    "print conf_int\n",
    "\n",
    "## We can be 95% sure that the true average NOX is \n",
    "## between (0.54460850016434292, 0.56478161841273222)"
   ]
  },
  {
   "cell_type": "markdown",
   "metadata": {},
   "source": [
    "Exercise 6: For the variable 'NOX', find the median."
   ]
  },
  {
   "cell_type": "code",
   "execution_count": 19,
   "metadata": {
    "collapsed": false
   },
   "outputs": [
    {
     "name": "stdout",
     "output_type": "stream",
     "text": [
      "0.538\n"
     ]
    }
   ],
   "source": [
    "median_nox = np.median(housing_data[4])\n",
    "\n",
    "print median_nox\n",
    "\n",
    "## 0.538"
   ]
  },
  {
   "cell_type": "markdown",
   "metadata": {},
   "source": [
    "Exercise 7: For the variable 'NOX', test the hypothesis that the mean is equal to the median. You may use scipy functions to complete this, but complete all steps - define hypotheses, etc. Let alpha = 0.05. Interpret your results."
   ]
  },
  {
   "cell_type": "code",
   "execution_count": 9,
   "metadata": {
    "collapsed": false
   },
   "outputs": [
    {
     "name": "stdout",
     "output_type": "stream",
     "text": [
      "Ttest_1sampResult(statistic=3.2408837167794102, pvalue=0.0012702109998191441)\n",
      "True\n"
     ]
    }
   ],
   "source": [
    "# H_0: mean_nox != median_nox\n",
    "# H_1: mean_nox = median_nox\n",
    "alpha = 0.05\n",
    "\n",
    "ttest_result = stats.ttest_1samp(nox,median_nox)\n",
    "print ttest_result\n",
    "\n",
    "\n",
    "# Ttest_1sampResult(statistic=3.2408837167794102, pvalue=0.0012702109998191441)\n",
    "pvalue = 0.0012702109998191441\n",
    "tstat = 3.2408837167794102\n",
    "print pvalue < alpha\n",
    "\n",
    "## The pvalue is less than alpha = 0.05 so we can \n",
    "## reject the null hypothesis and accept our assertion that the median = mean\n",
    "\n"
   ]
  },
  {
   "cell_type": "markdown",
   "metadata": {},
   "source": [
    "Exercise 8: What do you notice about the results from Exercise 5 through Exercise 7? If you were going to generalize this to the relationship between hypothesis tests and confidence intervals, what might you say? Be specific."
   ]
  },
  {
   "cell_type": "markdown",
   "metadata": {
    "collapsed": true
   },
   "source": [
    "We can note that they have an inverse relationship--while for example, a confidence test could be trying to find a range which they are 90% confident the true mean exists within, a hypothesis test would try to prove that the mean exists outside of that range ie under 10%"
   ]
  },
  {
   "cell_type": "markdown",
   "metadata": {},
   "source": [
    "Exercise 9: For the variable 'NOX', test the hypothesis that the mean is greater than or equal to the median. You may use scipy functions to complete this, but complete all steps - define hypotheses, etc. Let alpha = 0.05. Interpret your results."
   ]
  },
  {
   "cell_type": "code",
   "execution_count": 13,
   "metadata": {
    "collapsed": false
   },
   "outputs": [
    {
     "name": "stdout",
     "output_type": "stream",
     "text": [
      "True\n"
     ]
    }
   ],
   "source": [
    "## H_0: mean_nox < median_nox\n",
    "## H_!: mean_nox >= median_nox\n",
    "alpha = 0.05\n",
    "\n",
    "ttest_result = stats.ttest_1samp(nox,median_nox)\n",
    "\n",
    "## We can use the same ttest_result as above, \n",
    "## but since we are testing that the mean is greater than or equal to the median, \n",
    "## we can take pvalue/2 and check that pvalue/2 < alpha \n",
    "## and that the tstat > 0. \n",
    "## note for self:: less-than test - check that p/2 < alpha and t < 0.\n",
    "\n",
    "pvalue = 0.0012702109998191441\n",
    "tstat = 3.2408837167794102\n",
    "print pvalue / 2 < alpha and tstat > 0 \n",
    "# True!! We can reject the null hypothesis \n",
    "# and accept our hypothesis that the mean is greater than or equal to the median"
   ]
  },
  {
   "cell_type": "raw",
   "metadata": {},
   "source": [
    "Exercise 10: Compare the p-values from Exercise 7 and Exercise 9. What do you notice?"
   ]
  },
  {
   "cell_type": "markdown",
   "metadata": {
    "collapsed": true
   },
   "source": [
    "The pvalue in #9 is half of the pvalue in #7 due to the two tail test in #7 vs the one tail test in #9"
   ]
  },
  {
   "cell_type": "code",
   "execution_count": null,
   "metadata": {
    "collapsed": true
   },
   "outputs": [],
   "source": []
  }
 ],
 "metadata": {
  "anaconda-cloud": {},
  "kernelspec": {
   "display_name": "Python 2",
   "language": "python",
   "name": "python2"
  },
  "language_info": {
   "codemirror_mode": {
    "name": "ipython",
    "version": 2
   },
   "file_extension": ".py",
   "mimetype": "text/x-python",
   "name": "python",
   "nbconvert_exporter": "python",
   "pygments_lexer": "ipython2",
   "version": "2.7.13"
  }
 },
 "nbformat": 4,
 "nbformat_minor": 1
}
