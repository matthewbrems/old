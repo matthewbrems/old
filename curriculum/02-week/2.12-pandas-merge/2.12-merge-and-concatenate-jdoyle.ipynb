{
 "cells": [
  {
   "cell_type": "code",
   "execution_count": 1,
   "metadata": {
    "collapsed": true
   },
   "outputs": [],
   "source": [
    "import pandas as pd"
   ]
  },
  {
   "cell_type": "markdown",
   "metadata": {},
   "source": [
    "<img src='http://media4.s-nbcnews.com/j/newscms/2016_36/1685951/ss-160826-twip-05_8cf6d4cb83758449fd400c7c3d71aa1f.nbcnews-ux-2880-1000.jpg'>"
   ]
  },
  {
   "cell_type": "code",
   "execution_count": 2,
   "metadata": {
    "collapsed": true
   },
   "outputs": [],
   "source": [
    "#read in a file\n",
    "states = pd.read_csv('https://raw.githubusercontent.com/plotly/datasets/master/2014_usa_states.csv')"
   ]
  },
  {
   "cell_type": "code",
   "execution_count": 3,
   "metadata": {
    "collapsed": false
   },
   "outputs": [
    {
     "data": {
      "text/html": [
       "<div>\n",
       "<table border=\"1\" class=\"dataframe\">\n",
       "  <thead>\n",
       "    <tr style=\"text-align: right;\">\n",
       "      <th></th>\n",
       "      <th>rank</th>\n",
       "      <th>state</th>\n",
       "      <th>postal</th>\n",
       "      <th>pop</th>\n",
       "    </tr>\n",
       "  </thead>\n",
       "  <tbody>\n",
       "    <tr>\n",
       "      <th>0</th>\n",
       "      <td>1</td>\n",
       "      <td>Alabama</td>\n",
       "      <td>AL</td>\n",
       "      <td>4849377.0</td>\n",
       "    </tr>\n",
       "    <tr>\n",
       "      <th>1</th>\n",
       "      <td>2</td>\n",
       "      <td>Alaska</td>\n",
       "      <td>AK</td>\n",
       "      <td>736732.0</td>\n",
       "    </tr>\n",
       "    <tr>\n",
       "      <th>2</th>\n",
       "      <td>3</td>\n",
       "      <td>Arizona</td>\n",
       "      <td>AZ</td>\n",
       "      <td>6731484.0</td>\n",
       "    </tr>\n",
       "    <tr>\n",
       "      <th>3</th>\n",
       "      <td>4</td>\n",
       "      <td>Arkansas</td>\n",
       "      <td>AR</td>\n",
       "      <td>2966369.0</td>\n",
       "    </tr>\n",
       "    <tr>\n",
       "      <th>4</th>\n",
       "      <td>5</td>\n",
       "      <td>California</td>\n",
       "      <td>CA</td>\n",
       "      <td>38802500.0</td>\n",
       "    </tr>\n",
       "  </tbody>\n",
       "</table>\n",
       "</div>"
      ],
      "text/plain": [
       "   rank       state postal         pop\n",
       "0     1     Alabama     AL   4849377.0\n",
       "1     2      Alaska     AK    736732.0\n",
       "2     3     Arizona     AZ   6731484.0\n",
       "3     4    Arkansas     AR   2966369.0\n",
       "4     5  California     CA  38802500.0"
      ]
     },
     "execution_count": 3,
     "metadata": {},
     "output_type": "execute_result"
    }
   ],
   "source": [
    "states.head()"
   ]
  },
  {
   "cell_type": "code",
   "execution_count": 4,
   "metadata": {
    "collapsed": false
   },
   "outputs": [],
   "source": [
    "#read in another file\n",
    "airports = pd.read_csv('https://raw.githubusercontent.com/plotly/datasets/master/2011_february_us_airport_traffic.csv')"
   ]
  },
  {
   "cell_type": "code",
   "execution_count": 5,
   "metadata": {
    "collapsed": false
   },
   "outputs": [
    {
     "data": {
      "text/html": [
       "<div>\n",
       "<table border=\"1\" class=\"dataframe\">\n",
       "  <thead>\n",
       "    <tr style=\"text-align: right;\">\n",
       "      <th></th>\n",
       "      <th>iata</th>\n",
       "      <th>airport</th>\n",
       "      <th>city</th>\n",
       "      <th>state</th>\n",
       "      <th>country</th>\n",
       "      <th>lat</th>\n",
       "      <th>long</th>\n",
       "      <th>cnt</th>\n",
       "    </tr>\n",
       "  </thead>\n",
       "  <tbody>\n",
       "    <tr>\n",
       "      <th>0</th>\n",
       "      <td>ORD</td>\n",
       "      <td>Chicago O'Hare International</td>\n",
       "      <td>Chicago</td>\n",
       "      <td>IL</td>\n",
       "      <td>USA</td>\n",
       "      <td>41.979595</td>\n",
       "      <td>-87.904464</td>\n",
       "      <td>25129</td>\n",
       "    </tr>\n",
       "    <tr>\n",
       "      <th>1</th>\n",
       "      <td>ATL</td>\n",
       "      <td>William B Hartsfield-Atlanta Intl</td>\n",
       "      <td>Atlanta</td>\n",
       "      <td>GA</td>\n",
       "      <td>USA</td>\n",
       "      <td>33.640444</td>\n",
       "      <td>-84.426944</td>\n",
       "      <td>21925</td>\n",
       "    </tr>\n",
       "    <tr>\n",
       "      <th>2</th>\n",
       "      <td>DFW</td>\n",
       "      <td>Dallas-Fort Worth International</td>\n",
       "      <td>Dallas-Fort Worth</td>\n",
       "      <td>TX</td>\n",
       "      <td>USA</td>\n",
       "      <td>32.895951</td>\n",
       "      <td>-97.037200</td>\n",
       "      <td>20662</td>\n",
       "    </tr>\n",
       "    <tr>\n",
       "      <th>3</th>\n",
       "      <td>PHX</td>\n",
       "      <td>Phoenix Sky Harbor International</td>\n",
       "      <td>Phoenix</td>\n",
       "      <td>AZ</td>\n",
       "      <td>USA</td>\n",
       "      <td>33.434167</td>\n",
       "      <td>-112.008056</td>\n",
       "      <td>17290</td>\n",
       "    </tr>\n",
       "    <tr>\n",
       "      <th>4</th>\n",
       "      <td>DEN</td>\n",
       "      <td>Denver Intl</td>\n",
       "      <td>Denver</td>\n",
       "      <td>CO</td>\n",
       "      <td>USA</td>\n",
       "      <td>39.858408</td>\n",
       "      <td>-104.667002</td>\n",
       "      <td>13781</td>\n",
       "    </tr>\n",
       "  </tbody>\n",
       "</table>\n",
       "</div>"
      ],
      "text/plain": [
       "  iata                            airport               city state country  \\\n",
       "0  ORD       Chicago O'Hare International            Chicago    IL     USA   \n",
       "1  ATL  William B Hartsfield-Atlanta Intl            Atlanta    GA     USA   \n",
       "2  DFW    Dallas-Fort Worth International  Dallas-Fort Worth    TX     USA   \n",
       "3  PHX   Phoenix Sky Harbor International            Phoenix    AZ     USA   \n",
       "4  DEN                        Denver Intl             Denver    CO     USA   \n",
       "\n",
       "         lat        long    cnt  \n",
       "0  41.979595  -87.904464  25129  \n",
       "1  33.640444  -84.426944  21925  \n",
       "2  32.895951  -97.037200  20662  \n",
       "3  33.434167 -112.008056  17290  \n",
       "4  39.858408 -104.667002  13781  "
      ]
     },
     "execution_count": 5,
     "metadata": {},
     "output_type": "execute_result"
    }
   ],
   "source": [
    "airports.head()"
   ]
  },
  {
   "cell_type": "code",
   "execution_count": 6,
   "metadata": {
    "collapsed": true
   },
   "outputs": [],
   "source": [
    "#read in a third file!\n",
    "agriculture = pd.read_csv('https://raw.githubusercontent.com/plotly/datasets/master/2011_us_ag_exports.csv')"
   ]
  },
  {
   "cell_type": "code",
   "execution_count": 7,
   "metadata": {
    "collapsed": false
   },
   "outputs": [
    {
     "data": {
      "text/html": [
       "<div>\n",
       "<table border=\"1\" class=\"dataframe\">\n",
       "  <thead>\n",
       "    <tr style=\"text-align: right;\">\n",
       "      <th></th>\n",
       "      <th>code</th>\n",
       "      <th>state</th>\n",
       "      <th>category</th>\n",
       "      <th>total exports</th>\n",
       "      <th>beef</th>\n",
       "      <th>pork</th>\n",
       "      <th>poultry</th>\n",
       "      <th>dairy</th>\n",
       "      <th>fruits fresh</th>\n",
       "      <th>fruits proc</th>\n",
       "      <th>total fruits</th>\n",
       "      <th>veggies fresh</th>\n",
       "      <th>veggies proc</th>\n",
       "      <th>total veggies</th>\n",
       "      <th>corn</th>\n",
       "      <th>wheat</th>\n",
       "      <th>cotton</th>\n",
       "    </tr>\n",
       "  </thead>\n",
       "  <tbody>\n",
       "    <tr>\n",
       "      <th>0</th>\n",
       "      <td>AL</td>\n",
       "      <td>Alabama</td>\n",
       "      <td>state</td>\n",
       "      <td>1390.63</td>\n",
       "      <td>34.4</td>\n",
       "      <td>10.6</td>\n",
       "      <td>481.0</td>\n",
       "      <td>4.06</td>\n",
       "      <td>8.0</td>\n",
       "      <td>17.1</td>\n",
       "      <td>25.11</td>\n",
       "      <td>5.5</td>\n",
       "      <td>8.9</td>\n",
       "      <td>14.33</td>\n",
       "      <td>34.9</td>\n",
       "      <td>70.0</td>\n",
       "      <td>317.61</td>\n",
       "    </tr>\n",
       "    <tr>\n",
       "      <th>1</th>\n",
       "      <td>AK</td>\n",
       "      <td>Alaska</td>\n",
       "      <td>state</td>\n",
       "      <td>13.31</td>\n",
       "      <td>0.2</td>\n",
       "      <td>0.1</td>\n",
       "      <td>0.0</td>\n",
       "      <td>0.19</td>\n",
       "      <td>0.0</td>\n",
       "      <td>0.0</td>\n",
       "      <td>0.00</td>\n",
       "      <td>0.6</td>\n",
       "      <td>1.0</td>\n",
       "      <td>1.56</td>\n",
       "      <td>0.0</td>\n",
       "      <td>0.0</td>\n",
       "      <td>0.00</td>\n",
       "    </tr>\n",
       "    <tr>\n",
       "      <th>2</th>\n",
       "      <td>AZ</td>\n",
       "      <td>Arizona</td>\n",
       "      <td>state</td>\n",
       "      <td>1463.17</td>\n",
       "      <td>71.3</td>\n",
       "      <td>17.9</td>\n",
       "      <td>0.0</td>\n",
       "      <td>105.48</td>\n",
       "      <td>19.3</td>\n",
       "      <td>41.0</td>\n",
       "      <td>60.27</td>\n",
       "      <td>147.5</td>\n",
       "      <td>239.4</td>\n",
       "      <td>386.91</td>\n",
       "      <td>7.3</td>\n",
       "      <td>48.7</td>\n",
       "      <td>423.95</td>\n",
       "    </tr>\n",
       "    <tr>\n",
       "      <th>3</th>\n",
       "      <td>AR</td>\n",
       "      <td>Arkansas</td>\n",
       "      <td>state</td>\n",
       "      <td>3586.02</td>\n",
       "      <td>53.2</td>\n",
       "      <td>29.4</td>\n",
       "      <td>562.9</td>\n",
       "      <td>3.53</td>\n",
       "      <td>2.2</td>\n",
       "      <td>4.7</td>\n",
       "      <td>6.88</td>\n",
       "      <td>4.4</td>\n",
       "      <td>7.1</td>\n",
       "      <td>11.45</td>\n",
       "      <td>69.5</td>\n",
       "      <td>114.5</td>\n",
       "      <td>665.44</td>\n",
       "    </tr>\n",
       "    <tr>\n",
       "      <th>4</th>\n",
       "      <td>CA</td>\n",
       "      <td>California</td>\n",
       "      <td>state</td>\n",
       "      <td>16472.88</td>\n",
       "      <td>228.7</td>\n",
       "      <td>11.1</td>\n",
       "      <td>225.4</td>\n",
       "      <td>929.95</td>\n",
       "      <td>2791.8</td>\n",
       "      <td>5944.6</td>\n",
       "      <td>8736.40</td>\n",
       "      <td>803.2</td>\n",
       "      <td>1303.5</td>\n",
       "      <td>2106.79</td>\n",
       "      <td>34.6</td>\n",
       "      <td>249.3</td>\n",
       "      <td>1064.95</td>\n",
       "    </tr>\n",
       "  </tbody>\n",
       "</table>\n",
       "</div>"
      ],
      "text/plain": [
       "  code        state category  total exports   beef  pork  poultry   dairy  \\\n",
       "0   AL      Alabama    state        1390.63   34.4  10.6    481.0    4.06   \n",
       "1   AK       Alaska    state          13.31    0.2   0.1      0.0    0.19   \n",
       "2   AZ      Arizona    state        1463.17   71.3  17.9      0.0  105.48   \n",
       "3   AR     Arkansas    state        3586.02   53.2  29.4    562.9    3.53   \n",
       "4   CA   California    state       16472.88  228.7  11.1    225.4  929.95   \n",
       "\n",
       "   fruits fresh  fruits proc  total fruits  veggies fresh  veggies proc  \\\n",
       "0           8.0         17.1         25.11            5.5           8.9   \n",
       "1           0.0          0.0          0.00            0.6           1.0   \n",
       "2          19.3         41.0         60.27          147.5         239.4   \n",
       "3           2.2          4.7          6.88            4.4           7.1   \n",
       "4        2791.8       5944.6       8736.40          803.2        1303.5   \n",
       "\n",
       "   total veggies  corn  wheat   cotton  \n",
       "0          14.33  34.9   70.0   317.61  \n",
       "1           1.56   0.0    0.0     0.00  \n",
       "2         386.91   7.3   48.7   423.95  \n",
       "3          11.45  69.5  114.5   665.44  \n",
       "4        2106.79  34.6  249.3  1064.95  "
      ]
     },
     "execution_count": 7,
     "metadata": {},
     "output_type": "execute_result"
    }
   ],
   "source": [
    "agriculture.head()"
   ]
  },
  {
   "cell_type": "code",
   "execution_count": 8,
   "metadata": {
    "collapsed": false
   },
   "outputs": [
    {
     "data": {
      "text/plain": [
       "2"
      ]
     },
     "execution_count": 8,
     "metadata": {},
     "output_type": "execute_result"
    }
   ],
   "source": [
    "#let's check if there's anything apart from states in the 'category' column\n",
    "agriculture.category.nunique()"
   ]
  },
  {
   "cell_type": "code",
   "execution_count": 9,
   "metadata": {
    "collapsed": false
   },
   "outputs": [
    {
     "data": {
      "text/plain": [
       "array(['state', ' state'], dtype=object)"
      ]
     },
     "execution_count": 9,
     "metadata": {},
     "output_type": "execute_result"
    }
   ],
   "source": [
    "#okay, two different categories doesn't sound great. what are the categories?\n",
    "agriculture.category.unique()\n",
    "#that's a data cleaning issue. "
   ]
  },
  {
   "cell_type": "code",
   "execution_count": 10,
   "metadata": {
    "collapsed": false
   },
   "outputs": [],
   "source": [
    "#we won't use the category column, but let's walk through using lambdas to fix it\n",
    "agriculture['category'] = agriculture.category.map(lambda x: x.replace(' ', ''))\n",
    "#what we're doing here is using a lambda function to replace a space with no space (' ', ''), and then mapping that to\n",
    "#the agriculture['category'] column. \n",
    "#we're then saving this over itself"
   ]
  },
  {
   "cell_type": "code",
   "execution_count": 11,
   "metadata": {
    "collapsed": false
   },
   "outputs": [
    {
     "data": {
      "text/plain": [
       "1"
      ]
     },
     "execution_count": 11,
     "metadata": {},
     "output_type": "execute_result"
    }
   ],
   "source": [
    "#did that work?\n",
    "agriculture.category.nunique()\n",
    "#yes, it did."
   ]
  },
  {
   "cell_type": "code",
   "execution_count": 12,
   "metadata": {
    "collapsed": false
   },
   "outputs": [
    {
     "data": {
      "text/plain": [
       "50"
      ]
     },
     "execution_count": 12,
     "metadata": {},
     "output_type": "execute_result"
    }
   ],
   "source": [
    "#are there any issues with state?\n",
    "agriculture.state.nunique()\n",
    "#doesn't look like it, so that's cool"
   ]
  },
  {
   "cell_type": "code",
   "execution_count": 15,
   "metadata": {
    "collapsed": true
   },
   "outputs": [],
   "source": [
    "#okay, let's concatenate the airports and states data\n",
    "\n",
    "new_df = pd.concat([airports, states], axis=1)"
   ]
  },
  {
   "cell_type": "code",
   "execution_count": 16,
   "metadata": {
    "collapsed": false
   },
   "outputs": [
    {
     "data": {
      "text/plain": [
       "iata         0\n",
       "airport      0\n",
       "city         1\n",
       "state        1\n",
       "country      0\n",
       "lat          0\n",
       "long         0\n",
       "cnt          0\n",
       "rank       169\n",
       "state      169\n",
       "postal     169\n",
       "pop        169\n",
       "dtype: int64"
      ]
     },
     "execution_count": 16,
     "metadata": {},
     "output_type": "execute_result"
    }
   ],
   "source": [
    "#let's check to see if we have null values. \n",
    "new_df.isnull().sum()"
   ]
  },
  {
   "cell_type": "code",
   "execution_count": 17,
   "metadata": {
    "collapsed": false
   },
   "outputs": [
    {
     "name": "stdout",
     "output_type": "stream",
     "text": [
      "  iata                            airport               city state country  \\\n",
      "0  ORD       Chicago O'Hare International            Chicago    IL     USA   \n",
      "1  ATL  William B Hartsfield-Atlanta Intl            Atlanta    GA     USA   \n",
      "2  DFW    Dallas-Fort Worth International  Dallas-Fort Worth    TX     USA   \n",
      "3  PHX   Phoenix Sky Harbor International            Phoenix    AZ     USA   \n",
      "4  DEN                        Denver Intl             Denver    CO     USA   \n",
      "\n",
      "         lat        long    cnt  rank       state postal         pop  \n",
      "0  41.979595  -87.904464  25129   1.0     Alabama     AL   4849377.0  \n",
      "1  33.640444  -84.426944  21925   2.0      Alaska     AK    736732.0  \n",
      "2  32.895951  -97.037200  20662   3.0     Arizona     AZ   6731484.0  \n",
      "3  33.434167 -112.008056  17290   4.0    Arkansas     AR   2966369.0  \n",
      "4  39.858408 -104.667002  13781   5.0  California     CA  38802500.0  \n"
     ]
    },
    {
     "data": {
      "text/html": [
       "<div>\n",
       "<table border=\"1\" class=\"dataframe\">\n",
       "  <thead>\n",
       "    <tr style=\"text-align: right;\">\n",
       "      <th></th>\n",
       "      <th>iata</th>\n",
       "      <th>airport</th>\n",
       "      <th>city</th>\n",
       "      <th>state</th>\n",
       "      <th>country</th>\n",
       "      <th>lat</th>\n",
       "      <th>long</th>\n",
       "      <th>cnt</th>\n",
       "      <th>rank</th>\n",
       "      <th>state</th>\n",
       "      <th>postal</th>\n",
       "      <th>pop</th>\n",
       "    </tr>\n",
       "  </thead>\n",
       "  <tbody>\n",
       "    <tr>\n",
       "      <th>216</th>\n",
       "      <td>EAU</td>\n",
       "      <td>Chippewa Valley Regional</td>\n",
       "      <td>Eau Claire</td>\n",
       "      <td>WI</td>\n",
       "      <td>USA</td>\n",
       "      <td>44.865257</td>\n",
       "      <td>-91.485072</td>\n",
       "      <td>48</td>\n",
       "      <td>NaN</td>\n",
       "      <td>NaN</td>\n",
       "      <td>NaN</td>\n",
       "      <td>NaN</td>\n",
       "    </tr>\n",
       "    <tr>\n",
       "      <th>217</th>\n",
       "      <td>DBQ</td>\n",
       "      <td>Dubuque Municipal</td>\n",
       "      <td>Dubuque</td>\n",
       "      <td>IA</td>\n",
       "      <td>USA</td>\n",
       "      <td>42.402959</td>\n",
       "      <td>-90.709167</td>\n",
       "      <td>48</td>\n",
       "      <td>NaN</td>\n",
       "      <td>NaN</td>\n",
       "      <td>NaN</td>\n",
       "      <td>NaN</td>\n",
       "    </tr>\n",
       "    <tr>\n",
       "      <th>218</th>\n",
       "      <td>RST</td>\n",
       "      <td>Rochester International</td>\n",
       "      <td>Rochester</td>\n",
       "      <td>MN</td>\n",
       "      <td>USA</td>\n",
       "      <td>43.908826</td>\n",
       "      <td>-92.497987</td>\n",
       "      <td>37</td>\n",
       "      <td>NaN</td>\n",
       "      <td>NaN</td>\n",
       "      <td>NaN</td>\n",
       "      <td>NaN</td>\n",
       "    </tr>\n",
       "    <tr>\n",
       "      <th>219</th>\n",
       "      <td>UTM</td>\n",
       "      <td>Tunica Municipal Airport</td>\n",
       "      <td>Tunica</td>\n",
       "      <td>MS</td>\n",
       "      <td>USA</td>\n",
       "      <td>34.681499</td>\n",
       "      <td>-90.348816</td>\n",
       "      <td>32</td>\n",
       "      <td>NaN</td>\n",
       "      <td>NaN</td>\n",
       "      <td>NaN</td>\n",
       "      <td>NaN</td>\n",
       "    </tr>\n",
       "    <tr>\n",
       "      <th>220</th>\n",
       "      <td>BIL</td>\n",
       "      <td>Billings Logan Intl</td>\n",
       "      <td>Billings</td>\n",
       "      <td>MT</td>\n",
       "      <td>USA</td>\n",
       "      <td>45.807662</td>\n",
       "      <td>-108.542861</td>\n",
       "      <td>23</td>\n",
       "      <td>NaN</td>\n",
       "      <td>NaN</td>\n",
       "      <td>NaN</td>\n",
       "      <td>NaN</td>\n",
       "    </tr>\n",
       "  </tbody>\n",
       "</table>\n",
       "</div>"
      ],
      "text/plain": [
       "    iata                   airport        city state country        lat  \\\n",
       "216  EAU  Chippewa Valley Regional  Eau Claire    WI     USA  44.865257   \n",
       "217  DBQ         Dubuque Municipal     Dubuque    IA     USA  42.402959   \n",
       "218  RST   Rochester International   Rochester    MN     USA  43.908826   \n",
       "219  UTM  Tunica Municipal Airport      Tunica    MS     USA  34.681499   \n",
       "220  BIL       Billings Logan Intl    Billings    MT     USA  45.807662   \n",
       "\n",
       "           long  cnt  rank state postal  pop  \n",
       "216  -91.485072   48   NaN   NaN    NaN  NaN  \n",
       "217  -90.709167   48   NaN   NaN    NaN  NaN  \n",
       "218  -92.497987   37   NaN   NaN    NaN  NaN  \n",
       "219  -90.348816   32   NaN   NaN    NaN  NaN  \n",
       "220 -108.542861   23   NaN   NaN    NaN  NaN  "
      ]
     },
     "execution_count": 17,
     "metadata": {},
     "output_type": "execute_result"
    }
   ],
   "source": [
    "#the two dataframes we concatenated were of different lengths, so once pandas ran out of rows on the states dataframe\n",
    "#it started to fill in null values\n",
    "print new_df.head()\n",
    "new_df.tail()"
   ]
  },
  {
   "cell_type": "code",
   "execution_count": 18,
   "metadata": {
    "collapsed": false
   },
   "outputs": [],
   "source": [
    "#what if we merged everything on the states column instead\n",
    "\n",
    "new_df = pd.merge(airports, states, left_on='state', right_on='postal')"
   ]
  },
  {
   "cell_type": "code",
   "execution_count": 19,
   "metadata": {
    "collapsed": false
   },
   "outputs": [
    {
     "data": {
      "text/plain": [
       "iata       False\n",
       "airport    False\n",
       "city       False\n",
       "state_x    False\n",
       "country    False\n",
       "lat        False\n",
       "long       False\n",
       "cnt        False\n",
       "rank       False\n",
       "state_y    False\n",
       "postal     False\n",
       "pop        False\n",
       "dtype: bool"
      ]
     },
     "execution_count": 19,
     "metadata": {},
     "output_type": "execute_result"
    }
   ],
   "source": [
    "#this time we have no nulls!\n",
    "new_df.sum().isnull()"
   ]
  },
  {
   "cell_type": "code",
   "execution_count": 20,
   "metadata": {
    "collapsed": false
   },
   "outputs": [
    {
     "name": "stdout",
     "output_type": "stream",
     "text": [
      "  iata                       airport         city state_x country        lat  \\\n",
      "0  ORD  Chicago O'Hare International      Chicago      IL     USA  41.979595   \n",
      "1  MDW                Chicago Midway      Chicago      IL     USA  41.785983   \n",
      "2  MLI                     Quad City       Moline      IL     USA  41.448526   \n",
      "3  BMI     Central Illinois Regional  Bloomington      IL     USA  40.477986   \n",
      "4  PIA       Greater Peoria Regional       Peoria      IL     USA  40.664243   \n",
      "\n",
      "        long    cnt  rank   state_y postal         pop  \n",
      "0 -87.904464  25129    14  Illinois     IL  12880580.0  \n",
      "1 -87.752424   6979    14  Illinois     IL  12880580.0  \n",
      "2 -90.507539    451    14  Illinois     IL  12880580.0  \n",
      "3 -88.915953    426    14  Illinois     IL  12880580.0  \n",
      "4 -89.693306    404    14  Illinois     IL  12880580.0  \n"
     ]
    },
    {
     "data": {
      "text/html": [
       "<div>\n",
       "<table border=\"1\" class=\"dataframe\">\n",
       "  <thead>\n",
       "    <tr style=\"text-align: right;\">\n",
       "      <th></th>\n",
       "      <th>iata</th>\n",
       "      <th>airport</th>\n",
       "      <th>city</th>\n",
       "      <th>state_x</th>\n",
       "      <th>country</th>\n",
       "      <th>lat</th>\n",
       "      <th>long</th>\n",
       "      <th>cnt</th>\n",
       "      <th>rank</th>\n",
       "      <th>state_y</th>\n",
       "      <th>postal</th>\n",
       "      <th>pop</th>\n",
       "    </tr>\n",
       "  </thead>\n",
       "  <tbody>\n",
       "    <tr>\n",
       "      <th>215</th>\n",
       "      <td>FCA</td>\n",
       "      <td>Glacier Park Intl</td>\n",
       "      <td>Kalispell</td>\n",
       "      <td>MT</td>\n",
       "      <td>USA</td>\n",
       "      <td>48.311405</td>\n",
       "      <td>-114.255069</td>\n",
       "      <td>90</td>\n",
       "      <td>27</td>\n",
       "      <td>Montana</td>\n",
       "      <td>MT</td>\n",
       "      <td>1023579.0</td>\n",
       "    </tr>\n",
       "    <tr>\n",
       "      <th>216</th>\n",
       "      <td>BIL</td>\n",
       "      <td>Billings Logan Intl</td>\n",
       "      <td>Billings</td>\n",
       "      <td>MT</td>\n",
       "      <td>USA</td>\n",
       "      <td>45.807662</td>\n",
       "      <td>-108.542861</td>\n",
       "      <td>23</td>\n",
       "      <td>27</td>\n",
       "      <td>Montana</td>\n",
       "      <td>MT</td>\n",
       "      <td>1023579.0</td>\n",
       "    </tr>\n",
       "    <tr>\n",
       "      <th>217</th>\n",
       "      <td>BTV</td>\n",
       "      <td>Burlington International</td>\n",
       "      <td>Burlington</td>\n",
       "      <td>VT</td>\n",
       "      <td>USA</td>\n",
       "      <td>44.473004</td>\n",
       "      <td>-73.150312</td>\n",
       "      <td>91</td>\n",
       "      <td>47</td>\n",
       "      <td>Vermont</td>\n",
       "      <td>VT</td>\n",
       "      <td>626562.0</td>\n",
       "    </tr>\n",
       "    <tr>\n",
       "      <th>218</th>\n",
       "      <td>LWB</td>\n",
       "      <td>Greenbrier Valley</td>\n",
       "      <td>Lewisburg</td>\n",
       "      <td>WV</td>\n",
       "      <td>USA</td>\n",
       "      <td>37.858306</td>\n",
       "      <td>-80.399472</td>\n",
       "      <td>56</td>\n",
       "      <td>50</td>\n",
       "      <td>West Virginia</td>\n",
       "      <td>WV</td>\n",
       "      <td>1850326.0</td>\n",
       "    </tr>\n",
       "    <tr>\n",
       "      <th>219</th>\n",
       "      <td>CRW</td>\n",
       "      <td>Yeager</td>\n",
       "      <td>Charleston</td>\n",
       "      <td>WV</td>\n",
       "      <td>USA</td>\n",
       "      <td>38.373151</td>\n",
       "      <td>-81.593190</td>\n",
       "      <td>56</td>\n",
       "      <td>50</td>\n",
       "      <td>West Virginia</td>\n",
       "      <td>WV</td>\n",
       "      <td>1850326.0</td>\n",
       "    </tr>\n",
       "  </tbody>\n",
       "</table>\n",
       "</div>"
      ],
      "text/plain": [
       "    iata                   airport        city state_x country        lat  \\\n",
       "215  FCA         Glacier Park Intl   Kalispell      MT     USA  48.311405   \n",
       "216  BIL       Billings Logan Intl    Billings      MT     USA  45.807662   \n",
       "217  BTV  Burlington International  Burlington      VT     USA  44.473004   \n",
       "218  LWB         Greenbrier Valley   Lewisburg      WV     USA  37.858306   \n",
       "219  CRW                    Yeager  Charleston      WV     USA  38.373151   \n",
       "\n",
       "           long  cnt  rank        state_y postal        pop  \n",
       "215 -114.255069   90    27        Montana     MT  1023579.0  \n",
       "216 -108.542861   23    27        Montana     MT  1023579.0  \n",
       "217  -73.150312   91    47        Vermont     VT   626562.0  \n",
       "218  -80.399472   56    50  West Virginia     WV  1850326.0  \n",
       "219  -81.593190   56    50  West Virginia     WV  1850326.0  "
      ]
     },
     "execution_count": 20,
     "metadata": {},
     "output_type": "execute_result"
    }
   ],
   "source": [
    "print new_df.head()\n",
    "new_df.tail()\n",
    "\n",
    "#instead, pandas filled in state information for every single airport, even if they were from the same state"
   ]
  },
  {
   "cell_type": "markdown",
   "metadata": {},
   "source": [
    "## Merged!\n",
    "\n",
    "<img src='http://wdy.h-cdn.co/assets/16/05/980x490/landscape-1454612525-baby-pandas.jpg'>"
   ]
  },
  {
   "cell_type": "markdown",
   "metadata": {},
   "source": [
    "Concatenation is taking two or more separately located things and placing them side-by-side next to each other (either as columns OR as rows) so that they can now be treated as one thing. \n",
    "\n",
    "Joins using pandas happen when columns of two DataFrames are joined either on index or on a key column. "
   ]
  },
  {
   "cell_type": "code",
   "execution_count": 21,
   "metadata": {
    "collapsed": false
   },
   "outputs": [],
   "source": [
    "#let's say we want to merge just the airport names with the entirety of the states dataframe\n",
    "#we would need to keep a key on which to merge the two, so let's retain the 'states' column in airports\n",
    "#we have two brackets around the column names because one set of brackets would just call them up as a series\n",
    "#two sets of brackets tells pandas that we want them to be treated as a new dataframe\n",
    "another_one = pd.merge(airports[['iata', 'state']], states, left_on='state', right_on='postal')"
   ]
  },
  {
   "cell_type": "code",
   "execution_count": 22,
   "metadata": {
    "collapsed": false
   },
   "outputs": [
    {
     "data": {
      "text/html": [
       "<div>\n",
       "<table border=\"1\" class=\"dataframe\">\n",
       "  <thead>\n",
       "    <tr style=\"text-align: right;\">\n",
       "      <th></th>\n",
       "      <th>iata</th>\n",
       "      <th>state_x</th>\n",
       "      <th>rank</th>\n",
       "      <th>state_y</th>\n",
       "      <th>postal</th>\n",
       "      <th>pop</th>\n",
       "    </tr>\n",
       "  </thead>\n",
       "  <tbody>\n",
       "    <tr>\n",
       "      <th>0</th>\n",
       "      <td>ORD</td>\n",
       "      <td>IL</td>\n",
       "      <td>14</td>\n",
       "      <td>Illinois</td>\n",
       "      <td>IL</td>\n",
       "      <td>12880580.0</td>\n",
       "    </tr>\n",
       "    <tr>\n",
       "      <th>1</th>\n",
       "      <td>MDW</td>\n",
       "      <td>IL</td>\n",
       "      <td>14</td>\n",
       "      <td>Illinois</td>\n",
       "      <td>IL</td>\n",
       "      <td>12880580.0</td>\n",
       "    </tr>\n",
       "    <tr>\n",
       "      <th>2</th>\n",
       "      <td>MLI</td>\n",
       "      <td>IL</td>\n",
       "      <td>14</td>\n",
       "      <td>Illinois</td>\n",
       "      <td>IL</td>\n",
       "      <td>12880580.0</td>\n",
       "    </tr>\n",
       "    <tr>\n",
       "      <th>3</th>\n",
       "      <td>BMI</td>\n",
       "      <td>IL</td>\n",
       "      <td>14</td>\n",
       "      <td>Illinois</td>\n",
       "      <td>IL</td>\n",
       "      <td>12880580.0</td>\n",
       "    </tr>\n",
       "    <tr>\n",
       "      <th>4</th>\n",
       "      <td>PIA</td>\n",
       "      <td>IL</td>\n",
       "      <td>14</td>\n",
       "      <td>Illinois</td>\n",
       "      <td>IL</td>\n",
       "      <td>12880580.0</td>\n",
       "    </tr>\n",
       "    <tr>\n",
       "      <th>5</th>\n",
       "      <td>CMI</td>\n",
       "      <td>IL</td>\n",
       "      <td>14</td>\n",
       "      <td>Illinois</td>\n",
       "      <td>IL</td>\n",
       "      <td>12880580.0</td>\n",
       "    </tr>\n",
       "    <tr>\n",
       "      <th>6</th>\n",
       "      <td>SPI</td>\n",
       "      <td>IL</td>\n",
       "      <td>14</td>\n",
       "      <td>Illinois</td>\n",
       "      <td>IL</td>\n",
       "      <td>12880580.0</td>\n",
       "    </tr>\n",
       "    <tr>\n",
       "      <th>7</th>\n",
       "      <td>ATL</td>\n",
       "      <td>GA</td>\n",
       "      <td>11</td>\n",
       "      <td>Georgia</td>\n",
       "      <td>GA</td>\n",
       "      <td>10097343.0</td>\n",
       "    </tr>\n",
       "    <tr>\n",
       "      <th>8</th>\n",
       "      <td>SAV</td>\n",
       "      <td>GA</td>\n",
       "      <td>11</td>\n",
       "      <td>Georgia</td>\n",
       "      <td>GA</td>\n",
       "      <td>10097343.0</td>\n",
       "    </tr>\n",
       "    <tr>\n",
       "      <th>9</th>\n",
       "      <td>CSG</td>\n",
       "      <td>GA</td>\n",
       "      <td>11</td>\n",
       "      <td>Georgia</td>\n",
       "      <td>GA</td>\n",
       "      <td>10097343.0</td>\n",
       "    </tr>\n",
       "    <tr>\n",
       "      <th>10</th>\n",
       "      <td>VLD</td>\n",
       "      <td>GA</td>\n",
       "      <td>11</td>\n",
       "      <td>Georgia</td>\n",
       "      <td>GA</td>\n",
       "      <td>10097343.0</td>\n",
       "    </tr>\n",
       "    <tr>\n",
       "      <th>11</th>\n",
       "      <td>BQK</td>\n",
       "      <td>GA</td>\n",
       "      <td>11</td>\n",
       "      <td>Georgia</td>\n",
       "      <td>GA</td>\n",
       "      <td>10097343.0</td>\n",
       "    </tr>\n",
       "    <tr>\n",
       "      <th>12</th>\n",
       "      <td>AGS</td>\n",
       "      <td>GA</td>\n",
       "      <td>11</td>\n",
       "      <td>Georgia</td>\n",
       "      <td>GA</td>\n",
       "      <td>10097343.0</td>\n",
       "    </tr>\n",
       "    <tr>\n",
       "      <th>13</th>\n",
       "      <td>DFW</td>\n",
       "      <td>TX</td>\n",
       "      <td>45</td>\n",
       "      <td>Texas</td>\n",
       "      <td>TX</td>\n",
       "      <td>26956958.0</td>\n",
       "    </tr>\n",
       "    <tr>\n",
       "      <th>14</th>\n",
       "      <td>IAH</td>\n",
       "      <td>TX</td>\n",
       "      <td>45</td>\n",
       "      <td>Texas</td>\n",
       "      <td>TX</td>\n",
       "      <td>26956958.0</td>\n",
       "    </tr>\n",
       "    <tr>\n",
       "      <th>15</th>\n",
       "      <td>HOU</td>\n",
       "      <td>TX</td>\n",
       "      <td>45</td>\n",
       "      <td>Texas</td>\n",
       "      <td>TX</td>\n",
       "      <td>26956958.0</td>\n",
       "    </tr>\n",
       "    <tr>\n",
       "      <th>16</th>\n",
       "      <td>SAT</td>\n",
       "      <td>TX</td>\n",
       "      <td>45</td>\n",
       "      <td>Texas</td>\n",
       "      <td>TX</td>\n",
       "      <td>26956958.0</td>\n",
       "    </tr>\n",
       "    <tr>\n",
       "      <th>17</th>\n",
       "      <td>DAL</td>\n",
       "      <td>TX</td>\n",
       "      <td>45</td>\n",
       "      <td>Texas</td>\n",
       "      <td>TX</td>\n",
       "      <td>26956958.0</td>\n",
       "    </tr>\n",
       "    <tr>\n",
       "      <th>18</th>\n",
       "      <td>ELP</td>\n",
       "      <td>TX</td>\n",
       "      <td>45</td>\n",
       "      <td>Texas</td>\n",
       "      <td>TX</td>\n",
       "      <td>26956958.0</td>\n",
       "    </tr>\n",
       "    <tr>\n",
       "      <th>19</th>\n",
       "      <td>MAF</td>\n",
       "      <td>TX</td>\n",
       "      <td>45</td>\n",
       "      <td>Texas</td>\n",
       "      <td>TX</td>\n",
       "      <td>26956958.0</td>\n",
       "    </tr>\n",
       "    <tr>\n",
       "      <th>20</th>\n",
       "      <td>CRP</td>\n",
       "      <td>TX</td>\n",
       "      <td>45</td>\n",
       "      <td>Texas</td>\n",
       "      <td>TX</td>\n",
       "      <td>26956958.0</td>\n",
       "    </tr>\n",
       "    <tr>\n",
       "      <th>21</th>\n",
       "      <td>LBB</td>\n",
       "      <td>TX</td>\n",
       "      <td>45</td>\n",
       "      <td>Texas</td>\n",
       "      <td>TX</td>\n",
       "      <td>26956958.0</td>\n",
       "    </tr>\n",
       "    <tr>\n",
       "      <th>22</th>\n",
       "      <td>HRL</td>\n",
       "      <td>TX</td>\n",
       "      <td>45</td>\n",
       "      <td>Texas</td>\n",
       "      <td>TX</td>\n",
       "      <td>26956958.0</td>\n",
       "    </tr>\n",
       "    <tr>\n",
       "      <th>23</th>\n",
       "      <td>LRD</td>\n",
       "      <td>TX</td>\n",
       "      <td>45</td>\n",
       "      <td>Texas</td>\n",
       "      <td>TX</td>\n",
       "      <td>26956958.0</td>\n",
       "    </tr>\n",
       "    <tr>\n",
       "      <th>24</th>\n",
       "      <td>AUS</td>\n",
       "      <td>TX</td>\n",
       "      <td>45</td>\n",
       "      <td>Texas</td>\n",
       "      <td>TX</td>\n",
       "      <td>26956958.0</td>\n",
       "    </tr>\n",
       "  </tbody>\n",
       "</table>\n",
       "</div>"
      ],
      "text/plain": [
       "   iata state_x  rank   state_y postal         pop\n",
       "0   ORD      IL    14  Illinois     IL  12880580.0\n",
       "1   MDW      IL    14  Illinois     IL  12880580.0\n",
       "2   MLI      IL    14  Illinois     IL  12880580.0\n",
       "3   BMI      IL    14  Illinois     IL  12880580.0\n",
       "4   PIA      IL    14  Illinois     IL  12880580.0\n",
       "5   CMI      IL    14  Illinois     IL  12880580.0\n",
       "6   SPI      IL    14  Illinois     IL  12880580.0\n",
       "7   ATL      GA    11   Georgia     GA  10097343.0\n",
       "8   SAV      GA    11   Georgia     GA  10097343.0\n",
       "9   CSG      GA    11   Georgia     GA  10097343.0\n",
       "10  VLD      GA    11   Georgia     GA  10097343.0\n",
       "11  BQK      GA    11   Georgia     GA  10097343.0\n",
       "12  AGS      GA    11   Georgia     GA  10097343.0\n",
       "13  DFW      TX    45     Texas     TX  26956958.0\n",
       "14  IAH      TX    45     Texas     TX  26956958.0\n",
       "15  HOU      TX    45     Texas     TX  26956958.0\n",
       "16  SAT      TX    45     Texas     TX  26956958.0\n",
       "17  DAL      TX    45     Texas     TX  26956958.0\n",
       "18  ELP      TX    45     Texas     TX  26956958.0\n",
       "19  MAF      TX    45     Texas     TX  26956958.0\n",
       "20  CRP      TX    45     Texas     TX  26956958.0\n",
       "21  LBB      TX    45     Texas     TX  26956958.0\n",
       "22  HRL      TX    45     Texas     TX  26956958.0\n",
       "23  LRD      TX    45     Texas     TX  26956958.0\n",
       "24  AUS      TX    45     Texas     TX  26956958.0"
      ]
     },
     "execution_count": 22,
     "metadata": {},
     "output_type": "execute_result"
    }
   ],
   "source": [
    "another_one.head(25)"
   ]
  },
  {
   "cell_type": "markdown",
   "metadata": {},
   "source": [
    "## Independent practice"
   ]
  },
  {
   "cell_type": "code",
   "execution_count": 24,
   "metadata": {
    "collapsed": true
   },
   "outputs": [],
   "source": [
    "##Merge a few columns from the states dataframe with the agriculture dataframe. \n",
    "\n",
    "\n"
   ]
  },
  {
   "cell_type": "code",
   "execution_count": null,
   "metadata": {
    "collapsed": true
   },
   "outputs": [],
   "source": [
    "\n",
    "\n",
    "##Concatenate the airport and agriculture dataframes, first on axis=0, then on axis=1"
   ]
  }
 ],
 "metadata": {
  "anaconda-cloud": {},
  "kernelspec": {
   "display_name": "Python 2",
   "language": "python",
   "name": "python2"
  },
  "language_info": {
   "codemirror_mode": {
    "name": "ipython",
    "version": 2
   },
   "file_extension": ".py",
   "mimetype": "text/x-python",
   "name": "python",
   "nbconvert_exporter": "python",
   "pygments_lexer": "ipython2",
   "version": "2.7.13"
  }
 },
 "nbformat": 4,
 "nbformat_minor": 1
}
