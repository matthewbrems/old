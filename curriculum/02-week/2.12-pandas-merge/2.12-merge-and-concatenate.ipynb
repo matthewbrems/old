{
 "cells": [
  {
   "cell_type": "code",
   "execution_count": null,
   "metadata": {
    "collapsed": true
   },
   "outputs": [],
   "source": [
    "import pandas as pd"
   ]
  },
  {
   "cell_type": "markdown",
   "metadata": {},
   "source": [
    "<img src='http://media4.s-nbcnews.com/j/newscms/2016_36/1685951/ss-160826-twip-05_8cf6d4cb83758449fd400c7c3d71aa1f.nbcnews-ux-2880-1000.jpg'>"
   ]
  },
  {
   "cell_type": "code",
   "execution_count": null,
   "metadata": {
    "collapsed": true
   },
   "outputs": [],
   "source": [
    "#read in a file\n",
    "states = pd.read_csv('https://raw.githubusercontent.com/plotly/datasets/master/2014_usa_states.csv')"
   ]
  },
  {
   "cell_type": "code",
   "execution_count": null,
   "metadata": {
    "collapsed": false
   },
   "outputs": [],
   "source": [
    "states.head()"
   ]
  },
  {
   "cell_type": "code",
   "execution_count": null,
   "metadata": {
    "collapsed": false
   },
   "outputs": [],
   "source": [
    "#read in another file\n",
    "airports = pd.read_csv('https://raw.githubusercontent.com/plotly/datasets/master/2011_february_us_airport_traffic.csv')"
   ]
  },
  {
   "cell_type": "code",
   "execution_count": null,
   "metadata": {
    "collapsed": false
   },
   "outputs": [],
   "source": [
    "airports.head()"
   ]
  },
  {
   "cell_type": "code",
   "execution_count": null,
   "metadata": {
    "collapsed": true
   },
   "outputs": [],
   "source": [
    "#read in a third file!\n",
    "agriculture = pd.read_csv('https://raw.githubusercontent.com/plotly/datasets/master/2011_us_ag_exports.csv')"
   ]
  },
  {
   "cell_type": "code",
   "execution_count": null,
   "metadata": {
    "collapsed": false
   },
   "outputs": [],
   "source": [
    "agriculture.head()"
   ]
  },
  {
   "cell_type": "code",
   "execution_count": null,
   "metadata": {
    "collapsed": false
   },
   "outputs": [],
   "source": [
    "#let's check if there's anything apart from states in the 'category' column\n",
    "agriculture.category.nunique()"
   ]
  },
  {
   "cell_type": "code",
   "execution_count": null,
   "metadata": {
    "collapsed": false
   },
   "outputs": [],
   "source": [
    "#okay, two different categories doesn't sound great. what are the categories?\n",
    "agriculture.category.unique()\n",
    "#that's a data cleaning issue. "
   ]
  },
  {
   "cell_type": "code",
   "execution_count": null,
   "metadata": {
    "collapsed": false
   },
   "outputs": [],
   "source": [
    "#we won't use the category column, but let's walk through using lambdas to fix it\n",
    "agriculture['category'] = agriculture.category.map(lambda x: x.replace(' ', ''))\n",
    "#what we're doing here is using a lambda function to replace a space with no space (' ', ''), and then mapping that to\n",
    "#the agriculture['category'] column. \n",
    "#we're then saving this over itself"
   ]
  },
  {
   "cell_type": "code",
   "execution_count": null,
   "metadata": {
    "collapsed": false
   },
   "outputs": [],
   "source": [
    "#did that work?\n",
    "agriculture.category.nunique()\n",
    "#yes, it did."
   ]
  },
  {
   "cell_type": "code",
   "execution_count": null,
   "metadata": {
    "collapsed": false
   },
   "outputs": [],
   "source": [
    "#are there any issues with state?\n",
    "agriculture.state.nunique()\n",
    "#doesn't look like it, so that's cool"
   ]
  },
  {
   "cell_type": "code",
   "execution_count": null,
   "metadata": {
    "collapsed": true
   },
   "outputs": [],
   "source": [
    "#okay, let's concatenate the airports and states data\n",
    "\n",
    "new_df = pd.concat([airports, states], axis=1)"
   ]
  },
  {
   "cell_type": "code",
   "execution_count": null,
   "metadata": {
    "collapsed": false
   },
   "outputs": [],
   "source": [
    "#let's check to see if we have null values. \n",
    "new_df.isnull().sum()"
   ]
  },
  {
   "cell_type": "code",
   "execution_count": null,
   "metadata": {
    "collapsed": false
   },
   "outputs": [],
   "source": [
    "#the two dataframes we concatenated were of different lengths, so once pandas ran out of rows on the states dataframe\n",
    "#it started to fill in null values\n",
    "print new_df.head()\n",
    "new_df.tail()"
   ]
  },
  {
   "cell_type": "code",
   "execution_count": null,
   "metadata": {
    "collapsed": false
   },
   "outputs": [],
   "source": [
    "#what if we merged everything on the states column instead\n",
    "\n",
    "new_df = pd.merge(airports, states, left_on='state', right_on='postal')"
   ]
  },
  {
   "cell_type": "code",
   "execution_count": null,
   "metadata": {
    "collapsed": false
   },
   "outputs": [],
   "source": [
    "#this time we have no nulls!\n",
    "new_df.sum().isnull()"
   ]
  },
  {
   "cell_type": "code",
   "execution_count": null,
   "metadata": {
    "collapsed": false
   },
   "outputs": [],
   "source": [
    "print new_df.head()\n",
    "new_df.tail()\n",
    "\n",
    "#instead, pandas filled in state information for every single airport, even if they were from the same state"
   ]
  },
  {
   "cell_type": "markdown",
   "metadata": {},
   "source": [
    "## Merged!\n",
    "\n",
    "<img src='http://wdy.h-cdn.co/assets/16/05/980x490/landscape-1454612525-baby-pandas.jpg'>"
   ]
  },
  {
   "cell_type": "markdown",
   "metadata": {},
   "source": [
    "Concatenation is taking two or more separately located things and placing them side-by-side next to each other (either as columns OR as rows) so that they can now be treated as one thing. \n",
    "\n",
    "Joins using pandas happen when columns of two DataFrames are joined either on index or on a key column. "
   ]
  },
  {
   "cell_type": "code",
   "execution_count": null,
   "metadata": {
    "collapsed": false
   },
   "outputs": [],
   "source": [
    "#let's say we want to merge just the airport names with the entirety of the states dataframe\n",
    "#we would need to keep a key on which to merge the two, so let's retain the 'states' column in airports\n",
    "#we have two brackets around the column names because one set of brackets would just call them up as a series\n",
    "#two sets of brackets tells pandas that we want them to be treated as a new dataframe\n",
    "another_one = pd.merge(airports[['iata', 'state']], states, left_on='state', right_on='postal')"
   ]
  },
  {
   "cell_type": "code",
   "execution_count": null,
   "metadata": {
    "collapsed": false
   },
   "outputs": [],
   "source": [
    "another_one.head(25)"
   ]
  },
  {
   "cell_type": "markdown",
   "metadata": {},
   "source": [
    "## Independent practice"
   ]
  },
  {
   "cell_type": "code",
   "execution_count": null,
   "metadata": {
    "collapsed": true
   },
   "outputs": [],
   "source": [
    "##Merge a few columns from the states dataframe with the agriculture dataframe. "
   ]
  },
  {
   "cell_type": "code",
   "execution_count": null,
   "metadata": {
    "collapsed": true
   },
   "outputs": [],
   "source": [
    "##Concatenate the airport and agriculture dataframes, first on axis=0, then on axis=1"
   ]
  }
 ],
 "metadata": {
  "anaconda-cloud": {},
  "kernelspec": {
   "display_name": "Python [conda root]",
   "language": "python",
   "name": "conda-root-py"
  },
  "language_info": {
   "codemirror_mode": {
    "name": "ipython",
    "version": 2
   },
   "file_extension": ".py",
   "mimetype": "text/x-python",
   "name": "python",
   "nbconvert_exporter": "python",
   "pygments_lexer": "ipython2",
   "version": "2.7.13"
  }
 },
 "nbformat": 4,
 "nbformat_minor": 1
}
