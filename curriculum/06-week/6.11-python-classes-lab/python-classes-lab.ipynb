{
 "cells": [
  {
   "cell_type": "markdown",
   "metadata": {},
   "source": [
    "### Part 1: Monkies!!\n",
    "\n",
    "Create a `Monkey` class using Python, which has the following attributes:\n",
    "* `name` - a string, which should be determined by some input\n",
    "* `species` - a string, which should be determined by some input\n",
    "* `foods_eaten` - an array, which should be initialized as an empty array\n",
    "\n",
    "And the following methods:\n",
    "* `eat(food)` - adds a food (a string) to the list of foods eaten\n",
    "* `introduce` - introduces self, with name, species, and what it's eaten"
   ]
  },
  {
   "cell_type": "code",
   "execution_count": null,
   "metadata": {
    "collapsed": true
   },
   "outputs": [],
   "source": []
  },
  {
   "cell_type": "markdown",
   "metadata": {},
   "source": [
    "### Part 2: Bringing it all back\n",
    "\n",
    "```command + 'f'``` is an easy way to keyword search\n"
   ]
  },
  {
   "cell_type": "markdown",
   "metadata": {},
   "source": [
    "Now that we've been properly exposed to python classes lets go check out the Sklearn documentation for ```python Logistic Regression```.\n",
    "> Like Wow!  Its a Python Class\n",
    "\n",
    "\n",
    "Check out the Source code for the ``` LogisticRegression```.  "
   ]
  },
  {
   "cell_type": "markdown",
   "metadata": {},
   "source": [
    "1. How does ‘```Penalty```’ relate to the Class ````LogisticRegression```"
   ]
  },
  {
   "cell_type": "code",
   "execution_count": null,
   "metadata": {
    "collapsed": true
   },
   "outputs": [],
   "source": []
  },
  {
   "cell_type": "markdown",
   "metadata": {},
   "source": [
    "> We got tons of parameters."
   ]
  },
  {
   "cell_type": "markdown",
   "metadata": {},
   "source": [
    "2.How does ‘```intercept_```’ relate to the Class ``` LogisticRegression```"
   ]
  },
  {
   "cell_type": "code",
   "execution_count": null,
   "metadata": {
    "collapsed": true
   },
   "outputs": [],
   "source": [
    "# Communicate those results!"
   ]
  },
  {
   "cell_type": "markdown",
   "metadata": {},
   "source": [
    "3.How does the method ‘```fit```’ work with the Class ```LogisticRegression```."
   ]
  },
  {
   "cell_type": "code",
   "execution_count": null,
   "metadata": {
    "collapsed": true
   },
   "outputs": [],
   "source": [
    "# Communicate Findings"
   ]
  }
 ],
 "metadata": {
  "anaconda-cloud": {},
  "kernelspec": {
   "display_name": "Python [default]",
   "language": "python",
   "name": "python2"
  },
  "language_info": {
   "codemirror_mode": {
    "name": "ipython",
    "version": 2
   },
   "file_extension": ".py",
   "mimetype": "text/x-python",
   "name": "python",
   "nbconvert_exporter": "python",
   "pygments_lexer": "ipython2",
   "version": "2.7.12"
  }
 },
 "nbformat": 4,
 "nbformat_minor": 1
}
