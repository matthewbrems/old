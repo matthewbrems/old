{
 "cells": [
  {
   "cell_type": "markdown",
   "metadata": {},
   "source": [
    "### Part 1: Monkies!!\n",
    "\n",
    "Create a `Monkey` class using Python, which has the following attributes:\n",
    "* `name` - a string, which should be determined by some input\n",
    "* `species` - a string, which should be determined by some input\n",
    "* `foods_eaten` - an array, which should be initialized as an empty array\n",
    "\n",
    "And the following methods:\n",
    "* `eat(food)` - adds a food (a string) to the list of foods eaten\n",
    "* `introduce` - introduces self, with name, species, and what it's eaten"
   ]
  },
  {
   "cell_type": "code",
   "execution_count": 15,
   "metadata": {
    "collapsed": true
   },
   "outputs": [],
   "source": [
    "import numpy as np\n",
    "\n",
    "class monkey:\n",
    "    def __init__(self, name, species):\n",
    "        self.species = species\n",
    "        self.name = name\n",
    "        self.foods_eaten = []\n",
    "    def set_name(self, name):\n",
    "        self.name = name\n",
    "    def species(self, breed):\n",
    "        self.breed = breed\n",
    "    def set_gender(self, gender):\n",
    "        self.gender = gender\n",
    "    def eat(self, food):\n",
    "        self.foods_eaten.append(food)\n",
    "    def introduce(self):\n",
    "        return \"Hi! I'm \", name, \", a \", species, \". I've eaten \", foods_eaten"
   ]
  },
  {
   "cell_type": "code",
   "execution_count": 20,
   "metadata": {
    "collapsed": false
   },
   "outputs": [
    {
     "data": {
      "text/plain": [
       "'Paul'"
      ]
     },
     "execution_count": 20,
     "metadata": {},
     "output_type": "execute_result"
    }
   ],
   "source": [
    "monkey= monkey('Paul','Baboon')\n",
    "monkey.name"
   ]
  },
  {
   "cell_type": "code",
   "execution_count": 22,
   "metadata": {
    "collapsed": false
   },
   "outputs": [
    {
     "data": {
      "text/plain": [
       "['banana', 'banana', 'grass', 'bugs']"
      ]
     },
     "execution_count": 22,
     "metadata": {},
     "output_type": "execute_result"
    }
   ],
   "source": [
    "monkey.eat('banana')\n",
    "monkey.eat('grass')\n",
    "monkey.eat('bugs')\n",
    "monkey.foods_eaten"
   ]
  },
  {
   "cell_type": "markdown",
   "metadata": {},
   "source": [
    "### Part 2: Bringing it all back\n",
    "\n",
    "```command + 'f'``` is an easy way to keyword search\n"
   ]
  },
  {
   "cell_type": "markdown",
   "metadata": {},
   "source": [
    "Now that we've been properly exposed to python classes lets go check out the Sklearn documentation for ```python Logistic Regression```.\n",
    "> Like Wow!  Its a Python Class\n",
    "\n",
    "\n",
    "Check out the Source code for the ``` LogisticRegression```.  "
   ]
  },
  {
   "cell_type": "markdown",
   "metadata": {},
   "source": [
    "1. How does ‘```Penalty```’ relate to the Class ````LogisticRegression```"
   ]
  },
  {
   "cell_type": "markdown",
   "metadata": {
    "collapsed": true
   },
   "source": [
    "Penalty is an attribute. It's default setting is l2/Ridge but can also be set to l1/Lasso."
   ]
  },
  {
   "cell_type": "markdown",
   "metadata": {},
   "source": [
    "> We got tons of parameters."
   ]
  },
  {
   "cell_type": "markdown",
   "metadata": {},
   "source": [
    "2.How does ‘```intercept_```’ relate to the Class ``` LogisticRegression```"
   ]
  },
  {
   "cell_type": "markdown",
   "metadata": {
    "collapsed": true
   },
   "source": [
    "Intercept_ is an _attribute.\n",
    "\n",
    "If the fit_intercept parameter is set to False, then Intercept = 0. Otherwise, an intercept is fit to the model"
   ]
  },
  {
   "cell_type": "markdown",
   "metadata": {},
   "source": [
    "3.How does the method ‘```fit```’ work with the Class ```LogisticRegression```."
   ]
  },
  {
   "cell_type": "markdown",
   "metadata": {
    "collapsed": true
   },
   "source": [
    "Given training data X, y, LogisticRegression.fit will fit a model"
   ]
  },
  {
   "cell_type": "code",
   "execution_count": null,
   "metadata": {
    "collapsed": true
   },
   "outputs": [],
   "source": []
  }
 ],
 "metadata": {
  "anaconda-cloud": {},
  "kernelspec": {
   "display_name": "Python 2",
   "language": "python",
   "name": "python2"
  },
  "language_info": {
   "codemirror_mode": {
    "name": "ipython",
    "version": 2
   },
   "file_extension": ".py",
   "mimetype": "text/x-python",
   "name": "python",
   "nbconvert_exporter": "python",
   "pygments_lexer": "ipython2",
   "version": "2.7.13"
  }
 },
 "nbformat": 4,
 "nbformat_minor": 1
}
