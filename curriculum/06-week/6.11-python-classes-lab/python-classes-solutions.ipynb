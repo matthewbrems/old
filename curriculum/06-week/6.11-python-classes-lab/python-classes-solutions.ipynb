{
 "cells": [
  {
   "cell_type": "markdown",
   "metadata": {},
   "source": [
    "### Part 1: Monkies!!\n",
    "\n",
    "Create a `Monkey` class using Python, which has the following attributes:\n",
    "* `name` - a string, which should be determined by some input\n",
    "* `species` - a string, which should be determined by some input\n",
    "* `foods_eaten` - an array, which should be initialized as an empty array\n",
    "\n",
    "And the following methods:\n",
    "* `eat(food)` - adds a food (a string) to the list of foods eaten\n",
    "* `introduce` - introduces self, with name, species, and what it's eaten"
   ]
  },
  {
   "cell_type": "code",
   "execution_count": 1,
   "metadata": {
    "collapsed": true
   },
   "outputs": [],
   "source": [
    "class Monkies:\n",
    "    def __init__ (self, name, species):\n",
    "        self.name = name\n",
    "        self.species = species\n",
    "    foods_eaten = []\n",
    "    def add_food(self, string):\n",
    "        self.foods_eaten.append(string)\n",
    "    def introduce(self):\n",
    "        return \"Hi, I am \" + str(self.name)+ \", my species is \"+ str(self.species)+\", and I have eaten \"+ ', '.join(self.foods_eaten)        \n",
    "#.join!!"
   ]
  },
  {
   "cell_type": "code",
   "execution_count": 2,
   "metadata": {
    "collapsed": false
   },
   "outputs": [],
   "source": [
    "monkey1 = Monkies(\"The Librarian\", \"Orangutan\")"
   ]
  },
  {
   "cell_type": "code",
   "execution_count": 3,
   "metadata": {
    "collapsed": false
   },
   "outputs": [
    {
     "data": {
      "text/plain": [
       "'The Librarian'"
      ]
     },
     "execution_count": 3,
     "metadata": {},
     "output_type": "execute_result"
    }
   ],
   "source": [
    "monkey1.name"
   ]
  },
  {
   "cell_type": "code",
   "execution_count": 4,
   "metadata": {
    "collapsed": false
   },
   "outputs": [],
   "source": [
    "monkey1.add_food(\"books\")"
   ]
  },
  {
   "cell_type": "code",
   "execution_count": 5,
   "metadata": {
    "collapsed": true
   },
   "outputs": [],
   "source": [
    "monkey1.add_food(\"students' will to live\")"
   ]
  },
  {
   "cell_type": "code",
   "execution_count": 6,
   "metadata": {
    "collapsed": false
   },
   "outputs": [
    {
     "data": {
      "text/plain": [
       "['books', \"students' will to live\"]"
      ]
     },
     "execution_count": 6,
     "metadata": {},
     "output_type": "execute_result"
    }
   ],
   "source": [
    "monkey1.foods_eaten"
   ]
  },
  {
   "cell_type": "code",
   "execution_count": 7,
   "metadata": {
    "collapsed": false
   },
   "outputs": [
    {
     "data": {
      "text/plain": [
       "\"Hi, I am The Librarian, my species is Orangutan, and I have eaten books, students' will to live\""
      ]
     },
     "execution_count": 7,
     "metadata": {},
     "output_type": "execute_result"
    }
   ],
   "source": [
    "monkey1.introduce()"
   ]
  },
  {
   "cell_type": "markdown",
   "metadata": {},
   "source": [
    "### Part 2: Bringing it all back\n",
    "\n",
    "```command + 'f'``` is an easy way to keyword search\n"
   ]
  },
  {
   "cell_type": "markdown",
   "metadata": {},
   "source": [
    "Now that we've been properly exposed to python classes lets go check out the Sklearn documentation for ```python Logistic Regression```.\n",
    "> Like Wow!  Its a Python Class\n",
    "\n",
    "\n",
    "Check out the Source code for the ``` LogisticRegression```.  "
   ]
  },
  {
   "cell_type": "markdown",
   "metadata": {},
   "source": [
    "1. How does ‘```Penalty```’ relate to the Class ````LogisticRegression```"
   ]
  },
  {
   "cell_type": "markdown",
   "metadata": {
    "collapsed": true
   },
   "source": [
    "It's an attribute used to specify the norm used in the penalization. "
   ]
  },
  {
   "cell_type": "markdown",
   "metadata": {},
   "source": [
    "> We got tons of parameters."
   ]
  },
  {
   "cell_type": "markdown",
   "metadata": {},
   "source": [
    "2.How does ‘```intercept_```’ relate to the Class ``` LogisticRegression```"
   ]
  },
  {
   "cell_type": "markdown",
   "metadata": {
    "collapsed": true
   },
   "source": [
    "It's an attribute that adds an intercept to the decision function"
   ]
  },
  {
   "cell_type": "markdown",
   "metadata": {},
   "source": [
    "3.How does the method ‘```fit```’ work with the Class ```LogisticRegression```."
   ]
  },
  {
   "cell_type": "markdown",
   "metadata": {
    "collapsed": true
   },
   "source": [
    "It's a method that takes values for x and y and applies logistic regression to these variables"
   ]
  },
  {
   "cell_type": "code",
   "execution_count": null,
   "metadata": {
    "collapsed": true
   },
   "outputs": [],
   "source": []
  }
 ],
 "metadata": {
  "anaconda-cloud": {},
  "kernelspec": {
   "display_name": "Python [default]",
   "language": "python",
   "name": "python2"
  },
  "language_info": {
   "codemirror_mode": {
    "name": "ipython",
    "version": 2
   },
   "file_extension": ".py",
   "mimetype": "text/x-python",
   "name": "python",
   "nbconvert_exporter": "python",
   "pygments_lexer": "ipython2",
   "version": "2.7.13"
  }
 },
 "nbformat": 4,
 "nbformat_minor": 1
}
