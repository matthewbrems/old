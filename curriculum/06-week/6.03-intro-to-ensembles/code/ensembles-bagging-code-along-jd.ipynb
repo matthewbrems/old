{
 "cells": [
  {
   "cell_type": "code",
   "execution_count": 1,
   "metadata": {
    "collapsed": true
   },
   "outputs": [],
   "source": [
    "import pandas as pd\n",
    "\n",
    "df = pd.read_csv('../assets/data/car.csv')"
   ]
  },
  {
   "cell_type": "code",
   "execution_count": 2,
   "metadata": {
    "collapsed": false
   },
   "outputs": [
    {
     "data": {
      "text/html": [
       "<div>\n",
       "<table border=\"1\" class=\"dataframe\">\n",
       "  <thead>\n",
       "    <tr style=\"text-align: right;\">\n",
       "      <th></th>\n",
       "      <th>buying</th>\n",
       "      <th>maint</th>\n",
       "      <th>doors</th>\n",
       "      <th>persons</th>\n",
       "      <th>lug_boot</th>\n",
       "      <th>safety</th>\n",
       "      <th>acceptability</th>\n",
       "    </tr>\n",
       "  </thead>\n",
       "  <tbody>\n",
       "    <tr>\n",
       "      <th>0</th>\n",
       "      <td>vhigh</td>\n",
       "      <td>vhigh</td>\n",
       "      <td>2</td>\n",
       "      <td>2</td>\n",
       "      <td>small</td>\n",
       "      <td>low</td>\n",
       "      <td>unacc</td>\n",
       "    </tr>\n",
       "    <tr>\n",
       "      <th>1</th>\n",
       "      <td>vhigh</td>\n",
       "      <td>vhigh</td>\n",
       "      <td>2</td>\n",
       "      <td>2</td>\n",
       "      <td>small</td>\n",
       "      <td>med</td>\n",
       "      <td>unacc</td>\n",
       "    </tr>\n",
       "    <tr>\n",
       "      <th>2</th>\n",
       "      <td>vhigh</td>\n",
       "      <td>vhigh</td>\n",
       "      <td>2</td>\n",
       "      <td>2</td>\n",
       "      <td>small</td>\n",
       "      <td>high</td>\n",
       "      <td>unacc</td>\n",
       "    </tr>\n",
       "    <tr>\n",
       "      <th>3</th>\n",
       "      <td>vhigh</td>\n",
       "      <td>vhigh</td>\n",
       "      <td>2</td>\n",
       "      <td>2</td>\n",
       "      <td>med</td>\n",
       "      <td>low</td>\n",
       "      <td>unacc</td>\n",
       "    </tr>\n",
       "    <tr>\n",
       "      <th>4</th>\n",
       "      <td>vhigh</td>\n",
       "      <td>vhigh</td>\n",
       "      <td>2</td>\n",
       "      <td>2</td>\n",
       "      <td>med</td>\n",
       "      <td>med</td>\n",
       "      <td>unacc</td>\n",
       "    </tr>\n",
       "  </tbody>\n",
       "</table>\n",
       "</div>"
      ],
      "text/plain": [
       "  buying  maint doors persons lug_boot safety acceptability\n",
       "0  vhigh  vhigh     2       2    small    low         unacc\n",
       "1  vhigh  vhigh     2       2    small    med         unacc\n",
       "2  vhigh  vhigh     2       2    small   high         unacc\n",
       "3  vhigh  vhigh     2       2      med    low         unacc\n",
       "4  vhigh  vhigh     2       2      med    med         unacc"
      ]
     },
     "execution_count": 2,
     "metadata": {},
     "output_type": "execute_result"
    }
   ],
   "source": [
    "df.head()"
   ]
  },
  {
   "cell_type": "code",
   "execution_count": 14,
   "metadata": {
    "collapsed": false
   },
   "outputs": [
    {
     "data": {
      "text/plain": [
       "array([2, 0, 3, 1])"
      ]
     },
     "execution_count": 14,
     "metadata": {},
     "output_type": "execute_result"
    }
   ],
   "source": [
    "df.acceptability.unique()"
   ]
  },
  {
   "cell_type": "markdown",
   "metadata": {},
   "source": [
    "Since most of the features are categorical text we will need to encode them as numbers using the LabelEncoder.\n"
   ]
  },
  {
   "cell_type": "code",
   "execution_count": 3,
   "metadata": {
    "collapsed": true
   },
   "outputs": [],
   "source": [
    "from sklearn.preprocessing import LabelEncoder\n",
    "le = LabelEncoder()\n",
    "features = [c for c in df.columns if c != 'acceptability'] #running through all columns that aren't acceptability\n",
    "for c in df.columns:\n",
    "    df[c] = le.fit_transform(df[c]) #fit_transforming all the columns using le\n",
    "\n",
    "X = df[features] #setting everything we just transformed to be our X\n",
    "y = df['acceptability'] #acceptability to be our y"
   ]
  },
  {
   "cell_type": "code",
   "execution_count": 4,
   "metadata": {
    "collapsed": false
   },
   "outputs": [
    {
     "data": {
      "text/html": [
       "<div>\n",
       "<table border=\"1\" class=\"dataframe\">\n",
       "  <thead>\n",
       "    <tr style=\"text-align: right;\">\n",
       "      <th></th>\n",
       "      <th>buying</th>\n",
       "      <th>maint</th>\n",
       "      <th>doors</th>\n",
       "      <th>persons</th>\n",
       "      <th>lug_boot</th>\n",
       "      <th>safety</th>\n",
       "      <th>acceptability</th>\n",
       "    </tr>\n",
       "  </thead>\n",
       "  <tbody>\n",
       "    <tr>\n",
       "      <th>0</th>\n",
       "      <td>3</td>\n",
       "      <td>3</td>\n",
       "      <td>0</td>\n",
       "      <td>0</td>\n",
       "      <td>2</td>\n",
       "      <td>1</td>\n",
       "      <td>2</td>\n",
       "    </tr>\n",
       "    <tr>\n",
       "      <th>1</th>\n",
       "      <td>3</td>\n",
       "      <td>3</td>\n",
       "      <td>0</td>\n",
       "      <td>0</td>\n",
       "      <td>2</td>\n",
       "      <td>2</td>\n",
       "      <td>2</td>\n",
       "    </tr>\n",
       "    <tr>\n",
       "      <th>2</th>\n",
       "      <td>3</td>\n",
       "      <td>3</td>\n",
       "      <td>0</td>\n",
       "      <td>0</td>\n",
       "      <td>2</td>\n",
       "      <td>0</td>\n",
       "      <td>2</td>\n",
       "    </tr>\n",
       "    <tr>\n",
       "      <th>3</th>\n",
       "      <td>3</td>\n",
       "      <td>3</td>\n",
       "      <td>0</td>\n",
       "      <td>0</td>\n",
       "      <td>1</td>\n",
       "      <td>1</td>\n",
       "      <td>2</td>\n",
       "    </tr>\n",
       "    <tr>\n",
       "      <th>4</th>\n",
       "      <td>3</td>\n",
       "      <td>3</td>\n",
       "      <td>0</td>\n",
       "      <td>0</td>\n",
       "      <td>1</td>\n",
       "      <td>2</td>\n",
       "      <td>2</td>\n",
       "    </tr>\n",
       "  </tbody>\n",
       "</table>\n",
       "</div>"
      ],
      "text/plain": [
       "   buying  maint  doors  persons  lug_boot  safety  acceptability\n",
       "0       3      3      0        0         2       1              2\n",
       "1       3      3      0        0         2       2              2\n",
       "2       3      3      0        0         2       0              2\n",
       "3       3      3      0        0         1       1              2\n",
       "4       3      3      0        0         1       2              2"
      ]
     },
     "execution_count": 4,
     "metadata": {},
     "output_type": "execute_result"
    }
   ],
   "source": [
    "df.head()"
   ]
  },
  {
   "cell_type": "markdown",
   "metadata": {},
   "source": [
    "Notice that we overwrote the original features for simplicity, since we are not interested in doing a study on feature importance.  \n",
    "\n",
    "<b>Check:</b> Is it correct to use the label encoder blindly like this?  \n",
    "\n",
    "\n",
    "<details>\n",
    "<summary>Answer</summary>\n",
    "No. The categorical features have a scale (amount of maintenance or how safe the car is, for example). It would be more appropriate to do one of the following:  \n",
    "- Use pd.get_dummies to encode them as binaries  \n",
    "- Use a map that correctly assigns a numerical scale to the values, e.g. where med > small  \n",
    "</details>"
   ]
  },
  {
   "cell_type": "markdown",
   "metadata": {},
   "source": [
    "The next step is to calculate the python cross_val_score on the two classifier:\n"
   ]
  },
  {
   "cell_type": "code",
<<<<<<< HEAD
   "execution_count": 7,
=======
   "execution_count": 4,
>>>>>>> 6bb87c35f75e0eefd2b9c3b55e7158d06443440c
   "metadata": {
    "collapsed": false
   },
   "outputs": [
    {
     "name": "stdout",
     "output_type": "stream",
     "text": [
      "KNN Score:\t0.643070305149\n",
<<<<<<< HEAD
      "Bagging Score:\t0.732692566205\n"
=======
      "Bagging Score:\t0.741920957118\n"
>>>>>>> 6bb87c35f75e0eefd2b9c3b55e7158d06443440c
     ]
    }
   ],
   "source": [
    "from sklearn.model_selection import cross_val_score\n",
    "from sklearn.ensemble import BaggingClassifier\n",
    "from sklearn.neighbors import KNeighborsClassifier\n",
    "\n",
    "knn = KNeighborsClassifier() #this is our base classifier\n",
    "bagging = BaggingClassifier(knn, n_estimators=20, max_samples=0.5, max_features=0.5) #this is us saying we want to bag a bunch of knn estimators\n",
    "\n",
    "print \"KNN Score:\\t\", cross_val_score(knn, X, y, cv=5, n_jobs=-1).mean()\n",
    "print \"Bagging Score:\\t\", cross_val_score(bagging, X, y, cv=5, n_jobs=-1).mean()"
   ]
  },
  {
   "cell_type": "code",
   "execution_count": 8,
   "metadata": {
    "collapsed": false
   },
   "outputs": [
    {
     "data": {
      "text/plain": [
       "BaggingClassifier(base_estimator=KNeighborsClassifier(algorithm='auto', leaf_size=30, metric='minkowski',\n",
       "           metric_params=None, n_jobs=1, n_neighbors=5, p=2,\n",
       "           weights='uniform'),\n",
       "         bootstrap=True, bootstrap_features=False, max_features=0.5,\n",
       "         max_samples=0.5, n_estimators=10, n_jobs=1, oob_score=False,\n",
       "         random_state=None, verbose=0, warm_start=False)"
      ]
     },
     "execution_count": 8,
     "metadata": {},
     "output_type": "execute_result"
    }
   ],
   "source": [
    "bagging"
   ]
  },
  {
   "cell_type": "markdown",
   "metadata": {},
   "source": [
    "## Independent practice:\n",
    "1. Go back to a previous lab where you didn't have a great accuracy score/your model wasn't very good at classification.\n",
    "2. Run the base estimator again, and then create a bagged classifier\n",
    "3. Try changing some of the parameters and look at how that affects your model"
   ]
  },
  {
   "cell_type": "code",
   "execution_count": 15,
   "metadata": {
    "collapsed": false
   },
   "outputs": [
    {
     "data": {
      "image/png": "iVBORw0KGgoAAAANSUhEUgAAAYAAAAEFCAYAAADqujDUAAAABHNCSVQICAgIfAhkiAAAAAlwSFlz\nAAALEgAACxIB0t1+/AAAIABJREFUeJzt3X98XHWd7/FXfk5akpSUDoLI75oPKFIDVUBBSm+5LuyC\nXVhlH13YFcULrq73enW96FVXXfeh7kNQuYpalAuroKiIP0Bwrfy0pSgQaKv2EwPLZcsPSduQpLSZ\nJJPcP85MnE4zyZkmJzNnzvv5ePTROed7zsznm7TnM+d7Pud76iYmJhARkeSpr3QAIiJSGUoAIiIJ\npQQgIpJQSgAiIgmlBCAiklCNlQ4grL6+obLLlTo6FtLfvzuKcCpOfYuvWu6f+lZ90um2ulJtNX0G\n0NjYUOkQIqO+xVct9099i5eaTgAiIlKaEoCISEIpAYiIJJQSgIhIQikBiIgklBKAiEhCKQGIiCSU\nEoCISEIpAYiIJFRspoKYa5nRLAO7MixqTQHs83pBqpE9mbGS7ZXcNtVUe3ckisj8izQBmNkpwOfc\nfUXR+vOAjwNjwPXufl2UcRTKjo9zy929dPf0sWMwQ0tzPVDH8EiWluZ6JiYgMzpOfR2MT7BPeyW3\nzYxkWdyeoqszzXvf1jVfPzIRqVGRJQAz+xBwCfBS0fom4AvA63Jt683sJ+7+x6hiKXTL3b2se3jb\n5PLwyPiUr8cnpm+v1LY7BjOse3gbCxc0s/qNR03dSRGREKK8BvAEcMEU648Het29391HgF8Bb4ow\njkmZ0SzdPX3z8VGR27jlOTKj2UqHISIxFtkZgLvfamZHTdHUDgwULA8Bi2Z6v46Ohfs1G1863Tb5\n+rntL7FzKFP2e1Sj7S/uoaG5ifSSAyodSiQKf2+1qJb7p77FRyUuAg8ChT/FNuDFmXban3m40+k2\n+vqGJpezo1kWt6XYMRj/JLDkwAVkR0b36l+tKP691Zpa7p/6Vn2mS1qVKAP9PfBKM1tsZs0Ewz8P\nzscHp5oa6OpMz8dHRe7UEw5VNZCIzMq8nQGY2Rqg1d3Xmtn/BH5OkICud/dnovrc4nLPs7oOIzs+\nwabeHewcHCbVHBxEMyNZUs0NTExMlKzAqfS2I6NZOtpaOPHYxZzzhqMmrwFUuiw1zGslK5HqUzcx\nUfaTFiui3EdCZsfH+emDT7P+8Wf2KvfMl1KeeOxBrFp+OIvbW4DqPIgWb7tzcJh1j2xjU+/2qi1h\nLX5dWLp60cqlNNTPfNIZ11PtsGq5f+pb9ZnukZA1mwBuXtezV7nnVFYtfwVrVnXOKq75FKZP1Szs\nzzuu/9HCquX+qW/VJ3HPBA5b7tndsz02pZS1UMIap5+3SBLUZAIY2JVhZ4hKn/6hYQZ2xaMiKGyf\nqlmcft4iSVCTCWBRa4rF7akZt+toa5kcX692YftUzeL08xZJgppMAGHLPbs6l8SmOqUWSljj9PMW\nSYKanQ30opVLWbigmfWPP7tXuWe+lLKrcwkXrVxa4SjLk4+3u2d71ZawFr8eGc1yYGuK447sYPUZ\nR+9VlluYDPLrF6QaGdv+EtkSJa4qLxWZOzVbBQTBVfttz75YcweOzGiWhuYmsiOjQHWWsC5qTZEd\nn+A7v+hh69P9U5bidnWm+asVx/CDe5/kUX+BnUMjoUtN96e8tFrEtZokDPWt+iSyDBTi+wsLIw59\nC1O2evjBrfznC7tm9TlxK+eNw+9uf6lv1SdxZaBSeWHLVp/pm93BH1ReKrK/lAAkEmHLVsfn4ARU\n5aUi+0cJQCIRtmy1vuTJaXgqLxXZP0oAEomwZauHpVtn/VkqLxXZPzVbBiqVV6pstXBW07NOegX3\ndD/D43/Yzs6hTOhS0+nKS2H2FUz5hFKqbFWkFigBSGQa6utZs6qTC888dq+DbOGspvd2P8vi9hTL\nlgazs7YuaGLBAS0lS1yLy0s3bHmeR3teYK5mMs2Xly575RLqgMf+sJ2dg5nYlpyKTEcJQCKXamrg\n4I6Fk8v3dD/DPY/+6REQOwYz3NP9LA0NQcJILzlgstyucL/865vX9bB+y/OT64dHxmd8nb/YHGbb\nHYMZ7n5k70dU7BjMTJa0xqnkVGQ6+ioj82q68tAw5ZyVnhVVJadSS5QAZF5NVx4appyz0rOiquRU\naokSgMyr6cpDw5RzVnpWVJWcSi2J7BqAmdUD1wLLgAxwmbv3FrRfAvwjMADc4O7fjCoWqR758tCp\npogIU8453f7zQSWnUkuivAi8Gmhx99PM7FTgKuAtAGa2BPhn4CTgRWCdmf3S3Z+KMB6pEoXlof1D\nw2XPzjrTrKiFr8udyTRfonrCMR2Mjk3gT/fTP5T5U9lq12FkRrNTzmRaqnwU9q5mem77S+zZPRLZ\nJHyFr5WsZDpRJoDTgbsA3H2jmS0vaDsGeNzddwKY2W+AU4GnIoxHqsRU5aHlHKhKlZfOxUG0sER1\n52CGjrZmTnnVy0g1N7DpiR2TZauFM5l29/RNlooWlo8WzoC6P2Wp5Zaw1spsqTJ/IpsN1My+Adzq\n7nfmlp8GjnH3MTPrAH4DvBEYAu4HvjrdMNDYWHaisVHfZiRa1/1oMz954MlQ2x7z8naefHYw4ohm\n7/wzjuFdq19T6TCkckpOuBLlGcAg0FawXO/uYwDu3m9m7wduBXYAjwLbp3uz/v7dZQcQ1+lbw1Df\n5l5mNMv6x5+ZecOcp56r/oM/wPrHn+Wc1x8+L8NB+ndZfdLptpJtUZ4XrgfOBchdA9icbzCzRoLx\n/zOAtwHH5bYXqZhyS0znYibT+aDSVSklyjOA24CzzWwDwSnIpWa2Bmh197VmBsE3/2HgKnef9gxA\nJGr5EtMdIZNAfmy+2ql0VUqJLAG4+zhwRdHqrQXtnwQ+GdXni5Sr3BLTw9Kzf5rZfFDpqpSiuYBE\nCkxVorrslQflKnt2TK4rnMl0U2+w/sDWFHbEgaSaG9j8xM4pS1TLKUstt4R1utlSRaaiZwLHlPoW\nrVK1/cVloovbU5xwzOLJewby6048NpjddHF7C7B3qWlDcxN7XhqO7D6AwtlS53sm02r43UUlrn2b\n7pnAOgMQmULxDKb5dVPNZHrfY8/ttV3x7Kaw96ym6SUH0DcxTtvC5sl1U816Wvi6nG2LZ0vVTKZS\niu4OEQmp3JlIKzFz6GxnW5VkUQIQCancMtFKlF/OdrZVSRYlAJGQyp2JtBLll7OdbVWSRQlAJKSw\nD7rPq0T55XQxqhxUiukisEgZwpaJljO76XzEWMl4pHqpDDSm1LfKmmkK6Om+ac9X/8LGM5fi8Lvb\nX3Htm8pAReZYqTLR4nWVVG3xSPXRNQARkYRSAhARSSglABGRhFICEBFJKCUAEZGEUgIQEUkoJQAR\nkYRSAhARSSglABGRhIrsTmAzqweuBZYBGeAyd+8taP8b4ANAFrje3b8aVSwiIrKvKM8AVgMt7n4a\ncCVwVVH754FVwBuBD5hZR4SxiIhIkSgTwOnAXQDuvhFYXtS+CVgEtAB1QDxmpRMRqRFRTgbXDgwU\nLGfNrNHdx3LLW4BHgJeAH7r7i9O9WUfHQhoby5/RMJ1uK3ufuFDf4quW+6e+xUeUCWAQKPxp1ecP\n/mZ2IvDnwNHALuDbZvZWd/9+qTfr799ddgBxnb41DPUtvmq5f+pb9ZkuaUU5BLQeOBfAzE4FNhe0\nDQB7gD3ungVeAHQNQERkHkV5BnAbcLaZbSAY47/UzNYAre6+1sy+DvzKzEaAJ4AbIoxFRESKRJYA\n3H0cuKJo9daC9q8BX4vq80VEZHozJgAzawb+ETDgvcD/AD7r7iMRxyYiIhEKcw3gK8ABwEnAGLAU\n+GaUQYnI3MqMZnmhfzeZ0WylQ5EqEmYI6GR3P8nMznH33Wb2d+x9QVdEqlR2fJxb7u6lu6ePnYMZ\nFren6OpMc9HKpTTUayaYpAuTACZyw0D5G7WWoJu2RGLhlrt7WffwtsnlHYOZyeU1qzorFZZUiTBf\nAb4IrAMOMbMvAg8DX4g0KhGZtcxolu6evinbunu2azhIQp0B3Elwx+5ZQANwnrtvijQqEZm1gV0Z\ndg5mpmzrHxpmYFeGgzsWznNUUk3CJIAH3P144HdRByMic2dRa4rF7Sl2TJEEOtpaWNSaqkBUUk3C\nJIDHzewS4NcEd+8C4O5PRxaViMxaqqmBrs70XtcA8ro6l5BqKn9uLaktYRLAKbk/hSaAY+Y+HBGZ\nSxetXAoEY/79Q8N0tLVw4rGLOavrMDKjWSWBhJsxAbj70fMRiIjMvYb6etas6uTCM49l5+Aw6x7Z\nxqbe7dzb/axKQiXUncBp4MvAf8ltfzfwbnf/Y8SxicgcSTU1cE/3M9zz6DOT61QSKmHS/teB3xAM\n+RwFbER3AovEikpCZSphrgEc4+4XFCz/a+6isIjEhEpCZSphzgAmzOzw/IKZHQGMRheSiMy1fEno\nVFQSmlxhzgA+BjxoZg8RzOt/CvDfIo1KROaUSkJlKmGqgG43sy7g9QRnDJe7+9SDiSJStaYqCe3q\nXDK5XpInTBXQWcCn3f2NZmbAQ2Z2sbtviD48EZkrhSWhA7syLGpN6Zt/woW5BnAVcDmAuzvBc36/\nFGVQIhKdVFMDB3cs1MFfQiWAFnffkl9w961AU3QhiYjIfAhzEXirmX0O+FZu+a+Bnpl2MrN64Fpg\nGZABLnP33lzbIcB3CzZ/LXBl7jnBIiIyD8KcAbyT4JGQ3wH+DWgF3hViv9UEZw+nAVcSDCUB4O7P\nu/sKd18BfBh4FLiuvNBFRGQ26iYmwj/cy8wOAna6+4w7mdnVwK/d/bu55Wfc/bCibeoI7jL+m9z1\nhZLGxrITjY0asxQRKVNdqYaSQ0C5OYC+SjAP0H3ArcB/Bf5oZue5+0zPB2gHBgqWs2bW6O5jBevO\nA34708EfoL9/90yb7COdbqOvb6js/eJAfYuvWu6f+lZ90um2km3TDQH9H4LHPz4MvA04CXg58FbC\nVQENAoWfXF908Ae4GFgb4r1ERGSOTZcAXuXun3X3XcA5wPfcfdDdHyVIBDNZT1AyipmdCmyeYpvl\ngO4nEBGpgOmqgArH+VcClxUsh5k16jbgbDPbQDAGdamZrQFa3X1tbohpMMz1BBERmXvTJYD/Z2YX\nERzsFwL3ApjZxcBvZ3pjdx8HrihavbWgvY+g/FNERCpgugTwHoJnAbwMWOPuI7nKnvPIDe2IiEh8\nlUwA7v6f7Hug/2fgg7lv9yIiEmNh7gSe5O79UQUiIiLzS0+CFhFJqBkTQG7eHhERqTFhhoDuN7M/\nADcAP3J3PQ5SRKQGzHgG4O6dwGeBNwNuZl82s+WRRyYiIpEKdQ3A3R8A3gt8AngL8EMzeyR3h6+I\niMRQmGsAq8zsRuAJ4AzgInc/Ang78INowxMRkaiEuQbwceCbwLvdfXJKTnffbGafjywyERGJVJgh\noD8nmL9nt5kdZmafMrOFAO7+xWjDExGRqIRJADcBh+ZeD+X2+VbpzUVEJA7CDAEd6e7nA7j7IPBR\nM3ss2rBERCRqYc4AJszsNfkFMzsO0L0AIiIxF+YM4IPAL8xsG8G8/kuASyKNSkREIjdjAnD3dWZ2\nBPAagm/+7u6ZyCMTEZFIzZgAzMyAvwdaCc4AGszsaHd/U9TBiYhIdMJcA7gFeBHoAh4DDga2RBmU\niIhEL8w1gHp3/yczawIeJXhK2IwPcjezeuBaYBmQAS5z996C9tcBVxOcVTwPXOzuw+V3QURE9keY\nM4DdZpYCeoCTc+P/LSH2Ww20uPtpwJXAVfkGM6sDrgMudffTgbuAI8sNXkRE9l+YBPBt4KfAHcA/\nmNmdwDMh9ssf2HH3jUDhDKKdwA7g/WZ2H7DY3b2cwEVEZHZCPQ8AuNHdh8xsBfA64N9D7NcODBQs\nZ82s0d3HCEpJ30Aww2gvcLuZPezud5d6s46OhTQ2NoT42L2l021l7xMX6lt81XL/1Lf4CJMAbnH3\n4wHcfRuwLeR7DwKFP6363MEfgm//ve7+ewAzu4vgDKFkAujv312qqaR0uo2+vqGy94sD9S2+arl/\n6lv1mS5phUkAvzOzjwMPAXvyK939/hn2Ww+cB3wv99yAzQVtTwKtZrY0d2H4DIIZR0VEZJ6ESQCL\ngbNyf/ImgJUz7HcbcLaZbSCo9LnUzNYQzCy61szeCdycuyC8wd3vKD98ERHZX2HuBD5rpm1K7DcO\nXFG0emtB+93A6/fnvUVEZPbC3Al8D8E3/r24+0xnACIiUsXCDAF9ouB1E8EzgfsjiUZEROZNmCGg\n+4pWrTOzhwgeFSkiIjEVZgjoiILFOuDVwEGRRSQiIvMizBBQ4RnABNAH/EM04YiIyHyZcSoIdz8a\n6Mz9bcBKd78z8shERCRSMyYAM3srwSygAEcAW83sLZFGJSIikQszGdzHgFUA7v4EcDLwySiDEhGR\n6IVJAM3u/sf8gru/QHAxWEREYizMReBfmdl3gJtyyxcBD0YXkoiIzIcwCeA9BFU/lxM8FP4+4KtR\nBiUiItELMwTUBOxx9/MIEsFBhEscIiJSxcIkgJuBQ3Ovh3L7fCuyiEREZF6E+SZ/pLufD+Dug8BH\nzeyxaMMSEZGohTkDmDCz1+QXzOw4gmsBIiISY2HOAD4I/MLM8o+CTAMXRxeSiIjMhzBTQawjuAP4\n3cBPgGcBTQUhIhJzYWYDPZqgBPRS4EDgX4DzI45LREQiVjIBmNlfEjzS8SSC5/teDFzn7p+ap9hE\nRCRC050B3Ap8HzjN3XsBzGw87BubWT1wLbAMyACX5d8n1/5+4DKC6aUBLnd3Ly98ERHZX9MlgBOB\ntxNMBfEU8J0Zti+2Gmhx99PM7FTgKoLHSeadDPytuz9STsAiIjI3Sl4Edvct7v5B4DDgM8AK4GVm\ndoeZnRvivU8H7sq910ZgeVH7ycCHzexXZvbh/QleRET2X5hnAmeBHwM/NrM0cAlBQvjZDLu2AwMF\ny1kza3T3sdzyd4GvAIPAbWb2F+5+e6k36+hYSGNjw0zh7iOdbit7n7hQ3+KrlvunvsVHWXP6uHsf\ncHXuz0wGgcKfVn3+4G9mdcAX3X0gt3wH0AWUTAD9/bvLCRUIfll9fUNl7xcH6lt81XL/1LfqM13S\nCnMn8P5aD5wLkLsGsLmgrR3YYmatuWSwEtC1ABGReRTlrJ63AWeb2QaCB8hcamZrgFZ3X2tmHwHu\nIagQ+qW7zzSkJCJzLDOaZWBXhkWtKVJN+w6xFrYD024r8RNZAnD3cYL7CAptLWj/FppVVKQisuPj\n3HJ3L909fewczLC4PUVXZ5qLVi6lob5+r/YdgxlamuuBOjIj2X22lfjSvP4iCXTL3b2se3jb5PKO\nwczk8ppVnfu0D4+Ml9xW4kvpWyRhMqNZunv6pmzr7tnO0O6Rku3F22ZGs3MdnswjJQCRhBnYlWHn\nYGbKtv6hYba9sKtke/G2A7tm3k6qlxKASMIsak2xuD01ZVtHWwuvOLi1ZHvxtvmLwxJPSgAiCZNq\naqCrMz1lW1fnEtoWNpdsL95W1UDxpovAIgl00cqlQDCO3z80zIGtKY47soPVZxxNZjTLWV2HkR2f\nYFPvDnYODpNqDg70I6NZOtpa6OpcMvkeEl9KACIJ1FBfz5pVnaw+4xi+84setj7dz4Ytz/NozwsU\nlnueeOxBrFp+OIvbWwDdB1BrlABEEuxHDzzJ+i3PTy4Xl3ve0/0sDQ31k+WeB3csnPcYJTq6BiCS\nUNOVgxZSuWftUgIQSajpykELqdyzdikBiCTUdOWghVTuWbuUAEQSarpy0EIq96xduggskmCF5aAq\n90weJQCRBMuXg1545rGa9jmBlABEhFRTw14lnir3TAZdAxARSSglABGRhFICEBFJKCUAEZGEiuwi\nsJnVA9cCywge/H6Zu/dOsd1aYKe7XxlVLCIisq8ozwBWAy3ufhpwJXBV8QZmdjnwmghjEBGREqIs\nAz0duAvA3Tea2fLCRjN7A3AK8HXguJnerKNjIY2N5dckp9NtZe8TF+pbfNVy/9S3+IgyAbQDAwXL\nWTNrdPcxMzsU+CfgL4G3hXmz/v7dZQeQTrfR1zdU9n5xoL7FVy33T32rPtMlrSgTwCBQ+Mn17j6W\ne/1WYAnwM+AQYKGZbXX3GyKMR0RECkSZANYD5wHfM7NTgc35Bne/BrgGwMzeDhyng7+IyPyKMgHc\nBpxtZhuAOuBSM1sDtLr72gg/V0REQogsAbj7OHBF0eqtU2x3Q1QxiIhIaboRTEQkoZQAREQSSglA\nRCShlABERBJKCUBEJKGUAEREEkoJQEQkoZQAREQSSglARCShlABERBJKCUBEJKGUAEREEkoJQEQk\noZQAREQSSglARCShlABERBJKCUBEJKGUAEREEiqyR0KaWT1wLbAMyACXuXtvQfuFwJXABHCTu38p\nqlhERGRfUZ4BrAZa3P00ggP9VfkGM2sAPgusAk4D/t7MlkQYi4iIFInsDAA4HbgLwN03mtnyfIO7\nZ83seHcfM7ODgQZgJMJYRGSOZEazDOzKsKg1BbDX6+e2v0R2NLvP+oFdGRakGtmTGZtyv2rctni/\nsWn6Nl/xpJoa9udXVlKUCaAdGChYzppZo7uPAeQO/hcAXwHuAF6a7s06OhbS2Fh+59PptrL3iQv1\nLb7i2L9sdpzrf/pbNm55jhf697Ag1QDUsSczNu3riQkYHslSXw/j41T9ttUYz/DIGOkDF3DqCYfy\njvNeTUPD3Aze1E1MTMzJGxUzs6uBje7+vdzyNnd/xRTb1QM3APe4+/8t9X59fUNlB5pOt9HXN1Tu\nbrGgvsVXXPt387oe1j28rdJhJN6q5a9gzarO0Nun0211pdqivAawHjgXwMxOBTbnG8ys3czuM7OU\nu48TfPsfjzAWEZmFzGiW7p6+SochQHfPdjK5oajZinII6DbgbDPbANQBl5rZGqDV3dea2U3A/WY2\nCmwCvh1hLCIyCwO7MuwczFQ6DAH6h4YZ2JXh4I6Fs36vyBJA7pv9FUWrtxa0rwXWRvX5IjJ3FrWm\nWNyeYoeSQMV1tLVMXhyeLd0IJiIzSjU10NWZrnQYAnR1LpmzaqAoh4BEpIZctHIpEIxB7xwcJtUc\nHIQyI9lpX09MTJAZHae+DsYnoKW5Hqir2m2rMZ6R0SwdbS10dS6Z/D3MBSUAEQmlob6eNas6ufDM\nY0vWqzc0N5EdGd1nfbXU9s/mPoAFB7SU7Ftc7wOIrAx0rqkMdG/qW3zVcv/Ut+pTqTJQERGpYkoA\nIiIJpQQgIpJQSgAiIgmlBCAiklBKACIiCaUEICKSUEoAIiIJFZsbwUREZG7pDEBEJKGUAEREEkoJ\nQEQkoZQAREQSSglARCShlABERBJKCUBEJKFq7olgZlYPXAssAzLAZe7eW9moZsfMmoDrgaOAFPBp\n4HfADcAEsAV4j7uPVyjEWTOzg4FHgLOBMWqkb2b2YeB8oJng3+V91E7fmoAbCf5dZoF3UQO/OzM7\nBficu68ws6VM0R8zexdwOUF/P+3ut1cs4FmoxTOA1UCLu58GXAlcVeF45sLFwA53PwP4M+DLwNXA\nR3Pr6oC3VDC+WckdSL4O7Mmtqom+mdkK4A3AG4EzgcOpkb7lnAs0uvsbgE8B/0LM+2dmHwK+AbTk\nVu3THzM7BHgfwe/1zcBnzCxViXhnqxYTwOnAXQDuvhFYXtlw5sT3gY/lXtcRfOs4meDbJMCdwKoK\nxDVXPg98DXg2t1wrfXszsBm4DfgpcDu10zeAHqAxd9bdDowS//49AVxQsDxVf14PrHf3jLsPAL3A\nifMa5RypxQTQDgwULGfNLNZDXe6+y92HzKwN+AHwUaDO3fPzeAwBiyoW4CyY2duBPnf/ecHqmugb\nsITgC8hbgSuAm4D6GukbwC6C4Z+twHXANcT8d+futxIksryp+lN8jIldP/NqMQEMAm0Fy/XuPlap\nYOaKmR0O3AN8y91vBgrHVduAFysS2Oy9AzjbzO4FXgv8G3BwQXuc+7YD+Lm7j7i7A8PsfaCIc98A\n3k/Qv06Ca243ElzryIt7/2Dq/2fFx5jY9rMWE8B6grFJzOxUglPwWDOzlwH/Dvwvd78+t7o7N8YM\ncA7wQCVimy13f5O7n+nuK4DHgL8F7qyFvgG/Av7MzOrM7OXAAcAva6RvAP386ZvwTqCJGvl3WWCq\n/vwaOMPMWsxsEXA8wQXi2In10EgJtxF8o9xAMF5+aYXjmQsfATqAj5lZ/lrAfweuMbNm4PcEQ0O1\n4gPAdXHvm7vfbmZvIjhg1APvAf6DGuhbzheA683sAYJv/h8BHqZ2+gdT/Ft096yZXUOQDOqB/+3u\nw5UMcn9pOmgRkYSqxSEgEREJQQlARCShlABERBJKCUBEJKGUAEREEkoJQGqKma3I3VSWX24zswfN\nbNZzQpnZN8ys5NQiZnaUmT1Vok3ldlJ1avE+ABEAzKyVYF6o+9z9ytm+n7tfNvuoRKqHEoDUJDM7\nAPgZcLe7f6zENs8R3Kh0OsEEe29z9/8ws9cR3OS0ENgOXJ5bfy/wCXe/18w+A/xVrv054CfAvcAC\nM/sucALBnbKr3X1H7vPWEkwkth14h7s/bWadwFpgMfAS8D53/42Z3QAcBCwFPkQwm+jZBNMu/9jd\nPzlnPyxJLA0BSS1aSDDz5gkEB/JSDgF+6e5dwP3Ae3N3fH4DWOPuJxFMJ35d4U5mdh5B0ng1wbQj\nXQXNaeBqdz8B+CPw1wVt97n7a4EfAl/Krfs2cI27n0gwt84PCqYW3uHuxwObgHPcfRnB9NKvNLMW\nRGZJCUBq0euAXwK3EBzMp3NX7u8tBN/CO4FjgZ+Y2WPA54BjivY5G/hebpK3fuBHBW3Puvuvc69/\nSzAjKMAed78p9/rbwIrcENVSd/8hTE5fvhOw3HYP5f5+BthjZusJksRH4zr1gFQXJQCpRRvd/dME\n87icYGZXlNqw4EA6QTB3VAPwpLu/Nvdt/WSCb/uFspT+v1M482z+PfP75NURTDlcX9Be2JYfmt2T\ni3EMOIXgmRAHAQ/mho5EZkUJQGpRBsDddwOXAP9qZq8Kue9WYLGZnZFbfgdwc9E2vwAuNLNmM2sH\n/oLgYD/zSpjeAAAA2UlEQVSdVjM7v+A917n7IPCEmV0Ak7PXHkLRzJJm1kXwUJL73f2DBI8DNURm\nSQlAapq7P0RwHeC7YcbN3T1D8ACXq8xsE/B3wDuLtvkZwTWDbuAOgieZ7WF6LwKrzexxgiGk9+fW\nXwy8z8w2Ezzq8wJ3Hyn6vG7gQWCLmT0KPEXwdCqRWdFsoCJlMrPTgE53vzH3POMHCap6NlU4NJGy\nKAGIlMnMFhMMCx1KcBZ9o7t/vrJRiZRPCUBEJKF0DUBEJKGUAEREEkoJQEQkoZQAREQSSglARCSh\n/j+vAXz9SjgMggAAAABJRU5ErkJggg==\n",
      "text/plain": [
       "<matplotlib.figure.Figure at 0x11d2e0f50>"
      ]
     },
     "metadata": {},
     "output_type": "display_data"
    },
    {
     "data": {
      "text/plain": [
       "'optimal k = 19 with accuracy score = 1.0'"
      ]
     },
     "execution_count": 15,
     "metadata": {},
     "output_type": "execute_result"
    }
   ],
   "source": [
    "import pandas as pd\n",
    "from sklearn.model_selection import train_test_split\n",
    "from sklearn.neighbors import KNeighborsClassifier\n",
    "from sklearn import metrics\n",
    "\n",
    "# read the iris data into a DataFrame\n",
    "url = 'http://archive.ics.uci.edu/ml/machine-learning-databases/iris/iris.data'\n",
    "col_names = ['sepal_length', 'sepal_width', 'petal_length', 'petal_width', 'species']\n",
    "iris = pd.read_csv(url, header=None, names=col_names)\n",
    "\n",
    "\n",
    "iris['species_num'] = [0 if x =='Iris-setosa' else 1 if x == 'Iris-versicolor' else 2 if x == 'Iris-virginica' else null for x in iris.species]\n",
    "feature_cols = ['sepal_length', 'sepal_width', 'petal_length', 'petal_width']\n",
    "X = iris[feature_cols]\n",
    "y = iris.species\n",
    "\n",
    "\n",
    "def tts_find_knn(X,y):\n",
    "    X_train, X_test, y_train, y_test = train_test_split(X, y)\n",
    "    n = len(y_train)\n",
    "    ks = []\n",
    "    scores = []\n",
    "    ideal_k = 1\n",
    "    for k in range(1,n):\n",
    "        knn = KNeighborsClassifier(n_neighbors=k)\n",
    "        knn.fit(X_train, y_train)\n",
    "        y_pred_class = knn.predict(X_test)\n",
    "        score = metrics.accuracy_score(y_test, y_pred_class)\n",
    "        ks.append(k)\n",
    "        scores.append(score)\n",
    "        max_score = max(scores)\n",
    "        if score >= max_score: \n",
    "            ideal_k = k        \n",
    "    plt.scatter(ks, scores)\n",
    "    plt.xlabel('K neighbors')\n",
    "    plt.ylabel('Accuracy Score')\n",
    "    plt.show()\n",
    "    return 'optimal k = ' + str(ideal_k) + ' with accuracy score = ' + str(max_score)\n",
    "    \n",
    "tts_find_knn(X,y)"
   ]
  },
  {
   "cell_type": "code",
   "execution_count": 20,
   "metadata": {
    "collapsed": false
   },
   "outputs": [
    {
     "name": "stdout",
     "output_type": "stream",
     "text": [
      "KNN Score:\t0.946666666667\n",
      "Bagging Score:\t0.96\n"
     ]
    }
   ],
   "source": [
    "from sklearn.model_selection import cross_val_score\n",
    "from sklearn.ensemble import BaggingClassifier\n",
    "from sklearn.neighbors import KNeighborsClassifier\n",
    "\n",
    "knn = KNeighborsClassifier(n_neighbors=2) #this is our base classifier\n",
    "bagging = BaggingClassifier(knn, max_samples=0.5, max_features=0.5) #this is us saying we want to bag a bunch of knn estimators\n",
    "\n",
    "print \"KNN Score:\\t\", cross_val_score(knn, X, y, cv=5, n_jobs=-1).mean()\n",
    "print \"Bagging Score:\\t\", cross_val_score(bagging, X, y, cv=5, n_jobs=-1).mean()"
   ]
  },
  {
   "cell_type": "code",
   "execution_count": null,
   "metadata": {
    "collapsed": true
   },
   "outputs": [],
   "source": []
  }
 ],
 "metadata": {
  "anaconda-cloud": {},
  "kernelspec": {
   "display_name": "Python 2",
   "language": "python",
   "name": "python2"
  },
  "language_info": {
   "codemirror_mode": {
    "name": "ipython",
    "version": 2
   },
   "file_extension": ".py",
   "mimetype": "text/x-python",
   "name": "python",
   "nbconvert_exporter": "python",
   "pygments_lexer": "ipython2",
   "version": "2.7.13"
  }
 },
 "nbformat": 4,
 "nbformat_minor": 1
}
