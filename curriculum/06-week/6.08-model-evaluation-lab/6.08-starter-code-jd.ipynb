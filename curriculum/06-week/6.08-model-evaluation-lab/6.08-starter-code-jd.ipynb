{
 "cells": [
  {
   "cell_type": "markdown",
   "metadata": {},
   "source": [
    "# Model Comparison Lab\n",
    "\n",
    "In this lab we will compare the performance of all the models we have learned about so far, using the Titanic dataset.\n"
   ]
  },
  {
   "cell_type": "markdown",
   "metadata": {},
   "source": [
    "## 1. Prepare the data\n",
    "\n",
    "The [titanic dataset](https://www.kaggle.com/c/titanic/data) is one we've talked about a lot. Load in the train data from the assets folder.\n",
    "\n",
    "1. Load the data into a pandas dataframe\n",
    "- Encode the categorical features properly\n",
    "- Separate features from target into X and y"
   ]
  },
  {
   "cell_type": "code",
   "execution_count": 1,
   "metadata": {
    "collapsed": false
   },
   "outputs": [
    {
     "data": {
      "text/html": [
       "<div>\n",
       "<table border=\"1\" class=\"dataframe\">\n",
       "  <thead>\n",
       "    <tr style=\"text-align: right;\">\n",
       "      <th></th>\n",
       "      <th>PassengerId</th>\n",
       "      <th>Survived</th>\n",
       "      <th>Pclass</th>\n",
       "      <th>Name</th>\n",
       "      <th>Sex</th>\n",
       "      <th>Age</th>\n",
       "      <th>SibSp</th>\n",
       "      <th>Parch</th>\n",
       "      <th>Ticket</th>\n",
       "      <th>Fare</th>\n",
       "      <th>Cabin</th>\n",
       "      <th>Embarked</th>\n",
       "    </tr>\n",
       "  </thead>\n",
       "  <tbody>\n",
       "    <tr>\n",
       "      <th>1</th>\n",
       "      <td>2</td>\n",
       "      <td>1</td>\n",
       "      <td>1</td>\n",
       "      <td>Cumings, Mrs. John Bradley (Florence Briggs Th...</td>\n",
       "      <td>female</td>\n",
       "      <td>38.0</td>\n",
       "      <td>1</td>\n",
       "      <td>0</td>\n",
       "      <td>PC 17599</td>\n",
       "      <td>71.2833</td>\n",
       "      <td>C85</td>\n",
       "      <td>C</td>\n",
       "    </tr>\n",
       "    <tr>\n",
       "      <th>3</th>\n",
       "      <td>4</td>\n",
       "      <td>1</td>\n",
       "      <td>1</td>\n",
       "      <td>Futrelle, Mrs. Jacques Heath (Lily May Peel)</td>\n",
       "      <td>female</td>\n",
       "      <td>35.0</td>\n",
       "      <td>1</td>\n",
       "      <td>0</td>\n",
       "      <td>113803</td>\n",
       "      <td>53.1000</td>\n",
       "      <td>C123</td>\n",
       "      <td>S</td>\n",
       "    </tr>\n",
       "    <tr>\n",
       "      <th>6</th>\n",
       "      <td>7</td>\n",
       "      <td>0</td>\n",
       "      <td>1</td>\n",
       "      <td>McCarthy, Mr. Timothy J</td>\n",
       "      <td>male</td>\n",
       "      <td>54.0</td>\n",
       "      <td>0</td>\n",
       "      <td>0</td>\n",
       "      <td>17463</td>\n",
       "      <td>51.8625</td>\n",
       "      <td>E46</td>\n",
       "      <td>S</td>\n",
       "    </tr>\n",
       "    <tr>\n",
       "      <th>10</th>\n",
       "      <td>11</td>\n",
       "      <td>1</td>\n",
       "      <td>3</td>\n",
       "      <td>Sandstrom, Miss. Marguerite Rut</td>\n",
       "      <td>female</td>\n",
       "      <td>4.0</td>\n",
       "      <td>1</td>\n",
       "      <td>1</td>\n",
       "      <td>PP 9549</td>\n",
       "      <td>16.7000</td>\n",
       "      <td>G6</td>\n",
       "      <td>S</td>\n",
       "    </tr>\n",
       "    <tr>\n",
       "      <th>11</th>\n",
       "      <td>12</td>\n",
       "      <td>1</td>\n",
       "      <td>1</td>\n",
       "      <td>Bonnell, Miss. Elizabeth</td>\n",
       "      <td>female</td>\n",
       "      <td>58.0</td>\n",
       "      <td>0</td>\n",
       "      <td>0</td>\n",
       "      <td>113783</td>\n",
       "      <td>26.5500</td>\n",
       "      <td>C103</td>\n",
       "      <td>S</td>\n",
       "    </tr>\n",
       "  </tbody>\n",
       "</table>\n",
       "</div>"
      ],
      "text/plain": [
       "    PassengerId  Survived  Pclass  \\\n",
       "1             2         1       1   \n",
       "3             4         1       1   \n",
       "6             7         0       1   \n",
       "10           11         1       3   \n",
       "11           12         1       1   \n",
       "\n",
       "                                                 Name     Sex   Age  SibSp  \\\n",
       "1   Cumings, Mrs. John Bradley (Florence Briggs Th...  female  38.0      1   \n",
       "3        Futrelle, Mrs. Jacques Heath (Lily May Peel)  female  35.0      1   \n",
       "6                             McCarthy, Mr. Timothy J    male  54.0      0   \n",
       "10                    Sandstrom, Miss. Marguerite Rut  female   4.0      1   \n",
       "11                           Bonnell, Miss. Elizabeth  female  58.0      0   \n",
       "\n",
       "    Parch    Ticket     Fare Cabin Embarked  \n",
       "1       0  PC 17599  71.2833   C85        C  \n",
       "3       0    113803  53.1000  C123        S  \n",
       "6       0     17463  51.8625   E46        S  \n",
       "10      1   PP 9549  16.7000    G6        S  \n",
       "11      0    113783  26.5500  C103        S  "
      ]
     },
     "execution_count": 1,
     "metadata": {},
     "output_type": "execute_result"
    }
   ],
   "source": [
    "import pandas as pd\n",
    "import numpy as np\n",
    "import matplotlib.pyplot as plt\n",
    "%matplotlib inline\n",
    "\n",
    "titanic = pd.read_csv('assets/train.csv')\n",
    "titanic.dropna(inplace=True)\n",
    "titanic.head()"
   ]
  },
  {
   "cell_type": "code",
   "execution_count": 2,
   "metadata": {
    "collapsed": false
   },
   "outputs": [],
   "source": [
    "titanic['Sex']  = [1 if person == 'female' else 0 for person in titanic.Sex ]\n",
    "\n",
    "y = titanic.Survived\n",
    "X = titanic[['Pclass', 'Sex', 'Age', 'Fare']]"
   ]
  },
  {
   "cell_type": "markdown",
   "metadata": {},
   "source": [
    "## 2. Useful preparation\n",
    "\n",
    "Since we will compare several models, let's write a couple of helper functions.\n",
    "\n",
    "1. Separate X and y between a train and test set, using 30% test set, random state = 42\n",
    "    - make sure that the data is shuffled and stratified\n",
    "2. Define a function called `evaluate_model`, that trains the model on the train set, tests it on the test, calculates the evaluative measures below.\n",
    "  - accuracy score\n",
    "  - confusion matrix\n",
    "  - classification report\n",
    "3. Initialize a global dictionary to store the various models for later retrieval (your dictionary will likely contain the estimator and best score)"
   ]
  },
  {
   "cell_type": "code",
   "execution_count": 69,
   "metadata": {
    "collapsed": false
   },
   "outputs": [],
   "source": [
    "from sklearn.model_selection import train_test_split, KFold\n",
    "from sklearn.metrics import accuracy_score, precision_score, recall_score, confusion_matrix, classification_report\n",
    "\n",
    "X_train, X_test, y_train, y_test = train_test_split(X, y, test_size=0.3, random_state=42, stratify=y)\n",
    "\n",
    "all_models = []\n",
    "\n",
    "def evaluate_model(model,name):\n",
    "    model.fit(X_train, y_train)\n",
    "    predictions = model.predict(X_test)\n",
    "    score = accuracy_score(y_test, predictions)\n",
    "    matrix = confusion_matrix(y_test, predictions)\n",
    "    class_report = classification_report(y_test, predictions)\n",
    "    \n",
    "    print matrix\n",
    "    print class_report\n",
    "    print score\n",
    "    entry = {}\n",
    "    entry['model'] = name\n",
    "    entry['score'] = score\n",
    "    all_models.append(entry)\n"
   ]
  },
  {
   "cell_type": "markdown",
   "metadata": {},
   "source": [
    "## 3.a KNN\n",
    "\n",
    "Let's start with `KNeighborsClassifier`.\n",
    "\n",
    "1. Initialize a KNN model\n",
    "- Evaluate its performance with the function you previously defined\n",
    "- Find the optimal value of parameter K using grid search\n",
    "    - Be careful on how you perform the cross validation in the grid search"
   ]
  },
  {
   "cell_type": "code",
   "execution_count": 70,
   "metadata": {
    "collapsed": false
   },
   "outputs": [
    {
     "name": "stdout",
     "output_type": "stream",
     "text": [
      "[[ 3 15]\n",
      " [ 3 34]]\n",
      "             precision    recall  f1-score   support\n",
      "\n",
      "          0       0.50      0.17      0.25        18\n",
      "          1       0.69      0.92      0.79        37\n",
      "\n",
      "avg / total       0.63      0.67      0.61        55\n",
      "\n",
      "0.672727272727\n"
     ]
    }
   ],
   "source": [
    "from sklearn.neighbors import KNeighborsClassifier\n",
    "\n",
    "evaluate_model(KNeighborsClassifier(),'KNN_baseline')"
   ]
  },
  {
   "cell_type": "code",
   "execution_count": 101,
   "metadata": {
    "collapsed": false
   },
   "outputs": [
    {
     "name": "stdout",
     "output_type": "stream",
     "text": [
      "[[ 3 15]\n",
      " [ 4 33]]\n",
      "             precision    recall  f1-score   support\n",
      "\n",
      "          0       0.43      0.17      0.24        18\n",
      "          1       0.69      0.89      0.78        37\n",
      "\n",
      "avg / total       0.60      0.65      0.60        55\n",
      "\n",
      "0.654545454545\n"
     ]
    }
   ],
   "source": [
    "from sklearn.model_selection import GridSearchCV\n",
    "\n",
    "params = {'n_neighbors': range(2,60)}\n",
    "\n",
    "gridsearch_knn = GridSearchCV(KNeighborsClassifier(),\n",
    "                     params, n_jobs=-1,\n",
    "                     cv=5)\n",
    "gridsearch_knn.fit(X_train, y_train)\n",
    "\n",
    "evaluate_model(gridsearch_knn.best_estimator_,'KNN_gs')"
   ]
  },
  {
   "cell_type": "markdown",
   "metadata": {},
   "source": [
    "## 3.b Bagging + KNN\n",
    "\n",
    "Now that we have found the optimal K, let's wrap `KNeighborsClassifier` in a BaggingClassifier and see if the score improves.\n",
    "\n",
    "1. Wrap the KNN model in a Bagging Classifier\n",
    "- Evaluate performance\n",
    "- Do a grid search only on the bagging classifier parameters"
   ]
  },
  {
   "cell_type": "code",
   "execution_count": 6,
   "metadata": {
    "collapsed": true
   },
   "outputs": [],
   "source": [
    "from sklearn.ensemble import BaggingClassifier"
   ]
  },
  {
   "cell_type": "code",
   "execution_count": 72,
   "metadata": {
    "collapsed": false
   },
   "outputs": [
    {
     "name": "stdout",
     "output_type": "stream",
     "text": [
      "[[ 6 12]\n",
      " [ 7 30]]\n",
      "             precision    recall  f1-score   support\n",
      "\n",
      "          0       0.46      0.33      0.39        18\n",
      "          1       0.71      0.81      0.76        37\n",
      "\n",
      "avg / total       0.63      0.65      0.64        55\n",
      "\n",
      "0.654545454545\n"
     ]
    }
   ],
   "source": [
    "evaluate_model(BaggingClassifier(KNeighborsClassifier()),'KNN_bag')"
   ]
  },
  {
   "cell_type": "code",
   "execution_count": 105,
   "metadata": {
    "collapsed": false
   },
   "outputs": [],
   "source": [
    "def bag_classifier(model,name):\n",
    "    bagging_params = {'n_estimators': [10, 20],\n",
    "                      'max_samples': [0.7, 1.0],\n",
    "                      'max_features': [0.7, 1.0],\n",
    "                      'bootstrap_features': [True, False]}\n",
    "    bag = GridSearchCV(BaggingClassifier(model),\n",
    "                                bagging_params, n_jobs=-1,\n",
    "                                cv=5)\n",
    "\n",
    "    bag.fit(X_train, y_train)\n",
    "#     print 'test', bag.score(X_test,y_test)\n",
    "#     print bag.best_params_\n",
    "#     print bag.best_score_\n",
    "\n",
    "    entry = {}\n",
    "    entry['model'] = name\n",
    "    entry['score'] = bag.best_score_\n",
    "    \n",
    "    all_models.append(entry)\n",
    "#     evaluate_model(bag.best_estimator_,name)\n",
    "#     return bag.best_estimator"
   ]
  },
  {
   "cell_type": "code",
   "execution_count": 106,
   "metadata": {
    "collapsed": false
   },
   "outputs": [],
   "source": [
    "bag_classifier(KNeighborsClassifier(),'KNN_bag_gs')"
   ]
  },
  {
   "cell_type": "markdown",
   "metadata": {},
   "source": [
    "## 4. Logistic Regression\n",
    "\n",
    "Let's see if logistic regression performs better.\n",
    "\n",
    "1. Initialize LR and test on Train/Test set\n",
    "- Find optimal parameters with Grid Search\n",
    "- See if Bagging improves the score"
   ]
  },
  {
   "cell_type": "code",
   "execution_count": 76,
   "metadata": {
    "collapsed": false
   },
   "outputs": [
    {
     "name": "stdout",
     "output_type": "stream",
     "text": [
      "[[14  4]\n",
      " [ 9 28]]\n",
      "             precision    recall  f1-score   support\n",
      "\n",
      "          0       0.61      0.78      0.68        18\n",
      "          1       0.88      0.76      0.81        37\n",
      "\n",
      "avg / total       0.79      0.76      0.77        55\n",
      "\n",
      "0.763636363636\n"
     ]
    }
   ],
   "source": [
    "from sklearn.linear_model import LogisticRegression\n",
    "\n",
    "# X_train, X_test, y_train, y_test = train_test_split(X, y, test_size=0.3, random_state=42, stratify=y)\n",
    "evaluate_model(LogisticRegression(),'LR_baseline')"
   ]
  },
  {
   "cell_type": "code",
   "execution_count": 102,
   "metadata": {
    "collapsed": false
   },
   "outputs": [
    {
     "name": "stdout",
     "output_type": "stream",
     "text": [
      "[[12  6]\n",
      " [ 9 28]]\n",
      "             precision    recall  f1-score   support\n",
      "\n",
      "          0       0.57      0.67      0.62        18\n",
      "          1       0.82      0.76      0.79        37\n",
      "\n",
      "avg / total       0.74      0.73      0.73        55\n",
      "\n",
      "0.727272727273\n"
     ]
    }
   ],
   "source": [
    "param_grid = {'C': [0.001, 0.01, 0.1, 1, 10, 100, 1000],'penalty':['l1','l2'] }\n",
    "gridsearch_LR = GridSearchCV(LogisticRegression(), param_grid)\n",
    "gridsearch_LR.fit(X_train, y_train)\n",
    "\n",
    "evaluate_model(gridsearch_LR.best_estimator_,'LR_gs')"
   ]
  },
  {
   "cell_type": "code",
   "execution_count": 78,
   "metadata": {
    "collapsed": false
   },
   "outputs": [
    {
     "name": "stdout",
     "output_type": "stream",
     "text": [
      "[[13  5]\n",
      " [ 8 29]]\n",
      "             precision    recall  f1-score   support\n",
      "\n",
      "          0       0.62      0.72      0.67        18\n",
      "          1       0.85      0.78      0.82        37\n",
      "\n",
      "avg / total       0.78      0.76      0.77        55\n",
      "\n",
      "0.763636363636\n"
     ]
    }
   ],
   "source": [
    "evaluate_model(BaggingClassifier(LogisticRegression()),'LR_bag')"
   ]
  },
  {
   "cell_type": "code",
   "execution_count": 79,
   "metadata": {
    "collapsed": false
   },
   "outputs": [
    {
     "name": "stdout",
     "output_type": "stream",
     "text": [
      "[[ 9  9]\n",
      " [ 4 33]]\n",
      "             precision    recall  f1-score   support\n",
      "\n",
      "          0       0.69      0.50      0.58        18\n",
      "          1       0.79      0.89      0.84        37\n",
      "\n",
      "avg / total       0.76      0.76      0.75        55\n",
      "\n",
      "0.763636363636\n"
     ]
    }
   ],
   "source": [
    "bag_classifier(LogisticRegression(C=1,penalty='l2'),'LR_bag_gs')"
   ]
  },
  {
   "cell_type": "markdown",
   "metadata": {},
   "source": [
    "## 5. Decision Trees\n",
    "\n",
    "Let's see if Decision Trees perform better.\n",
    "\n",
    "1. Initialize DT and test on Train/Test set\n",
    "- Find optimal parameters with Grid Search\n",
    "- See if Bagging improves the score"
   ]
  },
  {
   "cell_type": "code",
   "execution_count": 80,
   "metadata": {
    "collapsed": false
   },
   "outputs": [
    {
     "name": "stdout",
     "output_type": "stream",
     "text": [
      "[[15  3]\n",
      " [ 5 32]]\n",
      "             precision    recall  f1-score   support\n",
      "\n",
      "          0       0.75      0.83      0.79        18\n",
      "          1       0.91      0.86      0.89        37\n",
      "\n",
      "avg / total       0.86      0.85      0.86        55\n",
      "\n",
      "0.854545454545\n"
     ]
    }
   ],
   "source": [
    "from sklearn.tree import DecisionTreeClassifier\n",
    "\n",
    "evaluate_model(DecisionTreeClassifier(),'DT_baseline')"
   ]
  },
  {
   "cell_type": "code",
   "execution_count": 81,
   "metadata": {
    "collapsed": false
   },
   "outputs": [
    {
     "name": "stdout",
     "output_type": "stream",
     "text": [
      "[[13  5]\n",
      " [ 6 31]]\n",
      "             precision    recall  f1-score   support\n",
      "\n",
      "          0       0.68      0.72      0.70        18\n",
      "          1       0.86      0.84      0.85        37\n",
      "\n",
      "avg / total       0.80      0.80      0.80        55\n",
      "\n",
      "0.8\n"
     ]
    }
   ],
   "source": [
    "params = {'criterion': ['gini', 'entropy'],\n",
    "          'splitter': ['best', 'random'],\n",
    "          'max_depth': [None, 5, 10],\n",
    "          'min_samples_split': [2, 5],\n",
    "          'min_samples_leaf': [1, 2, 3]}\n",
    "\n",
    "gridsearch_dt = GridSearchCV(DecisionTreeClassifier(),\n",
    "                    params, n_jobs=-1,\n",
    "                    cv=5)\n",
    "\n",
    "gridsearch_dt.fit(X, y)\n",
    "evaluate_model(gridsearch_dt.best_estimator_,'DT_gs')"
   ]
  },
  {
   "cell_type": "code",
   "execution_count": 85,
   "metadata": {
    "collapsed": false
   },
   "outputs": [
    {
     "name": "stdout",
     "output_type": "stream",
     "text": [
      "[[15  3]\n",
      " [ 5 32]]\n",
      "             precision    recall  f1-score   support\n",
      "\n",
      "          0       0.75      0.83      0.79        18\n",
      "          1       0.91      0.86      0.89        37\n",
      "\n",
      "avg / total       0.86      0.85      0.86        55\n",
      "\n",
      "0.854545454545\n"
     ]
    }
   ],
   "source": [
    "evaluate_model(BaggingClassifier(gridsearch_dt.best_estimator_),'DT_bag')"
   ]
  },
  {
   "cell_type": "code",
   "execution_count": 86,
   "metadata": {
    "collapsed": false
   },
   "outputs": [
    {
     "name": "stdout",
     "output_type": "stream",
     "text": [
      "[[13  5]\n",
      " [ 8 29]]\n",
      "             precision    recall  f1-score   support\n",
      "\n",
      "          0       0.62      0.72      0.67        18\n",
      "          1       0.85      0.78      0.82        37\n",
      "\n",
      "avg / total       0.78      0.76      0.77        55\n",
      "\n",
      "0.763636363636\n"
     ]
    }
   ],
   "source": [
    "bag_classifier(gridsearch_dt.best_estimator_,'DT_bag_gs')"
   ]
  },
  {
   "cell_type": "markdown",
   "metadata": {},
   "source": [
    "## 6. Random Forest & Extra Trees\n",
    "\n",
    "Let's see if Random Forest and Extra Trees perform better.\n",
    "\n",
    "1. Initialize RF and ET and test on Train/Test set\n",
    "- Find optimal parameters with Grid Search\n"
   ]
  },
  {
   "cell_type": "code",
   "execution_count": 87,
   "metadata": {
    "collapsed": false
   },
   "outputs": [
    {
     "name": "stdout",
     "output_type": "stream",
     "text": [
      "[[13  5]\n",
      " [ 8 29]]\n",
      "             precision    recall  f1-score   support\n",
      "\n",
      "          0       0.62      0.72      0.67        18\n",
      "          1       0.85      0.78      0.82        37\n",
      "\n",
      "avg / total       0.78      0.76      0.77        55\n",
      "\n",
      "0.763636363636\n",
      "[[14  4]\n",
      " [ 5 32]]\n",
      "             precision    recall  f1-score   support\n",
      "\n",
      "          0       0.74      0.78      0.76        18\n",
      "          1       0.89      0.86      0.88        37\n",
      "\n",
      "avg / total       0.84      0.84      0.84        55\n",
      "\n",
      "0.836363636364\n"
     ]
    }
   ],
   "source": [
    "from sklearn.ensemble import RandomForestClassifier, ExtraTreesClassifier\n",
    "\n",
    "evaluate_model(RandomForestClassifier(),'RF_baseline')\n",
    "evaluate_model(ExtraTreesClassifier(),'ET_baseline')"
   ]
  },
  {
   "cell_type": "code",
   "execution_count": 60,
   "metadata": {
    "collapsed": false
   },
   "outputs": [],
   "source": [
    "params = {'n_estimators':[3, 5, 10, 50],\n",
    "          'criterion': ['gini', 'entropy'],\n",
    "          'max_depth': [None, 3, 5],\n",
    "          'min_samples_split': [2,5],\n",
    "          'class_weight':[None, 'balanced']}\n",
    "\n",
    "\n",
    "gridsearch_RF = GridSearchCV(RandomForestClassifier(n_jobs=-1),\n",
    "                    params, n_jobs=-1,\n",
    "                    cv=5)\n",
    "\n",
    "gridsearch_ET = GridSearchCV(ExtraTreesClassifier(n_jobs=-1),\n",
    "                    params, n_jobs=-1,\n",
    "                    cv=5)\n",
    "\n",
    "\n",
    "gridsearch_RF.fit(X_train, y_train)\n",
    "gridsearch_ET.fit(X_train, y_train)\n"
   ]
  },
  {
   "cell_type": "code",
   "execution_count": 58,
   "metadata": {
    "collapsed": false
   },
   "outputs": [
    {
     "data": {
      "text/plain": [
       "{'class_weight': None,\n",
       " 'criterion': 'gini',\n",
       " 'max_depth': 3,\n",
       " 'min_samples_split': 2,\n",
       " 'n_estimators': 50}"
      ]
     },
     "execution_count": 58,
     "metadata": {},
     "output_type": "execute_result"
    }
   ],
   "source": [
    "gridsearch_RF.best_params_"
   ]
  },
  {
   "cell_type": "code",
   "execution_count": 59,
   "metadata": {
    "collapsed": false
   },
   "outputs": [
    {
     "data": {
      "text/plain": [
       "{'class_weight': None,\n",
       " 'criterion': 'gini',\n",
       " 'max_depth': 3,\n",
       " 'min_samples_split': 2,\n",
       " 'n_estimators': 3}"
      ]
     },
     "execution_count": 59,
     "metadata": {},
     "output_type": "execute_result"
    }
   ],
   "source": [
    "gridsearch_ET.best_params_"
   ]
  },
  {
   "cell_type": "code",
   "execution_count": 88,
   "metadata": {
    "collapsed": false
   },
   "outputs": [
    {
     "name": "stdout",
     "output_type": "stream",
     "text": [
      "[[11  7]\n",
      " [ 6 31]]\n",
      "             precision    recall  f1-score   support\n",
      "\n",
      "          0       0.65      0.61      0.63        18\n",
      "          1       0.82      0.84      0.83        37\n",
      "\n",
      "avg / total       0.76      0.76      0.76        55\n",
      "\n",
      "0.763636363636\n",
      "[[17  1]\n",
      " [11 26]]\n",
      "             precision    recall  f1-score   support\n",
      "\n",
      "          0       0.61      0.94      0.74        18\n",
      "          1       0.96      0.70      0.81        37\n",
      "\n",
      "avg / total       0.85      0.78      0.79        55\n",
      "\n",
      "0.781818181818\n"
     ]
    }
   ],
   "source": [
    "\n",
    "evaluate_model(RandomForestClassifier(class_weight=None,criterion='gini',max_depth= 3,min_samples_split= 2,n_estimators=50),'RF_gs')\n",
    "evaluate_model(ExtraTreesClassifier(class_weight=None,criterion='gini',max_depth= 3,min_samples_split= 2,n_estimators=3),'ET_gs')\n"
   ]
  },
  {
   "cell_type": "markdown",
   "metadata": {},
   "source": [
    "## 8. Model comparison\n",
    "\n",
    "Let's compare the scores of the various models.\n",
    "\n",
    "1. Do a bar chart of the scores of the best models. Who's the winner on the train/test split?\n",
    "- Re-test all the models using a 3 fold stratified shuffled cross validation\n",
    "- Do a bar chart with errorbars of the cross validation average scores. is the winner the same?\n"
   ]
  },
  {
   "cell_type": "code",
   "execution_count": 91,
   "metadata": {
    "collapsed": false
   },
   "outputs": [
    {
     "data": {
      "text/plain": [
       "[{'model': 'KNN_baseline', 'score': 0.67272727272727273},\n",
       " {'model': 'KNN_gs', 'score': 0.65454545454545454},\n",
       " {'model': 'KNN_bag', 'score': 0.65454545454545454},\n",
       " {'model': 'KNN_bag_gs', 'score': 0.63636363636363635},\n",
       " {'model': 'LR_baseline', 'score': 0.76363636363636367},\n",
       " {'model': 'LR_gs', 'score': 0.72727272727272729},\n",
       " {'model': 'LR_bag', 'score': 0.76363636363636367},\n",
       " {'model': 'LR_bag_gs', 'score': 0.76363636363636367},\n",
       " {'model': 'DT_baseline', 'score': 0.8545454545454545},\n",
       " {'model': 'DT_gs', 'score': 0.80000000000000004},\n",
       " {'model': 'DT_bag', 'score': 0.8545454545454545},\n",
       " {'model': 'DT_bag_gs', 'score': 0.76363636363636367},\n",
       " {'model': 'RF_baseline', 'score': 0.76363636363636367},\n",
       " {'model': 'ET_baseline', 'score': 0.83636363636363631},\n",
       " {'model': 'RF_gs', 'score': 0.76363636363636367},\n",
       " {'model': 'ET_gs', 'score': 0.78181818181818186}]"
      ]
     },
     "execution_count": 91,
     "metadata": {},
     "output_type": "execute_result"
    }
   ],
   "source": [
    "all_models"
   ]
  },
  {
   "cell_type": "code",
   "execution_count": 99,
   "metadata": {
    "collapsed": false
   },
   "outputs": [],
   "source": [
    "\n",
    "new_list = []\n",
    "\n",
    "for i in all_models:\n",
    "    new_list.append([i['model'],i['score']])\n",
    "\n",
    "\n",
    "bar_df = pd.DataFrame(new_list,columns=['model','score'])\n",
    "bar_df.set_index('model',inplace=True)"
   ]
  },
  {
   "cell_type": "code",
   "execution_count": 100,
   "metadata": {
    "collapsed": false
   },
   "outputs": [
    {
     "data": {
      "text/plain": [
       "<matplotlib.axes._subplots.AxesSubplot at 0x115fca990>"
      ]
     },
     "execution_count": 100,
     "metadata": {},
     "output_type": "execute_result"
    },
    {
     "data": {
      "image/png": "[encoded data removed]",
      "text/plain": [
       "<matplotlib.figure.Figure at 0x115ff31d0>"
      ]
     },
     "metadata": {},
     "output_type": "display_data"
    }
   ],
   "source": [
    "bar_df.plot(kind='bar')"
   ]
  },
  {
   "cell_type": "markdown",
   "metadata": {},
   "source": [
    "DecisionTree baseline and bagged are at the top, with ExtraTrees baseline close behind"
   ]
  },
  {
   "cell_type": "code",
   "execution_count": 114,
   "metadata": {
    "collapsed": false
   },
   "outputs": [],
   "source": [
    "from sklearn.cross_validation import cross_val_score, StratifiedKFold\n",
    "strat = []\n",
    "for i in [[KNeighborsClassifier(),'KNN_baseline'],\n",
    " [gridsearch_knn.best_estimator_,'KNN_gs'],\n",
    " [BaggingClassifier(KNeighborsClassifier()),'KNN_bag'],\n",
    " [LogisticRegression(),'LR_baseline'],\n",
    " [gridsearch_LR.best_estimator_,'LR_gs'],\n",
    " [BaggingClassifier(LogisticRegression()),'LR_bag'],\n",
    " [DecisionTreeClassifier(),'DT_baseline'],\n",
    " [gridsearch_dt.best_estimator_,'DT_gs'],\n",
    " [BaggingClassifier(gridsearch_dt.best_estimator_),'DT_bag'],\n",
    " [RandomForestClassifier(),'RF_baseline'],\n",
    " [ExtraTreesClassifier(),'ET_baseline'],\n",
    " [RandomForestClassifier(class_weight=None,criterion='gini',max_depth= 3,min_samples_split= 2,n_estimators=50),'RF_gs'],\n",
    " [ExtraTreesClassifier(class_weight=None,criterion='gini',max_depth= 3,min_samples_split= 2,n_estimators=3),'ET_gs']\n",
    "]:\n",
    "    \n",
    "    strat.append([i[1], cross_val_score(i[0], X, y,cv=StratifiedKFold(y, shuffle=True),n_jobs=-1).mean()])"
   ]
  },
  {
   "cell_type": "code",
   "execution_count": 116,
   "metadata": {
    "collapsed": false
   },
   "outputs": [],
   "source": [
    "for i in [[KNeighborsClassifier(),'KNN_bag_gs'],\n",
    "[LogisticRegression(C=1,penalty='l2'),'LR_bag_gs'],\n",
    "[gridsearch_dt.best_estimator_,'DT_bag_gs']\n",
    "]:\n",
    "    \n",
    "\n",
    "    bagging_params = {'n_estimators': [10, 20],\n",
    "                      'max_samples': [0.7, 1.0],\n",
    "                      'max_features': [0.7, 1.0],\n",
    "                      'bootstrap_features': [True, False]}\n",
    "    bag = GridSearchCV(BaggingClassifier(i[0]),\n",
    "                                bagging_params, n_jobs=-1,\n",
    "                                cv=5)\n",
    "\n",
    "    \n",
    "    bag.fit(X_train, y_train)\n",
    "\n",
    "    strat.append([i[1], cross_val_score(bag.best_estimator_, X, y,cv=StratifiedKFold(y, shuffle=True),n_jobs=-1).mean()])\n",
    "\n",
    "# entry['model'] = name\n",
    "# entry['score'] = bag.best_score_\n",
    "\n",
    "# all_models.append(entry)\n",
    "# #     evaluate_model(bag.best_estimator_,name)\n",
    "# #     return bag.best_estimator"
   ]
  },
  {
   "cell_type": "code",
   "execution_count": 117,
   "metadata": {
    "collapsed": false
   },
   "outputs": [
    {
     "data": {
      "text/plain": [
       "[['KNN_baseline', 0.67759562841530052],\n",
       " ['KNN_gs', 0.68852459016393441],\n",
       " ['KNN_bag', 0.60109289617486339],\n",
       " ['LR_baseline', 0.74863387978142082],\n",
       " ['LR_gs', 0.76502732240437155],\n",
       " ['LR_bag', 0.76502732240437155],\n",
       " ['DT_baseline', 0.78142076502732249],\n",
       " ['DT_gs', 0.73770491803278693],\n",
       " ['DT_bag', 0.78142076502732249],\n",
       " ['RF_baseline', 0.74863387978142082],\n",
       " ['ET_baseline', 0.75956284153005471],\n",
       " ['RF_gs', 0.75409836065573765],\n",
       " ['ET_gs', 0.72677595628415304],\n",
       " ['KNN_bag_gs', 0.72131147540983598],\n",
       " ['LR_bag_gs', 0.77595628415300544],\n",
       " ['DT_bag_gs', 0.68852459016393441]]"
      ]
     },
     "execution_count": 117,
     "metadata": {},
     "output_type": "execute_result"
    }
   ],
   "source": [
    "strat"
   ]
  },
  {
   "cell_type": "code",
   "execution_count": 118,
   "metadata": {
    "collapsed": false
   },
   "outputs": [
    {
     "data": {
      "text/plain": [
       "<matplotlib.axes._subplots.AxesSubplot at 0x116269fd0>"
      ]
     },
     "execution_count": 118,
     "metadata": {},
     "output_type": "execute_result"
    },
    {
     "data": {
      "image/png": "[encoded data removed]",
      "text/plain": [
       "<matplotlib.figure.Figure at 0x1162bd410>"
      ]
     },
     "metadata": {},
     "output_type": "display_data"
    }
   ],
   "source": [
    "\n",
    "\n",
    "bar_df = pd.DataFrame(strat,columns=['model','score'])\n",
    "bar_df.set_index('model',inplace=True)\n",
    "bar_df.plot(kind='bar')"
   ]
  },
  {
   "cell_type": "markdown",
   "metadata": {},
   "source": [
    "Looks like LR with bagging and gridsearch jumped up close to the top performing DT models. In general, it looks like nearly all models performed better."
   ]
  },
  {
   "cell_type": "markdown",
   "metadata": {},
   "source": [
    "## Bonus\n",
    "\n",
    "We have encoded the data using a map that preserves the scale.\n",
    "Would our results have changed if we had encoded the categorical data using `pd.get_dummies` or `OneHotEncoder`  to encode them as binary variables instead?\n",
    "\n",
    "1. Repeat the analysis for this scenario. Is it better?\n",
    "- Experiment with other models or other parameters, can you beat your classmates' best score?"
   ]
  },
  {
   "cell_type": "code",
   "execution_count": null,
   "metadata": {
    "collapsed": false
   },
   "outputs": [],
   "source": []
  },
  {
   "cell_type": "code",
   "execution_count": null,
   "metadata": {
    "collapsed": true
   },
   "outputs": [],
   "source": []
  }
 ],
 "metadata": {
  "anaconda-cloud": {},
  "kernelspec": {
   "display_name": "Python 2",
   "language": "python",
   "name": "python2"
  },
  "language_info": {
   "codemirror_mode": {
    "name": "ipython",
    "version": 2
   },
   "file_extension": ".py",
   "mimetype": "text/x-python",
   "name": "python",
   "nbconvert_exporter": "python",
   "pygments_lexer": "ipython2",
   "version": "2.7.13"
  }
 },
 "nbformat": 4,
 "nbformat_minor": 0
}
