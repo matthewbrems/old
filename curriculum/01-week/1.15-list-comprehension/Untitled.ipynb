{
 "cells": [
  {
   "cell_type": "code",
   "execution_count": 4,
   "metadata": {
    "collapsed": false
   },
   "outputs": [
    {
     "data": {
      "text/plain": [
       "[0, 1, 2, 3, 4, 5, 6, 7, 8, 9]"
      ]
     },
     "execution_count": 4,
     "metadata": {},
     "output_type": "execute_result"
    }
   ],
   "source": [
    "numbers = range(0, 10)\n",
    "numbers"
   ]
  },
  {
   "cell_type": "code",
   "execution_count": 3,
   "metadata": {
    "collapsed": false
   },
   "outputs": [
    {
     "data": {
      "text/plain": [
       "[1, 2, 3, 4, 5, 6, 7, 8, 9, 10]"
      ]
     },
     "execution_count": 3,
     "metadata": {},
     "output_type": "execute_result"
    }
   ],
   "source": [
    "#adding one to every number in list of numbers\n",
    "new_list = []\n",
    "\n",
    "for i in numbers:\n",
    "    new_list.append(i+1)\n",
    "    \n",
    "new_list"
   ]
  },
  {
   "cell_type": "code",
   "execution_count": 5,
   "metadata": {
    "collapsed": false
   },
   "outputs": [
    {
     "data": {
      "text/plain": [
       "[1, 2, 3, 4, 5, 6, 7, 8, 9, 10]"
      ]
     },
     "execution_count": 5,
     "metadata": {},
     "output_type": "execute_result"
    }
   ],
   "source": [
    "#for every x in numbers \n",
    "#add one 1 to x\n",
    "#map all of those new numbers\n",
    "#to a new list\n",
    "map(lambda x: x+1, numbers)"
   ]
  },
  {
   "cell_type": "code",
   "execution_count": 6,
   "metadata": {
    "collapsed": false
   },
   "outputs": [
    {
     "data": {
      "text/plain": [
       "[0, 2, 4, 6, 8]"
      ]
     },
     "execution_count": 6,
     "metadata": {},
     "output_type": "execute_result"
    }
   ],
   "source": [
    "filter(lambda x: x % 2 == 0, numbers)"
   ]
  },
  {
   "cell_type": "code",
   "execution_count": 7,
   "metadata": {
    "collapsed": true
   },
   "outputs": [],
   "source": [
    "numbers = range(0, 10)\n",
    "new_list = [x+1 for x in numbers]"
   ]
  },
  {
   "cell_type": "code",
   "execution_count": 8,
   "metadata": {
    "collapsed": false
   },
   "outputs": [
    {
     "data": {
      "text/plain": [
       "[1, 2, 3, 4, 5, 6, 7, 8, 9, 10]"
      ]
     },
     "execution_count": 8,
     "metadata": {},
     "output_type": "execute_result"
    }
   ],
   "source": [
    "new_list"
   ]
  },
  {
   "cell_type": "code",
   "execution_count": 9,
   "metadata": {
    "collapsed": true
   },
   "outputs": [],
   "source": [
    "names = ['mike', 'mike', 'mike', 'dave', 'steve']"
   ]
  },
  {
   "cell_type": "code",
   "execution_count": 10,
   "metadata": {
    "collapsed": false
   },
   "outputs": [
    {
     "data": {
      "text/plain": [
       "['mike!', 'mike!', 'mike!', 'dave!', 'steve!']"
      ]
     },
     "execution_count": 10,
     "metadata": {},
     "output_type": "execute_result"
    }
   ],
   "source": [
    "excited = []\n",
    "for name in names:\n",
    "    excited.append(name+'!')\n",
    "    \n",
    "excited"
   ]
  },
  {
   "cell_type": "code",
   "execution_count": 11,
   "metadata": {
    "collapsed": true
   },
   "outputs": [],
   "source": [
    "excited = [name+'!' for name in names]"
   ]
  },
  {
   "cell_type": "code",
   "execution_count": 12,
   "metadata": {
    "collapsed": false
   },
   "outputs": [
    {
     "data": {
      "text/plain": [
       "['mike!', 'mike!', 'mike!', 'dave!', 'steve!']"
      ]
     },
     "execution_count": 12,
     "metadata": {},
     "output_type": "execute_result"
    }
   ],
   "source": [
    "excited"
   ]
  },
  {
   "cell_type": "code",
   "execution_count": 13,
   "metadata": {
    "collapsed": false
   },
   "outputs": [
    {
     "data": {
      "text/plain": [
       "[0, 0, 1, 1, 0, 0, 0]"
      ]
     },
     "execution_count": 13,
     "metadata": {},
     "output_type": "execute_result"
    }
   ],
   "source": [
    "import numpy as np\n",
    "\n",
    "numbers = [3, 5, 76, 89, 5, 4, 5]\n",
    "#declaring an empty list\n",
    "n_bin = []\n",
    "#set a variable to hold the mean\n",
    "n_mean = np.mean(numbers)\n",
    "\n",
    "for number in numbers:\n",
    "    if number > n_mean:\n",
    "        n_bin.append(1)\n",
    "    else:\n",
    "        n_bin.append(0)\n",
    "        \n",
    "n_bin"
   ]
  },
  {
   "cell_type": "code",
   "execution_count": 19,
   "metadata": {
    "collapsed": false
   },
   "outputs": [
    {
     "data": {
      "text/plain": [
       "[0, 0, 1, 1, 0, 0, 0]"
      ]
     },
     "execution_count": 19,
     "metadata": {},
     "output_type": "execute_result"
    }
   ],
   "source": [
    "n_bin = [1 if number > n_mean else 0 for number in numbers]\n",
    "n_bin"
   ]
  },
  {
   "cell_type": "code",
   "execution_count": 20,
   "metadata": {
    "collapsed": false
   },
   "outputs": [
    {
     "data": {
      "text/plain": [
       "['mike!', 'mike!', 'mike!', 'dave.', 'steve.']"
      ]
     },
     "execution_count": 20,
     "metadata": {},
     "output_type": "execute_result"
    }
   ],
   "source": [
    "names = ['mike', 'mike', 'mike', 'dave', 'steve']\n",
    "\n",
    "excited = []\n",
    "for name in names:\n",
    "    if name == 'mike':\n",
    "        excited.append(name+'!')\n",
    "    else:\n",
    "        excited.append(name+'.')\n",
    "        \n",
    "excited"
   ]
  },
  {
   "cell_type": "code",
   "execution_count": 22,
   "metadata": {
    "collapsed": false
   },
   "outputs": [
    {
     "data": {
      "text/plain": [
       "['mike!', 'mike!', 'mike!', 'dave.', 'steve.']"
      ]
     },
     "execution_count": 22,
     "metadata": {},
     "output_type": "execute_result"
    }
   ],
   "source": [
    "mikes = [name+'!' if name == 'mike' else name+'.' for name in names]\n",
    "mikes"
   ]
  },
  {
   "cell_type": "code",
   "execution_count": 23,
   "metadata": {
    "collapsed": false
   },
   "outputs": [
    {
     "data": {
      "text/plain": [
       "['mike!', 'mike!', 'mike!', 'dave?', 'steve.']"
      ]
     },
     "execution_count": 23,
     "metadata": {},
     "output_type": "execute_result"
    }
   ],
   "source": [
    "names = ['mike', 'mike', 'mike', 'dave', 'steve']\n",
    "\n",
    "daves = []\n",
    "for name in names:\n",
    "    if name == 'mike':\n",
    "        daves.append(name+'!')\n",
    "    elif name == 'dave':\n",
    "        daves.append(name+'?')\n",
    "    else:\n",
    "        daves.append(name+'.')\n",
    "        \n",
    "daves"
   ]
  },
  {
   "cell_type": "code",
   "execution_count": 26,
   "metadata": {
    "collapsed": false
   },
   "outputs": [
    {
     "data": {
      "text/plain": [
       "['mike!', 'mike!', 'mike!', 'dave?', 'steve.']"
      ]
     },
     "execution_count": 26,
     "metadata": {},
     "output_type": "execute_result"
    }
   ],
   "source": [
    "daves = [name+'!' if name == 'mike' else name+'?' \n",
    "         if name == 'dave' else name+'.' for name in names]\n",
    "daves"
   ]
  },
  {
   "cell_type": "code",
   "execution_count": 39,
   "metadata": {
    "collapsed": false
   },
   "outputs": [
    {
     "data": {
      "text/plain": [
       "[['burritos', '$8.99'],\n",
       " ['nachos', '$7.99'],\n",
       " ['quesadillas', '$6.99'],\n",
       " ['tamales', '5.99']]"
      ]
     },
     "execution_count": 39,
     "metadata": {},
     "output_type": "execute_result"
    }
   ],
   "source": [
    "food = ['burritos', 'nachos', 'quesadillas', 'tamales']\n",
    "price = ['$8.99', '$7.99', '$6.99', '5.99']\n",
    "\n",
    "menu = []\n",
    "for f, p in zip(food, price):\n",
    "    menu.append([f, p])\n",
    "    \n",
    "menu"
   ]
  },
  {
   "cell_type": "code",
   "execution_count": 29,
   "metadata": {
    "collapsed": false
   },
   "outputs": [
    {
     "data": {
      "text/plain": [
       "[[0, 'burritos'], [1, 'nachos'], [2, 'quesadillas'], [3, 'tamales']]"
      ]
     },
     "execution_count": 29,
     "metadata": {},
     "output_type": "execute_result"
    }
   ],
   "source": [
    "menu = []\n",
    "for index, item in enumerate(food):\n",
    "    menu.append([index, item])\n",
    "menu"
   ]
  },
  {
   "cell_type": "code",
   "execution_count": 40,
   "metadata": {
    "collapsed": false,
    "scrolled": true
   },
   "outputs": [
    {
     "data": {
      "text/plain": [
       "[[0, 'burritos', '$8.99'],\n",
       " [1, 'nachos', '$7.99'],\n",
       " [2, 'quesadillas', '$6.99'],\n",
       " [3, 'tamales', '5.99']]"
      ]
     },
     "execution_count": 40,
     "metadata": {},
     "output_type": "execute_result"
    }
   ],
   "source": [
    "menu = []\n",
    "\n",
    "for index, (item, p) in enumerate(zip(food, price)):\n",
    "    menu.append([index, item, p])\n",
    "    \n",
    "menu"
   ]
  },
  {
   "cell_type": "code",
   "execution_count": 41,
   "metadata": {
    "collapsed": false
   },
   "outputs": [
    {
     "data": {
      "text/plain": [
       "[[0, 'burritos', '$8.99'],\n",
       " [1, 'nachos', '$7.99'],\n",
       " [2, 'quesadillas', '$6.99'],\n",
       " [3, 'tamales', '5.99']]"
      ]
     },
     "execution_count": 41,
     "metadata": {},
     "output_type": "execute_result"
    }
   ],
   "source": [
    "menu = [[index, item, p] \n",
    "        for index, (item, p) in enumerate(zip(food, price))]\n",
    "\n",
    "menu"
   ]
  },
  {
   "cell_type": "code",
   "execution_count": null,
   "metadata": {
    "collapsed": true
   },
   "outputs": [],
   "source": [
    "##INSTRUCTIONS:\n",
    "# WRITE A FOR LOOP\n",
    "# WRITE THAT OUT AGAIN IN LIST COMPREHENSION\n",
    "# USE DIFFERENT COLOURS TO MATCH THE LINES IN THE FOR LOOP WITH THE \n",
    "#LIST COMPREHENSION\n",
    "\n",
    "#TAKE TWO MINUTES\n",
    "#THE (TERRIBLE) MNEMONIC (SORRY, I PROMISE I CAN SPELL) IS 'O''I' 'C'\n",
    "#OUTPUT, INPUT, CONDITIONAL"
   ]
  },
  {
   "cell_type": "code",
   "execution_count": null,
   "metadata": {
    "collapsed": true
   },
   "outputs": [],
   "source": []
  },
  {
   "cell_type": "code",
   "execution_count": null,
   "metadata": {
    "collapsed": true
   },
   "outputs": [],
   "source": []
  }
 ],
 "metadata": {
  "anaconda-cloud": {},
  "kernelspec": {
   "display_name": "Python [conda root]",
   "language": "python",
   "name": "conda-root-py"
  },
  "language_info": {
   "codemirror_mode": {
    "name": "ipython",
    "version": 2
   },
   "file_extension": ".py",
   "mimetype": "text/x-python",
   "name": "python",
   "nbconvert_exporter": "python",
   "pygments_lexer": "ipython2",
   "version": "2.7.13"
  }
 },
 "nbformat": 4,
 "nbformat_minor": 1
}
