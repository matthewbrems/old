{
 "cells": [
  {
   "cell_type": "code",
   "execution_count": 4,
   "metadata": {
    "collapsed": false
   },
   "outputs": [
    {
     "data": {
      "text/plain": [
       "[0, 1, 2, 3, 4, 5, 6, 7, 8, 9]"
      ]
     },
     "execution_count": 4,
     "metadata": {},
     "output_type": "execute_result"
    }
   ],
   "source": [
    "#create a list of numbers\n",
    "numbers = range(0, 10)\n",
    "numbers"
   ]
  },
  {
   "cell_type": "code",
   "execution_count": 3,
   "metadata": {
    "collapsed": false
   },
   "outputs": [
    {
     "data": {
      "text/plain": [
       "[1, 2, 3, 4, 5, 6, 7, 8, 9, 10]"
      ]
     },
     "execution_count": 3,
     "metadata": {},
     "output_type": "execute_result"
    }
   ],
   "source": [
    "#adding one to every number in list of numbers with a for loop\n",
    "new_list = [] #first create a new, empty list\n",
    "\n",
    "for i in numbers: #iterate through the list of numbers\n",
    "    new_list.append(i+1) #for every item in the list of numbers, add 1 and append the new value to the empty list\n",
    "    \n",
    "print new_list #print the new list"
   ]
  },
  {
   "cell_type": "code",
   "execution_count": 5,
   "metadata": {
    "collapsed": false
   },
   "outputs": [
    {
     "data": {
      "text/plain": [
       "[1, 2, 3, 4, 5, 6, 7, 8, 9, 10]"
      ]
     },
     "execution_count": 5,
     "metadata": {},
     "output_type": "execute_result"
    }
   ],
   "source": [
    "#map function alongside a lambda function:\n",
    "#the way it works is:\n",
    "#the lambda function iterates through every 'x' in numbers,\n",
    "#and for every x in numbers \n",
    "#it adds one 1 to x\n",
    "#and then the map function literally maps those new values (x+1)\n",
    "#to a new list\n",
    "map(lambda x: x+1, numbers)"
   ]
  },
  {
   "cell_type": "code",
   "execution_count": 6,
   "metadata": {
    "collapsed": false
   },
   "outputs": [
    {
     "data": {
      "text/plain": [
       "[0, 2, 4, 6, 8]"
      ]
     },
     "execution_count": 6,
     "metadata": {},
     "output_type": "execute_result"
    }
   ],
   "source": [
    "#filter alongside a lambda function\n",
    "#the way this works:\n",
    "#the lambda iterates through every 'x' in the list of numbers,\n",
    "#and for every x, it checks if that x, when divided by 2, has a remainder of 0 (aka: if it's divisible by 2 or not)\n",
    "#then the filter function filters out everything that IS divisible by two\n",
    "#to a new list\n",
    "filter(lambda x: x % 2 == 0, numbers)"
   ]
  },
  {
   "cell_type": "code",
   "execution_count": 7,
   "metadata": {
    "collapsed": true
   },
   "outputs": [],
   "source": [
    "#all list comprehension is doing is changing the way the for loop is written\n",
    "#so list comprehension takes the key elements of the for loop--in this case, the output (new_list.append(x+1))\n",
    "#and the input (for x in numbers)\n",
    "#and rearranges them into a more understandable structure\n",
    "#where it assumes you want a new list because the entire thing is enclosed in brackets []\n",
    "#and the output comes before the input\n",
    "numbers = range(0, 10)\n",
    "new_list = [x+1 for x in numbers]"
   ]
  },
  {
   "cell_type": "code",
   "execution_count": 8,
   "metadata": {
    "collapsed": false
   },
   "outputs": [
    {
     "data": {
      "text/plain": [
       "[1, 2, 3, 4, 5, 6, 7, 8, 9, 10]"
      ]
     },
     "execution_count": 8,
     "metadata": {},
     "output_type": "execute_result"
    }
   ],
   "source": [
    "print new_list"
   ]
  },
  {
   "cell_type": "code",
   "execution_count": 9,
   "metadata": {
    "collapsed": true
   },
   "outputs": [],
   "source": [
    "#what if we're working with a list of strings\n",
    "names = ['mike', 'mike', 'mike', 'dave', 'steve']"
   ]
  },
  {
   "cell_type": "code",
   "execution_count": 10,
   "metadata": {
    "collapsed": false
   },
   "outputs": [
    {
     "data": {
      "text/plain": [
       "['mike!', 'mike!', 'mike!', 'dave!', 'steve!']"
      ]
     },
     "execution_count": 10,
     "metadata": {},
     "output_type": "execute_result"
    }
   ],
   "source": [
    "#the for loop to add an exclamation mark to every name would be exactly the same as the for loop to add 1 to every number\n",
    "excited = [] #create new list\n",
    "for name in names: #iterate through every name in the list of names\n",
    "    excited.append(name+'!') #and append a '!' to every name to greet them excitedly\n",
    "    \n",
    "print excited"
   ]
  },
  {
   "cell_type": "code",
   "execution_count": 11,
   "metadata": {
    "collapsed": true
   },
   "outputs": [],
   "source": [
    "excited = [name+'!' for name in names] \n",
    "#the list comprehension is also similar\n",
    "#it just places the output before the input"
   ]
  },
  {
   "cell_type": "code",
   "execution_count": 12,
   "metadata": {
    "collapsed": false
   },
   "outputs": [
    {
     "data": {
      "text/plain": [
       "['mike!', 'mike!', 'mike!', 'dave!', 'steve!']"
      ]
     },
     "execution_count": 12,
     "metadata": {},
     "output_type": "execute_result"
    }
   ],
   "source": [
    "excited"
   ]
  },
  {
   "cell_type": "code",
   "execution_count": 13,
   "metadata": {
    "collapsed": false
   },
   "outputs": [
    {
     "data": {
      "text/plain": [
       "[0, 0, 1, 1, 0, 0, 0]"
      ]
     },
     "execution_count": 13,
     "metadata": {},
     "output_type": "execute_result"
    }
   ],
   "source": [
    "#so what if we were working on if and else statements\n",
    "\n",
    "import numpy as np\n",
    "\n",
    "numbers = [3, 5, 76, 89, 5, 4, 5] #let's work with a new list of numbers\n",
    "n_bin = [] #declaring an empty list\n",
    "n_mean = np.mean(numbers) #set a variable to hold the mean\n",
    "\n",
    "for number in numbers: #iterate through the list of numbers\n",
    "    if number > n_mean: #and if a given number is larger than the mean\n",
    "        n_bin.append(1) #we'll append a 1 to that new list\n",
    "    else: \n",
    "        n_bin.append(0) #if it isn't, we'll append a 0\n",
    "        \n",
    "n_bin"
   ]
  },
  {
   "cell_type": "code",
   "execution_count": 19,
   "metadata": {
    "collapsed": false
   },
   "outputs": [
    {
     "data": {
      "text/plain": [
       "[0, 0, 1, 1, 0, 0, 0]"
      ]
     },
     "execution_count": 19,
     "metadata": {},
     "output_type": "execute_result"
    }
   ],
   "source": [
    "#the syntax changes slightly with list comprehension\n",
    "#because there are 2 outputs, the if statement (which helps the list comprehension see which output should be generated when)\n",
    "#comes before the input (the for x in list)\n",
    "n_bin = [1 if number > n_mean else 0 for number in numbers]\n",
    "n_bin"
   ]
  },
  {
   "cell_type": "code",
   "execution_count": 20,
   "metadata": {
    "collapsed": false
   },
   "outputs": [
    {
     "data": {
      "text/plain": [
       "['mike!', 'mike!', 'mike!', 'dave.', 'steve.']"
      ]
     },
     "execution_count": 20,
     "metadata": {},
     "output_type": "execute_result"
    }
   ],
   "source": [
    "names = ['mike', 'mike', 'mike', 'dave', 'steve']\n",
    "\n",
    "excited = [] #again, if we were doing the same with the names example, \n",
    "for name in names: #we'd iterate through the list of names\n",
    "    if name == 'mike':\n",
    "        excited.append(name+'!') #if name is mike, add a '!' to the end and append the new string to the new list\n",
    "    else:\n",
    "        excited.append(name+'.') #if not, add a period and do the same\n",
    "        \n",
    "excited"
   ]
  },
  {
   "cell_type": "code",
   "execution_count": 22,
   "metadata": {
    "collapsed": false
   },
   "outputs": [
    {
     "data": {
      "text/plain": [
       "['mike!', 'mike!', 'mike!', 'dave.', 'steve.']"
      ]
     },
     "execution_count": 22,
     "metadata": {},
     "output_type": "execute_result"
    }
   ],
   "source": [
    "#the list comprehension would look the same--\n",
    "#the 'if' (or conditional) would come BEFORE the 'for' in this case, only because there's an else statement\n",
    "#if there's an if AND an else statement, there are two outputs-- 'mike!' and 'dave.' or 'steve.' --\n",
    "#this means both outputs need to be read first by the list comprehension syntax\n",
    "mikes = [name+'!' if name == 'mike' else name+'.' for name in names]\n",
    "mikes"
   ]
  },
  {
   "cell_type": "code",
   "execution_count": 23,
   "metadata": {
    "collapsed": false
   },
   "outputs": [
    {
     "data": {
      "text/plain": [
       "['mike!', 'mike!', 'mike!', 'dave?', 'steve.']"
      ]
     },
     "execution_count": 23,
     "metadata": {},
     "output_type": "execute_result"
    }
   ],
   "source": [
    "names = ['mike', 'mike', 'mike', 'dave', 'steve']\n",
    "#what if we had an 'elif' in there as well\n",
    "#in normal for loops, we'd have:\n",
    "daves = []\n",
    "for name in names: #iterating through the list\n",
    "    if name == 'mike': \n",
    "        daves.append(name+'!') #adding an '!' to the name and appending the new string to a new list if name == 'mike'\n",
    "    elif name == 'dave':\n",
    "        daves.append(name+'?') #adding a '?' to the name and appending the new string to a new list if name == 'dave'\n",
    "    else:\n",
    "        daves.append(name+'.') #adding a '.' to the name and appending the new string to a new list if name == 'steve'\n",
    "        \n",
    "daves"
   ]
  },
  {
   "cell_type": "code",
   "execution_count": 26,
   "metadata": {
    "collapsed": false
   },
   "outputs": [
    {
     "data": {
      "text/plain": [
       "['mike!', 'mike!', 'mike!', 'dave?', 'steve.']"
      ]
     },
     "execution_count": 26,
     "metadata": {},
     "output_type": "execute_result"
    }
   ],
   "source": [
    "#in list comprehension both the elif and else statements will be written as 'else' \n",
    "#and all the condititonals will come before the input (the for x in list statement)\n",
    "daves = [name+'!' if name == 'mike' else name+'?' \n",
    "         if name == 'dave' else name+'.' for name in names]\n",
    "daves"
   ]
  },
  {
   "cell_type": "code",
   "execution_count": 2,
   "metadata": {
    "collapsed": false
   },
   "outputs": [
    {
     "name": "stdout",
     "output_type": "stream",
     "text": [
      "[['burritos', '$8.99'], ['nachos', '$7.99'], ['quesadillas', '$6.99'], ['tamales', '5.99']]\n"
     ]
    }
   ],
   "source": [
    "#and you can make your list parsing more effective with functions like zip and enumerate\n",
    "#to get a zip function to work:\n",
    "#let's look at two lists -- one of food items, and one of their menu prices\n",
    "food = ['burritos', 'nachos', 'quesadillas', 'tamales']\n",
    "price = ['$8.99', '$7.99', '$6.99', '5.99']\n",
    "\n",
    "menu = [] #we would initiate a new list in this case\n",
    "for f, p in zip(food, price): #and iterate through both lists with the zip function. \n",
    "    #the zip function combines the two lists based on their index position in the list, which means we can iterate\n",
    "    #through both at once\n",
    "    menu.append([f, p]) #and as we're iterating through the list, we will add each zipped food and price pair\n",
    "    #into a new list and append that to the empty menu list we created\n",
    "    \n",
    "print menu"
   ]
  },
  {
   "cell_type": "code",
   "execution_count": 6,
   "metadata": {
    "collapsed": false
   },
   "outputs": [
    {
     "data": {
      "text/plain": [
       "[[0, 'burritos'], [1, 'nachos'], [2, 'quesadillas'], [3, 'tamales']]"
      ]
     },
     "execution_count": 6,
     "metadata": {},
     "output_type": "execute_result"
    }
   ],
   "source": [
    "menu = [] #if we were working with enumerate, that would look like this:\n",
    "for index, item in enumerate(food): #we iterate through the list, and use the enumerate function to \n",
    "    #generate an index number for each item\n",
    "    menu.append([index, item]) #and then append the index number and the item to the empty menu list\n",
    "menu"
   ]
  },
  {
   "cell_type": "code",
   "execution_count": 40,
   "metadata": {
    "collapsed": false,
    "scrolled": true
   },
   "outputs": [
    {
     "data": {
      "text/plain": [
       "[[0, 'burritos', '$8.99'],\n",
       " [1, 'nachos', '$7.99'],\n",
       " [2, 'quesadillas', '$6.99'],\n",
       " [3, 'tamales', '5.99']]"
      ]
     },
     "execution_count": 40,
     "metadata": {},
     "output_type": "execute_result"
    }
   ],
   "source": [
    "menu = []\n",
    "\n",
    "for index, (item, p) in enumerate(zip(food, price)): #we can also combine the zip and enumerate functions and enumerate through a zipped list\n",
    "    menu.append([index, item, p]) #what this does is first zip two lists together, then add an index value to each zipped item\n",
    "    #then append all three things to a separate list\n",
    "    #note: the reason for the tuple when we're iterating through the list is because the item and amount are one unit (zipped together)\n",
    "    #that we're enumerating over\n",
    "menu"
   ]
  },
  {
   "cell_type": "code",
   "execution_count": 4,
   "metadata": {
    "collapsed": false
   },
   "outputs": [
    {
     "data": {
      "text/plain": [
       "[[0, 'burritos', '$8.99'],\n",
       " [1, 'nachos', '$7.99'],\n",
       " [2, 'quesadillas', '$6.99'],\n",
       " [3, 'tamales', '5.99']]"
      ]
     },
     "execution_count": 4,
     "metadata": {},
     "output_type": "execute_result"
    }
   ],
   "source": [
    "#we can also do this with list comprehension:\n",
    "#that would follow the same syntax we'd talked about initially:\n",
    "#where you put the output in first [index, item, amount], and then the input 'for index, (item, p) in ...' \n",
    "\n",
    "menu = [[index, item, p] for index, (item, p) in enumerate(zip(food, price))]\n",
    "\n",
    "menu"
   ]
  }
 ],
 "metadata": {
  "anaconda-cloud": {},
  "kernelspec": {
   "display_name": "Python [conda root]",
   "language": "python",
   "name": "conda-root-py"
  },
  "language_info": {
   "codemirror_mode": {
    "name": "ipython",
    "version": 2
   },
   "file_extension": ".py",
   "mimetype": "text/x-python",
   "name": "python",
   "nbconvert_exporter": "python",
   "pygments_lexer": "ipython2",
   "version": "2.7.13"
  }
 },
 "nbformat": 4,
 "nbformat_minor": 1
}
