{
 "cells": [
  {
   "cell_type": "code",
   "execution_count": 90,
   "metadata": {
    "collapsed": false
   },
   "outputs": [],
   "source": [
    "# Dictionary of movies\n",
    "\n",
    "movies = [\n",
    "{\n",
    "\"name\": \"Usual Suspects\", \n",
    "\"imdb\": 7.0,\n",
    "\"category\": \"Thriller\"\n",
    "},\n",
    "{\n",
    "\"name\": \"Hitman\",\n",
    "\"imdb\": 6.3,\n",
    "\"category\": \"Action\"\n",
    "},\n",
    "{\n",
    "\"name\": \"Dark Knight\",\n",
    "\"imdb\": 9.0,\n",
    "\"category\": \"Adventure\"\n",
    "},\n",
    "{\n",
    "\"name\": \"The Help\",\n",
    "\"imdb\": 8.0,\n",
    "\"category\": \"Drama\"\n",
    "},\n",
    "{\n",
    "\"name\": \"The Choice\",\n",
    "\"imdb\": 6.2,\n",
    "\"category\": \"Romance\"\n",
    "},\n",
    "{\n",
    "\"name\": \"Colonia\",\n",
    "\"imdb\": 7.4,\n",
    "\"category\": \"Romance\"\n",
    "},\n",
    "{\n",
    "\"name\": \"Love\",\n",
    "\"imdb\": 6.0,\n",
    "\"category\": \"Romance\"\n",
    "},\n",
    "{\n",
    "\"name\": \"Bride Wars\",\n",
    "\"imdb\": 5.4,\n",
    "\"category\": \"Romance\"\n",
    "},\n",
    "{\n",
    "\"name\": \"AlphaJet\",\n",
    "\"imdb\": 3.2,\n",
    "\"category\": \"War\"\n",
    "},\n",
    "{\n",
    "\"name\": \"Ringing Crime\",\n",
    "\"imdb\": 4.0,\n",
    "\"category\": \"Crime\"\n",
    "},\n",
    "{\n",
    "\"name\": \"Joking muck\",\n",
    "\"imdb\": 7.2,\n",
    "\"category\": \"Comedy\"\n",
    "},\n",
    "{\n",
    "\"name\": \"What is the name\",\n",
    "\"imdb\": 9.2,\n",
    "\"category\": \"Suspense\"\n",
    "},\n",
    "{\n",
    "\"name\": \"Detective\",\n",
    "\"imdb\": 7.0,\n",
    "\"category\": \"Suspense\"\n",
    "},\n",
    "{\n",
    "\"name\": \"Exam\",\n",
    "\"imdb\": 4.2,\n",
    "\"category\": \"Thriller\"\n",
    "},\n",
    "{\n",
    "\"name\": \"We Two\",\n",
    "\"imdb\": 7.2,\n",
    "\"category\": \"Romance\"\n",
    "}\n",
    "]\n",
    "\n",
    "\n"
   ]
  },
  {
   "cell_type": "code",
   "execution_count": 115,
   "metadata": {
    "collapsed": false
   },
   "outputs": [
    {
     "data": {
      "text/plain": [
       "True"
      ]
     },
     "execution_count": 115,
     "metadata": {},
     "output_type": "execute_result"
    }
   ],
   "source": [
    "# Write a function that takes a single movie and \n",
    "# returns True if its IMDB score is above 5.5\n",
    "\n",
    "\n",
    "def good_imdb_score(movie): \n",
    "    for i in movies: \n",
    "        if i[\"name\"] == movie and i[\"imdb\"] > 5.5: \n",
    "            return True \n",
    "\n",
    "good_imdb_score(\"We Two\")"
   ]
  },
  {
   "cell_type": "code",
   "execution_count": 116,
   "metadata": {
    "collapsed": false
   },
   "outputs": [
    {
     "data": {
      "text/plain": [
       "['Usual Suspects',\n",
       " 'Hitman',\n",
       " 'Dark Knight',\n",
       " 'The Help',\n",
       " 'The Choice',\n",
       " 'Colonia',\n",
       " 'Love',\n",
       " 'Joking muck',\n",
       " 'What is the name',\n",
       " 'Detective',\n",
       " 'We Two']"
      ]
     },
     "execution_count": 116,
     "metadata": {},
     "output_type": "execute_result"
    }
   ],
   "source": [
    "# Write a function that returns a sublist of movies \n",
    "# with an IMDB score above 5.5. \n",
    "\n",
    "def good_movies():\n",
    "    good_movies_list = []\n",
    "    for i in movies:\n",
    "        if i[\"imdb\"] > 5.5:\n",
    "            good_movies_list.append(i[\"name\"])\n",
    "    return good_movies_list\n",
    "\n",
    "good_movies()"
   ]
  },
  {
   "cell_type": "code",
   "execution_count": 117,
   "metadata": {
    "collapsed": false
   },
   "outputs": [
    {
     "data": {
      "text/plain": [
       "['The Choice', 'Colonia', 'Love', 'Bride Wars', 'We Two']"
      ]
     },
     "execution_count": 117,
     "metadata": {},
     "output_type": "execute_result"
    }
   ],
   "source": [
    "# Write a function that takes a category name and returns \n",
    "# just those movies under that category.\n",
    "\n",
    "def movies_in_category(category):\n",
    "    movie_list = []\n",
    "    for i in movies:\n",
    "        if i[\"category\"] == category:\n",
    "            movie_list.append(i[\"name\"])\n",
    "    return movie_list\n",
    "\n",
    "movies_in_category(\"Romance\")\n"
   ]
  },
  {
   "cell_type": "code",
   "execution_count": 121,
   "metadata": {
    "collapsed": false
   },
   "outputs": [
    {
     "data": {
      "text/plain": [
       "7.3"
      ]
     },
     "execution_count": 121,
     "metadata": {},
     "output_type": "execute_result"
    }
   ],
   "source": [
    "# Write a function that takes a list of movies and computes \n",
    "# the average IMDB score.\n",
    "\n",
    "def avg_imdb_score(movie_list):\n",
    "    sum_scores = 0\n",
    "    num_movies = len(movie_list)\n",
    "    for movie in movie_list:\n",
    "        for i in movies:\n",
    "            if i[\"name\"] == movie:\n",
    "                add_score = 0\n",
    "                add_score = i[\"imdb\"]\n",
    "        sum_scores = sum_scores + add_score\n",
    "    avg_score = sum_scores / num_movies\n",
    "    return avg_score\n",
    "\n",
    "avg_imdb_score(['Usual Suspects', 'Hitman', 'Dark Knight', 'The Help', 'The Choice'])  \n"
   ]
  },
  {
   "cell_type": "code",
   "execution_count": 122,
   "metadata": {
    "collapsed": false
   },
   "outputs": [
    {
     "data": {
      "text/plain": [
       "6.44"
      ]
     },
     "execution_count": 122,
     "metadata": {},
     "output_type": "execute_result"
    }
   ],
   "source": [
    "# Write a function that takes a category and computes \n",
    "# the average IMDB score (HINT: reuse the function \n",
    "# from question 2.)\n",
    "\n",
    "def avg_category_score(category):\n",
    "    movie_list = movies_in_category(category)\n",
    "    scores = avg_imdb_score(movie_list)\n",
    "    return scores\n",
    "\n",
    "avg_category_score(\"Romance\")"
   ]
  }
 ],
 "metadata": {
  "kernelspec": {
   "display_name": "Python 2",
   "language": "python",
   "name": "python2"
  },
  "language_info": {
   "codemirror_mode": {
    "name": "ipython",
    "version": 2
   },
   "file_extension": ".py",
   "mimetype": "text/x-python",
   "name": "python",
   "nbconvert_exporter": "python",
   "pygments_lexer": "ipython2",
   "version": "2.7.13"
  }
 },
 "nbformat": 4,
 "nbformat_minor": 0
}
