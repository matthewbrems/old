{
 "cells": [
  {
   "cell_type": "code",
   "execution_count": 1,
   "metadata": {
    "collapsed": false
   },
   "outputs": [],
   "source": [
    "# Dictionary of movies\n",
    "\n",
    "movies = [\n",
    "{\n",
    "\"name\": \"Usual Suspects\", \n",
    "\"imdb\": 7.0,\n",
    "\"category\": \"Thriller\"\n",
    "},\n",
    "{\n",
    "\"name\": \"Hitman\",\n",
    "\"imdb\": 6.3,\n",
    "\"category\": \"Action\"\n",
    "},\n",
    "{\n",
    "\"name\": \"Dark Knight\",\n",
    "\"imdb\": 9.0,\n",
    "\"category\": \"Adventure\"\n",
    "},\n",
    "{\n",
    "\"name\": \"The Help\",\n",
    "\"imdb\": 8.0,\n",
    "\"category\": \"Drama\"\n",
    "},\n",
    "{\n",
    "\"name\": \"The Choice\",\n",
    "\"imdb\": 6.2,\n",
    "\"category\": \"Romance\"\n",
    "},\n",
    "{\n",
    "\"name\": \"Colonia\",\n",
    "\"imdb\": 7.4,\n",
    "\"category\": \"Romance\"\n",
    "},\n",
    "{\n",
    "\"name\": \"Love\",\n",
    "\"imdb\": 6.0,\n",
    "\"category\": \"Romance\"\n",
    "},\n",
    "{\n",
    "\"name\": \"Bride Wars\",\n",
    "\"imdb\": 5.4,\n",
    "\"category\": \"Romance\"\n",
    "},\n",
    "{\n",
    "\"name\": \"AlphaJet\",\n",
    "\"imdb\": 3.2,\n",
    "\"category\": \"War\"\n",
    "},\n",
    "{\n",
    "\"name\": \"Ringing Crime\",\n",
    "\"imdb\": 4.0,\n",
    "\"category\": \"Crime\"\n",
    "},\n",
    "{\n",
    "\"name\": \"Joking muck\",\n",
    "\"imdb\": 7.2,\n",
    "\"category\": \"Comedy\"\n",
    "},\n",
    "{\n",
    "\"name\": \"What is the name\",\n",
    "\"imdb\": 9.2,\n",
    "\"category\": \"Suspense\"\n",
    "},\n",
    "{\n",
    "\"name\": \"Detective\",\n",
    "\"imdb\": 7.0,\n",
    "\"category\": \"Suspense\"\n",
    "},\n",
    "{\n",
    "\"name\": \"Exam\",\n",
    "\"imdb\": 4.2,\n",
    "\"category\": \"Thriller\"\n",
    "},\n",
    "{\n",
    "\"name\": \"We Two\",\n",
    "\"imdb\": 7.2,\n",
    "\"category\": \"Romance\"\n",
    "}\n",
    "]"
   ]
  },
  {
   "cell_type": "code",
   "execution_count": 2,
   "metadata": {
    "collapsed": false
   },
   "outputs": [
    {
     "name": "stdout",
     "output_type": "stream",
     "text": [
      "\n",
      "Checking if Dark Knight is greater than 5.5\n",
      "\n",
      "True\n"
     ]
    }
   ],
   "source": [
    "# Write a function that takes a single movie and \n",
    "# returns True if its IMDB score is above 5.5\n",
    "\n",
    "#there're a few ways you could do this\n",
    "\n",
    "def checkScoreGreater(movie): \n",
    "    if(movie['imdb']>5.5):\n",
    "        return True\n",
    "    else:\n",
    "        return False\n",
    "\n",
    "    \n",
    "# Could change movie title from Dark Knight to any other\n",
    "# and change to the corresponding element # from 2 to \n",
    "# whichever movie you want to see is above 5.5 or not\n",
    "print ''\n",
    "print 'Checking if Dark Knight is greater than 5.5'\n",
    "print ''\n",
    "isGreater=checkScoreGreater(movies[2])\n",
    "if(isGreater):\n",
    "    print 'True'\n",
    "else :\n",
    "    print 'False'\n",
    "    "
   ]
  },
  {
   "cell_type": "code",
   "execution_count": null,
   "metadata": {
    "collapsed": true
   },
   "outputs": [],
   "source": []
  },
  {
   "cell_type": "code",
   "execution_count": 25,
   "metadata": {
    "collapsed": false
   },
   "outputs": [
    {
     "name": "stdout",
     "output_type": "stream",
     "text": [
      "True\n"
     ]
    }
   ],
   "source": [
    "#you could also do this\n",
    "#computers are reaaaally literal and need every step spelled out\n",
    "#it's good practice to complete a for loop with an \"else\" statement but in a pinch, this will work!\n",
    "\n",
    "def higher_score(movie_name):\n",
    "    for movie in movies:\n",
    "        if movie[\"name\"] == movie_name and movie[\"imdb\"] > 5.5:\n",
    "            print(\"True\")\n",
    "        elif movie['name'] == movie_name and movie['imdb'] <= 5.5:\n",
    "            return \"False\"\n",
    "\n",
    "higher_score(\"The Help\")"
   ]
  },
  {
   "cell_type": "code",
   "execution_count": 9,
   "metadata": {
    "collapsed": false
   },
   "outputs": [
    {
     "name": "stdout",
     "output_type": "stream",
     "text": [
      "\n",
      "List of movies with an IMDB score > 5.5: \n",
      "\n",
      "('List of movies with an IMDB score > 5.5', [{'category': 'Thriller', 'imdb': 7.0, 'name': 'Usual Suspects'}, {'category': 'Action', 'imdb': 6.3, 'name': 'Hitman'}, {'category': 'Adventure', 'imdb': 9.0, 'name': 'Dark Knight'}, {'category': 'Drama', 'imdb': 8.0, 'name': 'The Help'}, {'category': 'Romance', 'imdb': 6.2, 'name': 'The Choice'}, {'category': 'Romance', 'imdb': 7.4, 'name': 'Colonia'}, {'category': 'Romance', 'imdb': 6.0, 'name': 'Love'}, {'category': 'Comedy', 'imdb': 7.2, 'name': 'Joking muck'}, {'category': 'Suspense', 'imdb': 9.2, 'name': 'What is the name'}, {'category': 'Suspense', 'imdb': 7.0, 'name': 'Detective'}, {'category': 'Romance', 'imdb': 7.2, 'name': 'We Two'}])\n"
     ]
    }
   ],
   "source": [
    "# Write a function that returns a sublist of movies \n",
    "# with an IMDB score above 5.5. \n",
    "\n",
    "#cool, so what about something like this, where we iterate through the movies and append every one that's higher than \n",
    "#5.5 to a new list?\n",
    "\n",
    "def subListMoviesHighScore(movies): \n",
    "    out_list=[];\n",
    "    for i in range(0,len(movies)):\n",
    "        curr_movie=movies[i];\n",
    "        if curr_movie['imdb']>5.5:\n",
    "            out_list.append(curr_movie)\n",
    "    return \"List of movies with an IMDB score > 5.5\", out_list"
   ]
  },
  {
   "cell_type": "code",
   "execution_count": 67,
   "metadata": {
    "collapsed": false
   },
   "outputs": [
    {
     "data": {
      "text/plain": [
       "[{'category': 'Suspense', 'imdb': 9.2, 'name': 'What is the name'},\n",
       " {'category': 'Suspense', 'imdb': 7.0, 'name': 'Detective'}]"
      ]
     },
     "execution_count": 67,
     "metadata": {},
     "output_type": "execute_result"
    }
   ],
   "source": [
    "# Write a function that takes a category name and returns \n",
    "# just those movies under that category.\n",
    "\n",
    "#making sure you're using .lower() while searching through things in the exploratory data anslysis process helps a LOT\n",
    "\n",
    "def returnMovieCategory(movies,cat_name): \n",
    "    out_list=[]\n",
    "    for i in movies:\n",
    "        curr_cat=i['category']\n",
    "        if cat_name.lower()==curr_cat.lower():\n",
    "            out_list.append(i)\n",
    "    return out_list\n",
    "\n",
    "returnMovieCategory(movies, 'Suspense')"
   ]
  },
  {
   "cell_type": "code",
   "execution_count": 33,
   "metadata": {
    "collapsed": false
   },
   "outputs": [
    {
     "data": {
      "text/plain": [
       "['What is the name', 'Detective']"
      ]
     },
     "execution_count": 33,
     "metadata": {},
     "output_type": "execute_result"
    }
   ],
   "source": [
    "#here's another way of doing this without declaring the current category as a variable\n",
    "\n",
    "def category_search(movie_category):\n",
    "    movie_list = []\n",
    "    for movie in movies:\n",
    "        if movie_category.lower() == movie[\"category\"].lower():\n",
    "            movie_list.append(movie[\"name\"])\n",
    "    return movie_list\n",
    "\n",
    "category_search('suspense')"
   ]
  },
  {
   "cell_type": "code",
   "execution_count": 58,
   "metadata": {
    "collapsed": false
   },
   "outputs": [
    {
     "data": {
      "text/plain": [
       "6.486666666666667"
      ]
     },
     "execution_count": 58,
     "metadata": {},
     "output_type": "execute_result"
    }
   ],
   "source": [
    "# Write a function that takes a list of movies and computes \n",
    "# the average IMDB score.\n",
    "\n",
    "\n",
    "def avgImdbScore(movies): \n",
    "    avg_score=0\n",
    "    tot_movies=len(movies)\n",
    "    for i in movies:\n",
    "        avg_score=avg_score+float(i['imdb'])\n",
    "    avg_score=avg_score/tot_movies\n",
    "    return avg_score\n",
    "\n",
    "avgImdbScore(movies)"
   ]
  },
  {
   "cell_type": "code",
   "execution_count": 48,
   "metadata": {
    "collapsed": false
   },
   "outputs": [
    {
     "data": {
      "text/plain": [
       "'Average IMDB score for our movie list is... 6.48666666667!'"
      ]
     },
     "execution_count": 48,
     "metadata": {},
     "output_type": "execute_result"
    }
   ],
   "source": [
    "#how about something shorter?\n",
    "#you can have your return function do your heavy lifting (aka maths) for you\n",
    "\n",
    "#i decided to turn the average score into a string and concat the description and the score to make it look neater in this function\n",
    "\n",
    "\n",
    "def mean(list_of_movies):\n",
    "    mean_list = []\n",
    "    for a in list_of_movies:\n",
    "        mean_list.append(a[\"imdb\"])\n",
    "    return \"Average IMDB score for our movie list is... \" + str(sum(mean_list)/len(mean_list)) + '!'\n",
    "\n",
    "mean(movies)"
   ]
  },
  {
   "cell_type": "code",
   "execution_count": 62,
   "metadata": {
    "collapsed": false
   },
   "outputs": [
    {
     "data": {
      "text/plain": [
       "('Average score for Thriller genre is', 5.6)"
      ]
     },
     "execution_count": 62,
     "metadata": {},
     "output_type": "execute_result"
    }
   ],
   "source": [
    "# Write a function that takes a category and computes \n",
    "# the average IMDB score (HINT: reuse the function \n",
    "# from question 2.)\n",
    "\n",
    "def avgImdbAccToCat(movies,cat_name): \n",
    "    cat_movies=returnMovieCategory(movies,cat_name)\n",
    "    avg_score=avgImdbScore(cat_movies)\n",
    "    return \"Average score for Thriller genre is\", avg_score\n",
    "\n",
    "avgImdbAccToCat(movies,'Thriller')"
   ]
  },
  {
   "cell_type": "markdown",
   "metadata": {},
   "source": [
    "<img src=\"https://lifebeyondfife.com/wp-content/uploads/2015/05/functions.jpg\">"
   ]
  }
 ],
 "metadata": {
  "anaconda-cloud": {},
  "kernelspec": {
   "display_name": "Python [default]",
   "language": "python",
   "name": "python2"
  },
  "language_info": {
   "codemirror_mode": {
    "name": "ipython",
    "version": 2
   },
   "file_extension": ".py",
   "mimetype": "text/x-python",
   "name": "python",
   "nbconvert_exporter": "python",
   "pygments_lexer": "ipython2",
   "version": "2.7.13"
  }
 },
 "nbformat": 4,
 "nbformat_minor": 0
}
