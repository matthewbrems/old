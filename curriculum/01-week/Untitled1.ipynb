{
 "cells": [
  {
   "cell_type": "code",
   "execution_count": 2,
   "metadata": {
    "collapsed": true
   },
   "outputs": [],
   "source": [
    "names = ['mike schaerr', 'troy', 'adi', 'jenny', 'brian', 'keith', 'mike salmon', 'rob', 'natalie', 'valerie', 'rowan', 'robert', 'mike sanders', 'sparks', 'matt', 'nicole', 'joseph', 'miranda', 'mark', 'jeff', 'nick', 'elias', 'brendan', 'ray', 'david']"
   ]
  },
  {
   "cell_type": "code",
   "execution_count": 3,
   "metadata": {
    "collapsed": true
   },
   "outputs": [],
   "source": [
    "import random    "
   ]
  },
  {
   "cell_type": "code",
   "execution_count": 4,
   "metadata": {
    "collapsed": false
   },
   "outputs": [],
   "source": [
    "def partition(list_name, n): \n",
    "    random.shuffle(list_name)\n",
    "    division = len(list_name) / float(n) \n",
    "    return [list_name[int(round(division * i)): int(round(division * (i + 1)))] for i in xrange(n) ]"
   ]
  },
  {
   "cell_type": "code",
   "execution_count": 5,
   "metadata": {
    "collapsed": false
   },
   "outputs": [
    {
     "data": {
      "text/plain": [
       "[['nicole', 'david', 'jenny', 'ray'],\n",
       " ['jeff', 'mike sanders', 'elias'],\n",
       " ['rowan', 'joseph', 'sparks', 'robert'],\n",
       " ['troy', 'divya', 'mark', 'valerie'],\n",
       " ['brian', 'adi', 'rob', 'matt'],\n",
       " ['mike salmon', 'nick', 'miranda'],\n",
       " ['natalie', 'keith', 'brendan', 'mike schaerr']]"
      ]
     },
     "execution_count": 5,
     "metadata": {},
     "output_type": "execute_result"
    }
   ],
   "source": [
    "partition(names, 7)"
   ]
  },
  {
   "cell_type": "code",
   "execution_count": null,
   "metadata": {
    "collapsed": true
   },
   "outputs": [],
   "source": [
    " "
   ]
  }
 ],
 "metadata": {
  "anaconda-cloud": {},
  "kernelspec": {
   "display_name": "Python [conda root]",
   "language": "python",
   "name": "conda-root-py"
  },
  "language_info": {
   "codemirror_mode": {
    "name": "ipython",
    "version": 2
   },
   "file_extension": ".py",
   "mimetype": "text/x-python",
   "name": "python",
   "nbconvert_exporter": "python",
   "pygments_lexer": "ipython2",
   "version": "2.7.13"
  }
 },
 "nbformat": 4,
 "nbformat_minor": 1
}
