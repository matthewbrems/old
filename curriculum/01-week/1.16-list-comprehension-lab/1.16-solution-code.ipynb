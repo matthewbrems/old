{
 "cells": [
  {
   "cell_type": "markdown",
   "metadata": {},
   "source": [
    "### List Comprehension Lab\n",
    "\n",
    "In this lab, we're going to practice list comprehension and lambda functions\n",
    "\n",
    "<strong>Requirements:</strong>\n",
    "Remember the iteration lab from Tuesday? Yeah, let's go over those problems again, but this time:\n",
    "- Rewrite these for loops with list comprehension. (your list comprehension can take up multiple lines! just try to put the for loop in one)\n",
    "\n",
    "<strong>Bonus:</strong>\n",
    "- Try to do this using lambda functions\n",
    "- Use the [time()](https://stackoverflow.com/questions/7370801/measure-time-elapsed-in-python) to test if your list comprehension or your for loops (or your lambda functions) are faster. "
   ]
  },
  {
   "cell_type": "markdown",
   "metadata": {},
   "source": [
    "<img src =\"https://cdn.meme.am/instances/63439363.jpg\">"
   ]
  },
  {
   "cell_type": "code",
   "execution_count": 3,
   "metadata": {
    "collapsed": true
   },
   "outputs": [],
   "source": [
    "# Dictionary of movies\n",
    "\n",
    "movies = [\n",
    "{\n",
    "\"name\": \"Usual Suspects\", \n",
    "\"imdb\": 7.0,\n",
    "\"category\": \"Thriller\"\n",
    "},\n",
    "{\n",
    "\"name\": \"Hitman\",\n",
    "\"imdb\": 6.3,\n",
    "\"category\": \"Action\"\n",
    "},\n",
    "{\n",
    "\"name\": \"Dark Knight\",\n",
    "\"imdb\": 9.0,\n",
    "\"category\": \"Adventure\"\n",
    "},\n",
    "{\n",
    "\"name\": \"The Help\",\n",
    "\"imdb\": 8.0,\n",
    "\"category\": \"Drama\"\n",
    "},\n",
    "{\n",
    "\"name\": \"The Choice\",\n",
    "\"imdb\": 6.2,\n",
    "\"category\": \"Romance\"\n",
    "},\n",
    "{\n",
    "\"name\": \"Colonia\",\n",
    "\"imdb\": 7.4,\n",
    "\"category\": \"Romance\"\n",
    "},\n",
    "{\n",
    "\"name\": \"Love\",\n",
    "\"imdb\": 6.0,\n",
    "\"category\": \"Romance\"\n",
    "},\n",
    "{\n",
    "\"name\": \"Bride Wars\",\n",
    "\"imdb\": 5.4,\n",
    "\"category\": \"Romance\"\n",
    "},\n",
    "{\n",
    "\"name\": \"AlphaJet\",\n",
    "\"imdb\": 3.2,\n",
    "\"category\": \"War\"\n",
    "},\n",
    "{\n",
    "\"name\": \"Ringing Crime\",\n",
    "\"imdb\": 4.0,\n",
    "\"category\": \"Crime\"\n",
    "},\n",
    "{\n",
    "\"name\": \"Joking muck\",\n",
    "\"imdb\": 7.2,\n",
    "\"category\": \"Comedy\"\n",
    "},\n",
    "{\n",
    "\"name\": \"What is the name\",\n",
    "\"imdb\": 9.2,\n",
    "\"category\": \"Suspense\"\n",
    "},\n",
    "{\n",
    "\"name\": \"Detective\",\n",
    "\"imdb\": 7.0,\n",
    "\"category\": \"Suspense\"\n",
    "},\n",
    "{\n",
    "\"name\": \"Exam\",\n",
    "\"imdb\": 4.2,\n",
    "\"category\": \"Thriller\"\n",
    "},\n",
    "{\n",
    "\"name\": \"We Two\",\n",
    "\"imdb\": 7.2,\n",
    "\"category\": \"Romance\"\n",
    "}\n",
    "]"
   ]
  },
  {
   "cell_type": "code",
   "execution_count": 43,
   "metadata": {
    "collapsed": false
   },
   "outputs": [
    {
     "data": {
      "text/plain": [
       "['True']"
      ]
     },
     "execution_count": 43,
     "metadata": {},
     "output_type": "execute_result"
    }
   ],
   "source": [
    "# Write a function that takes a single movie and \n",
    "# returns True if its IMDB score is above 5.5\n",
    "\n",
    "def higher_score(movie_name):\n",
    "    return ['True' for movie in movies if movie[\"name\"] == movie_name and movie[\"imdb\"] > 5.5] #this one ONLY returns\n",
    "#a value if the rating is over 5.5 \n",
    "    \n",
    "higher_score(\"The Help\")"
   ]
  },
  {
   "cell_type": "code",
   "execution_count": 4,
   "metadata": {
    "collapsed": false
   },
   "outputs": [
    {
     "data": {
      "text/plain": [
       "['False',\n",
       " 'False',\n",
       " 'False',\n",
       " 'True',\n",
       " 'False',\n",
       " 'False',\n",
       " 'False',\n",
       " 'False',\n",
       " 'False',\n",
       " 'False',\n",
       " 'False',\n",
       " 'False',\n",
       " 'False',\n",
       " 'False',\n",
       " 'False']"
      ]
     },
     "execution_count": 4,
     "metadata": {},
     "output_type": "execute_result"
    }
   ],
   "source": [
    "#elifs don't work in list comprehension (except for the else with a condition that we spoke about) \n",
    "#what happens if we just ask the list comphrehension to return 'False' for movies that don't match?\n",
    "\n",
    "def higher_score(movie_name):\n",
    "    return ['True' if movie[\"name\"] == movie_name and movie[\"imdb\"] > 5.5 else 'False' for movie in movies] \n",
    "#this automatically runs through the list of movies and returns a list of boolean values \n",
    "#where everything is false except for the one movie we entered.\n",
    "\n",
    "higher_score(\"The Help\")"
   ]
  },
  {
   "cell_type": "code",
   "execution_count": 39,
   "metadata": {
    "collapsed": false
   },
   "outputs": [
    {
     "data": {
      "text/plain": [
       "['False']"
      ]
     },
     "execution_count": 39,
     "metadata": {},
     "output_type": "execute_result"
    }
   ],
   "source": [
    "#what if we split this into two steps\n",
    "def higher_score(movie_name):\n",
    "    movie_list = [movie for movie in movies if movie_name == movie['name']]\n",
    "    return ['True' if movie['imdb'] > 5.5 else 'False' for movie in movie_list]\n",
    "#so instead, we could write this in two steps. One to filter out the movie we've selected so our list of movies is 1\n",
    "#and the second to say whether or not that movie's rating is higher than 5.5 or not.\n",
    "\n",
    "higher_score(\"Exam\")"
   ]
  },
  {
   "cell_type": "code",
   "execution_count": 49,
   "metadata": {
    "collapsed": false
   },
   "outputs": [
    {
     "data": {
      "text/plain": [
       "['True']"
      ]
     },
     "execution_count": 49,
     "metadata": {},
     "output_type": "execute_result"
    }
   ],
   "source": [
    "#and we can combine those two lines into one with nested list comprehensions to get the same result!\n",
    "def higher_score(movie_name):\n",
    "    return ['True' if movie['imdb'] > 5.5 else 'False' for movie in [movie for movie in movies if movie_name == movie['name']]]\n",
    "\n",
    "higher_score('The Help')"
   ]
  },
  {
   "cell_type": "code",
   "execution_count": 52,
   "metadata": {
    "collapsed": false
   },
   "outputs": [],
   "source": [
    "# Write a function that returns a list of movies \n",
    "# with an IMDB score above 5.5.\n",
    "\n",
    "#given that we just need one sublist here, this should be more straightforward\n",
    "\n",
    "def subListMoviesHighScore(movies):\n",
    "    return [i['name'] for i in movies if i['imdb'] > 5.5]\n",
    "\n",
    "#all we did in this case is create a list of movie names (i['name']) if the rating (i['imdb']) was more than 5.5"
   ]
  },
  {
   "cell_type": "code",
   "execution_count": 53,
   "metadata": {
    "collapsed": false
   },
   "outputs": [
    {
     "data": {
      "text/plain": [
       "['Usual Suspects',\n",
       " 'Hitman',\n",
       " 'Dark Knight',\n",
       " 'The Help',\n",
       " 'The Choice',\n",
       " 'Colonia',\n",
       " 'Love',\n",
       " 'Joking muck',\n",
       " 'What is the name',\n",
       " 'Detective',\n",
       " 'We Two']"
      ]
     },
     "execution_count": 53,
     "metadata": {},
     "output_type": "execute_result"
    }
   ],
   "source": [
    "subListMoviesHighScore(movies)"
   ]
  },
  {
   "cell_type": "code",
   "execution_count": 54,
   "metadata": {
    "collapsed": false
   },
   "outputs": [
    {
     "data": {
      "text/plain": [
       "[{'category': 'Suspense', 'imdb': 9.2, 'name': 'What is the name'},\n",
       " {'category': 'Suspense', 'imdb': 7.0, 'name': 'Detective'}]"
      ]
     },
     "execution_count": 54,
     "metadata": {},
     "output_type": "execute_result"
    }
   ],
   "source": [
    "# Write a function that takes a category name and returns \n",
    "# just those movies under that category.\n",
    "\n",
    "#similar to the previous one, all we need to do is ask for the entire dictionary to come out IF the category matches\n",
    "#the category name we input\n",
    "\n",
    "def returnMovieCategory(movies, cat_name):\n",
    "    return [i for i in movies if i['category'].lower() == cat_name.lower()]\n",
    "\n",
    "returnMovieCategory(movies, 'Suspense')\n"
   ]
  },
  {
   "cell_type": "code",
   "execution_count": 63,
   "metadata": {
    "collapsed": false
   },
   "outputs": [
    {
     "data": {
      "text/plain": [
       "6.486666666666667"
      ]
     },
     "execution_count": 63,
     "metadata": {},
     "output_type": "execute_result"
    }
   ],
   "source": [
    "# Write a function that takes a list of movies and computes \n",
    "# the average IMDB score.\n",
    "\n",
    "#this one is a bit trickier. because you need to iterate through the list and pull out a list ratings before you can \n",
    "#take the average, one of the easiest ways is to create a list of ratings using list comprehension\n",
    "#and then perform the summing and division on that list\n",
    "\n",
    "def avgImdbScore(movies):\n",
    "    return sum([(i['imdb']) for i in movies])/len(movies)\n",
    "\n",
    "avgImdbScore(movies)"
   ]
  },
  {
   "cell_type": "markdown",
   "metadata": {},
   "source": [
    "## Bonus!"
   ]
  },
  {
   "cell_type": "code",
   "execution_count": 74,
   "metadata": {
    "collapsed": false
   },
   "outputs": [
    {
     "data": {
      "text/plain": [
       "['True']"
      ]
     },
     "execution_count": 74,
     "metadata": {},
     "output_type": "execute_result"
    }
   ],
   "source": [
    "#rinse and repeat with lambdas!\n",
    "\n",
    "#the first problem here where a filter function and lambda function can replace what the first part of the list comprehension filter was doing\n",
    "def higher_score(movie_name):\n",
    "    movie_test = filter(lambda movie: movie['name'] == movie_name, movies) #so in this step, we're filtering out the movies to only the dicitonary we're concerned with\n",
    "    return ['True' if movie['imdb'] > 5.5 else 'False' for movie in movie_test] #and then using list comprehension to say if it was above or below 5.5\n",
    "\n",
    "higher_score('The Help')"
   ]
  },
  {
   "cell_type": "code",
   "execution_count": 83,
   "metadata": {
    "collapsed": false
   },
   "outputs": [
    {
     "data": {
      "text/plain": [
       "['Usual Suspects',\n",
       " 'Hitman',\n",
       " 'Dark Knight',\n",
       " 'The Help',\n",
       " 'The Choice',\n",
       " 'Colonia',\n",
       " 'Love',\n",
       " 'Joking muck',\n",
       " 'What is the name',\n",
       " 'Detective',\n",
       " 'We Two']"
      ]
     },
     "execution_count": 83,
     "metadata": {},
     "output_type": "execute_result"
    }
   ],
   "source": [
    "#the second problem\n",
    "\n",
    "def subListMoviesHighScore(movies):\n",
    "    return [i['name'] for i in filter(lambda movie: movie['imdb'] > 5.5, movies)] #we can also use a lambda function\n",
    "#within list comprehension like so\n",
    "#the filter statement replaces the need to write an if statement\n",
    "\n",
    "subListMoviesHighScore(movies)"
   ]
  },
  {
   "cell_type": "code",
   "execution_count": 85,
   "metadata": {
    "collapsed": false
   },
   "outputs": [
    {
     "data": {
      "text/plain": [
       "[{'category': 'Suspense', 'imdb': 9.2, 'name': 'What is the name'},\n",
       " {'category': 'Suspense', 'imdb': 7.0, 'name': 'Detective'}]"
      ]
     },
     "execution_count": 85,
     "metadata": {},
     "output_type": "execute_result"
    }
   ],
   "source": [
    "#the third problem\n",
    "\n",
    "#this uses exactly the same principle of combining a lambda function and list comprehension\n",
    "def returnMovieCategory(movies, cat_name):\n",
    "    return [i for i in filter(lambda movie: movie['category'].lower() == cat_name.lower(), movies)]\n",
    "\n",
    "returnMovieCategory(movies, 'Suspense')\n"
   ]
  },
  {
   "cell_type": "code",
   "execution_count": 94,
   "metadata": {
    "collapsed": false
   },
   "outputs": [
    {
     "data": {
      "text/plain": [
       "6.486666666666668"
      ]
     },
     "execution_count": 94,
     "metadata": {},
     "output_type": "execute_result"
    }
   ],
   "source": [
    "#and the fourth \n",
    "\n",
    "#this is where it really is silly to use lambda functions when you can use list comprehension\n",
    "#this lambda function maps every single imdb rating divided by the length of the list movies to a new list\n",
    "#then sums up all the values in the list\n",
    "\n",
    "def avgImdbScore(movies):\n",
    "    return sum(map(lambda i: i['imdb']/len(movies), movies))\n",
    "\n",
    "avgImdbScore(movies)"
   ]
  }
 ],
 "metadata": {
  "anaconda-cloud": {},
  "kernelspec": {
   "display_name": "Python [conda root]",
   "language": "python",
   "name": "conda-root-py"
  },
  "language_info": {
   "codemirror_mode": {
    "name": "ipython",
    "version": 2
   },
   "file_extension": ".py",
   "mimetype": "text/x-python",
   "name": "python",
   "nbconvert_exporter": "python",
   "pygments_lexer": "ipython2",
   "version": "2.7.13"
  }
 },
 "nbformat": 4,
 "nbformat_minor": 1
}
