{
 "cells": [
  {
   "cell_type": "markdown",
   "metadata": {},
   "source": [
    "# Jupyter Notebooks\n",
    "\n",
    "This is a Jupyter Notebook demonstrating the utility of Jupyter Notebooks. Notice you can make markdown cells as well as code cells in Jupyter notebooks.\n",
    "\n",
    "Because we can create markdown cells, we're afforded with all the utilities of creating markdown files. This includes creating [links](https://www.youtube.com/watch?v=dQw4w9WgXcQ), formatting headers, **making bold text**, ***italic text***, and so much more.\n",
    "\n",
    "I regularly reference this [markdown guide](https://github.com/adam-p/markdown-here/wiki/Markdown-Cheatsheet).\n",
    "\n",
    "There are a number of things Jupyter Notebooks can do. I'll address only a few (links, images, and Tableau), but very common use cases for our students."
   ]
  },
  {
   "cell_type": "markdown",
   "metadata": {},
   "source": [
    "## Loading Images\n",
    "\n",
    "We can also load images. We can do this either via markdown or with iPython Notebook functionality. Given we'll be reading in data Pythonically, we'll opt to attempt to read in an image Pythonically too.\n",
    "\n",
    "Let's load the the \"tools.JPG\" image located in the assets folder. Note that we need to pay particular attention to creating the file path:\n",
    "\n",
    "```bash\n",
    "../assets/tools.JPG\n",
    "```"
   ]
  },
  {
   "cell_type": "code",
   "execution_count": null,
   "metadata": {
    "collapsed": false
   },
   "outputs": [],
   "source": [
    "# load necessary library\n",
    "from IPython.display import Image\n",
    "# provide file path\n",
    "Image(filename='../assets/tools.JPG') "
   ]
  },
  {
   "cell_type": "markdown",
   "metadata": {},
   "source": [
    "## Tableau\n",
    "\n",
    "Tableau makes embedding dashboards into HTML files excpetionally easy. A Jupyter notebook can be formatted to run HTML. That means we can embed Tableau into our notebooks. Score!\n",
    "\n",
    "To do so in Tabluea, you will see a \"share\" icon on the Tableau public page. That generates HTML. We can't do this until we learn some Tableau, of course. Nonetheless, below you'll find an example from a DSI3 student's Tableau dashboard.\n",
    "\n",
    "(We use %% to tell Jupyter this is an HTML cell.) [more tips](https://blog.dominodatalab.com/lesser-known-ways-of-using-notebooks/)"
   ]
  },
  {
   "cell_type": "code",
   "execution_count": null,
   "metadata": {
    "collapsed": false
   },
   "outputs": [],
   "source": [
    "%%html\n",
    "<div class='tableauPlaceholder' id='viz1488996799280' style='position: relative'><noscript><a href='#'><img alt='US Data Science Indeed Postings ' src='https:&#47;&#47;public.tableau.com&#47;static&#47;images&#47;US&#47;USDataSciencePostingsMap&#47;Sheet2&#47;1_rss.png' style='border: none' /></a></noscript><object class='tableauViz'  style='display:none;'><param name='host_url' value='https%3A%2F%2Fpublic.tableau.com%2F' /> <param name='site_root' value='' /><param name='name' value='USDataSciencePostingsMap&#47;Sheet2' /><param name='tabs' value='no' /><param name='toolbar' value='yes' /><param name='static_image' value='https:&#47;&#47;public.tableau.com&#47;static&#47;images&#47;US&#47;USDataSciencePostingsMap&#47;Sheet2&#47;1.png' /> <param name='animate_transition' value='yes' /><param name='display_static_image' value='yes' /><param name='display_spinner' value='yes' /><param name='display_overlay' value='yes' /><param name='display_count' value='yes' /></object></div>                <script type='text/javascript'>                    var divElement = document.getElementById('viz1488996799280');                    var vizElement = divElement.getElementsByTagName('object')[0];                    vizElement.style.width='100%';vizElement.style.height=(divElement.offsetWidth*0.75)+'px';                    var scriptElement = document.createElement('script');                    scriptElement.src = 'https://public.tableau.com/javascripts/api/viz_v1.js';                    vizElement.parentNode.insertBefore(scriptElement, vizElement);                </script>"
   ]
  },
  {
   "cell_type": "markdown",
   "metadata": {},
   "source": [
    "## Reading in data\n",
    "\n",
    "Most essential to today: we'll learn how to read in data."
   ]
  },
  {
   "cell_type": "code",
   "execution_count": null,
   "metadata": {
    "collapsed": false
   },
   "outputs": [],
   "source": [
    "# let's first import the data and print out each row\n",
    "import csv\n",
    "print 'Opening File. Data: '\n",
    "print ''\n",
    "with open('../assets/sales.csv', 'rU') as f:\n",
    "    reader = csv.reader(f)\n",
    "    for row in reader:\n",
    "        print row\n",
    "f.close()\n",
    "print ''\n",
    "print 'file closed'"
   ]
  },
  {
   "cell_type": "code",
   "execution_count": null,
   "metadata": {
    "collapsed": false
   },
   "outputs": [],
   "source": [
    "print 'Adding the following record: '\n",
    "data = ['123456', 'cosmos', 'joseph', 'matt', 'universe', '1', '1,000,000', 'presented']\n",
    "print ''\n",
    "print data\n",
    "with open('../assets/sales.csv', 'a') as fp:\n",
    "    a = csv.writer(fp, delimiter=',')\n",
    "    # fp.write('\\n')\n",
    "    # a.writerows([data])\n",
    "\n",
    "fp.close()\n",
    "print ''\n",
    "print 'file closed'"
   ]
  },
  {
   "cell_type": "code",
   "execution_count": null,
   "metadata": {
    "collapsed": false
   },
   "outputs": [],
   "source": [
    "# print out the new stuff\n",
    "print 'The new data that was just added, can be seen on the last line: '\n",
    "with open('../assets/sales.csv', 'rU') as f:\n",
    "    reader = csv.reader(f)\n",
    "    for row in reader:\n",
    "        print row\n",
    "\n",
    "f.close()\n",
    "print ''\n",
    "print 'file closed'"
   ]
  },
  {
   "cell_type": "code",
   "execution_count": null,
   "metadata": {
    "collapsed": true
   },
   "outputs": [],
   "source": []
  }
 ],
 "metadata": {
  "kernelspec": {
   "display_name": "Python [Root]",
   "language": "python",
   "name": "Python [Root]"
  },
  "language_info": {
   "codemirror_mode": {
    "name": "ipython",
    "version": 2
   },
   "file_extension": ".py",
   "mimetype": "text/x-python",
   "name": "python",
   "nbconvert_exporter": "python",
   "pygments_lexer": "ipython2",
   "version": "2.7.12"
  }
 },
 "nbformat": 4,
 "nbformat_minor": 2
}
