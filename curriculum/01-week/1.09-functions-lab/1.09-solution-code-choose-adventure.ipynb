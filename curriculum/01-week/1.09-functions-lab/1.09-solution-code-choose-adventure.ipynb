{
 "cells": [
  {
   "cell_type": "markdown",
   "metadata": {},
   "source": [
    "# Functions Lab-Starter Code\n"
   ]
  },
  {
   "cell_type": "code",
   "execution_count": null,
   "metadata": {
    "collapsed": false
   },
   "outputs": [],
   "source": [
    "\"\"\"\n",
    "If you don't have pytest library you can install from the command line using:\n",
    "pip install -U pytest\n",
    "\"\"\"\n",
    "import pytest\n",
    "import string"
   ]
  },
  {
   "cell_type": "markdown",
   "metadata": {},
   "source": [
    "#### 1) CHOOSE YOUR OWN ADVENTURE.\n",
    "\n",
    "#### 1-A) From yesterday's lesson, we built code that removes whitespace from a string in a given list. You'll want to go back and reference that for this.\n",
    "- Copy the code from yesterday into the cell below.\n",
    "- COMMENT. COMMENT. COMMENT. Prove to yourself (and us!) that you know what that code is doing.\n",
    "- Once you are done with that, embed that code into a function called whitespace_removal. Be sure to define its arguments. Test it out!\n",
    "\n",
    "### OR\n",
    "\n",
    "#### 1-B) From today's lesson, we estimated the value of pi by generating random numbers from a uniform distribution. You'll want to go back and reference that for this.\n",
    "- Copy the code from today's lesson into the cell below. (Be sure to import numpy as np.)\n",
    "- COMMENT. COMMENT. COMMENT. Prove to yourself (and us!) that you know what that code is doing.\n",
    "- Once you are done with that, embed that code into a function called pi_estimation. Be sure to define its arguments. Test it out!"
   ]
  },
  {
   "cell_type": "code",
   "execution_count": null,
   "metadata": {
    "collapsed": true
   },
   "outputs": [],
   "source": []
  },
  {
   "cell_type": "code",
   "execution_count": null,
   "metadata": {
    "collapsed": true
   },
   "outputs": [],
   "source": [
    "def whitespace_removal(cities):\n",
    "    new_city_list = [] ## initialize a list called new_city_list.\n",
    "\n",
    "    for i in cities: ## loop through a list called cities - **so we'll need to have cities as one of our inputs!**\n",
    "        while i[len(i)-1] == ' ': ## while a city's last character is a white space, we want to do what is indented below.\n",
    "            i = i[0:len(i)-1] ## set the city (i) equal to the city (i) except for its last character. (Basically, we're deleting the last character.)\n",
    "        new_city_list.append(i) ## we append the city (i) to new_city_list. Note that we are appending this outside the while loop - so if there are no whitespaces trailing, it will append the city.\n",
    "        \n",
    "## To summarize what whitespace_removal(cities) does, it takes in a single argument called cities which is the list\n",
    "## of the strings from which we want to remove right-side white spaces. We initialize new_city_list to store all of\n",
    "## our cleaned strings. We loop through each item in \"cities\" and determine if the last character in that string is\n",
    "## a white space. If it is *not* a white space, we skip down and append that item to our new_city_list because it's\n",
    "## already good to go! If the last character *is* a white space, we replace that string with itself minus the last\n",
    "## character (essentially we're deleting the last character), then check again to see if there are white spaces at\n",
    "## the end, and repeat until the last character is not a white space. Then, we append the cleaned string to\n",
    "## new_city_list.\n",
    "\n",
    "## As a side note, the name \"cities\" here might be a bit misleading. We *could* use any name for this or apply this\n",
    "## to any list, regardless of whether we're working with cities, states, or even something non-geographic. However,\n",
    "## this will run so I personally kept it as \"cities\" and \"new_city_list.\" It's an arbitrary choice. Depending on the\n",
    "## real-world purpose of your work or how complicated it gets, it's _generally_ in your best interest to name things\n",
    "## in terms that make the most sense. However, as we're getting our bearings, the focus is on getting a function that\n",
    "## works!\n",
    "\n",
    "    \n",
    "def pi_estimation(n): ## This function takes one input: the number of samples. I represented this by \"n.\"\n",
    "    import numpy as np ## this line imports the NumPy library - has the random.uniform function we need.\n",
    "    \n",
    "    x = np.random.uniform(0,1,n) # generates n samples in horizontal direction. (I replaced 1,000,000 with n.)\n",
    "    y = np.random.uniform(0,1,n) # generates n samples in vertical direction. (I replaced 1,000,000 with n.)\n",
    "    ## x[0:5] Commented this line out. This line was used to test that x contained what we expected it to.\n",
    "    sand_circle_counter = 0 # initialized the counter to count how many \"grains of sand\" fall inside the circle.\n",
    "\n",
    "    for i in range(n):              ## go through each grain of sand. (Replaced len(x) with n.)\n",
    "        if x[i] ** 2 + y[i] ** 2 <= 1:   ## check if it's in the circle\n",
    "            sand_circle_counter += 1     ## if it *is* in the circle, add one to sand circle count\n",
    "\n",
    "    pi_estimate = 4 * (float(sand_circle_counter) / float(n)) ## this step estimates pi! Replacing len(x) with n.\n",
    "    return pi_estimate ## this will *return* the value of our function.\n",
    "\n",
    "## To summarize what pi_estimation(n) does, it takes in a single argument indicating how many random numbers\n",
    "## (grains of sand) we want to drop, generates n random numbers, identifies whether it falls inside or\n",
    "## outside the circle, and then uses 4 * (sand inside circle) / (total sand dropped) to estimate the value of\n",
    "## pi."
   ]
  },
  {
   "cell_type": "code",
   "execution_count": null,
   "metadata": {
    "collapsed": false
   },
   "outputs": [],
   "source": [
    "assert whitespace_removal(['San Francisco   ', 'New York City  ', 'Baltimore', 'Columbus_is_a_real_place   ']) == ['San Francisco', 'New York City', 'Baltimore', 'Columbus_is_a_real_place']\n",
    "assert (pi_estimation(n) - 3.142) < 0.01"
   ]
  },
  {
   "cell_type": "markdown",
   "metadata": {},
   "source": [
    "#### 2) Write a function that takes the height and width of a triangle and returns the area."
   ]
  },
  {
   "cell_type": "code",
   "execution_count": null,
   "metadata": {
    "collapsed": true
   },
   "outputs": [],
   "source": [
    "def area_triangle():\n",
    "    #Write code here"
   ]
  },
  {
   "cell_type": "code",
   "execution_count": null,
   "metadata": {
    "collapsed": false
   },
   "outputs": [],
   "source": [
    "assert area_triangle(2,2) == 2\n",
    "assert area_triangle(5,5) == 12.5"
   ]
  },
  {
   "cell_type": "markdown",
   "metadata": {},
   "source": [
    "#### 3) Write a function that takes a string as an argument and returns a tuple with the string converted to a list and the count of characters"
   ]
  },
  {
   "cell_type": "code",
   "execution_count": null,
   "metadata": {
    "collapsed": true
   },
   "outputs": [],
   "source": [
    "def string_list_fun():\n",
    "    #Write code here"
   ]
  },
  {
   "cell_type": "code",
   "execution_count": null,
   "metadata": {
    "collapsed": false
   },
   "outputs": [],
   "source": [
    "assert string_list_fun('Ryan Rocks') == (['R','y','a','n',' ','R','o','c','k','s'],10)"
   ]
  },
  {
   "cell_type": "markdown",
   "metadata": {},
   "source": [
    "#### 4) Write a function that takes two integers passed as strings and returns the sum, difference, and product as a tuple (all values as integers)"
   ]
  },
  {
   "cell_type": "code",
   "execution_count": null,
   "metadata": {
    "collapsed": true
   },
   "outputs": [],
   "source": [
    "def math_rocks():\n",
    "    #Write code here"
   ]
  },
  {
   "cell_type": "code",
   "execution_count": null,
   "metadata": {
    "collapsed": false
   },
   "outputs": [],
   "source": [
    "assert math_rocks ('5','2') == (7,3,10)"
   ]
  },
  {
   "cell_type": "markdown",
   "metadata": {},
   "source": [
    "#### 5) Write a function that takes a list and returns a tuple where the first item is the list in reverse order and the second item is just the items with an odd index"
   ]
  },
  {
   "cell_type": "code",
   "execution_count": null,
   "metadata": {
    "collapsed": true
   },
   "outputs": [],
   "source": [
    "def getting_crazy():\n",
    "    #Write code here"
   ]
  },
  {
   "cell_type": "code",
   "execution_count": null,
   "metadata": {
    "collapsed": false
   },
   "outputs": [],
   "source": [
    "assert getting_crazy([1,2,3,4,5]) == ([5,4,3,2,1],[2,4])"
   ]
  },
  {
   "cell_type": "markdown",
   "metadata": {},
   "source": [
    "#### Challenge Problem: Write a function that returns the score for a word. Each letter's score is equal to it's position in the alphabet. The score of the word is the score of the letters. So for example:\n",
    "\n",
    "* A = 1, B = 2, C = 3, D = 4, E = 5\n",
    "* abe = 8 = (1 + 2 + 5)\n",
    "\n",
    "##### Hint: The string library has a property ascii_lowercase that can save some typing here. (https://docs.python.org/2/library/string.html)"
   ]
  },
  {
   "cell_type": "code",
   "execution_count": null,
   "metadata": {
    "collapsed": false
   },
   "outputs": [],
   "source": [
    "def score_word():\n",
    "    #Write code here"
   ]
  },
  {
   "cell_type": "code",
   "execution_count": null,
   "metadata": {
    "collapsed": false
   },
   "outputs": [],
   "source": [
    "assert score_word(\"abe\") == 8"
   ]
  },
  {
   "cell_type": "markdown",
   "metadata": {},
   "source": [
    "### Additional Resources - Potentially Helpful Functions\n",
    "\n",
    "* [Dictionary Comprehension](https://docs.python.org/2/tutorial/datastructures.html#dictionaries)\n",
    "* [Enumerate](https://docs.python.org/2/library/functions.html#enumerate)\n",
    "* [Length](https://docs.python.org/2/library/functions.html#len)\n",
    "* [Int](https://docs.python.org/2/library/functions.html#int)\n",
    "* [List](https://docs.python.org/2/library/functions.html#list)"
   ]
  }
 ],
 "metadata": {
  "anaconda-cloud": {},
  "kernelspec": {
   "display_name": "Python 2",
   "language": "python",
   "name": "python2"
  },
  "language_info": {
   "codemirror_mode": {
    "name": "ipython",
    "version": 2
   },
   "file_extension": ".py",
   "mimetype": "text/x-python",
   "name": "python",
   "nbconvert_exporter": "python",
   "pygments_lexer": "ipython2",
   "version": "2.7.13"
  }
 },
 "nbformat": 4,
 "nbformat_minor": 0
}
