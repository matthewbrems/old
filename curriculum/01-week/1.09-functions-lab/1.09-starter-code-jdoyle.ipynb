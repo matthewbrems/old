{
 "cells": [
  {
   "cell_type": "markdown",
   "metadata": {},
   "source": [
    "# Functions Lab-Starter Code\n"
   ]
  },
  {
   "cell_type": "code",
   "execution_count": 1,
   "metadata": {
    "collapsed": false
   },
   "outputs": [],
   "source": [
    "\"\"\"\n",
    "If you don't have pytest library you can install from the command line using:\n",
    "pip install -U pytest\n",
    "\"\"\"\n",
    "\n",
    "import pytest\n",
    "import string"
   ]
  },
  {
   "cell_type": "markdown",
   "metadata": {},
   "source": [
    "#### 1) CHOOSE YOUR OWN ADVENTURE.\n",
    "\n",
    "#### 1-A) From yesterday's lesson, we built code that removes whitespace from a string in a given list. You'll want to go back and reference that for this.\n",
    "- Copy the code from yesterday into the cell below.\n",
    "- COMMENT. COMMENT. COMMENT. Prove to yourself (and us!) that you know what that code is doing.\n",
    "- Once you are done with that, embed that code into a function called whitespace_removal. Be sure to define its arguments. Test it out!\n",
    "\n",
    "### OR\n",
    "\n",
    "#### 1-B) From today's lesson, we estimated the value of pi by generating random numbers from a uniform distribution. You'll want to go back and reference that for this.\n",
    "- Copy the code from today's lesson into the cell below. (Be sure to import numpy as np.)\n",
    "- COMMENT. COMMENT. COMMENT. Prove to yourself (and us!) that you know what that code is doing.\n",
    "- Once you are done with that, embed that code into a function called pi_estimation. Be sure to define its arguments. Test it out!"
   ]
  },
  {
   "cell_type": "code",
   "execution_count": 1,
   "metadata": {
    "collapsed": false
   },
   "outputs": [],
   "source": [
    "def whitespace_removal(strings_list):\n",
    "    new_string_list = []\n",
    "    for string in strings_list:              ## for each string in the list\n",
    "        while ' ' in string[len(string)-1:]: ## as long as the string ends in a whitespace..\n",
    "            string = string[:-1]             ## slice the string to exclude that whitespace\n",
    "        new_string_list.append(string)       ## once there are no whitespaces at the end, add it to the finished list\n",
    "    return new_string_list\n",
    "\n"
   ]
  },
  {
   "cell_type": "code",
   "execution_count": 10,
   "metadata": {
    "collapsed": false
   },
   "outputs": [],
   "source": [
    "assert whitespace_removal(['San Francisco   ', 'New York City  ', 'Baltimore', 'Columbus_is_a_real_place   ']) == ['San Francisco', 'New York City', 'Baltimore', 'Columbus_is_a_real_place']\n",
    "#assert (pi_estimation(n) - 3.142) < 0.01"
   ]
  },
  {
   "cell_type": "markdown",
   "metadata": {},
   "source": [
    "#### 2) Write a function that takes the height and width of a triangle and returns the area."
   ]
  },
  {
   "cell_type": "code",
   "execution_count": 24,
   "metadata": {
    "collapsed": false
   },
   "outputs": [],
   "source": [
    "def area_triangle(height, width):\n",
    "    return 0.5 * width * height   ## area of a triangle = 1/2 (base * height)\n"
   ]
  },
  {
   "cell_type": "code",
   "execution_count": 16,
   "metadata": {
    "collapsed": false
   },
   "outputs": [],
   "source": [
    "assert area_triangle(2,2) == 2\n",
    "assert area_triangle(5,5) == 12.5"
   ]
  },
  {
   "cell_type": "markdown",
   "metadata": {},
   "source": [
    "#### 3) Write a function that takes a string as an argument and returns a tuple with the string converted to a list and the count of characters"
   ]
  },
  {
   "cell_type": "code",
   "execution_count": 25,
   "metadata": {
    "collapsed": true
   },
   "outputs": [],
   "source": [
    "def string_list_fun(string):\n",
    "    string_to_list = []\n",
    "    char_count = len(string)                        ## count the number of characters in the string\n",
    "    for char in string:                             ## go through each character in the string\n",
    "        string_to_list.append(char)                 ## append the character to the string_to_list list\n",
    "    string_list_count = (string_to_list, char_count)## create a tuple with the string_to_list list and the number of characters contained\n",
    "    return string_list_count\n",
    "        "
   ]
  },
  {
   "cell_type": "code",
   "execution_count": 22,
   "metadata": {
    "collapsed": false
   },
   "outputs": [],
   "source": [
    "assert string_list_fun('Ryan Rocks') == (['R','y','a','n',' ','R','o','c','k','s'],10)"
   ]
  },
  {
   "cell_type": "markdown",
   "metadata": {},
   "source": [
    "#### 4) Write a function that takes two integers passed as strings and returns the sum, difference, and product as a tuple (all values as integers)"
   ]
  },
  {
   "cell_type": "code",
   "execution_count": 42,
   "metadata": {
    "collapsed": false
   },
   "outputs": [],
   "source": [
    "def math_rocks(int_1, int_2):\n",
    "    int_1 = int(int_1)        ## convert number strings into integers\n",
    "    int_2 = int(int_2)        \n",
    "    sum_ints = int_1 + int_2  ## take the sum of the ints\n",
    "    diff_ints = int_1 - int_2 ## take the difference of the ints\n",
    "    prod_ints = int_1 * int_2 ## take the product of the ints\n",
    "    all_values = (int(sum_ints), int(diff_ints), int(prod_ints))  ## put all values into tuple\n",
    "    return all_values"
   ]
  },
  {
   "cell_type": "code",
   "execution_count": 43,
   "metadata": {
    "collapsed": false
   },
   "outputs": [],
   "source": [
    "assert math_rocks ('5','2') == (7,3,10)"
   ]
  },
  {
   "cell_type": "markdown",
   "metadata": {},
   "source": [
    "#### 5) Write a function that takes a list and returns a tuple where the first item is the list in reverse order and the second item is just the items with an odd index"
   ]
  },
  {
   "cell_type": "code",
   "execution_count": 72,
   "metadata": {
    "collapsed": false
   },
   "outputs": [],
   "source": [
    "def getting_crazy(listlist):\n",
    "    reversed_list = listlist[::-1] ## return the list in reversed order\n",
    "    odd_indexes = []             \n",
    "    for i in listlist:                  ## loop through items in list\n",
    "        if listlist.index(i) % 2 == 1:  ## if that item's index is odd / divisible by 2\n",
    "            odd_indexes.append(i)       ## add that item to the odd_indexes list\n",
    "    return (reversed_list, odd_indexes) ## put the reversed_list and odd_indexes list in a typle\n",
    "\n",
    "\n"
   ]
  },
  {
   "cell_type": "code",
   "execution_count": 75,
   "metadata": {
    "collapsed": false
   },
   "outputs": [],
   "source": [
    "assert getting_crazy([1,2,3,4,5]) == ([5,4,3,2,1],[2,4])"
   ]
  },
  {
   "cell_type": "markdown",
   "metadata": {},
   "source": [
    "#### Challenge Problem: Write a function that returns the score for a word. Each letter's score is equal to it's position in the alphabet. The score of the word is the score of the letters. So for example:\n",
    "\n",
    "* A = 1, B = 2, C = 3, D = 4, E = 5\n",
    "* abe = 8 = (1 + 2 + 5)\n",
    "\n",
    "##### Hint: The string library has a property ascii_lowercase that can save some typing here. (https://docs.python.org/2/library/string.html)"
   ]
  },
  {
   "cell_type": "code",
   "execution_count": 181,
   "metadata": {
    "collapsed": false
   },
   "outputs": [
    {
     "data": {
      "text/plain": [
       "8"
      ]
     },
     "execution_count": 181,
     "metadata": {},
     "output_type": "execute_result"
    }
   ],
   "source": [
    "import string\n",
    "\n",
    "def score_word(string_to_score):\n",
    "    string_to_score = string_to_score.lower()  ## convert string to lowercase\n",
    "    string_sum = 0\n",
    "    alphabet_list = []\n",
    "    string_lower_list = []\n",
    "    for letter in string.ascii_lowercase:      ## create a list of the alphabet in lowercase\n",
    "        alphabet_list.append(letter)        \n",
    "    for letter in string_to_score:             ## turn the string into a list of letters\n",
    "        string_lower_list.append(letter)\n",
    "    for letter in string_lower_list:           ## find the index of alphabet_list for its letter that matches the letter in the string list\n",
    "        string_sum += alphabet_list.index(letter) + 1 ## add the number's index to the string_sum, along with 1 to ensure 'a' gets assigned 1 instead of 0\n",
    "    return string_sum\n",
    "score_word(\"Abe\")"
   ]
  },
  {
   "cell_type": "code",
   "execution_count": 182,
   "metadata": {
    "collapsed": false
   },
   "outputs": [],
   "source": [
    "assert score_word(\"abe\") == 8"
   ]
  },
  {
   "cell_type": "markdown",
   "metadata": {},
   "source": [
    "### Additional Resources - Potentially Helpful Functions\n",
    "\n",
    "* [Dictionary Comprehension](https://docs.python.org/2/tutorial/datastructures.html#dictionaries)\n",
    "* [Enumerate](https://docs.python.org/2/library/functions.html#enumerate)\n",
    "* [Length](https://docs.python.org/2/library/functions.html#len)\n",
    "* [Int](https://docs.python.org/2/library/functions.html#int)\n",
    "* [List](https://docs.python.org/2/library/functions.html#list)"
   ]
  }
 ],
 "metadata": {
  "anaconda-cloud": {},
  "kernelspec": {
   "display_name": "Python 2",
   "language": "python",
   "name": "python2"
  },
  "language_info": {
   "codemirror_mode": {
    "name": "ipython",
    "version": 2
   },
   "file_extension": ".py",
   "mimetype": "text/x-python",
   "name": "python",
   "nbconvert_exporter": "python",
   "pygments_lexer": "ipython2",
   "version": "2.7.13"
  }
 },
 "nbformat": 4,
 "nbformat_minor": 0
}
