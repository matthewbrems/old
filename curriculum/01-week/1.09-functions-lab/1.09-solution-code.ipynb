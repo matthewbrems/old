{
 "cells": [
  {
   "cell_type": "markdown",
   "metadata": {},
   "source": [
    "# Functions Lab-Starter Code\n"
   ]
  },
  {
   "cell_type": "code",
   "execution_count": 1,
   "metadata": {
    "collapsed": false
   },
   "outputs": [],
   "source": [
    "\"\"\"\n",
    "If you don't have pytest library you can install from the command line using:\n",
    "pip install -U pytest\n",
    "\"\"\"\n",
    "import pytest\n",
    "import string"
   ]
  },
  {
   "cell_type": "markdown",
   "metadata": {},
   "source": [
    "#### 1) CHOOSE YOUR OWN ADVENTURE.\n",
    "\n",
    "#### 1-A) From yesterday's lesson, we built code that removes whitespace from a string in a given list. You'll want to go back and reference that for this.\n",
    "- Copy the code from yesterday into the cell below.\n",
    "- COMMENT. COMMENT. COMMENT. Prove to yourself (and us!) that you know what that code is doing.\n",
    "- Once you are done with that, embed that code into a function called whitespace_removal. Be sure to define its arguments. Test it out!\n",
    "\n",
    "### OR\n",
    "\n",
    "#### 1-B) From today's lesson, we estimated the value of pi by generating random numbers from a uniform distribution. You'll want to go back and reference that for this.\n",
    "- Copy the code from today's lesson into the cell below. (Be sure to import numpy as np.)\n",
    "- COMMENT. COMMENT. COMMENT. Prove to yourself (and us!) that you know what that code is doing.\n",
    "- Once you are done with that, embed that code into a function called pi_estimation. Be sure to define its arguments. Test it out!"
   ]
  },
  {
   "cell_type": "code",
   "execution_count": 2,
   "metadata": {
    "collapsed": true
   },
   "outputs": [],
   "source": [
    "import numpy as np\n",
    "import scipy.stats as scipy"
   ]
  },
  {
   "cell_type": "code",
   "execution_count": 20,
   "metadata": {
    "collapsed": true
   },
   "outputs": [],
   "source": [
    "def whitespace_removal(cities):\n",
    "    new_city_list = [] ## initialize a list called new_city_list.\n",
    "\n",
    "    for i in cities: ## loop through a list called cities - **so we'll need to have cities as one of our inputs!**\n",
    "        while i[len(i)-1] == ' ': ## while a city's last character is a white space, we want to do what is indented below.\n",
    "            i = i[0:len(i)-1] ## set the city (i) equal to the city (i) except for its last character. (Basically, we're deleting the last character.)\n",
    "        new_city_list.append(i) ## we append the city (i) to new_city_list. Note that we are appending this outside the while loop - so if there are no whitespaces trailing, it will append the city.\n",
    "    return new_city_list    \n",
    "## To summarize what whitespace_removal(cities) does, it takes in a single argument called cities which is the list\n",
    "## of the strings from which we want to remove right-side white spaces. We initialize new_city_list to store all of\n",
    "## our cleaned strings. We loop through each item in \"cities\" and determine if the last character in that string is\n",
    "## a white space. If it is *not* a white space, we skip down and append that item to our new_city_list because it's\n",
    "## already good to go! If the last character *is* a white space, we replace that string with itself minus the last\n",
    "## character (essentially we're deleting the last character), then check again to see if there are white spaces at\n",
    "## the end, and repeat until the last character is not a white space. Then, we append the cleaned string to\n",
    "## new_city_list.\n",
    "\n",
    "## As a side note, the name \"cities\" here might be a bit misleading. We *could* use any name for this or apply this\n",
    "## to any list, regardless of whether we're working with cities, states, or even something non-geographic. However,\n",
    "## this will run so I personally kept it as \"cities\" and \"new_city_list.\" It's an arbitrary choice. Depending on the\n",
    "## real-world purpose of your work or how complicated it gets, it's _generally_ in your best interest to name things\n",
    "## in terms that make the most sense. However, as we're getting our bearings, the focus is on getting a function that\n",
    "## works!\n",
    "\n",
    "def pi_estimation(n): ## This function takes one input: the number of samples. I represented this by \"n.\"\n",
    "    import numpy as np ## this line imports the NumPy library - has the random.uniform function we need.\n",
    "    \n",
    "    x = np.random.uniform(0,1,n) # generates n samples in horizontal direction. (I replaced 1,000,000 with n.)\n",
    "    y = np.random.uniform(0,1,n) # generates n samples in vertical direction. (I replaced 1,000,000 with n.)\n",
    "    ## x[0:5] Commented this line out. This line was used to test that x contained what we expected it to contain.\n",
    "    sand_circle_counter = 0 # initialized the counter to count how many \"grains of sand\" fall inside the circle.\n",
    "\n",
    "    for i in range(n):              ## go through each grain of sand. (Replaced len(x) with n.)\n",
    "        if x[i] ** 2 + y[i] ** 2 <= 1:   ## check if it's in the circle\n",
    "            sand_circle_counter += 1     ## if it *is* in the circle, add one to sand circle count\n",
    "\n",
    "    pi_estimate = 4 * (float(sand_circle_counter) / float(n)) ## this step estimates pi! Replacing len(x) with n.\n",
    "    return pi_estimate ## this will *return* the value of our function.\n",
    "\n",
    "## To summarize what pi_estimation(n) does, it takes in a single argument indicating how many random numbers\n",
    "## (grains of sand) we want to drop, generates n random numbers, identifies whether it falls inside or\n",
    "## outside the circle, and then uses 4 * (sand inside circle) / (total sand dropped) to estimate the value of\n",
    "## pi."
   ]
  },
  {
   "cell_type": "code",
   "execution_count": 21,
   "metadata": {
    "collapsed": false
   },
   "outputs": [],
   "source": [
    "#all that the assert command is doing is checking if your function produces the result it expects. \n",
    "#if it's working, you won't get an error message\n",
    "assert whitespace_removal(['San Francisco   ', 'New York City  ', 'Baltimore', 'Columbus_is_a_real_place   ']) == ['San Francisco', 'New York City', 'Baltimore', 'Columbus_is_a_real_place']\n",
    "assert (pi_estimation(n) - 3.142) < 0.01"
   ]
  },
  {
   "cell_type": "markdown",
   "metadata": {},
   "source": [
    "#### 2) Write a function that takes the height and width of a triangle and returns the area."
   ]
  },
  {
   "cell_type": "code",
   "execution_count": 23,
   "metadata": {
    "collapsed": true
   },
   "outputs": [],
   "source": [
    "#your return statement can just have the formula that calculates whatever you want it to do\n",
    "#so in this case, the function takes in any two heights and widths you feed it, and then calculates the area of the triangle\n",
    "\n",
    "def area_triangle(height, width):\n",
    "    return (height*width)*.5"
   ]
  },
  {
   "cell_type": "code",
   "execution_count": 25,
   "metadata": {
    "collapsed": false
   },
   "outputs": [
    {
     "name": "stdout",
     "output_type": "stream",
     "text": [
      "21.0\n",
      "31.5\n"
     ]
    }
   ],
   "source": [
    "#so the function will work with any height or width you input!\n",
    "print area_triangle(6, 7)\n",
    "print area_triangle(7, 9)"
   ]
  },
  {
   "cell_type": "code",
   "execution_count": 26,
   "metadata": {
    "collapsed": true
   },
   "outputs": [],
   "source": [
    "assert area_triangle(2,2) == 2\n",
    "assert area_triangle(5,5) == 12.5"
   ]
  },
  {
   "cell_type": "markdown",
   "metadata": {},
   "source": [
    "#### 3) Write a function that takes a string as an argument and returns a tuple with the string converted to a list and the count of characters"
   ]
  },
  {
   "cell_type": "code",
   "execution_count": 27,
   "metadata": {
    "collapsed": true
   },
   "outputs": [],
   "source": [
    "#what this function does is take any string you assign, and turn that string into a list.\n",
    "#it also calculates and returns how long that string is\n",
    "#to return a tuple, all you have to do is put your response into parentheses, the same way you would create a list\n",
    "#by putting brackets around something ['l','i','s','t']. \n",
    "#Python can be clever sometimes\n",
    "def string_list_fun(string):\n",
    "    return (list(string),len(string))"
   ]
  },
  {
   "cell_type": "code",
   "execution_count": 28,
   "metadata": {
    "collapsed": false
   },
   "outputs": [
    {
     "data": {
      "text/plain": [
       "(['s', 't', 'r', 'i', 'n', 'g'], 6)"
      ]
     },
     "execution_count": 28,
     "metadata": {},
     "output_type": "execute_result"
    }
   ],
   "source": [
    "#again, let's look at just putting in a random string and seeing what the response will be\n",
    "string_list_fun('string')"
   ]
  },
  {
   "cell_type": "code",
   "execution_count": 29,
   "metadata": {
    "collapsed": false
   },
   "outputs": [
    {
     "data": {
      "text/plain": [
       "(['a', 'n', 'o', 't', 'h', 'e', 'r', ' ', 's', 't', 'r', 'i', 'n', 'g'], 14)"
      ]
     },
     "execution_count": 29,
     "metadata": {},
     "output_type": "execute_result"
    }
   ],
   "source": [
    "#and another\n",
    "string_list_fun('another string')"
   ]
  },
  {
   "cell_type": "code",
   "execution_count": 30,
   "metadata": {
    "collapsed": false
   },
   "outputs": [],
   "source": [
    "assert string_list_fun('Ryan Rocks') == (['R','y','a','n',' ','R','o','c','k','s'],10)"
   ]
  },
  {
   "cell_type": "markdown",
   "metadata": {},
   "source": [
    "#### 4) Write a function that takes two integers passed as strings and returns the sum, difference, and product as a tuple (all values as integers)"
   ]
  },
  {
   "cell_type": "code",
   "execution_count": 31,
   "metadata": {
    "collapsed": false
   },
   "outputs": [],
   "source": [
    "#so this is one way to run through a function! You can have every single calculation in one line\n",
    "#note that we're turning the strings being passed into the function into integers by using int(string)\n",
    "#you could also turn this into a float by using float(string)\n",
    "def math_rocks(int_1, int_2):\n",
    "    return ((int(int_1) + int(int_2)), (int(int_1) - int(int_2)), (int(int_1) * int(int_2)))"
   ]
  },
  {
   "cell_type": "code",
   "execution_count": 35,
   "metadata": {
    "collapsed": false
   },
   "outputs": [],
   "source": [
    "assert math_rocks ('5','2') == (7,3,10)"
   ]
  },
  {
   "cell_type": "code",
   "execution_count": 34,
   "metadata": {
    "collapsed": false
   },
   "outputs": [],
   "source": [
    "#OR! you could do this:\n",
    "def math_rocks(int_1, int_2):\n",
    "    sum_of_int = (int(int_1) + int(int_2))\n",
    "    diff_of_int = (int(int_1) - int(int_2))\n",
    "    product_of_int = (int(int_1) * int(int_2))\n",
    "    return (sum_of_int, diff_of_int, product_of_int)\n",
    "    "
   ]
  },
  {
   "cell_type": "code",
   "execution_count": 36,
   "metadata": {
    "collapsed": true
   },
   "outputs": [],
   "source": [
    "#both work\n",
    "assert math_rocks ('5','2') == (7,3,10)"
   ]
  },
  {
   "cell_type": "markdown",
   "metadata": {},
   "source": [
    "#### 5) Write a function that takes a list and returns a tuple where the first item is the list in reverse order and the second item is just the items with an odd index"
   ]
  },
  {
   "cell_type": "code",
   "execution_count": 37,
   "metadata": {
    "collapsed": true
   },
   "outputs": [],
   "source": [
    "#so all we're doing here is taking in a list \n",
    "#reversing the order of items in that list\n",
    "#and then asking the function to create a new list with list items that are in odd positions (1, 3, 5, 6, etc)\n",
    "def getting_crazy(list_1):\n",
    "    reverse = list_1[::-1] #this is the start:stop:step we talked about it class. it runs through the entire list and then says you want a -1 step, which tells the computer you want to reverse the list\n",
    "    odd_index = []\n",
    "    for index, item in enumerate(list_1): #enumerate adds an index position to the items in the list\n",
    "        if index % 2 != 0: #this says if the remainder of the index position divided by 2 is not zero\n",
    "            odd_index.append(item) #add the item associated with that index position to the new list\n",
    "    return (reverse, odd_index) #then return a tuple of both things"
   ]
  },
  {
   "cell_type": "code",
   "execution_count": 38,
   "metadata": {
    "collapsed": false
   },
   "outputs": [],
   "source": [
    "assert getting_crazy([1,2,3,4,5]) == ([5,4,3,2,1],[2,4])"
   ]
  },
  {
   "cell_type": "markdown",
   "metadata": {},
   "source": [
    "#### Challenge Problem: Write a function that returns the score for a word. Each letter's score is equal to it's position in the alphabet. The score of the word is the score of the letters. So for example:\n",
    "\n",
    "* A = 1, B = 2, C = 3, D = 4, E = 5\n",
    "* abe = 8 = (1 + 2 + 5)\n",
    "\n",
    "##### Hint: The string library has a property ascii_lowercase that can save some typing here. (https://docs.python.org/2/library/string.html)"
   ]
  },
  {
   "cell_type": "code",
   "execution_count": 39,
   "metadata": {
    "collapsed": false
   },
   "outputs": [
    {
     "name": "stdout",
     "output_type": "stream",
     "text": [
      "abcdefghijklmnopqrstuvwxyz\n",
      "['a', 'b', 'c', 'd', 'e', 'f', 'g', 'h', 'i', 'j', 'k', 'l', 'm', 'n', 'o', 'p', 'q', 'r', 's', 't', 'u', 'v', 'w', 'x', 'y', 'z']\n"
     ]
    }
   ],
   "source": [
    "#when in doubt, print out what your code is doing\n",
    "print string.ascii_lowercase\n",
    "print list(string.ascii_lowercase)"
   ]
  },
  {
   "cell_type": "code",
   "execution_count": 52,
   "metadata": {
    "collapsed": false
   },
   "outputs": [],
   "source": [
    "def score_word(name): #this function takes in the name \n",
    "    list_name = list(name) #turns that name into a list\n",
    "    alphabet = list(string.ascii_lowercase) #then turns the alphabet that we just saw in the cell above into a list\n",
    "    new_list = [] #creates a new empty list\n",
    "    for x in list_name: #then goes through every character in the list of the name you gave the function\n",
    "        for index, letter in enumerate(alphabet): #creates an index position for each letter of the alphabet\n",
    "            if letter == x: #if the letter of the alphabet is the same as the letter of the name you entered\n",
    "                new_list.append(index+1) #append that INDEX to the new empty list (and add one to it because python starts counting at 0)\n",
    "    return sum(new_list) #then return the sum of those indices!"
   ]
  },
  {
   "cell_type": "code",
   "execution_count": 78,
   "metadata": {
    "collapsed": false
   },
   "outputs": [
    {
     "data": {
      "text/plain": [
       "8"
      ]
     },
     "execution_count": 78,
     "metadata": {},
     "output_type": "execute_result"
    }
   ],
   "source": [
    "score_word('abe')"
   ]
  },
  {
   "cell_type": "code",
   "execution_count": 56,
   "metadata": {
    "collapsed": false
   },
   "outputs": [
    {
     "data": {
      "text/plain": [
       "8"
      ]
     },
     "execution_count": 56,
     "metadata": {},
     "output_type": "execute_result"
    }
   ],
   "source": [
    "#note that spaces will be just fine here because we're only adding letters that match up with the letters of the alphabet to the list\n",
    "#if there's a space, the for loop is going to run through the entire name, see that there's no matching string for the space\n",
    "#and ignore it\n",
    "score_word('a b e')"
   ]
  },
  {
   "cell_type": "markdown",
   "metadata": {},
   "source": [
    "Here are some other ways to approach the problem!"
   ]
  },
  {
   "cell_type": "code",
   "execution_count": 74,
   "metadata": {
    "collapsed": false
   },
   "outputs": [],
   "source": [
    "#nick's solution \n",
    "#we'll come back to this on list comprehension day!\n",
    "def score_word(word):\n",
    "    return sum([(ord(l)-ord('a')+1) for l in word.lower()])"
   ]
  },
  {
   "cell_type": "code",
   "execution_count": 77,
   "metadata": {
    "collapsed": false
   },
   "outputs": [
    {
     "data": {
      "text/plain": [
       "8"
      ]
     },
     "execution_count": 77,
     "metadata": {},
     "output_type": "execute_result"
    }
   ],
   "source": [
    "score_word('abe')"
   ]
  },
  {
   "cell_type": "code",
   "execution_count": 58,
   "metadata": {
    "collapsed": true
   },
   "outputs": [],
   "source": [
    "##mike sanders' solution\n",
    "import string\n",
    "def score_word(word): # Takes a string of letters as the sole argument\n",
    "    word = word.lower() \n",
    "    # Converts string to lowercase for simpler calculation\n",
    "    letters = list(string.ascii_lowercase) \n",
    "    # Creates a list consisting of the lowercase letters of the English alphabet\n",
    "    lettervals = 0 # Creates counting variable for assigning values to letters\n",
    "    lettervaldict = {} # Initializes empty dictionary which will contain letters and corresponding values\n",
    "    for i in letters:\n",
    "        # Iterates over letters, sets the letter as key and its value as lettervals + 1 until it ends at z: 26\n",
    "        lettervaldict[i] = lettervals + 1\n",
    "        lettervals += 1\n",
    "    wordscore = 0 # Creates variable for word score running total\n",
    "    for i in word:\n",
    "        # Iterates over the characters in the string, and updates the value of wordscore by adding the value\n",
    "        # associated with each letter in the dictionary\n",
    "        wordscore = wordscore + lettervaldict[i]\n",
    "    return wordscore\n"
   ]
  },
  {
   "cell_type": "code",
   "execution_count": 61,
   "metadata": {
    "collapsed": false
   },
   "outputs": [
    {
     "data": {
      "text/plain": [
       "8"
      ]
     },
     "execution_count": 61,
     "metadata": {},
     "output_type": "execute_result"
    }
   ],
   "source": [
    "score_word('abe')"
   ]
  },
  {
   "cell_type": "code",
   "execution_count": 62,
   "metadata": {
    "collapsed": true
   },
   "outputs": [],
   "source": [
    "##mike salmon's solution\n",
    "\n",
    "def score_word(string):\n",
    "    word_score = 0\n",
    "    alpha = [\"_\",\"a\",\"b\",\"c\",\"d\",\"e\",\"f\",\"g\",\"h\",\"i\",\"j\",\"k\",\"l\",\"m\",\"n\",\"o\",\"p\",\"q\",\"r\",\"s\",\"t\",\"u\",\"v\",\"w\",\"x\",\"y\",\"z\"]\n",
    "    numbers = [0,1,2,3,4,5,6,7,8,9,10,11,12,13,14,15,16,17,18,19,20,21,22,23,24,25,26]\n",
    "    score_dic = dict(zip(alpha, numbers))\n",
    "    for s in string:\n",
    "        s_lower = s.lower()\n",
    "        word_score += score_dic[s_lower]\n",
    "    return word_score"
   ]
  },
  {
   "cell_type": "code",
   "execution_count": 66,
   "metadata": {
    "collapsed": false
   },
   "outputs": [
    {
     "data": {
      "text/plain": [
       "8"
      ]
     },
     "execution_count": 66,
     "metadata": {},
     "output_type": "execute_result"
    }
   ],
   "source": [
    "score_word('abe')"
   ]
  },
  {
   "cell_type": "code",
   "execution_count": 79,
   "metadata": {
    "collapsed": true
   },
   "outputs": [],
   "source": [
    "#matt's solution\n",
    "def score_word(word):\n",
    "    abc = string.ascii_lowercase\n",
    "    tot = 0\n",
    "    for letter in word:\n",
    "        for i in range(len(abc)): \n",
    "            if abc[i] == letter:\n",
    "                tot += (i+1)\n",
    "                break\n",
    "    return tot"
   ]
  },
  {
   "cell_type": "code",
   "execution_count": 80,
   "metadata": {
    "collapsed": false,
    "scrolled": true
   },
   "outputs": [
    {
     "data": {
      "text/plain": [
       "8"
      ]
     },
     "execution_count": 80,
     "metadata": {},
     "output_type": "execute_result"
    }
   ],
   "source": [
    "score_word('abe')"
   ]
  },
  {
   "cell_type": "code",
   "execution_count": 87,
   "metadata": {
    "collapsed": true
   },
   "outputs": [],
   "source": [
    "#sparks' solution\n",
    "def score_word(input_word):\n",
    "    lower_case = input_word.lower()   ## Following the hint\n",
    "\n",
    "\t## Create a dictionary of values\n",
    "    letter_scores = {'a': 1,    \n",
    "                     'b': 2,\n",
    "                     'c': 3,\n",
    "                     'd': 4,\n",
    "                     'e': 5,\n",
    "                     'f': 6,\n",
    "                     'g': 7,\n",
    "                     'h': 8,\n",
    "                     'i': 9,\n",
    "                     'j': 10,\n",
    "                     'k': 11,\n",
    "                     'l': 12,\n",
    "                     'm': 13,\n",
    "                     'n': 14,\n",
    "                     'o': 15,\n",
    "                     'p': 16,\n",
    "                     'q': 17,\n",
    "                     'r': 18,\n",
    "                     's': 19,\n",
    "                     't': 20,\n",
    "                     'u': 21,\n",
    "                     'v': 22,\n",
    "                     'w': 23,\n",
    "                     'x': 24,\n",
    "                     'y': 25,\n",
    "                     'z': 26}\n",
    "## Create empty list, append letters as individual strings to the list\n",
    "    letter_list = []     \n",
    "    for letter in lower_case:\n",
    "        letter_list.append(letter)\n",
    "\t\t\n",
    "## Set value to 0, iterate over letter_list\n",
    "    total = 0                        \n",
    "    for letter in letter_list:\n",
    "\t\t## Take value for input key 'letter'\n",
    "        total = total + letter_scores[letter]\n",
    "\n",
    "    return(total)\n",
    "\t\n",
    "# Credit to http://stackoverflow.com/questions/32235033/creating-a-python-scrabble-function-that-takes-a-string-as-input-and-returns-a-s"
   ]
  },
  {
   "cell_type": "code",
   "execution_count": 88,
   "metadata": {
    "collapsed": false
   },
   "outputs": [
    {
     "data": {
      "text/plain": [
       "8"
      ]
     },
     "execution_count": 88,
     "metadata": {},
     "output_type": "execute_result"
    }
   ],
   "source": [
    "score_word('abe')"
   ]
  },
  {
   "cell_type": "code",
   "execution_count": 85,
   "metadata": {
    "collapsed": false
   },
   "outputs": [
    {
     "name": "stdout",
     "output_type": "stream",
     "text": [
      "147\n",
      "8\n"
     ]
    }
   ],
   "source": [
    "#brian's method\n",
    "def score_word(string):\n",
    "    allletters = ' abcdefghijklmnopqrstuvwxyz' # included the space as the zeroth character\n",
    "    letter_list = [ i for i in allletters]\n",
    "    current_letter_score = -1 # This is dumb, but by starting before zero, it assigns a zero value to the \"space,\" which makes it so you can write spaces into this\n",
    "    scoredict = {}            # created a dict so I could associate the letters as keys and values\n",
    "    for i in letter_list:     # this loop assigns an incremental +1 value to each letter\n",
    "        current_letter_score += 1\n",
    "        scoredict[i] = current_letter_score \n",
    "    string_score = 0\n",
    "    for l in string.lower(): # lower-cases the input to allow for that\n",
    "        string_score = string_score+scoredict[l]\n",
    "    return string_score\n",
    "\n",
    "print(score_word('Brian has long code'))\n",
    "print(score_word('abe'))"
   ]
  },
  {
   "cell_type": "code",
   "execution_count": 83,
   "metadata": {
    "collapsed": false
   },
   "outputs": [
    {
     "data": {
      "text/plain": [
       "8"
      ]
     },
     "execution_count": 83,
     "metadata": {},
     "output_type": "execute_result"
    }
   ],
   "source": [
    "score_word(\"abe\")"
   ]
  },
  {
   "cell_type": "code",
   "execution_count": 50,
   "metadata": {
    "collapsed": false
   },
   "outputs": [],
   "source": [
    "assert score_word(\"abe\") == 8"
   ]
  },
  {
   "cell_type": "markdown",
   "metadata": {},
   "source": [
    "### Additional Resources - Potentially Helpful Functions\n",
    "\n",
    "* [Dictionary Comprehension](https://docs.python.org/2/tutorial/datastructures.html#dictionaries)\n",
    "* [Enumerate](https://docs.python.org/2/library/functions.html#enumerate)\n",
    "* [Length](https://docs.python.org/2/library/functions.html#len)\n",
    "* [Int](https://docs.python.org/2/library/functions.html#int)\n",
    "* [List](https://docs.python.org/2/library/functions.html#list)"
   ]
  }
 ],
 "metadata": {
  "anaconda-cloud": {},
  "kernelspec": {
   "display_name": "Python [conda root]",
   "language": "python",
   "name": "conda-root-py"
  },
  "language_info": {
   "codemirror_mode": {
    "name": "ipython",
    "version": 2
   },
   "file_extension": ".py",
   "mimetype": "text/x-python",
   "name": "python",
   "nbconvert_exporter": "python",
   "pygments_lexer": "ipython2",
   "version": "2.7.13"
  }
 },
 "nbformat": 4,
 "nbformat_minor": 0
}
