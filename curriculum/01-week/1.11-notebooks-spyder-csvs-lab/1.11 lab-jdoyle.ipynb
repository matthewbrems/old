{
 "cells": [
  {
   "cell_type": "code",
   "execution_count": 49,
   "metadata": {
    "collapsed": false
   },
   "outputs": [],
   "source": [
    "import csv\n",
    "data = []\n",
    "with open('data/iris.csv', 'rU') as f:  ## load iris data\n",
    "    reader = csv.reader(f)\n",
    "    for row in reader:\n",
    "        data.append(row)\n",
    "headers = data[0]        \n",
    "data = data[1:]"
   ]
  },
  {
   "cell_type": "code",
   "execution_count": 8,
   "metadata": {
    "collapsed": false
   },
   "outputs": [
    {
     "data": {
      "text/plain": [
       "150"
      ]
     },
     "execution_count": 8,
     "metadata": {},
     "output_type": "execute_result"
    }
   ],
   "source": [
    "## number of observations in iris dataset\n",
    "\n",
    "len(data)"
   ]
  },
  {
   "cell_type": "code",
   "execution_count": 51,
   "metadata": {
    "collapsed": false
   },
   "outputs": [
    {
     "data": {
      "text/plain": [
       "'setosa'"
      ]
     },
     "execution_count": 51,
     "metadata": {},
     "output_type": "execute_result"
    }
   ],
   "source": [
    "## species in row 4\n",
    "\n",
    "data[3][4]"
   ]
  },
  {
   "cell_type": "code",
   "execution_count": 52,
   "metadata": {
    "collapsed": false,
    "scrolled": true
   },
   "outputs": [
    {
     "name": "stdout",
     "output_type": "stream",
     "text": [
      "5.84333333333\n"
     ]
    }
   ],
   "source": [
    "## avg sepal length\n",
    "total_rows = len(data)\n",
    "total_sepal_length = 0\n",
    "\n",
    "for row in data:\n",
    "    total_sepal_length += float(row[0])  ## for each row, add on the sepal length to the total\n",
    "\n",
    "avg_sepal_length = float(total_sepal_length) / float(total_rows)\n",
    "print avg_sepal_length\n"
   ]
  },
  {
   "cell_type": "code",
   "execution_count": 53,
   "metadata": {
    "collapsed": false
   },
   "outputs": [
    {
     "name": "stdout",
     "output_type": "stream",
     "text": [
      "5.006\n"
     ]
    }
   ],
   "source": [
    "## avg sepal length of setosa flowers\n",
    "total_sepal_length = 0\n",
    "total_rows = 0\n",
    "\n",
    "for row in data:\n",
    "    if row[4] == 'setosa':                   ## find setosa species\n",
    "        total_sepal_length += float(row[0])  ## grab sepal lengths\n",
    "        total_rows += 1                      ## count number of setosa observations\n",
    "avg_setosa_sepal_length = total_sepal_length / total_rows ## find avg sepal length for setosa flowers\n",
    "print avg_setosa_sepal_length"
   ]
  },
  {
   "cell_type": "code",
   "execution_count": 56,
   "metadata": {
    "collapsed": true
   },
   "outputs": [],
   "source": [
    "## avg sepal length of flowers by species\n",
    "\n",
    "def avg_sepal_length(species):   \n",
    "    total_sepal_length = 0\n",
    "    total_rows = 0\n",
    "    for row in data:\n",
    "        if row[4] == species:                    ## search each row for species type\n",
    "            total_sepal_length += float(row[0])  ## grab sepal length and add to total\n",
    "            total_rows += 1                      ## count number of species' observations\n",
    "    avg_setosa_sepal_length = total_sepal_length / total_rows  ## find avg sepal length for species\n",
    "    return avg_setosa_sepal_length"
   ]
  },
  {
   "cell_type": "code",
   "execution_count": 57,
   "metadata": {
    "collapsed": false
   },
   "outputs": [
    {
     "data": {
      "text/plain": [
       "6.587999999999998"
      ]
     },
     "execution_count": 57,
     "metadata": {},
     "output_type": "execute_result"
    }
   ],
   "source": [
    "avg_sepal_length('virginica')"
   ]
  },
  {
   "cell_type": "code",
   "execution_count": null,
   "metadata": {
    "collapsed": true
   },
   "outputs": [],
   "source": []
  }
 ],
 "metadata": {
  "kernelspec": {
   "display_name": "Python 2",
   "language": "python",
   "name": "python2"
  },
  "language_info": {
   "codemirror_mode": {
    "name": "ipython",
    "version": 2
   },
   "file_extension": ".py",
   "mimetype": "text/x-python",
   "name": "python",
   "nbconvert_exporter": "python",
   "pygments_lexer": "ipython2",
   "version": "2.7.13"
  }
 },
 "nbformat": 4,
 "nbformat_minor": 2
}
