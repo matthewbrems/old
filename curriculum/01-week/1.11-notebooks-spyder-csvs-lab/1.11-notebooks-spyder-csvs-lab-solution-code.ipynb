{
 "cells": [
  {
   "cell_type": "markdown",
   "metadata": {},
   "source": [
    "### 1. Read in the iris dataset located in 1.10-notebooks-and-CSVs-lab/data"
   ]
  },
  {
   "cell_type": "code",
   "execution_count": 10,
   "metadata": {
    "collapsed": false
   },
   "outputs": [],
   "source": [
    "# We will use the csv and requests library in order to read our information off of GitHub\n",
    "import csv\n",
    "import requests\n",
    "\n",
    "# URL will probably need to be updated for each cohort\n",
    "url = 'https://raw.githubusercontent.com/ga-students/DC-DSI4/master/curriculum/01-week/1.11-notebooks-spyder-csvs-lab/data/iris.csv?token=ALN3x1T3yVQN7WhZjbwAzPc9SYqX2_yiks5Yyq4YwA%3D%3D'"
   ]
  },
  {
   "cell_type": "code",
   "execution_count": 11,
   "metadata": {
    "collapsed": true
   },
   "outputs": [],
   "source": [
    "r = requests.get(url) \n",
    "text = r.iter_lines()\n",
    "reader = csv.reader(text, delimiter=',')"
   ]
  },
  {
   "cell_type": "code",
   "execution_count": 12,
   "metadata": {
    "collapsed": true
   },
   "outputs": [],
   "source": [
    "dataset = list(reader)"
   ]
  },
  {
   "cell_type": "code",
   "execution_count": 13,
   "metadata": {
    "collapsed": false
   },
   "outputs": [
    {
     "data": {
      "text/plain": [
       "[['sepal_length', 'sepal_width', 'petal_length', 'petal_width', 'species'],\n",
       " ['5.1', '3.5', '1.4', '0.2', 'setosa'],\n",
       " ['4.9', '3', '1.4', '0.2', 'setosa'],\n",
       " ['4.7', '3.2', '1.3', '0.2', 'setosa'],\n",
       " ['4.6', '3.1', '1.5', '0.2', 'setosa'],\n",
       " ['5', '3.6', '1.4', '0.2', 'setosa'],\n",
       " ['5.4', '3.9', '1.7', '0.4', 'setosa'],\n",
       " ['4.6', '3.4', '1.4', '0.3', 'setosa'],\n",
       " ['5', '3.4', '1.5', '0.2', 'setosa'],\n",
       " ['4.4', '2.9', '1.4', '0.2', 'setosa'],\n",
       " ['4.9', '3.1', '1.5', '0.1', 'setosa'],\n",
       " ['5.4', '3.7', '1.5', '0.2', 'setosa'],\n",
       " ['4.8', '3.4', '1.6', '0.2', 'setosa'],\n",
       " ['4.8', '3', '1.4', '0.1', 'setosa'],\n",
       " ['4.3', '3', '1.1', '0.1', 'setosa'],\n",
       " ['5.8', '4', '1.2', '0.2', 'setosa'],\n",
       " ['5.7', '4.4', '1.5', '0.4', 'setosa'],\n",
       " ['5.4', '3.9', '1.3', '0.4', 'setosa'],\n",
       " ['5.1', '3.5', '1.4', '0.3', 'setosa'],\n",
       " ['5.7', '3.8', '1.7', '0.3', 'setosa'],\n",
       " ['5.1', '3.8', '1.5', '0.3', 'setosa'],\n",
       " ['5.4', '3.4', '1.7', '0.2', 'setosa'],\n",
       " ['5.1', '3.7', '1.5', '0.4', 'setosa'],\n",
       " ['4.6', '3.6', '1', '0.2', 'setosa'],\n",
       " ['5.1', '3.3', '1.7', '0.5', 'setosa'],\n",
       " ['4.8', '3.4', '1.9', '0.2', 'setosa'],\n",
       " ['5', '3', '1.6', '0.2', 'setosa'],\n",
       " ['5', '3.4', '1.6', '0.4', 'setosa'],\n",
       " ['5.2', '3.5', '1.5', '0.2', 'setosa'],\n",
       " ['5.2', '3.4', '1.4', '0.2', 'setosa'],\n",
       " ['4.7', '3.2', '1.6', '0.2', 'setosa'],\n",
       " ['4.8', '3.1', '1.6', '0.2', 'setosa'],\n",
       " ['5.4', '3.4', '1.5', '0.4', 'setosa'],\n",
       " ['5.2', '4.1', '1.5', '0.1', 'setosa'],\n",
       " ['5.5', '4.2', '1.4', '0.2', 'setosa'],\n",
       " ['4.9', '3.1', '1.5', '0.1', 'setosa'],\n",
       " ['5', '3.2', '1.2', '0.2', 'setosa'],\n",
       " ['5.5', '3.5', '1.3', '0.2', 'setosa'],\n",
       " ['4.9', '3.1', '1.5', '0.1', 'setosa'],\n",
       " ['4.4', '3', '1.3', '0.2', 'setosa'],\n",
       " ['5.1', '3.4', '1.5', '0.2', 'setosa'],\n",
       " ['5', '3.5', '1.3', '0.3', 'setosa'],\n",
       " ['4.5', '2.3', '1.3', '0.3', 'setosa'],\n",
       " ['4.4', '3.2', '1.3', '0.2', 'setosa'],\n",
       " ['5', '3.5', '1.6', '0.6', 'setosa'],\n",
       " ['5.1', '3.8', '1.9', '0.4', 'setosa'],\n",
       " ['4.8', '3', '1.4', '0.3', 'setosa'],\n",
       " ['5.1', '3.8', '1.6', '0.2', 'setosa'],\n",
       " ['4.6', '3.2', '1.4', '0.2', 'setosa'],\n",
       " ['5.3', '3.7', '1.5', '0.2', 'setosa'],\n",
       " ['5', '3.3', '1.4', '0.2', 'setosa'],\n",
       " ['7', '3.2', '4.7', '1.4', 'versicolor'],\n",
       " ['6.4', '3.2', '4.5', '1.5', 'versicolor'],\n",
       " ['6.9', '3.1', '4.9', '1.5', 'versicolor'],\n",
       " ['5.5', '2.3', '4', '1.3', 'versicolor'],\n",
       " ['6.5', '2.8', '4.6', '1.5', 'versicolor'],\n",
       " ['5.7', '2.8', '4.5', '1.3', 'versicolor'],\n",
       " ['6.3', '3.3', '4.7', '1.6', 'versicolor'],\n",
       " ['4.9', '2.4', '3.3', '1', 'versicolor'],\n",
       " ['6.6', '2.9', '4.6', '1.3', 'versicolor'],\n",
       " ['5.2', '2.7', '3.9', '1.4', 'versicolor'],\n",
       " ['5', '2', '3.5', '1', 'versicolor'],\n",
       " ['5.9', '3', '4.2', '1.5', 'versicolor'],\n",
       " ['6', '2.2', '4', '1', 'versicolor'],\n",
       " ['6.1', '2.9', '4.7', '1.4', 'versicolor'],\n",
       " ['5.6', '2.9', '3.6', '1.3', 'versicolor'],\n",
       " ['6.7', '3.1', '4.4', '1.4', 'versicolor'],\n",
       " ['5.6', '3', '4.5', '1.5', 'versicolor'],\n",
       " ['5.8', '2.7', '4.1', '1', 'versicolor'],\n",
       " ['6.2', '2.2', '4.5', '1.5', 'versicolor'],\n",
       " ['5.6', '2.5', '3.9', '1.1', 'versicolor'],\n",
       " ['5.9', '3.2', '4.8', '1.8', 'versicolor'],\n",
       " ['6.1', '2.8', '4', '1.3', 'versicolor'],\n",
       " ['6.3', '2.5', '4.9', '1.5', 'versicolor'],\n",
       " ['6.1', '2.8', '4.7', '1.2', 'versicolor'],\n",
       " ['6.4', '2.9', '4.3', '1.3', 'versicolor'],\n",
       " ['6.6', '3', '4.4', '1.4', 'versicolor'],\n",
       " ['6.8', '2.8', '4.8', '1.4', 'versicolor'],\n",
       " ['6.7', '3', '5', '1.7', 'versicolor'],\n",
       " ['6', '2.9', '4.5', '1.5', 'versicolor'],\n",
       " ['5.7', '2.6', '3.5', '1', 'versicolor'],\n",
       " ['5.5', '2.4', '3.8', '1.1', 'versicolor'],\n",
       " ['5.5', '2.4', '3.7', '1', 'versicolor'],\n",
       " ['5.8', '2.7', '3.9', '1.2', 'versicolor'],\n",
       " ['6', '2.7', '5.1', '1.6', 'versicolor'],\n",
       " ['5.4', '3', '4.5', '1.5', 'versicolor'],\n",
       " ['6', '3.4', '4.5', '1.6', 'versicolor'],\n",
       " ['6.7', '3.1', '4.7', '1.5', 'versicolor'],\n",
       " ['6.3', '2.3', '4.4', '1.3', 'versicolor'],\n",
       " ['5.6', '3', '4.1', '1.3', 'versicolor'],\n",
       " ['5.5', '2.5', '4', '1.3', 'versicolor'],\n",
       " ['5.5', '2.6', '4.4', '1.2', 'versicolor'],\n",
       " ['6.1', '3', '4.6', '1.4', 'versicolor'],\n",
       " ['5.8', '2.6', '4', '1.2', 'versicolor'],\n",
       " ['5', '2.3', '3.3', '1', 'versicolor'],\n",
       " ['5.6', '2.7', '4.2', '1.3', 'versicolor'],\n",
       " ['5.7', '3', '4.2', '1.2', 'versicolor'],\n",
       " ['5.7', '2.9', '4.2', '1.3', 'versicolor'],\n",
       " ['6.2', '2.9', '4.3', '1.3', 'versicolor'],\n",
       " ['5.1', '2.5', '3', '1.1', 'versicolor'],\n",
       " ['5.7', '2.8', '4.1', '1.3', 'versicolor'],\n",
       " ['6.3', '3.3', '6', '2.5', 'virginica'],\n",
       " ['5.8', '2.7', '5.1', '1.9', 'virginica'],\n",
       " ['7.1', '3', '5.9', '2.1', 'virginica'],\n",
       " ['6.3', '2.9', '5.6', '1.8', 'virginica'],\n",
       " ['6.5', '3', '5.8', '2.2', 'virginica'],\n",
       " ['7.6', '3', '6.6', '2.1', 'virginica'],\n",
       " ['4.9', '2.5', '4.5', '1.7', 'virginica'],\n",
       " ['7.3', '2.9', '6.3', '1.8', 'virginica'],\n",
       " ['6.7', '2.5', '5.8', '1.8', 'virginica'],\n",
       " ['7.2', '3.6', '6.1', '2.5', 'virginica'],\n",
       " ['6.5', '3.2', '5.1', '2', 'virginica'],\n",
       " ['6.4', '2.7', '5.3', '1.9', 'virginica'],\n",
       " ['6.8', '3', '5.5', '2.1', 'virginica'],\n",
       " ['5.7', '2.5', '5', '2', 'virginica'],\n",
       " ['5.8', '2.8', '5.1', '2.4', 'virginica'],\n",
       " ['6.4', '3.2', '5.3', '2.3', 'virginica'],\n",
       " ['6.5', '3', '5.5', '1.8', 'virginica'],\n",
       " ['7.7', '3.8', '6.7', '2.2', 'virginica'],\n",
       " ['7.7', '2.6', '6.9', '2.3', 'virginica'],\n",
       " ['6', '2.2', '5', '1.5', 'virginica'],\n",
       " ['6.9', '3.2', '5.7', '2.3', 'virginica'],\n",
       " ['5.6', '2.8', '4.9', '2', 'virginica'],\n",
       " ['7.7', '2.8', '6.7', '2', 'virginica'],\n",
       " ['6.3', '2.7', '4.9', '1.8', 'virginica'],\n",
       " ['6.7', '3.3', '5.7', '2.1', 'virginica'],\n",
       " ['7.2', '3.2', '6', '1.8', 'virginica'],\n",
       " ['6.2', '2.8', '4.8', '1.8', 'virginica'],\n",
       " ['6.1', '3', '4.9', '1.8', 'virginica'],\n",
       " ['6.4', '2.8', '5.6', '2.1', 'virginica'],\n",
       " ['7.2', '3', '5.8', '1.6', 'virginica'],\n",
       " ['7.4', '2.8', '6.1', '1.9', 'virginica'],\n",
       " ['7.9', '3.8', '6.4', '2', 'virginica'],\n",
       " ['6.4', '2.8', '5.6', '2.2', 'virginica'],\n",
       " ['6.3', '2.8', '5.1', '1.5', 'virginica'],\n",
       " ['6.1', '2.6', '5.6', '1.4', 'virginica'],\n",
       " ['7.7', '3', '6.1', '2.3', 'virginica'],\n",
       " ['6.3', '3.4', '5.6', '2.4', 'virginica'],\n",
       " ['6.4', '3.1', '5.5', '1.8', 'virginica'],\n",
       " ['6', '3', '4.8', '1.8', 'virginica'],\n",
       " ['6.9', '3.1', '5.4', '2.1', 'virginica'],\n",
       " ['6.7', '3.1', '5.6', '2.4', 'virginica'],\n",
       " ['6.9', '3.1', '5.1', '2.3', 'virginica'],\n",
       " ['5.8', '2.7', '5.1', '1.9', 'virginica'],\n",
       " ['6.8', '3.2', '5.9', '2.3', 'virginica'],\n",
       " ['6.7', '3.3', '5.7', '2.5', 'virginica'],\n",
       " ['6.7', '3', '5.2', '2.3', 'virginica'],\n",
       " ['6.3', '2.5', '5', '1.9', 'virginica'],\n",
       " ['6.5', '3', '5.2', '2', 'virginica'],\n",
       " ['6.2', '3.4', '5.4', '2.3', 'virginica'],\n",
       " ['5.9', '3', '5.1', '1.8', 'virginica']]"
      ]
     },
     "execution_count": 13,
     "metadata": {},
     "output_type": "execute_result"
    }
   ],
   "source": [
    "# Our dataset is currently a list of lists where the first list is our column names\n",
    "# and all the rest of the lists are rows from the dataset.\n",
    "dataset"
   ]
  },
  {
   "cell_type": "markdown",
   "metadata": {},
   "source": [
    "### 2. Notice the first list in your dataset is the column names. Eliminate it."
   ]
  },
  {
   "cell_type": "code",
   "execution_count": 14,
   "metadata": {
    "collapsed": true
   },
   "outputs": [],
   "source": [
    "# removes the very first object in the list\n",
    "del dataset[0]"
   ]
  },
  {
   "cell_type": "markdown",
   "metadata": {},
   "source": [
    "### 3. Identify the number of observations in your dataset\n"
   ]
  },
  {
   "cell_type": "code",
   "execution_count": 15,
   "metadata": {
    "collapsed": false
   },
   "outputs": [
    {
     "data": {
      "text/plain": [
       "150"
      ]
     },
     "execution_count": 15,
     "metadata": {},
     "output_type": "execute_result"
    }
   ],
   "source": [
    "# length is number of observations(rows)\n",
    "len(dataset)"
   ]
  },
  {
   "cell_type": "markdown",
   "metadata": {},
   "source": [
    "### 4. Identify what species is in row four of your dataset"
   ]
  },
  {
   "cell_type": "code",
   "execution_count": 16,
   "metadata": {
    "collapsed": false
   },
   "outputs": [
    {
     "data": {
      "text/plain": [
       "'setosa'"
      ]
     },
     "execution_count": 16,
     "metadata": {},
     "output_type": "execute_result"
    }
   ],
   "source": [
    "dataset[3][4]\n",
    "# remember indexing values starts at 0 and not 1\n",
    "# 3 will get the 4th row/observation\n",
    "# 4 will get the 5th value in that list, which is the species."
   ]
  },
  {
   "cell_type": "markdown",
   "metadata": {},
   "source": [
    "### 5. Calculate the average sepal length in the dataset (this is the first entry in each list)"
   ]
  },
  {
   "cell_type": "code",
   "execution_count": 17,
   "metadata": {
    "collapsed": true
   },
   "outputs": [],
   "source": [
    "# create lists of all of our categories/features.\n",
    "sepal_length, sepal_width, petal_length, petal_width, species = zip(*dataset)\n",
    "# a zip will create a list(tuple) of all the nth values in a series of lists.\n",
    "# as we specify an asterisk we are saying 'do a zip for all values of the lists' and thus creating a list for every feature."
   ]
  },
  {
   "cell_type": "code",
   "execution_count": 18,
   "metadata": {
    "collapsed": true
   },
   "outputs": [],
   "source": [
    "# Our values in this list are stored as strings so i'll use a list comprehension to convert them to floats.\n",
    "sepal_length = [float(i) for i in sepal_length]\n",
    "\n",
    "#LIST COMPREHENSION!!!\n"
   ]
  },
  {
   "cell_type": "code",
   "execution_count": 19,
   "metadata": {
    "collapsed": false
   },
   "outputs": [
    {
     "data": {
      "text/plain": [
       "5.843333333333335"
      ]
     },
     "execution_count": 19,
     "metadata": {},
     "output_type": "execute_result"
    }
   ],
   "source": [
    "# calculate the average (we haven't talked about numpy yet so we have to do this the hard way.)\n",
    "(sum(sepal_length))/(len(sepal_length))\n"
   ]
  },
  {
   "cell_type": "markdown",
   "metadata": {},
   "source": [
    "### 6. Calculate the average sepal length of setosa flowers using a loop¶\n"
   ]
  },
  {
   "cell_type": "code",
   "execution_count": 20,
   "metadata": {
    "collapsed": false
   },
   "outputs": [
    {
     "data": {
      "text/plain": [
       "5.005999999999999"
      ]
     },
     "execution_count": 20,
     "metadata": {},
     "output_type": "execute_result"
    }
   ],
   "source": [
    "sl = []\n",
    "for row in dataset: # little for loop action\n",
    "    if row[4] == 'setosa': # little if clause and string slicing\n",
    "        sl.append(float(row[0])) # little bit of list creation and some more string slicing.\n",
    "sum(sl)/len(sl) # little bit of math"
   ]
  },
  {
   "cell_type": "markdown",
   "metadata": {},
   "source": [
    "### BONUS: Calculate the average sepal length of flowers of any given species\n"
   ]
  },
  {
   "cell_type": "code",
   "execution_count": 21,
   "metadata": {
    "collapsed": true
   },
   "outputs": [],
   "source": [
    "def get_sepal_length(species):\n",
    "    SL = []\n",
    "    for row in dataset:\n",
    "        if row[4] == species:\n",
    "            SL.append(float(row[0]))\n",
    "    print sum(SL)/len(SL)"
   ]
  },
  {
   "cell_type": "code",
   "execution_count": 22,
   "metadata": {
    "collapsed": false
   },
   "outputs": [
    {
     "name": "stdout",
     "output_type": "stream",
     "text": [
      "5.936\n"
     ]
    }
   ],
   "source": [
    "get_sepal_length('versicolor')\n"
   ]
  }
 ],
 "metadata": {
  "anaconda-cloud": {},
  "kernelspec": {
   "display_name": "Python [conda root]",
   "language": "python",
   "name": "conda-root-py"
  },
  "language_info": {
   "codemirror_mode": {
    "name": "ipython",
    "version": 2
   },
   "file_extension": ".py",
   "mimetype": "text/x-python",
   "name": "python",
   "nbconvert_exporter": "python",
   "pygments_lexer": "ipython2",
   "version": "2.7.13"
  }
 },
 "nbformat": 4,
 "nbformat_minor": 1
}
