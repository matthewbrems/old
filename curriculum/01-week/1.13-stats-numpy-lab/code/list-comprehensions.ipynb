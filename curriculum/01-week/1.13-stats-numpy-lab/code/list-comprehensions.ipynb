{
 "cells": [
  {
   "cell_type": "code",
   "execution_count": 12,
   "metadata": {
    "collapsed": false
   },
   "outputs": [
    {
     "name": "stdout",
     "output_type": "stream",
     "text": [
      "[1, 2, 3, 4, 5, 6, 7, 8, 9, 10]\n"
     ]
    }
   ],
   "source": [
    "numbers = range(0,10)\n",
    "new_list = []\n",
    "\n",
    "for i in numbers:\n",
    "    new_list.append(i+1)\n",
    "print new_list    "
   ]
  },
  {
   "cell_type": "code",
   "execution_count": 13,
   "metadata": {
    "collapsed": false
   },
   "outputs": [
    {
     "data": {
      "text/plain": [
       "[1, 2, 3, 4, 5, 6, 7, 8, 9, 10]"
      ]
     },
     "execution_count": 13,
     "metadata": {},
     "output_type": "execute_result"
    }
   ],
   "source": [
    "map(lambda x: x+1, numbers)\n",
    "# map(lambda ARGUMENT: MAPPING, list)\n"
   ]
  },
  {
   "cell_type": "code",
   "execution_count": 25,
   "metadata": {
    "collapsed": true
   },
   "outputs": [],
   "source": [
    "listlistlsit = [x+1 for x in numbers]"
   ]
  },
  {
   "cell_type": "code",
   "execution_count": 26,
   "metadata": {
    "collapsed": false
   },
   "outputs": [
    {
     "name": "stdout",
     "output_type": "stream",
     "text": [
      "[1, 2, 3, 4, 5, 6, 7, 8, 9, 10]\n"
     ]
    }
   ],
   "source": [
    "print listlistlsit"
   ]
  },
  {
   "cell_type": "code",
   "execution_count": 22,
   "metadata": {
    "collapsed": false
   },
   "outputs": [
    {
     "name": "stdout",
     "output_type": "stream",
     "text": [
      "['mike!', 'mike!', 'mike!', 'dave!', 'steve!']\n"
     ]
    }
   ],
   "source": [
    "names = ['mike','mike','mike','dave','steve']\n",
    "new_names = []\n",
    "for name in names:\n",
    "    new_names.append(name+\"!\")\n",
    "print(new_names)"
   ]
  },
  {
   "cell_type": "code",
   "execution_count": 28,
   "metadata": {
    "collapsed": false
   },
   "outputs": [],
   "source": [
    "import numpy as np\n",
    "numbers = [2,3,5546,47,245,57,243,2]\n",
    "\n",
    "n_bin = []\n",
    "\n",
    "# set var for mean\n",
    "\n",
    "n_mean = np.mean(numbers)\n",
    "\n",
    "for number in numbers:\n",
    "    if number > n_mean:\n",
    "        n_bin.append(1)\n",
    "    else:\n",
    "        n_bin.append(0)\n",
    "\n",
    "n_bin2 = [1 if number > n_mean else 0 for number in numbers]        \n"
   ]
  },
  {
   "cell_type": "code",
   "execution_count": 29,
   "metadata": {
    "collapsed": false
   },
   "outputs": [
    {
     "name": "stdout",
     "output_type": "stream",
     "text": [
      "[0, 0, 1, 0, 0, 0, 0, 0]\n"
     ]
    }
   ],
   "source": [
    "print(n_bin2)"
   ]
  },
  {
   "cell_type": "code",
   "execution_count": 30,
   "metadata": {
    "collapsed": false
   },
   "outputs": [
    {
     "name": "stdout",
     "output_type": "stream",
     "text": [
      "768.125\n"
     ]
    }
   ],
   "source": [
    "print(n_mean)"
   ]
  },
  {
   "cell_type": "code",
   "execution_count": 36,
   "metadata": {
    "collapsed": false
   },
   "outputs": [
    {
     "name": "stdout",
     "output_type": "stream",
     "text": [
      "['mike', 'mike', 'mike', 'dave', 'steve']\n"
     ]
    }
   ],
   "source": [
    "print(names)"
   ]
  },
  {
   "cell_type": "code",
   "execution_count": 41,
   "metadata": {
    "collapsed": false
   },
   "outputs": [
    {
     "name": "stdout",
     "output_type": "stream",
     "text": [
      "['mike!', 'mike!', 'mike!', 'dave.', 'steve.']\n"
     ]
    }
   ],
   "source": [
    "mikes = [name + '!' if name == 'mike' else name + '.' for name in names]\n",
    "print(mikes)"
   ]
  },
  {
   "cell_type": "code",
   "execution_count": 46,
   "metadata": {
    "collapsed": false
   },
   "outputs": [
    {
     "name": "stdout",
     "output_type": "stream",
     "text": [
      "['mike!', 'mike!', 'mike!', 'dave?', 'steve.']\n",
      "['mike!', 'mike!', 'mike!', 'dave?', 'steve.']\n"
     ]
    }
   ],
   "source": [
    "daves = []\n",
    "for name in names:\n",
    "    if name == \"mike\":\n",
    "        daves.append(name+'!')\n",
    "    elif name == 'dave':\n",
    "        daves.append(name+'?')\n",
    "    else:\n",
    "        daves.append(name+'.')\n",
    "\n",
    "daves2 = [name+'!' if name == 'mike' else name + '?' if name == 'dave' else name + '.' for name in names]\n",
    "print(daves)\n",
    "print(daves2)"
   ]
  },
  {
   "cell_type": "code",
   "execution_count": 65,
   "metadata": {
    "collapsed": false
   },
   "outputs": [
    {
     "name": "stdout",
     "output_type": "stream",
     "text": [
      "[['burrito', '$8.99'], ['nachos', '$7.99'], ['quesadillas', '$6.99'], ['tamales', '$5.99']]\n"
     ]
    }
   ],
   "source": [
    "food = ['burrito','nachos','quesadillas','tamales']\n",
    "price = ['$8.99', '$7.99', '$6.99','$5.99']\n",
    "\n",
    "menu = []\n",
    "for f, p in zip(food, price):\n",
    "    menu.append([f, p])\n",
    "print menu    \n",
    "\n"
   ]
  },
  {
   "cell_type": "code",
   "execution_count": 66,
   "metadata": {
    "collapsed": false
   },
   "outputs": [
    {
     "name": "stdout",
     "output_type": "stream",
     "text": [
      "[[0, 'burrito'], [1, 'nachos'], [2, 'quesadillas'], [3, 'tamales']]\n"
     ]
    }
   ],
   "source": [
    "menu2 = []\n",
    "for index, item in enumerate(food):\n",
    "    menu2.append([index, item])\n",
    "print menu2    "
   ]
  },
  {
   "cell_type": "code",
   "execution_count": 67,
   "metadata": {
    "collapsed": false
   },
   "outputs": [],
   "source": [
    "for index, (i, p) in enumerate(zip(item,price)):\n",
    "    menu2.append([index, (i, p)])"
   ]
  },
  {
   "cell_type": "code",
   "execution_count": 68,
   "metadata": {
    "collapsed": false
   },
   "outputs": [
    {
     "name": "stdout",
     "output_type": "stream",
     "text": [
      "[[0, 'burrito'], [1, 'nachos'], [2, 'quesadillas'], [3, 'tamales'], [0, ('t', '$8.99')], [1, ('a', '$7.99')], [2, ('m', '$6.99')], [3, ('a', '$5.99')]]\n"
     ]
    }
   ],
   "source": [
    "print menu2"
   ]
  },
  {
   "cell_type": "code",
   "execution_count": 69,
   "metadata": {
    "collapsed": false
   },
   "outputs": [
    {
     "data": {
      "text/plain": [
       "[(0, ('burrito', '$8.99')),\n",
       " (1, ('nachos', '$7.99')),\n",
       " (2, ('quesadillas', '$6.99')),\n",
       " (3, ('tamales', '$5.99'))]"
      ]
     },
     "execution_count": 69,
     "metadata": {},
     "output_type": "execute_result"
    }
   ],
   "source": [
    "list(enumerate(zip(food,price)))"
   ]
  },
  {
   "cell_type": "code",
   "execution_count": 72,
   "metadata": {
    "collapsed": true
   },
   "outputs": [],
   "source": [
    "menu = [[index, (i,p)] for index, (i,p) in enumerate(zip(food,price))]"
   ]
  },
  {
   "cell_type": "code",
   "execution_count": 73,
   "metadata": {
    "collapsed": false
   },
   "outputs": [
    {
     "name": "stdout",
     "output_type": "stream",
     "text": [
      "[[0, ('burrito', '$8.99')], [1, ('nachos', '$7.99')], [2, ('quesadillas', '$6.99')], [3, ('tamales', '$5.99')]]\n"
     ]
    }
   ],
   "source": [
    "print menu"
   ]
  },
  {
   "cell_type": "code",
   "execution_count": null,
   "metadata": {
    "collapsed": true
   },
   "outputs": [],
   "source": []
  }
 ],
 "metadata": {
  "kernelspec": {
   "display_name": "Python 2",
   "language": "python",
   "name": "python2"
  },
  "language_info": {
   "codemirror_mode": {
    "name": "ipython",
    "version": 2
   },
   "file_extension": ".py",
   "mimetype": "text/x-python",
   "name": "python",
   "nbconvert_exporter": "python",
   "pygments_lexer": "ipython2",
   "version": "2.7.13"
  }
 },
 "nbformat": 4,
 "nbformat_minor": 2
}
