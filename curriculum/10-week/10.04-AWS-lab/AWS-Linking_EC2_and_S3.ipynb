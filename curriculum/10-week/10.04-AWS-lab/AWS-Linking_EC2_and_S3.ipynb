{
 "cells": [
  {
   "cell_type": "markdown",
   "metadata": {},
   "source": [
    "<img src=\"http://imgur.com/1ZcRyrc.png\" style=\"float: left; margin: 20px; height: 55px\">\n",
    "\n",
    "# AWS: Linking EC2 to S3\n",
    "\n",
    "_Authors: Sam Stack (DC)_\n",
    "\n",
    "---"
   ]
  },
  {
   "cell_type": "markdown",
   "metadata": {},
   "source": [
    "### Amazon Web Services S3\n",
    "\n",
    "AWS S3, or Simple Storage Service is basically an remote hard drive to store things.  We set up an EC2 instance to run processes our local devices can't bear the burden of, but most of those processes involve data.  We need to create a link from our EC2 instance to our data.  Naturally using an Amazon tunnel from and Amazon S3 to and Amazon EC2 would be the ideal thing to do.\n",
    "\n",
    "**Note**\n",
    "This linking, for the most part, follows the process laid down in the video below.  This video is outdated so you will notice that the the interactions with the AWS Management environment will be different from what you see.  Additionally the video uses a different operating system(Linux) than the one this guide goes along with(Ubuntu).  \n",
    "https://www.youtube.com/watch?v=Wd93A5Xqfmo\n",
    "\n",
    "\n",
    "### Creating an AWS S3\n",
    "\n",
    "From the AWS Console navigate to storage and select 'S3'\n",
    "![Intro to Simple Storage Services](images/aws_s3_1.png )\n",
    "----"
   ]
  },
  {
   "cell_type": "markdown",
   "metadata": {},
   "source": [
    "**'Create Bucket'**  \n",
    "For maximum transfer efficiency you will want to select a bucket closest to your EC2 instance.  (We don't want our data to have to fly all the way around the world to get processesed, now do we?)\n",
    "They did not have any S3 buckets available in Northern Virginia (where my EC2 instance is) when I set this up, so I selected Ohio for my bucket location.\n",
    "\n",
    "After naming the bucket and selecting the location your bucket will be live. Click on the bucket on the left to enter into the buckets console page.  \n",
    "\n",
    "You can click the big blue **'Upload'** button or **'Actions' -> 'Upload'** to upload files to your S3 bucket.  \n",
    "\n",
    "_S3 actually means 'Super Simple Stuff' not 'Simple Storage Services'_\n",
    "\n",
    "------"
   ]
  },
  {
   "cell_type": "markdown",
   "metadata": {},
   "source": [
    "### IAM Users  \n",
    "The users are like sub-accounts that can access your account (with specified abilities).  Rather than having to log in using your local SSH keys or your AWS management username and password on the internet, we can use these User credentials to access instances and environments from the command line.  \n",
    "\n",
    "In this situation we are going to create a user account which we will use to authenticate and connect to our S3 instance from our running EC2 instance. (You figured Amazon would have a much simpler way of doing so)\n",
    "\n",
    "**User Creation**  \n",
    "On the 'Services' window of your Amazon AWS Console, Click on 'AIM' under 'Security, Identity & Compliance'.\n",
    "To create a new user click 'User' (should be on the left hand side).\n",
    "- 'Add user' \n",
    "- Name it something relevant to what you will use it for\n",
    "- Select 'Programmatic Access' as the Access Type.\n",
    "- click 'Next:Permissions' -> 'Attatch existing policies directly' .\n",
    "> - Select 'Administrator Access' and 'AmazonEC2FullAccess'\n",
    "- click 'Next:Review' ,finally 'Create user'  \n",
    "\n",
    "The next page that appears should be one telling you that the user creation was a success and should have a button to download a CSV file.  This CSV contains the users credentials, including their Access Key and Secret Access Key which will be used later.\n",
    "\n",
    "------"
   ]
  },
  {
   "cell_type": "markdown",
   "metadata": {},
   "source": [
    "### Connecting the EC2 to the S3 via sync\n",
    "_You may want to upload a sample file to your S3 to test the S3 to EC2 interaction._\n",
    "\n",
    "Connect to your EC2 instance.   \n",
    "\n",
    "**Sudo Mode**  \n",
    "Run everything from sudo state.\n",
    "```bash\n",
    "sudo -i\n",
    "```\n",
    "\n",
    "_Keep inmind this later_\n",
    "\n",
    "**'ctrl'+'d' will leave sudo mode**\n",
    "\n",
    "-----"
   ]
  },
  {
   "cell_type": "markdown",
   "metadata": {},
   "source": [
    "This is where we start to diverge from the video because of our server type. \n",
    "_Keep in mind that this guide was created to complement a guide that set up a Jupyter Notebook server on an EC2 Ubuntu instance._\n",
    "\n",
    "**Amazon Command Line Interface (CLI)**  \n",
    "We will be using the Amazon Command Line for this connection, if you haven't already done so install it on your instance\n",
    "```bash\n",
    "apt install python-pip # If you dont have pip, but you probably do\n",
    "\n",
    "pip install awscli # for the AWS Command Line Interface\n",
    "#or\n",
    "apt install awscli\n",
    "```\n",
    "\n",
    "----"
   ]
  },
  {
   "cell_type": "markdown",
   "metadata": {},
   "source": [
    "**Apache2 Install**\n",
    "\n",
    "The video does something like 'yum install httpd', which is a linux library, however in this circumstance we are using a Ubuntu server which uses the apache2 package for the same tasks.\n",
    "\n",
    "```bash\n",
    "apt install apache2\n",
    "```\n",
    "\n",
    "----"
   ]
  },
  {
   "cell_type": "markdown",
   "metadata": {},
   "source": [
    "**User Configuration**\n",
    "\n",
    "We need to configure this VM using AWS Command Line Interface so that it can act like the user we set up earlier.\n",
    "\n",
    "```bash\n",
    "aws configure\n",
    "```\n",
    "This should result in a prompt asking your for some information\n",
    "![AWS Configure](images/aws_configure.png)\n",
    "\n",
    "-----"
   ]
  },
  {
   "cell_type": "markdown",
   "metadata": {},
   "source": [
    "The AWS Access key and Secret Access Keys can be found on the credential CSV we downloaded when we created a user with permissions.\n",
    "\n",
    "The Region Name should match the one that your EC2 instance is running out of.  You can check in your EC2 dashboard.\n",
    "![](images/aws_configure2.png)\n",
    "\n",
    "-----"
   ]
  },
  {
   "cell_type": "markdown",
   "metadata": {},
   "source": [
    "** Optional: Test File**  \n",
    "If you're following along with the video now is the time that we catch up to the user testing their connection.\n",
    "\n",
    "They create a file as an example to show data being moved from the EC2 to the S3.  \n",
    "```bash\n",
    "# Change to a directory. \n",
    "cd /var/www/html/\n",
    "\n",
    "touch index.php # Creates a new empty file\n",
    "\n",
    "echo \"Hello S3\" > index.php # Writes the following contents into the indicated file\n",
    "\n",
    "cat index.php # reads contents of the file.\n",
    "```\n",
    "-----"
   ]
  },
  {
   "cell_type": "markdown",
   "metadata": {},
   "source": [
    "**S3 Sync**  \n",
    "Syncing files is as simple as 'aws s3 sync'\n",
    "\n",
    "```bash\n",
    "# If you're in the sudo state\n",
    "aws s3 sync /var/www/html/ s3://bucket_name\n",
    "\n",
    "# If you're not in the sudo state (aka Normal Mode)\n",
    "sudo aws s3 sync /var/www/html/ s3://bucket_name\n",
    "``` \n",
    "\n",
    "The \"aws s3 sync\" syncs the first file(on the VM) to the second file(The S3) \n",
    "This essentually pushes all the files from the first specified directory(EC2) to the second specified directory(S3).  \n",
    "\n",
    "Switch the order to move files from S3 to EC2\n",
    "```bash\n",
    "aws s3 sync  s3://bucket_name /var/www/html/\n",
    "```\n",
    "\n",
    "-----"
   ]
  },
  {
   "cell_type": "markdown",
   "metadata": {},
   "source": [
    "### Congratulations!!!\n",
    "Now you have a path by which you can move files between your EC2 and S3, of course there is the addition of another command to manually move files, but meh...\n",
    "\n",
    "----"
   ]
  },
  {
   "cell_type": "markdown",
   "metadata": {},
   "source": [
    "**Real Talk:**\n",
    "- I highly recommend using the '/var/www/html' directory (just like the video) as the directory you use to sync to your S3.  As this directory is on the root it is easy to access in a jupyter notebook, no matter what directory the notebook is in.\n",
    "```python\n",
    "pd.read_csv('/var/www/html/desired.csv')\n",
    "```\n",
    "- Addionally I have experienced issues with sync files that are not the '/var/www/html/'.\n",
    "- the '`aws s3 sync`' command only runs will in the sudo state.  if you try to run it while not in the sudo state or without a 'sudo' prefix, you're probably going to have a bad time.\n",
    "\n",
    "If you noticed we have been running alot of things in the root\n",
    "```bash\n",
    "root@ip-172-31-XX-XX:\n",
    "# as opposed to the default\n",
    "ubuntu@ip-172-31-XX-XX:\n",
    "```\n",
    "Only in the root state are we allowed to run the sync command given the current configuration.  "
   ]
  }
 ],
 "metadata": {
  "anaconda-cloud": {},
  "kernelspec": {
   "display_name": "Python 2",
   "language": "python",
   "name": "python2"
  },
  "language_info": {
   "codemirror_mode": {
    "name": "ipython",
    "version": 2
   },
   "file_extension": ".py",
   "mimetype": "text/x-python",
   "name": "python",
   "nbconvert_exporter": "python",
   "pygments_lexer": "ipython2",
   "version": "2.7.13"
  }
 },
 "nbformat": 4,
 "nbformat_minor": 1
}
