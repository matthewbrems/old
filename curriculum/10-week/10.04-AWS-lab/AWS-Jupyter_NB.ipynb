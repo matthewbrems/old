{
 "cells": [
  {
   "cell_type": "markdown",
   "metadata": {},
   "source": [
    "<img src=\"http://imgur.com/1ZcRyrc.png\" style=\"float: left; margin: 20px; height: 55px\">\n",
    "\n",
    "# AWS: Setting up Jupyter Notebook on AWS\n",
    "\n",
    "_Authors: Sam Stack (DC)_\n",
    "\n",
    "**Based on Chris Albon's Guide. http://chrisalbon.com/jupyter/run_project_jupyter_on_amazon_ec2.html**\n",
    "\n",
    "---"
   ]
  },
  {
   "cell_type": "markdown",
   "metadata": {},
   "source": [
    "**Creating the new EC2 instance**\n",
    "- Your going to need to click through 'Next: Configure xxxx' until you get to the 'Security group'\n",
    "- when it comes time to creating a new security group, create 3 to mirror the image. Security groups are going to allow us to control access to our EC2 virtual machine.\n",
    "> - **SSH** : This allows your computer and anyone connected to your compute access to the VM.\n",
    "> - **HTTPS** : In the event that your instance runs a web page this allows those users who meet SSH requirements to access your instance via a web page.  As Jupyter notebook servers run on a local web page this will allow us to view them.\n",
    "> - **Customer TCP Rule** : 'Transmission Control Protocol', essentually the rules by which a connection will establish and execute.  We set it to 8888 as that is the default for the Jupyter notebook\n",
    "\n",
    "\n",
    "SSH allows authorized users to access the VM terminal once there when we spin up a jupyter notebook there is not browser in our vm to display the notebook so we have to create a tunnel from our computers browser to the VM.  We need the HTTPS to all our browser on our machine to connect to the VM and we use the custom TCP rule to state that the port that will outbound communication to our browser will be 8888, the one Jupyter notebook runs on.  \n",
    "\n",
    "\n",
    "\n",
    "\n",
    "\n"
   ]
  },
  {
   "cell_type": "markdown",
   "metadata": {},
   "source": [
    "**Review and Launch**\n",
    "\n",
    "Once you launch you will be prompted to use or create a new key. Name this key without using spaces of special characters for ease of use and save/download it somehwere that is easy for your to remember/access (say your desktop)\n",
    "\n",
    "I named mine stuff like 'ASWJupyter4' and saved it to my desktop.\n",
    "\n",
    "If you click 'Launch' now your instance will launch and you just need to connect to it in your terminal.\n",
    "\n",
    "\n",
    "There are a few things we are going to have to do before we can connect to our instance.\n",
    "\n",
    "Change the security settings on **YOUR** pem key.\n",
    "```bash\n",
    "chmod 400 ASWJupyter4.pem\n",
    "```\n",
    "\n",
    "Make sure we have PuTTY for interacting with SSH keys.\n",
    "```bash\n",
    "brew install putty\n",
    "```\n",
    "\n"
   ]
  },
  {
   "cell_type": "markdown",
   "metadata": {},
   "source": [
    "**Connecting to the Instance**\n",
    "In your AWS interactive consol if you select your instance and then click 'Actions' and 'Connect' you will get a window of information of how to connect including a tidbit about changing the security setting using chmod 400.\n",
    "\n",
    "And will give you (mostly) what you need to execute the connection to your instance.  You can copy and paste the Example SHH code directly into your terminal and execute.\n",
    "\n",
    "```bash\n",
    "ssh -i \"AWSJupyter40.pem\" ubuntu@ec2-54-90-187-245.compute-1.amazonaws.com\n",
    "```\n",
    "\n",
    "- Pay close attention to your pem key name that AWS provides and make sure it matches yours.\n",
    "- Make sure you are in the same directory as the pem key or including the necessary file path to get to it.\n",
    "_Having pem on your desktop and having your CWD set to desktop will make this easier._\n",
    "\n",
    "\n",
    "**Possible issues when Connecting to the Instance**\n",
    "Initially I got a \"Permission Denied(PublicKey)\" issue.\n",
    "http://docs.aws.amazon.com/AWSEC2/latest/UserGuide/TroubleshootingInstancesConnecting.html#TroubleshootingInstancesConnectingMindTerm\n",
    "\n",
    "My issue was that I was inputting the wrong information.\n",
    "\n",
    "Amazon was telling me to use \n",
    "```bash\n",
    "'ssh -i \"AWS Jupyter 4.0.pem\" ubuntu@ec2-54-159-37-31.compute-1.amazonaws.com'\n",
    "```\n",
    "however I needed to use \n",
    "```bash\n",
    "'ssh -i \"AWSJupyter40.pem\" ubuntu@ec2-54-159-37-31.compute-1.amazonaws.com'\n",
    "``` \n",
    "as the pem file had a different name on my desktop.  Hence why we wanted to avoid spaces and special characters when we named our pem key.\n",
    "\n",
    "\n"
   ]
  },
  {
   "cell_type": "markdown",
   "metadata": {},
   "source": [
    "ssh -i \"AWSJupyter57.pem\" ubuntu@ec2-54-164-7-25.compute-1.amazonaws.com"
   ]
  },
  {
   "cell_type": "markdown",
   "metadata": {},
   "source": [
    "** Installing Anaconda**\n",
    "Copy the link to the **Linux** 64 bit installer and 'wget' it.\n",
    "\n",
    "Bash install it\n",
    "\n",
    "```bash\n",
    "wget https://repo.continuum.io/archive/Anaconda2-4.2.0-Linux-x86_64.sh\n",
    "\n",
    "bash Anaconda3-4.2.0-Linux-x86_64.sh\n",
    "\n",
    "```\n",
    "\n",
    "You're going to have to scroll through some agreements (You can hold 'Enter' or the space bar to scroll through).\n",
    "\n",
    "Enter 'yes' when prompted, there is also a time you have to hit 'Enter' to continue.\n",
    "\n"
   ]
  },
  {
   "cell_type": "markdown",
   "metadata": {},
   "source": [
    "**Set Anaconda as the preferred environment**\n",
    "```bash\n",
    "which python /usr/bin/python\n",
    "\n",
    "source .bashrc\n",
    "```\n",
    "\n",
    "Which Python will set your default python version.\n",
    "\n",
    "wtf is .bashrc???\n",
    "\n",
    "----"
   ]
  },
  {
   "cell_type": "markdown",
   "metadata": {},
   "source": [
    "**Create a password for jupyter notebook**\n",
    "\n",
    "We kind of made on open connection to our server via the jupyter notebook and we want to protect it so unauths can't access our resources via our Jupyter notebook.  That is why we're going to create a password for it.\n",
    "\n",
    "\n",
    "```bash\n",
    "IPython # Will jump into an iPython shell\n",
    "\n",
    "from ipython.lib import passwd # Import the passwd function from ipython\n",
    "\n",
    "passwd() # will prompt use to set a password\n",
    "```\n",
    "\n",
    "Once you enter a password and confirm it you will get a hashed(Encrypted) password returned.  Copy and paste this somewhere to save for later as we will need it.  It should look something like 'sha1:98ff0e580111:12798c72623a6eecd54b51c006b1050f0ac1a62d'\n",
    "```bash\n",
    "exit\n",
    "```\n",
    "Exits the iPython shell\n",
    "\n",
    "----\n",
    "\n",
    "\n"
   ]
  },
  {
   "cell_type": "markdown",
   "metadata": {},
   "source": [
    "**Create config profile**\n",
    "```bash\n",
    "jupyter notebook --generate-config\n",
    "```\n",
    "This generates the Jupyter notebook configure file we will edit later.\n",
    "\n",
    "-----\n"
   ]
  },
  {
   "cell_type": "markdown",
   "metadata": {},
   "source": [
    "**Create certificates for https**\n",
    "\n",
    "```bash\n",
    "mkdir certs\n",
    "\n",
    "cd certs\n",
    "\n",
    "sudo openssl req -x509 -nodes -days 365 -newkey rsa:1024 -keyout mycert.pem -out mycert.pem\n",
    "```\n",
    "need to figure out what this statement does.\n",
    "\n",
    "----\n"
   ]
  },
  {
   "cell_type": "markdown",
   "metadata": {},
   "source": [
    "**Configure jupyter**\n",
    "\n",
    "Now we are going to edit the Jupyter Notebook configuration from earlier.\n",
    "\n",
    "```bash\n",
    "cd ~/.jupyter/ # change to the Jupyter Directory where the config file is\n",
    "\n",
    "vi jupyter_notebook_config.py # 'vi' allows you to edit the file at line 1\n",
    "\n",
    "```\n",
    "\n",
    "_'vi' is short for 'Visual Editor'_\n",
    "\n",
    "You will enter the Visual Editor in Command mode, where each key on the keyboard has a different editing function. You will need to be in Insert mode in order to be able to add things. To do this, simply press 'i' on the keyboard and start inserting!\n",
    "\n",
    "Copy and paste that whole block of text in.  Be very careful here as missing some of the aspects of this code or adding random characters will cause issues when you go to execute this file when Jupyter Notebook is run/opened.\n",
    "\n",
    "Be sure to change the c.NotebookApp.password to your hashed password from earlier.\n",
    "\n",
    "\n",
    "'esc' to stop insert mode\n",
    "\n",
    "'Shift'+'Z'  twice to exit the file.\n",
    "----"
   ]
  },
  {
   "cell_type": "markdown",
   "metadata": {},
   "source": [
    "**Create folder for notebooks**\n",
    "\n",
    "This is kinda of unecessary, but makes a good place to house all your jupyter notebook files\n",
    "```bash\n",
    "cd ~ # Changes back to the base directory\n",
    "\n",
    "mkdir Notebooks; cd Notebooks # You can make an change directories in one line with ';'\n",
    "```\n",
    "\n",
    "-----\n",
    "\n",
    "\n",
    "**Create new screen**\n",
    "also unecessary\n",
    "\n",
    "```bash\n",
    "screen # starts a new terminal screen, clearing previous output\n",
    "```\n",
    "\n",
    "----\n",
    "\n",
    "**Start Jupyter notebook**\n",
    "\n",
    "```bash\n",
    "jupyter notebook\n",
    "```\n",
    "\n",
    "Pay close attention to the output scripts from when you start the notebook.\n",
    "\n",
    "If your notebook is running smoothly you should have an output like the one directly below.\n",
    "![Opening Jupyter Success](images/aws_good.png)\n",
    "\n",
    "\n",
    "If it doesn't..."
   ]
  },
  {
   "cell_type": "markdown",
   "metadata": {},
   "source": [
    "**Issues Opening Jupyter Notebook**\n",
    "\n",
    "If you see something like what is below, you will probably have to go back to the jupyter_notebook_config.py file.\n",
    "![Opening Jupyter Issues](images/aws_issues.png)"
   ]
  },
  {
   "cell_type": "markdown",
   "metadata": {},
   "source": [
    "- **Top Left** - Lets you know there was an issue.\n",
    "- **Middle Left** - Lets you know where the issue is, if you go and cross reference with what we put in the jupyter_notebook_config.py you will see we left out the variable 'c' that gets assigned the 'get_config()'.\n",
    "- **Bottom Right** - Your notebook should say its running at \"https://all_ips_on_your_system:8888/\" not the single localhost\n",
    "- **Bottom** - This line is letting us know that our line \"c.NotebookApp.open_browser = False\" is not being executed.  Maybe because the script earlier is breaking before it can get to it or some aspect of this part is wrong (in this situation it is because the script the .py file is breaking before this is executed."
   ]
  },
  {
   "cell_type": "markdown",
   "metadata": {},
   "source": [
    "**Visit Jupyter notebook in browser**\n",
    "\n",
    "Remember back to that snapshot of when our Jupyter notebook was running properly? \n",
    "- Specifically this \"https://[ip addresses on your system]:8888/\"\n",
    "\n",
    "All those 'Ip addresses on our system' can be found on our AWS console.\n",
    "\n",
    "\n",
    "![Public DNS Location](images/aws_console.png)\n",
    "\n",
    "\n",
    "\n"
   ]
  },
  {
   "cell_type": "markdown",
   "metadata": {},
   "source": [
    "Copy and paste that chunk into our prompt from opening the Jupyter Notebook to get something like...\n",
    "\n",
    "https://ec2-52-39-239-66.us-west-2.compute.amazonaws.com:8888/\n",
    "\n",
    "Visit that URL in your browser:\n",
    "\n",
    "Google will say something along the lines of 'this is not secure'.  Just click 'Advanced' and allow it.\n",
    "\n",
    "Once that goes through you should not have a Jupyter notebook prompt for a password.  Provide the password you set (not the hashed gibberish password).\n",
    "\n",
    "**BOOM!**You're In!!!"
   ]
  },
  {
   "cell_type": "code",
   "execution_count": null,
   "metadata": {
    "collapsed": true
   },
   "outputs": [],
   "source": []
  }
 ],
 "metadata": {
  "anaconda-cloud": {},
  "kernelspec": {
   "display_name": "Python 2",
   "language": "python",
   "name": "python2"
  },
  "language_info": {
   "codemirror_mode": {
    "name": "ipython",
    "version": 2
   },
   "file_extension": ".py",
   "mimetype": "text/x-python",
   "name": "python",
   "nbconvert_exporter": "python",
   "pygments_lexer": "ipython2",
   "version": "2.7.13"
  }
 },
 "nbformat": 4,
 "nbformat_minor": 1
}
