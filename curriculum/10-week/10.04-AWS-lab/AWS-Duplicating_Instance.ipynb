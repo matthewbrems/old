{
 "cells": [
  {
   "cell_type": "markdown",
   "metadata": {},
   "source": [
    "<img src=\"http://imgur.com/1ZcRyrc.png\" style=\"float: left; margin: 20px; height: 55px\">\n",
    "\n",
    "# AWS: Duplicating Instances\n",
    "\n",
    "_Authors: Sam Stack (DC)_\n",
    "\n",
    "---"
   ]
  },
  {
   "cell_type": "markdown",
   "metadata": {},
   "source": [
    "# Duplicating an AWS Instance\n",
    "\n",
    "First off lets clear up some confusion of how we would go about doing this.  \n",
    "\n",
    "### Snapshots vs. Images\n",
    "**Snapshots** \n",
    "- Virtual machine snapshots are file-based snapshots of the state, disk data, and configuration of a virtual machine at a specific point in time. You can take multiple snapshots of a virtual machine, even while it is running. You can then revert the virtual machine to any of the previous states by applying a snapshot to the virtual machine.\n",
    ">- We can think of these as commits in git hub speak.  In the sense of we can revert our branch to a previous commits state.\n",
    ">- More about them here https://technet.microsoft.com/en-us/library/dd851843(v=ws.11).aspx\n",
    "\n",
    "**Images** \n",
    "- A Disk image is a computer file containing the contents and structure of a disk volume or of an entire data storage device, such as a hard disk drive, tape drive, floppy disk, optical disc or USB flash drive. A disk image is usually made by creating a sector-by-sector copy of the source medium, thereby perfectly replicating the structure and contents of a storage device independent of the file system.\n",
    ">-If you remember back when we set up our AWS Instance there was an aspect of adding storage.  This is what we're making an image of, as this storage drive houses our OS and anything else we may have installed on our VM such as Anaconda or SQl Server.\n",
    "-----\n",
    "![What is Storage](images/aws_storage.png)\n",
    "\n",
    "-----\n",
    ">- When we launch our instance we select a default 'Amazon Machine Image'.  These are essentually disk images that Amazon has already taken with specific OS and maybe a few applications that they let everyone use.  \n",
    ">- Because Operating systems and applications are systems and series of files they need a storage device to be stored in as the RAM and CPU and/or GPU are not going to do this."
   ]
  },
  {
   "cell_type": "markdown",
   "metadata": {},
   "source": [
    "_Typically when we are trying to duplicate an Instance or recreate one we are trying to put the OS and settings we have on a more or less powerful Virtual Machine which we would differntiate between in the 'Choose Instance Type'._  "
   ]
  },
  {
   "cell_type": "markdown",
   "metadata": {},
   "source": [
    "### Creating a Disk Image\n",
    "Creating an image in AWS is as simple as 1,2,3....\n",
    "- In the AWS Management Console Select the instance you want to create an image of.\n",
    "- 'Actions' -> 'Image' -> 'Create Image'\n",
    "- Name the image and give it a description if you desire.\n",
    "- Wait for your image to be approved and created. (This could take seconds or hours depending on size and Queue)\n",
    "\n",
    "![Create Disk Image](images/aws_image1.png)\n",
    "\n",
    "Great!  Now you have your own AMI to use forever and ever!"
   ]
  },
  {
   "cell_type": "markdown",
   "metadata": {},
   "source": [
    "### Image Duplication\n",
    "Now that we have our own custom AMI we can use it as the base to a new AWS Instance.\n",
    "- Go to you in your AWS Console go to your EC2 Management Environment.\n",
    "- Select 'Instances' -> 'Launch Instance' (Just like you have been doing).\n",
    "- Instead of using 'Quick Start', select 'My AMIs' on the left hand side.\n",
    ">- Here you should see the AMI(s) you created and so you can selecte the once you want to use to create a new instance.\n",
    "\n",
    "![My AMIs](images/aws_launch2.png)"
   ]
  },
  {
   "cell_type": "markdown",
   "metadata": {},
   "source": [
    "Follow through with the rest of the process like you have done before.\n",
    "\n",
    "**Bada-Bing! Bada-Boom!** \n",
    "You have a new Instance that is just like one you already set up.\n",
    "\n",
    "\n",
    "_It will most likely be in the 'Choose Instance Type' part that your new Instance/VM will differ from your previous one because you want to add more or less computing power_\n"
   ]
  }
 ],
 "metadata": {
  "kernelspec": {
   "display_name": "Python 2",
   "language": "python",
   "name": "python2"
  },
  "language_info": {
   "codemirror_mode": {
    "name": "ipython",
    "version": 2
   },
   "file_extension": ".py",
   "mimetype": "text/x-python",
   "name": "python",
   "nbconvert_exporter": "python",
   "pygments_lexer": "ipython2",
   "version": "2.7.13"
  }
 },
 "nbformat": 4,
 "nbformat_minor": 1
}
