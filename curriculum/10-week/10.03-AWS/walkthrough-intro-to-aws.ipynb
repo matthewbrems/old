{
 "cells": [
  {
   "cell_type": "markdown",
   "metadata": {
    "slideshow": {
     "slide_type": "notes"
    }
   },
   "source": [
    "> **Jupyter slideshow:** This notebook can be displayed as slides. To view it as a slideshow in your browser type in the console:\n",
    "\n",
    "\n",
    "> `> ipython nbconvert [this_notebook.ipynb] --to slides --post serve`\n",
    "\n",
    "\n",
    "> To toggle off the slideshow cell formatting, click the `CellToolbar` button, then `View --> Cell Toolbar --> None`"
   ]
  },
  {
   "cell_type": "markdown",
   "metadata": {
    "slideshow": {
     "slide_type": "slide"
    }
   },
   "source": [
    "<img src=\"http://imgur.com/1ZcRyrc.png\" style=\"float: left; margin: 20px; height: 55px\">\n",
    "\n",
    "# AWS: Amazon Web Services\n",
    "\n",
    "_Authors: Dave Yerrington (SF)_\n",
    "\n",
    "---\n",
    "\n",
    "![](https://snag.gy/dFoKAy.jpg)\n",
    "\n",
    "\n"
   ]
  },
  {
   "cell_type": "markdown",
   "metadata": {
    "slideshow": {
     "slide_type": "slide"
    }
   },
   "source": [
    "### Learning Objectives\n",
    "*After this lesson, you will be able to:*\n",
    "- Explain what services AWS offers and which ones are relevant to data science.\n",
    "- Start and terminate an EC2 instance in the cloud.\n",
    "- Understand how to use the AWS CLI.\n",
    "- Use EC2 from the command line."
   ]
  },
  {
   "cell_type": "markdown",
   "metadata": {
    "slideshow": {
     "slide_type": "slide"
    }
   },
   "source": [
    "### Student Pre-Work\n",
    "*Before this lesson, you should already be able to:*\n",
    "- set up an account on AWS, using 2-Factor authentication for security\n",
    "- connect to a remote computer via ssh\n",
    "- students should have a credit card to sign up for AWS or have an AWS account"
   ]
  },
  {
   "cell_type": "markdown",
   "metadata": {
    "slideshow": {
     "slide_type": "slide"
    }
   },
   "source": [
    "### Lesson Guide\n",
    "- [Introduction](#intro)\n",
    "- [What is AWS?](#what-is)\n",
    "- [Elastic Compute Cloud (EC2) overview](#ec2)\n",
    "    - [Signing in](#signing-in)\n",
    "- [EC2 tutorial](#ec2-tutorial)\n",
    "    - [Step 1: Launch an Amazon EC2 instance](#step1)\n",
    "    - [Step 2: Configure your instance](#step2)\n",
    "    - [Step 3: Connect to your instance](#step3)\n",
    "    - [Step 4: Terminate your instance](#step4)\n",
    "    - [Additional remarks](#addl)\n",
    "- [Simple Storage Service (S3) tutorial](#s3-tutorial)"
   ]
  },
  {
   "cell_type": "markdown",
   "metadata": {
    "slideshow": {
     "slide_type": "slide"
    }
   },
   "source": [
    "<a name=\"intro\"></a>\n",
    "## Introduction\n",
    "---\n",
    "\n",
    "\n",
    "Today we are going to walk through Amazon Web Services (AWS). In particular we will focus on the services that are commonly used in Data Science. AWS are cloud computing services, essentially virtual machines somewhere in a datacenter that you can access and pay only for the time you need them.\n"
   ]
  },
  {
   "cell_type": "markdown",
   "metadata": {
    "slideshow": {
     "slide_type": "slide"
    }
   },
   "source": [
    "**Check:** What is a server?"
   ]
  },
  {
   "cell_type": "markdown",
   "metadata": {
    "slideshow": {
     "slide_type": "fragment"
    }
   },
   "source": [
    "> Answer: A server is a computer or software that performs administration or coordination functions within a network.\n"
   ]
  },
  {
   "cell_type": "markdown",
   "metadata": {
    "slideshow": {
     "slide_type": "slide"
    }
   },
   "source": [
    "**Check:** What did the world look like before AWS and Google cloud?"
   ]
  },
  {
   "cell_type": "markdown",
   "metadata": {
    "slideshow": {
     "slide_type": "fragment"
    }
   },
   "source": [
    "> Answer: computation was expensive to set up, to access and to maintain => only large companies, governments and institutions had access to it. Now anyone can rent it for pennies."
   ]
  },
  {
   "cell_type": "markdown",
   "metadata": {
    "slideshow": {
     "slide_type": "slide"
    }
   },
   "source": [
    "<a name=\"what-is\"></a>\n",
    "## What is AWS?\n",
    "---\n",
    "\n",
    "> _Amazon Web Services (AWS)_, is a subsidiary of Amazon.com, which offers a suite of cloud computing services that make up an on-demand computing platform. These services operate from 12 geographical regions across the world. \n",
    "\n",
    "> Arguably the most essential and best-known of these services include Amazon Elastic Compute Cloud, also known as \"EC2\", and Amazon Simple Storage Service, also known as \"S3\". **AWS now has more than 70 services that span a wide range including compute, storage, networking, database, analytics, application services, deployment, management, mobile, developer tools and tools for the Internet of things.** \n",
    "\n",
    "> Amazon markets AWS as a service to provide large computing capacity quicker and cheaper than a client company building an actual physical server farm. _(from wikipedia)_\n",
    "\n",
    "Today we will explore two services that are relevant to a lot of big-data scenarios:\n",
    "\n",
    "1. EC2 (Elastic Compute Cloud)\n",
    "- S3 (Simple Storage Service)\n",
    "\n",
    "By the end of today you will be able to start and stop a computer in the cloud and to store data in the cloud. How cool is that!?\n",
    "\n",
    "> **Note:** In the absence of amazon credits you can sign up with a new account and get free-tier usage for 1 year."
   ]
  },
  {
   "cell_type": "markdown",
   "metadata": {
    "slideshow": {
     "slide_type": "slide"
    }
   },
   "source": [
    "**Check:** What could be some advantages of using a server in the cloud instead of managing our own data center?"
   ]
  },
  {
   "cell_type": "markdown",
   "metadata": {
    "slideshow": {
     "slide_type": "fragment"
    }
   },
   "source": [
    "- Cost reduction: don't pay infrastructure costs when you don't need it\n",
    "- Reliability: Servers are maintained and guaranteed by a company whose only job is to make sure they are available for you\n",
    "- Scalability: Can add more computing power when necessary"
   ]
  },
  {
   "cell_type": "markdown",
   "metadata": {
    "slideshow": {
     "slide_type": "slide"
    }
   },
   "source": [
    "<a name=\"ec2\"></a>\n",
    "## Elastic Compute Cloud (EC2) overview\n",
    "---\n",
    "\n",
    "The first service we will discover is _Elastic Compute Cloud_ or _EC2_. This service forms a central part of Amazon.com's cloud-computing platform, allowing users to rent virtual computers on which to run their own computer applications. Let's learn some key terms first:\n",
    "\n",
    "- **Instance**: virtual machine hosted in Amazon Cloud running the software we want\n",
    "- **Amazon Machine Image (AMI)**: a snapshot of a configured machine that we can use as starting point to boot an instance. We can also save a running instance to a new AMI so that in the future we can boot a new machine with identical configuration.\n",
    "- **SSH Key**: [pair of keys](https://en.wikipedia.org/wiki/Public-key_cryptography) necessary to connect to an instance remotely. The private key will be downloaded to our laptop, the matching public key will be automatically configured on the instance.\n",
    "\n",
    "\n",
    "The main conceptual shift from using a laptop to running an instance in the cloud is that we can think of computing power as ephemeral. We request computing power when we need it, do a calculation and dismiss that power when done. \n",
    "\n",
    "Input and output will not be stored on the machine, instead it is stored somewhere else in the cloud (hint: S3). In this sense, computing power is a commodity that we purchase and use in the amount and time that we need.\n"
   ]
  },
  {
   "cell_type": "markdown",
   "metadata": {
    "slideshow": {
     "slide_type": "slide"
    }
   },
   "source": [
    "<a id='signing-in'></a>\n",
    "### Let's see how it works.\n",
    "\n",
    "> 1) Create a new account on AWS [here](https://aws.amazon.com/)\n",
    "\n",
    "It will ask you for contact information and credit card. Do not worry, most of the thing we will do are free for first time users and when we will use paying services it won't likely cost more than 10$.\n",
    "\n",
    "Here are some screenshots of the process:\n",
    "\n",
    "![](./assets/images/aws1.png)\n",
    "\n",
    "![](./assets/images/aws2.png)\n",
    "\n",
    "![](./assets/images/aws3.png)"
   ]
  },
  {
   "cell_type": "markdown",
   "metadata": {
    "slideshow": {
     "slide_type": "slide"
    }
   },
   "source": [
    "**Once you're done you should get to this page:**\n",
    "\n",
    "![](./assets/images/aws4.png)\n",
    "\n",
    "**Let's sign in to the console. You should get to this page:**\n",
    "\n",
    "![](./assets/images/services1.png)"
   ]
  },
  {
   "cell_type": "markdown",
   "metadata": {
    "slideshow": {
     "slide_type": "slide"
    }
   },
   "source": [
    "<a name=\"ec2-tutorial\"></a>\n",
    "## EC2 tutorial\n",
    "---\n",
    "\n",
    "Let's go ahead and follow the [tutorial for EC2](https://aws.amazon.com/getting-started/tutorials/launch-a-virtual-machine/).\n",
    "\n",
    "<a id='step1'></a>\n",
    "### Step1: Launch an Amazon EC2 instance\n",
    "\n",
    "![](./assets/images/launch-instance.png)"
   ]
  },
  {
   "cell_type": "markdown",
   "metadata": {
    "slideshow": {
     "slide_type": "slide"
    }
   },
   "source": [
    "<a id='step2'></a>\n",
    "### Step 2: Configure your instance\n",
    "\n",
    "Follow the suggested steps until you see your image booting up:\n",
    "\n",
    "![](./assets/images/launched1.png)\n",
    "\n",
    "Notice that we can have a lot of information about the instance, in particular:\n",
    "\n",
    "- it's DNS name and IP address\n",
    "- They type of instance\n",
    "- The key necessary to connect"
   ]
  },
  {
   "cell_type": "markdown",
   "metadata": {
    "slideshow": {
     "slide_type": "slide"
    }
   },
   "source": [
    "**Check:** What is an IP address?"
   ]
  },
  {
   "cell_type": "markdown",
   "metadata": {
    "slideshow": {
     "slide_type": "slide"
    }
   },
   "source": [
    "<a id='step3'></a>\n",
    "### Step 3: Connect to your instance\n",
    "\n",
    "Go ahead and follow the instructions on how to connect to the instance. In particular:\n",
    "\n",
    "1. (optional) download a bash shell\n",
    "- copy the SSH key you downloaded to the appropriate location\n",
    "- use the SSH key to connect as explained in the tutorial\n",
    "\n",
    "![](./assets/images/connected.png)\n"
   ]
  },
  {
   "cell_type": "markdown",
   "metadata": {
    "slideshow": {
     "slide_type": "slide"
    }
   },
   "source": [
    "\n",
    "## Congratulations!! You've just connected to an instance in the cloud!! How awesome is that!!\n",
    "\n",
    "Try launching python from the shell and do something with it.\n",
    "\n",
    "![](./assets/images/python.png)"
   ]
  },
  {
   "cell_type": "markdown",
   "metadata": {
    "slideshow": {
     "slide_type": "slide"
    }
   },
   "source": [
    "<a id='step4'></a>\n",
    "### Step 4: Terminate your instance\n",
    "\n",
    "Once you're done with your calculation and you no longer need the instance, you can go ahead and terminate it. NB: this will kill the instance and it will no longer be available to you. You should make sure you have saved all the data and the code you needed somewhere else.\n",
    "\n",
    "![](./assets/images/terminate.png)\n",
    "\n",
    "![](./assets/images/terminated.png)\n",
    "\n",
    "Unless you are using your machine to serve a live application (like a web app or an api) it's very important that you terminate your instance if you don't use it so that you don't incur in additional unnecessary costs.\n"
   ]
  },
  {
   "cell_type": "markdown",
   "metadata": {
    "slideshow": {
     "slide_type": "slide"
    }
   },
   "source": [
    "<a id='addl'></a>\n",
    "### Additional remarks\n",
    "\n",
    "We've walked through the simplest way to launch and terminate an instance in the cloud.\n",
    "\n",
    "There's a lot more to it that you'll discover in time. Here are some pointers you may find useful:\n",
    "\n",
    "- [Pricing](https://aws.amazon.com/ec2/pricing/): EC2 pricing depends on the type of instance and on the chosen region. Make sure you understand the cost of the instance you request in order to avoid surprise bills. If you're in doubt you can use the convenient [Cost Calculator](http://calculator.s3.amazonaws.com/index.html) to get an exact forecast of your costs.\n",
    "\n",
    "![](./assets/images/costcalculator.png)"
   ]
  },
  {
   "cell_type": "markdown",
   "metadata": {
    "slideshow": {
     "slide_type": "slide"
    }
   },
   "source": [
    "- [Spot instances](http://docs.aws.amazon.com/AWSEC2/latest/UserGuide/using-spot-instances.html): spot instances are even more ephemeral than normal instances. They only live till their cost is lower than the price you agreed to pay. They are a great way to save money when using more powerful machines.\n",
    "- [AMIs](http://docs.aws.amazon.com/AWSEC2/latest/UserGuide/AMIs.html) AMIs are shapshot of our machine. They are great if we installed a lot of software on our machine and want to save that particular configuration."
   ]
  },
  {
   "cell_type": "markdown",
   "metadata": {
    "slideshow": {
     "slide_type": "slide"
    }
   },
   "source": [
    "![](./assets/images/createimage.png)\n"
   ]
  },
  {
   "cell_type": "markdown",
   "metadata": {
    "slideshow": {
     "slide_type": "slide"
    }
   },
   "source": [
    "**Check:** can you give an example of when AMIs could be useful?"
   ]
  },
  {
   "cell_type": "markdown",
   "metadata": {
    "slideshow": {
     "slide_type": "slide"
    }
   },
   "source": [
    "- [Security Groups](http://docs.aws.amazon.com/AWSEC2/latest/UserGuide/using-network-security.html): security groups are ways to open ports to the services running on our machine."
   ]
  },
  {
   "cell_type": "markdown",
   "metadata": {
    "slideshow": {
     "slide_type": "slide"
    }
   },
   "source": [
    "- [Elastic IPs](http://docs.aws.amazon.com/AWSEC2/latest/UserGuide/elastic-ip-addresses-eip.html): we can rent a fixed IP address and associate it to our instance. This way we can configure tools to always connect to the same address, independently of which machine is behind it."
   ]
  },
  {
   "cell_type": "markdown",
   "metadata": {
    "slideshow": {
     "slide_type": "slide"
    }
   },
   "source": [
    "<a name=\"demo\"></a>\n",
    "## Simple Storage Service [S3] (5 min)\n",
    "\n",
    "We have learned how to start and stop an instance in the cloud. That's great, because it gives us \"computing power as a service\". Now let's learn how we can store data in the cloud too.\n",
    "\n",
    "**Amazon S3 (Simple Storage Service)** is an online file storage. It provides storage through web services interfaces (REST, SOAP, and BitTorrent) using an _object storage architecture_. According to Amazon, S3's design aims to provide scalability, high availability, and low latency at commodity costs.\n",
    "\n",
    "Objects are organized into **buckets** (each owned by an Amazon Web Services account), and identified within each bucket by a unique, user-assigned key. Buckets and objects can be created, listed, and retrieved using either a REST-style HTTP interface or a SOAP interface. Additionally, objects can be downloaded using the **HTTP GET interface and the BitTorrent protocol.**\n"
   ]
  },
  {
   "cell_type": "markdown",
   "metadata": {
    "slideshow": {
     "slide_type": "slide"
    }
   },
   "source": [
    "<a name=\"s3-tutorial\"></a>\n",
    "## Simple Storage Service (S3) tutorial\n",
    "\n",
    "In pairs: go ahead and follow the [tutorial for S3](https://aws.amazon.com/getting-started/tutorials/backup-files-to-amazon-s3/).\n",
    "\n",
    "The steps should be super simple to follow. Any questions?\n",
    "\n",
    "**Check:** what's a practical case you can envision using S3 for?\n"
   ]
  },
  {
   "cell_type": "markdown",
   "metadata": {
    "slideshow": {
     "slide_type": "slide"
    }
   },
   "source": [
    "<a name=\"conclusion\"></a>\n",
    "## Conclusion\n",
    "---\n",
    "\n",
    "In this lesson we have learned about two fundamental Amazon web services: Elastic Cloud Compute and Simple Storage Service. These two services are so common because they provide on demand computation and storage at a very affordable cost.\n",
    "\n",
    "**Check:** can you think of a situation where this could be useful?"
   ]
  },
  {
   "cell_type": "markdown",
   "metadata": {},
   "source": [
    "<a id='resources'></a>\n",
    "## Additional resources\n",
    "---\n",
    "\n",
    "- [EC2](https://aws.amazon.com/ec2/?nc2=h_m1)\n",
    "- [S3](https://aws.amazon.com/s3/?nc2=h_m1)\n",
    "- [Tutorials](https://aws.amazon.com/getting-started/tutorials/)\n",
    "- [AWS CLI Tutorial](http://www.joyofdata.de/blog/guide-to-aws-ec2-on-cli/)"
   ]
  }
 ],
 "metadata": {
  "anaconda-cloud": {},
  "celltoolbar": "Slideshow",
  "kernelspec": {
   "display_name": "Python [Root]",
   "language": "python",
   "name": "Python [Root]"
  },
  "language_info": {
   "codemirror_mode": {
    "name": "ipython",
    "version": 2
   },
   "file_extension": ".py",
   "mimetype": "text/x-python",
   "name": "python",
   "nbconvert_exporter": "python",
   "pygments_lexer": "ipython2",
   "version": "2.7.12"
  }
 },
 "nbformat": 4,
 "nbformat_minor": 1
}
