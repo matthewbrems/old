{
 "cells": [
  {
   "cell_type": "code",
   "execution_count": 1,
   "metadata": {
    "collapsed": true
   },
   "outputs": [],
   "source": [
    "import numpy as np"
   ]
  },
  {
   "cell_type": "code",
   "execution_count": 2,
   "metadata": {
    "collapsed": true
   },
   "outputs": [],
   "source": [
    "## Recreating problems 1 through 10 of Part I."
   ]
  },
  {
   "cell_type": "code",
   "execution_count": 3,
   "metadata": {
    "collapsed": false
   },
   "outputs": [],
   "source": [
    "## Create matrices A, B, C, D.\n",
    "a = np.array([[2,3],[4,9]])\n",
    "b = np.array([[-2,-6],[5,15]])\n",
    "c = np.array([[7,1,4],[-1,0,4]])\n",
    "d = np.array([[1],[-1]])"
   ]
  },
  {
   "cell_type": "code",
   "execution_count": 4,
   "metadata": {
    "collapsed": false
   },
   "outputs": [
    {
     "data": {
      "text/plain": [
       "array([[ 0, -3],\n",
       "       [ 9, 24]])"
      ]
     },
     "execution_count": 4,
     "metadata": {},
     "output_type": "execute_result"
    }
   ],
   "source": [
    "# Part I, Problem 1:\n",
    "a + b"
   ]
  },
  {
   "cell_type": "code",
   "execution_count": 5,
   "metadata": {
    "collapsed": false
   },
   "outputs": [
    {
     "data": {
      "text/plain": [
       "array([[14,  2,  8],\n",
       "       [-2,  0,  8]])"
      ]
     },
     "execution_count": 5,
     "metadata": {},
     "output_type": "execute_result"
    }
   ],
   "source": [
    "# Part I, Problem 2:\n",
    "\n",
    "## You can't really recreate this in Python with a generic\n",
    "## constant k, but I'll assume k = 2.\n",
    "\n",
    "2 * c"
   ]
  },
  {
   "cell_type": "code",
   "execution_count": 6,
   "metadata": {
    "collapsed": false
   },
   "outputs": [
    {
     "data": {
      "text/plain": [
       "array([[ 4,  9],\n",
       "       [-1, -6]])"
      ]
     },
     "execution_count": 6,
     "metadata": {},
     "output_type": "execute_result"
    }
   ],
   "source": [
    "# Part I, Problem 3:\n",
    "\n",
    "a - b"
   ]
  },
  {
   "cell_type": "code",
   "execution_count": 7,
   "metadata": {
    "collapsed": false
   },
   "outputs": [
    {
     "data": {
      "text/plain": [
       "array([[-1, -5],\n",
       "       [ 4, 14]])"
      ]
     },
     "execution_count": 7,
     "metadata": {},
     "output_type": "execute_result"
    }
   ],
   "source": [
    "# Part I, Problem 4:\n",
    "\n",
    "b + d\n",
    "\n",
    "## Wait, but Python didn't throw an error! Unfortunately,\n",
    "## Python assumes that I wanted to take each column of B\n",
    "## and add D to each column. If you have time, play around\n",
    "## with this and see what dimensions throw an error and\n",
    "## which do not."
   ]
  },
  {
   "cell_type": "code",
   "execution_count": 8,
   "metadata": {
    "collapsed": false
   },
   "outputs": [
    {
     "data": {
      "text/plain": [
       "array([[ 11,  33],\n",
       "       [ 37, 111]])"
      ]
     },
     "execution_count": 8,
     "metadata": {},
     "output_type": "execute_result"
    }
   ],
   "source": [
    "# Part I, Problem 5:\n",
    "\n",
    "np.matmul(a,b)\n",
    "\n",
    "## WARNING: If you do a * b, Python assumes you want\n",
    "## *elementwise* multiplication. Much like a + b, Python\n",
    "## takes each pair of corresponding elements and returns\n",
    "## the multiple of those."
   ]
  },
  {
   "cell_type": "code",
   "execution_count": 9,
   "metadata": {
    "collapsed": false
   },
   "outputs": [
    {
     "data": {
      "text/plain": [
       "array([[-28, -60],\n",
       "       [ 70, 150]])"
      ]
     },
     "execution_count": 9,
     "metadata": {},
     "output_type": "execute_result"
    }
   ],
   "source": [
    "# Part I, Problem 6:\n",
    "\n",
    "np.matmul(b,a)"
   ]
  },
  {
   "cell_type": "code",
   "execution_count": 10,
   "metadata": {
    "collapsed": false
   },
   "outputs": [
    {
     "ename": "ValueError",
     "evalue": "shapes (2,1) and (2,2) not aligned: 1 (dim 1) != 2 (dim 0)",
     "output_type": "error",
     "traceback": [
      "\u001b[0;31m---------------------------------------------------------------------------\u001b[0m",
      "\u001b[0;31mValueError\u001b[0m                                Traceback (most recent call last)",
      "\u001b[0;32m<ipython-input-10-e3cf12319bea>\u001b[0m in \u001b[0;36m<module>\u001b[0;34m()\u001b[0m\n\u001b[1;32m      1\u001b[0m \u001b[0;31m# Part I, Problem 7:\u001b[0m\u001b[0;34m\u001b[0m\u001b[0;34m\u001b[0m\u001b[0m\n\u001b[1;32m      2\u001b[0m \u001b[0;34m\u001b[0m\u001b[0m\n\u001b[0;32m----> 3\u001b[0;31m \u001b[0mnp\u001b[0m\u001b[0;34m.\u001b[0m\u001b[0mmatmul\u001b[0m\u001b[0;34m(\u001b[0m\u001b[0md\u001b[0m\u001b[0;34m,\u001b[0m\u001b[0ma\u001b[0m\u001b[0;34m)\u001b[0m\u001b[0;34m\u001b[0m\u001b[0m\n\u001b[0m\u001b[1;32m      4\u001b[0m \u001b[0;34m\u001b[0m\u001b[0m\n\u001b[1;32m      5\u001b[0m \u001b[0;31m## Woo! We got an error - so at least Python won't\u001b[0m\u001b[0;34m\u001b[0m\u001b[0;34m\u001b[0m\u001b[0m\n",
      "\u001b[0;31mValueError\u001b[0m: shapes (2,1) and (2,2) not aligned: 1 (dim 1) != 2 (dim 0)"
     ]
    }
   ],
   "source": [
    "# Part I, Problem 7:\n",
    "\n",
    "np.matmul(d,a)\n",
    "\n",
    "## Woo! We got an error - so at least Python won't\n",
    "## let us make mistakes here!"
   ]
  },
  {
   "cell_type": "code",
   "execution_count": 11,
   "metadata": {
    "collapsed": false
   },
   "outputs": [
    {
     "data": {
      "text/plain": [
       "array([[-1],\n",
       "       [-5]])"
      ]
     },
     "execution_count": 11,
     "metadata": {},
     "output_type": "execute_result"
    }
   ],
   "source": [
    "# Part I, Problem 8:\n",
    "\n",
    "np.matmul(a,d)"
   ]
  },
  {
   "cell_type": "code",
   "execution_count": 12,
   "metadata": {
    "collapsed": false
   },
   "outputs": [
    {
     "data": {
      "text/plain": [
       "array([[ 7, -1],\n",
       "       [ 1,  0],\n",
       "       [ 4,  4]])"
      ]
     },
     "execution_count": 12,
     "metadata": {},
     "output_type": "execute_result"
    }
   ],
   "source": [
    "# Part I, Problem 9:\n",
    "\n",
    "np.transpose(c)"
   ]
  },
  {
   "cell_type": "code",
   "execution_count": 13,
   "metadata": {
    "collapsed": false
   },
   "outputs": [
    {
     "name": "stdout",
     "output_type": "stream",
     "text": [
      "[[ 3 -3]]\n",
      "[[ 3 -3]]\n"
     ]
    }
   ],
   "source": [
    "# Part I, Problem 10:\n",
    "\n",
    "print np.transpose(3*d)\n",
    "\n",
    "print 3*np.transpose(d) ## Although not necessary since\n",
    "## we know we should get the same value, I added problem\n",
    "## 11 to show that the order doesn't matter within Python."
   ]
  },
  {
   "cell_type": "code",
   "execution_count": 14,
   "metadata": {
    "collapsed": false
   },
   "outputs": [
    {
     "data": {
      "text/plain": [
       "array([[ 1.,  0.,  0.,  0.],\n",
       "       [ 0.,  1.,  0.,  0.],\n",
       "       [ 0.,  0.,  1.,  0.],\n",
       "       [ 0.,  0.,  0.,  1.]])"
      ]
     },
     "execution_count": 14,
     "metadata": {},
     "output_type": "execute_result"
    }
   ],
   "source": [
    "## Part II, Problem 1:\n",
    "\n",
    "np.eye(4)"
   ]
  },
  {
   "cell_type": "code",
   "execution_count": 15,
   "metadata": {
    "collapsed": false
   },
   "outputs": [
    {
     "data": {
      "text/plain": [
       "6.0"
      ]
     },
     "execution_count": 15,
     "metadata": {},
     "output_type": "execute_result"
    }
   ],
   "source": [
    "## Part II, Problem 2:\n",
    "np.linalg.det(a)"
   ]
  },
  {
   "cell_type": "code",
   "execution_count": 16,
   "metadata": {
    "collapsed": false
   },
   "outputs": [
    {
     "data": {
      "text/plain": [
       "array([[ 1.5       , -0.5       ],\n",
       "       [-0.66666667,  0.33333333]])"
      ]
     },
     "execution_count": 16,
     "metadata": {},
     "output_type": "execute_result"
    }
   ],
   "source": [
    "## Part II, Problem 3:\n",
    "np.linalg.inv(a)"
   ]
  },
  {
   "cell_type": "code",
   "execution_count": 17,
   "metadata": {
    "collapsed": false
   },
   "outputs": [
    {
     "name": "stdout",
     "output_type": "stream",
     "text": [
      "[[  1.00000000e+00   1.11022302e-16]\n",
      " [  0.00000000e+00   1.00000000e+00]]\n",
      "[[  1.00000000e+00   8.88178420e-16]\n",
      " [  0.00000000e+00   1.00000000e+00]]\n"
     ]
    }
   ],
   "source": [
    "## Part II, Problem 4:\n",
    "print np.matmul(a,np.linalg.inv(a)) ## A x A^(-1)\n",
    "print np.matmul(np.linalg.inv(a),a) ## A^(-1) x A\n",
    "\n",
    "## These values are a little messy... there's a lot of\n",
    "## trailing zeroes and even though we know that any\n",
    "## number with (e-16) at the end is going to basically\n",
    "## be zero, we might want to clean this up."
   ]
  },
  {
   "cell_type": "code",
   "execution_count": 18,
   "metadata": {
    "collapsed": false
   },
   "outputs": [
    {
     "name": "stdout",
     "output_type": "stream",
     "text": [
      "[[ 1.  0.]\n",
      " [ 0.  1.]]\n",
      "[[ 1.  0.]\n",
      " [ 0.  1.]]\n"
     ]
    }
   ],
   "source": [
    "## Part II, Problem 4, continued:\n",
    "print np.round(np.matmul(a,np.linalg.inv(a)),3)\n",
    "print np.round(np.matmul(np.linalg.inv(a),a),3)\n",
    "\n",
    "## Much better!! We used np.round(matrix,3) so that we'd\n",
    "## round to three decimals. You can choose whatever you'd\n",
    "## like, but for this particular purpose, three decimals \n",
    "## is going to be sufficient.\n",
    "\n",
    "## Now we can reasonably conclude that A x A^(-1) and\n",
    "## A^(-1) x A both equal the identity matrix. If we\n",
    "## wanted to take this one step further..."
   ]
  },
  {
   "cell_type": "code",
   "execution_count": 19,
   "metadata": {
    "collapsed": false
   },
   "outputs": [
    {
     "name": "stdout",
     "output_type": "stream",
     "text": [
      "[[ True False]\n",
      " [ True False]]\n",
      "[[ True  True]\n",
      " [ True  True]]\n"
     ]
    }
   ],
   "source": [
    "## Part II, Problem 4, continued:\n",
    "\n",
    "print np.matmul(a,np.linalg.inv(a)) == np.eye(2)\n",
    "\n",
    "## It might be good to round here, **provided that you\n",
    "## are comfortable rounding in this context!**\n",
    "\n",
    "print np.round(np.matmul(a,np.linalg.inv(a)),3) == np.eye(2)\n",
    "\n",
    "## You can repeat this for A^(-1) x A to be sure."
   ]
  },
  {
   "cell_type": "code",
   "execution_count": 20,
   "metadata": {
    "collapsed": false
   },
   "outputs": [
    {
     "data": {
      "text/plain": [
       "-1.6653345369377366e-15"
      ]
     },
     "execution_count": 20,
     "metadata": {},
     "output_type": "execute_result"
    }
   ],
   "source": [
    "## Part II, Problem 5\n",
    "\n",
    "np.linalg.det(b)\n",
    "\n",
    "## Basically zero."
   ]
  },
  {
   "cell_type": "code",
   "execution_count": 21,
   "metadata": {
    "collapsed": false
   },
   "outputs": [
    {
     "data": {
      "text/plain": [
       "array([[ -9.00719925e+15,  -3.60287970e+15],\n",
       "       [  3.00239975e+15,   1.20095990e+15]])"
      ]
     },
     "execution_count": 21,
     "metadata": {},
     "output_type": "execute_result"
    }
   ],
   "source": [
    "## Part II, Problem 6\n",
    "\n",
    "np.linalg.inv(b)\n",
    "\n",
    "## Uhh, these are really, really, really large numbers.\n",
    "## Something seems suspicious here."
   ]
  },
  {
   "cell_type": "code",
   "execution_count": 22,
   "metadata": {
    "collapsed": false
   },
   "outputs": [
    {
     "data": {
      "text/plain": [
       "array([[ 0., -1.],\n",
       "       [ 0.,  2.]])"
      ]
     },
     "execution_count": 22,
     "metadata": {},
     "output_type": "execute_result"
    }
   ],
   "source": [
    "## Part II, Problem 6 (additional exploration)\n",
    "\n",
    "## We know that B x B^(-1) should equal I_2.\n",
    "\n",
    "np.matmul(b,np.linalg.inv(b))\n",
    "\n",
    "## Welp. It didn't. (This is caused by floating-point\n",
    "## arithmetic. We'll discuss this in class, but basically\n",
    "## we arrive at the conclusion that this inverse is\n",
    "## invalid or doesn't really exist.)"
   ]
  },
  {
   "cell_type": "code",
   "execution_count": 23,
   "metadata": {
    "collapsed": true
   },
   "outputs": [],
   "source": [
    "## Part II, Problem 7\n",
    "\n",
    "## Answer: The determinant in problem 2 was a positive\n",
    "## number and gave us a valid inverse, whereas the\n",
    "## determinant in problem 5 was basically zero and there\n",
    "## were problems with finding the matrix inverse. Maybe\n",
    "## the determinant needs to be positive or just needs to\n",
    "## not be zero for the inverse to exist.\n",
    "\n",
    "## Real answer: If *and only if* the determinant of a \n",
    "## matrix is not zero, then the inverse does exist."
   ]
  }
 ],
 "metadata": {
  "anaconda-cloud": {},
  "kernelspec": {
   "display_name": "Python 2",
   "language": "python",
   "name": "python2"
  },
  "language_info": {
   "codemirror_mode": {
    "name": "ipython",
    "version": 2
   },
   "file_extension": ".py",
   "mimetype": "text/x-python",
   "name": "python",
   "nbconvert_exporter": "python",
   "pygments_lexer": "ipython2",
   "version": "2.7.13"
  }
 },
 "nbformat": 4,
 "nbformat_minor": 1
}
