{
 "cells": [
  {
   "cell_type": "code",
   "execution_count": 10,
   "metadata": {
    "collapsed": true
   },
   "outputs": [],
   "source": [
    "import pandas as pd\n",
    "import seaborn as sns\n",
    "import matplotlib.pyplot as plt\n",
    "import json\n",
    "%matplotlib inline\n",
    "\n",
    "pd.options.display.max_columns = 50\n",
    "pd.options.display.max_colwidth = 300"
   ]
  },
  {
   "cell_type": "markdown",
   "metadata": {},
   "source": [
    "## Predicting \"Greenness\" Of Content\n",
    "\n",
    "This dataset comes from [stumbleupon](https://www.stumbleupon.com/), a web page recommender and was made available [here](https://www.kaggle.com/c/stumbleupon/download/train.tsv)\n",
    "\n",
    "A description of the columns is below\n",
    "\n",
    "FieldName|Type|Description\n",
    "---------|----|-----------\n",
    "url|string|Url of the webpage to be classified\n",
    "urlid|integer| StumbleUpon's unique identifier for each url\n",
    "boilerplate|json|Boilerplate text\n",
    "alchemy_category|string|Alchemy category (per the publicly available Alchemy API found at www.alchemyapi.com)\n",
    "alchemy_category_score|double|Alchemy category score (per the publicly available Alchemy API found at www.alchemyapi.com)\n",
    "avglinksize| double|Average number of words in each link\n",
    "commonLinkRatio_1|double|# of links sharing at least 1 word with 1 other links / # of links\n",
    "commonLinkRatio_2|double|# of links sharing at least 1 word with 2 other links / # of links\n",
    "commonLinkRatio_3|double|# of links sharing at least 1 word with 3 other links / # of links\n",
    "commonLinkRatio_4|double|# of links sharing at least 1 word with 4 other links / # of links\n",
    "compression_ratio|double|Compression achieved on this page via gzip (measure of redundancy)\n",
    "embed_ratio|double|Count of number of <embed> usage\n",
    "frameBased|integer (0 or 1)|A page is frame-based (1) if it has no body markup but have a frameset markup\n",
    "frameTagRatio|double|Ratio of iframe markups over total number of markups\n",
    "hasDomainLink|integer (0 or 1)|True (1) if it contains an <a> with an url with domain\n",
    "html_ratio|double|Ratio of tags vs text in the page\n",
    "image_ratio|double|Ratio of <img> tags vs text in the page\n",
    "is_news|integer (0 or 1) | True (1) if StumbleUpon's news classifier determines that this webpage is news\n",
    "lengthyLinkDomain| integer (0 or 1)|True (1) if at least 3 <a> 's text contains more than 30 alphanumeric characters\n",
    "linkwordscore|double|Percentage of words on the page that are in hyperlink's text\n",
    "news_front_page| integer (0 or 1)|True (1) if StumbleUpon's news classifier determines that this webpage is front-page news\n",
    "non_markup_alphanum_characters|integer| Page's text's number of alphanumeric characters\n",
    "numberOfLinks|integer Number of <a>|markups\n",
    "numwords_in_url| double|Number of words in url\n",
    "parametrizedLinkRatio|double|A link is parametrized if it's url contains parameters or has an attached onClick event\n",
    "spelling_errors_ratio|double|Ratio of words not found in wiki (considered to be a spelling mistake)\n",
    "label|integer (0 or 1)|User-determined label. Either evergreen (1) or non-evergreen (0); available for train.tsv only"
   ]
  },
  {
   "cell_type": "markdown",
   "metadata": {},
   "source": [
    "### What are 'evergreen' sites?\n",
    "- These are websites that always relevant like recipes or reviews (as opposed to current events)\n",
    "- Look at some examples"
   ]
  },
  {
   "cell_type": "code",
   "execution_count": 3,
   "metadata": {
    "collapsed": false
   },
   "outputs": [],
   "source": [
    "data = pd.read_csv('../../../../../DC-DSI-3/curriculum/04-week/4.04-intro-to-logistic-regression-lab/train.tsv', sep='\\t', na_values={'is_news' : '?'}).fillna(0)\n",
    "\n",
    "# Extract the title and body from the boilerplate JSON text\n",
    "data['title'] = data.boilerplate.map(lambda x: json.loads(x).get('title', ''))\n",
    "data['body'] = data.boilerplate.map(lambda x: json.loads(x).get('body', ''))"
   ]
  },
  {
   "cell_type": "code",
   "execution_count": 4,
   "metadata": {
    "collapsed": false
   },
   "outputs": [
    {
     "data": {
      "text/html": [
       "<div>\n",
       "<table border=\"1\" class=\"dataframe\">\n",
       "  <thead>\n",
       "    <tr style=\"text-align: right;\">\n",
       "      <th></th>\n",
       "      <th>title</th>\n",
       "      <th>label</th>\n",
       "    </tr>\n",
       "  </thead>\n",
       "  <tbody>\n",
       "    <tr>\n",
       "      <th>0</th>\n",
       "      <td>IBM Sees Holographic Calls Air Breathing Batteries ibm sees holographic calls, air-breathing batteries</td>\n",
       "      <td>0</td>\n",
       "    </tr>\n",
       "    <tr>\n",
       "      <th>1</th>\n",
       "      <td>The Fully Electronic Futuristic Starting Gun That Eliminates Advantages in Races the fully electronic, futuristic starting gun that eliminates advantages in races the fully electronic, futuristic starting gun that eliminates advantages in races</td>\n",
       "      <td>1</td>\n",
       "    </tr>\n",
       "    <tr>\n",
       "      <th>2</th>\n",
       "      <td>Fruits that Fight the Flu fruits that fight the flu | cold &amp; flu | men's health</td>\n",
       "      <td>1</td>\n",
       "    </tr>\n",
       "    <tr>\n",
       "      <th>3</th>\n",
       "      <td>10 Foolproof Tips for Better Sleep</td>\n",
       "      <td>1</td>\n",
       "    </tr>\n",
       "    <tr>\n",
       "      <th>4</th>\n",
       "      <td>The 50 Coolest Jerseys You Didn t Know Existed coolest jerseys you haven't seen</td>\n",
       "      <td>0</td>\n",
       "    </tr>\n",
       "  </tbody>\n",
       "</table>\n",
       "</div>"
      ],
      "text/plain": [
       "                                                                                                                                                                                                                                                  title  \\\n",
       "0                                                                                                                                                IBM Sees Holographic Calls Air Breathing Batteries ibm sees holographic calls, air-breathing batteries   \n",
       "1  The Fully Electronic Futuristic Starting Gun That Eliminates Advantages in Races the fully electronic, futuristic starting gun that eliminates advantages in races the fully electronic, futuristic starting gun that eliminates advantages in races   \n",
       "2                                                                                                                                                                       Fruits that Fight the Flu fruits that fight the flu | cold & flu | men's health   \n",
       "3                                                                                                                                                                                                                   10 Foolproof Tips for Better Sleep    \n",
       "4                                                                                                                                                                       The 50 Coolest Jerseys You Didn t Know Existed coolest jerseys you haven't seen   \n",
       "\n",
       "   label  \n",
       "0      0  \n",
       "1      1  \n",
       "2      1  \n",
       "3      1  \n",
       "4      0  "
      ]
     },
     "execution_count": 4,
     "metadata": {},
     "output_type": "execute_result"
    }
   ],
   "source": [
    "data[['title', 'label']].head()"
   ]
  },
  {
   "cell_type": "markdown",
   "metadata": {},
   "source": [
    "#### Does being a news site effect green-ness?"
   ]
  },
  {
   "cell_type": "code",
   "execution_count": 5,
   "metadata": {
    "collapsed": false
   },
   "outputs": [
    {
     "name": "stdout",
     "output_type": "stream",
     "text": [
      "Optimization terminated successfully.\n",
      "         Current function value: 0.692751\n",
      "         Iterations 3\n",
      "                           Logit Regression Results                           \n",
      "==============================================================================\n",
      "Dep. Variable:                  label   No. Observations:                 7395\n",
      "Model:                          Logit   Df Residuals:                     7393\n",
      "Method:                           MLE   Df Model:                            1\n",
      "Date:                Mon, 27 Mar 2017   Pseudo R-squ.:               5.980e-05\n",
      "Time:                        14:26:59   Log-Likelihood:                -5122.9\n",
      "converged:                       True   LL-Null:                       -5123.2\n",
      "                                        LLR p-value:                    0.4337\n",
      "==============================================================================\n",
      "                 coef    std err          z      P>|z|      [0.025      0.975]\n",
      "------------------------------------------------------------------------------\n",
      "Intercept      0.0303      0.038      0.806      0.420      -0.043       0.104\n",
      "is_news        0.0374      0.048      0.783      0.434      -0.056       0.131\n",
      "==============================================================================\n"
     ]
    }
   ],
   "source": [
    "import statsmodels.formula.api as sm #import statsmodels\n",
    "\n",
    "model = sm.logit(\n",
    "    \"label ~ is_news\",\n",
    "    data = data\n",
    ").fit() #fit a model that looks at green-ness of a site based on if something is news or not.\n",
    "\n",
    "print model.summary()\n",
    "#hmm no statistically significant p-values."
   ]
  },
  {
   "cell_type": "code",
   "execution_count": 11,
   "metadata": {
    "collapsed": false
   },
   "outputs": [
    {
     "name": "stdout",
     "output_type": "stream",
     "text": [
      "            label\n",
      "is_news          \n",
      "0.0      0.507562\n",
      "1.0      0.516916\n"
     ]
    },
    {
     "data": {
      "text/plain": [
       "<seaborn.axisgrid.FacetGrid at 0x116b0e5d0>"
      ]
     },
     "execution_count": 11,
     "metadata": {},
     "output_type": "execute_result"
    },
    {
     "data": {
      "image/png": "[encoded data removed]",
      "text/plain": [
       "<matplotlib.figure.Figure at 0x1179e7f90>"
      ]
     },
     "metadata": {},
     "output_type": "display_data"
    }
   ],
   "source": [
    "#let's also visualise this\n",
    "print(data.groupby('is_news')[['label']].mean())\n",
    "sns.factorplot(x='is_news', y='label', data=data, kind='bar')\n",
    "#as you can see, there's pretty much as many 'green' news pieces as there are 'non-green' pieces\n",
    "#moving on!"
   ]
  },
  {
   "cell_type": "markdown",
   "metadata": {},
   "source": [
    "#### Does the website category effect green-ness?"
   ]
  },
  {
   "cell_type": "code",
   "execution_count": 12,
   "metadata": {
    "collapsed": false,
    "scrolled": true
   },
   "outputs": [
    {
     "name": "stdout",
     "output_type": "stream",
     "text": [
      "                       label\n",
      "alchemy_category            \n",
      "?                   0.502135\n",
      "arts_entertainment  0.371945\n",
      "business            0.711364\n",
      "computer_internet   0.246622\n",
      "culture_politics    0.457726\n",
      "gaming              0.368421\n",
      "health              0.573123\n",
      "law_crime           0.419355\n",
      "recreation          0.684296\n",
      "religion            0.416667\n",
      "science_technology  0.456747\n",
      "sports              0.205263\n",
      "unknown             0.333333\n",
      "weather             0.000000\n"
     ]
    },
    {
     "data": {
      "text/plain": [
       "<seaborn.axisgrid.FacetGrid at 0x11776e790>"
      ]
     },
     "execution_count": 12,
     "metadata": {},
     "output_type": "execute_result"
    },
    {
     "data": {
      "image/png": "[encoded data removed]",
      "text/plain": [
       "<matplotlib.figure.Figure at 0x117efdb10>"
      ]
     },
     "metadata": {},
     "output_type": "display_data"
    }
   ],
   "source": [
    "print(data.groupby('alchemy_category')[['label']].mean())\n",
    "sb.factorplot(x='alchemy_category', y='label', data=data, kind='bar').set_xticklabels(rotation=45,\n",
    "                                                                                      horizontalalignment='right')\n",
    "#it depends!"
   ]
  },
  {
   "cell_type": "code",
   "execution_count": 13,
   "metadata": {
    "collapsed": false
   },
   "outputs": [
    {
     "name": "stdout",
     "output_type": "stream",
     "text": [
      "Warning: Maximum number of iterations has been exceeded.\n",
      "         Current function value: 0.649452\n",
      "         Iterations: 35\n"
     ]
    },
    {
     "name": "stderr",
     "output_type": "stream",
     "text": [
      "/Users/rb/anaconda/lib/python2.7/site-packages/statsmodels-0.8.0-py2.7-macosx-10.7-x86_64.egg/statsmodels/base/model.py:496: ConvergenceWarning: Maximum Likelihood optimization failed to converge. Check mle_retvals\n",
      "  \"Check mle_retvals\", ConvergenceWarning)\n"
     ]
    },
    {
     "data": {
      "text/html": [
       "<table class=\"simpletable\">\n",
       "<caption>Logit Regression Results</caption>\n",
       "<tr>\n",
       "  <th>Dep. Variable:</th>       <td>label</td>      <th>  No. Observations:  </th>   <td>  7395</td>  \n",
       "</tr>\n",
       "<tr>\n",
       "  <th>Model:</th>               <td>Logit</td>      <th>  Df Residuals:      </th>   <td>  7381</td>  \n",
       "</tr>\n",
       "<tr>\n",
       "  <th>Method:</th>               <td>MLE</td>       <th>  Df Model:          </th>   <td>    13</td>  \n",
       "</tr>\n",
       "<tr>\n",
       "  <th>Date:</th>          <td>Mon, 27 Mar 2017</td> <th>  Pseudo R-squ.:     </th>   <td>0.06256</td> \n",
       "</tr>\n",
       "<tr>\n",
       "  <th>Time:</th>              <td>14:41:45</td>     <th>  Log-Likelihood:    </th>  <td> -4802.7</td> \n",
       "</tr>\n",
       "<tr>\n",
       "  <th>converged:</th>           <td>False</td>      <th>  LL-Null:           </th>  <td> -5123.2</td> \n",
       "</tr>\n",
       "<tr>\n",
       "  <th> </th>                      <td> </td>        <th>  LLR p-value:       </th> <td>1.372e-128</td>\n",
       "</tr>\n",
       "</table>\n",
       "<table class=\"simpletable\">\n",
       "<tr>\n",
       "                     <td></td>                       <th>coef</th>     <th>std err</th>      <th>z</th>      <th>P>|z|</th>  <th>[0.025</th>    <th>0.975]</th>  \n",
       "</tr>\n",
       "<tr>\n",
       "  <th>Intercept</th>                              <td>    0.0085</td> <td>    0.041</td> <td>    0.207</td> <td> 0.836</td> <td>   -0.072</td> <td>    0.090</td>\n",
       "</tr>\n",
       "<tr>\n",
       "  <th>alchemy_category[T.arts_entertainment]</th> <td>   -0.5324</td> <td>    0.079</td> <td>   -6.731</td> <td> 0.000</td> <td>   -0.687</td> <td>   -0.377</td>\n",
       "</tr>\n",
       "<tr>\n",
       "  <th>alchemy_category[T.business]</th>           <td>    0.8935</td> <td>    0.085</td> <td>   10.499</td> <td> 0.000</td> <td>    0.727</td> <td>    1.060</td>\n",
       "</tr>\n",
       "<tr>\n",
       "  <th>alchemy_category[T.computer_internet]</th>  <td>   -1.1253</td> <td>    0.141</td> <td>   -7.979</td> <td> 0.000</td> <td>   -1.402</td> <td>   -0.849</td>\n",
       "</tr>\n",
       "<tr>\n",
       "  <th>alchemy_category[T.culture_politics]</th>   <td>   -0.1780</td> <td>    0.116</td> <td>   -1.535</td> <td> 0.125</td> <td>   -0.405</td> <td>    0.049</td>\n",
       "</tr>\n",
       "<tr>\n",
       "  <th>alchemy_category[T.gaming]</th>             <td>   -0.5475</td> <td>    0.241</td> <td>   -2.269</td> <td> 0.023</td> <td>   -1.021</td> <td>   -0.074</td>\n",
       "</tr>\n",
       "<tr>\n",
       "  <th>alchemy_category[T.health]</th>             <td>    0.2861</td> <td>    0.099</td> <td>    2.892</td> <td> 0.004</td> <td>    0.092</td> <td>    0.480</td>\n",
       "</tr>\n",
       "<tr>\n",
       "  <th>alchemy_category[T.law_crime]</th>          <td>   -0.3340</td> <td>    0.366</td> <td>   -0.912</td> <td> 0.362</td> <td>   -1.052</td> <td>    0.384</td>\n",
       "</tr>\n",
       "<tr>\n",
       "  <th>alchemy_category[T.recreation]</th>         <td>    0.7650</td> <td>    0.074</td> <td>   10.340</td> <td> 0.000</td> <td>    0.620</td> <td>    0.910</td>\n",
       "</tr>\n",
       "<tr>\n",
       "  <th>alchemy_category[T.religion]</th>           <td>   -0.3450</td> <td>    0.243</td> <td>   -1.422</td> <td> 0.155</td> <td>   -0.820</td> <td>    0.130</td>\n",
       "</tr>\n",
       "<tr>\n",
       "  <th>alchemy_category[T.science_technology]</th> <td>   -0.1820</td> <td>    0.125</td> <td>   -1.455</td> <td> 0.146</td> <td>   -0.427</td> <td>    0.063</td>\n",
       "</tr>\n",
       "<tr>\n",
       "  <th>alchemy_category[T.sports]</th>             <td>   -1.3623</td> <td>    0.134</td> <td>  -10.199</td> <td> 0.000</td> <td>   -1.624</td> <td>   -1.100</td>\n",
       "</tr>\n",
       "<tr>\n",
       "  <th>alchemy_category[T.unknown]</th>            <td>   -0.7017</td> <td>    0.867</td> <td>   -0.809</td> <td> 0.418</td> <td>   -2.401</td> <td>    0.998</td>\n",
       "</tr>\n",
       "<tr>\n",
       "  <th>alchemy_category[T.weather]</th>            <td>  -18.1423</td> <td> 4331.844</td> <td>   -0.004</td> <td> 0.997</td> <td>-8508.400</td> <td> 8472.115</td>\n",
       "</tr>\n",
       "</table>"
      ],
      "text/plain": [
       "<class 'statsmodels.iolib.summary.Summary'>\n",
       "\"\"\"\n",
       "                           Logit Regression Results                           \n",
       "==============================================================================\n",
       "Dep. Variable:                  label   No. Observations:                 7395\n",
       "Model:                          Logit   Df Residuals:                     7381\n",
       "Method:                           MLE   Df Model:                           13\n",
       "Date:                Mon, 27 Mar 2017   Pseudo R-squ.:                 0.06256\n",
       "Time:                        14:41:45   Log-Likelihood:                -4802.7\n",
       "converged:                      False   LL-Null:                       -5123.2\n",
       "                                        LLR p-value:                1.372e-128\n",
       "==========================================================================================================\n",
       "                                             coef    std err          z      P>|z|      [0.025      0.975]\n",
       "----------------------------------------------------------------------------------------------------------\n",
       "Intercept                                  0.0085      0.041      0.207      0.836      -0.072       0.090\n",
       "alchemy_category[T.arts_entertainment]    -0.5324      0.079     -6.731      0.000      -0.687      -0.377\n",
       "alchemy_category[T.business]               0.8935      0.085     10.499      0.000       0.727       1.060\n",
       "alchemy_category[T.computer_internet]     -1.1253      0.141     -7.979      0.000      -1.402      -0.849\n",
       "alchemy_category[T.culture_politics]      -0.1780      0.116     -1.535      0.125      -0.405       0.049\n",
       "alchemy_category[T.gaming]                -0.5475      0.241     -2.269      0.023      -1.021      -0.074\n",
       "alchemy_category[T.health]                 0.2861      0.099      2.892      0.004       0.092       0.480\n",
       "alchemy_category[T.law_crime]             -0.3340      0.366     -0.912      0.362      -1.052       0.384\n",
       "alchemy_category[T.recreation]             0.7650      0.074     10.340      0.000       0.620       0.910\n",
       "alchemy_category[T.religion]              -0.3450      0.243     -1.422      0.155      -0.820       0.130\n",
       "alchemy_category[T.science_technology]    -0.1820      0.125     -1.455      0.146      -0.427       0.063\n",
       "alchemy_category[T.sports]                -1.3623      0.134    -10.199      0.000      -1.624      -1.100\n",
       "alchemy_category[T.unknown]               -0.7017      0.867     -0.809      0.418      -2.401       0.998\n",
       "alchemy_category[T.weather]              -18.1423   4331.844     -0.004      0.997   -8508.400    8472.115\n",
       "==========================================================================================================\n",
       "\"\"\""
      ]
     },
     "execution_count": 13,
     "metadata": {},
     "output_type": "execute_result"
    }
   ],
   "source": [
    "model = sm.logit(\n",
    "    \"label ~ alchemy_category\",\n",
    "    data = data\n",
    ").fit()\n",
    "\n",
    "model.summary()\n",
    "#green-ness is affected by certain website categories, including arts and entertainment, computers, business, health, recreation,and sports"
   ]
  },
  {
   "cell_type": "markdown",
   "metadata": {},
   "source": [
    "#### Does the image ratio effect green-ness?"
   ]
  },
  {
   "cell_type": "code",
   "execution_count": 17,
   "metadata": {
    "collapsed": false
   },
   "outputs": [
    {
     "data": {
      "text/plain": [
       "<seaborn.axisgrid.FacetGrid at 0x117ea76d0>"
      ]
     },
     "execution_count": 17,
     "metadata": {},
     "output_type": "execute_result"
    },
    {
     "data": {
      "image/png": "[encoded data removed]",
      "text/plain": [
       "<matplotlib.figure.Figure at 0x1181ed850>"
      ]
     },
     "metadata": {},
     "output_type": "display_data"
    }
   ],
   "source": [
    "data['image_ratio_binned'] = pd.qcut(data['image_ratio'], 5) #let's create 5 bins for image_ratio data\n",
    "sns.factorplot('image_ratio_binned', 'label', data = data).set_xticklabels(rotation=45, \n",
    "                                                                          horizontalalignment='right') #and then plot that\n",
    "#factor plots are a great way of looking at categorical data: http://seaborn.pydata.org/tutorial/categorical.html"
   ]
  },
  {
   "cell_type": "code",
   "execution_count": 18,
   "metadata": {
    "collapsed": false
   },
   "outputs": [
    {
     "name": "stdout",
     "output_type": "stream",
     "text": [
      "Optimization terminated successfully.\n",
      "         Current function value: 0.692631\n",
      "         Iterations 5\n"
     ]
    },
    {
     "data": {
      "text/html": [
       "<table class=\"simpletable\">\n",
       "<caption>Logit Regression Results</caption>\n",
       "<tr>\n",
       "  <th>Dep. Variable:</th>       <td>label</td>      <th>  No. Observations:  </th>  <td>  7395</td>  \n",
       "</tr>\n",
       "<tr>\n",
       "  <th>Model:</th>               <td>Logit</td>      <th>  Df Residuals:      </th>  <td>  7393</td>  \n",
       "</tr>\n",
       "<tr>\n",
       "  <th>Method:</th>               <td>MLE</td>       <th>  Df Model:          </th>  <td>     1</td>  \n",
       "</tr>\n",
       "<tr>\n",
       "  <th>Date:</th>          <td>Mon, 27 Mar 2017</td> <th>  Pseudo R-squ.:     </th> <td>0.0002325</td>\n",
       "</tr>\n",
       "<tr>\n",
       "  <th>Time:</th>              <td>14:57:30</td>     <th>  Log-Likelihood:    </th> <td> -5122.0</td> \n",
       "</tr>\n",
       "<tr>\n",
       "  <th>converged:</th>           <td>True</td>       <th>  LL-Null:           </th> <td> -5123.2</td> \n",
       "</tr>\n",
       "<tr>\n",
       "  <th> </th>                      <td> </td>        <th>  LLR p-value:       </th>  <td>0.1228</td>  \n",
       "</tr>\n",
       "</table>\n",
       "<table class=\"simpletable\">\n",
       "<tr>\n",
       "       <td></td>          <th>coef</th>     <th>std err</th>      <th>z</th>      <th>P>|z|</th>  <th>[0.025</th>    <th>0.975]</th>  \n",
       "</tr>\n",
       "<tr>\n",
       "  <th>Intercept</th>   <td>    0.0590</td> <td>    0.024</td> <td>    2.499</td> <td> 0.012</td> <td>    0.013</td> <td>    0.105</td>\n",
       "</tr>\n",
       "<tr>\n",
       "  <th>image_ratio</th> <td>   -0.0210</td> <td>    0.015</td> <td>   -1.400</td> <td> 0.161</td> <td>   -0.051</td> <td>    0.008</td>\n",
       "</tr>\n",
       "</table>"
      ],
      "text/plain": [
       "<class 'statsmodels.iolib.summary.Summary'>\n",
       "\"\"\"\n",
       "                           Logit Regression Results                           \n",
       "==============================================================================\n",
       "Dep. Variable:                  label   No. Observations:                 7395\n",
       "Model:                          Logit   Df Residuals:                     7393\n",
       "Method:                           MLE   Df Model:                            1\n",
       "Date:                Mon, 27 Mar 2017   Pseudo R-squ.:               0.0002325\n",
       "Time:                        14:57:30   Log-Likelihood:                -5122.0\n",
       "converged:                       True   LL-Null:                       -5123.2\n",
       "                                        LLR p-value:                    0.1228\n",
       "===============================================================================\n",
       "                  coef    std err          z      P>|z|      [0.025      0.975]\n",
       "-------------------------------------------------------------------------------\n",
       "Intercept       0.0590      0.024      2.499      0.012       0.013       0.105\n",
       "image_ratio    -0.0210      0.015     -1.400      0.161      -0.051       0.008\n",
       "===============================================================================\n",
       "\"\"\""
      ]
     },
     "execution_count": 18,
     "metadata": {},
     "output_type": "execute_result"
    }
   ],
   "source": [
    "model = sm.logit(\n",
    "    \"label ~ image_ratio\",\n",
    "    data = data\n",
    ").fit()\n",
    "\n",
    "model.summary()\n",
    "#hm, that p-value is really not significant"
   ]
  },
  {
   "cell_type": "markdown",
   "metadata": {},
   "source": [
    "#### Fit a logistic regression model using statsmodels\n",
    "- Test different features that may be valuable\n",
    "- Examine the coefficients, does the feature increase or decrease the effect of being evergreen?"
   ]
  },
  {
   "cell_type": "code",
   "execution_count": 20,
   "metadata": {
    "collapsed": false
   },
   "outputs": [
    {
     "name": "stdout",
     "output_type": "stream",
     "text": [
      "Optimization terminated successfully.\n",
      "         Current function value: 0.687354\n",
      "         Iterations 5\n"
     ]
    },
    {
     "data": {
      "text/html": [
       "<table class=\"simpletable\">\n",
       "<caption>Logit Regression Results</caption>\n",
       "<tr>\n",
       "  <th>Dep. Variable:</th>       <td>label</td>      <th>  No. Observations:  </th>  <td>  7395</td>  \n",
       "</tr>\n",
       "<tr>\n",
       "  <th>Model:</th>               <td>Logit</td>      <th>  Df Residuals:      </th>  <td>  7391</td>  \n",
       "</tr>\n",
       "<tr>\n",
       "  <th>Method:</th>               <td>MLE</td>       <th>  Df Model:          </th>  <td>     3</td>  \n",
       "</tr>\n",
       "<tr>\n",
       "  <th>Date:</th>          <td>Mon, 27 Mar 2017</td> <th>  Pseudo R-squ.:     </th> <td>0.007849</td> \n",
       "</tr>\n",
       "<tr>\n",
       "  <th>Time:</th>              <td>15:07:54</td>     <th>  Log-Likelihood:    </th> <td> -5083.0</td> \n",
       "</tr>\n",
       "<tr>\n",
       "  <th>converged:</th>           <td>True</td>       <th>  LL-Null:           </th> <td> -5123.2</td> \n",
       "</tr>\n",
       "<tr>\n",
       "  <th> </th>                      <td> </td>        <th>  LLR p-value:       </th> <td>2.486e-17</td>\n",
       "</tr>\n",
       "</table>\n",
       "<table class=\"simpletable\">\n",
       "<tr>\n",
       "            <td></td>               <th>coef</th>     <th>std err</th>      <th>z</th>      <th>P>|z|</th>  <th>[0.025</th>    <th>0.975]</th>  \n",
       "</tr>\n",
       "<tr>\n",
       "  <th>Intercept</th>             <td>    0.1263</td> <td>    0.145</td> <td>    0.873</td> <td> 0.383</td> <td>   -0.157</td> <td>    0.410</td>\n",
       "</tr>\n",
       "<tr>\n",
       "  <th>html_ratio</th>            <td>   -0.4115</td> <td>    0.518</td> <td>   -0.794</td> <td> 0.427</td> <td>   -1.427</td> <td>    0.604</td>\n",
       "</tr>\n",
       "<tr>\n",
       "  <th>numberOfLinks</th>         <td>    0.0010</td> <td>    0.000</td> <td>    5.619</td> <td> 0.000</td> <td>    0.001</td> <td>    0.001</td>\n",
       "</tr>\n",
       "<tr>\n",
       "  <th>spelling_errors_ratio</th> <td>   -1.5523</td> <td>    0.317</td> <td>   -4.899</td> <td> 0.000</td> <td>   -2.173</td> <td>   -0.931</td>\n",
       "</tr>\n",
       "</table>"
      ],
      "text/plain": [
       "<class 'statsmodels.iolib.summary.Summary'>\n",
       "\"\"\"\n",
       "                           Logit Regression Results                           \n",
       "==============================================================================\n",
       "Dep. Variable:                  label   No. Observations:                 7395\n",
       "Model:                          Logit   Df Residuals:                     7391\n",
       "Method:                           MLE   Df Model:                            3\n",
       "Date:                Mon, 27 Mar 2017   Pseudo R-squ.:                0.007849\n",
       "Time:                        15:07:54   Log-Likelihood:                -5083.0\n",
       "converged:                       True   LL-Null:                       -5123.2\n",
       "                                        LLR p-value:                 2.486e-17\n",
       "=========================================================================================\n",
       "                            coef    std err          z      P>|z|      [0.025      0.975]\n",
       "-----------------------------------------------------------------------------------------\n",
       "Intercept                 0.1263      0.145      0.873      0.383      -0.157       0.410\n",
       "html_ratio               -0.4115      0.518     -0.794      0.427      -1.427       0.604\n",
       "numberOfLinks             0.0010      0.000      5.619      0.000       0.001       0.001\n",
       "spelling_errors_ratio    -1.5523      0.317     -4.899      0.000      -2.173      -0.931\n",
       "=========================================================================================\n",
       "\"\"\""
      ]
     },
     "execution_count": 20,
     "metadata": {},
     "output_type": "execute_result"
    }
   ],
   "source": [
    "model = sm.logit(\n",
    "    \"label ~ html_ratio + numberOfLinks + spelling_errors_ratio\",\n",
    "    data = data\n",
    ").fit()\n",
    "\n",
    "model.summary()\n",
    "#number of links and spelling errors ratio are both statistically significant\n",
    "#on the other hand, the number of links has a teeeeeeeeeny increase in log-odds, and spelling errors have a\n",
    "#decrease in log odds (which makes sense)"
   ]
  },
  {
   "cell_type": "markdown",
   "metadata": {
    "collapsed": true
   },
   "source": [
    "#### Fit a logistic regression model using statsmodels with text features\n",
    "- Add text features that may be useful, add this to the model and see if they improve the fit\n",
    "- Examine the coefficients, does the feature increase or decrease the effect of being evergreen?"
   ]
  },
  {
   "cell_type": "code",
   "execution_count": 22,
   "metadata": {
    "collapsed": false
   },
   "outputs": [
    {
     "name": "stdout",
     "output_type": "stream",
     "text": [
      "Optimization terminated successfully.\n",
      "         Current function value: 0.672177\n",
      "         Iterations 6\n"
     ]
    },
    {
     "data": {
      "text/html": [
       "<table class=\"simpletable\">\n",
       "<caption>Logit Regression Results</caption>\n",
       "<tr>\n",
       "  <th>Dep. Variable:</th>       <td>label</td>      <th>  No. Observations:  </th>  <td>  7395</td>  \n",
       "</tr>\n",
       "<tr>\n",
       "  <th>Model:</th>               <td>Logit</td>      <th>  Df Residuals:      </th>  <td>  7390</td>  \n",
       "</tr>\n",
       "<tr>\n",
       "  <th>Method:</th>               <td>MLE</td>       <th>  Df Model:          </th>  <td>     4</td>  \n",
       "</tr>\n",
       "<tr>\n",
       "  <th>Date:</th>          <td>Mon, 27 Mar 2017</td> <th>  Pseudo R-squ.:     </th>  <td>0.02976</td> \n",
       "</tr>\n",
       "<tr>\n",
       "  <th>Time:</th>              <td>15:10:47</td>     <th>  Log-Likelihood:    </th> <td> -4970.8</td> \n",
       "</tr>\n",
       "<tr>\n",
       "  <th>converged:</th>           <td>True</td>       <th>  LL-Null:           </th> <td> -5123.2</td> \n",
       "</tr>\n",
       "<tr>\n",
       "  <th> </th>                      <td> </td>        <th>  LLR p-value:       </th> <td>9.534e-65</td>\n",
       "</tr>\n",
       "</table>\n",
       "<table class=\"simpletable\">\n",
       "<tr>\n",
       "            <td></td>               <th>coef</th>     <th>std err</th>      <th>z</th>      <th>P>|z|</th>  <th>[0.025</th>    <th>0.975]</th>  \n",
       "</tr>\n",
       "<tr>\n",
       "  <th>Intercept</th>             <td>   -0.0423</td> <td>    0.145</td> <td>   -0.292</td> <td> 0.771</td> <td>   -0.327</td> <td>    0.242</td>\n",
       "</tr>\n",
       "<tr>\n",
       "  <th>is_recipe[T.True]</th>     <td>    2.0739</td> <td>    0.174</td> <td>   11.932</td> <td> 0.000</td> <td>    1.733</td> <td>    2.415</td>\n",
       "</tr>\n",
       "<tr>\n",
       "  <th>html_ratio</th>            <td>   -0.0106</td> <td>    0.520</td> <td>   -0.020</td> <td> 0.984</td> <td>   -1.030</td> <td>    1.009</td>\n",
       "</tr>\n",
       "<tr>\n",
       "  <th>numberOfLinks</th>         <td>    0.0009</td> <td>    0.000</td> <td>    5.210</td> <td> 0.000</td> <td>    0.001</td> <td>    0.001</td>\n",
       "</tr>\n",
       "<tr>\n",
       "  <th>spelling_errors_ratio</th> <td>   -1.3919</td> <td>    0.317</td> <td>   -4.395</td> <td> 0.000</td> <td>   -2.013</td> <td>   -0.771</td>\n",
       "</tr>\n",
       "</table>"
      ],
      "text/plain": [
       "<class 'statsmodels.iolib.summary.Summary'>\n",
       "\"\"\"\n",
       "                           Logit Regression Results                           \n",
       "==============================================================================\n",
       "Dep. Variable:                  label   No. Observations:                 7395\n",
       "Model:                          Logit   Df Residuals:                     7390\n",
       "Method:                           MLE   Df Model:                            4\n",
       "Date:                Mon, 27 Mar 2017   Pseudo R-squ.:                 0.02976\n",
       "Time:                        15:10:47   Log-Likelihood:                -4970.8\n",
       "converged:                       True   LL-Null:                       -5123.2\n",
       "                                        LLR p-value:                 9.534e-65\n",
       "=========================================================================================\n",
       "                            coef    std err          z      P>|z|      [0.025      0.975]\n",
       "-----------------------------------------------------------------------------------------\n",
       "Intercept                -0.0423      0.145     -0.292      0.771      -0.327       0.242\n",
       "is_recipe[T.True]         2.0739      0.174     11.932      0.000       1.733       2.415\n",
       "html_ratio               -0.0106      0.520     -0.020      0.984      -1.030       1.009\n",
       "numberOfLinks             0.0009      0.000      5.210      0.000       0.001       0.001\n",
       "spelling_errors_ratio    -1.3919      0.317     -4.395      0.000      -2.013      -0.771\n",
       "=========================================================================================\n",
       "\"\"\""
      ]
     },
     "execution_count": 22,
     "metadata": {},
     "output_type": "execute_result"
    }
   ],
   "source": [
    "# EXAMPLE text feature 'recipe'\n",
    "data['is_recipe'] = data['title'].fillna('').str.contains('recipe')\n",
    "\n",
    "model = sm.logit(\"label ~ html_ratio + numberOfLinks + spelling_errors_ratio + is_recipe\", data=data).fit()\n",
    "model.summary()\n",
    "\n",
    "# is_recipe[T.True] 2.0739 - huge increase in log-odds due to this feature"
   ]
  },
  {
   "cell_type": "code",
   "execution_count": 23,
   "metadata": {
    "collapsed": true
   },
   "outputs": [],
   "source": [
    "data['is_tip'] = data['body'].fillna('').str.contains('tip')\n",
    "data['is_cat'] = data['body'].fillna('').str.contains('cat')\n",
    "data['is_dog'] = data['body'].fillna('').str.contains('dog')\n",
    "data['is_puppy'] = data['body'].fillna('').str.contains('puppy')\n",
    "data['is_baby'] = data['body'].fillna('').str.contains('baby')\n",
    "data['is_kitten'] = data['body'].fillna('').str.contains('kitten')"
   ]
  },
  {
   "cell_type": "code",
   "execution_count": 24,
   "metadata": {
    "collapsed": false
   },
   "outputs": [
    {
     "name": "stdout",
     "output_type": "stream",
     "text": [
      "Warning: Maximum number of iterations has been exceeded.\n",
      "         Current function value: 0.685856\n",
      "         Iterations: 35\n"
     ]
    },
    {
     "name": "stderr",
     "output_type": "stream",
     "text": [
      "/Users/rb/anaconda/lib/python2.7/site-packages/statsmodels-0.8.0-py2.7-macosx-10.7-x86_64.egg/statsmodels/base/model.py:496: ConvergenceWarning: Maximum Likelihood optimization failed to converge. Check mle_retvals\n",
      "  \"Check mle_retvals\", ConvergenceWarning)\n"
     ]
    },
    {
     "data": {
      "text/html": [
       "<table class=\"simpletable\">\n",
       "<caption>Logit Regression Results</caption>\n",
       "<tr>\n",
       "  <th>Dep. Variable:</th>       <td>label</td>      <th>  No. Observations:  </th>  <td>  7395</td>  \n",
       "</tr>\n",
       "<tr>\n",
       "  <th>Model:</th>               <td>Logit</td>      <th>  Df Residuals:      </th>  <td>  7388</td>  \n",
       "</tr>\n",
       "<tr>\n",
       "  <th>Method:</th>               <td>MLE</td>       <th>  Df Model:          </th>  <td>     6</td>  \n",
       "</tr>\n",
       "<tr>\n",
       "  <th>Date:</th>          <td>Mon, 27 Mar 2017</td> <th>  Pseudo R-squ.:     </th>  <td>0.01001</td> \n",
       "</tr>\n",
       "<tr>\n",
       "  <th>Time:</th>              <td>15:13:03</td>     <th>  Log-Likelihood:    </th> <td> -5071.9</td> \n",
       "</tr>\n",
       "<tr>\n",
       "  <th>converged:</th>           <td>False</td>      <th>  LL-Null:           </th> <td> -5123.2</td> \n",
       "</tr>\n",
       "<tr>\n",
       "  <th> </th>                      <td> </td>        <th>  LLR p-value:       </th> <td>7.247e-20</td>\n",
       "</tr>\n",
       "</table>\n",
       "<table class=\"simpletable\">\n",
       "<tr>\n",
       "          <td></td>             <th>coef</th>     <th>std err</th>      <th>z</th>      <th>P>|z|</th>  <th>[0.025</th>    <th>0.975]</th>  \n",
       "</tr>\n",
       "<tr>\n",
       "  <th>Intercept</th>         <td>    0.0695</td> <td>    0.028</td> <td>    2.483</td> <td> 0.013</td> <td>    0.015</td> <td>    0.124</td>\n",
       "</tr>\n",
       "<tr>\n",
       "  <th>is_kitten[T.True]</th> <td>  -18.0596</td> <td> 4578.428</td> <td>   -0.004</td> <td> 0.997</td> <td>-8991.614</td> <td> 8955.495</td>\n",
       "</tr>\n",
       "<tr>\n",
       "  <th>is_tip[T.True]</th>    <td>    0.5124</td> <td>    0.074</td> <td>    6.961</td> <td> 0.000</td> <td>    0.368</td> <td>    0.657</td>\n",
       "</tr>\n",
       "<tr>\n",
       "  <th>is_cat[T.True]</th>    <td>   -0.3489</td> <td>    0.056</td> <td>   -6.283</td> <td> 0.000</td> <td>   -0.458</td> <td>   -0.240</td>\n",
       "</tr>\n",
       "<tr>\n",
       "  <th>is_baby[T.True]</th>   <td>    0.5102</td> <td>    0.134</td> <td>    3.812</td> <td> 0.000</td> <td>    0.248</td> <td>    0.772</td>\n",
       "</tr>\n",
       "<tr>\n",
       "  <th>is_dog[T.True]</th>    <td>   -0.3184</td> <td>    0.145</td> <td>   -2.193</td> <td> 0.028</td> <td>   -0.603</td> <td>   -0.034</td>\n",
       "</tr>\n",
       "<tr>\n",
       "  <th>is_puppy[T.True]</th>  <td>    0.2006</td> <td>    0.780</td> <td>    0.257</td> <td> 0.797</td> <td>   -1.327</td> <td>    1.728</td>\n",
       "</tr>\n",
       "</table>"
      ],
      "text/plain": [
       "<class 'statsmodels.iolib.summary.Summary'>\n",
       "\"\"\"\n",
       "                           Logit Regression Results                           \n",
       "==============================================================================\n",
       "Dep. Variable:                  label   No. Observations:                 7395\n",
       "Model:                          Logit   Df Residuals:                     7388\n",
       "Method:                           MLE   Df Model:                            6\n",
       "Date:                Mon, 27 Mar 2017   Pseudo R-squ.:                 0.01001\n",
       "Time:                        15:13:03   Log-Likelihood:                -5071.9\n",
       "converged:                      False   LL-Null:                       -5123.2\n",
       "                                        LLR p-value:                 7.247e-20\n",
       "=====================================================================================\n",
       "                        coef    std err          z      P>|z|      [0.025      0.975]\n",
       "-------------------------------------------------------------------------------------\n",
       "Intercept             0.0695      0.028      2.483      0.013       0.015       0.124\n",
       "is_kitten[T.True]   -18.0596   4578.428     -0.004      0.997   -8991.614    8955.495\n",
       "is_tip[T.True]        0.5124      0.074      6.961      0.000       0.368       0.657\n",
       "is_cat[T.True]       -0.3489      0.056     -6.283      0.000      -0.458      -0.240\n",
       "is_baby[T.True]       0.5102      0.134      3.812      0.000       0.248       0.772\n",
       "is_dog[T.True]       -0.3184      0.145     -2.193      0.028      -0.603      -0.034\n",
       "is_puppy[T.True]      0.2006      0.780      0.257      0.797      -1.327       1.728\n",
       "=====================================================================================\n",
       "\"\"\""
      ]
     },
     "execution_count": 24,
     "metadata": {},
     "output_type": "execute_result"
    }
   ],
   "source": [
    "model = sm.logit(\n",
    "    \"label ~ is_kitten + is_tip + is_cat + is_baby + is_dog + is_puppy\",\n",
    "    data = data\n",
    ").fit()\n",
    "\n",
    "model.summary()"
   ]
  },
  {
   "cell_type": "markdown",
   "metadata": {},
   "source": [
    "Dog and cat decrease evergreen-ness. Baby and tip increase it. Puppy and kitten are statistically insignificant. \n",
    "\n",
    "Nothing in our world makes sense anymore."
   ]
  }
 ],
 "metadata": {
  "anaconda-cloud": {},
  "kernelspec": {
   "display_name": "Python 2",
   "language": "python",
   "name": "python2"
  },
  "language_info": {
   "codemirror_mode": {
    "name": "ipython",
    "version": 2
   },
   "file_extension": ".py",
   "mimetype": "text/x-python",
   "name": "python",
   "nbconvert_exporter": "python",
   "pygments_lexer": "ipython2",
   "version": "2.7.13"
  }
 },
 "nbformat": 4,
 "nbformat_minor": 0
}
