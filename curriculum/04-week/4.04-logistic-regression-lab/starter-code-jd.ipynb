{
 "cells": [
  {
   "cell_type": "code",
   "execution_count": 1,
   "metadata": {
    "collapsed": true
   },
   "outputs": [],
   "source": [
    "import pandas as pd\n",
    "import seaborn as sb\n",
    "import matplotlib.pyplot as plt\n",
    "import json\n",
    "import math\n",
    "import statsmodels.formula.api as sm\n",
    "%matplotlib inline\n",
    "\n",
    "pd.options.display.max_columns = 50\n",
    "pd.options.display.max_colwidth = 300"
   ]
  },
  {
   "cell_type": "markdown",
   "metadata": {},
   "source": [
    "## Predicting \"Greenness\" Of Content\n",
    "\n",
    "This dataset comes from [stumbleupon](https://www.stumbleupon.com/), a web page recommender and was made available [here](https://www.kaggle.com/c/stumbleupon/download/train.tsv)\n",
    "\n",
    "A description of the columns is below\n",
    "\n",
    "FieldName|Type|Description\n",
    "---------|----|-----------\n",
    "url|string|Url of the webpage to be classified\n",
    "urlid|integer| StumbleUpon's unique identifier for each url\n",
    "boilerplate|json|Boilerplate text\n",
    "alchemy_category|string|Alchemy category (per the publicly available Alchemy API found at www.alchemyapi.com)\n",
    "alchemy_category_score|double|Alchemy category score (per the publicly available Alchemy API found at www.alchemyapi.com)\n",
    "avglinksize| double|Average number of words in each link\n",
    "commonLinkRatio_1|double|# of links sharing at least 1 word with 1 other links / # of links\n",
    "commonLinkRatio_2|double|# of links sharing at least 1 word with 2 other links / # of links\n",
    "commonLinkRatio_3|double|# of links sharing at least 1 word with 3 other links / # of links\n",
    "commonLinkRatio_4|double|# of links sharing at least 1 word with 4 other links / # of links\n",
    "compression_ratio|double|Compression achieved on this page via gzip (measure of redundancy)\n",
    "embed_ratio|double|Count of number of <embed> usage\n",
    "frameBased|integer (0 or 1)|A page is frame-based (1) if it has no body markup but have a frameset markup\n",
    "frameTagRatio|double|Ratio of iframe markups over total number of markups\n",
    "hasDomainLink|integer (0 or 1)|True (1) if it contains an <a> with an url with domain\n",
    "html_ratio|double|Ratio of tags vs text in the page\n",
    "image_ratio|double|Ratio of <img> tags vs text in the page\n",
    "is_news|integer (0 or 1) | True (1) if StumbleUpon's news classifier determines that this webpage is news\n",
    "lengthyLinkDomain| integer (0 or 1)|True (1) if at least 3 <a> 's text contains more than 30 alphanumeric characters\n",
    "linkwordscore|double|Percentage of words on the page that are in hyperlink's text\n",
    "news_front_page| integer (0 or 1)|True (1) if StumbleUpon's news classifier determines that this webpage is front-page news\n",
    "non_markup_alphanum_characters|integer| Page's text's number of alphanumeric characters\n",
    "numberOfLinks|integer Number of <a>|markups\n",
    "numwords_in_url| double|Number of words in url\n",
    "parametrizedLinkRatio|double|A link is parametrized if it's url contains parameters or has an attached onClick event\n",
    "spelling_errors_ratio|double|Ratio of words not found in wiki (considered to be a spelling mistake)\n",
    "label|integer (0 or 1)|User-determined label. Either evergreen (1) or non-evergreen (0); available for train.tsv only"
   ]
  },
  {
   "cell_type": "markdown",
   "metadata": {},
   "source": [
    "### What are 'evergreen' sites?\n",
    "- These are websites that always relevant like recipes or reviews (as opposed to current events)\n",
    "- Look at some examples"
   ]
  },
  {
   "cell_type": "code",
   "execution_count": 2,
   "metadata": {
    "collapsed": false
   },
   "outputs": [],
   "source": [
    "data = pd.read_csv('train.tsv', sep='\\t', na_values={'is_news' : '?'}).fillna(0)\n",
    "\n",
    "# Extract the title and body from the boilerplate JSON text\n",
    "data['title'] = data.boilerplate.map(lambda x: json.loads(x).get('title', ''))\n",
    "data['body'] = data.boilerplate.map(lambda x: json.loads(x).get('body', ''))"
   ]
  },
  {
   "cell_type": "code",
   "execution_count": 3,
   "metadata": {
    "collapsed": false
   },
   "outputs": [
    {
     "data": {
      "text/html": [
       "<div>\n",
       "<table border=\"1\" class=\"dataframe\">\n",
       "  <thead>\n",
       "    <tr style=\"text-align: right;\">\n",
       "      <th></th>\n",
       "      <th>title</th>\n",
       "      <th>label</th>\n",
       "    </tr>\n",
       "  </thead>\n",
       "  <tbody>\n",
       "    <tr>\n",
       "      <th>0</th>\n",
       "      <td>IBM Sees Holographic Calls Air Breathing Batteries ibm sees holographic calls, air-breathing batteries</td>\n",
       "      <td>0</td>\n",
       "    </tr>\n",
       "    <tr>\n",
       "      <th>1</th>\n",
       "      <td>The Fully Electronic Futuristic Starting Gun That Eliminates Advantages in Races the fully electronic, futuristic starting gun that eliminates advantages in races the fully electronic, futuristic starting gun that eliminates advantages in races</td>\n",
       "      <td>1</td>\n",
       "    </tr>\n",
       "    <tr>\n",
       "      <th>2</th>\n",
       "      <td>Fruits that Fight the Flu fruits that fight the flu | cold &amp; flu | men's health</td>\n",
       "      <td>1</td>\n",
       "    </tr>\n",
       "    <tr>\n",
       "      <th>3</th>\n",
       "      <td>10 Foolproof Tips for Better Sleep</td>\n",
       "      <td>1</td>\n",
       "    </tr>\n",
       "    <tr>\n",
       "      <th>4</th>\n",
       "      <td>The 50 Coolest Jerseys You Didn t Know Existed coolest jerseys you haven't seen</td>\n",
       "      <td>0</td>\n",
       "    </tr>\n",
       "  </tbody>\n",
       "</table>\n",
       "</div>"
      ],
      "text/plain": [
       "                                                                                                                                                                                                                                                  title  \\\n",
       "0                                                                                                                                                IBM Sees Holographic Calls Air Breathing Batteries ibm sees holographic calls, air-breathing batteries   \n",
       "1  The Fully Electronic Futuristic Starting Gun That Eliminates Advantages in Races the fully electronic, futuristic starting gun that eliminates advantages in races the fully electronic, futuristic starting gun that eliminates advantages in races   \n",
       "2                                                                                                                                                                       Fruits that Fight the Flu fruits that fight the flu | cold & flu | men's health   \n",
       "3                                                                                                                                                                                                                   10 Foolproof Tips for Better Sleep    \n",
       "4                                                                                                                                                                       The 50 Coolest Jerseys You Didn t Know Existed coolest jerseys you haven't seen   \n",
       "\n",
       "   label  \n",
       "0      0  \n",
       "1      1  \n",
       "2      1  \n",
       "3      1  \n",
       "4      0  "
      ]
     },
     "execution_count": 3,
     "metadata": {},
     "output_type": "execute_result"
    }
   ],
   "source": [
    "data[['title', 'label']].head()"
   ]
  },
  {
   "cell_type": "markdown",
   "metadata": {},
   "source": [
    "#### Does being a news site effect green-ness?"
   ]
  },
  {
   "cell_type": "code",
   "execution_count": 4,
   "metadata": {
    "collapsed": false
   },
   "outputs": [
    {
     "name": "stdout",
     "output_type": "stream",
     "text": [
      "Optimization terminated successfully.\n",
      "         Current function value: 0.692751\n",
      "         Iterations 3\n"
     ]
    },
    {
     "data": {
      "text/html": [
       "<table class=\"simpletable\">\n",
       "<caption>Logit Regression Results</caption>\n",
       "<tr>\n",
       "  <th>Dep. Variable:</th>       <td>label</td>      <th>  No. Observations:  </th>  <td>  7395</td>  \n",
       "</tr>\n",
       "<tr>\n",
       "  <th>Model:</th>               <td>Logit</td>      <th>  Df Residuals:      </th>  <td>  7393</td>  \n",
       "</tr>\n",
       "<tr>\n",
       "  <th>Method:</th>               <td>MLE</td>       <th>  Df Model:          </th>  <td>     1</td>  \n",
       "</tr>\n",
       "<tr>\n",
       "  <th>Date:</th>          <td>Tue, 28 Mar 2017</td> <th>  Pseudo R-squ.:     </th> <td>5.980e-05</td>\n",
       "</tr>\n",
       "<tr>\n",
       "  <th>Time:</th>              <td>09:24:54</td>     <th>  Log-Likelihood:    </th> <td> -5122.9</td> \n",
       "</tr>\n",
       "<tr>\n",
       "  <th>converged:</th>           <td>True</td>       <th>  LL-Null:           </th> <td> -5123.2</td> \n",
       "</tr>\n",
       "<tr>\n",
       "  <th> </th>                      <td> </td>        <th>  LLR p-value:       </th>  <td>0.4337</td>  \n",
       "</tr>\n",
       "</table>\n",
       "<table class=\"simpletable\">\n",
       "<tr>\n",
       "      <td></td>         <th>coef</th>     <th>std err</th>      <th>z</th>      <th>P>|z|</th> <th>[95.0% Conf. Int.]</th> \n",
       "</tr>\n",
       "<tr>\n",
       "  <th>Intercept</th> <td>    0.0303</td> <td>    0.038</td> <td>    0.806</td> <td> 0.420</td> <td>   -0.043     0.104</td>\n",
       "</tr>\n",
       "<tr>\n",
       "  <th>is_news</th>   <td>    0.0374</td> <td>    0.048</td> <td>    0.783</td> <td> 0.434</td> <td>   -0.056     0.131</td>\n",
       "</tr>\n",
       "</table>"
      ],
      "text/plain": [
       "<class 'statsmodels.iolib.summary.Summary'>\n",
       "\"\"\"\n",
       "                           Logit Regression Results                           \n",
       "==============================================================================\n",
       "Dep. Variable:                  label   No. Observations:                 7395\n",
       "Model:                          Logit   Df Residuals:                     7393\n",
       "Method:                           MLE   Df Model:                            1\n",
       "Date:                Tue, 28 Mar 2017   Pseudo R-squ.:               5.980e-05\n",
       "Time:                        09:24:54   Log-Likelihood:                -5122.9\n",
       "converged:                       True   LL-Null:                       -5123.2\n",
       "                                        LLR p-value:                    0.4337\n",
       "==============================================================================\n",
       "                 coef    std err          z      P>|z|      [95.0% Conf. Int.]\n",
       "------------------------------------------------------------------------------\n",
       "Intercept      0.0303      0.038      0.806      0.420        -0.043     0.104\n",
       "is_news        0.0374      0.048      0.783      0.434        -0.056     0.131\n",
       "==============================================================================\n",
       "\"\"\""
      ]
     },
     "execution_count": 4,
     "metadata": {},
     "output_type": "execute_result"
    }
   ],
   "source": [
    "model = sm.logit(\n",
    "    \"label ~ is_news\",\n",
    "    data = data\n",
    ").fit()\n",
    "\n",
    "model.summary()"
   ]
  },
  {
   "cell_type": "code",
   "execution_count": 5,
   "metadata": {
    "collapsed": false
   },
   "outputs": [
    {
     "data": {
      "text/plain": [
       "1.0381081810730037"
      ]
     },
     "execution_count": 5,
     "metadata": {},
     "output_type": "execute_result"
    }
   ],
   "source": [
    "news_coef = 0.0374\n",
    "\n",
    "math.exp(news_coef)\n",
    "# a website being news is 1.038 times as likely\n",
    "# to be classified as evergreen"
   ]
  },
  {
   "cell_type": "markdown",
   "metadata": {},
   "source": [
    "#### Does the website category effect green-ness?"
   ]
  },
  {
   "cell_type": "code",
   "execution_count": 6,
   "metadata": {
    "collapsed": false
   },
   "outputs": [
    {
     "name": "stdout",
     "output_type": "stream",
     "text": [
      "Warning: Maximum number of iterations has been exceeded.\n",
      "         Current function value: 0.649452\n",
      "         Iterations: 35\n"
     ]
    },
    {
     "name": "stderr",
     "output_type": "stream",
     "text": [
      "//anaconda/lib/python2.7/site-packages/statsmodels/base/model.py:466: ConvergenceWarning: Maximum Likelihood optimization failed to converge. Check mle_retvals\n",
      "  \"Check mle_retvals\", ConvergenceWarning)\n"
     ]
    },
    {
     "data": {
      "text/html": [
       "<table class=\"simpletable\">\n",
       "<caption>Logit Regression Results</caption>\n",
       "<tr>\n",
       "  <th>Dep. Variable:</th>       <td>label</td>      <th>  No. Observations:  </th>   <td>  7395</td>  \n",
       "</tr>\n",
       "<tr>\n",
       "  <th>Model:</th>               <td>Logit</td>      <th>  Df Residuals:      </th>   <td>  7381</td>  \n",
       "</tr>\n",
       "<tr>\n",
       "  <th>Method:</th>               <td>MLE</td>       <th>  Df Model:          </th>   <td>    13</td>  \n",
       "</tr>\n",
       "<tr>\n",
       "  <th>Date:</th>          <td>Tue, 28 Mar 2017</td> <th>  Pseudo R-squ.:     </th>   <td>0.06256</td> \n",
       "</tr>\n",
       "<tr>\n",
       "  <th>Time:</th>              <td>09:24:57</td>     <th>  Log-Likelihood:    </th>  <td> -4802.7</td> \n",
       "</tr>\n",
       "<tr>\n",
       "  <th>converged:</th>           <td>False</td>      <th>  LL-Null:           </th>  <td> -5123.2</td> \n",
       "</tr>\n",
       "<tr>\n",
       "  <th> </th>                      <td> </td>        <th>  LLR p-value:       </th> <td>1.372e-128</td>\n",
       "</tr>\n",
       "</table>\n",
       "<table class=\"simpletable\">\n",
       "<tr>\n",
       "                     <td></td>                       <th>coef</th>     <th>std err</th>      <th>z</th>      <th>P>|z|</th> <th>[95.0% Conf. Int.]</th> \n",
       "</tr>\n",
       "<tr>\n",
       "  <th>Intercept</th>                              <td>    0.0085</td> <td>    0.041</td> <td>    0.207</td> <td> 0.836</td> <td>   -0.072     0.090</td>\n",
       "</tr>\n",
       "<tr>\n",
       "  <th>alchemy_category[T.arts_entertainment]</th> <td>   -0.5324</td> <td>    0.079</td> <td>   -6.731</td> <td> 0.000</td> <td>   -0.687    -0.377</td>\n",
       "</tr>\n",
       "<tr>\n",
       "  <th>alchemy_category[T.business]</th>           <td>    0.8935</td> <td>    0.085</td> <td>   10.499</td> <td> 0.000</td> <td>    0.727     1.060</td>\n",
       "</tr>\n",
       "<tr>\n",
       "  <th>alchemy_category[T.computer_internet]</th>  <td>   -1.1253</td> <td>    0.141</td> <td>   -7.979</td> <td> 0.000</td> <td>   -1.402    -0.849</td>\n",
       "</tr>\n",
       "<tr>\n",
       "  <th>alchemy_category[T.culture_politics]</th>   <td>   -0.1780</td> <td>    0.116</td> <td>   -1.535</td> <td> 0.125</td> <td>   -0.405     0.049</td>\n",
       "</tr>\n",
       "<tr>\n",
       "  <th>alchemy_category[T.gaming]</th>             <td>   -0.5475</td> <td>    0.241</td> <td>   -2.269</td> <td> 0.023</td> <td>   -1.021    -0.074</td>\n",
       "</tr>\n",
       "<tr>\n",
       "  <th>alchemy_category[T.health]</th>             <td>    0.2861</td> <td>    0.099</td> <td>    2.892</td> <td> 0.004</td> <td>    0.092     0.480</td>\n",
       "</tr>\n",
       "<tr>\n",
       "  <th>alchemy_category[T.law_crime]</th>          <td>   -0.3340</td> <td>    0.366</td> <td>   -0.912</td> <td> 0.362</td> <td>   -1.052     0.384</td>\n",
       "</tr>\n",
       "<tr>\n",
       "  <th>alchemy_category[T.recreation]</th>         <td>    0.7650</td> <td>    0.074</td> <td>   10.340</td> <td> 0.000</td> <td>    0.620     0.910</td>\n",
       "</tr>\n",
       "<tr>\n",
       "  <th>alchemy_category[T.religion]</th>           <td>   -0.3450</td> <td>    0.243</td> <td>   -1.422</td> <td> 0.155</td> <td>   -0.820     0.130</td>\n",
       "</tr>\n",
       "<tr>\n",
       "  <th>alchemy_category[T.science_technology]</th> <td>   -0.1820</td> <td>    0.125</td> <td>   -1.455</td> <td> 0.146</td> <td>   -0.427     0.063</td>\n",
       "</tr>\n",
       "<tr>\n",
       "  <th>alchemy_category[T.sports]</th>             <td>   -1.3623</td> <td>    0.134</td> <td>  -10.199</td> <td> 0.000</td> <td>   -1.624    -1.100</td>\n",
       "</tr>\n",
       "<tr>\n",
       "  <th>alchemy_category[T.unknown]</th>            <td>   -0.7017</td> <td>    0.867</td> <td>   -0.809</td> <td> 0.418</td> <td>   -2.401     0.998</td>\n",
       "</tr>\n",
       "<tr>\n",
       "  <th>alchemy_category[T.weather]</th>            <td>  -18.1423</td> <td> 4331.844</td> <td>   -0.004</td> <td> 0.997</td> <td>-8508.400  8472.115</td>\n",
       "</tr>\n",
       "</table>"
      ],
      "text/plain": [
       "<class 'statsmodels.iolib.summary.Summary'>\n",
       "\"\"\"\n",
       "                           Logit Regression Results                           \n",
       "==============================================================================\n",
       "Dep. Variable:                  label   No. Observations:                 7395\n",
       "Model:                          Logit   Df Residuals:                     7381\n",
       "Method:                           MLE   Df Model:                           13\n",
       "Date:                Tue, 28 Mar 2017   Pseudo R-squ.:                 0.06256\n",
       "Time:                        09:24:57   Log-Likelihood:                -4802.7\n",
       "converged:                      False   LL-Null:                       -5123.2\n",
       "                                        LLR p-value:                1.372e-128\n",
       "==========================================================================================================\n",
       "                                             coef    std err          z      P>|z|      [95.0% Conf. Int.]\n",
       "----------------------------------------------------------------------------------------------------------\n",
       "Intercept                                  0.0085      0.041      0.207      0.836        -0.072     0.090\n",
       "alchemy_category[T.arts_entertainment]    -0.5324      0.079     -6.731      0.000        -0.687    -0.377\n",
       "alchemy_category[T.business]               0.8935      0.085     10.499      0.000         0.727     1.060\n",
       "alchemy_category[T.computer_internet]     -1.1253      0.141     -7.979      0.000        -1.402    -0.849\n",
       "alchemy_category[T.culture_politics]      -0.1780      0.116     -1.535      0.125        -0.405     0.049\n",
       "alchemy_category[T.gaming]                -0.5475      0.241     -2.269      0.023        -1.021    -0.074\n",
       "alchemy_category[T.health]                 0.2861      0.099      2.892      0.004         0.092     0.480\n",
       "alchemy_category[T.law_crime]             -0.3340      0.366     -0.912      0.362        -1.052     0.384\n",
       "alchemy_category[T.recreation]             0.7650      0.074     10.340      0.000         0.620     0.910\n",
       "alchemy_category[T.religion]              -0.3450      0.243     -1.422      0.155        -0.820     0.130\n",
       "alchemy_category[T.science_technology]    -0.1820      0.125     -1.455      0.146        -0.427     0.063\n",
       "alchemy_category[T.sports]                -1.3623      0.134    -10.199      0.000        -1.624    -1.100\n",
       "alchemy_category[T.unknown]               -0.7017      0.867     -0.809      0.418        -2.401     0.998\n",
       "alchemy_category[T.weather]              -18.1423   4331.844     -0.004      0.997     -8508.400  8472.115\n",
       "==========================================================================================================\n",
       "\"\"\""
      ]
     },
     "execution_count": 6,
     "metadata": {},
     "output_type": "execute_result"
    }
   ],
   "source": [
    "model = sm.logit(\n",
    "    \"label ~ alchemy_category\",\n",
    "    data = data\n",
    ").fit()\n",
    "\n",
    "model.summary()"
   ]
  },
  {
   "cell_type": "markdown",
   "metadata": {},
   "source": [
    "#### Does the image ratio effect green-ness?"
   ]
  },
  {
   "cell_type": "code",
   "execution_count": 7,
   "metadata": {
    "collapsed": false
   },
   "outputs": [
    {
     "name": "stdout",
     "output_type": "stream",
     "text": [
      "Optimization terminated successfully.\n",
      "         Current function value: 0.692631\n",
      "         Iterations 5\n"
     ]
    },
    {
     "data": {
      "text/html": [
       "<table class=\"simpletable\">\n",
       "<caption>Logit Regression Results</caption>\n",
       "<tr>\n",
       "  <th>Dep. Variable:</th>       <td>label</td>      <th>  No. Observations:  </th>  <td>  7395</td>  \n",
       "</tr>\n",
       "<tr>\n",
       "  <th>Model:</th>               <td>Logit</td>      <th>  Df Residuals:      </th>  <td>  7393</td>  \n",
       "</tr>\n",
       "<tr>\n",
       "  <th>Method:</th>               <td>MLE</td>       <th>  Df Model:          </th>  <td>     1</td>  \n",
       "</tr>\n",
       "<tr>\n",
       "  <th>Date:</th>          <td>Tue, 28 Mar 2017</td> <th>  Pseudo R-squ.:     </th> <td>0.0002325</td>\n",
       "</tr>\n",
       "<tr>\n",
       "  <th>Time:</th>              <td>09:25:01</td>     <th>  Log-Likelihood:    </th> <td> -5122.0</td> \n",
       "</tr>\n",
       "<tr>\n",
       "  <th>converged:</th>           <td>True</td>       <th>  LL-Null:           </th> <td> -5123.2</td> \n",
       "</tr>\n",
       "<tr>\n",
       "  <th> </th>                      <td> </td>        <th>  LLR p-value:       </th>  <td>0.1228</td>  \n",
       "</tr>\n",
       "</table>\n",
       "<table class=\"simpletable\">\n",
       "<tr>\n",
       "       <td></td>          <th>coef</th>     <th>std err</th>      <th>z</th>      <th>P>|z|</th> <th>[95.0% Conf. Int.]</th> \n",
       "</tr>\n",
       "<tr>\n",
       "  <th>Intercept</th>   <td>    0.0590</td> <td>    0.024</td> <td>    2.499</td> <td> 0.012</td> <td>    0.013     0.105</td>\n",
       "</tr>\n",
       "<tr>\n",
       "  <th>image_ratio</th> <td>   -0.0210</td> <td>    0.015</td> <td>   -1.400</td> <td> 0.161</td> <td>   -0.051     0.008</td>\n",
       "</tr>\n",
       "</table>"
      ],
      "text/plain": [
       "<class 'statsmodels.iolib.summary.Summary'>\n",
       "\"\"\"\n",
       "                           Logit Regression Results                           \n",
       "==============================================================================\n",
       "Dep. Variable:                  label   No. Observations:                 7395\n",
       "Model:                          Logit   Df Residuals:                     7393\n",
       "Method:                           MLE   Df Model:                            1\n",
       "Date:                Tue, 28 Mar 2017   Pseudo R-squ.:               0.0002325\n",
       "Time:                        09:25:01   Log-Likelihood:                -5122.0\n",
       "converged:                       True   LL-Null:                       -5123.2\n",
       "                                        LLR p-value:                    0.1228\n",
       "===============================================================================\n",
       "                  coef    std err          z      P>|z|      [95.0% Conf. Int.]\n",
       "-------------------------------------------------------------------------------\n",
       "Intercept       0.0590      0.024      2.499      0.012         0.013     0.105\n",
       "image_ratio    -0.0210      0.015     -1.400      0.161        -0.051     0.008\n",
       "===============================================================================\n",
       "\"\"\""
      ]
     },
     "execution_count": 7,
     "metadata": {},
     "output_type": "execute_result"
    }
   ],
   "source": [
    "model = sm.logit(\n",
    "    \"label ~ image_ratio\",\n",
    "    data = data\n",
    ").fit()\n",
    "\n",
    "model.summary()"
   ]
  },
  {
   "cell_type": "code",
   "execution_count": 8,
   "metadata": {
    "collapsed": false
   },
   "outputs": [
    {
     "data": {
      "text/plain": [
       "0.9792189645694596"
      ]
     },
     "execution_count": 8,
     "metadata": {},
     "output_type": "execute_result"
    }
   ],
   "source": [
    "image_ratio_coef = -0.0210\n",
    "math.exp(image_ratio_coef)"
   ]
  },
  {
   "cell_type": "markdown",
   "metadata": {},
   "source": [
    "#### Fit a logistic regression model using statsmodels\n",
    "- Test different features that may be valuable\n",
    "- Examine the coefficients, does the feature increase or decrease the effect of being evergreen?"
   ]
  },
  {
   "cell_type": "code",
   "execution_count": 9,
   "metadata": {
    "collapsed": false
   },
   "outputs": [
    {
     "name": "stdout",
     "output_type": "stream",
     "text": [
      "Optimization terminated successfully.\n",
      "         Current function value: 0.689479\n",
      "         Iterations 4\n"
     ]
    },
    {
     "data": {
      "text/html": [
       "<table class=\"simpletable\">\n",
       "<caption>Logit Regression Results</caption>\n",
       "<tr>\n",
       "  <th>Dep. Variable:</th>       <td>label</td>      <th>  No. Observations:  </th>  <td>  7395</td>  \n",
       "</tr>\n",
       "<tr>\n",
       "  <th>Model:</th>               <td>Logit</td>      <th>  Df Residuals:      </th>  <td>  7393</td>  \n",
       "</tr>\n",
       "<tr>\n",
       "  <th>Method:</th>               <td>MLE</td>       <th>  Df Model:          </th>  <td>     1</td>  \n",
       "</tr>\n",
       "<tr>\n",
       "  <th>Date:</th>          <td>Tue, 28 Mar 2017</td> <th>  Pseudo R-squ.:     </th> <td>0.004783</td> \n",
       "</tr>\n",
       "<tr>\n",
       "  <th>Time:</th>              <td>09:25:11</td>     <th>  Log-Likelihood:    </th> <td> -5098.7</td> \n",
       "</tr>\n",
       "<tr>\n",
       "  <th>converged:</th>           <td>True</td>       <th>  LL-Null:           </th> <td> -5123.2</td> \n",
       "</tr>\n",
       "<tr>\n",
       "  <th> </th>                      <td> </td>        <th>  LLR p-value:       </th> <td>2.549e-12</td>\n",
       "</tr>\n",
       "</table>\n",
       "<table class=\"simpletable\">\n",
       "<tr>\n",
       "          <td></td>             <th>coef</th>     <th>std err</th>      <th>z</th>      <th>P>|z|</th> <th>[95.0% Conf. Int.]</th> \n",
       "</tr>\n",
       "<tr>\n",
       "  <th>Intercept</th>         <td>   -0.0593</td> <td>    0.028</td> <td>   -2.089</td> <td> 0.037</td> <td>   -0.115    -0.004</td>\n",
       "</tr>\n",
       "<tr>\n",
       "  <th>commonlinkratio_4</th> <td>    2.3149</td> <td>    0.339</td> <td>    6.820</td> <td> 0.000</td> <td>    1.650     2.980</td>\n",
       "</tr>\n",
       "</table>"
      ],
      "text/plain": [
       "<class 'statsmodels.iolib.summary.Summary'>\n",
       "\"\"\"\n",
       "                           Logit Regression Results                           \n",
       "==============================================================================\n",
       "Dep. Variable:                  label   No. Observations:                 7395\n",
       "Model:                          Logit   Df Residuals:                     7393\n",
       "Method:                           MLE   Df Model:                            1\n",
       "Date:                Tue, 28 Mar 2017   Pseudo R-squ.:                0.004783\n",
       "Time:                        09:25:11   Log-Likelihood:                -5098.7\n",
       "converged:                       True   LL-Null:                       -5123.2\n",
       "                                        LLR p-value:                 2.549e-12\n",
       "=====================================================================================\n",
       "                        coef    std err          z      P>|z|      [95.0% Conf. Int.]\n",
       "-------------------------------------------------------------------------------------\n",
       "Intercept            -0.0593      0.028     -2.089      0.037        -0.115    -0.004\n",
       "commonlinkratio_4     2.3149      0.339      6.820      0.000         1.650     2.980\n",
       "=====================================================================================\n",
       "\"\"\""
      ]
     },
     "execution_count": 9,
     "metadata": {},
     "output_type": "execute_result"
    }
   ],
   "source": [
    "\n",
    "model = sm.logit(\n",
    "    \"label ~ commonlinkratio_4\",\n",
    "    data = data\n",
    ").fit()\n",
    "\n",
    "model.summary()\n",
    "\n",
    "\n",
    "# spelling_errors_ratio coef = -1.5567\n",
    "# math.exp(-1.5567)\n",
    "# 0.210830665686284\n",
    "\n",
    "#commonlinkratio_4 = 2.3149\n",
    "#frameTagRatio = -10.1350"
   ]
  },
  {
   "cell_type": "code",
   "execution_count": 27,
   "metadata": {
    "collapsed": false
   },
   "outputs": [
    {
     "data": {
      "text/plain": [
       "<matplotlib.collections.PathCollection at 0x113d377d0>"
      ]
     },
     "execution_count": 27,
     "metadata": {},
     "output_type": "execute_result"
    },
    {
     "data": {
      "image/png": "[encoded data removed]",
      "text/plain": [
       "<matplotlib.figure.Figure at 0x113b46b90>"
      ]
     },
     "metadata": {},
     "output_type": "display_data"
    }
   ],
   "source": [
    "# TODO\n",
    "\n",
    "plt.scatter(data.label, data.commonlinkratio_4)\n",
    "\n",
    "# data[['label','frameTagRatio']]\n"
   ]
  },
  {
   "cell_type": "markdown",
   "metadata": {
    "collapsed": true
   },
   "source": [
    "#### Fit a logistic regression model using statsmodels with text features\n",
    "- Add text features that may be useful, add this to the model and see if they improve the fit\n",
    "- Examine the coefficients, does the feature increase or decrease the effect of being evergreen?"
   ]
  },
  {
   "cell_type": "code",
   "execution_count": 11,
   "metadata": {
    "collapsed": false
   },
   "outputs": [],
   "source": [
    "# EXAMPLE text feature 'recipe'\n",
    "data['is_recipe'] = data['title'].fillna('').str.contains('recipe')\n",
    "data['is_review'] = data['title'].fillna('').str.contains('review')\n",
    "data['is_howto'] = data['title'].fillna('').str.contains('how to')"
   ]
  },
  {
   "cell_type": "code",
   "execution_count": 13,
   "metadata": {
    "collapsed": false
   },
   "outputs": [
    {
     "name": "stdout",
     "output_type": "stream",
     "text": [
      "Optimization terminated successfully.\n",
      "         Current function value: 0.682638\n",
      "         Iterations 7\n"
     ]
    },
    {
     "data": {
      "text/html": [
       "<table class=\"simpletable\">\n",
       "<caption>Logit Regression Results</caption>\n",
       "<tr>\n",
       "  <th>Dep. Variable:</th>       <td>label</td>      <th>  No. Observations:  </th>  <td>  7395</td>  \n",
       "</tr>\n",
       "<tr>\n",
       "  <th>Model:</th>               <td>Logit</td>      <th>  Df Residuals:      </th>  <td>  7391</td>  \n",
       "</tr>\n",
       "<tr>\n",
       "  <th>Method:</th>               <td>MLE</td>       <th>  Df Model:          </th>  <td>     3</td>  \n",
       "</tr>\n",
       "<tr>\n",
       "  <th>Date:</th>          <td>Tue, 28 Mar 2017</td> <th>  Pseudo R-squ.:     </th>  <td>0.01466</td> \n",
       "</tr>\n",
       "<tr>\n",
       "  <th>Time:</th>              <td>09:27:33</td>     <th>  Log-Likelihood:    </th> <td> -5048.1</td> \n",
       "</tr>\n",
       "<tr>\n",
       "  <th>converged:</th>           <td>True</td>       <th>  LL-Null:           </th> <td> -5123.2</td> \n",
       "</tr>\n",
       "<tr>\n",
       "  <th> </th>                      <td> </td>        <th>  LLR p-value:       </th> <td>2.416e-32</td>\n",
       "</tr>\n",
       "</table>\n",
       "<table class=\"simpletable\">\n",
       "<tr>\n",
       "                   <td></td>                     <th>coef</th>     <th>std err</th>      <th>z</th>      <th>P>|z|</th> <th>[95.0% Conf. Int.]</th> \n",
       "</tr>\n",
       "<tr>\n",
       "  <th>Intercept</th>                          <td>   -0.0866</td> <td>    0.029</td> <td>   -3.023</td> <td> 0.003</td> <td>   -0.143    -0.030</td>\n",
       "</tr>\n",
       "<tr>\n",
       "  <th>commonlinkratio_4:is_recipe[False]</th> <td>    2.0822</td> <td>    0.339</td> <td>    6.135</td> <td> 0.000</td> <td>    1.417     2.747</td>\n",
       "</tr>\n",
       "<tr>\n",
       "  <th>commonlinkratio_4:is_recipe[True]</th>  <td>   36.8864</td> <td>    5.329</td> <td>    6.922</td> <td> 0.000</td> <td>   26.443    47.330</td>\n",
       "</tr>\n",
       "<tr>\n",
       "  <th>commonlinkratio_4:is_howto[T.True]</th> <td>    9.3171</td> <td>    4.252</td> <td>    2.191</td> <td> 0.028</td> <td>    0.983    17.651</td>\n",
       "</tr>\n",
       "</table>"
      ],
      "text/plain": [
       "<class 'statsmodels.iolib.summary.Summary'>\n",
       "\"\"\"\n",
       "                           Logit Regression Results                           \n",
       "==============================================================================\n",
       "Dep. Variable:                  label   No. Observations:                 7395\n",
       "Model:                          Logit   Df Residuals:                     7391\n",
       "Method:                           MLE   Df Model:                            3\n",
       "Date:                Tue, 28 Mar 2017   Pseudo R-squ.:                 0.01466\n",
       "Time:                        09:27:33   Log-Likelihood:                -5048.1\n",
       "converged:                       True   LL-Null:                       -5123.2\n",
       "                                        LLR p-value:                 2.416e-32\n",
       "======================================================================================================\n",
       "                                         coef    std err          z      P>|z|      [95.0% Conf. Int.]\n",
       "------------------------------------------------------------------------------------------------------\n",
       "Intercept                             -0.0866      0.029     -3.023      0.003        -0.143    -0.030\n",
       "commonlinkratio_4:is_recipe[False]     2.0822      0.339      6.135      0.000         1.417     2.747\n",
       "commonlinkratio_4:is_recipe[True]     36.8864      5.329      6.922      0.000        26.443    47.330\n",
       "commonlinkratio_4:is_howto[T.True]     9.3171      4.252      2.191      0.028         0.983    17.651\n",
       "======================================================================================================\n",
       "\"\"\""
      ]
     },
     "execution_count": 13,
     "metadata": {},
     "output_type": "execute_result"
    }
   ],
   "source": [
    "model = sm.logit(\n",
    "    \"label ~ commonlinkratio_4 : is_recipe + commonlinkratio_4 : is_howto\",\n",
    "    data = data\n",
    ").fit()            \n",
    "### question: does it matter whether or not you choose \n",
    "model.summary()"
   ]
  },
  {
   "cell_type": "code",
   "execution_count": null,
   "metadata": {
    "collapsed": true
   },
   "outputs": [],
   "source": []
  }
 ],
 "metadata": {
  "anaconda-cloud": {},
  "kernelspec": {
   "display_name": "Python 2",
   "language": "python",
   "name": "python2"
  },
  "language_info": {
   "codemirror_mode": {
    "name": "ipython",
    "version": 2
   },
   "file_extension": ".py",
   "mimetype": "text/x-python",
   "name": "python",
   "nbconvert_exporter": "python",
   "pygments_lexer": "ipython2",
   "version": "2.7.13"
  }
 },
 "nbformat": 4,
 "nbformat_minor": 0
}
