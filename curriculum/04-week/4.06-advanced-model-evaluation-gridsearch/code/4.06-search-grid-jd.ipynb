{
 "cells": [
  {
   "cell_type": "code",
   "execution_count": 3,
   "metadata": {
    "collapsed": false
   },
   "outputs": [],
   "source": [
    "## Grid Search for Algorithm Tuning\n",
    "import numpy as np\n",
    "from sklearn import datasets\n",
    "from sklearn.linear_model import Ridge\n",
    "from sklearn.model_selection import GridSearchCV"
   ]
  },
  {
   "cell_type": "code",
   "execution_count": 4,
   "metadata": {
    "collapsed": true
   },
   "outputs": [],
   "source": [
    "## Load the Diabetes Dataset\n",
    "dataset = datasets.load_diabetes( )"
   ]
  },
  {
   "cell_type": "code",
   "execution_count": 5,
   "metadata": {
    "collapsed": true
   },
   "outputs": [],
   "source": [
    "## Prepare a Range of Alpha Values to Test\n",
    "alphas = np.array([1,0.1,0.01,0.001,0.0001,0])"
   ]
  },
  {
   "cell_type": "code",
   "execution_count": 6,
   "metadata": {
    "collapsed": false
   },
   "outputs": [
    {
     "name": "stdout",
     "output_type": "stream",
     "text": [
      "GridSearchCV(cv=None, error_score='raise',\n",
      "       estimator=Ridge(alpha=1.0, copy_X=True, fit_intercept=True, max_iter=None,\n",
      "   normalize=False, random_state=None, solver='auto', tol=0.001),\n",
      "       fit_params={}, iid=True, n_jobs=1,\n",
      "       param_grid={'alpha': array([  1.00000e+00,   1.00000e-01,   1.00000e-02,   1.00000e-03,\n",
      "         1.00000e-04,   0.00000e+00])},\n",
      "       pre_dispatch='2*n_jobs', refit=True, return_train_score=True,\n",
      "       scoring=None, verbose=0)\n"
     ]
    }
   ],
   "source": [
    "## Create and Fit a Ridge Regression Model, Testing Each Alpha\n",
    "model = Ridge( )\n",
    "grid = GridSearchCV(estimator=model, param_grid=dict(alpha=alphas))\n",
    "grid.fit(dataset.data, dataset.target)\n",
    "print(grid)"
   ]
  },
  {
   "cell_type": "code",
   "execution_count": 7,
   "metadata": {
    "collapsed": false
   },
   "outputs": [
    {
     "name": "stdout",
     "output_type": "stream",
     "text": [
      "0.488790204461\n",
      "0.001\n"
     ]
    }
   ],
   "source": [
    "## Summarize the Results of the Grid Search\n",
    "print(grid.best_score_)\n",
    "print(grid.best_estimator_.alpha)"
   ]
  },
  {
   "cell_type": "code",
   "execution_count": 8,
   "metadata": {
    "collapsed": false
   },
   "outputs": [
    {
     "data": {
      "text/plain": [
       "{'mean_fit_time': array([ 0.06906605,  0.00089431,  0.00068227,  0.00052945,  0.00074911,\n",
       "         0.00052428]),\n",
       " 'mean_score_time': array([ 0.00092165,  0.00033069,  0.00035437,  0.00027394,  0.00055027,\n",
       "         0.00027307]),\n",
       " 'mean_test_score': array([ 0.40933827,  0.48853953,  0.48865251,  0.4887902 ,  0.48867965,\n",
       "         0.48865888]),\n",
       " 'mean_train_score': array([ 0.4210754 ,  0.51498882,  0.52122502,  0.5227881 ,  0.52287231,\n",
       "         0.52287343]),\n",
       " 'param_alpha': masked_array(data = [1.0 0.10000000000000001 0.01 0.001 0.0001 0.0],\n",
       "              mask = [False False False False False False],\n",
       "        fill_value = ?),\n",
       " 'params': ({'alpha': 1.0},\n",
       "  {'alpha': 0.10000000000000001},\n",
       "  {'alpha': 0.01},\n",
       "  {'alpha': 0.001},\n",
       "  {'alpha': 0.0001},\n",
       "  {'alpha': 0.0}),\n",
       " 'rank_test_score': array([6, 5, 4, 1, 2, 3], dtype=int32),\n",
       " 'split0_test_score': array([ 0.37001643,  0.45856814,  0.46891606,  0.46970154,  0.4693638 ,\n",
       "         0.46930578]),\n",
       " 'split0_train_score': array([ 0.43877495,  0.51999246,  0.52613037,  0.52826389,  0.52837845,\n",
       "         0.52837998]),\n",
       " 'split1_test_score': array([ 0.41844656,  0.49516189,  0.49088028,  0.48824778,  0.48737249,\n",
       "         0.48724994]),\n",
       " 'split1_train_score': array([ 0.41445091,  0.51579847,  0.52353577,  0.52578118,  0.52590127,\n",
       "         0.52590287]),\n",
       " 'split2_test_score': array([ 0.43981933,  0.51209245,  0.50629545,  0.50855115,  0.50943406,\n",
       "         0.50955259]),\n",
       " 'split2_train_score': array([ 0.41000034,  0.50917553,  0.51400893,  0.51431924,  0.5143372 ,\n",
       "         0.51433746]),\n",
       " 'std_fit_time': array([  9.62408477e-02,   3.24097123e-04,   2.10542580e-04,\n",
       "          1.26972662e-05,   1.91055366e-04,   1.04161000e-05]),\n",
       " 'std_score_time': array([  5.55684453e-04,   5.49681088e-05,   1.12226428e-04,\n",
       "          1.34869915e-06,   2.08679054e-04,   1.46109075e-06]),\n",
       " 'std_test_score': array([ 0.02922881,  0.02235762,  0.01534939,  0.01587378,  0.01639376,\n",
       "         0.01646994]),\n",
       " 'std_train_score': array([ 0.01264667,  0.00445295,  0.00521133,  0.00607356,  0.00611937,\n",
       "         0.00611998])}"
      ]
     },
     "execution_count": 8,
     "metadata": {},
     "output_type": "execute_result"
    }
   ],
   "source": [
    "grid.cv_results_"
   ]
  },
  {
   "cell_type": "code",
   "execution_count": null,
   "metadata": {
    "collapsed": true
   },
   "outputs": [],
   "source": []
  }
 ],
 "metadata": {
  "anaconda-cloud": {},
  "kernelspec": {
   "display_name": "Python 2",
   "language": "python",
   "name": "python2"
  },
  "language_info": {
   "codemirror_mode": {
    "name": "ipython",
    "version": 2
   },
   "file_extension": ".py",
   "mimetype": "text/x-python",
   "name": "python",
   "nbconvert_exporter": "python",
   "pygments_lexer": "ipython2",
   "version": "2.7.13"
  }
 },
 "nbformat": 4,
 "nbformat_minor": 0
}
