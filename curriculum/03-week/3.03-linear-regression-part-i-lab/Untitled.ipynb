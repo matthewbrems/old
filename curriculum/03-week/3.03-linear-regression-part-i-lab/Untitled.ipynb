{
 "cells": [
  {
   "cell_type": "code",
   "execution_count": 1,
   "metadata": {
    "collapsed": true
   },
   "outputs": [],
   "source": [
    "import numpy as np"
   ]
  },
  {
   "cell_type": "code",
   "execution_count": 27,
   "metadata": {
    "collapsed": true
   },
   "outputs": [],
   "source": [
    "num_list = [5,1,5,2,7,15,7,24,8,24,5]"
   ]
  },
  {
   "cell_type": "code",
   "execution_count": 14,
   "metadata": {
    "collapsed": true
   },
   "outputs": [],
   "source": [
    "def standardization(list_nums):\n",
    "    avg = np.mean(list_nums)\n",
    "    stdev = np.std(list_nums)\n",
    "    new_x = []\n",
    "    for x in list_nums:\n",
    "        new_x.append( (x-avg) / stdev )\n",
    "    return new_x"
   ]
  },
  {
   "cell_type": "code",
   "execution_count": 15,
   "metadata": {
    "collapsed": false
   },
   "outputs": [
    {
     "data": {
      "text/plain": [
       "([-0.51171560562037033,\n",
       "  -0.75381761258054547,\n",
       "  -0.51171560562037033,\n",
       "  -0.69329211084050169,\n",
       "  -0.3906646021402827,\n",
       "  2.8171869900820385,\n",
       "  -0.3906646021402827,\n",
       "  0.63826892744046182,\n",
       "  -0.33013910040023892,\n",
       "  0.63826892744046182,\n",
       "  -0.51171560562037033],\n",
       " [5, 1, 5, 2, 7, 60, 7, 24, 8, 24, 5])"
      ]
     },
     "execution_count": 15,
     "metadata": {},
     "output_type": "execute_result"
    }
   ],
   "source": [
    "standardization(num_list), num_list"
   ]
  },
  {
   "cell_type": "code",
   "execution_count": 31,
   "metadata": {
    "collapsed": false
   },
   "outputs": [],
   "source": [
    "def min_max(nums):\n",
    "    new_list = []\n",
    "    for x in nums:\n",
    "        new_list.append( float((x-min(nums)))/ float((max(nums)-min(nums)))) \n",
    "    return new_list"
   ]
  },
  {
   "cell_type": "code",
   "execution_count": 32,
   "metadata": {
    "collapsed": false
   },
   "outputs": [
    {
     "data": {
      "text/plain": [
       "[0.17391304347826086,\n",
       " 0.0,\n",
       " 0.17391304347826086,\n",
       " 0.043478260869565216,\n",
       " 0.2608695652173913,\n",
       " 0.6086956521739131,\n",
       " 0.2608695652173913,\n",
       " 1.0,\n",
       " 0.30434782608695654,\n",
       " 1.0,\n",
       " 0.17391304347826086]"
      ]
     },
     "execution_count": 32,
     "metadata": {},
     "output_type": "execute_result"
    }
   ],
   "source": [
    "min_max(num_list)"
   ]
  },
  {
   "cell_type": "code",
   "execution_count": null,
   "metadata": {
    "collapsed": true
   },
   "outputs": [],
   "source": []
  }
 ],
 "metadata": {
  "kernelspec": {
   "display_name": "Python 2",
   "language": "python",
   "name": "python2"
  },
  "language_info": {
   "codemirror_mode": {
    "name": "ipython",
    "version": 2
   },
   "file_extension": ".py",
   "mimetype": "text/x-python",
   "name": "python",
   "nbconvert_exporter": "python",
   "pygments_lexer": "ipython2",
   "version": "2.7.13"
  }
 },
 "nbformat": 4,
 "nbformat_minor": 2
}
