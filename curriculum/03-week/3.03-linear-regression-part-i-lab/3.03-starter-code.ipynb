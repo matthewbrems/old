{
 "cells": [
  {
   "cell_type": "markdown",
   "metadata": {},
   "source": [
    "##### Problem 1: Read in the Sacramento housing data set."
   ]
  },
  {
   "cell_type": "code",
   "execution_count": null,
   "metadata": {
    "collapsed": true
   },
   "outputs": [],
   "source": []
  },
  {
   "cell_type": "markdown",
   "metadata": {},
   "source": [
    "##### Problem 2: Conduct exploratory data analysis on this data set. Report any notable findings here and any steps you take to clean/process data.\n",
    "\n",
    "Hint: These EDA checks will be on every data set we give you. If checking for, say, missing/corrupted data over and over, it might be to your long-term benefit to have a function that you can re-use every time you're given some new data."
   ]
  },
  {
   "cell_type": "code",
   "execution_count": null,
   "metadata": {
    "collapsed": true
   },
   "outputs": [],
   "source": []
  },
  {
   "cell_type": "markdown",
   "metadata": {},
   "source": [
    "##### Problem 3: Our goal will be to predict price. List the variables that qualify as available predictors in a SLR model. For each of these variables you believe to be valid potential predictors in an SLR model, generate a plot showing the relationship between the independent variable and dependent variable."
   ]
  },
  {
   "cell_type": "code",
   "execution_count": null,
   "metadata": {
    "collapsed": true
   },
   "outputs": [],
   "source": []
  },
  {
   "cell_type": "markdown",
   "metadata": {},
   "source": [
    "##### Problem 4: Which independent variable would be the best predictor of Y in a SLR model? Why?"
   ]
  },
  {
   "cell_type": "markdown",
   "metadata": {
    "collapsed": true
   },
   "source": [
    "Double-click here and it will open a \"markdown cell.\" Feel free to edit this and write your answers in here rather than in a commented code cell.\n",
    "\n",
    "**Optional Note:** If you want to write any math symbols, you can put them inside dollar signs. For example, Y = 2X looks better as $Y = 2X$. If you want to write beta0 or beta1, you write that as $\\beta_0$ and $\\beta_1$, respectively. **You don't need to typeset your math in this way** - but those of you familiar with LaTeX or Microsoft Word Equation Editor may be comfortable with this."
   ]
  },
  {
   "cell_type": "markdown",
   "metadata": {},
   "source": [
    "##### Problem 5: Build a function that will take in lists Y and X, where Y and X both contain quantitative data, and returns the estimates of $\\beta_0$ and $\\beta_1$ that minimize SSE. Test your function on price and the variable you determined was best in Problem 4. Report the slope and Y-intercept."
   ]
  },
  {
   "cell_type": "code",
   "execution_count": null,
   "metadata": {
    "collapsed": true
   },
   "outputs": [],
   "source": []
  },
  {
   "cell_type": "markdown",
   "metadata": {},
   "source": [
    "##### Problem 6: Interpret the Y-intercept. Does it make sense to interpret the Y-intercept here?"
   ]
  },
  {
   "cell_type": "markdown",
   "metadata": {
    "collapsed": true
   },
   "source": [
    "Double-click here and it will open a \"markdown cell.\" Feel free to edit this and write your answers in here rather than in a commented code cell.\n",
    "\n",
    "**Optional Note:** If you want to write any math symbols, you can put them inside dollar signs. For example, Y = 2X looks better as $Y = 2X$. If you want to write beta0 or beta1, you write that as $\\beta_0$ and $\\beta_1$, respectively. **You don't need to typeset your math in this way** - but those of you familiar with LaTeX or Microsoft Word Equation Editor may be comfortable with this."
   ]
  },
  {
   "cell_type": "markdown",
   "metadata": {},
   "source": [
    "##### Problem 7: Give an example of how this model could be used for prediction and how this model could be used for inference. Be sure to make it clear which example is associated with prediction and which is associated with inference."
   ]
  },
  {
   "cell_type": "markdown",
   "metadata": {
    "collapsed": true
   },
   "source": [
    "Double-click here and it will open a \"markdown cell.\" Feel free to edit this and write your answers in here rather than in a commented code cell.\n",
    "\n",
    "**Optional Note:** If you want to write any math symbols, you can put them inside dollar signs. For example, Y = 2X looks better as $Y = 2X$. If you want to write beta0 or beta1, you write that as $\\beta_0$ and $\\beta_1$, respectively. **You don't need to typeset your math in this way** - but those of you familiar with LaTeX or Microsoft Word Equation Editor may be comfortable with this."
   ]
  },
  {
   "cell_type": "markdown",
   "metadata": {},
   "source": [
    "##### Bonus: Using the model you came up with in Problem 5, calculate and plot the residuals."
   ]
  },
  {
   "cell_type": "code",
   "execution_count": null,
   "metadata": {
    "collapsed": true
   },
   "outputs": [],
   "source": []
  }
 ],
 "metadata": {
  "anaconda-cloud": {},
  "kernelspec": {
   "display_name": "Python 2",
   "language": "python",
   "name": "python2"
  },
  "language_info": {
   "codemirror_mode": {
    "name": "ipython",
    "version": 2
   },
   "file_extension": ".py",
   "mimetype": "text/x-python",
   "name": "python",
   "nbconvert_exporter": "python",
   "pygments_lexer": "ipython2",
   "version": "2.7.13"
  }
 },
 "nbformat": 4,
 "nbformat_minor": 1
}
