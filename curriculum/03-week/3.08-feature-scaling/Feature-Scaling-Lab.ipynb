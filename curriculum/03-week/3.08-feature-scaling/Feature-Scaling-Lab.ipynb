{
 "cells": [
  {
   "cell_type": "markdown",
   "metadata": {},
   "source": [
    "#### 1. Import the Wine dataset"
   ]
  },
  {
   "cell_type": "code",
   "execution_count": 1,
   "metadata": {
    "collapsed": false
   },
   "outputs": [],
   "source": [
    "import pandas as pd\n",
    "wine = pd.read_csv(\"data/wine.csv\")"
   ]
  },
  {
   "cell_type": "code",
   "execution_count": 2,
   "metadata": {
    "collapsed": true
   },
   "outputs": [],
   "source": [
    "import matplotlib.pyplot as plt\n",
    "import seaborn as sns\n",
    "\n",
    "%matplotlib inline"
   ]
  },
  {
   "cell_type": "markdown",
   "metadata": {},
   "source": [
    "#### 2. Do an exploratory analysis and pick at least two variables that are measured differently or have a widely different range of values.\n",
    "We are going to use these variables to try to predict the wine quality.\n",
    "    - Explain why you think scaling will have an impact on these variables.\n",
    "    - Report any interesting observations that resulted from your EDA"
   ]
  },
  {
   "cell_type": "code",
   "execution_count": 3,
   "metadata": {
    "collapsed": false,
    "scrolled": true
   },
   "outputs": [
    {
     "data": {
      "text/html": [
       "<div>\n",
       "<table border=\"1\" class=\"dataframe\">\n",
       "  <thead>\n",
       "    <tr style=\"text-align: right;\">\n",
       "      <th></th>\n",
       "      <th>fixed acidity</th>\n",
       "      <th>volatile acidity</th>\n",
       "      <th>citric acid</th>\n",
       "      <th>residual sugar</th>\n",
       "      <th>chlorides</th>\n",
       "      <th>free sulfur dioxide</th>\n",
       "      <th>total sulfur dioxide</th>\n",
       "      <th>density</th>\n",
       "      <th>pH</th>\n",
       "      <th>sulphates</th>\n",
       "      <th>alcohol</th>\n",
       "      <th>quality</th>\n",
       "    </tr>\n",
       "  </thead>\n",
       "  <tbody>\n",
       "    <tr>\n",
       "      <th>count</th>\n",
       "      <td>1599.000000</td>\n",
       "      <td>1599.000000</td>\n",
       "      <td>1599.000000</td>\n",
       "      <td>1599.000000</td>\n",
       "      <td>1599.000000</td>\n",
       "      <td>1599.000000</td>\n",
       "      <td>1599.000000</td>\n",
       "      <td>1599.000000</td>\n",
       "      <td>1599.000000</td>\n",
       "      <td>1599.000000</td>\n",
       "      <td>1599.000000</td>\n",
       "      <td>1599.000000</td>\n",
       "    </tr>\n",
       "    <tr>\n",
       "      <th>mean</th>\n",
       "      <td>8.319637</td>\n",
       "      <td>0.527821</td>\n",
       "      <td>0.270976</td>\n",
       "      <td>2.538806</td>\n",
       "      <td>0.087467</td>\n",
       "      <td>15.874922</td>\n",
       "      <td>46.467792</td>\n",
       "      <td>0.996747</td>\n",
       "      <td>3.311113</td>\n",
       "      <td>0.658149</td>\n",
       "      <td>10.422983</td>\n",
       "      <td>5.636023</td>\n",
       "    </tr>\n",
       "    <tr>\n",
       "      <th>std</th>\n",
       "      <td>1.741096</td>\n",
       "      <td>0.179060</td>\n",
       "      <td>0.194801</td>\n",
       "      <td>1.409928</td>\n",
       "      <td>0.047065</td>\n",
       "      <td>10.460157</td>\n",
       "      <td>32.895324</td>\n",
       "      <td>0.001887</td>\n",
       "      <td>0.154386</td>\n",
       "      <td>0.169507</td>\n",
       "      <td>1.065668</td>\n",
       "      <td>0.807569</td>\n",
       "    </tr>\n",
       "    <tr>\n",
       "      <th>min</th>\n",
       "      <td>4.600000</td>\n",
       "      <td>0.120000</td>\n",
       "      <td>0.000000</td>\n",
       "      <td>0.900000</td>\n",
       "      <td>0.012000</td>\n",
       "      <td>1.000000</td>\n",
       "      <td>6.000000</td>\n",
       "      <td>0.990070</td>\n",
       "      <td>2.740000</td>\n",
       "      <td>0.330000</td>\n",
       "      <td>8.400000</td>\n",
       "      <td>3.000000</td>\n",
       "    </tr>\n",
       "    <tr>\n",
       "      <th>25%</th>\n",
       "      <td>7.100000</td>\n",
       "      <td>0.390000</td>\n",
       "      <td>0.090000</td>\n",
       "      <td>1.900000</td>\n",
       "      <td>0.070000</td>\n",
       "      <td>7.000000</td>\n",
       "      <td>22.000000</td>\n",
       "      <td>0.995600</td>\n",
       "      <td>3.210000</td>\n",
       "      <td>0.550000</td>\n",
       "      <td>9.500000</td>\n",
       "      <td>5.000000</td>\n",
       "    </tr>\n",
       "    <tr>\n",
       "      <th>50%</th>\n",
       "      <td>7.900000</td>\n",
       "      <td>0.520000</td>\n",
       "      <td>0.260000</td>\n",
       "      <td>2.200000</td>\n",
       "      <td>0.079000</td>\n",
       "      <td>14.000000</td>\n",
       "      <td>38.000000</td>\n",
       "      <td>0.996750</td>\n",
       "      <td>3.310000</td>\n",
       "      <td>0.620000</td>\n",
       "      <td>10.200000</td>\n",
       "      <td>6.000000</td>\n",
       "    </tr>\n",
       "    <tr>\n",
       "      <th>75%</th>\n",
       "      <td>9.200000</td>\n",
       "      <td>0.640000</td>\n",
       "      <td>0.420000</td>\n",
       "      <td>2.600000</td>\n",
       "      <td>0.090000</td>\n",
       "      <td>21.000000</td>\n",
       "      <td>62.000000</td>\n",
       "      <td>0.997835</td>\n",
       "      <td>3.400000</td>\n",
       "      <td>0.730000</td>\n",
       "      <td>11.100000</td>\n",
       "      <td>6.000000</td>\n",
       "    </tr>\n",
       "    <tr>\n",
       "      <th>max</th>\n",
       "      <td>15.900000</td>\n",
       "      <td>1.580000</td>\n",
       "      <td>1.000000</td>\n",
       "      <td>15.500000</td>\n",
       "      <td>0.611000</td>\n",
       "      <td>72.000000</td>\n",
       "      <td>289.000000</td>\n",
       "      <td>1.003690</td>\n",
       "      <td>4.010000</td>\n",
       "      <td>2.000000</td>\n",
       "      <td>14.900000</td>\n",
       "      <td>8.000000</td>\n",
       "    </tr>\n",
       "  </tbody>\n",
       "</table>\n",
       "</div>"
      ],
      "text/plain": [
       "       fixed acidity  volatile acidity  citric acid  residual sugar  \\\n",
       "count    1599.000000       1599.000000  1599.000000     1599.000000   \n",
       "mean        8.319637          0.527821     0.270976        2.538806   \n",
       "std         1.741096          0.179060     0.194801        1.409928   \n",
       "min         4.600000          0.120000     0.000000        0.900000   \n",
       "25%         7.100000          0.390000     0.090000        1.900000   \n",
       "50%         7.900000          0.520000     0.260000        2.200000   \n",
       "75%         9.200000          0.640000     0.420000        2.600000   \n",
       "max        15.900000          1.580000     1.000000       15.500000   \n",
       "\n",
       "         chlorides  free sulfur dioxide  total sulfur dioxide      density  \\\n",
       "count  1599.000000          1599.000000           1599.000000  1599.000000   \n",
       "mean      0.087467            15.874922             46.467792     0.996747   \n",
       "std       0.047065            10.460157             32.895324     0.001887   \n",
       "min       0.012000             1.000000              6.000000     0.990070   \n",
       "25%       0.070000             7.000000             22.000000     0.995600   \n",
       "50%       0.079000            14.000000             38.000000     0.996750   \n",
       "75%       0.090000            21.000000             62.000000     0.997835   \n",
       "max       0.611000            72.000000            289.000000     1.003690   \n",
       "\n",
       "                pH    sulphates      alcohol      quality  \n",
       "count  1599.000000  1599.000000  1599.000000  1599.000000  \n",
       "mean      3.311113     0.658149    10.422983     5.636023  \n",
       "std       0.154386     0.169507     1.065668     0.807569  \n",
       "min       2.740000     0.330000     8.400000     3.000000  \n",
       "25%       3.210000     0.550000     9.500000     5.000000  \n",
       "50%       3.310000     0.620000    10.200000     6.000000  \n",
       "75%       3.400000     0.730000    11.100000     6.000000  \n",
       "max       4.010000     2.000000    14.900000     8.000000  "
      ]
     },
     "execution_count": 3,
     "metadata": {},
     "output_type": "execute_result"
    }
   ],
   "source": [
    "# Dataset descriptive stats\n",
    "wine.describe()"
   ]
  },
  {
   "cell_type": "code",
   "execution_count": 4,
   "metadata": {
    "collapsed": false
   },
   "outputs": [
    {
     "data": {
      "text/html": [
       "<div>\n",
       "<table border=\"1\" class=\"dataframe\">\n",
       "  <thead>\n",
       "    <tr style=\"text-align: right;\">\n",
       "      <th></th>\n",
       "      <th>fixed acidity</th>\n",
       "      <th>volatile acidity</th>\n",
       "      <th>citric acid</th>\n",
       "      <th>residual sugar</th>\n",
       "      <th>chlorides</th>\n",
       "      <th>free sulfur dioxide</th>\n",
       "      <th>total sulfur dioxide</th>\n",
       "      <th>density</th>\n",
       "      <th>pH</th>\n",
       "      <th>sulphates</th>\n",
       "      <th>alcohol</th>\n",
       "      <th>quality</th>\n",
       "    </tr>\n",
       "  </thead>\n",
       "  <tbody>\n",
       "    <tr>\n",
       "      <th>fixed acidity</th>\n",
       "      <td>1.000000</td>\n",
       "      <td>-0.256131</td>\n",
       "      <td>0.671703</td>\n",
       "      <td>0.114777</td>\n",
       "      <td>0.093705</td>\n",
       "      <td>-0.153794</td>\n",
       "      <td>-0.113181</td>\n",
       "      <td>0.668047</td>\n",
       "      <td>-0.682978</td>\n",
       "      <td>0.183006</td>\n",
       "      <td>-0.061668</td>\n",
       "      <td>0.124052</td>\n",
       "    </tr>\n",
       "    <tr>\n",
       "      <th>volatile acidity</th>\n",
       "      <td>-0.256131</td>\n",
       "      <td>1.000000</td>\n",
       "      <td>-0.552496</td>\n",
       "      <td>0.001918</td>\n",
       "      <td>0.061298</td>\n",
       "      <td>-0.010504</td>\n",
       "      <td>0.076470</td>\n",
       "      <td>0.022026</td>\n",
       "      <td>0.234937</td>\n",
       "      <td>-0.260987</td>\n",
       "      <td>-0.202288</td>\n",
       "      <td>-0.390558</td>\n",
       "    </tr>\n",
       "    <tr>\n",
       "      <th>citric acid</th>\n",
       "      <td>0.671703</td>\n",
       "      <td>-0.552496</td>\n",
       "      <td>1.000000</td>\n",
       "      <td>0.143577</td>\n",
       "      <td>0.203823</td>\n",
       "      <td>-0.060978</td>\n",
       "      <td>0.035533</td>\n",
       "      <td>0.364947</td>\n",
       "      <td>-0.541904</td>\n",
       "      <td>0.312770</td>\n",
       "      <td>0.109903</td>\n",
       "      <td>0.226373</td>\n",
       "    </tr>\n",
       "    <tr>\n",
       "      <th>residual sugar</th>\n",
       "      <td>0.114777</td>\n",
       "      <td>0.001918</td>\n",
       "      <td>0.143577</td>\n",
       "      <td>1.000000</td>\n",
       "      <td>0.055610</td>\n",
       "      <td>0.187049</td>\n",
       "      <td>0.203028</td>\n",
       "      <td>0.355283</td>\n",
       "      <td>-0.085652</td>\n",
       "      <td>0.005527</td>\n",
       "      <td>0.042075</td>\n",
       "      <td>0.013732</td>\n",
       "    </tr>\n",
       "    <tr>\n",
       "      <th>chlorides</th>\n",
       "      <td>0.093705</td>\n",
       "      <td>0.061298</td>\n",
       "      <td>0.203823</td>\n",
       "      <td>0.055610</td>\n",
       "      <td>1.000000</td>\n",
       "      <td>0.005562</td>\n",
       "      <td>0.047400</td>\n",
       "      <td>0.200632</td>\n",
       "      <td>-0.265026</td>\n",
       "      <td>0.371260</td>\n",
       "      <td>-0.221141</td>\n",
       "      <td>-0.128907</td>\n",
       "    </tr>\n",
       "    <tr>\n",
       "      <th>free sulfur dioxide</th>\n",
       "      <td>-0.153794</td>\n",
       "      <td>-0.010504</td>\n",
       "      <td>-0.060978</td>\n",
       "      <td>0.187049</td>\n",
       "      <td>0.005562</td>\n",
       "      <td>1.000000</td>\n",
       "      <td>0.667666</td>\n",
       "      <td>-0.021946</td>\n",
       "      <td>0.070377</td>\n",
       "      <td>0.051658</td>\n",
       "      <td>-0.069408</td>\n",
       "      <td>-0.050656</td>\n",
       "    </tr>\n",
       "    <tr>\n",
       "      <th>total sulfur dioxide</th>\n",
       "      <td>-0.113181</td>\n",
       "      <td>0.076470</td>\n",
       "      <td>0.035533</td>\n",
       "      <td>0.203028</td>\n",
       "      <td>0.047400</td>\n",
       "      <td>0.667666</td>\n",
       "      <td>1.000000</td>\n",
       "      <td>0.071269</td>\n",
       "      <td>-0.066495</td>\n",
       "      <td>0.042947</td>\n",
       "      <td>-0.205654</td>\n",
       "      <td>-0.185100</td>\n",
       "    </tr>\n",
       "    <tr>\n",
       "      <th>density</th>\n",
       "      <td>0.668047</td>\n",
       "      <td>0.022026</td>\n",
       "      <td>0.364947</td>\n",
       "      <td>0.355283</td>\n",
       "      <td>0.200632</td>\n",
       "      <td>-0.021946</td>\n",
       "      <td>0.071269</td>\n",
       "      <td>1.000000</td>\n",
       "      <td>-0.341699</td>\n",
       "      <td>0.148506</td>\n",
       "      <td>-0.496180</td>\n",
       "      <td>-0.174919</td>\n",
       "    </tr>\n",
       "    <tr>\n",
       "      <th>pH</th>\n",
       "      <td>-0.682978</td>\n",
       "      <td>0.234937</td>\n",
       "      <td>-0.541904</td>\n",
       "      <td>-0.085652</td>\n",
       "      <td>-0.265026</td>\n",
       "      <td>0.070377</td>\n",
       "      <td>-0.066495</td>\n",
       "      <td>-0.341699</td>\n",
       "      <td>1.000000</td>\n",
       "      <td>-0.196648</td>\n",
       "      <td>0.205633</td>\n",
       "      <td>-0.057731</td>\n",
       "    </tr>\n",
       "    <tr>\n",
       "      <th>sulphates</th>\n",
       "      <td>0.183006</td>\n",
       "      <td>-0.260987</td>\n",
       "      <td>0.312770</td>\n",
       "      <td>0.005527</td>\n",
       "      <td>0.371260</td>\n",
       "      <td>0.051658</td>\n",
       "      <td>0.042947</td>\n",
       "      <td>0.148506</td>\n",
       "      <td>-0.196648</td>\n",
       "      <td>1.000000</td>\n",
       "      <td>0.093595</td>\n",
       "      <td>0.251397</td>\n",
       "    </tr>\n",
       "    <tr>\n",
       "      <th>alcohol</th>\n",
       "      <td>-0.061668</td>\n",
       "      <td>-0.202288</td>\n",
       "      <td>0.109903</td>\n",
       "      <td>0.042075</td>\n",
       "      <td>-0.221141</td>\n",
       "      <td>-0.069408</td>\n",
       "      <td>-0.205654</td>\n",
       "      <td>-0.496180</td>\n",
       "      <td>0.205633</td>\n",
       "      <td>0.093595</td>\n",
       "      <td>1.000000</td>\n",
       "      <td>0.476166</td>\n",
       "    </tr>\n",
       "    <tr>\n",
       "      <th>quality</th>\n",
       "      <td>0.124052</td>\n",
       "      <td>-0.390558</td>\n",
       "      <td>0.226373</td>\n",
       "      <td>0.013732</td>\n",
       "      <td>-0.128907</td>\n",
       "      <td>-0.050656</td>\n",
       "      <td>-0.185100</td>\n",
       "      <td>-0.174919</td>\n",
       "      <td>-0.057731</td>\n",
       "      <td>0.251397</td>\n",
       "      <td>0.476166</td>\n",
       "      <td>1.000000</td>\n",
       "    </tr>\n",
       "  </tbody>\n",
       "</table>\n",
       "</div>"
      ],
      "text/plain": [
       "                      fixed acidity  volatile acidity  citric acid  \\\n",
       "fixed acidity              1.000000         -0.256131     0.671703   \n",
       "volatile acidity          -0.256131          1.000000    -0.552496   \n",
       "citric acid                0.671703         -0.552496     1.000000   \n",
       "residual sugar             0.114777          0.001918     0.143577   \n",
       "chlorides                  0.093705          0.061298     0.203823   \n",
       "free sulfur dioxide       -0.153794         -0.010504    -0.060978   \n",
       "total sulfur dioxide      -0.113181          0.076470     0.035533   \n",
       "density                    0.668047          0.022026     0.364947   \n",
       "pH                        -0.682978          0.234937    -0.541904   \n",
       "sulphates                  0.183006         -0.260987     0.312770   \n",
       "alcohol                   -0.061668         -0.202288     0.109903   \n",
       "quality                    0.124052         -0.390558     0.226373   \n",
       "\n",
       "                      residual sugar  chlorides  free sulfur dioxide  \\\n",
       "fixed acidity               0.114777   0.093705            -0.153794   \n",
       "volatile acidity            0.001918   0.061298            -0.010504   \n",
       "citric acid                 0.143577   0.203823            -0.060978   \n",
       "residual sugar              1.000000   0.055610             0.187049   \n",
       "chlorides                   0.055610   1.000000             0.005562   \n",
       "free sulfur dioxide         0.187049   0.005562             1.000000   \n",
       "total sulfur dioxide        0.203028   0.047400             0.667666   \n",
       "density                     0.355283   0.200632            -0.021946   \n",
       "pH                         -0.085652  -0.265026             0.070377   \n",
       "sulphates                   0.005527   0.371260             0.051658   \n",
       "alcohol                     0.042075  -0.221141            -0.069408   \n",
       "quality                     0.013732  -0.128907            -0.050656   \n",
       "\n",
       "                      total sulfur dioxide   density        pH  sulphates  \\\n",
       "fixed acidity                    -0.113181  0.668047 -0.682978   0.183006   \n",
       "volatile acidity                  0.076470  0.022026  0.234937  -0.260987   \n",
       "citric acid                       0.035533  0.364947 -0.541904   0.312770   \n",
       "residual sugar                    0.203028  0.355283 -0.085652   0.005527   \n",
       "chlorides                         0.047400  0.200632 -0.265026   0.371260   \n",
       "free sulfur dioxide               0.667666 -0.021946  0.070377   0.051658   \n",
       "total sulfur dioxide              1.000000  0.071269 -0.066495   0.042947   \n",
       "density                           0.071269  1.000000 -0.341699   0.148506   \n",
       "pH                               -0.066495 -0.341699  1.000000  -0.196648   \n",
       "sulphates                         0.042947  0.148506 -0.196648   1.000000   \n",
       "alcohol                          -0.205654 -0.496180  0.205633   0.093595   \n",
       "quality                          -0.185100 -0.174919 -0.057731   0.251397   \n",
       "\n",
       "                       alcohol   quality  \n",
       "fixed acidity        -0.061668  0.124052  \n",
       "volatile acidity     -0.202288 -0.390558  \n",
       "citric acid           0.109903  0.226373  \n",
       "residual sugar        0.042075  0.013732  \n",
       "chlorides            -0.221141 -0.128907  \n",
       "free sulfur dioxide  -0.069408 -0.050656  \n",
       "total sulfur dioxide -0.205654 -0.185100  \n",
       "density              -0.496180 -0.174919  \n",
       "pH                    0.205633 -0.057731  \n",
       "sulphates             0.093595  0.251397  \n",
       "alcohol               1.000000  0.476166  \n",
       "quality               0.476166  1.000000  "
      ]
     },
     "execution_count": 4,
     "metadata": {},
     "output_type": "execute_result"
    }
   ],
   "source": [
    "#look at how different features correlate with others\n",
    "wine.corr()"
   ]
  },
  {
   "cell_type": "markdown",
   "metadata": {},
   "source": [
    "#### 3. Use Train Test Split to split your data.\n",
    "#### - Create a Multi-Linear Regression and fit it with the UNSCALED x_train & y_train data.\n",
    "#### - Call predict using your fitted model on your x_test data.\n",
    "#### - Plot the residuals of your y_test and y_pred\n",
    "#### - Observe the Summary Statistics.  \n",
    "TIP: In order to maintain uniformity of your splits specify random_state"
   ]
  },
  {
   "cell_type": "code",
   "execution_count": 5,
   "metadata": {
    "collapsed": false
   },
   "outputs": [],
   "source": [
    "import numpy as np\n",
    "from scipy import stats\n",
    "from sklearn import datasets, linear_model\n",
    "from sklearn.model_selection import train_test_split\n",
    "from sklearn.metrics import r2_score"
   ]
  },
  {
   "cell_type": "code",
   "execution_count": 6,
   "metadata": {
    "collapsed": false
   },
   "outputs": [],
   "source": [
    "X = wine[['residual sugar', 'alcohol']]\n",
    "y = wine[['density']]"
   ]
  },
  {
   "cell_type": "code",
   "execution_count": 7,
   "metadata": {
    "collapsed": false
   },
   "outputs": [
    {
     "name": "stdout",
     "output_type": "stream",
     "text": [
      "(1071, 2) (1071, 1)\n",
      "(528, 2) (528, 1)\n"
     ]
    }
   ],
   "source": [
    "X_train, X_test, y_train, y_test = train_test_split(X, y, test_size=0.33, random_state=5)\n",
    "print X_train.shape, y_train.shape\n",
    "print X_test.shape, y_test.shape"
   ]
  },
  {
   "cell_type": "code",
<<<<<<< HEAD
   "execution_count": 9,
=======
   "execution_count": 8,
>>>>>>> 5c1a524389df89cd3d8ed82d745ccee55e532811
   "metadata": {
    "collapsed": false,
    "scrolled": true
   },
   "outputs": [
    {
     "name": "stdout",
     "output_type": "stream",
     "text": [
      "Score: 0.413774570357\n",
      "Score: 0.413774570357\n"
     ]
    },
    {
     "data": {
      "image/png": "iVBORw0KGgoAAAANSUhEUgAAAYoAAAEFCAYAAAD9mKAdAAAABHNCSVQICAgIfAhkiAAAAAlwSFlz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\nG7GodBE0jWHLAAAAAElFTkSuQmCC\n",
      "text/plain": [
<<<<<<< HEAD
       "<matplotlib.figure.Figure at 0x1133d2d50>"
=======
       "<matplotlib.figure.Figure at 0x11dc28dd0>"
>>>>>>> 5c1a524389df89cd3d8ed82d745ccee55e532811
      ]
     },
     "metadata": {},
     "output_type": "display_data"
    }
   ],
   "source": [
    "lm = linear_model.LinearRegression()\n",
    "\n",
    "model = lm.fit(X_train, y_train)\n",
    "#call predict on model \n",
    "predictions = lm.predict(X_test)\n",
    "\n",
    "plt.scatter(y_test, predictions, c=\"g\")\n",
    "plt.xlabel(\"True Values\")\n",
    "plt.ylabel(\"Predictions\")\n",
    "\n",
    "print \"Score:\", r2_score(y_test, predictions)  ## how well predictions do against true\n",
    "print \"Score:\", model.score(X_test, y_test) ## does exactly the same thing\n"
   ]
  },
  {
   "cell_type": "markdown",
   "metadata": {},
   "source": [
    "#### 4. Scale your two+ selected features using a Min-Max Scaler."
   ]
  },
  {
   "cell_type": "code",
<<<<<<< HEAD
   "execution_count": 11,
=======
   "execution_count": 21,
>>>>>>> 5c1a524389df89cd3d8ed82d745ccee55e532811
   "metadata": {
    "collapsed": false
   },
   "outputs": [],
   "source": [
    "# importing the min-max scaler from sklearn\n",
    "from sklearn.preprocessing import MinMaxScaler\n",
    "\n",
    "# setting scaler\n",
    "MMS = MinMaxScaler()\n",
    "\n",
    "# fit/transforming the data using the scaler\n",
<<<<<<< HEAD
    "x_scaled = MMS.fit_transform(df)\n"
=======
    "x_scaled = MMS.fit_transform(X)"
>>>>>>> 5c1a524389df89cd3d8ed82d745ccee55e532811
   ]
  },
  {
   "cell_type": "code",
<<<<<<< HEAD
   "execution_count": 13,
=======
   "execution_count": 19,
>>>>>>> 5c1a524389df89cd3d8ed82d745ccee55e532811
   "metadata": {
    "collapsed": false
   },
   "outputs": [],
   "source": [
<<<<<<< HEAD
    "x_fit = MMS.fit(df)"
=======
    "x_scaled = MMS.fit(X)"
   ]
  },
  {
   "cell_type": "code",
   "execution_count": 22,
   "metadata": {
    "collapsed": false
   },
   "outputs": [
    {
     "data": {
      "text/plain": [
       "array([[ 0.06849315,  0.15384615],\n",
       "       [ 0.11643836,  0.21538462],\n",
       "       [ 0.09589041,  0.21538462],\n",
       "       ..., \n",
       "       [ 0.09589041,  0.4       ],\n",
       "       [ 0.07534247,  0.27692308],\n",
       "       [ 0.18493151,  0.4       ]])"
      ]
     },
     "execution_count": 22,
     "metadata": {},
     "output_type": "execute_result"
    }
   ],
   "source": [
    "x_scaled"
>>>>>>> 5c1a524389df89cd3d8ed82d745ccee55e532811
   ]
  },
  {
   "cell_type": "code",
   "execution_count": null,
   "metadata": {
    "collapsed": true
   },
   "outputs": [],
   "source": []
  },
  {
   "cell_type": "markdown",
   "metadata": {},
   "source": [
    "#### 5. Use Train Test Split to split your data.\n",
    "#### - Create a Multi-Linear Regression and fit it with the SCALED x_train & y_train data.\n",
    "#### - Call predict using your fitted model on your x_test data.\n",
    "#### - Plot the residuals of your y_test and y_pred\n",
    "#### - Observe the Summary Statistics.  "
   ]
  },
  {
   "cell_type": "code",
<<<<<<< HEAD
   "execution_count": 14,
=======
   "execution_count": 23,
>>>>>>> 5c1a524389df89cd3d8ed82d745ccee55e532811
   "metadata": {
    "collapsed": true
   },
   "outputs": [],
   "source": [
    "x_train2, x_test2, y_train2, y_test2 = train_test_split(x_scaled, y, random_state = 51)"
   ]
  },
  {
   "cell_type": "code",
   "execution_count": 15,
   "metadata": {
    "collapsed": false
   },
   "outputs": [
    {
     "name": "stdout",
     "output_type": "stream",
     "text": [
      "0.454519557276\n"
     ]
    },
    {
     "data": {
      "text/plain": [
<<<<<<< HEAD
       "<matplotlib.collections.PathCollection at 0x116122250>"
=======
       "<matplotlib.collections.PathCollection at 0x120905d90>"
>>>>>>> 5c1a524389df89cd3d8ed82d745ccee55e532811
      ]
     },
     "execution_count": 15,
     "metadata": {},
     "output_type": "execute_result"
    },
    {
     "data": {
      "image/png": "iVBORw0KGgoAAAANSUhEUgAAAXwAAAD3CAYAAAAe5+9lAAAABHNCSVQICAgIfAhkiAAAAAlwSFlz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\n",
      "text/plain": [
<<<<<<< HEAD
       "<matplotlib.figure.Figure at 0x115fe9ad0>"
=======
       "<matplotlib.figure.Figure at 0x1206d2350>"
>>>>>>> 5c1a524389df89cd3d8ed82d745ccee55e532811
      ]
     },
     "metadata": {},
     "output_type": "display_data"
    }
   ],
   "source": [
    "LR2 = linear_model.LinearRegression()\n",
    "# fit model\n",
    "LR2f = LR2.fit(x_train2, y_train2)\n",
    "# use model to predict y using x\n",
    "y_pred2_2 = LR2f.predict(x_test2)\n",
    "# compare y true and y pred\n",
    "print r2_score(y_test2, y_pred2_2)\n",
    "plt.scatter(x = y_test2, y = y_pred2_2)"
   ]
  },
  {
   "cell_type": "markdown",
   "metadata": {},
   "source": [
    "#### 6. Repeat Step 4 using standardization to scale your data. "
   ]
  },
  {
   "cell_type": "code",
<<<<<<< HEAD
   "execution_count": 16,
=======
   "execution_count": 26,
>>>>>>> 5c1a524389df89cd3d8ed82d745ccee55e532811
   "metadata": {
    "collapsed": false
   },
   "outputs": [],
   "source": [
    "from sklearn.preprocessing import StandardScaler\n",
    "SS = StandardScaler()\n",
    "x_scale2 = SS.fit_transform(X)"
   ]
  },
  {
   "cell_type": "markdown",
   "metadata": {},
   "source": [
    "#### 7. Repeat Step 5 using standardization to scale your data. "
   ]
  },
  {
   "cell_type": "code",
<<<<<<< HEAD
   "execution_count": 17,
=======
   "execution_count": 27,
>>>>>>> 5c1a524389df89cd3d8ed82d745ccee55e532811
   "metadata": {
    "collapsed": false
   },
   "outputs": [],
   "source": [
    "# tts standardized data\n",
    "x_train3, x_test3, y_train3, y_test3 = train_test_split(x_scale2, y, random_state = 51)"
   ]
  },
  {
   "cell_type": "code",
   "execution_count": 18,
   "metadata": {
    "collapsed": false
   },
   "outputs": [
    {
     "name": "stdout",
     "output_type": "stream",
     "text": [
      "0.454519557276\n"
     ]
    },
    {
     "data": {
      "text/plain": [
<<<<<<< HEAD
       "<matplotlib.collections.PathCollection at 0x115d205d0>"
=======
       "<matplotlib.collections.PathCollection at 0x120921690>"
>>>>>>> 5c1a524389df89cd3d8ed82d745ccee55e532811
      ]
     },
     "execution_count": 18,
     "metadata": {},
     "output_type": "execute_result"
    },
    {
     "data": {
      "image/png": "iVBORw0KGgoAAAANSUhEUgAAAXwAAAD3CAYAAAAe5+9lAAAABHNCSVQICAgIfAhkiAAAAAlwSFlz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\n",
      "text/plain": [
<<<<<<< HEAD
       "<matplotlib.figure.Figure at 0x1160ba690>"
=======
       "<matplotlib.figure.Figure at 0x1205a8410>"
>>>>>>> 5c1a524389df89cd3d8ed82d745ccee55e532811
      ]
     },
     "metadata": {},
     "output_type": "display_data"
    }
   ],
   "source": [
    "LR3 = linear_model.LinearRegression()\n",
    "# fit lr model\n",
    "LR3f = LR3.fit(x_train3, y_train3)\n",
    "# use fit lr model to predict y using x test\n",
    "y_pred3_2 = LR3f.predict(x_test3)\n",
    "# score model comparing y true vs y pred\n",
    "print r2_score(y_test3, y_pred3_2)\n",
    "plt.scatter(x = y_test3, y = y_pred3_2)"
   ]
  },
  {
   "cell_type": "markdown",
   "metadata": {},
   "source": [
    "### Sebastian Raschka's example"
   ]
  },
  {
   "cell_type": "code",
<<<<<<< HEAD
   "execution_count": 19,
=======
   "execution_count": 29,
>>>>>>> 5c1a524389df89cd3d8ed82d745ccee55e532811
   "metadata": {
    "collapsed": false
   },
   "outputs": [
    {
     "data": {
      "text/html": [
       "<div>\n",
       "<table border=\"1\" class=\"dataframe\">\n",
       "  <thead>\n",
       "    <tr style=\"text-align: right;\">\n",
       "      <th></th>\n",
       "      <th>Class label</th>\n",
       "      <th>Alcohol</th>\n",
       "      <th>Malic acid</th>\n",
       "    </tr>\n",
       "  </thead>\n",
       "  <tbody>\n",
       "    <tr>\n",
       "      <th>0</th>\n",
       "      <td>1</td>\n",
       "      <td>14.23</td>\n",
       "      <td>1.71</td>\n",
       "    </tr>\n",
       "    <tr>\n",
       "      <th>1</th>\n",
       "      <td>1</td>\n",
       "      <td>13.20</td>\n",
       "      <td>1.78</td>\n",
       "    </tr>\n",
       "    <tr>\n",
       "      <th>2</th>\n",
       "      <td>1</td>\n",
       "      <td>13.16</td>\n",
       "      <td>2.36</td>\n",
       "    </tr>\n",
       "    <tr>\n",
       "      <th>3</th>\n",
       "      <td>1</td>\n",
       "      <td>14.37</td>\n",
       "      <td>1.95</td>\n",
       "    </tr>\n",
       "    <tr>\n",
       "      <th>4</th>\n",
       "      <td>1</td>\n",
       "      <td>13.24</td>\n",
       "      <td>2.59</td>\n",
       "    </tr>\n",
       "  </tbody>\n",
       "</table>\n",
       "</div>"
      ],
      "text/plain": [
       "   Class label  Alcohol  Malic acid\n",
       "0            1    14.23        1.71\n",
       "1            1    13.20        1.78\n",
       "2            1    13.16        2.36\n",
       "3            1    14.37        1.95\n",
       "4            1    13.24        2.59"
      ]
     },
<<<<<<< HEAD
     "execution_count": 19,
=======
     "execution_count": 29,
>>>>>>> 5c1a524389df89cd3d8ed82d745ccee55e532811
     "metadata": {},
     "output_type": "execute_result"
    }
   ],
   "source": [
    "df = pd.read_csv(\n",
    "    'https://raw.githubusercontent.com/rasbt/pattern_classification/master/data/wine_data.csv',\n",
    "     header=None,\n",
    "     usecols=[0,1,2]\n",
    "    )\n",
    "\n",
    "df.columns=['Class label', 'Alcohol', 'Malic acid']\n",
    "\n",
    "df.head()"
   ]
  },
  {
   "cell_type": "code",
<<<<<<< HEAD
   "execution_count": 20,
=======
   "execution_count": 30,
>>>>>>> 5c1a524389df89cd3d8ed82d745ccee55e532811
   "metadata": {
    "collapsed": false
   },
   "outputs": [
    {
     "data": {
      "text/plain": [
       "2    71\n",
       "1    59\n",
       "3    48\n",
       "Name: Class label, dtype: int64"
      ]
     },
<<<<<<< HEAD
     "execution_count": 20,
=======
     "execution_count": 30,
>>>>>>> 5c1a524389df89cd3d8ed82d745ccee55e532811
     "metadata": {},
     "output_type": "execute_result"
    }
   ],
   "source": [
    "df['Class label'].value_counts()"
   ]
  },
  {
   "cell_type": "code",
<<<<<<< HEAD
   "execution_count": 25,
=======
   "execution_count": 31,
>>>>>>> 5c1a524389df89cd3d8ed82d745ccee55e532811
   "metadata": {
    "collapsed": false
   },
   "outputs": [],
   "source": [
    "# std_scale = StandardScaler().fit(df[['Alcohol', 'Malic acid']]) #find parameters of the data\n",
    "# df_std = std_scale.transform(df[['Alcohol', 'Malic acid']]) #apply parameters to the data\n",
    "\n",
    "df_std = SS.fit_transform(df[['Alcohol', 'Malic acid']])\n",
    "\n",
    "# >>>\n",
    "alc_fit_transform = SS.fit_transform(df[['Alcohol', 'Malic acid']])\n",
    "\n",
    "minmax_scale = MinMaxScaler().fit(df[['Alcohol', 'Malic acid']])\n",
    "df_minmax = minmax_scale.transform(df[['Alcohol', 'Malic acid']])\n",
    "\n"
   ]
  },
  {
   "cell_type": "code",
<<<<<<< HEAD
   "execution_count": 26,
=======
   "execution_count": 32,
>>>>>>> 5c1a524389df89cd3d8ed82d745ccee55e532811
   "metadata": {
    "collapsed": false
   },
   "outputs": [
    {
     "name": "stdout",
     "output_type": "stream",
     "text": [
      "Mean after standardization:\n",
      "Alcohol=-0.00, Malic acid=-0.00\n",
      "\n",
      "Standard deviation after standardization:\n",
      "Alcohol=1.00, Malic acid=1.00\n"
     ]
    }
   ],
   "source": [
    "print('Mean after standardization:\\nAlcohol={:.2f}, Malic acid={:.2f}'\n",
    "      .format(df_std[:,0].mean(), df_std[:,1].mean()))\n",
    "\n",
    "\n",
    "\n",
    "print('\\nStandard deviation after standardization:\\nAlcohol={:.2f}, Malic acid={:.2f}'\n",
    "      .format(df_std[:,0].std(), df_std[:,1].std()))\n"
   ]
  },
  {
   "cell_type": "code",
<<<<<<< HEAD
   "execution_count": 27,
=======
   "execution_count": 33,
>>>>>>> 5c1a524389df89cd3d8ed82d745ccee55e532811
   "metadata": {
    "collapsed": false
   },
   "outputs": [
    {
     "name": "stdout",
     "output_type": "stream",
     "text": [
      "Min-value after min-max scaling:\n",
      "Alcohol=0.00, Malic acid=0.00\n",
      "\n",
      "Max-value after min-max scaling:\n",
      "Alcohol=1.00, Malic acid=1.00\n"
     ]
    }
   ],
   "source": [
    "print('Min-value after min-max scaling:\\nAlcohol={:.2f}, Malic acid={:.2f}'\n",
    "      .format(df_minmax[:,0].min(), df_minmax[:,1].min()))\n",
    "print('\\nMax-value after min-max scaling:\\nAlcohol={:.2f}, Malic acid={:.2f}'\n",
    "      .format(df_minmax[:,0].max(), df_minmax[:,1].max()))\n"
   ]
  },
  {
   "cell_type": "code",
<<<<<<< HEAD
   "execution_count": 24,
=======
   "execution_count": 34,
>>>>>>> 5c1a524389df89cd3d8ed82d745ccee55e532811
   "metadata": {
    "collapsed": false
   },
   "outputs": [
    {
     "data": {
      "image/png": "iVBORw0KGgoAAAANSUhEUgAAAjgAAAGoCAYAAABL+58oAAAABHNCSVQICAgIfAhkiAAAAAlwSFlz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\nUYAjIiIihfP/PCdxB7CPTIwAAAAASUVORK5CYII=\n",
      "text/plain": [
<<<<<<< HEAD
       "<matplotlib.figure.Figure at 0x115c9f650>"
=======
       "<matplotlib.figure.Figure at 0x120093090>"
>>>>>>> 5c1a524389df89cd3d8ed82d745ccee55e532811
      ]
     },
     "metadata": {},
     "output_type": "display_data"
    }
   ],
   "source": [
    "def plot():\n",
    "    plt.figure(figsize=(8,6))\n",
    "\n",
    "    plt.scatter(df['Alcohol'], df['Malic acid'],\n",
    "            color='green', label='input scale', alpha=0.5)\n",
    "\n",
    "    plt.scatter(df_std[:,0], df_std[:,1], color='red',\n",
    "            label='Standardized scaled', alpha=0.3)\n",
    "\n",
    "    plt.scatter(df_minmax[:,0], df_minmax[:,1],\n",
    "            color='blue', label='min-max scaled [min=0, max=1]', alpha=0.3)\n",
    "\n",
    "    plt.title('Alcohol and Malic Acid content of the wine dataset')\n",
    "    plt.xlabel('Alcohol')\n",
    "    plt.ylabel('Malic Acid')\n",
    "    plt.legend(loc='upper left')\n",
    "    plt.grid()\n",
    "\n",
    "    plt.tight_layout()\n",
    "\n",
    "plot()\n",
    "plt.show()"
   ]
  },
  {
   "cell_type": "code",
<<<<<<< HEAD
   "execution_count": 28,
=======
   "execution_count": 35,
>>>>>>> 5c1a524389df89cd3d8ed82d745ccee55e532811
   "metadata": {
    "collapsed": false
   },
   "outputs": [
    {
     "data": {
      "image/png": "iVBORw0KGgoAAAANSUhEUgAAAagAAAPoCAYAAACLdWqFAAAABHNCSVQICAgIfAhkiAAAAAlwSFlz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\nN2s6AAAAAElFTkSuQmCC\n",
      "text/plain": [
<<<<<<< HEAD
       "<matplotlib.figure.Figure at 0x11618db10>"
=======
       "<matplotlib.figure.Figure at 0x120073d50>"
>>>>>>> 5c1a524389df89cd3d8ed82d745ccee55e532811
      ]
     },
     "metadata": {},
     "output_type": "display_data"
    }
   ],
   "source": [
    "#focus on the scales for these plots\n",
    "fig, ax = plt.subplots(3, figsize=(6,14))\n",
    "\n",
    "\n",
    "for a,d,l in zip(range(len(ax)),\n",
    "               (df[['Alcohol', 'Malic acid']].values, df_std, df_minmax),\n",
    "               ('Input scale',\n",
    "                'Standardized scaled',\n",
    "                'min-max scaled [min=0, max=1]')\n",
    "                ):\n",
    "    for i,c in zip(range(1,4), ('red', 'blue', 'green')):\n",
    "        ax[a].scatter(d[df['Class label'].values == i, 0],\n",
    "                  d[df['Class label'].values == i, 1],\n",
    "                  alpha=0.5,\n",
    "                  color=c,\n",
    "                  label='Class %s' %i\n",
    "                  )\n",
    "    ax[a].set_title(l)\n",
    "    ax[a].set_xlabel('Alcohol')\n",
    "    ax[a].set_ylabel('Malic Acid')\n",
    "    ax[a].legend(loc='upper left')\n",
    "    ax[a].grid()\n",
    "\n",
    "plt.tight_layout()\n",
    "\n",
    "plt.show()"
   ]
  },
  {
   "cell_type": "code",
   "execution_count": null,
   "metadata": {
    "collapsed": true
   },
   "outputs": [],
   "source": []
  }
 ],
 "metadata": {
  "anaconda-cloud": {},
  "kernelspec": {
   "display_name": "Python 2",
   "language": "python",
   "name": "python2"
  },
  "language_info": {
   "codemirror_mode": {
    "name": "ipython",
    "version": 2
   },
   "file_extension": ".py",
   "mimetype": "text/x-python",
   "name": "python",
   "nbconvert_exporter": "python",
   "pygments_lexer": "ipython2",
   "version": "2.7.13"
  }
 },
 "nbformat": 4,
 "nbformat_minor": 1
}
