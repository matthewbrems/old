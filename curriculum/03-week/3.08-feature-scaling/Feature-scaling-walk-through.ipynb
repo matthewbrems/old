{
 "cells": [
  {
   "cell_type": "code",
   "execution_count": 1,
   "metadata": {
    "collapsed": true
   },
   "outputs": [],
   "source": [
    "import numpy as np"
   ]
  },
  {
   "cell_type": "code",
   "execution_count": 2,
   "metadata": {
    "collapsed": true
   },
   "outputs": [],
   "source": [
    "num_list = [5, 100, 22, 7, 32, 70000, 825000]"
   ]
  },
  {
   "cell_type": "code",
   "execution_count": 3,
   "metadata": {
    "collapsed": true
   },
   "outputs": [],
   "source": [
    "def standard(num_list):\n",
    "    new_list = []\n",
    "    for i in num_list:\n",
    "        standardized_numbers = (i - np.mean(num_list))/np.std(num_list)\n",
    "        new_list.append(standardized_numbers)\n",
    "    return new_list"
   ]
  },
  {
   "cell_type": "code",
   "execution_count": 4,
   "metadata": {
    "collapsed": false
   },
   "outputs": [
    {
     "data": {
      "text/plain": [
       "[-0.44771366661651074,\n",
       " -0.44738105654234289,\n",
       " -0.44765414691902811,\n",
       " -0.44770666429915984,\n",
       " -0.44761913533227354,\n",
       " -0.20265006512828312,\n",
       " 2.4407247348375982]"
      ]
     },
     "execution_count": 4,
     "metadata": {},
     "output_type": "execute_result"
    }
   ],
   "source": [
    "standard(num_list)"
   ]
  },
  {
   "cell_type": "code",
   "execution_count": 5,
   "metadata": {
    "collapsed": true
   },
   "outputs": [],
   "source": [
    "def min_max(num_list):\n",
    "    new_list = []\n",
    "    for i in num_list:\n",
    "        minmax_nums = float(i - min(num_list))/(max(num_list) - min(num_list))\n",
    "        new_list.append(minmax_nums)\n",
    "    return new_list"
   ]
  },
  {
   "cell_type": "code",
   "execution_count": 6,
   "metadata": {
    "collapsed": false
   },
   "outputs": [
    {
     "data": {
      "text/plain": [
       "[0.0,\n",
       " 0.00011515221304371541,\n",
       " 2.0606185492033285e-05,\n",
       " 2.424257116709798e-06,\n",
       " 3.2727471075582277e-05,\n",
       " 0.08484293844205117,\n",
       " 1.0]"
      ]
     },
     "execution_count": 6,
     "metadata": {},
     "output_type": "execute_result"
    }
   ],
   "source": [
    "min_max(num_list)"
   ]
  },
  {
   "cell_type": "markdown",
   "metadata": {},
   "source": [
    "## Further reading:\n",
    "\n",
    "[sklearn documentation](http://scikit-learn.org/stable/modules/classes.html#module-sklearn.preprocessing)  \n",
    "[sklearn min-max scaler](http://scikit-learn.org/stable/modules/generated/sklearn.preprocessing.MinMaxScaler.html#sklearn.preprocessing.MinMaxScaler)  \n",
    "[sklearn standard scaler](http://scikit-learn.org/stable/modules/generated/sklearn.preprocessing.StandardScaler.html#sklearn.preprocessing.StandardScaler)  \n",
    "[sklearn source code](https://github.com/scikit-learn/scikit-learn/blob/master/sklearn/preprocessing/data.py)  "
   ]
  },
  {
   "cell_type": "code",
   "execution_count": null,
   "metadata": {
    "collapsed": true
   },
   "outputs": [],
   "source": []
  }
 ],
 "metadata": {
  "anaconda-cloud": {},
  "kernelspec": {
   "display_name": "Python [conda root]",
   "language": "python",
   "name": "conda-root-py"
  },
  "language_info": {
   "codemirror_mode": {
    "name": "ipython",
    "version": 2
   },
   "file_extension": ".py",
   "mimetype": "text/x-python",
   "name": "python",
   "nbconvert_exporter": "python",
   "pygments_lexer": "ipython2",
   "version": "2.7.13"
  }
 },
 "nbformat": 4,
 "nbformat_minor": 1
}
