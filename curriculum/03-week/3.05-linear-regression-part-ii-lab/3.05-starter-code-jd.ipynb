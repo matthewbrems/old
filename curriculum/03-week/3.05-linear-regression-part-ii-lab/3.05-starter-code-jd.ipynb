{
 "cells": [
  {
   "cell_type": "markdown",
   "metadata": {},
   "source": [
    "##### Problem 1. Use the same data as earlier. Build the best MLR model you can. Why do you think yours is best? Make sure you support your choice with plots, written explanation, etc. Include at least three variables, at least one of which should be a dummy variable."
   ]
  },
  {
   "cell_type": "code",
   "execution_count": 9,
   "metadata": {
    "collapsed": false
   },
   "outputs": [],
   "source": [
    "import pandas as pd\n",
    "import matplotlib.pyplot as plt\n",
    "import scipy as sc\n",
    "import numpy as np\n",
    "# display plots in the notebook\n",
    "%matplotlib inline\n",
    "\n",
    "housing_data = pd.read_csv('../3.03-linear-regression-part-i-lab/data/sacramento_housing_data.csv')\n",
    "housing_data['state'] = ['CA' for state in housing_data['state']]\n",
    "housing_data = housing_data[(housing_data.price > 0) & (housing_data.sq__ft) > 0]\n",
    "\n",
    "df = pd.DataFrame(housing_data)"
   ]
  },
  {
   "cell_type": "code",
   "execution_count": 24,
   "metadata": {
    "collapsed": false
   },
   "outputs": [
    {
     "data": {
      "text/html": [
       "<table class=\"simpletable\">\n",
       "<caption>OLS Regression Results</caption>\n",
       "<tr>\n",
       "  <th>Dep. Variable:</th>          <td>price</td>      <th>  R-squared:         </th> <td>   0.612</td>\n",
       "</tr>\n",
       "<tr>\n",
       "  <th>Model:</th>                   <td>OLS</td>       <th>  Adj. R-squared:    </th> <td>   0.607</td>\n",
       "</tr>\n",
       "<tr>\n",
       "  <th>Method:</th>             <td>Least Squares</td>  <th>  F-statistic:       </th> <td>   123.6</td>\n",
       "</tr>\n",
       "<tr>\n",
       "  <th>Date:</th>             <td>Tue, 21 Mar 2017</td> <th>  Prob (F-statistic):</th> <td>3.30e-63</td>\n",
       "</tr>\n",
       "<tr>\n",
       "  <th>Time:</th>                 <td>20:57:14</td>     <th>  Log-Likelihood:    </th> <td> -4020.3</td>\n",
       "</tr>\n",
       "<tr>\n",
       "  <th>No. Observations:</th>      <td>   319</td>      <th>  AIC:               </th> <td>   8051.</td>\n",
       "</tr>\n",
       "<tr>\n",
       "  <th>Df Residuals:</th>          <td>   314</td>      <th>  BIC:               </th> <td>   8069.</td>\n",
       "</tr>\n",
       "<tr>\n",
       "  <th>Df Model:</th>              <td>     4</td>      <th>                     </th>     <td> </td>   \n",
       "</tr>\n",
       "<tr>\n",
       "  <th>Covariance Type:</th>      <td>nonrobust</td>    <th>                     </th>     <td> </td>   \n",
       "</tr>\n",
       "</table>\n",
       "<table class=\"simpletable\">\n",
       "<tr>\n",
       "      <td></td>         <th>coef</th>     <th>std err</th>      <th>t</th>      <th>P>|t|</th> <th>[95.0% Conf. Int.]</th> \n",
       "</tr>\n",
       "<tr>\n",
       "  <th>const</th>     <td> 2.354e+07</td> <td> 5.75e+06</td> <td>    4.091</td> <td> 0.000</td> <td> 1.22e+07  3.49e+07</td>\n",
       "</tr>\n",
       "<tr>\n",
       "  <th>sq__ft</th>    <td>  124.2188</td> <td>    6.561</td> <td>   18.931</td> <td> 0.000</td> <td>  111.309   137.129</td>\n",
       "</tr>\n",
       "<tr>\n",
       "  <th>longitude</th> <td> 2.117e+05</td> <td> 4.11e+04</td> <td>    5.155</td> <td> 0.000</td> <td> 1.31e+05  2.92e+05</td>\n",
       "</tr>\n",
       "<tr>\n",
       "  <th>latitude</th>  <td> 5.532e+04</td> <td> 3.69e+04</td> <td>    1.500</td> <td> 0.135</td> <td>-1.72e+04  1.28e+05</td>\n",
       "</tr>\n",
       "<tr>\n",
       "  <th>dummy</th>     <td> 6.662e+04</td> <td> 1.74e+04</td> <td>    3.820</td> <td> 0.000</td> <td> 3.23e+04  1.01e+05</td>\n",
       "</tr>\n",
       "</table>\n",
       "<table class=\"simpletable\">\n",
       "<tr>\n",
       "  <th>Omnibus:</th>       <td>73.948</td> <th>  Durbin-Watson:     </th> <td>   1.324</td>\n",
       "</tr>\n",
       "<tr>\n",
       "  <th>Prob(Omnibus):</th> <td> 0.000</td> <th>  Jarque-Bera (JB):  </th> <td> 152.246</td>\n",
       "</tr>\n",
       "<tr>\n",
       "  <th>Skew:</th>          <td> 1.188</td> <th>  Prob(JB):          </th> <td>8.72e-34</td>\n",
       "</tr>\n",
       "<tr>\n",
       "  <th>Kurtosis:</th>      <td> 5.409</td> <th>  Cond. No.          </th> <td>2.51e+06</td>\n",
       "</tr>\n",
       "</table>"
      ],
      "text/plain": [
       "<class 'statsmodels.iolib.summary.Summary'>\n",
       "\"\"\"\n",
       "                            OLS Regression Results                            \n",
       "==============================================================================\n",
       "Dep. Variable:                  price   R-squared:                       0.612\n",
       "Model:                            OLS   Adj. R-squared:                  0.607\n",
       "Method:                 Least Squares   F-statistic:                     123.6\n",
       "Date:                Tue, 21 Mar 2017   Prob (F-statistic):           3.30e-63\n",
       "Time:                        20:57:14   Log-Likelihood:                -4020.3\n",
       "No. Observations:                 319   AIC:                             8051.\n",
       "Df Residuals:                     314   BIC:                             8069.\n",
       "Df Model:                           4                                         \n",
       "Covariance Type:            nonrobust                                         \n",
       "==============================================================================\n",
       "                 coef    std err          t      P>|t|      [95.0% Conf. Int.]\n",
       "------------------------------------------------------------------------------\n",
       "const       2.354e+07   5.75e+06      4.091      0.000      1.22e+07  3.49e+07\n",
       "sq__ft       124.2188      6.561     18.931      0.000       111.309   137.129\n",
       "longitude   2.117e+05   4.11e+04      5.155      0.000      1.31e+05  2.92e+05\n",
       "latitude    5.532e+04   3.69e+04      1.500      0.135     -1.72e+04  1.28e+05\n",
       "dummy       6.662e+04   1.74e+04      3.820      0.000      3.23e+04  1.01e+05\n",
       "==============================================================================\n",
       "Omnibus:                       73.948   Durbin-Watson:                   1.324\n",
       "Prob(Omnibus):                  0.000   Jarque-Bera (JB):              152.246\n",
       "Skew:                           1.188   Prob(JB):                     8.72e-34\n",
       "Kurtosis:                       5.409   Cond. No.                     2.51e+06\n",
       "==============================================================================\n",
       "\n",
       "Warnings:\n",
       "[1] Standard Errors assume that the covariance matrix of the errors is correctly specified.\n",
       "[2] The condition number is large, 2.51e+06. This might indicate that there are\n",
       "strong multicollinearity or other numerical problems.\n",
       "\"\"\""
      ]
     },
     "execution_count": 24,
     "metadata": {},
     "output_type": "execute_result"
    }
   ],
   "source": [
    "import statsmodels.api as sm\n",
    "\n",
    "housing_data['dummy'] = [1 if x=='Residential' else 0 for x in housing_data['type'] ]\n",
    "\n",
    "\n",
    "X = df[['sq__ft','longitude','latitude']] ## lowercase x -- independent variable\n",
    "y = df['price'] ## dependent variable, what we want to predict\n",
    "X = sm.add_constant(X) ## UPPERCASE X -- add an intercept (beta_0) to the model\n",
    "\n",
    "# Note the difference in argument order\n",
    "model = sm.OLS(y, X).fit()  ## OLS = ordinary least squares --> minimize residual sum of squares\n",
    "predictions = model.predict(X)\n",
    "\n",
    "# Print out the statistics\n",
    "model.summary()"
   ]
  },
  {
   "cell_type": "markdown",
   "metadata": {},
   "source": []
  },
  {
   "cell_type": "code",
   "execution_count": 25,
   "metadata": {
    "collapsed": false
   },
   "outputs": [
    {
     "data": {
      "image/png": "[encoded data removed]",
      "text/plain": [
       "<matplotlib.figure.Figure at 0x11a4dbed0>"
      ]
     },
     "metadata": {},
     "output_type": "display_data"
    },
    {
     "name": "stdout",
     "output_type": "stream",
     "text": [
      "MSE: 650201933931.0\n"
     ]
    }
   ],
   "source": [
    "# Plot the model\n",
    "plt.scatter(predictions, y, s=30, c='r', marker='+', zorder=10)\n",
    "plt.xlabel(\"Predicted Values from sq_ft, latitude, & longitude\")\n",
    "plt.ylabel(\"Actual Values Price\")\n",
    "plt.show()\n",
    "print \"MSE:\", model.mse_model"
   ]
  },
  {
   "cell_type": "markdown",
   "metadata": {},
   "source": [
    "##### Problem 3. List the five assumptions for an MLR model. Indicate which ones are the same as the assumptions for an SLR model. "
   ]
  },
  {
   "cell_type": "markdown",
   "metadata": {
    "collapsed": true
   },
   "source": [
    "SLR + MLR:\n",
    "    Linearity\n",
    "    Independence\n",
    "    Normality\n",
    "    Equality of Variances\n",
    "MLR:\n",
    "    Independence pt 2--all 'X' variables must be independent\n",
    "    "
   ]
  },
  {
   "cell_type": "markdown",
   "metadata": {},
   "source": [
    "##### Problem 4. Pick at least two assumptions and articulate whether or not you believe them to be met and why."
   ]
  },
  {
   "cell_type": "code",
   "execution_count": null,
   "metadata": {
    "collapsed": true
   },
   "outputs": [],
   "source": []
  },
  {
   "cell_type": "markdown",
   "metadata": {},
   "source": [
    "##### Problem 5. Interpret the y-intercept and at least two of the independent variables."
   ]
  },
  {
   "cell_type": "code",
   "execution_count": null,
   "metadata": {
    "collapsed": true
   },
   "outputs": [],
   "source": []
  },
  {
   "cell_type": "markdown",
   "metadata": {},
   "source": [
    "##### Problem 6. Generate a table showing the point estimates, standard errors, t-scores, p-values, and 95% confidence intervals for the model you built. Write a few sentences interpreting some of the output.\n",
    "\n",
    "(Hint: scikit-learn does not have this functionality built in, but statsmodels does.)\n"
   ]
  },
  {
   "cell_type": "code",
   "execution_count": null,
   "metadata": {
    "collapsed": true
   },
   "outputs": [],
   "source": []
  },
  {
   "cell_type": "markdown",
   "metadata": {},
   "source": [
    "##### BONUS. You work for a real estate agency. You are asked to prepare an executive summary for your very busy boss highlighting the most important findings from your MLR model. Convey these findings in no more than two paragraphs. Be sure to briefly address any potential shortcomings of your model.\n"
   ]
  },
  {
   "cell_type": "code",
   "execution_count": null,
   "metadata": {
    "collapsed": true
   },
   "outputs": [],
   "source": []
  }
 ],
 "metadata": {
  "anaconda-cloud": {},
  "kernelspec": {
   "display_name": "Python 2",
   "language": "python",
   "name": "python2"
  },
  "language_info": {
   "codemirror_mode": {
    "name": "ipython",
    "version": 2
   },
   "file_extension": ".py",
   "mimetype": "text/x-python",
   "name": "python",
   "nbconvert_exporter": "python",
   "pygments_lexer": "ipython2",
   "version": "2.7.13"
  }
 },
 "nbformat": 4,
 "nbformat_minor": 1
}
