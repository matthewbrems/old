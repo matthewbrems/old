{
 "cells": [
  {
   "cell_type": "markdown",
   "metadata": {},
   "source": [
    "##### Problem 1. Use the same data as earlier. Build the best MLR model you can. Why do you think yours is best? Make sure you support your choice with plots, written explanation, etc. Include at least three variables, at least one of which should be a dummy variable."
   ]
  },
  {
   "cell_type": "code",
   "execution_count": 2,
   "metadata": {
    "collapsed": false
   },
   "outputs": [],
   "source": [
    "import pandas as pd\n",
    "import matplotlib.pyplot as plt\n",
    "import scipy as sc\n",
    "import numpy as np\n",
    "# display plots in the notebook\n",
    "%matplotlib inline\n",
    "\n",
    "housing_data = pd.read_csv('../3.03-linear-regression-part-i-lab/data/sacramento_housing_data.csv')\n",
    "housing_data['state'] = ['CA' for state in housing_data['state']]\n",
    "housing_data = housing_data[(housing_data.price > 0) & (housing_data.sq__ft) > 0]\n",
    "\n",
    "df = pd.DataFrame(housing_data)"
   ]
  },
  {
   "cell_type": "code",
   "execution_count": 4,
   "metadata": {
    "collapsed": false
   },
   "outputs": [],
   "source": [
    "import statsmodels.api as sm\n",
    "## dummies: http://pandas.pydata.org/pandas-docs/version/0.17.0/generated/pandas.get_dummies.html\n",
    "## df.merge\n",
    "housing_data['dummy'] = [1 if x=='Residential' else 0 for x in housing_data['type'] ]\n",
    "\n",
    "\n",
    "X = df[['sq__ft','longitude','latitude']] ## lowercase x -- independent variable\n",
    "y = df['price'] ## dependent variable, what we want to predict\n",
    "X = sm.add_constant(X) ## UPPERCASE X -- add an intercept (beta_0) to the model\n"
   ]
  },
  {
   "cell_type": "markdown",
   "metadata": {},
   "source": [
    "#### 2 Plot the model"
   ]
  },
  {
   "cell_type": "code",
   "execution_count": 3,
   "metadata": {
    "collapsed": false
   },
   "outputs": [
    {
     "data": {
      "image/png": "[encoded data removed]",
      "text/plain": [
       "<matplotlib.figure.Figure at 0x110534ad0>"
      ]
     },
     "metadata": {},
     "output_type": "display_data"
    },
    {
     "name": "stdout",
     "output_type": "stream",
     "text": [
      "MSE: 841341725246.0\n"
     ]
    }
   ],
   "source": [
    "# Plot the model\n",
    "plt.scatter(predictions, y, s=30, c='r', marker='+', zorder=10)\n",
    "plt.xlabel(\"Predicted Values from sq_ft, latitude, & longitude\")\n",
    "plt.ylabel(\"Actual Values Price\")\n",
    "plt.show()\n",
    "print \"MSE:\", model.mse_model"
   ]
  },
  {
   "cell_type": "markdown",
   "metadata": {},
   "source": [
    "##### Problem 3. List the five assumptions for an MLR model. Indicate which ones are the same as the assumptions for an SLR model. "
   ]
  },
  {
   "cell_type": "markdown",
   "metadata": {
    "collapsed": true
   },
   "source": [
    "SLR + MLR:\n",
    "    Linearity\n",
    "    Independence\n",
    "    Normality\n",
    "    Equality of Variances\n",
    "MLR:\n",
    "    Independence pt 2--all 'X' variables must be independent\n",
    "    "
   ]
  },
  {
   "cell_type": "markdown",
   "metadata": {},
   "source": [
    "##### Problem 4. Pick at least two assumptions and articulate whether or not you believe them to be met and why."
   ]
  },
  {
   "cell_type": "markdown",
   "metadata": {
    "collapsed": true
   },
   "source": [
    "Linearity--generally linear (not exactly)\n"
   ]
  },
  {
   "cell_type": "markdown",
   "metadata": {},
   "source": [
    "##### Problem 5. Interpret the y-intercept and at least two of the independent variables."
   ]
  },
  {
   "cell_type": "code",
   "execution_count": null,
   "metadata": {
    "collapsed": true
   },
   "outputs": [],
   "source": []
  },
  {
   "cell_type": "markdown",
   "metadata": {},
   "source": [
    "##### Problem 6. Generate a table showing the point estimates, standard errors, t-scores, p-values, and 95% confidence intervals for the model you built. Write a few sentences interpreting some of the output.\n",
    "\n",
    "(Hint: scikit-learn does not have this functionality built in, but statsmodels does.)\n"
   ]
  },
  {
   "cell_type": "code",
   "execution_count": 5,
   "metadata": {
    "collapsed": false
   },
   "outputs": [
    {
     "data": {
      "text/html": [
       "<table class=\"simpletable\">\n",
       "<caption>OLS Regression Results</caption>\n",
       "<tr>\n",
       "  <th>Dep. Variable:</th>          <td>price</td>      <th>  R-squared:         </th> <td>   0.593</td>\n",
       "</tr>\n",
       "<tr>\n",
       "  <th>Model:</th>                   <td>OLS</td>       <th>  Adj. R-squared:    </th> <td>   0.590</td>\n",
       "</tr>\n",
       "<tr>\n",
       "  <th>Method:</th>             <td>Least Squares</td>  <th>  F-statistic:       </th> <td>   153.3</td>\n",
       "</tr>\n",
       "<tr>\n",
       "  <th>Date:</th>             <td>Wed, 22 Mar 2017</td> <th>  Prob (F-statistic):</th> <td>2.97e-61</td>\n",
       "</tr>\n",
       "<tr>\n",
       "  <th>Time:</th>                 <td>21:04:32</td>     <th>  Log-Likelihood:    </th> <td> -4027.6</td>\n",
       "</tr>\n",
       "<tr>\n",
       "  <th>No. Observations:</th>      <td>   319</td>      <th>  AIC:               </th> <td>   8063.</td>\n",
       "</tr>\n",
       "<tr>\n",
       "  <th>Df Residuals:</th>          <td>   315</td>      <th>  BIC:               </th> <td>   8078.</td>\n",
       "</tr>\n",
       "<tr>\n",
       "  <th>Df Model:</th>              <td>     3</td>      <th>                     </th>     <td> </td>   \n",
       "</tr>\n",
       "<tr>\n",
       "  <th>Covariance Type:</th>      <td>nonrobust</td>    <th>                     </th>     <td> </td>   \n",
       "</tr>\n",
       "</table>\n",
       "<table class=\"simpletable\">\n",
       "<tr>\n",
       "      <td></td>         <th>coef</th>     <th>std err</th>      <th>t</th>      <th>P>|t|</th> <th>[95.0% Conf. Int.]</th> \n",
       "</tr>\n",
       "<tr>\n",
       "  <th>const</th>     <td> 2.164e+07</td> <td> 5.85e+06</td> <td>    3.697</td> <td> 0.000</td> <td> 1.01e+07  3.32e+07</td>\n",
       "</tr>\n",
       "<tr>\n",
       "  <th>sq__ft</th>    <td>  128.2138</td> <td>    6.616</td> <td>   19.380</td> <td> 0.000</td> <td>  115.197   141.231</td>\n",
       "</tr>\n",
       "<tr>\n",
       "  <th>longitude</th> <td> 1.962e+05</td> <td> 4.17e+04</td> <td>    4.701</td> <td> 0.000</td> <td> 1.14e+05  2.78e+05</td>\n",
       "</tr>\n",
       "<tr>\n",
       "  <th>latitude</th>  <td> 5.708e+04</td> <td> 3.77e+04</td> <td>    1.516</td> <td> 0.131</td> <td> -1.7e+04  1.31e+05</td>\n",
       "</tr>\n",
       "</table>\n",
       "<table class=\"simpletable\">\n",
       "<tr>\n",
       "  <th>Omnibus:</th>       <td>70.993</td> <th>  Durbin-Watson:     </th> <td>   1.355</td>\n",
       "</tr>\n",
       "<tr>\n",
       "  <th>Prob(Omnibus):</th> <td> 0.000</td> <th>  Jarque-Bera (JB):  </th> <td> 145.146</td>\n",
       "</tr>\n",
       "<tr>\n",
       "  <th>Skew:</th>          <td> 1.145</td> <th>  Prob(JB):          </th> <td>3.03e-32</td>\n",
       "</tr>\n",
       "<tr>\n",
       "  <th>Kurtosis:</th>      <td> 5.383</td> <th>  Cond. No.          </th> <td>2.50e+06</td>\n",
       "</tr>\n",
       "</table>"
      ],
      "text/plain": [
       "<class 'statsmodels.iolib.summary.Summary'>\n",
       "\"\"\"\n",
       "                            OLS Regression Results                            \n",
       "==============================================================================\n",
       "Dep. Variable:                  price   R-squared:                       0.593\n",
       "Model:                            OLS   Adj. R-squared:                  0.590\n",
       "Method:                 Least Squares   F-statistic:                     153.3\n",
       "Date:                Wed, 22 Mar 2017   Prob (F-statistic):           2.97e-61\n",
       "Time:                        21:04:32   Log-Likelihood:                -4027.6\n",
       "No. Observations:                 319   AIC:                             8063.\n",
       "Df Residuals:                     315   BIC:                             8078.\n",
       "Df Model:                           3                                         \n",
       "Covariance Type:            nonrobust                                         \n",
       "==============================================================================\n",
       "                 coef    std err          t      P>|t|      [95.0% Conf. Int.]\n",
       "------------------------------------------------------------------------------\n",
       "const       2.164e+07   5.85e+06      3.697      0.000      1.01e+07  3.32e+07\n",
       "sq__ft       128.2138      6.616     19.380      0.000       115.197   141.231\n",
       "longitude   1.962e+05   4.17e+04      4.701      0.000      1.14e+05  2.78e+05\n",
       "latitude    5.708e+04   3.77e+04      1.516      0.131      -1.7e+04  1.31e+05\n",
       "==============================================================================\n",
       "Omnibus:                       70.993   Durbin-Watson:                   1.355\n",
       "Prob(Omnibus):                  0.000   Jarque-Bera (JB):              145.146\n",
       "Skew:                           1.145   Prob(JB):                     3.03e-32\n",
       "Kurtosis:                       5.383   Cond. No.                     2.50e+06\n",
       "==============================================================================\n",
       "\n",
       "Warnings:\n",
       "[1] Standard Errors assume that the covariance matrix of the errors is correctly specified.\n",
       "[2] The condition number is large, 2.5e+06. This might indicate that there are\n",
       "strong multicollinearity or other numerical problems.\n",
       "\"\"\""
      ]
     },
     "execution_count": 5,
     "metadata": {},
     "output_type": "execute_result"
    }
   ],
   "source": [
    "\n",
    "# Note the difference in argument order\n",
    "model = sm.OLS(y, X).fit()  ## OLS = ordinary least squares --> minimize residual sum of squares\n",
    "predictions = model.predict(X)\n",
    "\n",
    "# Print out the statistics\n",
    "model.summary()"
   ]
  },
  {
   "cell_type": "markdown",
   "metadata": {},
   "source": [
    "##### BONUS. You work for a real estate agency. You are asked to prepare an executive summary for your very busy boss highlighting the most important findings from your MLR model. Convey these findings in no more than two paragraphs. Be sure to briefly address any potential shortcomings of your model.\n"
   ]
  },
  {
   "cell_type": "code",
   "execution_count": null,
   "metadata": {
    "collapsed": true
   },
   "outputs": [],
   "source": []
  }
 ],
 "metadata": {
  "anaconda-cloud": {},
  "kernelspec": {
   "display_name": "Python 2",
   "language": "python",
   "name": "python2"
  },
  "language_info": {
   "codemirror_mode": {
    "name": "ipython",
    "version": 2
   },
   "file_extension": ".py",
   "mimetype": "text/x-python",
   "name": "python",
   "nbconvert_exporter": "python",
   "pygments_lexer": "ipython2",
   "version": "2.7.13"
  }
 },
 "nbformat": 4,
 "nbformat_minor": 1
}
