{
 "cells": [
  {
   "cell_type": "markdown",
   "metadata": {},
   "source": [
    "##  Why do we PCA?\n",
    "\n",
    "We can use PCA as a preprocessing step or in our modelling phase.  Essentually PCA, or Principal component analysis is an aspect of Dimensionality Reduction.\n",
    "\n",
    "#### Dimensionality Reduction\n",
    "- More easily manage data/visualize data\n",
    "- Identify what is most important\n",
    "\n",
    "**Types of Dimensionality Reduction**\n",
    "- Feature Extraction (PCA)\n",
    "- Feature Elimination \n",
    "\n",
    "**Risks of D.R.**\n",
    "- Underfitting\n",
    "- Losing Information\n",
    "\n",
    "\n",
    "\n",
    "#### Principal Component Analysis\n",
    "- *Identify Independent Features\n",
    "\n",
    "With a PCA we are trying to identify the directions with the highest variability.  \n",
    "\n",
    "- Directions/dimensions with high variability likely indicate Signal (Predictability).\n",
    "- Directions/dimensions with low variability likely indicate noise.\n",
    "\n",
    "These directions will translate to Principal Components later.\n",
    "\n",
    "With a PCA we are trying to identify first **the** Principal Component.\n",
    "Principal components will always be in terms of your original components.\n",
    "\n",
    "Lets think of the first principal component as a line of best fit. Once the First Principal Component(PC1) is established, PC2 is going to be Orthagonal (perpendicular) to PC1\n",
    "\n",
    "An EigenValue tells you how important and Eigenvector is\n",
    "\n",
    "- The EigenPair (EigenValue & EigenVector) that explains the **most** variance is Principal Component 1\n",
    "- The EigenPair (EigenValue & EigenVector) that explains the **second** most variance is Principal Component 2\n",
    "- *and so on and so forth.*\n",
    "\n",
    "Maximum number of Principal Components is equal to your number of features.\n",
    "\n",
    "__PCA Process__\n",
    "- Original Data\n",
    "- Center it (Standardize, center at 0)\n",
    "- Covariance Matrix of the standardized orginial data.\n",
    "- EigenValue/EigenVector\n",
    "- Decide how much explained variance you want in your final model and select the number of Principal Components that are needed to explain said amount of variance.  \n",
    "- Keep the needed EigenValues to explain said variance.  \n",
    "- Go back and Multiply original data by the EigenValues of the Selected Principal Components.\n",
    "\n",
    "PCA works best to find the importance of relationship between various features.  \n",
    "Having a dataset of entirely uncorrelated features will not show much benefit from a PCA."
   ]
  },
  {
   "cell_type": "markdown",
   "metadata": {},
   "source": [
    "#### Some Resources.\n",
    "Georgia Tech PCA Part 1\n",
    "https://www.youtube.com/watch?v=kw9R0nD69OU\n",
    "\n",
    "Georgia Tech PCA Part 2\n",
    "https://www.youtube.com/watch?v=_nZUhV-qhZA\n",
    "\n",
    "Khan Academy: Eigen Everything\n",
    "https://www.khanacademy.org/math/linear-algebra/alternate-bases/eigen-everything/v/linear-algebra-introduction-to-eigenvalues-and-eigenvectors"
   ]
  },
  {
   "cell_type": "markdown",
   "metadata": {},
   "source": [
    "Now, to the lab!\n",
    "\n",
    "*as of right now.  This Lab only covers the Congressional Voting Data problem.*"
   ]
  },
  {
   "cell_type": "code",
   "execution_count": null,
   "metadata": {
    "collapsed": true
   },
   "outputs": [],
   "source": [
    "#as off right now.  This Lab only covers the Congressional Voting Data problem."
   ]
  },
  {
   "cell_type": "code",
   "execution_count": 1,
   "metadata": {
    "collapsed": true
   },
   "outputs": [],
   "source": [
    "import pandas as pd\n",
    "import numpy as np\n",
    "from matplotlib import pyplot as plt\n",
    "import math\n",
    "from sklearn.preprocessing import StandardScaler\n",
    "from sklearn.decomposition import PCA \n",
    "from sklearn import metrics\n",
    "\n",
    "\n",
    "%matplotlib inline\n"
   ]
  },
  {
   "cell_type": "markdown",
   "metadata": {},
   "source": [
    "# Case #1: Congressional Voting Data"
   ]
  },
  {
   "cell_type": "markdown",
   "metadata": {},
   "source": [
    "After you've downloaded the data from the repository, go ahead and load it with Pandas and handle any preprocessing that is may need.\n",
    "\n",
    "I want to make use of the PCA and not just do it, so I am going to set my treshhold of required explained variance to 90%"
   ]
  },
  {
   "cell_type": "code",
   "execution_count": null,
   "metadata": {
    "collapsed": true
   },
   "outputs": [],
   "source": []
  },
  {
   "cell_type": "code",
   "execution_count": 3,
   "metadata": {
    "collapsed": false
   },
   "outputs": [],
   "source": [
    "votes = pd.read_csv('datasets/votes.csv')"
   ]
  },
  {
   "cell_type": "code",
   "execution_count": 4,
   "metadata": {
    "collapsed": false,
    "scrolled": true
   },
   "outputs": [
    {
     "data": {
      "text/html": [
       "<div>\n",
       "<table border=\"1\" class=\"dataframe\">\n",
       "  <thead>\n",
       "    <tr style=\"text-align: right;\">\n",
       "      <th></th>\n",
       "      <th>Class</th>\n",
       "      <th>V1</th>\n",
       "      <th>V2</th>\n",
       "      <th>V3</th>\n",
       "      <th>V4</th>\n",
       "      <th>V5</th>\n",
       "      <th>V6</th>\n",
       "      <th>V7</th>\n",
       "      <th>V8</th>\n",
       "      <th>V9</th>\n",
       "      <th>V10</th>\n",
       "      <th>V11</th>\n",
       "      <th>V12</th>\n",
       "      <th>V13</th>\n",
       "      <th>V14</th>\n",
       "      <th>V15</th>\n",
       "      <th>V16</th>\n",
       "    </tr>\n",
       "  </thead>\n",
       "  <tbody>\n",
       "    <tr>\n",
       "      <th>0</th>\n",
       "      <td>republican</td>\n",
       "      <td>n</td>\n",
       "      <td>y</td>\n",
       "      <td>n</td>\n",
       "      <td>y</td>\n",
       "      <td>y</td>\n",
       "      <td>y</td>\n",
       "      <td>n</td>\n",
       "      <td>n</td>\n",
       "      <td>n</td>\n",
       "      <td>y</td>\n",
       "      <td>NaN</td>\n",
       "      <td>y</td>\n",
       "      <td>y</td>\n",
       "      <td>y</td>\n",
       "      <td>n</td>\n",
       "      <td>y</td>\n",
       "    </tr>\n",
       "    <tr>\n",
       "      <th>1</th>\n",
       "      <td>republican</td>\n",
       "      <td>n</td>\n",
       "      <td>y</td>\n",
       "      <td>n</td>\n",
       "      <td>y</td>\n",
       "      <td>y</td>\n",
       "      <td>y</td>\n",
       "      <td>n</td>\n",
       "      <td>n</td>\n",
       "      <td>n</td>\n",
       "      <td>n</td>\n",
       "      <td>n</td>\n",
       "      <td>y</td>\n",
       "      <td>y</td>\n",
       "      <td>y</td>\n",
       "      <td>n</td>\n",
       "      <td>NaN</td>\n",
       "    </tr>\n",
       "    <tr>\n",
       "      <th>2</th>\n",
       "      <td>democrat</td>\n",
       "      <td>NaN</td>\n",
       "      <td>y</td>\n",
       "      <td>y</td>\n",
       "      <td>NaN</td>\n",
       "      <td>y</td>\n",
       "      <td>y</td>\n",
       "      <td>n</td>\n",
       "      <td>n</td>\n",
       "      <td>n</td>\n",
       "      <td>n</td>\n",
       "      <td>y</td>\n",
       "      <td>n</td>\n",
       "      <td>y</td>\n",
       "      <td>y</td>\n",
       "      <td>n</td>\n",
       "      <td>n</td>\n",
       "    </tr>\n",
       "    <tr>\n",
       "      <th>3</th>\n",
       "      <td>democrat</td>\n",
       "      <td>n</td>\n",
       "      <td>y</td>\n",
       "      <td>y</td>\n",
       "      <td>n</td>\n",
       "      <td>NaN</td>\n",
       "      <td>y</td>\n",
       "      <td>n</td>\n",
       "      <td>n</td>\n",
       "      <td>n</td>\n",
       "      <td>n</td>\n",
       "      <td>y</td>\n",
       "      <td>n</td>\n",
       "      <td>y</td>\n",
       "      <td>n</td>\n",
       "      <td>n</td>\n",
       "      <td>y</td>\n",
       "    </tr>\n",
       "    <tr>\n",
       "      <th>4</th>\n",
       "      <td>democrat</td>\n",
       "      <td>y</td>\n",
       "      <td>y</td>\n",
       "      <td>y</td>\n",
       "      <td>n</td>\n",
       "      <td>y</td>\n",
       "      <td>y</td>\n",
       "      <td>n</td>\n",
       "      <td>n</td>\n",
       "      <td>n</td>\n",
       "      <td>n</td>\n",
       "      <td>y</td>\n",
       "      <td>NaN</td>\n",
       "      <td>y</td>\n",
       "      <td>y</td>\n",
       "      <td>y</td>\n",
       "      <td>y</td>\n",
       "    </tr>\n",
       "  </tbody>\n",
       "</table>\n",
       "</div>"
      ],
      "text/plain": [
       "        Class   V1 V2 V3   V4   V5 V6 V7 V8 V9 V10  V11  V12 V13 V14 V15  V16\n",
       "0  republican    n  y  n    y    y  y  n  n  n   y  NaN    y   y   y   n    y\n",
       "1  republican    n  y  n    y    y  y  n  n  n   n    n    y   y   y   n  NaN\n",
       "2    democrat  NaN  y  y  NaN    y  y  n  n  n   n    y    n   y   y   n    n\n",
       "3    democrat    n  y  y    n  NaN  y  n  n  n   n    y    n   y   n   n    y\n",
       "4    democrat    y  y  y    n    y  y  n  n  n   n    y  NaN   y   y   y    y"
      ]
     },
     "execution_count": 4,
     "metadata": {},
     "output_type": "execute_result"
    }
   ],
   "source": [
    "votes.drop('Unnamed: 0', axis =1, inplace = True)\n",
    "votes.head()\n",
    "# As data is exported with an additional index, the csv stores one which gets importrt\n",
    "# we could use this column as garbage noise if we wanted to."
   ]
  },
  {
   "cell_type": "code",
   "execution_count": 4,
   "metadata": {
    "collapsed": false
   },
   "outputs": [
    {
     "data": {
      "text/plain": [
       "Class    0.000000\n",
       "V1       0.027586\n",
       "V2       0.110345\n",
       "V3       0.025287\n",
       "V4       0.025287\n",
       "V5       0.034483\n",
       "V6       0.025287\n",
       "V7       0.032184\n",
       "V8       0.034483\n",
       "V9       0.050575\n",
       "V10      0.016092\n",
       "V11      0.048276\n",
       "V12      0.071264\n",
       "V13      0.057471\n",
       "V14      0.039080\n",
       "V15      0.064368\n",
       "V16      0.239080\n",
       "dtype: float64"
      ]
     },
     "execution_count": 4,
     "metadata": {},
     "output_type": "execute_result"
    }
   ],
   "source": [
    "votes.isnull().sum()/len(votes)\n",
    "# wooo weee! we got some null values."
   ]
  },
  {
   "cell_type": "code",
   "execution_count": 5,
   "metadata": {
    "collapsed": false
   },
   "outputs": [
    {
     "name": "stdout",
     "output_type": "stream",
     "text": [
      "Class\n",
      "V1\n",
      "V2\n",
      "V3\n",
      "V4\n",
      "V5\n",
      "V6\n",
      "V7\n",
      "V8\n",
      "V9\n",
      "V10\n",
      "V11\n",
      "V12\n",
      "V13\n",
      "V14\n",
      "V15\n",
      "V16\n"
     ]
    }
   ],
   "source": [
    "for item in votes:\n",
    "    print item"
   ]
  },
  {
   "cell_type": "code",
   "execution_count": 6,
   "metadata": {
    "collapsed": false
   },
   "outputs": [
    {
     "name": "stdout",
     "output_type": "stream",
     "text": [
      "Class\n",
      "V1\n",
      "V2\n",
      "V3\n",
      "V4\n",
      "V5\n",
      "V6\n",
      "V7\n",
      "V8\n",
      "V9\n",
      "V10\n",
      "V11\n",
      "V12\n",
      "V13\n",
      "V14\n",
      "V15\n",
      "V16\n"
     ]
    }
   ],
   "source": [
    "# need these to be numerical to run a correlation matrix\n",
    "# replace \"y\" with 1, \"n\" with -1, and null with 0\n",
    "# we also want our Class to get results, and since we only have 2, can convert to binary\n",
    "# let's make 'democrat' = 1\n",
    "\n",
    "# Votemap is like a dictionary of conversion terms.\n",
    "votemap = {'y':1, 'n':-1, 'democrat':1, 'republican':0}\n",
    "\n",
    "# we're going to use this column logic for our mapping function\n",
    "for example in votes:\n",
    "    print example\n",
    "# returns the column names.  Wicked!"
   ]
  },
  {
   "cell_type": "code",
   "execution_count": 7,
   "metadata": {
    "collapsed": true
   },
   "outputs": [],
   "source": [
    "for col in votes:\n",
    "    #with those column names we can index columns and then 'map' our conversion dict to them\n",
    "    votes[col] = votes[col].map(votemap)\n",
    "    \n",
    "#now, to handle all those na values that were left and had not conversion value.\n",
    "votes.fillna(0, inplace=True)"
   ]
  },
  {
   "cell_type": "code",
   "execution_count": 8,
   "metadata": {
    "collapsed": false
   },
   "outputs": [
    {
     "data": {
      "text/html": [
       "<div>\n",
       "<table border=\"1\" class=\"dataframe\">\n",
       "  <thead>\n",
       "    <tr style=\"text-align: right;\">\n",
       "      <th></th>\n",
       "      <th>Class</th>\n",
       "      <th>V1</th>\n",
       "      <th>V2</th>\n",
       "      <th>V3</th>\n",
       "      <th>V4</th>\n",
       "      <th>V5</th>\n",
       "      <th>V6</th>\n",
       "      <th>V7</th>\n",
       "      <th>V8</th>\n",
       "      <th>V9</th>\n",
       "      <th>V10</th>\n",
       "      <th>V11</th>\n",
       "      <th>V12</th>\n",
       "      <th>V13</th>\n",
       "      <th>V14</th>\n",
       "      <th>V15</th>\n",
       "      <th>V16</th>\n",
       "    </tr>\n",
       "  </thead>\n",
       "  <tbody>\n",
       "    <tr>\n",
       "      <th>0</th>\n",
       "      <td>0</td>\n",
       "      <td>-1.0</td>\n",
       "      <td>1.0</td>\n",
       "      <td>-1.0</td>\n",
       "      <td>1.0</td>\n",
       "      <td>1.0</td>\n",
       "      <td>1.0</td>\n",
       "      <td>-1.0</td>\n",
       "      <td>-1.0</td>\n",
       "      <td>-1.0</td>\n",
       "      <td>1.0</td>\n",
       "      <td>0.0</td>\n",
       "      <td>1.0</td>\n",
       "      <td>1.0</td>\n",
       "      <td>1.0</td>\n",
       "      <td>-1.0</td>\n",
       "      <td>1.0</td>\n",
       "    </tr>\n",
       "    <tr>\n",
       "      <th>1</th>\n",
       "      <td>0</td>\n",
       "      <td>-1.0</td>\n",
       "      <td>1.0</td>\n",
       "      <td>-1.0</td>\n",
       "      <td>1.0</td>\n",
       "      <td>1.0</td>\n",
       "      <td>1.0</td>\n",
       "      <td>-1.0</td>\n",
       "      <td>-1.0</td>\n",
       "      <td>-1.0</td>\n",
       "      <td>-1.0</td>\n",
       "      <td>-1.0</td>\n",
       "      <td>1.0</td>\n",
       "      <td>1.0</td>\n",
       "      <td>1.0</td>\n",
       "      <td>-1.0</td>\n",
       "      <td>0.0</td>\n",
       "    </tr>\n",
       "    <tr>\n",
       "      <th>2</th>\n",
       "      <td>1</td>\n",
       "      <td>0.0</td>\n",
       "      <td>1.0</td>\n",
       "      <td>1.0</td>\n",
       "      <td>0.0</td>\n",
       "      <td>1.0</td>\n",
       "      <td>1.0</td>\n",
       "      <td>-1.0</td>\n",
       "      <td>-1.0</td>\n",
       "      <td>-1.0</td>\n",
       "      <td>-1.0</td>\n",
       "      <td>1.0</td>\n",
       "      <td>-1.0</td>\n",
       "      <td>1.0</td>\n",
       "      <td>1.0</td>\n",
       "      <td>-1.0</td>\n",
       "      <td>-1.0</td>\n",
       "    </tr>\n",
       "    <tr>\n",
       "      <th>3</th>\n",
       "      <td>1</td>\n",
       "      <td>-1.0</td>\n",
       "      <td>1.0</td>\n",
       "      <td>1.0</td>\n",
       "      <td>-1.0</td>\n",
       "      <td>0.0</td>\n",
       "      <td>1.0</td>\n",
       "      <td>-1.0</td>\n",
       "      <td>-1.0</td>\n",
       "      <td>-1.0</td>\n",
       "      <td>-1.0</td>\n",
       "      <td>1.0</td>\n",
       "      <td>-1.0</td>\n",
       "      <td>1.0</td>\n",
       "      <td>-1.0</td>\n",
       "      <td>-1.0</td>\n",
       "      <td>1.0</td>\n",
       "    </tr>\n",
       "    <tr>\n",
       "      <th>4</th>\n",
       "      <td>1</td>\n",
       "      <td>1.0</td>\n",
       "      <td>1.0</td>\n",
       "      <td>1.0</td>\n",
       "      <td>-1.0</td>\n",
       "      <td>1.0</td>\n",
       "      <td>1.0</td>\n",
       "      <td>-1.0</td>\n",
       "      <td>-1.0</td>\n",
       "      <td>-1.0</td>\n",
       "      <td>-1.0</td>\n",
       "      <td>1.0</td>\n",
       "      <td>0.0</td>\n",
       "      <td>1.0</td>\n",
       "      <td>1.0</td>\n",
       "      <td>1.0</td>\n",
       "      <td>1.0</td>\n",
       "    </tr>\n",
       "  </tbody>\n",
       "</table>\n",
       "</div>"
      ],
      "text/plain": [
       "   Class   V1   V2   V3   V4   V5   V6   V7   V8   V9  V10  V11  V12  V13  \\\n",
       "0      0 -1.0  1.0 -1.0  1.0  1.0  1.0 -1.0 -1.0 -1.0  1.0  0.0  1.0  1.0   \n",
       "1      0 -1.0  1.0 -1.0  1.0  1.0  1.0 -1.0 -1.0 -1.0 -1.0 -1.0  1.0  1.0   \n",
       "2      1  0.0  1.0  1.0  0.0  1.0  1.0 -1.0 -1.0 -1.0 -1.0  1.0 -1.0  1.0   \n",
       "3      1 -1.0  1.0  1.0 -1.0  0.0  1.0 -1.0 -1.0 -1.0 -1.0  1.0 -1.0  1.0   \n",
       "4      1  1.0  1.0  1.0 -1.0  1.0  1.0 -1.0 -1.0 -1.0 -1.0  1.0  0.0  1.0   \n",
       "\n",
       "   V14  V15  V16  \n",
       "0  1.0 -1.0  1.0  \n",
       "1  1.0 -1.0  0.0  \n",
       "2  1.0 -1.0 -1.0  \n",
       "3 -1.0 -1.0  1.0  \n",
       "4  1.0  1.0  1.0  "
      ]
     },
     "execution_count": 8,
     "metadata": {},
     "output_type": "execute_result"
    }
   ],
   "source": [
    "# what does it look like now.\n",
    "votes.head()"
   ]
  },
  {
   "cell_type": "markdown",
   "metadata": {},
   "source": [
    "Next, let's define the x and y variables: "
   ]
  },
  {
   "cell_type": "code",
   "execution_count": 9,
   "metadata": {
    "collapsed": true
   },
   "outputs": [],
   "source": [
    "X = votes.drop('Class', axis = 1)\n",
    "y = votes.Class"
   ]
  },
  {
   "cell_type": "markdown",
   "metadata": {},
   "source": [
    "The Next step required Standardized values.  Lets just do that now. **There are 2 different methods below.**\n",
    "\n",
    "**Note, this data has already pretty much been standardized because it exists on a standard scale between -1 and 1**"
   ]
  },
  {
   "cell_type": "code",
   "execution_count": null,
   "metadata": {
    "collapsed": false
   },
   "outputs": [],
   "source": [
    "# Method 1: This method will convert directly to a Numpy Matrix\n",
    "x_stand = StandardScaler().fit_transform(X)\n",
    "x_stand"
   ]
  },
  {
   "cell_type": "code",
   "execution_count": null,
   "metadata": {
    "collapsed": true
   },
   "outputs": [],
   "source": [
    "# Method 2: This will modify the values within the dataframe\n",
    "\n",
    "X_2 = (X - X.mean()) / X.std()\n",
    "# isn't it amazing how pandas does this?\n",
    "X_2.head()"
   ]
  },
  {
   "cell_type": "markdown",
   "metadata": {},
   "source": [
    "#### Next, create the covariance matrix from the standardized x-values and decompose these values to find the eigenvalues and eigenvectors"
   ]
  },
  {
   "cell_type": "code",
   "execution_count": 11,
   "metadata": {
    "collapsed": false
   },
   "outputs": [
    {
     "data": {
      "text/html": [
       "<div>\n",
       "<table border=\"1\" class=\"dataframe\">\n",
       "  <thead>\n",
       "    <tr style=\"text-align: right;\">\n",
       "      <th></th>\n",
       "      <th>V1</th>\n",
       "      <th>V2</th>\n",
       "      <th>V3</th>\n",
       "      <th>V4</th>\n",
       "      <th>V5</th>\n",
       "      <th>V6</th>\n",
       "      <th>V7</th>\n",
       "      <th>V8</th>\n",
       "      <th>V9</th>\n",
       "      <th>V10</th>\n",
       "      <th>V11</th>\n",
       "      <th>V12</th>\n",
       "      <th>V13</th>\n",
       "      <th>V14</th>\n",
       "      <th>V15</th>\n",
       "      <th>V16</th>\n",
       "    </tr>\n",
       "  </thead>\n",
       "  <tbody>\n",
       "    <tr>\n",
       "      <th>V1</th>\n",
       "      <td>1.000000</td>\n",
       "      <td>0.023232</td>\n",
       "      <td>0.397680</td>\n",
       "      <td>-0.421307</td>\n",
       "      <td>-0.369100</td>\n",
       "      <td>-0.402215</td>\n",
       "      <td>0.362022</td>\n",
       "      <td>0.399039</td>\n",
       "      <td>0.339840</td>\n",
       "      <td>-0.086469</td>\n",
       "      <td>0.105277</td>\n",
       "      <td>-0.411120</td>\n",
       "      <td>-0.348360</td>\n",
       "      <td>-0.370628</td>\n",
       "      <td>0.201782</td>\n",
       "      <td>0.116570</td>\n",
       "    </tr>\n",
       "    <tr>\n",
       "      <th>V2</th>\n",
       "      <td>0.023232</td>\n",
       "      <td>1.000000</td>\n",
       "      <td>-0.054237</td>\n",
       "      <td>0.076274</td>\n",
       "      <td>0.133882</td>\n",
       "      <td>0.149569</td>\n",
       "      <td>-0.203465</td>\n",
       "      <td>-0.103966</td>\n",
       "      <td>-0.190123</td>\n",
       "      <td>-0.122931</td>\n",
       "      <td>0.188786</td>\n",
       "      <td>-0.019364</td>\n",
       "      <td>0.223338</td>\n",
       "      <td>-0.016535</td>\n",
       "      <td>-0.110940</td>\n",
       "      <td>-0.091440</td>\n",
       "    </tr>\n",
       "    <tr>\n",
       "      <th>V3</th>\n",
       "      <td>0.397680</td>\n",
       "      <td>-0.054237</td>\n",
       "      <td>1.000000</td>\n",
       "      <td>-0.725232</td>\n",
       "      <td>-0.651244</td>\n",
       "      <td>-0.431960</td>\n",
       "      <td>0.579655</td>\n",
       "      <td>0.698150</td>\n",
       "      <td>0.603294</td>\n",
       "      <td>0.022112</td>\n",
       "      <td>0.218328</td>\n",
       "      <td>-0.645382</td>\n",
       "      <td>-0.526661</td>\n",
       "      <td>-0.585085</td>\n",
       "      <td>0.478330</td>\n",
       "      <td>0.311423</td>\n",
       "    </tr>\n",
       "    <tr>\n",
       "      <th>V4</th>\n",
       "      <td>-0.421307</td>\n",
       "      <td>0.076274</td>\n",
       "      <td>-0.725232</td>\n",
       "      <td>1.000000</td>\n",
       "      <td>0.753347</td>\n",
       "      <td>0.476290</td>\n",
       "      <td>-0.580509</td>\n",
       "      <td>-0.694025</td>\n",
       "      <td>-0.639042</td>\n",
       "      <td>0.044360</td>\n",
       "      <td>-0.282151</td>\n",
       "      <td>0.690901</td>\n",
       "      <td>0.593952</td>\n",
       "      <td>0.647853</td>\n",
       "      <td>-0.538417</td>\n",
       "      <td>-0.270164</td>\n",
       "    </tr>\n",
       "    <tr>\n",
       "      <th>V5</th>\n",
       "      <td>-0.369100</td>\n",
       "      <td>0.133882</td>\n",
       "      <td>-0.651244</td>\n",
       "      <td>0.753347</td>\n",
       "      <td>1.000000</td>\n",
       "      <td>0.624175</td>\n",
       "      <td>-0.694744</td>\n",
       "      <td>-0.827431</td>\n",
       "      <td>-0.782799</td>\n",
       "      <td>0.009348</td>\n",
       "      <td>-0.146776</td>\n",
       "      <td>0.634723</td>\n",
       "      <td>0.645797</td>\n",
       "      <td>0.695011</td>\n",
       "      <td>-0.558103</td>\n",
       "      <td>-0.274914</td>\n",
       "    </tr>\n",
       "  </tbody>\n",
       "</table>\n",
       "</div>"
      ],
      "text/plain": [
       "          V1        V2        V3        V4        V5        V6        V7  \\\n",
       "V1  1.000000  0.023232  0.397680 -0.421307 -0.369100 -0.402215  0.362022   \n",
       "V2  0.023232  1.000000 -0.054237  0.076274  0.133882  0.149569 -0.203465   \n",
       "V3  0.397680 -0.054237  1.000000 -0.725232 -0.651244 -0.431960  0.579655   \n",
       "V4 -0.421307  0.076274 -0.725232  1.000000  0.753347  0.476290 -0.580509   \n",
       "V5 -0.369100  0.133882 -0.651244  0.753347  1.000000  0.624175 -0.694744   \n",
       "\n",
       "          V8        V9       V10       V11       V12       V13       V14  \\\n",
       "V1  0.399039  0.339840 -0.086469  0.105277 -0.411120 -0.348360 -0.370628   \n",
       "V2 -0.103966 -0.190123 -0.122931  0.188786 -0.019364  0.223338 -0.016535   \n",
       "V3  0.698150  0.603294  0.022112  0.218328 -0.645382 -0.526661 -0.585085   \n",
       "V4 -0.694025 -0.639042  0.044360 -0.282151  0.690901  0.593952  0.647853   \n",
       "V5 -0.827431 -0.782799  0.009348 -0.146776  0.634723  0.645797  0.695011   \n",
       "\n",
       "         V15       V16  \n",
       "V1  0.201782  0.116570  \n",
       "V2 -0.110940 -0.091440  \n",
       "V3  0.478330  0.311423  \n",
       "V4 -0.538417 -0.270164  \n",
       "V5 -0.558103 -0.274914  "
      ]
     },
     "execution_count": 11,
     "metadata": {},
     "output_type": "execute_result"
    }
   ],
   "source": [
    "X_2CM = X_2.corr()\n",
    "# .corr() is a pandas function that Compute pairwise correlation of columns, excluding NA/null values\n",
    "X_2CM.head()\n",
    "# PCA are eigenvectors of the covariance Matrix."
   ]
  },
  {
   "cell_type": "code",
   "execution_count": 25,
   "metadata": {
    "collapsed": false
   },
   "outputs": [
    {
     "data": {
      "text/html": [
       "<div>\n",
       "<table border=\"1\" class=\"dataframe\">\n",
       "  <thead>\n",
       "    <tr style=\"text-align: right;\">\n",
       "      <th></th>\n",
       "      <th>V1</th>\n",
       "      <th>V2</th>\n",
       "      <th>V3</th>\n",
       "      <th>V4</th>\n",
       "      <th>V5</th>\n",
       "      <th>V6</th>\n",
       "      <th>V7</th>\n",
       "      <th>V8</th>\n",
       "      <th>V9</th>\n",
       "      <th>V10</th>\n",
       "      <th>V11</th>\n",
       "      <th>V12</th>\n",
       "      <th>V13</th>\n",
       "      <th>V14</th>\n",
       "      <th>V15</th>\n",
       "      <th>V16</th>\n",
       "    </tr>\n",
       "  </thead>\n",
       "  <tbody>\n",
       "    <tr>\n",
       "      <th>V1</th>\n",
       "      <td>1.000000</td>\n",
       "      <td>0.023232</td>\n",
       "      <td>0.397680</td>\n",
       "      <td>-0.421307</td>\n",
       "      <td>-0.369100</td>\n",
       "      <td>-0.402215</td>\n",
       "      <td>0.362022</td>\n",
       "      <td>0.399039</td>\n",
       "      <td>0.339840</td>\n",
       "      <td>-0.086469</td>\n",
       "      <td>0.105277</td>\n",
       "      <td>-0.411120</td>\n",
       "      <td>-0.348360</td>\n",
       "      <td>-0.370628</td>\n",
       "      <td>0.201782</td>\n",
       "      <td>0.116570</td>\n",
       "    </tr>\n",
       "    <tr>\n",
       "      <th>V2</th>\n",
       "      <td>0.023232</td>\n",
       "      <td>1.000000</td>\n",
       "      <td>-0.054237</td>\n",
       "      <td>0.076274</td>\n",
       "      <td>0.133882</td>\n",
       "      <td>0.149569</td>\n",
       "      <td>-0.203465</td>\n",
       "      <td>-0.103966</td>\n",
       "      <td>-0.190123</td>\n",
       "      <td>-0.122931</td>\n",
       "      <td>0.188786</td>\n",
       "      <td>-0.019364</td>\n",
       "      <td>0.223338</td>\n",
       "      <td>-0.016535</td>\n",
       "      <td>-0.110940</td>\n",
       "      <td>-0.091440</td>\n",
       "    </tr>\n",
       "    <tr>\n",
       "      <th>V3</th>\n",
       "      <td>0.397680</td>\n",
       "      <td>-0.054237</td>\n",
       "      <td>1.000000</td>\n",
       "      <td>-0.725232</td>\n",
       "      <td>-0.651244</td>\n",
       "      <td>-0.431960</td>\n",
       "      <td>0.579655</td>\n",
       "      <td>0.698150</td>\n",
       "      <td>0.603294</td>\n",
       "      <td>0.022112</td>\n",
       "      <td>0.218328</td>\n",
       "      <td>-0.645382</td>\n",
       "      <td>-0.526661</td>\n",
       "      <td>-0.585085</td>\n",
       "      <td>0.478330</td>\n",
       "      <td>0.311423</td>\n",
       "    </tr>\n",
       "    <tr>\n",
       "      <th>V4</th>\n",
       "      <td>-0.421307</td>\n",
       "      <td>0.076274</td>\n",
       "      <td>-0.725232</td>\n",
       "      <td>1.000000</td>\n",
       "      <td>0.753347</td>\n",
       "      <td>0.476290</td>\n",
       "      <td>-0.580509</td>\n",
       "      <td>-0.694025</td>\n",
       "      <td>-0.639042</td>\n",
       "      <td>0.044360</td>\n",
       "      <td>-0.282151</td>\n",
       "      <td>0.690901</td>\n",
       "      <td>0.593952</td>\n",
       "      <td>0.647853</td>\n",
       "      <td>-0.538417</td>\n",
       "      <td>-0.270164</td>\n",
       "    </tr>\n",
       "    <tr>\n",
       "      <th>V5</th>\n",
       "      <td>-0.369100</td>\n",
       "      <td>0.133882</td>\n",
       "      <td>-0.651244</td>\n",
       "      <td>0.753347</td>\n",
       "      <td>1.000000</td>\n",
       "      <td>0.624175</td>\n",
       "      <td>-0.694744</td>\n",
       "      <td>-0.827431</td>\n",
       "      <td>-0.782799</td>\n",
       "      <td>0.009348</td>\n",
       "      <td>-0.146776</td>\n",
       "      <td>0.634723</td>\n",
       "      <td>0.645797</td>\n",
       "      <td>0.695011</td>\n",
       "      <td>-0.558103</td>\n",
       "      <td>-0.274914</td>\n",
       "    </tr>\n",
       "  </tbody>\n",
       "</table>\n",
       "</div>"
      ],
      "text/plain": [
       "          V1        V2        V3        V4        V5        V6        V7  \\\n",
       "V1  1.000000  0.023232  0.397680 -0.421307 -0.369100 -0.402215  0.362022   \n",
       "V2  0.023232  1.000000 -0.054237  0.076274  0.133882  0.149569 -0.203465   \n",
       "V3  0.397680 -0.054237  1.000000 -0.725232 -0.651244 -0.431960  0.579655   \n",
       "V4 -0.421307  0.076274 -0.725232  1.000000  0.753347  0.476290 -0.580509   \n",
       "V5 -0.369100  0.133882 -0.651244  0.753347  1.000000  0.624175 -0.694744   \n",
       "\n",
       "          V8        V9       V10       V11       V12       V13       V14  \\\n",
       "V1  0.399039  0.339840 -0.086469  0.105277 -0.411120 -0.348360 -0.370628   \n",
       "V2 -0.103966 -0.190123 -0.122931  0.188786 -0.019364  0.223338 -0.016535   \n",
       "V3  0.698150  0.603294  0.022112  0.218328 -0.645382 -0.526661 -0.585085   \n",
       "V4 -0.694025 -0.639042  0.044360 -0.282151  0.690901  0.593952  0.647853   \n",
       "V5 -0.827431 -0.782799  0.009348 -0.146776  0.634723  0.645797  0.695011   \n",
       "\n",
       "         V15       V16  \n",
       "V1  0.201782  0.116570  \n",
       "V2 -0.110940 -0.091440  \n",
       "V3  0.478330  0.311423  \n",
       "V4 -0.538417 -0.270164  \n",
       "V5 -0.558103 -0.274914  "
      ]
     },
     "execution_count": 25,
     "metadata": {},
     "output_type": "execute_result"
    }
   ],
   "source": [
    "# This is the correlation matrix of our variables without being scaled.\n",
    "X_3 = X.corr()\n",
    "X_3.head()"
   ]
  },
  {
   "cell_type": "markdown",
   "metadata": {},
   "source": [
    "While the Correlaiton matrixes of the formally standardized and normal data sets appear to be the same, for some reason python does not see them as equals.  this may be due to their decimol place extension."
   ]
  },
  {
   "cell_type": "code",
   "execution_count": 15,
   "metadata": {
    "collapsed": false
   },
   "outputs": [
    {
     "data": {
      "text/html": [
       "<div>\n",
       "<table border=\"1\" class=\"dataframe\">\n",
       "  <thead>\n",
       "    <tr style=\"text-align: right;\">\n",
       "      <th></th>\n",
       "      <th>V1</th>\n",
       "      <th>V2</th>\n",
       "      <th>V3</th>\n",
       "      <th>V4</th>\n",
       "      <th>V5</th>\n",
       "      <th>V6</th>\n",
       "      <th>V7</th>\n",
       "      <th>V8</th>\n",
       "      <th>V9</th>\n",
       "      <th>V10</th>\n",
       "      <th>V11</th>\n",
       "      <th>V12</th>\n",
       "      <th>V13</th>\n",
       "      <th>V14</th>\n",
       "      <th>V15</th>\n",
       "      <th>V16</th>\n",
       "    </tr>\n",
       "  </thead>\n",
       "  <tbody>\n",
       "    <tr>\n",
       "      <th>V1</th>\n",
       "      <td>True</td>\n",
       "      <td>False</td>\n",
       "      <td>False</td>\n",
       "      <td>False</td>\n",
       "      <td>False</td>\n",
       "      <td>False</td>\n",
       "      <td>False</td>\n",
       "      <td>False</td>\n",
       "      <td>False</td>\n",
       "      <td>False</td>\n",
       "      <td>False</td>\n",
       "      <td>False</td>\n",
       "      <td>False</td>\n",
       "      <td>False</td>\n",
       "      <td>False</td>\n",
       "      <td>False</td>\n",
       "    </tr>\n",
       "    <tr>\n",
       "      <th>V2</th>\n",
       "      <td>False</td>\n",
       "      <td>True</td>\n",
       "      <td>False</td>\n",
       "      <td>False</td>\n",
       "      <td>False</td>\n",
       "      <td>False</td>\n",
       "      <td>False</td>\n",
       "      <td>False</td>\n",
       "      <td>False</td>\n",
       "      <td>False</td>\n",
       "      <td>False</td>\n",
       "      <td>False</td>\n",
       "      <td>False</td>\n",
       "      <td>False</td>\n",
       "      <td>False</td>\n",
       "      <td>False</td>\n",
       "    </tr>\n",
       "    <tr>\n",
       "      <th>V3</th>\n",
       "      <td>False</td>\n",
       "      <td>False</td>\n",
       "      <td>True</td>\n",
       "      <td>False</td>\n",
       "      <td>False</td>\n",
       "      <td>False</td>\n",
       "      <td>False</td>\n",
       "      <td>False</td>\n",
       "      <td>False</td>\n",
       "      <td>False</td>\n",
       "      <td>False</td>\n",
       "      <td>False</td>\n",
       "      <td>False</td>\n",
       "      <td>False</td>\n",
       "      <td>False</td>\n",
       "      <td>False</td>\n",
       "    </tr>\n",
       "    <tr>\n",
       "      <th>V4</th>\n",
       "      <td>False</td>\n",
       "      <td>False</td>\n",
       "      <td>False</td>\n",
       "      <td>True</td>\n",
       "      <td>False</td>\n",
       "      <td>False</td>\n",
       "      <td>False</td>\n",
       "      <td>False</td>\n",
       "      <td>False</td>\n",
       "      <td>False</td>\n",
       "      <td>False</td>\n",
       "      <td>False</td>\n",
       "      <td>False</td>\n",
       "      <td>False</td>\n",
       "      <td>False</td>\n",
       "      <td>False</td>\n",
       "    </tr>\n",
       "    <tr>\n",
       "      <th>V5</th>\n",
       "      <td>False</td>\n",
       "      <td>False</td>\n",
       "      <td>False</td>\n",
       "      <td>False</td>\n",
       "      <td>True</td>\n",
       "      <td>False</td>\n",
       "      <td>True</td>\n",
       "      <td>False</td>\n",
       "      <td>False</td>\n",
       "      <td>False</td>\n",
       "      <td>False</td>\n",
       "      <td>False</td>\n",
       "      <td>False</td>\n",
       "      <td>False</td>\n",
       "      <td>False</td>\n",
       "      <td>False</td>\n",
       "    </tr>\n",
       "    <tr>\n",
       "      <th>V6</th>\n",
       "      <td>False</td>\n",
       "      <td>False</td>\n",
       "      <td>False</td>\n",
       "      <td>False</td>\n",
       "      <td>False</td>\n",
       "      <td>True</td>\n",
       "      <td>True</td>\n",
       "      <td>False</td>\n",
       "      <td>False</td>\n",
       "      <td>False</td>\n",
       "      <td>False</td>\n",
       "      <td>False</td>\n",
       "      <td>False</td>\n",
       "      <td>False</td>\n",
       "      <td>False</td>\n",
       "      <td>False</td>\n",
       "    </tr>\n",
       "    <tr>\n",
       "      <th>V7</th>\n",
       "      <td>False</td>\n",
       "      <td>False</td>\n",
       "      <td>False</td>\n",
       "      <td>False</td>\n",
       "      <td>True</td>\n",
       "      <td>True</td>\n",
       "      <td>True</td>\n",
       "      <td>False</td>\n",
       "      <td>False</td>\n",
       "      <td>False</td>\n",
       "      <td>False</td>\n",
       "      <td>False</td>\n",
       "      <td>False</td>\n",
       "      <td>False</td>\n",
       "      <td>False</td>\n",
       "      <td>False</td>\n",
       "    </tr>\n",
       "    <tr>\n",
       "      <th>V8</th>\n",
       "      <td>False</td>\n",
       "      <td>False</td>\n",
       "      <td>False</td>\n",
       "      <td>False</td>\n",
       "      <td>False</td>\n",
       "      <td>False</td>\n",
       "      <td>False</td>\n",
       "      <td>True</td>\n",
       "      <td>False</td>\n",
       "      <td>False</td>\n",
       "      <td>False</td>\n",
       "      <td>False</td>\n",
       "      <td>False</td>\n",
       "      <td>False</td>\n",
       "      <td>False</td>\n",
       "      <td>False</td>\n",
       "    </tr>\n",
       "    <tr>\n",
       "      <th>V9</th>\n",
       "      <td>False</td>\n",
       "      <td>False</td>\n",
       "      <td>False</td>\n",
       "      <td>False</td>\n",
       "      <td>False</td>\n",
       "      <td>False</td>\n",
       "      <td>False</td>\n",
       "      <td>False</td>\n",
       "      <td>True</td>\n",
       "      <td>False</td>\n",
       "      <td>False</td>\n",
       "      <td>False</td>\n",
       "      <td>False</td>\n",
       "      <td>False</td>\n",
       "      <td>False</td>\n",
       "      <td>False</td>\n",
       "    </tr>\n",
       "    <tr>\n",
       "      <th>V10</th>\n",
       "      <td>False</td>\n",
       "      <td>False</td>\n",
       "      <td>False</td>\n",
       "      <td>False</td>\n",
       "      <td>False</td>\n",
       "      <td>False</td>\n",
       "      <td>False</td>\n",
       "      <td>False</td>\n",
       "      <td>False</td>\n",
       "      <td>True</td>\n",
       "      <td>False</td>\n",
       "      <td>False</td>\n",
       "      <td>False</td>\n",
       "      <td>False</td>\n",
       "      <td>False</td>\n",
       "      <td>False</td>\n",
       "    </tr>\n",
       "    <tr>\n",
       "      <th>V11</th>\n",
       "      <td>False</td>\n",
       "      <td>False</td>\n",
       "      <td>False</td>\n",
       "      <td>False</td>\n",
       "      <td>False</td>\n",
       "      <td>False</td>\n",
       "      <td>False</td>\n",
       "      <td>False</td>\n",
       "      <td>False</td>\n",
       "      <td>False</td>\n",
       "      <td>True</td>\n",
       "      <td>False</td>\n",
       "      <td>False</td>\n",
       "      <td>False</td>\n",
       "      <td>False</td>\n",
       "      <td>False</td>\n",
       "    </tr>\n",
       "    <tr>\n",
       "      <th>V12</th>\n",
       "      <td>False</td>\n",
       "      <td>False</td>\n",
       "      <td>False</td>\n",
       "      <td>False</td>\n",
       "      <td>False</td>\n",
       "      <td>False</td>\n",
       "      <td>False</td>\n",
       "      <td>False</td>\n",
       "      <td>False</td>\n",
       "      <td>False</td>\n",
       "      <td>False</td>\n",
       "      <td>True</td>\n",
       "      <td>False</td>\n",
       "      <td>False</td>\n",
       "      <td>False</td>\n",
       "      <td>False</td>\n",
       "    </tr>\n",
       "    <tr>\n",
       "      <th>V13</th>\n",
       "      <td>False</td>\n",
       "      <td>False</td>\n",
       "      <td>False</td>\n",
       "      <td>False</td>\n",
       "      <td>False</td>\n",
       "      <td>False</td>\n",
       "      <td>False</td>\n",
       "      <td>False</td>\n",
       "      <td>False</td>\n",
       "      <td>False</td>\n",
       "      <td>False</td>\n",
       "      <td>False</td>\n",
       "      <td>True</td>\n",
       "      <td>False</td>\n",
       "      <td>False</td>\n",
       "      <td>False</td>\n",
       "    </tr>\n",
       "    <tr>\n",
       "      <th>V14</th>\n",
       "      <td>False</td>\n",
       "      <td>False</td>\n",
       "      <td>False</td>\n",
       "      <td>False</td>\n",
       "      <td>False</td>\n",
       "      <td>False</td>\n",
       "      <td>False</td>\n",
       "      <td>False</td>\n",
       "      <td>False</td>\n",
       "      <td>False</td>\n",
       "      <td>False</td>\n",
       "      <td>False</td>\n",
       "      <td>False</td>\n",
       "      <td>True</td>\n",
       "      <td>False</td>\n",
       "      <td>False</td>\n",
       "    </tr>\n",
       "    <tr>\n",
       "      <th>V15</th>\n",
       "      <td>False</td>\n",
       "      <td>False</td>\n",
       "      <td>False</td>\n",
       "      <td>False</td>\n",
       "      <td>False</td>\n",
       "      <td>False</td>\n",
       "      <td>False</td>\n",
       "      <td>False</td>\n",
       "      <td>False</td>\n",
       "      <td>False</td>\n",
       "      <td>False</td>\n",
       "      <td>False</td>\n",
       "      <td>False</td>\n",
       "      <td>False</td>\n",
       "      <td>True</td>\n",
       "      <td>False</td>\n",
       "    </tr>\n",
       "    <tr>\n",
       "      <th>V16</th>\n",
       "      <td>False</td>\n",
       "      <td>False</td>\n",
       "      <td>False</td>\n",
       "      <td>False</td>\n",
       "      <td>False</td>\n",
       "      <td>False</td>\n",
       "      <td>False</td>\n",
       "      <td>False</td>\n",
       "      <td>False</td>\n",
       "      <td>False</td>\n",
       "      <td>False</td>\n",
       "      <td>False</td>\n",
       "      <td>False</td>\n",
       "      <td>False</td>\n",
       "      <td>False</td>\n",
       "      <td>True</td>\n",
       "    </tr>\n",
       "  </tbody>\n",
       "</table>\n",
       "</div>"
      ],
      "text/plain": [
       "        V1     V2     V3     V4     V5     V6     V7     V8     V9    V10  \\\n",
       "V1    True  False  False  False  False  False  False  False  False  False   \n",
       "V2   False   True  False  False  False  False  False  False  False  False   \n",
       "V3   False  False   True  False  False  False  False  False  False  False   \n",
       "V4   False  False  False   True  False  False  False  False  False  False   \n",
       "V5   False  False  False  False   True  False   True  False  False  False   \n",
       "V6   False  False  False  False  False   True   True  False  False  False   \n",
       "V7   False  False  False  False   True   True   True  False  False  False   \n",
       "V8   False  False  False  False  False  False  False   True  False  False   \n",
       "V9   False  False  False  False  False  False  False  False   True  False   \n",
       "V10  False  False  False  False  False  False  False  False  False   True   \n",
       "V11  False  False  False  False  False  False  False  False  False  False   \n",
       "V12  False  False  False  False  False  False  False  False  False  False   \n",
       "V13  False  False  False  False  False  False  False  False  False  False   \n",
       "V14  False  False  False  False  False  False  False  False  False  False   \n",
       "V15  False  False  False  False  False  False  False  False  False  False   \n",
       "V16  False  False  False  False  False  False  False  False  False  False   \n",
       "\n",
       "       V11    V12    V13    V14    V15    V16  \n",
       "V1   False  False  False  False  False  False  \n",
       "V2   False  False  False  False  False  False  \n",
       "V3   False  False  False  False  False  False  \n",
       "V4   False  False  False  False  False  False  \n",
       "V5   False  False  False  False  False  False  \n",
       "V6   False  False  False  False  False  False  \n",
       "V7   False  False  False  False  False  False  \n",
       "V8   False  False  False  False  False  False  \n",
       "V9   False  False  False  False  False  False  \n",
       "V10  False  False  False  False  False  False  \n",
       "V11   True  False  False  False  False  False  \n",
       "V12  False   True  False  False  False  False  \n",
       "V13  False  False   True  False  False  False  \n",
       "V14  False  False  False   True  False  False  \n",
       "V15  False  False  False  False   True  False  \n",
       "V16  False  False  False  False  False   True  "
      ]
     },
     "execution_count": 15,
     "metadata": {},
     "output_type": "execute_result"
    }
   ],
   "source": [
    "X_3 == X_2CM\n",
    "'''Why are these not the same, but look the same?'''"
   ]
  },
  {
   "cell_type": "markdown",
   "metadata": {},
   "source": [
    "#### Now, let's check the eigenvalues: "
   ]
  },
  {
   "cell_type": "code",
   "execution_count": 17,
   "metadata": {
    "collapsed": false
   },
   "outputs": [
    {
     "name": "stdout",
     "output_type": "stream",
     "text": [
      "[ 7.40236313  1.42718114  1.13099577  0.86295103  0.80236765  0.75097129\n",
      "  0.13309252  0.21540746  0.24037679  0.5749521   0.30529835  0.33103556\n",
      "  0.52533026  0.47190968  0.39281719  0.43295007]\n",
      "[ 7.40236313  1.42718114  1.13099577  0.86295103  0.80236765  0.75097129\n",
      "  0.13309252  0.21540746  0.24037679  0.5749521   0.30529835  0.33103556\n",
      "  0.52533026  0.47190968  0.39281719  0.43295007]\n"
     ]
    }
   ],
   "source": [
    "# Man isn't Numpy great!\n",
    "eig_vals, eig_vecs = np.linalg.eig(X_2CM)\n",
    "eig_vals1, eig_vecs1 = np.linalg.eig(X_3)\n",
    "print eig_vals\n",
    "print eig_vals1"
   ]
  },
  {
   "cell_type": "markdown",
   "metadata": {},
   "source": [
    "#### And the eigenvectors: "
   ]
  },
  {
   "cell_type": "code",
   "execution_count": 19,
   "metadata": {
    "collapsed": false
   },
   "outputs": [
    {
     "name": "stdout",
     "output_type": "stream",
     "text": [
      "[[ -1.87809330e-01  -1.81722119e-01  -1.55275769e-01   5.53363824e-01\n",
      "    3.95918006e-01   4.94792150e-01  -6.20394464e-02   1.06978258e-02\n",
      "   -5.85601301e-02   1.72339485e-01   5.45292676e-02   1.61018808e-01\n",
      "    1.17913902e-01  -3.23472153e-01  -1.21564992e-01   2.24123205e-02]\n",
      " [  5.38655080e-02  -6.10752223e-01   1.37255837e-01   4.08772744e-01\n",
      "   -1.11659131e-01  -5.32813707e-01  -3.65539275e-04   1.00665084e-01\n",
      "    9.38662181e-02   7.18097848e-02  -1.10895527e-01   7.01216422e-02\n",
      "   -1.22742773e-01  -7.37275759e-03   4.54129677e-02   2.88598767e-01]\n",
      " [ -2.93251619e-01  -8.58088375e-02   1.83349755e-01   2.74308742e-02\n",
      "    3.39469693e-02   2.87636785e-02  -1.84410234e-01   1.37147698e-01\n",
      "   -1.66809452e-01  -2.70406816e-01  -6.13057352e-01  -4.33207839e-01\n",
      "    3.69655169e-01   3.77171990e-02  -1.00605249e-01  -6.95114324e-02]\n",
      " [  3.10693742e-01   1.35055455e-01  -1.01923087e-01   1.02105209e-01\n",
      "   -4.98940153e-02  -6.73630916e-02  -2.87738053e-01  -4.43949692e-02\n",
      "   -7.87331778e-01   1.70004967e-01  -4.98713505e-02  -1.63736574e-01\n",
      "   -2.43082339e-01  -1.15189174e-01   9.26048785e-02   1.16624467e-01]\n",
      " [  3.29824293e-01  -3.47644488e-02   1.44706459e-02   7.09914609e-02\n",
      "   -3.31040515e-02   1.34595443e-01   7.80551659e-01   2.65753131e-01\n",
      "   -1.30830384e-01   1.67807310e-01  -6.28661495e-02  -2.58773649e-01\n",
      "    2.23292663e-01  -2.82807879e-02   1.36461908e-01   1.36983747e-02]\n",
      " [  2.61117543e-01  -8.52106824e-02   3.12857327e-01  -1.17451490e-01\n",
      "   -4.25642839e-02   4.64938291e-02  -8.05434087e-02   7.74897855e-02\n",
      "   -2.05843036e-01  -4.24037624e-01   3.65788835e-01   2.29501512e-01\n",
      "    4.52376339e-01  -1.51104879e-01  -2.46668211e-01   3.15345819e-01]\n",
      " [ -2.90523909e-01   1.82294663e-01   1.31640563e-02   6.97284910e-02\n",
      "   -5.24525302e-02   1.05998217e-02  -2.37081543e-02   2.27977156e-01\n",
      "    1.69058621e-01  -1.48664255e-01   3.78456868e-01  -5.70018452e-01\n",
      "   -2.33762306e-01  -2.82308252e-01   1.01774338e-01   3.97990678e-01]\n",
      " [ -3.21612350e-01   4.48836191e-02   6.64676474e-02   2.33910738e-02\n",
      "    2.36294929e-02  -1.05751017e-01   4.64596596e-01  -6.69203894e-01\n",
      "   -2.27447212e-01  -2.42045982e-01  -9.67812121e-02   5.65284957e-02\n",
      "   -1.54557433e-01  -1.47003269e-01  -1.27268639e-01   1.72001611e-01]\n",
      " [ -3.00076975e-01   1.46292951e-01  -8.34645967e-03   2.01170554e-02\n",
      "    3.26174578e-02  -1.34628438e-01   1.75971432e-01   5.56549582e-01\n",
      "   -2.47659270e-01  -3.36082698e-01  -7.31154315e-02   4.44443816e-01\n",
      "   -2.44383324e-01  -1.45643099e-01   1.77632534e-01  -1.96276390e-01]\n",
      " [  1.12999481e-02   3.81751573e-01   6.32365356e-01   1.03138231e-01\n",
      "    5.27724833e-01  -2.68577954e-01   7.58187484e-03   2.63394426e-02\n",
      "    3.24467299e-02   2.92140743e-01   2.36075640e-02   6.55805566e-03\n",
      "   -1.37036253e-03   5.79887529e-02  -4.20556203e-02  -1.01570010e-02]\n",
      " [ -6.85296340e-02  -5.06272962e-01   4.47936513e-01  -4.13332623e-01\n",
      "    6.91665226e-02   4.00903323e-01   9.03664742e-03   4.14032513e-02\n",
      "   -1.17111126e-01   9.67500761e-02   3.25818272e-02  -5.63178983e-02\n",
      "   -4.06948528e-01  -1.84770199e-02   3.96048535e-02  -7.32878247e-02]\n",
      " [  2.87327786e-01   1.57336470e-01  -4.98975197e-02  -6.28203897e-02\n",
      "   -4.64923791e-02   5.77994771e-02   4.63917048e-02   1.77721290e-01\n",
      "    2.09724786e-01  -5.08938426e-03  -3.66637770e-01   4.27151749e-02\n",
      "   -3.46133342e-01  -2.52174000e-01  -6.78040974e-01   1.53670552e-01]\n",
      " [  2.75571433e-01  -8.47233579e-02   1.18569344e-01   1.46033681e-01\n",
      "   -1.79456287e-02  -1.63516613e-01  -3.97844826e-02  -1.63949229e-01\n",
      "    1.14465723e-01  -2.47088308e-01   1.27698788e-01  -2.14556543e-01\n",
      "   -4.76575870e-02  -5.02456637e-01   3.31045013e-02  -6.58520751e-01]\n",
      " [  2.85699237e-01   1.43386531e-01   1.31037588e-01   4.04089385e-03\n",
      "    3.47862263e-02   2.23074785e-01  -1.04418870e-01  -1.44284988e-01\n",
      "    2.58409541e-01  -1.81578340e-01  -3.90457573e-01   1.74926176e-01\n",
      "   -3.71855432e-02  -2.42815082e-01   5.98959898e-01   3.09899685e-01]\n",
      " [ -2.46146849e-01  -2.04827379e-02  -4.18574614e-02  -3.91094135e-01\n",
      "   -1.59135156e-01  -2.10530322e-01  -3.01487656e-02   2.02888787e-02\n",
      "   -1.66276955e-02   4.90754632e-01  -7.63989671e-02   1.19827918e-01\n",
      "    3.05695565e-01  -5.94956684e-01   4.34854394e-02   5.18804070e-02]\n",
      " [ -1.37530290e-01   2.19727320e-01   4.17481018e-01   3.62135769e-01\n",
      "   -7.12434609e-01   2.43322127e-01  -2.31972029e-02  -2.61807048e-02\n",
      "   -5.89330334e-04   1.78658044e-01   7.97070530e-03   1.15602492e-01\n",
      "   -3.93754194e-03   4.21527110e-02  -4.54994878e-02  -1.00852707e-01]]\n"
     ]
    }
   ],
   "source": [
    "print eig_vecs"
   ]
  },
  {
   "cell_type": "markdown",
   "metadata": {},
   "source": [
    "**Great** We have some EigenVectors and EigenValues, but what do they mean?\n",
    "These EigenValues and EigenVectors do not correspond to our original dataframe matrix but are based off of our square correlation of features matrix.\n",
    "\n",
    "\n",
    "So we have our EigenValues which are like keys for each Eigenvector the number of EigenPairs right now is equal to our original number of feature because we have not done any EigenExtraction.  (EigenExtractionIsNotARealThingIMadeItUpForThisSentence.)\n",
    "\n",
    "The EigenValue is essentually the key that is needed to transpose our identity matrix to our Eigenvector.\n",
    "\n",
    "The EigenPairs are used to calculate the explained variance which is useful in determining principal components."
   ]
  },
  {
   "cell_type": "markdown",
   "metadata": {},
   "source": [
    "#### To find the principal components, find the eigenpairs, and sort them from highest to lowest."
   ]
  },
  {
   "cell_type": "code",
   "execution_count": 20,
   "metadata": {
    "collapsed": true
   },
   "outputs": [],
   "source": [
    "value_vector_pairs = [[eig_vals[i], eig_vecs[:,i]] for i in range(len(eig_vals))]\n",
    "value_vector_pairs.sort(reverse=True)"
   ]
  },
  {
   "cell_type": "markdown",
   "metadata": {},
   "source": [
    "What are principal components?"
   ]
  },
  {
   "cell_type": "code",
   "execution_count": 21,
   "metadata": {
    "collapsed": false
   },
   "outputs": [
    {
     "data": {
      "text/plain": [
       "[[7.4023631295238799,\n",
       "  array([-0.18780933,  0.05386551, -0.29325162,  0.31069374,  0.32982429,\n",
       "          0.26111754, -0.29052391, -0.32161235, -0.30007697,  0.01129995,\n",
       "         -0.06852963,  0.28732779,  0.27557143,  0.28569924, -0.24614685,\n",
       "         -0.13753029])],\n",
       " [1.4271811422429181,\n",
       "  array([-0.18172212, -0.61075222, -0.08580884,  0.13505545, -0.03476445,\n",
       "         -0.08521068,  0.18229466,  0.04488362,  0.14629295,  0.38175157,\n",
       "         -0.50627296,  0.15733647, -0.08472336,  0.14338653, -0.02048274,\n",
       "          0.21972732])],\n",
       " [1.1309957702438529,\n",
       "  array([-0.15527577,  0.13725584,  0.18334976, -0.10192309,  0.01447065,\n",
       "          0.31285733,  0.01316406,  0.06646765, -0.00834646,  0.63236536,\n",
       "          0.44793651, -0.04989752,  0.11856934,  0.13103759, -0.04185746,\n",
       "          0.41748102])],\n",
       " [0.8629510277123037,\n",
       "  array([ 0.55336382,  0.40877274,  0.02743087,  0.10210521,  0.07099146,\n",
       "         -0.11745149,  0.06972849,  0.02339107,  0.02011706,  0.10313823,\n",
       "         -0.41333262, -0.06282039,  0.14603368,  0.00404089, -0.39109413,\n",
       "          0.36213577])],\n",
       " [0.8023676486159943,\n",
       "  array([ 0.39591801, -0.11165913,  0.03394697, -0.04989402, -0.03310405,\n",
       "         -0.04256428, -0.05245253,  0.02362949,  0.03261746,  0.52772483,\n",
       "          0.06916652, -0.04649238, -0.01794563,  0.03478623, -0.15913516,\n",
       "         -0.71243461])],\n",
       " [0.75097129098795179,\n",
       "  array([ 0.49479215, -0.53281371,  0.02876368, -0.06736309,  0.13459544,\n",
       "          0.04649383,  0.01059982, -0.10575102, -0.13462844, -0.26857795,\n",
       "          0.40090332,  0.05779948, -0.16351661,  0.22307478, -0.21053032,\n",
       "          0.24332213])],\n",
       " [0.57495210352665105,\n",
       "  array([ 0.17233949,  0.07180978, -0.27040682,  0.17000497,  0.16780731,\n",
       "         -0.42403762, -0.14866425, -0.24204598, -0.3360827 ,  0.29214074,\n",
       "          0.09675008, -0.00508938, -0.24708831, -0.18157834,  0.49075463,\n",
       "          0.17865804])],\n",
       " [0.52533025914609144,\n",
       "  array([ 0.1179139 , -0.12274277,  0.36965517, -0.24308234,  0.22329266,\n",
       "          0.45237634, -0.23376231, -0.15455743, -0.24438332, -0.00137036,\n",
       "         -0.40694853, -0.34613334, -0.04765759, -0.03718554,  0.30569557,\n",
       "         -0.00393754])],\n",
       " [0.47190968322771903,\n",
       "  array([-0.32347215, -0.00737276,  0.0377172 , -0.11518917, -0.02828079,\n",
       "         -0.15110488, -0.28230825, -0.14700327, -0.1456431 ,  0.05798875,\n",
       "         -0.01847702, -0.252174  , -0.50245664, -0.24281508, -0.59495668,\n",
       "          0.04215271])],\n",
       " [0.43295007349392389,\n",
       "  array([ 0.02241232,  0.28859877, -0.06951143,  0.11662447,  0.01369837,\n",
       "          0.31534582,  0.39799068,  0.17200161, -0.19627639, -0.010157  ,\n",
       "         -0.07328782,  0.15367055, -0.65852075,  0.30989968,  0.05188041,\n",
       "         -0.10085271])],\n",
       " [0.39281718592340797,\n",
       "  array([-0.12156499,  0.04541297, -0.10060525,  0.09260488,  0.13646191,\n",
       "         -0.24666821,  0.10177434, -0.12726864,  0.17763253, -0.04205562,\n",
       "          0.03960485, -0.67804097,  0.0331045 ,  0.5989599 ,  0.04348544,\n",
       "         -0.04549949])],\n",
       " [0.33103555967959691,\n",
       "  array([ 0.16101881,  0.07012164, -0.43320784, -0.16373657, -0.25877365,\n",
       "          0.22950151, -0.57001845,  0.0565285 ,  0.44444382,  0.00655806,\n",
       "         -0.0563179 ,  0.04271517, -0.21455654,  0.17492618,  0.11982792,\n",
       "          0.11560249])],\n",
       " [0.30529835353853119,\n",
       "  array([ 0.05452927, -0.11089553, -0.61305735, -0.04987135, -0.06286615,\n",
       "          0.36578884,  0.37845687, -0.09678121, -0.07311543,  0.02360756,\n",
       "          0.03258183, -0.36663777,  0.12769879, -0.39045757, -0.07639897,\n",
       "          0.00797071])],\n",
       " [0.24037679358310896,\n",
       "  array([ -5.85601301e-02,   9.38662181e-02,  -1.66809452e-01,\n",
       "          -7.87331778e-01,  -1.30830384e-01,  -2.05843036e-01,\n",
       "           1.69058621e-01,  -2.27447212e-01,  -2.47659270e-01,\n",
       "           3.24467299e-02,  -1.17111126e-01,   2.09724786e-01,\n",
       "           1.14465723e-01,   2.58409541e-01,  -1.66276955e-02,\n",
       "          -5.89330334e-04])],\n",
       " [0.21540745682881995,\n",
       "  array([ 0.01069783,  0.10066508,  0.1371477 , -0.04439497,  0.26575313,\n",
       "          0.07748979,  0.22797716, -0.66920389,  0.55654958,  0.02633944,\n",
       "          0.04140325,  0.17772129, -0.16394923, -0.14428499,  0.02028888,\n",
       "         -0.0261807 ])],\n",
       " [0.13309252172524871,\n",
       "  array([ -6.20394464e-02,  -3.65539275e-04,  -1.84410234e-01,\n",
       "          -2.87738053e-01,   7.80551659e-01,  -8.05434087e-02,\n",
       "          -2.37081543e-02,   4.64596596e-01,   1.75971432e-01,\n",
       "           7.58187484e-03,   9.03664742e-03,   4.63917048e-02,\n",
       "          -3.97844826e-02,  -1.04418870e-01,  -3.01487656e-02,\n",
       "          -2.31972029e-02])]]"
      ]
     },
     "execution_count": 21,
     "metadata": {},
     "output_type": "execute_result"
    }
   ],
   "source": [
    "value_vector_pairs\n"
   ]
  },
  {
   "cell_type": "markdown",
   "metadata": {
    "collapsed": true
   },
   "source": [
    "#### Now, calculate the explained variance. Recall the methods we learned in lesson!\n",
    "\n",
    "Explained Variance for an EigenValue/Vector is that EigenValue divided by the sum of all EigenValues multiplied by 100"
   ]
  },
  {
   "cell_type": "code",
   "execution_count": 22,
   "metadata": {
    "collapsed": true
   },
   "outputs": [],
   "source": [
    "EVSum = sum(eig_vals)\n",
    "# EV = eigenvalue divided by the sum of all eigenvalues times 100\n",
    "var_exp = [(i / EVSum)*100 for i in sorted(eig_vals, reverse=True)]\n",
    "\n",
    "# Explained variance of all eigen pairs should add up to 100, as in 100% of explained variance."
   ]
  },
  {
   "cell_type": "code",
   "execution_count": 23,
   "metadata": {
    "collapsed": false
   },
   "outputs": [
    {
     "name": "stdout",
     "output_type": "stream",
     "text": [
      "[46.26476955952424, 8.9198821390182363, 7.0687235640240793, 5.3934439232018967, 5.0147978038499632, 4.6935705686746969, 3.5934506470415686, 3.2833141196630709, 2.9494355201732434, 2.7059379593370236, 2.4551074120212992, 2.0689722479974804, 1.9081147096158195, 1.5023549598944306, 1.3462966051801244, 0.83182826078280425]\n"
     ]
    }
   ],
   "source": [
    "print(var_exp)"
   ]
  },
  {
   "cell_type": "markdown",
   "metadata": {},
   "source": [
    "How do the explained variance values relate."
   ]
  },
  {
   "cell_type": "markdown",
   "metadata": {},
   "source": [
    "#### Now, calculate the explained variance and the Cumulative explained variance"
   ]
  },
  {
   "cell_type": "code",
   "execution_count": 24,
   "metadata": {
    "collapsed": false,
    "scrolled": true
   },
   "outputs": [
    {
     "name": "stdout",
     "output_type": "stream",
     "text": [
      "[ 46.26476956  55.1846517   62.25337526  67.64681919  72.66161699\n",
      "  77.35518756  80.94863821  84.23195232  87.18138785  89.8873258\n",
      "  92.34243322  94.41140546  96.31952017  97.82187513  99.16817174 100.        ]\n"
     ]
    }
   ],
   "source": [
    "# Return the cumulative sum of the elements along a given axis.\n",
    "# the moving sum \n",
    "cum_var_exp = np.cumsum(var_exp)\n",
    "print cum_var_exp\n",
    "\n",
    "# you can see that the explained variance of all the eigenvalues adds up to 100.\n",
    "# in other words, this combination of eigenvalues is capable of explaining all variance."
   ]
  },
  {
   "cell_type": "markdown",
   "metadata": {},
   "source": [
    "#### Now, find and interperet the principal components\n",
    "\n",
    "A long Time ago we set our required Explained Variance to 90%.  Using the Cumulative Sum of explained variance we can see that between the 10th and 11th principal components we exceed that threshold. "
   ]
  },
  {
   "cell_type": "markdown",
   "metadata": {},
   "source": [
    "Now, repeat the process with sklearn.\n",
    "\n",
    "http://scikit-learn.org/stable/modules/generated/sklearn.decomposition.PCA.html"
   ]
  },
  {
   "cell_type": "code",
   "execution_count": 26,
   "metadata": {
    "collapsed": false
   },
   "outputs": [
    {
     "data": {
      "text/plain": [
       "array([[-3.49236025,  0.08607588,  1.37104206, ..., -0.59099576,\n",
       "         0.21114272, -0.06781472],\n",
       "       [-3.730348  ,  0.61701382, -0.94909933, ..., -0.15029384,\n",
       "         0.05639808,  0.16833472],\n",
       "       [-2.05574679,  2.82392803, -0.13849764, ...,  0.84693551,\n",
       "         0.35413561, -0.41179291],\n",
       "       ..., \n",
       "       [-3.33971434,  0.74628917,  0.42819691, ..., -0.89081185,\n",
       "         0.08251796, -0.4308882 ],\n",
       "       [-2.50383963, -1.74407999,  0.04065769, ..., -0.54598294,\n",
       "        -0.40164608, -0.20759022],\n",
       "       [-3.68429367,  0.16971379, -0.28952655, ...,  0.1711483 ,\n",
       "        -0.50490591,  0.3397782 ]])"
      ]
     },
     "execution_count": 26,
     "metadata": {},
     "output_type": "execute_result"
    }
   ],
   "source": [
    "from sklearn.decomposition import PCA\n",
    "\n",
    "pca = PCA(n_components=10)\n",
    "skl_pca = pca.fit_transform(X_2)\n",
    "skl_pca"
   ]
  },
  {
   "cell_type": "code",
   "execution_count": 27,
   "metadata": {
    "collapsed": false
   },
   "outputs": [
    {
     "data": {
      "text/plain": [
       "array([[ 0.18780933, -0.05386551,  0.29325162, -0.31069374, -0.32982429,\n",
       "        -0.26111754,  0.29052391,  0.32161235,  0.30007697, -0.01129995,\n",
       "         0.06852963, -0.28732779, -0.27557143, -0.28569924,  0.24614685,\n",
       "         0.13753029],\n",
       "       [ 0.18172212,  0.61075222,  0.08580884, -0.13505545,  0.03476445,\n",
       "         0.08521068, -0.18229466, -0.04488362, -0.14629295, -0.38175157,\n",
       "         0.50627296, -0.15733647,  0.08472336, -0.14338653,  0.02048274,\n",
       "        -0.21972732],\n",
       "       [-0.15527577,  0.13725584,  0.18334976, -0.10192309,  0.01447065,\n",
       "         0.31285733,  0.01316406,  0.06646765, -0.00834646,  0.63236536,\n",
       "         0.44793651, -0.04989752,  0.11856934,  0.13103759, -0.04185746,\n",
       "         0.41748102],\n",
       "       [ 0.55336382,  0.40877274,  0.02743087,  0.10210521,  0.07099146,\n",
       "        -0.11745149,  0.06972849,  0.02339107,  0.02011706,  0.10313823,\n",
       "        -0.41333262, -0.06282039,  0.14603368,  0.00404089, -0.39109413,\n",
       "         0.36213577],\n",
       "       [-0.39591801,  0.11165913, -0.03394697,  0.04989402,  0.03310405,\n",
       "         0.04256428,  0.05245253, -0.02362949, -0.03261746, -0.52772483,\n",
       "        -0.06916652,  0.04649238,  0.01794563, -0.03478623,  0.15913516,\n",
       "         0.71243461],\n",
       "       [ 0.49479215, -0.53281371,  0.02876368, -0.06736309,  0.13459544,\n",
       "         0.04649383,  0.01059982, -0.10575102, -0.13462844, -0.26857795,\n",
       "         0.40090332,  0.05779948, -0.16351661,  0.22307478, -0.21053032,\n",
       "         0.24332213],\n",
       "       [-0.17233949, -0.07180978,  0.27040682, -0.17000497, -0.16780731,\n",
       "         0.42403762,  0.14866425,  0.24204598,  0.3360827 , -0.29214074,\n",
       "        -0.09675008,  0.00508938,  0.24708831,  0.18157834, -0.49075463,\n",
       "        -0.17865804],\n",
       "       [ 0.1179139 , -0.12274277,  0.36965517, -0.24308234,  0.22329266,\n",
       "         0.45237634, -0.23376231, -0.15455743, -0.24438332, -0.00137036,\n",
       "        -0.40694853, -0.34613334, -0.04765759, -0.03718554,  0.30569557,\n",
       "        -0.00393754],\n",
       "       [-0.32347215, -0.00737276,  0.0377172 , -0.11518917, -0.02828079,\n",
       "        -0.15110488, -0.28230825, -0.14700327, -0.1456431 ,  0.05798875,\n",
       "        -0.01847702, -0.252174  , -0.50245664, -0.24281508, -0.59495668,\n",
       "         0.04215271],\n",
       "       [ 0.02241232,  0.28859877, -0.06951143,  0.11662447,  0.01369837,\n",
       "         0.31534582,  0.39799068,  0.17200161, -0.19627639, -0.010157  ,\n",
       "        -0.07328782,  0.15367055, -0.65852075,  0.30989968,  0.05188041,\n",
       "        -0.10085271]])"
      ]
     },
     "execution_count": 27,
     "metadata": {},
     "output_type": "execute_result"
    }
   ],
   "source": [
    "pca.components_"
   ]
  },
  {
   "cell_type": "code",
   "execution_count": 28,
   "metadata": {
    "collapsed": false
   },
   "outputs": [
    {
     "data": {
      "text/plain": [
       "array([ 0.4626477 ,  0.08919882,  0.07068724,  0.05393444,  0.05014798,\n",
       "        0.04693571,  0.03593451,  0.03283314,  0.02949436,  0.02705938])"
      ]
     },
     "execution_count": 28,
     "metadata": {},
     "output_type": "execute_result"
    }
   ],
   "source": [
    "pca.explained_variance_ratio_"
   ]
  },
  {
   "cell_type": "markdown",
   "metadata": {},
   "source": [
    "I pretty sure now our data has been principally componentized so we can load it straight into a model or something."
   ]
  },
  {
   "cell_type": "markdown",
   "metadata": {},
   "source": [
    "# Case #2: Airport Delays"
   ]
  },
  {
   "cell_type": "code",
   "execution_count": null,
   "metadata": {
    "collapsed": false
   },
   "outputs": [],
   "source": [
    "airports = pd.read_csv('datasets/airport.csv')"
   ]
  },
  {
   "cell_type": "code",
   "execution_count": null,
   "metadata": {
    "collapsed": false
   },
   "outputs": [],
   "source": [
    "airports.head()"
   ]
  },
  {
   "cell_type": "markdown",
   "metadata": {},
   "source": [
    "First, let's define the x and y variables: Airport is going to be our \"x\" variable"
   ]
  },
  {
   "cell_type": "code",
   "execution_count": null,
   "metadata": {
    "collapsed": true
   },
   "outputs": [],
   "source": []
  },
  {
   "cell_type": "markdown",
   "metadata": {},
   "source": [
    "Then, standardize the x variable for analysis"
   ]
  },
  {
   "cell_type": "code",
   "execution_count": null,
   "metadata": {
    "collapsed": false
   },
   "outputs": [],
   "source": []
  },
  {
   "cell_type": "markdown",
   "metadata": {},
   "source": [
    "Next, create the covariance matrix from the standardized x-values and decompose these values to find the eigenvalues and eigenvectors"
   ]
  },
  {
   "cell_type": "code",
   "execution_count": null,
   "metadata": {
    "collapsed": false
   },
   "outputs": [],
   "source": []
  },
  {
   "cell_type": "markdown",
   "metadata": {},
   "source": [
    "Then, check your eigenvalues and eigenvectors:"
   ]
  },
  {
   "cell_type": "code",
   "execution_count": null,
   "metadata": {
    "collapsed": false
   },
   "outputs": [],
   "source": []
  },
  {
   "cell_type": "markdown",
   "metadata": {},
   "source": [
    "To find the principal componants, find the eigenpairs, and sort them from highest to lowest. "
   ]
  },
  {
   "cell_type": "code",
   "execution_count": null,
   "metadata": {
    "collapsed": false
   },
   "outputs": [],
   "source": []
  },
  {
   "cell_type": "markdown",
   "metadata": {},
   "source": [
    "Next, Calculate the explained variance"
   ]
  },
  {
   "cell_type": "code",
   "execution_count": null,
   "metadata": {
    "collapsed": false
   },
   "outputs": [],
   "source": []
  },
  {
   "cell_type": "code",
   "execution_count": null,
   "metadata": {
    "collapsed": false
   },
   "outputs": [],
   "source": []
  },
  {
   "cell_type": "code",
   "execution_count": null,
   "metadata": {
    "collapsed": false
   },
   "outputs": [],
   "source": []
  },
  {
   "cell_type": "markdown",
   "metadata": {
    "collapsed": true
   },
   "source": [
    "  "
   ]
  }
 ],
 "metadata": {
  "anaconda-cloud": {},
  "kernelspec": {
   "display_name": "Python [default]",
   "language": "python",
   "name": "python2"
  },
  "language_info": {
   "codemirror_mode": {
    "name": "ipython",
    "version": 2
   },
   "file_extension": ".py",
   "mimetype": "text/x-python",
   "name": "python",
   "nbconvert_exporter": "python",
   "pygments_lexer": "ipython2",
   "version": "2.7.13"
  }
 },
 "nbformat": 4,
 "nbformat_minor": 0
}
