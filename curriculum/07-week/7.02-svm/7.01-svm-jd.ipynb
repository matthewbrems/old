{
 "cells": [
  {
   "cell_type": "code",
   "execution_count": 2,
   "metadata": {
    "collapsed": false
   },
   "outputs": [],
   "source": [
    "from sklearn.linear_model import LogisticRegression\n",
    "import numpy as np\n",
    "import matplotlib.pyplot as plt\n",
    "from sklearn import svm, linear_model, datasets\n",
    "from sklearn.model_selection import cross_val_score\n",
    "%matplotlib inline"
   ]
  },
  {
   "cell_type": "code",
   "execution_count": 3,
   "metadata": {
    "collapsed": false
   },
   "outputs": [
    {
     "data": {
      "text/plain": [
       "array([[  0.,   0.,   5., ...,   0.,   0.,   0.],\n",
       "       [  0.,   0.,   0., ...,  10.,   0.,   0.],\n",
       "       [  0.,   0.,   0., ...,  16.,   9.,   0.],\n",
       "       ..., \n",
       "       [  0.,   0.,   1., ...,   6.,   0.,   0.],\n",
       "       [  0.,   0.,   2., ...,  12.,   0.,   0.],\n",
       "       [  0.,   0.,  10., ...,  12.,   1.,   0.]])"
      ]
     },
     "execution_count": 3,
     "metadata": {},
     "output_type": "execute_result"
    }
   ],
   "source": [
    "# new dataset, handwritten digits!\n",
    "digits = datasets.load_digits()\n",
    "digits.data"
   ]
  },
  {
   "cell_type": "code",
   "execution_count": 4,
   "metadata": {
    "collapsed": false
   },
   "outputs": [
    {
     "data": {
      "text/plain": [
       "1797"
      ]
     },
     "execution_count": 4,
     "metadata": {},
     "output_type": "execute_result"
    }
   ],
   "source": [
    "len(digits.data)      # 1,797 observations"
   ]
  },
  {
   "cell_type": "code",
   "execution_count": 5,
   "metadata": {
    "collapsed": false
   },
   "outputs": [
    {
     "data": {
      "text/plain": [
       "64"
      ]
     },
     "execution_count": 5,
     "metadata": {},
     "output_type": "execute_result"
    }
   ],
   "source": [
    "len(digits.data[0])   # 8 x 8 pixel image \n",
    "                      # >> so for any single observation, 64 different features"
   ]
  },
  {
   "cell_type": "code",
   "execution_count": 11,
   "metadata": {
    "collapsed": false
   },
   "outputs": [
    {
     "data": {
      "text/plain": [
       "array([[  0.,   0.,   4.,  10.,  13.,   6.,   0.,   0.],\n",
       "       [  0.,   1.,  16.,  14.,  12.,  16.,   3.,   0.],\n",
       "       [  0.,   4.,  16.,   6.,   3.,  16.,   4.,   0.],\n",
       "       [  0.,   0.,  12.,  16.,  16.,  16.,   5.,   0.],\n",
       "       [  0.,   0.,   0.,   4.,   4.,  16.,   8.,   0.],\n",
       "       [  0.,   0.,   0.,   0.,   0.,  15.,   5.,   0.],\n",
       "       [  0.,   0.,   5.,   7.,   7.,  16.,   4.,   0.],\n",
       "       [  0.,   0.,   2.,  14.,  15.,   9.,   0.,   0.]])"
      ]
     },
     "execution_count": 11,
     "metadata": {},
     "output_type": "execute_result"
    }
   ],
   "source": [
    "digits.images[-5]"
   ]
  },
  {
   "cell_type": "code",
   "execution_count": 6,
   "metadata": {
    "collapsed": false
   },
   "outputs": [
    {
     "data": {
      "text/plain": [
       "<matplotlib.image.AxesImage at 0x114d6eb50>"
      ]
     },
     "execution_count": 6,
     "metadata": {},
     "output_type": "execute_result"
    },
    {
     "data": {
      "image/png": "[encoded data removed]",
      "text/plain": [
       "<matplotlib.figure.Figure at 0x112760890>"
      ]
     },
     "metadata": {},
     "output_type": "display_data"
    }
   ],
   "source": [
    "# the number 9\n",
    "plt.imshow(digits.images[-5], cmap=plt.cm.gray_r, interpolation='nearest')"
   ]
  },
  {
   "cell_type": "code",
   "execution_count": 7,
   "metadata": {
    "collapsed": false
   },
   "outputs": [
    {
     "data": {
      "text/plain": [
       "9"
      ]
     },
     "execution_count": 7,
     "metadata": {},
     "output_type": "execute_result"
    }
   ],
   "source": [
    "digits.target[-5]# 9"
   ]
  },
  {
   "cell_type": "code",
   "execution_count": 8,
   "metadata": {
    "collapsed": true
   },
   "outputs": [],
   "source": [
    "digits_X, digits_y = digits.data, digits.target"
   ]
  },
  {
   "cell_type": "code",
   "execution_count": 9,
   "metadata": {
    "collapsed": false
   },
   "outputs": [
    {
     "data": {
      "text/plain": [
       "(1797, 64)"
      ]
     },
     "execution_count": 9,
     "metadata": {},
     "output_type": "execute_result"
    }
   ],
   "source": [
    "digits_X.shape"
   ]
  },
  {
   "cell_type": "code",
   "execution_count": 10,
   "metadata": {
    "collapsed": false
   },
   "outputs": [
    {
     "data": {
      "text/plain": [
       "0.92101881133607011"
      ]
     },
     "execution_count": 10,
     "metadata": {},
     "output_type": "execute_result"
    }
   ],
   "source": [
    "# What if we just use logistic regression without doing anything?\n",
    "logistic = linear_model.LogisticRegression()\n",
    "cross_val_score(logistic, digits_X, digits_y, cv=5, scoring='accuracy').mean()\n",
    "# OK not bad!!!"
   ]
  },
  {
   "cell_type": "code",
   "execution_count": null,
   "metadata": {
    "collapsed": true
   },
   "outputs": [],
   "source": []
  },
  {
   "cell_type": "code",
   "execution_count": 12,
   "metadata": {
    "collapsed": false
   },
   "outputs": [
    {
     "name": "stdout",
     "output_type": "stream",
     "text": [
      "0.448786800616\n",
      "0.949334872621\n"
     ]
    }
   ],
   "source": [
    "# Let's try a SVM\n",
    "clf = svm.SVC()\n",
    "print cross_val_score(clf, digits_X, digits_y, cv=5, scoring='accuracy').mean()\n",
    "\n",
    "clf = svm.SVC(kernel='linear')\n",
    "print cross_val_score(clf, digits_X, digits_y, cv=5, scoring='accuracy').mean()\n",
    "# OOF, we even lost to the logistic regression....\n",
    "# hmm we know that this defaults to the Gaussian (aka radial basis function)\n",
    "# let's try something else"
   ]
  },
  {
   "cell_type": "code",
   "execution_count": null,
   "metadata": {
    "collapsed": true
   },
   "outputs": [],
   "source": []
  },
  {
   "cell_type": "code",
   "execution_count": null,
   "metadata": {
    "collapsed": true
   },
   "outputs": [],
   "source": []
  },
  {
   "cell_type": "markdown",
   "metadata": {},
   "source": [
    "# Gaussian has two parameters, gamma and C\n",
    "Intuitively, the gamma parameter defines how far the influence of a \n",
    "single training example reaches, with low values meaning ‘far’ and \n",
    "high values meaning ‘close’. \n",
    "\n",
    "## gamma: \n",
    "coefficient only for ‘rbf’. The higher the value of gamma, the more it will try to exactly fit the training data set. Will cause over-fitting problem.\n",
    "\n",
    "\n",
    "small gamma: the model is constrained, can under-fit!  high bias and low variance.\n",
    "\n",
    "big gamma: Tries to capture the shape too well: can over-fit!  low bias and high variance.\n",
    "\n",
    "<img src=\"http://www.analyticsvidhya.com/wp-content/uploads/2015/10/SVM_15.png\">\n",
    "\n",
    "\n",
    "\n",
    "## C: \n",
    "Penalty parameter of the error term. It controls the trade off between smooth decision boundary and classifying the training points correctly. C can be thought of as the parameter for the soft margin cost function, which controls the influence of each individual support vector\n",
    "\n",
    "\n",
    "small C: makes the decision surface smooth and simple, softer margin can under-fit! high bias and low variance.\n",
    "\n",
    "big C: selects more support vectors: can over-fit! harder margin. low bias and high variance.\n",
    "\n",
    "<img src=\"http://www.analyticsvidhya.com/wp-content/uploads/2015/10/SVM_18.png\">\n"
   ]
  },
  {
   "cell_type": "code",
   "execution_count": 11,
   "metadata": {
    "collapsed": false
   },
   "outputs": [
    {
     "data": {
      "text/plain": [
       "0.9716361987950688"
      ]
     },
     "execution_count": 11,
     "metadata": {},
     "output_type": "execute_result"
    }
   ],
   "source": [
    "# note the scale of gamma and C\n",
    "clf = svm.SVC(gamma=0.001, C=1)\n",
    "cross_val_score(clf, digits_X, digits_y, cv=5, scoring='accuracy').mean()"
   ]
  },
  {
   "cell_type": "markdown",
   "metadata": {},
   "source": [
    "# Skadoosh!"
   ]
  },
  {
   "cell_type": "code",
   "execution_count": 12,
   "metadata": {
    "collapsed": false
   },
   "outputs": [
    {
     "data": {
      "text/plain": [
       "GridSearchCV(cv=10, error_score='raise',\n",
       "       estimator=SVC(C=1, cache_size=200, class_weight=None, coef0=0.0,\n",
       "  decision_function_shape=None, degree=3, gamma='auto', kernel='rbf',\n",
       "  max_iter=-1, probability=False, random_state=None, shrinking=True,\n",
       "  tol=0.001, verbose=False),\n",
       "       fit_params={}, iid=True, n_jobs=1,\n",
       "       param_grid={'gamma': array([  1.00000e-05,   1.00000e-04,   1.00000e-03,   1.00000e-02,\n",
       "         1.00000e-01,   1.00000e+00,   1.00000e+01])},\n",
       "       pre_dispatch='2*n_jobs', refit=True, scoring='accuracy', verbose=0)"
      ]
     },
     "execution_count": 12,
     "metadata": {},
     "output_type": "execute_result"
    }
   ],
   "source": [
    "# Warning SLOWWWWW\n",
    "from sklearn.grid_search import GridSearchCV\n",
    "clf = svm.SVC(C=1)\n",
    "gamma_range = 10.**np.arange(-5, 2)\n",
    "param_grid = dict(gamma=gamma_range)\n",
    "grid = GridSearchCV(clf, param_grid, cv=10, scoring='accuracy')\n",
    "grid.fit(digits_X, digits_y)"
   ]
  },
  {
   "cell_type": "code",
   "execution_count": 13,
   "metadata": {
    "collapsed": false
   },
   "outputs": [
    {
     "data": {
      "text/plain": [
       "[0.89983305509181966,\n",
       " 0.95492487479131882,\n",
       " 0.97885364496382865,\n",
       " 0.73678352810239289,\n",
       " 0.10294936004451864,\n",
       " 0.11185308848080133,\n",
       " 0.10127991096271564]"
      ]
     },
     "execution_count": 13,
     "metadata": {},
     "output_type": "execute_result"
    }
   ],
   "source": [
    "# check the results of the grid search\n",
    "grid.grid_scores_\n",
    "grid_mean_scores = [result[1] for result in grid.grid_scores_]\n",
    "grid_mean_scores"
   ]
  },
  {
   "cell_type": "code",
   "execution_count": 14,
   "metadata": {
    "collapsed": false
   },
   "outputs": [
    {
     "data": {
      "text/plain": [
       "[<matplotlib.lines.Line2D at 0x10ee1a450>]"
      ]
     },
     "execution_count": 14,
     "metadata": {},
     "output_type": "execute_result"
    },
    {
     "data": {
      "image/png": "[encoded data removed]",
      "text/plain": [
       "<matplotlib.figure.Figure at 0x10fa10a10>"
      ]
     },
     "metadata": {},
     "output_type": "display_data"
    }
   ],
   "source": [
    "# plot the results\n",
    "import matplotlib.pyplot as plt\n",
    "plt.plot(range(-5,2), grid_mean_scores)\n",
    "\n",
    "# this line drops once it's overfit"
   ]
  },
  {
   "cell_type": "code",
   "execution_count": 8,
   "metadata": {
    "collapsed": false
   },
   "outputs": [
    {
     "data": {
      "text/plain": [
       "GridSearchCV(cv=10, error_score='raise',\n",
       "       estimator=SVC(C=1.0, cache_size=200, class_weight=None, coef0=0.0,\n",
       "  decision_function_shape=None, degree=3, gamma='auto', kernel='rbf',\n",
       "  max_iter=-1, probability=False, random_state=None, shrinking=True,\n",
       "  tol=0.001, verbose=False),\n",
       "       fit_params={}, iid=True, n_jobs=1,\n",
       "       param_grid={'kernel': ['rbf', 'sigmoid', 'linear', 'poly'], 'C': array([  1.00000e-02,   1.00000e-01,   1.00000e+00,   1.00000e+01,\n",
       "         1.00000e+02]), 'gamma': array([  1.00000e-05,   1.00000e-04,   1.00000e-03,   1.00000e-02,\n",
       "         1.00000e-01,   1.00000e+00,   1.00000e+01])},\n",
       "       pre_dispatch='2*n_jobs', refit=True, scoring='accuracy', verbose=0)"
      ]
     },
     "execution_count": 8,
     "metadata": {},
     "output_type": "execute_result"
    }
   ],
   "source": [
    "# Warning SUPER MEGAAA SLOWWWWW\n",
    "from sklearn.grid_search import GridSearchCV\n",
    "clf = svm.SVC()\n",
    "gamma_range = 10.**np.arange(-5, 2)\n",
    "C_range = 10.**np.arange(-2, 3)\n",
    "kernel_range = ['rbf', 'sigmoid', 'linear', 'poly']\n",
    "param_grid = dict(gamma=gamma_range, C=C_range, kernel=kernel_range)\n",
    "grid = GridSearchCV(clf, param_grid, cv=10, scoring='accuracy')\n",
    "grid.fit(digits_X, digits_y)"
   ]
  },
  {
   "cell_type": "code",
   "execution_count": 9,
   "metadata": {
    "collapsed": false
   },
   "outputs": [
    {
     "data": {
      "text/plain": [
       "[0.12075681691708402,\n",
       " 0.12075681691708402,\n",
       " 0.95826377295492482,\n",
       " 0.12020033388981637,\n",
       " 0.12075681691708402,\n",
       " 0.12075681691708402,\n",
       " 0.95826377295492482,\n",
       " 0.12020033388981637,\n",
       " 0.22148024485253201,\n",
       " 0.110740122426266,\n",
       " 0.95826377295492482,\n",
       " 0.96438508625486918,\n",
       " 0.10294936004451864,\n",
       " 0.1001669449081803,\n",
       " 0.95826377295492482,\n",
       " 0.97885364496382865,\n",
       " 0.1018363939899833,\n",
       " 0.10127991096271564,\n",
       " 0.95826377295492482,\n",
       " 0.97885364496382865,\n",
       " 0.11185308848080133,\n",
       " 0.10127991096271564,\n",
       " 0.95826377295492482,\n",
       " 0.97885364496382865,\n",
       " 0.10127991096271564,\n",
       " 0.10127991096271564,\n",
       " 0.95826377295492482,\n",
       " 0.97885364496382865,\n",
       " 0.12075681691708402,\n",
       " 0.12075681691708402,\n",
       " 0.96104618809126319,\n",
       " 0.12020033388981637,\n",
       " 0.89426822481914303,\n",
       " 0.75904284919309961,\n",
       " 0.96104618809126319,\n",
       " 0.1246521981079577,\n",
       " 0.95214245965498057,\n",
       " 0.23260990539788537,\n",
       " 0.96104618809126319,\n",
       " 0.97829716193656091,\n",
       " 0.10294936004451864,\n",
       " 0.1001669449081803,\n",
       " 0.96104618809126319,\n",
       " 0.97885364496382865,\n",
       " 0.1018363939899833,\n",
       " 0.10127991096271564,\n",
       " 0.96104618809126319,\n",
       " 0.97885364496382865,\n",
       " 0.11185308848080133,\n",
       " 0.10127991096271564,\n",
       " 0.96104618809126319,\n",
       " 0.97885364496382865,\n",
       " 0.10127991096271564,\n",
       " 0.10127991096271564,\n",
       " 0.96104618809126319,\n",
       " 0.97885364496382865,\n",
       " 0.89983305509181966,\n",
       " 0.79577072899276569,\n",
       " 0.96104618809126319,\n",
       " 0.12020033388981637,\n",
       " 0.95492487479131882,\n",
       " 0.94156928213689484,\n",
       " 0.96104618809126319,\n",
       " 0.91374513077351138,\n",
       " 0.97885364496382865,\n",
       " 0.74123539232053426,\n",
       " 0.96104618809126319,\n",
       " 0.97885364496382865,\n",
       " 0.73678352810239289,\n",
       " 0.10127991096271564,\n",
       " 0.96104618809126319,\n",
       " 0.97885364496382865,\n",
       " 0.10294936004451864,\n",
       " 0.10127991096271564,\n",
       " 0.96104618809126319,\n",
       " 0.97885364496382865,\n",
       " 0.11185308848080133,\n",
       " 0.10127991096271564,\n",
       " 0.96104618809126319,\n",
       " 0.97885364496382865,\n",
       " 0.10127991096271564,\n",
       " 0.10127991096271564,\n",
       " 0.96104618809126319,\n",
       " 0.97885364496382865,\n",
       " 0.9510294936004452,\n",
       " 0.94379521424596546,\n",
       " 0.96104618809126319,\n",
       " 0.12020033388981637,\n",
       " 0.96939343350027829,\n",
       " 0.96160267111853093,\n",
       " 0.96104618809126319,\n",
       " 0.96438508625486918,\n",
       " 0.98107957707289928,\n",
       " 0.56538675570395103,\n",
       " 0.96104618809126319,\n",
       " 0.97885364496382865,\n",
       " 0.75125208681135225,\n",
       " 0.10127991096271564,\n",
       " 0.96104618809126319,\n",
       " 0.97885364496382865,\n",
       " 0.10294936004451864,\n",
       " 0.10127991096271564,\n",
       " 0.96104618809126319,\n",
       " 0.97885364496382865,\n",
       " 0.11185308848080133,\n",
       " 0.10127991096271564,\n",
       " 0.96104618809126319,\n",
       " 0.97885364496382865,\n",
       " 0.10127991096271564,\n",
       " 0.10127991096271564,\n",
       " 0.96104618809126319,\n",
       " 0.97885364496382865,\n",
       " 0.96327212020033393,\n",
       " 0.96160267111853093,\n",
       " 0.96104618809126319,\n",
       " 0.1246521981079577,\n",
       " 0.97161936560934892,\n",
       " 0.9526989426822482,\n",
       " 0.96104618809126319,\n",
       " 0.97829716193656091,\n",
       " 0.98107957707289928,\n",
       " 0.51474680022259323,\n",
       " 0.96104618809126319,\n",
       " 0.97885364496382865,\n",
       " 0.75125208681135225,\n",
       " 0.10127991096271564,\n",
       " 0.96104618809126319,\n",
       " 0.97885364496382865,\n",
       " 0.10294936004451864,\n",
       " 0.10127991096271564,\n",
       " 0.96104618809126319,\n",
       " 0.97885364496382865,\n",
       " 0.11185308848080133,\n",
       " 0.10127991096271564,\n",
       " 0.96104618809126319,\n",
       " 0.97885364496382865,\n",
       " 0.10127991096271564,\n",
       " 0.10127991096271564,\n",
       " 0.96104618809126319,\n",
       " 0.97885364496382865]"
      ]
     },
     "execution_count": 9,
     "metadata": {},
     "output_type": "execute_result"
    }
   ],
   "source": [
    "# check the results of the grid search\n",
    "grid.grid_scores_\n",
    "grid_mean_scores = [result[1] for result in grid.grid_scores_]\n",
    "grid_mean_scores"
   ]
  },
  {
   "cell_type": "code",
   "execution_count": 10,
   "metadata": {
    "collapsed": false
   },
   "outputs": [
    {
     "name": "stdout",
     "output_type": "stream",
     "text": [
      "0.981079577073\n"
     ]
    },
    {
     "data": {
      "text/plain": [
       "SVC(C=10.0, cache_size=200, class_weight=None, coef0=0.0,\n",
       "  decision_function_shape=None, degree=3, gamma=0.001, kernel='rbf',\n",
       "  max_iter=-1, probability=False, random_state=None, shrinking=True,\n",
       "  tol=0.001, verbose=False)"
      ]
     },
     "execution_count": 10,
     "metadata": {},
     "output_type": "execute_result"
    }
   ],
   "source": [
    "# what was best?\n",
    "print grid.best_score_\n",
    "grid.best_params_\n",
    "grid.best_estimator_"
   ]
  },
  {
   "cell_type": "code",
   "execution_count": null,
   "metadata": {
    "collapsed": true
   },
   "outputs": [],
   "source": []
  },
  {
   "cell_type": "code",
   "execution_count": null,
   "metadata": {
    "collapsed": true
   },
   "outputs": [],
   "source": [
    "## We're going to stop here, and leave the iris dataset as an example extra codealong!"
   ]
  },
  {
   "cell_type": "code",
   "execution_count": 33,
   "metadata": {
    "collapsed": true
   },
   "outputs": [],
   "source": [
    "# import some data to play with\n",
    "iris = datasets.load_iris()\n",
    "iris_X = iris.data[:, :2]  # we only take the first two features. We could\n",
    "                      # avoid this ugly slicing by using a two-dim dataset\n",
    "iris_y = iris.target"
   ]
  },
  {
   "cell_type": "code",
   "execution_count": 34,
   "metadata": {
    "collapsed": false
   },
   "outputs": [
    {
     "name": "stdout",
     "output_type": "stream",
     "text": [
      "0.766666666667\n",
      "0.82\n"
     ]
    }
   ],
   "source": [
    "# Start with logistic Regression\n",
    "logistic = linear_model.LogisticRegression()\n",
    "print cross_val_score(logistic, iris_X, iris_y, cv=5, scoring='accuracy').mean()\n",
    "\n",
    "\n",
    "# Let's try a SVM\n",
    "clf = svm.SVC()\n",
    "print cross_val_score(clf, iris_X, iris_y, cv=5, scoring='accuracy').mean()\n",
    "\n",
    "\n",
    "# POP QUIZ, why aren't I using ROC/AUC as my scoring here between classifiers?"
   ]
  },
  {
   "cell_type": "markdown",
   "metadata": {},
   "source": [
    "#### Let's compare three SVMs with different kernels\n",
    "\n",
    "Gaussian\n",
    "Linear\n",
    "Poly of degree 3"
   ]
  },
  {
   "cell_type": "code",
   "execution_count": 35,
   "metadata": {
    "collapsed": false
   },
   "outputs": [
    {
     "data": {
      "image/png": "[encoded data removed]",
      "text/plain": [
       "<matplotlib.figure.Figure at 0x109e54d10>"
      ]
     },
     "metadata": {},
     "output_type": "display_data"
    }
   ],
   "source": [
    "C = 1.0  # SVM regularization parameter\n",
    "rbf_svc = svm.SVC(kernel='rbf', gamma=0.7, C=C).fit(iris_X, iris_y)  # default kernel\n",
    "svc = svm.SVC(kernel='linear', C=C).fit(iris_X, iris_y)\n",
    "poly_svc = svm.SVC(kernel='poly', degree=3, C=C).fit(iris_X, iris_y)\n",
    "\n",
    "# create a mesh to plot in\n",
    "x_min, x_max = iris_X[:, 0].min() - 1, iris_X[:, 0].max() + 1\n",
    "y_min, y_max = iris_X[:, 1].min() - 1, iris_X[:, 1].max() + 1\n",
    "xx, yy = np.meshgrid(np.arange(x_min, x_max, .02),\n",
    "                     np.arange(y_min, y_max, .02))\n",
    "\n",
    "# title for the plots\n",
    "titles = ['SVC with linear kernel',\n",
    "          'SVC with RBF kernel',\n",
    "          'SVC with polynomial (degree 3) kernel']\n",
    "\n",
    "for i, clf in enumerate((svc, rbf_svc, poly_svc)):\n",
    "    plt.subplot(2, 2, i + 1)\n",
    "    plt.subplots_adjust(wspace=0.4, hspace=0.4)\n",
    "    Z = clf.predict(np.c_[xx.ravel(), yy.ravel()])\n",
    "    # Put the result into a color plot\n",
    "    Z = Z.reshape(xx.shape)\n",
    "    plt.contourf(xx, yy, Z, cmap=plt.cm.Paired, alpha=0.8)\n",
    "    # Plot also the training points\n",
    "    plt.scatter(iris_X[:, 0], iris_X[:, 1], c=iris_y, cmap=plt.cm.Paired)\n",
    "    plt.xlabel('Sepal length')\n",
    "    plt.ylabel('Sepal width')\n",
    "    plt.xticks(())\n",
    "    plt.yticks(())\n",
    "    plt.title(titles[i])\n",
    "plt.show()"
   ]
  },
  {
   "cell_type": "markdown",
   "metadata": {},
   "source": []
  },
  {
   "cell_type": "code",
   "execution_count": 18,
   "metadata": {
    "collapsed": false
   },
   "outputs": [
    {
     "data": {
      "text/plain": [
       "<matplotlib.collections.PathCollection at 0x10fb6d590>"
      ]
     },
     "execution_count": 18,
     "metadata": {},
     "output_type": "execute_result"
    },
    {
     "data": {
      "image/png": "[encoded data removed]",
      "text/plain": [
       "<matplotlib.figure.Figure at 0x10fa99c50>"
      ]
     },
     "metadata": {},
     "output_type": "display_data"
    }
   ],
   "source": [
    "from sklearn.datasets import make_circles\n",
    "circles_X, circles_y = make_circles(n_samples=1000, random_state=123, noise=0.1, factor=0.2)\n",
    "plt.scatter(circles_X[:,0], circles_X[:,1])"
   ]
  },
  {
   "cell_type": "code",
   "execution_count": 19,
   "metadata": {
    "collapsed": false
   },
   "outputs": [
    {
     "name": "stdout",
     "output_type": "stream",
     "text": [
      "0.489\n",
      "0.652 i like lines\n",
      "0.567 i like 3rd degree polynomials\n",
      "1.0 i like circles\n"
     ]
    }
   ],
   "source": [
    "# let's try to predict them without graphs\n",
    "logreg = LogisticRegression()\n",
    "print cross_val_score(logreg, circles_X, circles_y, cv=5, scoring='accuracy').mean()\n",
    "\n",
    "clf = svm.SVC(kernel = 'linear')        # I like lines\n",
    "print cross_val_score(clf, circles_X, circles_y, cv=5, scoring='accuracy').mean(), \"i like lines\"\n",
    "\n",
    "\n",
    "clf = svm.SVC(kernel = 'poly', degree = 3)        # I like 3rd degree polys\n",
    "print cross_val_score(clf, circles_X, circles_y, cv=5, scoring='accuracy').mean(), \"i like 3rd degree polynomials\"\n",
    "\n",
    "clf = svm.SVC(kernel = 'rbf')           # I like circles\n",
    "print cross_val_score(clf, circles_X, circles_y, cv=5, scoring='accuracy').mean(), \"i like circles\"\n"
   ]
  },
  {
   "cell_type": "code",
   "execution_count": 53,
   "metadata": {
    "collapsed": true
   },
   "outputs": [],
   "source": [
    "# the radial basis function fake projects the data into higher dimensions\n",
    "# that accompany circles well"
   ]
  },
  {
   "cell_type": "code",
   "execution_count": 55,
   "metadata": {
    "collapsed": false
   },
   "outputs": [
    {
     "data": {
      "image/png": "[encoded data removed]",
      "text/plain": [
       "<matplotlib.figure.Figure at 0x10a4fad90>"
      ]
     },
     "metadata": {},
     "output_type": "display_data"
    }
   ],
   "source": [
    "C = 1.0  # SVM regularization parameter\n",
    "rbf_svc = svm.SVC(kernel='rbf', gamma=0.7, C=C).fit(circles_X, circles_y)  # default kernel\n",
    "svc = svm.SVC(kernel='linear', C=C).fit(circles_X, circles_y)\n",
    "poly_svc = svm.SVC(kernel='poly', degree=3, C=C).fit(circles_X, circles_y)\n",
    "\n",
    "# create a mesh to plot in\n",
    "x_min, x_max = circles_X[:, 0].min() - 1, circles_X[:, 0].max() + 1\n",
    "y_min, y_max = circles_X[:, 1].min() - 1, circles_X[:, 1].max() + 1\n",
    "xx, yy = np.meshgrid(np.arange(x_min, x_max, .02),\n",
    "                     np.arange(y_min, y_max, .02))\n",
    "\n",
    "# title for the plots\n",
    "titles = ['SVC with linear kernel',\n",
    "          'SVC with RBF kernel',\n",
    "          'SVC with polynomial (degree 3) kernel']\n",
    "\n",
    "for i, clf in enumerate((svc, rbf_svc, poly_svc)):\n",
    "    plt.subplot(2, 2, i + 1)\n",
    "    plt.subplots_adjust(wspace=0.4, hspace=0.4)\n",
    "    Z = clf.predict(np.c_[xx.ravel(), yy.ravel()])\n",
    "    # Put the result into a color plot\n",
    "    Z = Z.reshape(xx.shape)\n",
    "    plt.contourf(xx, yy, Z, cmap=plt.cm.Paired, alpha=0.8)\n",
    "    # Plot also the training points\n",
    "    plt.scatter(circles_X[:, 0], circles_X[:, 1], c=circles_y, cmap=plt.cm.Paired)\n",
    "    plt.xlabel('Sepal length')\n",
    "    plt.ylabel('Sepal width')\n",
    "    plt.xticks(())\n",
    "    plt.yticks(())\n",
    "    plt.title(titles[i])\n",
    "plt.show()\n",
    "\n",
    "# a real thing of beauty"
   ]
  },
  {
   "cell_type": "code",
   "execution_count": 40,
   "metadata": {
    "collapsed": false
   },
   "outputs": [
    {
     "data": {
      "image/png": "[encoded data removed]",
      "text/plain": [
       "<matplotlib.figure.Figure at 0x109e0cf50>"
      ]
     },
     "metadata": {},
     "output_type": "display_data"
    },
    {
     "data": {
      "image/png": "[encoded data removed]",
      "text/plain": [
       "<matplotlib.figure.Figure at 0x10b3cdf90>"
      ]
     },
     "metadata": {},
     "output_type": "display_data"
    }
   ],
   "source": [
    "# Visualizing different C\n",
    "\n",
    "X = np.r_[np.random.randn(20, 2) - [2, 2], np.random.randn(20, 2) + [2, 2]]\n",
    "Y = [0] * 20 + [1] * 20\n",
    "\n",
    "# figure number\n",
    "fignum = 1\n",
    "\n",
    "# fit the model\n",
    "for name, penalty in (('unreg', 1), ('reg', 0.05)):\n",
    "\n",
    "    clf = svm.SVC(kernel='linear', C=penalty)\n",
    "    clf.fit(X, Y)\n",
    "\n",
    "    # get the separating hyperplane\n",
    "    w = clf.coef_[0]\n",
    "    a = -w[0] / w[1]\n",
    "    xx = np.linspace(-5, 5)\n",
    "    yy = a * xx - (clf.intercept_[0]) / w[1]\n",
    "\n",
    "    # plot the parallels to the separating hyperplane that pass through the\n",
    "    # support vectors\n",
    "    margin = 1 / np.sqrt(np.sum(clf.coef_ ** 2))\n",
    "    yy_down = yy + a * margin\n",
    "    yy_up = yy - a * margin\n",
    "\n",
    "    # plot the line, the points, and the nearest vectors to the plane\n",
    "    plt.figure(fignum, figsize=(4, 3))\n",
    "    plt.clf()\n",
    "    plt.plot(xx, yy, 'k-')\n",
    "    plt.plot(xx, yy_down, 'k--')\n",
    "    plt.plot(xx, yy_up, 'k--')\n",
    "\n",
    "    plt.scatter(clf.support_vectors_[:, 0], clf.support_vectors_[:, 1], s=80,\n",
    "                facecolors='none', zorder=10)\n",
    "    plt.scatter(X[:, 0], X[:, 1], c=Y, zorder=10, cmap=plt.cm.Paired)\n",
    "\n",
    "    plt.axis('tight')\n",
    "    plt.title(name)\n",
    "\n",
    "    XX, YY = np.mgrid[x_min:x_max:200j, y_min:y_max:200j]\n",
    "    Z = clf.predict(np.c_[XX.ravel(), YY.ravel()])\n",
    "\n",
    "    fignum = fignum + 1\n",
    "\n",
    "plt.show()"
   ]
  },
  {
   "cell_type": "code",
   "execution_count": null,
   "metadata": {
    "collapsed": true
   },
   "outputs": [],
   "source": []
  },
  {
   "cell_type": "code",
   "execution_count": null,
   "metadata": {
    "collapsed": true
   },
   "outputs": [],
   "source": []
  },
  {
   "cell_type": "code",
   "execution_count": null,
   "metadata": {
    "collapsed": true
   },
   "outputs": [],
   "source": []
  },
  {
   "cell_type": "code",
   "execution_count": null,
   "metadata": {
    "collapsed": true
   },
   "outputs": [],
   "source": []
  }
 ],
 "metadata": {
  "anaconda-cloud": {},
  "kernelspec": {
   "display_name": "Python 2",
   "language": "python",
   "name": "python2"
  },
  "language_info": {
   "codemirror_mode": {
    "name": "ipython",
    "version": 2
   },
   "file_extension": ".py",
   "mimetype": "text/x-python",
   "name": "python",
   "nbconvert_exporter": "python",
   "pygments_lexer": "ipython2",
   "version": "2.7.13"
  }
 },
 "nbformat": 4,
 "nbformat_minor": 0
}
