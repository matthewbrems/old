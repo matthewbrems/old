{
 "cells": [
  {
   "cell_type": "markdown",
   "metadata": {},
   "source": [
    "## German Tank Problem\n",
    "\n",
    "A railroad numbers its locomotives $1,\\ldots,N$. You see a railcar with the number 60 painted on it. The problem is to come up with an estimate for $N$. We'll denote $N=\\theta$ to stick with our standard notation.\n",
    "\n",
    "Apply Bayesian analysis to this problem by articulating the hypothesis/hypotheses, the data, and the likelihood. Be sure to try at least three separate prior distributions for $\\theta$. What effect does this have on your posterior distribution of $\\theta$ and, thus, your estimate for $N$?"
   ]
  },
  {
   "cell_type": "code",
   "execution_count": null,
   "metadata": {
    "collapsed": true
   },
   "outputs": [],
   "source": [
    "# N = theta\n",
    "# data: observe n = 60\n",
    "\n",
    "### posterior = p(B|A)p(A) / p(B) = likelihood * prior / marginal\n",
    "\n",
    "# prior = \n",
    "## Since we observe car 60, we know that there are AT LEAST 60 railcars\n",
    "\n",
    "# likelihood p(y=60|H) = 1/N\n",
    "# prior p(H) = 1/N\n",
    "\n",
    "\n",
    "# posterior(H|y=60)\n",
    "\n",
    "\n",
    "\n",
    "\n",
    "\n",
    "\n"
   ]
  },
  {
   "cell_type": "markdown",
   "metadata": {},
   "source": [
    "## Dungeons & Dragons Dice Problem 1\n",
    "\n",
    "There are five dice: a 4-sided die, 6-sided die, 8-sided die, 12-sided die, 20-sided die. You roll a 6. The problem is to predict which die was thrown.\n",
    "\n",
    "Apply Bayesian analysis to this problem by articulating the hypothesis/hypotheses, the data, and the likelihood. Identify which die you believe to be the thrown die and how likely this is to be the thrown die."
   ]
  },
  {
   "cell_type": "code",
   "execution_count": 13,
   "metadata": {
    "collapsed": false
   },
   "outputs": [
    {
     "data": {
      "text/plain": [
       "0.5"
      ]
     },
     "execution_count": 13,
     "metadata": {},
     "output_type": "execute_result"
    }
   ],
   "source": [
    "float(1) / float(2)"
   ]
  },
  {
   "cell_type": "code",
   "execution_count": 44,
   "metadata": {
    "collapsed": false
   },
   "outputs": [
    {
     "name": "stdout",
     "output_type": "stream",
     "text": [
      "0.25 4\n",
      "0.166666666667 6\n",
      "0.125 8\n",
      "0.0833333333333 12\n",
      "0.05 20\n",
      "[0, 0, 0, 0, 0]\n"
     ]
    }
   ],
   "source": [
    "from __future__ import division\n",
    "import numpy as np\n",
    "#hypotheses: you roll either the 4, 6, 8, 12, or 20 die\n",
    "#data: you roll a 6\n",
    "#likelihood:\n",
    "\n",
    "llh_d4=0\n",
    "llh_d6=0\n",
    "llh_d8=0\n",
    "llh_d12=0\n",
    "llh_d20=0\n",
    "\n",
    "dice = [llh_d4,llh_d6,llh_d8,llh_d12,llh_d20]\n",
    "sides = [4,6,8,12,20]\n",
    "\n",
    "\n",
    "for d, s in zip(dice,sides):\n",
    "    d = 1/s\n",
    "    \n",
    "    \n",
    "    print d, s\n",
    "print dice\n",
    "p_6 = sum(dice)\n",
    "\n",
    "# for die in dice:\n",
    "#     die = die * (1/len(dice)) / p_6\n",
    "    \n",
    "# for p, s in zip(dice,sides):\n",
    "#     print 'p(sides=' + str(s) + ')= ' + str(p)\n",
    "\n",
    "# max_llh = max(dice)\n",
    "\n",
    "# print 'die with 6 sides has max likelihood of ' + str(max_llh) \n"
   ]
  },
  {
   "cell_type": "markdown",
   "metadata": {},
   "source": [
    "## Dungeons & Dragons Dice Problem 2\n",
    "\n",
    "There are five dice: a 4-sided die, 6-sided die, 8-sided die, 12-sided die, 20-sided die. You roll the same die and get a 6, 4, 8, 7, 5, 7. The problem is to predict which die was thrown.\n",
    "\n",
    "Apply Bayesian analysis to this problem by articulating the hypothesis/hypotheses, the data, and the likelihood. Identify which die you believe to be the thrown die and how likely this is to be the thrown die."
   ]
  },
  {
   "cell_type": "code",
   "execution_count": null,
   "metadata": {
    "collapsed": true
   },
   "outputs": [],
   "source": []
  },
  {
   "cell_type": "markdown",
   "metadata": {},
   "source": [
    "## M&M Problem\n",
    "\n",
    "You have two bags of M&Ms. The first bag, created before 1995, has the following color distribution: 30% brown, 20% yellow, 20% red, 10% orange, 10% green, 10% tan. The second bag, created after 1995, has the following color distribution: 24% blue, 20% green, 16% orange, 14% yellow, 12% red, 12% brown.\n",
    "\n",
    "From one bag, you pull a yellow M&M. The problem is to predict from which bag you pulled the yellow M&M.\n",
    "\n",
    "Apply Bayesian analysis to this problem by articulating the hypothesis/hypotheses, the data, the likelihood.\n",
    "\n",
    "Consider the yellow M&M already pulled (so this is part of your data). From the other bag, you pull a green M&M. Update your posterior appropriately and update your answer to the problem."
   ]
  },
  {
   "cell_type": "code",
   "execution_count": 8,
   "metadata": {
    "collapsed": false
   },
   "outputs": [
    {
     "name": "stdout",
     "output_type": "stream",
     "text": [
      "0.588235294118\n",
      "0.411764705882\n",
      "\n",
      "0.259259259259\n",
      "0.740740740741\n"
     ]
    }
   ],
   "source": [
    "\n",
    "# two bags with prior prob 1/2\n",
    "# old bag yellow = .2; new bag yellow = .14\n",
    "bag_old_y = (.5) * (.2)\n",
    "bag_new_y = (.5) * (.14)\n",
    "\n",
    "# p(yellow m&m) is the sum of both \n",
    "p_yellow = bag_old + bag_new\n",
    "\n",
    "# to get posterior values, divide likelihood*prior by the probability of getting a yellow m&m\n",
    "bag_old_post_y = bag_old / p_yellow\n",
    "bag_new_post_y = bag_new / p_yellow\n",
    "\n",
    "print bag_old_post_y\n",
    "print bag_new_post_y\n",
    "print ''\n",
    "\n",
    "# now we have prior data that we already got a yellow m&m\n",
    "# therefore, the posterior from above is now our prior\n",
    "# multiply this new prior by likelihood\n",
    "# but TWIST::: we know that we pick the first m&m and then\n",
    "# the problem specifies that you pick the green from the \n",
    "# other bag. so use the opposite priors\n",
    "bag_old_g = bag_new_post_y * .1\n",
    "bag_new_g = bag_old_post_y * .2\n",
    "\n",
    "# p(green m&m) is the sum of both\n",
    "p_g = bag_old_g + bag_new_g\n",
    "\n",
    "bag_old_post_g = bag_old_g / p_g\n",
    "bag_new_post_g = bag_new_g / p_g\n",
    "\n",
    "\n",
    "print bag_old_post_g\n",
    "print bag_new_post_g\n"
   ]
  },
  {
   "cell_type": "code",
   "execution_count": null,
   "metadata": {
    "collapsed": true
   },
   "outputs": [],
   "source": []
  }
 ],
 "metadata": {
  "anaconda-cloud": {},
  "kernelspec": {
   "display_name": "Python 2",
   "language": "python",
   "name": "python2"
  },
  "language_info": {
   "codemirror_mode": {
    "name": "ipython",
    "version": 2
   },
   "file_extension": ".py",
   "mimetype": "text/x-python",
   "name": "python",
   "nbconvert_exporter": "python",
   "pygments_lexer": "ipython2",
   "version": "2.7.13"
  }
 },
 "nbformat": 4,
 "nbformat_minor": 1
}
