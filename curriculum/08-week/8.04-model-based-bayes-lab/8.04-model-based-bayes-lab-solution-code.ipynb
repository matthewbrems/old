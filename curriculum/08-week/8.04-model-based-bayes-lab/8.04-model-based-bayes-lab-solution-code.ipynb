{
 "cells": [
  {
   "cell_type": "markdown",
   "metadata": {},
   "source": [
    "## German Tank Problem\n",
    "\n",
    "A railroad numbers its locomotives $1,\\ldots,N$. You see a railcar with the number 60 painted on it. The problem is to come up with an estimate for $N$. We'll denote $N=\\theta$ to stick with our standard notation.\n",
    "\n",
    "Apply Bayesian analysis to this problem by articulating the hypothesis/hypotheses, the data, and the likelihood. Be sure to try at least three separate prior distributions for $\\theta$. What effect does this have on your posterior distribution of $\\theta$ and, thus, your estimate for $N$?"
   ]
  },
  {
   "cell_type": "code",
   "execution_count": null,
   "metadata": {
    "collapsed": true
   },
   "outputs": [],
   "source": [
    "## The hypotheses are:\n",
    "## H_60: N = 60.\n",
    "## H_61: N = 61.\n",
    "## H_62: N = 62.\n",
    "## ...\n",
    "## H_1000: N = 1,000. (I arbitrarily stop here, but we could add more hypotheses.)\n",
    "\n",
    "## The data is: we observed railcar 60.\n",
    "\n",
    "## The likelihood P(y=60|H) = 1/N. (We assume a Uniform distribution here. It is certainly possible\n",
    "## to assume a different form of the likelihood - but Uniform(0,N) seems to make the most sense here.)\n",
    "## For example, P(y=60|H_60) = 1/60; P(y=60|H_61) = 1/61; and so on."
   ]
  },
  {
   "cell_type": "markdown",
   "metadata": {},
   "source": [
    "## Dungeons & Dragons Dice Problem 1\n",
    "\n",
    "There are five dice: a 4-sided die, 6-sided die, 8-sided die, 12-sided die, 20-sided die. You roll a 6. The problem is to predict which die was thrown.\n",
    "\n",
    "Apply Bayesian analysis to this problem by articulating the hypothesis/hypotheses, the data, and the likelihood. Identify which die you believe to be the thrown die and how likely this is to be the thrown die."
   ]
  },
  {
   "cell_type": "code",
   "execution_count": null,
   "metadata": {
    "collapsed": true
   },
   "outputs": [],
   "source": [
    "## The hypotheses are:\n",
    "## H_4: 4-sided die.\n",
    "## H_6: 6-sided die.\n",
    "## H_8: 8-sided die.\n",
    "## H_12: 12-sided die.\n",
    "## H_20: 20-sided die.\n",
    "\n",
    "## The data is: we rolled a 6."
   ]
  },
  {
   "cell_type": "markdown",
   "metadata": {},
   "source": [
    "$$ P(H_4|y=6) \\propto P(y=6|H_4)P(H_4) = 0 \\times \\frac{1}{5} = 0$$$$ P(H_6|y=6) \\propto P(y=6|H_6)P(H_6) = \\frac{1}{6} \\times \\frac{1}{5} = \\frac{1}{30}$$$$ P(H_8|y=6) \\propto P(y=6|H_8)P(H_8) = \\frac{1}{8} \\times \\frac{1}{5} = \\frac{1}{40}$$$$ P(H_{12}|y=6) \\propto P(y=6|H_{12})P(H_{12}) = \\frac{1}{12} \\times \\frac{1}{5} = \\frac{1}{60}$$$$ P(H_{20}|y=6) \\propto P(y=6|H_{20})P(H_{20}) = \\frac{1}{20} \\times \\frac{1}{5} = \\frac{1}{100}$$"
   ]
  },
  {
   "cell_type": "code",
   "execution_count": null,
   "metadata": {
    "collapsed": true
   },
   "outputs": [],
   "source": [
    "## Note that, since we scale all probabilities by the same amount,\n",
    "## this is not currently a valid probability distribution but our\n",
    "## results are correct up to a constant of proportionality.\n",
    "\n",
    "## It is clear that the likeliest die thrown is the 6-sided die,\n",
    "## but just how likely is it?\n",
    "\n",
    "## 1/30 / (1/30 + 1/40 + 1/60 + 1/100) is roughly 39.2%.\n",
    "## 1/40 / (1/30 + 1/40 + 1/60 + 1/100) is roughly 29.4%.\n",
    "## 1/60 / (1/30 + 1/40 + 1/60 + 1/100) is roughly 19.6%.\n",
    "## 1/100 / (1/30 + 1/40 + 1/60 + 1/100) is roughly 11.8%.\n",
    "\n",
    "## There's roughly a four in ten chance that the die we threw was\n",
    "## the 6-sided die."
   ]
  },
  {
   "cell_type": "markdown",
   "metadata": {},
   "source": [
    "## Dungeons & Dragons Dice Problem 2\n",
    "\n",
    "There are five dice: a 4-sided die, 6-sided die, 8-sided die, 12-sided die, 20-sided die. You roll the same die and get a 6, 4, 8, 7, 5, 7. The problem is to predict which die was thrown.\n",
    "\n",
    "Apply Bayesian analysis to this problem by articulating the hypothesis/hypotheses, the data, and the likelihood. Identify which die you believe to be the thrown die and how likely this is to be the thrown die."
   ]
  },
  {
   "cell_type": "code",
   "execution_count": null,
   "metadata": {
    "collapsed": true
   },
   "outputs": [],
   "source": [
    "## The hypotheses are:\n",
    "## H_4: 4-sided die.\n",
    "## H_6: 6-sided die.\n",
    "## H_8: 8-sided die.\n",
    "## H_12: 12-sided die.\n",
    "## H_20: 20-sided die.\n",
    "\n",
    "## The data is: we rolled a 6, 4, 8, 7, 5, 7."
   ]
  },
  {
   "cell_type": "markdown",
   "metadata": {},
   "source": [
    "$$ P(H_4|data) \\propto P(data|H_4)P(H_4) = 0 \\times \\frac{1}{5} = 0$$$$ P(H_6|data) \\propto P(data|H_6)P(H_6) = 0 \\times \\frac{1}{5} = 0$$$$ P(H_8|data) \\propto P(data|H_8)P(H_8) = \\left(\\frac{1}{8}\\right)^6 \\times \\frac{1}{5} = \\frac{1}{1,310,720}$$$$ P(H_{12}|data) \\propto P(data|H_{12})P(H_{12}) = \\left(\\frac{1}{12}\\right)^6 \\times \\frac{1}{5} = \\frac{1}{14,929,920}$$$$ P(H_{20}|data) \\propto P(data|H_{20})P(H_{20}) = \\left(\\frac{1}{20}\\right)^6 \\times \\frac{1}{5} = \\frac{1}{320,000,000}$$"
   ]
  },
  {
   "cell_type": "code",
   "execution_count": null,
   "metadata": {
    "collapsed": true
   },
   "outputs": [],
   "source": [
    "## Note that, since we scale all probabilities by the same amount,\n",
    "## this is not currently a valid probability distribution but our\n",
    "## results are correct up to a constant of proportionality.\n",
    "\n",
    "## It is clear that the likeliest die thrown is now the 8-sided die,\n",
    "## but just how likely is it?\n",
    "\n",
    "## 1/1310720 / (1/1310720 + 1/14929920 + 1/320000000) is roughly 91.6%.\n",
    "## 1/14929920 / (1/1310720 + 1/14929920 + 1/320000000) is roughly 8.0%.\n",
    "## 1/320000000 / (1/1310720 + 1/14929920 + 1/320000000) is roughly 0.4%.\n",
    "\n",
    "## There's roughly a nine in ten chance that the die we threw was\n",
    "## the 8-sided die."
   ]
  },
  {
   "cell_type": "markdown",
   "metadata": {},
   "source": [
    "## M&M Problem\n",
    "\n",
    "You have two bags of M&Ms. The first bag, created before 1995, has the following color distribution: 30% brown, 20% yellow, 20% red, 10% orange, 10% green, 10% tan. The second bag, created after 1995, has the following color distribution: 24% blue, 20% green, 16% orange, 14% yellow, 12% red, 12% brown.\n",
    "\n",
    "From one bag, you pull a yellow M&M. The problem is to predict from which bag you pulled the yellow M&M.\n",
    "\n",
    "Apply Bayesian analysis to this problem by articulating the hypothesis/hypotheses, the data, the likelihood.\n",
    "\n",
    "Consider the yellow M&M already pulled (so this is part of your data). From the other bag, you pull a green M&M. Update your posterior appropriately and update your answer to the problem."
   ]
  },
  {
   "cell_type": "code",
   "execution_count": null,
   "metadata": {
    "collapsed": true
   },
   "outputs": [],
   "source": [
    "## The hypotheses are:\n",
    "## H_1: Bag 1 is the \"pre-1995 bag\" and Bag 2 is the \"post-1995 bag.\"\n",
    "## H_2: Bag 1 is the \"post-1995 bag\" and Bag 2 is the \"pre-1995 bag.\"\n",
    "\n",
    "## The data is: we pulled a yellow M&M from Bag 1."
   ]
  },
  {
   "cell_type": "markdown",
   "metadata": {},
   "source": [
    "$$ P(H_1|\\text{yellow from }B_1) \\propto P(\\text{yellow from }B_1|H_1)P(H_1) = \\frac{1}{5} \\times \\frac{1}{2} = \\frac{1}{10}$$$$ P(H_2|\\text{yellow from }B_1) \\propto P(\\text{yellow from }B_1|H_2)P(H_2) = \\frac{14}{100} \\times \\frac{1}{2} = \\frac{7}{100}$$"
   ]
  },
  {
   "cell_type": "code",
   "execution_count": null,
   "metadata": {
    "collapsed": true
   },
   "outputs": [],
   "source": [
    "## Note that, since we scale all probabilities by the same amount,\n",
    "## this is not currently a valid probability distribution but our\n",
    "## results are correct up to a constant of proportionality.\n",
    "\n",
    "## It is clear that it's currently likelier that H_1 is true, indicating\n",
    "## Bag 1 is the pre-1995 bag - but just how likely is it?\n",
    "\n",
    "## 1/10 / (1/10 + 7/100) is roughly 58.8%.\n",
    "## 7/100 / (1/10 + 7/100) is roughly 41.2%.\n",
    "## There's roughly a three in five chance that Bag 1 is the pre-1995\n",
    "## bag."
   ]
  },
  {
   "cell_type": "code",
   "execution_count": null,
   "metadata": {
    "collapsed": true
   },
   "outputs": [],
   "source": [
    "## Now let's consider the new piece of information. We now know that\n",
    "## we pull a green M&M from Bag 2. Note that our old posterior is\n",
    "## our new prior.\n",
    "\n",
    "## The hypotheses are still:\n",
    "## H_1: Bag 1 is the \"pre-1995 bag\" and Bag 2 is the \"post-1995 bag.\"\n",
    "## H_2: Bag 1 is the \"post-1995 bag\" and Bag 2 is the \"pre-1995 bag.\"\n",
    "\n",
    "## The data is: we pulled a green M&M from Bag 2."
   ]
  },
  {
   "cell_type": "markdown",
   "metadata": {},
   "source": [
    "$$ P(H_1|\\text{G from }B_2,\\text{Y from }B_1) \\propto P(\\text{G from }B_2|H_1,\\text{Y from }B_1)P(H_1|\\text{Y from }B_1) = \\frac{1}{5} \\times \\frac{1}{10} = \\frac{1}{50}$$$$ P(H_2|\\text{G from }B_2,\\text{Y from }B_1) \\propto P(\\text{G from }B_2|H_2,\\text{Y from }B_1)P(H_2|\\text{Y from }B_1) = \\frac{1}{10} \\times \\frac{7}{100} = \\frac{7}{1000}$$"
   ]
  },
  {
   "cell_type": "code",
   "execution_count": null,
   "metadata": {
    "collapsed": true
   },
   "outputs": [],
   "source": [
    "## Note that, since we scale all probabilities by the same amount,\n",
    "## this is not currently a valid probability distribution but our\n",
    "## results are correct up to a constant of proportionality.\n",
    "\n",
    "## It is clear that it's currently likelier that H_1 is true, indicating\n",
    "## Bag 1 is the pre-1995 bag - but just how likely is it?\n",
    "\n",
    "## 1/50 / (1/50 + 7/1000) is roughly 74.1%.\n",
    "## 7/1000 / (1/50 + 7/1000) is roughly 25.9%.\n",
    "## There's roughly a three in four chance that Bag 1 is the pre-1995\n",
    "## bag."
   ]
  }
 ],
 "metadata": {
  "anaconda-cloud": {},
  "kernelspec": {
   "display_name": "Python 2",
   "language": "python",
   "name": "python2"
  },
  "language_info": {
   "codemirror_mode": {
    "name": "ipython",
    "version": 2
   },
   "file_extension": ".py",
   "mimetype": "text/x-python",
   "name": "python",
   "nbconvert_exporter": "python",
   "pygments_lexer": "ipython2",
   "version": "2.7.13"
  }
 },
 "nbformat": 4,
 "nbformat_minor": 1
}
