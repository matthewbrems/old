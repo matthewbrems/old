{
 "cells": [
  {
   "cell_type": "markdown",
   "metadata": {},
   "source": [
    "# Markov Chain Monte Carlo (MCMC)\n",
    "\n",
    "MCMC is a way to find the posterior distribution through Bayes Theorem without needing to solve the denominator of the equation, $P(data)$.\n",
    "\n",
    "To review, Bayes Theorem states:\n",
    "\n",
    "### $$ P(model\\;|\\;data) = \\frac{P(data\\;|\\;model)}{P(data)}\\;P(model) $$\n",
    "\n",
    "Where $P(model\\;|\\;data)$ is the **posterior distribution of the model**\n",
    "\n",
    "$P(data\\;|\\;model)$ is the **likelihood of the data given the model**\n",
    "\n",
    "$P(data)$ is the **total probability of the data**, or the probability of the data occurring across all models\n",
    "\n",
    "and $P(model)$ is the **prior distribution of the model**\n",
    "\n",
    "---\n",
    "\n",
    "### When solving Bayes Theorem is intractable...\n",
    "\n",
    "Bayes Theorem is designed to \"update\" our prior distribution to a posterior distribution, and both of those distributions are probability density functions.\n",
    "\n",
    "We've been looking at situations like coin flips where solving the theorem actually has an equation for the different components, but there are many situations where the posterior cannot be directly solved.\n",
    "\n",
    "With $P(data)$, for example, we need to get the likelihood of the data across _all possible models_. With a coin flip, we can integrate between 0 and 1 for all possible weightings of the coin, but what about something more complicated like the number of minutes a flight is delayed?\n",
    "\n",
    "MCMC is designed to let us still get the posterior distribution estimate without needing to actually solve the equation."
   ]
  },
  {
   "cell_type": "code",
   "execution_count": null,
   "metadata": {
    "collapsed": true
   },
   "outputs": [],
   "source": [
    "import matplotlib.pyplot as plt\n",
    "import numpy as np\n",
    "import pandas as pd\n",
    "import seaborn as sns\n",
    "\n",
    "import scipy.stats as stats\n",
    "\n",
    "sns.set_style('whitegrid')\n",
    "\n",
    "%matplotlib inline\n",
    "%config InlineBackend.figure_format = 'retina'"
   ]
  },
  {
   "cell_type": "markdown",
   "metadata": {},
   "source": [
    "---\n",
    "\n",
    "### Load airline data\n",
    "\n",
    "This dataset contains information on airports, year, and various metrics related to how delayed or not flights were."
   ]
  },
  {
   "cell_type": "code",
   "execution_count": null,
   "metadata": {
    "collapsed": false
   },
   "outputs": [],
   "source": [
    "air = pd.read_csv('../../07-week/7.11-pca-lab/datasets/airport.csv')\n",
    "air.columns = [c.replace(' ','_').replace('-','_') for c in air.columns]\n",
    "air.head(2)"
   ]
  },
  {
   "cell_type": "markdown",
   "metadata": {},
   "source": [
    "---\n",
    "\n",
    "### Calculate the mean delay and plot the delays"
   ]
  },
  {
   "cell_type": "code",
   "execution_count": null,
   "metadata": {
    "collapsed": false
   },
   "outputs": [],
   "source": [
    "delay = air.average_airport_departure_delay.values\n",
    "mean_delay = np.mean(delay)\n",
    "print mean_delay, len(delay)"
   ]
  },
  {
   "cell_type": "code",
   "execution_count": null,
   "metadata": {
    "collapsed": false,
    "scrolled": true
   },
   "outputs": [],
   "source": [
    "fig = plt.figure(figsize=(7,5))\n",
    "ax = fig.gca()\n",
    "\n",
    "ax = sns.distplot(delay, bins=40, ax=ax, kde=False)\n",
    "ax.axvline(mean_delay, lw=3, ls='dashed', color='black')\n",
    "plt.show()"
   ]
  },
  {
   "cell_type": "markdown",
   "metadata": {},
   "source": [
    "---\n",
    "\n",
    "### Construct a prior belief distribution about possible delay times\n",
    "\n",
    "Below I'm going to say that I believe flights are on average delayed 20 minutes. I will model my belief with a normal distribution and say that there is a 5 minute standard deviation around that 20 minute mean."
   ]
  },
  {
   "cell_type": "code",
   "execution_count": null,
   "metadata": {
    "collapsed": false
   },
   "outputs": [],
   "source": [
    "delay_belief_mean = 20.\n",
    "delay_belief_std = 5."
   ]
  },
  {
   "cell_type": "code",
   "execution_count": null,
   "metadata": {
    "collapsed": false,
    "scrolled": true
   },
   "outputs": [],
   "source": [
    "fig, ax = plt.subplots(figsize=(7,4))\n",
    "minute_range = np.linspace(0, 40, 200)\n",
    "\n",
    "prior = stats.norm(delay_belief_mean, delay_belief_std) # Set our prior to follow a Normal distribution.\n",
    "minute_pdfs = prior.pdf(minute_range)\n",
    "\n",
    "ax.plot(minute_range, minute_pdfs, lw=4)\n",
    "plt.show()"
   ]
  },
  {
   "cell_type": "code",
   "execution_count": null,
   "metadata": {
    "collapsed": false
   },
   "outputs": [],
   "source": [
    "prior.cdf(25) - prior.cdf(15) # Area under the curve in between 15 and 25."
   ]
  },
  {
   "cell_type": "code",
   "execution_count": null,
   "metadata": {
    "collapsed": false
   },
   "outputs": [],
   "source": [
    "prior.pdf(20.)/prior.pdf(25.)"
   ]
  },
  {
   "cell_type": "markdown",
   "metadata": {},
   "source": [
    "---\n",
    "\n",
    "### Log likelihood of the data\n",
    "\n",
    "Recall that we have a component of Bayes Theorem that represents the likelihood of the data given our model:\n",
    "\n",
    "### $$ P(data\\;|\\;model) $$\n",
    "\n",
    "What is this representing? **Our \"model\" in this case is the distribution of the possible mean delays.** We are modeling delay times with a distribution of possible mean delay times and nothing more. It is not as complicated a model as a regression with multiple predictors, but a model nonetheless.\n",
    "\n",
    "To calculate the likelihood of the data given our model we need to ask: how likely would a datapoint (delay) be to occur according to our model?\n",
    "\n",
    "Below I'll write a function to calculate the sum of the log of probability densities at each of our delay data points. This will be the aggregate likelihood across all the delays.\n",
    "\n",
    "Why the log of the probability densities? Often likelihoods are so tiny that the computer has a difficult time working with the numbers. Converting these to log format puts them in terms of orders of magnitude and makes sure the computer doesn't break doing the calculations."
   ]
  },
  {
   "cell_type": "code",
   "execution_count": null,
   "metadata": {
    "collapsed": true
   },
   "outputs": [],
   "source": [
    "def log_likelihood_data(data, proposed_mean, proposed_std):\n",
    "    distribution = stats.norm(proposed_mean, proposed_std) # Set up distribution.\n",
    "    log_likelihood = distribution.logpdf(data)\n",
    "    return log_likelihood # Returns log of likelihood."
   ]
  },
  {
   "cell_type": "code",
   "execution_count": null,
   "metadata": {
    "collapsed": false
   },
   "outputs": [],
   "source": [
    "five_delays = delay[0:5]\n",
    "five_delays"
   ]
  },
  {
   "cell_type": "code",
   "execution_count": null,
   "metadata": {
    "collapsed": false
   },
   "outputs": [],
   "source": [
    "np.sum(log_likelihood_data(five_delays, 18, 5)) # Log-likelihood of the data given a N(18,5) distribution."
   ]
  },
  {
   "cell_type": "code",
   "execution_count": null,
   "metadata": {
    "collapsed": false
   },
   "outputs": [],
   "source": [
    "np.sum(log_likelihood_data(five_delays, 12, 5)) # Log-likelihood of the data given a N(12,5) distribution."
   ]
  },
  {
   "cell_type": "code",
   "execution_count": null,
   "metadata": {
    "collapsed": false
   },
   "outputs": [],
   "source": [
    "np.exp(np.sum(log_likelihood_data(five_delays, 15, 5)) -\n",
    "       np.sum(log_likelihood_data(five_delays, 13, 5))) # Difference of likelihoods; can be important in statistics!"
   ]
  },
  {
   "cell_type": "markdown",
   "metadata": {},
   "source": [
    "---\n",
    "\n",
    "### Plot the log likelihood of the data given our current belief about mean and standard deviation of delays"
   ]
  },
  {
   "cell_type": "code",
   "execution_count": null,
   "metadata": {
    "collapsed": true
   },
   "outputs": [],
   "source": [
    "# Redefine to return sum of log likelihoods:\n",
    "def log_likelihood_data(data, proposed_mean, proposed_std):\n",
    "    distribution = stats.norm(proposed_mean, proposed_std)\n",
    "    log_likelihood = distribution.logpdf(data)\n",
    "    return np.sum(log_likelihood)"
   ]
  },
  {
   "cell_type": "code",
   "execution_count": null,
   "metadata": {
    "collapsed": true
   },
   "outputs": [],
   "source": [
    "def plot_loglike_data(data, proposed_mean, proposed_std):\n",
    "    \n",
    "    # default for plt.subplots is plt.subplots(1, 1)\n",
    "    # which is 1 row, 1 column, and so its just 1 axis object\n",
    "    fig = plt.figure(figsize=(7,4))\n",
    "    ax = fig.gca()\n",
    "    \n",
    "    ax = sns.distplot(data, bins=40, ax=ax)\n",
    "    \n",
    "    proposal_xrange = np.linspace(np.min(data)-2, np.max(data)+2, 200)\n",
    "    belief_dist = stats.norm(proposed_mean, proposed_std)\n",
    "    proposal_pdf = belief_dist.pdf(proposal_xrange)\n",
    "    \n",
    "    log_like = log_likelihood_data(data, proposed_mean, proposed_std)\n",
    "    \n",
    "    ax.plot(proposal_xrange, proposal_pdf, lw=4, color='darkred',\n",
    "            label='log like: '+'{0:.3f}'.format(log_like))\n",
    "    \n",
    "    ax.legend(loc='upper left')\n",
    "    plt.show()"
   ]
  },
  {
   "cell_type": "code",
   "execution_count": null,
   "metadata": {
    "collapsed": false
   },
   "outputs": [],
   "source": [
    "plot_loglike_data(delay, 20, 5)"
   ]
  },
  {
   "cell_type": "markdown",
   "metadata": {},
   "source": [
    "---\n",
    "\n",
    "### Checking proposals about different delays\n",
    "\n",
    "MCMC at the core is all about checking different likelihoods of the data (and your prior) for different versions of your model. \n",
    "\n",
    "Right now we believe that the mean delay is 20. How much would the likelihood $P(data\\;|\\;model)$ change if that mean were instead 30? Would this likelihood be larger or smaller?\n",
    "\n",
    "We can use the likelihood function we wrote above to check any new parameter, but we need a system for making new proposals. In MCMC the parameter is moved at random in small increments. In this case we will draw a new number from a normal distribution with a mean that is our current value and small standard deviation. This will either move the distribution slightly to the left or to the right.\n",
    "\n",
    "In this example we're only going to explore different possibilities for the mean and leave the standard deviation of the delay fixed, but really any parameter can be allowed to vary except for the data itself."
   ]
  },
  {
   "cell_type": "code",
   "execution_count": null,
   "metadata": {
    "collapsed": true
   },
   "outputs": [],
   "source": [
    "def get_new_proposal(proposal_distribution_mean, proposal_distribution_std):\n",
    "    proposal_distribution = stats.norm(proposal_distribution_mean, proposal_distribution_std)\n",
    "    new_proposed_statistic = proposal_distribution.rvs()\n",
    "    return new_proposed_statistic"
   ]
  },
  {
   "cell_type": "code",
   "execution_count": null,
   "metadata": {
    "collapsed": false
   },
   "outputs": [],
   "source": [
    "np.random.rand()"
   ]
  },
  {
   "cell_type": "markdown",
   "metadata": {},
   "source": [
    "---\n",
    "\n",
    "### Plot a proposal shift from mean delay 20 to mean delay 30"
   ]
  },
  {
   "cell_type": "code",
   "execution_count": null,
   "metadata": {
    "collapsed": true
   },
   "outputs": [],
   "source": [
    "def plot_proposal_move(data, old_mean, new_mean, fixed_std):\n",
    "    \n",
    "    fig = plt.figure(figsize=(7,4))\n",
    "    ax = fig.gca()\n",
    "    \n",
    "    ax = sns.distplot(data, bins=40, ax=ax)\n",
    "    proposal_xrange = np.linspace(np.min(data)-2, np.max(data)+2, 200)\n",
    "    \n",
    "    old_pdf = stats.norm(old_mean, fixed_std).pdf(proposal_xrange)\n",
    "    new_pdf = stats.norm(new_mean, fixed_std).pdf(proposal_xrange)\n",
    "    \n",
    "    old_loglike = log_likelihood_data(data, old_mean, fixed_std)\n",
    "    new_loglike = log_likelihood_data(data, new_mean, fixed_std)\n",
    "    \n",
    "    ax.plot(proposal_xrange, old_pdf, lw=4, color='darkred', alpha=0.3,\n",
    "            label='old LL: '+'{0:.3f}'.format(old_loglike))\n",
    "    ax.plot(proposal_xrange, new_pdf, lw=4, color='darkred', alpha=1.0,\n",
    "            label='new LL: '+'{0:.3f}'.format(new_loglike))\n",
    "    \n",
    "    ax.legend(loc='upper left')\n",
    "    plt.show()\n",
    "    "
   ]
  },
  {
   "cell_type": "code",
   "execution_count": null,
   "metadata": {
    "collapsed": false
   },
   "outputs": [],
   "source": [
    "new_proposed_mean = get_new_proposal(20, 5)\n",
    "print 20, new_proposed_mean\n",
    "plot_proposal_move(delay, 20, new_proposed_mean, 5)"
   ]
  },
  {
   "cell_type": "markdown",
   "metadata": {},
   "source": [
    "---\n",
    "\n",
    "### Log likelihood of the prior\n",
    "\n",
    "We are also going to want to see how likely our new proposed mean is on our prior belief about the mean delays. For example, a mean delay of 100 minutes would be highly unlikely on our prior distribution of beliefs about how much flights can be delayed on average."
   ]
  },
  {
   "cell_type": "code",
   "execution_count": null,
   "metadata": {
    "collapsed": true
   },
   "outputs": [],
   "source": [
    "def log_likelihood_prior(proposed_mean, prior_belief_mean, prior_belief_std):\n",
    "    prior = stats.norm(prior_belief_mean, prior_belief_std)\n",
    "    proposed_loglike = prior.logpdf(proposed_mean)\n",
    "    return proposed_loglike"
   ]
  },
  {
   "cell_type": "code",
   "execution_count": null,
   "metadata": {
    "collapsed": false
   },
   "outputs": [],
   "source": [
    "log_likelihood_prior(-100, 20, 5)"
   ]
  },
  {
   "cell_type": "markdown",
   "metadata": {},
   "source": [
    "---\n",
    "\n",
    "### Plot the log likelihood of a delay of 30 minutes on our prior belief about mean delays"
   ]
  },
  {
   "cell_type": "code",
   "execution_count": null,
   "metadata": {
    "collapsed": true
   },
   "outputs": [],
   "source": [
    "def plot_prior_loglike(proposed_mean, prior_mean, prior_std):\n",
    "    \n",
    "    fig = plt.figure(figsize=(7,4))\n",
    "    ax = fig.gca()\n",
    "    x_range = np.linspace(0, 40, 200)\n",
    "    \n",
    "    prior = stats.norm(prior_mean, prior_std)\n",
    "    prior_pdf = prior.pdf(x_range)\n",
    "    proposed_likelihood = prior.pdf(proposed_mean)\n",
    "    proposed_loglike = log_likelihood_prior(proposed_mean, prior_mean, prior_std)\n",
    "    \n",
    "    ax.plot(x_range, prior_pdf, lw=4)\n",
    "    ax.scatter(proposed_mean, proposed_likelihood, color='darkred', s=200,\n",
    "               label='proposed prior LL: '+'{0:.3f}'.format(proposed_loglike))\n",
    "    \n",
    "    ax.legend(loc='upper left')\n",
    "    plt.show()"
   ]
  },
  {
   "cell_type": "code",
   "execution_count": null,
   "metadata": {
    "collapsed": false
   },
   "outputs": [],
   "source": [
    "plot_prior_loglike(10, 20, 5)"
   ]
  },
  {
   "cell_type": "markdown",
   "metadata": {},
   "source": [
    "---\n",
    "\n",
    "### Metropolis-Hastings sampler\n",
    "\n",
    "Now we can actually start to do the core MCMC process. You've seen in pymc3 the NUTS sampler, which is a more advanced way of doing MCMC. We are going to use the original sampling process called Metropolis-Hastings.\n",
    "\n",
    "How do we get rid of the denominator in Bayes equation, $P(data)$, that makes problems impossible to compute?\n",
    "\n",
    "Let's consider two different specific proposals for the mean delay, model1 and model2. We can write out the equations for the posterior probability of both when we consider those proposals against the data:\n",
    "\n",
    "### $$ P(model_1\\;|\\;data) = \\frac{P(data\\;|\\;model_1)}{P(data)}\\;P(model_1) $$\n",
    "\n",
    "### $$ P(model_2\\;|\\;data) = \\frac{P(data\\;|\\;model_2)}{P(data)}\\;P(model_2) $$\n",
    "\n",
    "MCMC uses the idea that we can compare the _relative likelihoods_ of each model by dividing one by the other:\n",
    "\n",
    "### $$ \\frac{\\frac{P(data\\;|\\;model_1)\\;P(model_1)}{P(data)}}{\\frac{P(data\\;|\\;model_2)\\;P(model_2)}{P(data)}}  = \\frac{P(data\\;|\\;model_1)\\;P(model_1)}{P(data\\;|\\;model_2)\\;P(model_2)} $$\n",
    "\n",
    "Which is the same as saying we are dividing the posterior of one of the models by the posterior of the other model. This cancels out the $P(data)$ component that we didn't have any equation to compute before.\n",
    "\n",
    "But this doesn't get us all of the way there yet. The part that makes MCMC work for finding the posterior density is that it uses this equation above to _visit models with relatively higher likelihood more often._ \n",
    "\n",
    "**The acceptance criterion:**\n",
    "\n",
    "Once you have the relative likelihood of each model given the data, you can compare that to a random number between 0 and 1:\n",
    "\n",
    "    acceptance_criterion = (proposal_likelihood / current_likelihood)\n",
    "    or\n",
    "    acceptance_criterion = e^(proposal_log_likelihood - current_log_likelihood)\n",
    "    \n",
    "    if acceptance_criterion > 1:\n",
    "        accept the proposed model\n",
    "    else:\n",
    "    \n",
    "        random_fraction = np.random.rand()  # lies between 0.0 and 1.0\n",
    "\n",
    "        if acceptance_criterion > random_fraction:\n",
    "            accept the proposed model\n",
    "        else:\n",
    "            accept the current model\n",
    "        \n",
    "If the proposed model has a _higher_ likelihood than the current model, the acceptance criterion will always be above one and it will always accept the proposed model as the new current model.\n",
    "\n",
    "If the proposed model has a _lower_ likelihood than the current model, then it has a chance of becoming the new current model with a probability proportional to relatively how much lower its likelihood is."
   ]
  },
  {
   "cell_type": "code",
   "execution_count": null,
   "metadata": {
    "collapsed": true
   },
   "outputs": [],
   "source": [
    "def metropolis_sampler(data, current_mean, prior_mean, prior_std):\n",
    "    # 1. figure out P(data|current_mean) --> likelihood of data\n",
    "    current_data_loglike = log_likelihood_data(data, current_mean, prior_std)\n",
    "    # 2. figure out P(current_mean) on prior distribution\n",
    "    current_prior_loglike = log_likelihood_prior(current_mean, prior_mean, prior_std)\n",
    "    # 3. combine this into the likelihood of the current mean\n",
    "    current_loglike = (current_data_loglike + current_prior_loglike)\n",
    "    \n",
    "    # 4. get a proposal for a new mean to consider:\n",
    "    proposed_mean = get_new_proposal(current_mean, 0.2)\n",
    "    \n",
    "    # 5. P(data|proposed_mean) \n",
    "    proposed_data_loglike = log_likelihood_data(data, proposed_mean, prior_std)\n",
    "    # 6. P(proposed_mean) on prior distribution\n",
    "    proposed_prior_loglike = log_likelihood_prior(proposed_mean, prior_mean, prior_std)\n",
    "    # 7. combine into proposed likelihood\n",
    "    proposed_loglike = (proposed_data_loglike + proposed_prior_loglike)\n",
    "    \n",
    "    # 8. LL(proposed) / LL(current)\n",
    "    # this will be from 0 to inf.\n",
    "    acceptance_criterion = np.exp(proposed_loglike - current_loglike)\n",
    "    \n",
    "    # 9. get a random number between 0 and 1\n",
    "    random_fraction = np.random.rand()\n",
    "    \n",
    "    # 10. accept if over random_fraction\n",
    "    if acceptance_criterion > random_fraction:\n",
    "        return proposed_mean\n",
    "    else:\n",
    "        return current_mean\n",
    "    "
   ]
  },
  {
   "cell_type": "markdown",
   "metadata": {},
   "source": [
    "---\n",
    "\n",
    "### MCMC\n",
    "\n",
    "For the final MCMC function, we just need to supply:\n",
    "\n",
    "1. the data\n",
    "2. the initial information about our model (in this case, the initial mean delay proposal)\n",
    "3. the information about the prior distribution\n",
    "4. the number of iterations\n",
    "\n",
    "It will wrap the Metropolis-Hastings sampler and run it on each iteration. Recall that the sampler will return the current accepted model (mean). We append this to the list of posterior means and use it as the new current mean for the next iteration of the sampler."
   ]
  },
  {
   "cell_type": "code",
   "execution_count": null,
   "metadata": {
    "collapsed": false
   },
   "outputs": [],
   "source": [
    "def mcmc(data, initial_proposal, prior_mean, prior_std, iterations=1000):\n",
    "    \n",
    "    # 1. keep track of the accepted means:\n",
    "    accepted_means = [initial_proposal]\n",
    "    current_mean = initial_proposal\n",
    "    \n",
    "    for i in range(iterations):\n",
    "        if (i % 250) == 0:\n",
    "            print 'Iteration:', i\n",
    "        \n",
    "        current_mean = metropolis_sampler(data, current_mean, prior_mean, prior_std)\n",
    "        accepted_means.append(current_mean)\n",
    "        \n",
    "    return accepted_means"
   ]
  },
  {
   "cell_type": "markdown",
   "metadata": {},
   "source": [
    "---\n",
    "\n",
    "### Run MCMC on the delay data"
   ]
  },
  {
   "cell_type": "code",
   "execution_count": null,
   "metadata": {
    "collapsed": false,
    "scrolled": true
   },
   "outputs": [],
   "source": [
    "posterior = mcmc(delay, 30, 20, 0.01, iterations=2000)\n",
    "\n",
    "## http://stackoverflow.com/questions/9559346/deal-with-overflow-in-exp-using-numpy"
   ]
  },
  {
   "cell_type": "markdown",
   "metadata": {},
   "source": [
    "---\n",
    "\n",
    "### Plot the posterior means"
   ]
  },
  {
   "cell_type": "code",
   "execution_count": null,
   "metadata": {
    "collapsed": false
   },
   "outputs": [],
   "source": [
    "fig, ax = plt.subplots(figsize=(7,4))\n",
    "ax = sns.distplot(posterior, bins=40, kde=False)\n",
    "delay_mins = np.linspace(10, 30, 200)\n",
    "prior = stats.norm(20, 5)\n",
    "prior_pdf = prior.pdf(delay_mins)\n",
    "#ax.plot(delay_mins, prior_pdf, color='darkred', lw=2.5)\n",
    "plt.show()"
   ]
  },
  {
   "cell_type": "code",
   "execution_count": null,
   "metadata": {
    "collapsed": false
   },
   "outputs": [],
   "source": [
    "print np.mean(posterior), np.mean(delay)"
   ]
  },
  {
   "cell_type": "code",
   "execution_count": null,
   "metadata": {
    "collapsed": true
   },
   "outputs": [],
   "source": []
  }
 ],
 "metadata": {
  "anaconda-cloud": {},
  "kernelspec": {
   "display_name": "Python 2",
   "language": "python",
   "name": "python2"
  },
  "language_info": {
   "codemirror_mode": {
    "name": "ipython",
    "version": 2
   },
   "file_extension": ".py",
   "mimetype": "text/x-python",
   "name": "python",
   "nbconvert_exporter": "python",
   "pygments_lexer": "ipython2",
   "version": "2.7.13"
  }
 },
 "nbformat": 4,
 "nbformat_minor": 0
}
