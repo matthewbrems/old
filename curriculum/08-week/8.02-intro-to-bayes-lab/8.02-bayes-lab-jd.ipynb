{
 "cells": [
  {
   "cell_type": "markdown",
   "metadata": {},
   "source": [
    "# Monty Hall\n",
    "\n",
    "If you've ever heard of the \"Monty Hall Problem,\" it is a famous problem in statistics based on the game show \"Let's Make a Deal.\" (Monty Hall was the original host of this game show.) If you haven't heard of this game show, no worries.\n",
    "\n",
    "As part of \"Let's Make a Deal,\" there are three doors labeled \"A,\" \"B,\" and \"C.\" You are the contestant and are informed that behind exactly one door, there is a new car. Behind the other two doors are goats. Obviously, your goal as the contestant is to select the door with the car.\n",
    "\n",
    "The game goes as follows:\n",
    "1. You select a door.\n",
    "2. The game show host, knowing which door hides the car, opens one of the doors you do not select to reveal a goat. (Important: If you selected a door with a goat, the host picks the other door with a goat. If you started by selecting the door with the car, the host picks from the remaining two doors at random.)\n",
    "3. The host then asks you if you would like to stick with the door you originally picked, or if you would want to switch to the other remaining door."
   ]
  },
  {
   "cell_type": "markdown",
   "metadata": {},
   "source": [
    "Question 1: Suppose you pick a door. The host opens one of the remaining doors. You are then asked to stick with your original door or to switch to the remaining door. Based on your intuition, is it more advantageous to stick with your original door, to switch to the remaining door, or does your probability of success not change?"
   ]
  },
  {
   "cell_type": "code",
   "execution_count": null,
   "metadata": {
    "collapsed": true
   },
   "outputs": [],
   "source": [
    "## Answer 1: switch!!!"
   ]
  },
  {
   "cell_type": "markdown",
   "metadata": {},
   "source": [
    "Now let's apply some Bayesian reasoning to this problem. Recall that the formula for Bayes' Rule, as applied to some data $y$ and an unknown parameter $\\theta$, is:\n",
    "\n",
    "$$P(\\theta|y) = \\frac{P(y|\\theta)P(\\theta)}{P(y)}$$\n",
    "\n",
    "Further recall that:\n",
    "- $P(\\theta)$ is the **prior probability** of $\\theta$.\n",
    "- $P(y|\\theta)$ is the **likelihood** of our data $y$ given $\\theta$.\n",
    "- $P(y)$ is the **marginal likelihood** of our data $y$.\n",
    "\n",
    "Our strategy here will be to find $P(\\theta|y)$ for $\\theta=A,B,C$ and decide which probability is highest."
   ]
  },
  {
   "cell_type": "markdown",
   "metadata": {},
   "source": [
    "For these scenarios, the data $y$ is that the host selects door B *and* that door B does not contain the car."
   ]
  },
  {
   "cell_type": "markdown",
   "metadata": {},
   "source": [
    "Question 2: Suppose you pick door A. The host opens door B to reveal a goat.\n",
    "\n",
    "For $P(\\theta=A|y=B)$, identify the prior $P(\\theta=A)$, the likelihood $P(y=B|\\theta=A)$, and the marginal likelihood $P(y=B)$. Then calculate the posterior $P(\\theta=A|y=B)$."
   ]
  },
  {
   "cell_type": "code",
   "execution_count": 1,
   "metadata": {
    "collapsed": false
   },
   "outputs": [
    {
     "data": {
      "text/plain": [
       "0.33333"
      ]
     },
     "execution_count": 1,
     "metadata": {},
     "output_type": "execute_result"
    }
   ],
   "source": [
    "## Answer 2:\n",
    "## P(theta=A) = 1/3\n",
    "prior = 0.33333\n",
    "## probability that door A has the car. 3 cars with equal probability\n",
    "\n",
    "## p(y=B|theta=A) = 1/2\n",
    "likelihood = 0.5\n",
    "## probability that door B has the other goat given that A has been opened\n",
    "## since A has been opened and there's no car, this changes our probability\n",
    "## we now have 2 doors to open, and 1 has to have a goat behind it\n",
    "\n",
    "## p(y=B) = 1/2\n",
    "marginal = 0.5\n",
    "## p(y=B|theta = A)*P(theta = A) + p(y=B|theta = B)*P(theta = B) + p(y=B|theta = C)*P(theta = C)\n",
    "## p(y=B) = (1/2 * 1/3) + (0 * 1/3) + (1 * 1/3)\n",
    "## = 1/2\n",
    "\n",
    "## p(theta=A|y=B) = \n",
    "\n",
    "## probability that door A has the car\n",
    "## given that door B was opened and had a goat\n",
    "\n",
    "def posterior(prior, likelihood, marginal):\n",
    "    return (float(likelihood) * float(prior))/float(marginal)\n",
    "\n",
    "posterior(prior, likelihood, marginal)"
   ]
  },
  {
   "cell_type": "markdown",
   "metadata": {},
   "source": [
    "Question 3: Is this surprising? Why or why not?"
   ]
  },
  {
   "cell_type": "code",
   "execution_count": 2,
   "metadata": {
    "collapsed": true
   },
   "outputs": [],
   "source": [
    "## Answer 3: \n",
    "## Not surprising. Asking for the prob that the car \n",
    "## is behind door A given B has been opened and has a goat\n",
    "## means that we haven't switched our door\n",
    "## so nothing has changed"
   ]
  },
  {
   "cell_type": "markdown",
   "metadata": {},
   "source": [
    "Question 4: Suppose you pick door A. The host opens door B to reveal a goat.\n",
    "\n",
    "For $P(\\theta=B|y=B)$, identify the prior $P(\\theta=B)$, the likelihood $P(y=B|\\theta=B)$, and the marginal likelihood $P(y=B)$. Then calculate the posterior $P(\\theta=B|y=B)$."
   ]
  },
  {
   "cell_type": "code",
   "execution_count": 3,
   "metadata": {
    "collapsed": false
   },
   "outputs": [
    {
     "data": {
      "text/plain": [
       "0.0"
      ]
     },
     "execution_count": 3,
     "metadata": {},
     "output_type": "execute_result"
    }
   ],
   "source": [
    "## Answer 4:\n",
    "\n",
    "# probability that car is behind B\n",
    "prior = 0.33333\n",
    "\n",
    "# probability that Monty picks B given that door B has the car behind it\n",
    "likelihood =  0\n",
    "\n",
    "marginal = 0.5\n",
    "\n",
    "\n",
    "posterior(prior, likelihood, marginal)\n",
    "\n"
   ]
  },
  {
   "cell_type": "markdown",
   "metadata": {},
   "source": [
    "Question 5: Is this surprising? Why or why not?"
   ]
  },
  {
   "cell_type": "code",
   "execution_count": null,
   "metadata": {
    "collapsed": true
   },
   "outputs": [],
   "source": [
    "## Answer 5: \n",
    "\n",
    "# if we know that Monty is going to pick door B, by the rules\n",
    "# of the game, we know that there won't be a car behind it\n",
    "# so there's 0 chance a car is behind door B given Monty opened door B"
   ]
  },
  {
   "cell_type": "markdown",
   "metadata": {},
   "source": [
    "Question 6: Suppose you pick door A. The host opens door B to reveal a goat.\n",
    "\n",
    "For $P(\\theta=C|y)$, identify the prior $P(\\theta=C)$, the likelihood $P(y|\\theta=C)$, and the marginal likelihood $P(y)$. Then calculate the posterior $P(\\theta=C|y)$."
   ]
  },
  {
   "cell_type": "code",
   "execution_count": 4,
   "metadata": {
    "collapsed": false
   },
   "outputs": [
    {
     "data": {
      "text/plain": [
       "0.666666"
      ]
     },
     "execution_count": 4,
     "metadata": {},
     "output_type": "execute_result"
    }
   ],
   "source": [
    "## Answer 6:\n",
    "\n",
    "\n",
    "prior = 0.333333\n",
    "likelihood = 1\n",
    "marginal = 0.5\n",
    "\n",
    "posterior(prior, likelihood, marginal)"
   ]
  },
  {
   "cell_type": "markdown",
   "metadata": {},
   "source": [
    "Question 7: Is this surprising? Why or why not?"
   ]
  },
  {
   "cell_type": "code",
   "execution_count": null,
   "metadata": {
    "collapsed": true
   },
   "outputs": [],
   "source": [
    "## Answer 7: \n",
    "\n",
    "## Yes if I am to pretend I didn't know from week 2 that the probability would increase\n",
    "## reasoning: because we are given more information through Monty opening a door\n",
    "## after he opens the goat door, we now know that a car must be behind\n",
    "## one of the two remaining doors\n",
    "## therefore, our probability has increased"
   ]
  },
  {
   "cell_type": "markdown",
   "metadata": {},
   "source": [
    "Question 8: Build a function called lets_make_a_deal that runs the Let's Make a Deal game by taking:\n",
    "- 'A', 'B', or 'C' as the input for the door\n",
    "- 'K' or 'S' as the input indicating \"keep\" or \"switch\" when asked\n",
    "\n",
    "The function should return:\n",
    "- 'win' if the contestant won.\n",
    "- 'lose' if the contestant lost.\n",
    "\n",
    "Note that you'll need to make sure that, before anything else, the computer selects a random entry."
   ]
  },
  {
   "cell_type": "code",
   "execution_count": 7,
   "metadata": {
    "collapsed": false
   },
   "outputs": [
    {
     "data": {
      "text/plain": [
       "'lose'"
      ]
     },
     "execution_count": 7,
     "metadata": {},
     "output_type": "execute_result"
    }
   ],
   "source": [
    "## Answer 8: \n",
    "import random\n",
    "import numpy as np\n",
    "def lets_make_a_deal(door,action):\n",
    "    doors = ['A','B','C']\n",
    "    car_door = np.random.choice(doors)\n",
    "    if door==car_door:\n",
    "        if action=='K':\n",
    "            return 'win'\n",
    "        elif action=='S':\n",
    "            return 'lose'\n",
    "    else:\n",
    "        if action=='K': # you haven't picked the correct door and you stay put\n",
    "            return 'lose'\n",
    "        elif action=='S':\n",
    "            return 'win'\n",
    "\n",
    "lets_make_a_deal('A','K')"
   ]
  },
  {
   "cell_type": "markdown",
   "metadata": {},
   "source": [
    "Question 9: Simulate 10,000 games where the person always switched. Report your results."
   ]
  },
  {
   "cell_type": "code",
   "execution_count": 8,
   "metadata": {
    "collapsed": false
   },
   "outputs": [],
   "source": [
    "## Answer 9:\n",
    "\n",
    "def n_sims(n_games):\n",
    "    results = []\n",
    "    door = random.choice(['A','B','C'])\n",
    "    for i in range(0,n_games):\n",
    "        results.append( lets_make_a_deal(door,'S') )\n",
    "    print 'Pct win = ' + str(results.count('win') / float(n_games) * 100) + '%\\nPct loss = ' + str(results.count('lose') / float(n_games) * 100) + '%'"
   ]
  },
  {
   "cell_type": "code",
   "execution_count": 9,
   "metadata": {
    "collapsed": false
   },
   "outputs": [
    {
     "name": "stdout",
     "output_type": "stream",
     "text": [
      "Pct win = 67.29%\n",
      "Pct loss = 32.71%\n"
     ]
    }
   ],
   "source": [
    "n_sims(10000)"
   ]
  },
  {
   "cell_type": "markdown",
   "metadata": {},
   "source": [
    "Question 10: Take your function from question 8 and adapt it to include:\n",
    "- 'A', 'B', or 'C' as the input for the door\n",
    "- 'K' or 'S' as the input indicating \"keep\" or \"switch\" when asked\n",
    "- A list of three probabilities indicating the probability that the car is behind door A, door B, and door C, respectively. (Note: What happens if the user submits a list that doesn't sum to 1? Can you force the probabilities to sum to 1?)\n",
    "\n",
    "Build this function, play around with different inputs, and summarize your findings. Be sure to contrast these findings with the function you wrote for question 8."
   ]
  },
  {
   "cell_type": "code",
   "execution_count": 23,
   "metadata": {
    "collapsed": true
   },
   "outputs": [],
   "source": [
    "## Answer 10:\n",
    "\n",
    "\n",
    "def list_probs(door,action,probs):\n",
    "    total = sum(probs)                   # sum up list of entered probabilities\n",
    "    if total != 1:                       # if the sum of probabilities exceeds 1, then we'll\n",
    "        probs = [x/total for x in probs] # divide each p by the sum to force them under 1\n",
    "    results = []\n",
    "    car = np.random.choice(['A','B','C'],p=probs)\n",
    "    return lets_make_a_deal(door,action)\n",
    "    "
   ]
  },
  {
   "cell_type": "code",
   "execution_count": 25,
   "metadata": {
    "collapsed": false
   },
   "outputs": [
    {
     "data": {
      "text/plain": [
       "'win'"
      ]
     },
     "execution_count": 25,
     "metadata": {},
     "output_type": "execute_result"
    }
   ],
   "source": [
    "list_probs('A','S',[0.3,0.2,0.8])"
   ]
  },
  {
   "cell_type": "markdown",
   "metadata": {},
   "source": [
    "Question 11: Consider the bowls of cookies example from lecture. (We didn't cover this yet!) Create a function called cookie_monster that:\n",
    "- takes a list for bowl 1 as an input indicating the distribution of cookies (i.e. [30, 10])\n",
    "- takes a list for bowl 2 as an input indicating the distribution of cookies (i.e. [20, 20])\n",
    "- takes a list of probabilities as an input indicating how likely one is to select a cookie from bowl 1 or bowl 2. (Note: What happens if the user submits a list that doesn't sum to 1? Can you force the probabilities to sum to 1?)\n",
    "- outputs the probabilities of each bowl being the one from which the cookie was selected. Be explicit with your labels/output\n",
    "\n",
    "Build this function, play around with different inputs, and summarize your findings."
   ]
  },
  {
   "cell_type": "code",
   "execution_count": 38,
   "metadata": {
    "collapsed": false
   },
   "outputs": [],
   "source": [
    "## Answer 11:\n",
    "\n",
    "def cookie_monster(bowl_1, bowl_2, probs):\n",
    "    cookie = random.choice(['vanilla','chocolate'])\n",
    "    total = float(sum(probs))                   # sum up list of entered probabilities\n",
    "    if total != 1:                       # if the sum of probabilities exceeds 1, then we'll\n",
    "        probs = [x/total for x in probs] # divide each p by the sum to force them under 1\n",
    "\n",
    "    if cookie=='vanilla':   # assign the index of the bowl cookie dist\n",
    "        x = 0\n",
    "    else:\n",
    "        x = 1\n",
    "    \n",
    "    likelihood_b1_numerator = (bowl_1[0]/float(sum(bowl_1))) * probs[0]\n",
    "    likelihood_b2_numerator = (bowl_2[0]/float(sum(bowl_2))) * probs[1]\n",
    "    \n",
    "    p_chosen_cookie = likelihood_b1_numerator + likelihood_b2_numerator\n",
    "    \n",
    "    likelihood_b1 = likelihood_b1_numerator / float(p_chosen_cookie) * 100\n",
    "    likelihood_b2 = likelihood_b2_numerator / float(p_chosen_cookie) * 100\n",
    "    \n",
    "    print 'Given that we have a ' + cookie + ' cookie, the probability that it came from\\nBowl 1 = ' + str(round(likelihood_b1,2)) + '% \\nBowl 2 = ' + str(round(likelihood_b2,2)) + '%'\n",
    "    \n",
    "    "
   ]
  },
  {
   "cell_type": "code",
   "execution_count": 40,
   "metadata": {
    "collapsed": false
   },
   "outputs": [
    {
     "name": "stdout",
     "output_type": "stream",
     "text": [
      "Given that we have a vanilla cookie, the probability that it came from\n",
      "Bowl 1 = 38.03% \n",
      "Bowl 2 = 61.97%\n"
     ]
    }
   ],
   "source": [
    "cookie_monster(bowl_1 = [15,25], bowl_2 = [11, 7] , probs = [.5, .5])"
   ]
  },
  {
   "cell_type": "code",
   "execution_count": null,
   "metadata": {
    "collapsed": true
   },
   "outputs": [],
   "source": []
  }
 ],
 "metadata": {
  "anaconda-cloud": {},
  "kernelspec": {
   "display_name": "Python 2",
   "language": "python",
   "name": "python2"
  },
  "language_info": {
   "codemirror_mode": {
    "name": "ipython",
    "version": 2
   },
   "file_extension": ".py",
   "mimetype": "text/x-python",
   "name": "python",
   "nbconvert_exporter": "python",
   "pygments_lexer": "ipython2",
   "version": "2.7.13"
  }
 },
 "nbformat": 4,
 "nbformat_minor": 1
}
