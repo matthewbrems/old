{
 "cells": [
  {
   "cell_type": "markdown",
   "metadata": {},
   "source": [
    "# Monty Hall\n",
    "\n",
    "If you've ever heard of the \"Monty Hall Problem,\" it is a famous problem in statistics based on the game show \"Let's Make a Deal.\" (Monty Hall was the original host of this game show.) If you haven't heard of this game show, no worries.\n",
    "\n",
    "As part of \"Let's Make a Deal,\" there are three doors labeled \"A,\" \"B,\" and \"C.\" You are the contestant and are informed that behind exactly one door, there is a new car. Behind the other two doors are goats. Obviously, your goal as the contestant is to select the door with the car.\n",
    "\n",
    "The game goes as follows:\n",
    "1. You select a door.\n",
    "2. The game show host, knowing which door hides the car, opens one of the doors you do not select to reveal a goat. (Important: If you selected a door with a goat, the host picks the other door with a goat. If you started by selecting the door with the car, the host picks from the remaining two doors at random.)\n",
    "3. The host then asks you if you would like to stick with the door you originally picked, or if you would want to switch to the other remaining door."
   ]
  },
  {
   "cell_type": "markdown",
   "metadata": {},
   "source": [
    "Question 1: Suppose you pick a door. The host opens one of the remaining doors. You are then asked to stick with your original door or to switch to the remaining door. Based on your intuition, is it more advantageous to stick with your original door, to switch to the remaining door, or does your probability of success not change?"
   ]
  },
  {
   "cell_type": "code",
   "execution_count": null,
   "metadata": {
    "collapsed": true
   },
   "outputs": [],
   "source": [
    "## Answer 1:"
   ]
  },
  {
   "cell_type": "markdown",
   "metadata": {},
   "source": [
    "Now let's apply some Bayesian reasoning to this problem. Recall that the formula for Bayes' Rule, as applied to some data $y$ and an unknown parameter $\\theta$, is:\n",
    "\n",
    "$$P(\\theta|y) = \\frac{P(y|\\theta)P(\\theta)}{P(y)}$$\n",
    "\n",
    "Further recall that:\n",
    "- $P(\\theta)$ is the **prior probability** of $\\theta$.\n",
    "- $P(y|\\theta)$ is the **likelihood** of our data $y$ given $\\theta$.\n",
    "- $P(y)$ is the **marginal likelihood** of our data $y$.\n",
    "\n",
    "Our strategy here will be to find $P(\\theta|y)$ for $\\theta=A,B,C$ and decide which probability is highest."
   ]
  },
  {
   "cell_type": "markdown",
   "metadata": {},
   "source": [
    "For these scenarios, the data $y$ is that the host selects door B *and* that door B does not contain the car."
   ]
  },
  {
   "cell_type": "markdown",
   "metadata": {},
   "source": [
    "Question 2: Suppose you pick door A. The host opens door B to reveal a goat.\n",
    "\n",
    "For $P(\\theta=A|y=B)$, identify the prior $P(\\theta=A)$, the likelihood $P(y=B|\\theta=A)$, and the marginal likelihood $P(y=B)$. Then calculate the posterior $P(\\theta=A|y=B)$."
   ]
  },
  {
   "cell_type": "code",
   "execution_count": null,
   "metadata": {
    "collapsed": true
   },
   "outputs": [],
   "source": [
    "## Answer 2:"
   ]
  },
  {
   "cell_type": "markdown",
   "metadata": {},
   "source": [
    "Question 3: Is this surprising? Why or why not?"
   ]
  },
  {
   "cell_type": "code",
   "execution_count": null,
   "metadata": {
    "collapsed": true
   },
   "outputs": [],
   "source": [
    "## Answer 3: "
   ]
  },
  {
   "cell_type": "markdown",
   "metadata": {},
   "source": [
    "Question 4: Suppose you pick door A. The host opens door B to reveal a goat.\n",
    "\n",
    "For $P(\\theta=B|y=B)$, identify the prior $P(\\theta=B)$, the likelihood $P(y=B|\\theta=B)$, and the marginal likelihood $P(y=B)$. Then calculate the posterior $P(\\theta=B|y=B)$."
   ]
  },
  {
   "cell_type": "code",
   "execution_count": null,
   "metadata": {
    "collapsed": true
   },
   "outputs": [],
   "source": [
    "## Answer 4:"
   ]
  },
  {
   "cell_type": "markdown",
   "metadata": {},
   "source": [
    "Question 5: Is this surprising? Why or why not?"
   ]
  },
  {
   "cell_type": "code",
   "execution_count": null,
   "metadata": {
    "collapsed": true
   },
   "outputs": [],
   "source": [
    "## Answer 5: "
   ]
  },
  {
   "cell_type": "markdown",
   "metadata": {},
   "source": [
    "Question 6: Suppose you pick door A. The host opens door B to reveal a goat.\n",
    "\n",
    "For $P(\\theta=C|y)$, identify the prior $P(\\theta=C)$, the likelihood $P(y|\\theta=C)$, and the marginal likelihood $P(y)$. Then calculate the posterior $P(\\theta=C|y)$."
   ]
  },
  {
   "cell_type": "code",
   "execution_count": null,
   "metadata": {
    "collapsed": true
   },
   "outputs": [],
   "source": [
    "## Answer 6:"
   ]
  },
  {
   "cell_type": "markdown",
   "metadata": {},
   "source": [
    "Question 7: Is this surprising? Why or why not?"
   ]
  },
  {
   "cell_type": "code",
   "execution_count": null,
   "metadata": {
    "collapsed": true
   },
   "outputs": [],
   "source": [
    "## Answer 7: "
   ]
  },
  {
   "cell_type": "markdown",
   "metadata": {},
   "source": [
    "Question 8: Build a function called lets_make_a_deal that runs the Let's Make a Deal game by taking:\n",
    "- 'A', 'B', or 'C' as the input for the door\n",
    "- 'K' or 'S' as the input indicating \"keep\" or \"switch\" when asked\n",
    "\n",
    "The function should return:\n",
    "- 'win' if the contestant won.\n",
    "- 'lose' if the contestant lost.\n",
    "\n",
    "Note that you'll need to make sure that, before anything else, the computer selects a random entry."
   ]
  },
  {
   "cell_type": "code",
   "execution_count": null,
   "metadata": {
    "collapsed": true
   },
   "outputs": [],
   "source": [
    "## Answer 8: "
   ]
  },
  {
   "cell_type": "markdown",
   "metadata": {},
   "source": [
    "Question 9: Simulate 10,000 games where the person always switched. Report your results."
   ]
  },
  {
   "cell_type": "code",
   "execution_count": null,
   "metadata": {
    "collapsed": true
   },
   "outputs": [],
   "source": [
    "## Answer 9:"
   ]
  },
  {
   "cell_type": "markdown",
   "metadata": {},
   "source": [
    "Question 10: Take your function from question 8 and adapt it to include:\n",
    "- 'A', 'B', or 'C' as the input for the door\n",
    "- 'K' or 'S' as the input indicating \"keep\" or \"switch\" when asked\n",
    "- A list of three probabilities indicating the probability that the car is behind door A, door B, and door C, respectively. (Note: What happens if the user submits a list that doesn't sum to 1? Can you force the probabilities to sum to 1?)\n",
    "\n",
    "Build this function, play around with different inputs, and summarize your findings. Be sure to contrast these findings with the function you wrote for question 8."
   ]
  },
  {
   "cell_type": "code",
   "execution_count": null,
   "metadata": {
    "collapsed": true
   },
   "outputs": [],
   "source": [
    "## Answer 10:"
   ]
  },
  {
   "cell_type": "markdown",
   "metadata": {},
   "source": [
    "Question 11: Consider the bowls of cookies example from lecture. Create a function called cookie_monster that:\n",
    "- takes a list for bowl 1 as an input indicating the distribution of cookies (i.e. [30, 10]), where the first item in the list corresponds how many vanilla cookies there are.\n",
    "- takes a list for bowl 2 as an input indicating the distribution of cookies (i.e. [20, 20]), where the first item in the list corresponds how many vanilla cookies there are.\n",
    "- takes a list of probabilities as an input indicating how likely one is to select a cookie from bowl 1 or bowl 2. (Note: What happens if the user submits a list that doesn't sum to 1? Can you force the probabilities to sum to 1?)\n",
    "- outputs the probabilities of each bowl being the one from which the cookie was selected. Be explicit with your labels/output!\n",
    "\n",
    "Build this function, play around with different inputs, and summarize your findings."
   ]
  },
  {
   "cell_type": "code",
   "execution_count": null,
   "metadata": {
    "collapsed": true
   },
   "outputs": [],
   "source": [
    "## Answer 11:"
   ]
  }
 ],
 "metadata": {
  "anaconda-cloud": {},
  "kernelspec": {
   "display_name": "Python 2",
   "language": "python",
   "name": "python2"
  },
  "language_info": {
   "codemirror_mode": {
    "name": "ipython",
    "version": 2
   },
   "file_extension": ".py",
   "mimetype": "text/x-python",
   "name": "python",
   "nbconvert_exporter": "python",
   "pygments_lexer": "ipython2",
   "version": "2.7.13"
  }
 },
 "nbformat": 4,
 "nbformat_minor": 1
}
