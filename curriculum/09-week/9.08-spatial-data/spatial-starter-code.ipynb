{
 "cells": [
  {
   "cell_type": "code",
   "execution_count": null,
   "metadata": {
    "collapsed": false
   },
   "outputs": [],
   "source": [
    "# pip install geopandas\n",
    "# pip install tqdm\n",
    "# pip install pysal\n",
    "\n",
    "# basic stuff\n",
    "import os\n",
    "import pandas as pd\n",
    "import numpy as np\n",
    "from random import randint, uniform\n",
    "from datetime import datetime\n",
    "from urllib import urlretrieve\n",
    "from zipfile import ZipFile\n",
    "import pysal\n",
    "\n",
    "# geo stuff\n",
    "import geopandas as gpd\n",
    "from shapely.geometry import Point\n",
    "# from ipyleaflet import (Map,\n",
    "#     Marker,\n",
    "#     TileLayer, ImageOverlay,\n",
    "#     Polyline, Polygon, Rectangle, Circle, CircleMarker,\n",
    "#     GeoJSON,\n",
    "#     DrawControl\n",
    "# )\n",
    "\n",
    "# plotting stuff\n",
    "%matplotlib inline\n",
    "import matplotlib.pyplot as plt\n",
    "import seaborn as sns\n",
    "plt.style.use('bmh')\n",
    "plt.rcParams['figure.figsize'] = (10.0, 10.0)\n",
    "\n",
    "# widget stuff\n",
    "from ipywidgets import interact, HTML, FloatSlider\n",
    "from IPython.display import clear_output, display\n",
    "\n",
    "# progress stuff\n",
    "from tqdm import tqdm_notebook, tqdm_pandas\n",
    "\n",
    "# turn warnings off\n",
    "import warnings\n",
    "warnings.filterwarnings('ignore')"
   ]
  },
  {
   "cell_type": "code",
   "execution_count": null,
   "metadata": {
    "collapsed": true
   },
   "outputs": [],
   "source": [
    "## Let's start off with something small.\n",
    "\n",
    "world = gpd.read_file(gpd.datasets.get_path('naturalearth_lowres'))"
   ]
  },
  {
   "cell_type": "code",
   "execution_count": null,
   "metadata": {
    "collapsed": false
   },
   "outputs": [],
   "source": [
    "world.head()"
   ]
  },
  {
   "cell_type": "code",
   "execution_count": null,
   "metadata": {
    "collapsed": false
   },
   "outputs": [],
   "source": [
    "world.plot()"
   ]
  },
  {
   "cell_type": "code",
   "execution_count": null,
   "metadata": {
    "collapsed": true
   },
   "outputs": [],
   "source": [
    "world = world[(world.pop_est>0) & (world.name!=\"Antarctica\")]"
   ]
  },
  {
   "cell_type": "code",
   "execution_count": null,
   "metadata": {
    "collapsed": true
   },
   "outputs": [],
   "source": [
    "world['gdp_per_cap'] = world.gdp_md_est / world.pop_est"
   ]
  },
  {
   "cell_type": "code",
   "execution_count": null,
   "metadata": {
    "collapsed": false
   },
   "outputs": [],
   "source": [
    "world.plot(column='gdp_per_cap', cmap='OrRd')"
   ]
  },
  {
   "cell_type": "code",
   "execution_count": null,
   "metadata": {
    "collapsed": false
   },
   "outputs": [],
   "source": [
    "world.plot(column='gdp_per_cap', cmap='OrRd', scheme='quantiles');"
   ]
  },
  {
   "cell_type": "code",
   "execution_count": null,
   "metadata": {
    "collapsed": true
   },
   "outputs": [],
   "source": [
    "## http://geopandas.org/mapping.html has good information on the above as well as how to map with layers."
   ]
  },
  {
   "cell_type": "code",
   "execution_count": null,
   "metadata": {
    "collapsed": true
   },
   "outputs": [],
   "source": [
    "def get_nyc_shape_file(url, filename):\n",
    "\n",
    "    # download file\n",
    "    zipped = filename + '.zip'\n",
    "    urlretrieve('https://data.cityofnewyork.us/api/geospatial/tqmj-j8zm?method=export&format=Shapefile', zipped)\n",
    "    zipped = os.getcwd() + '/' + zipped\n",
    "\n",
    "    # unzip file\n",
    "    to_unzip = ZipFile(zipped, 'r')\n",
    "    unzipped = os.getcwd() + '/' + filename + '_unzipped'\n",
    "    to_unzip.extractall(unzipped)\n",
    "    to_unzip.close()\n",
    "\n",
    "    # get shape file\n",
    "    for file in os.listdir(unzipped):\n",
    "        if file.endswith(\".shp\"):\n",
    "            shape_file =  unzipped + '/' + file\n",
    "\n",
    "    # return full file path\n",
    "    return shape_file"
   ]
  },
  {
   "cell_type": "code",
   "execution_count": null,
   "metadata": {
    "collapsed": true
   },
   "outputs": [],
   "source": [
    "# get shape file path\n",
    "shape_file_url = 'https://data.cityofnewyork.us/api/geospatial/tqmj-j8zm?method=export&format=Shapefile'\n",
    "shape_file_dir = 'nyc_boroughs'\n",
    "file_path = get_nyc_shape_file(shape_file_url,shape_file_dir)"
   ]
  },
  {
   "cell_type": "code",
   "execution_count": null,
   "metadata": {
    "collapsed": false
   },
   "outputs": [],
   "source": [
    "# read and view GeoDataFrame\n",
    "gdf = gpd.GeoDataFrame.from_file(file_path)\n",
    "gdf.head()"
   ]
  },
  {
   "cell_type": "code",
   "execution_count": null,
   "metadata": {
    "collapsed": false
   },
   "outputs": [],
   "source": [
    "gdf['geometry']"
   ]
  },
  {
   "cell_type": "code",
   "execution_count": null,
   "metadata": {
    "collapsed": false
   },
   "outputs": [],
   "source": [
    "## http://geopandas.org/reference.html <-- lists all attributes and methods of GeoDataFrames!\n",
    "\n",
    "gdf['geometry'].centroid"
   ]
  },
  {
   "cell_type": "code",
   "execution_count": null,
   "metadata": {
    "collapsed": false
   },
   "outputs": [],
   "source": [
    "# plot GeoDataFrame\n",
    "gdf.plot()"
   ]
  },
  {
   "cell_type": "code",
   "execution_count": null,
   "metadata": {
    "collapsed": false
   },
   "outputs": [],
   "source": [
    "# create convex hulls\n",
    "hulls = gdf['geometry'].convex_hull\n",
    "\n",
    "# plot overlay\n",
    "hulls.plot(ax=gdf.plot())"
   ]
  },
  {
   "cell_type": "code",
   "execution_count": null,
   "metadata": {
    "collapsed": false
   },
   "outputs": [],
   "source": [
    "# create envelopes\n",
    "envelope = gpd.GeoSeries(hulls.envelope)\n",
    "\n",
    "# plot overlay\n",
    "envelope.plot(ax=gdf.plot())"
   ]
  },
  {
   "cell_type": "code",
   "execution_count": null,
   "metadata": {
    "collapsed": false
   },
   "outputs": [],
   "source": [
    "def sim_users(n, p, f):\n",
    "\n",
    "    # create datetime range\n",
    "    today = datetime.today().strftime(\"%m/%d/%Y\")\n",
    "    rng = pd.date_range(today, periods=p, freq=f)\n",
    "\n",
    "    # get min/max coordinates\n",
    "    min_x, min_y = gdf['geometry'].bounds.ix[:,:2].min()\n",
    "    max_x, max_y = gdf['geometry'].bounds.ix[:,2:].max()\n",
    "\n",
    "    # iterate over time datetime range and create user list\n",
    "    sim_user_list = []\n",
    "    for ts in tqdm_notebook(rng, desc='Progress', leave=True):\n",
    "        for j in xrange(n):\n",
    "            x = uniform(min_x, max_x)\n",
    "            y = uniform(min_y, max_y)\n",
    "            point = Point(x, y)\n",
    "            gender = randint(0, 1)\n",
    "            sim_user_list.append([ts, x, y, point, gender])\n",
    "\n",
    "    # return dataframe\n",
    "    sim_user_df = pd.DataFrame(sim_user_list, columns=['datetime', 'x', 'y', 'point', 'gender'])\n",
    "    return sim_user_df\n",
    "\n",
    "# simulate user data\n",
    "sim_data = sim_users(100, 24, 'H')\n",
    "sim_data.head()"
   ]
  },
  {
   "cell_type": "code",
   "execution_count": null,
   "metadata": {
    "collapsed": false
   },
   "outputs": [],
   "source": []
  },
  {
   "cell_type": "code",
   "execution_count": null,
   "metadata": {
    "collapsed": false
   },
   "outputs": [],
   "source": [
    "# plot simulated data points\n",
    "gdf.plot()\n",
    "plt.scatter(x=sim_data['x'], y=sim_data['y'], alpha=0.3, c='r')"
   ]
  },
  {
   "cell_type": "code",
   "execution_count": null,
   "metadata": {
    "collapsed": true
   },
   "outputs": [],
   "source": [
    "# check if point(s) fall within known geometry - actual\n",
    "sim_data['contains_1'] = sim_data['point'].map(lambda x: True if gdf.contains(x).any()==True else False)"
   ]
  },
  {
   "cell_type": "code",
   "execution_count": null,
   "metadata": {
    "collapsed": false
   },
   "outputs": [],
   "source": [
    "sim_data['contains_1'].head(10)"
   ]
  },
  {
   "cell_type": "code",
   "execution_count": null,
   "metadata": {
    "collapsed": true
   },
   "outputs": [],
   "source": [
    "# check if point(s) fall within known geometry - convex hulls\n",
    "sim_data['contains_2'] = sim_data['point'].map(lambda x: True if hulls.contains(x).any()==True else False)"
   ]
  },
  {
   "cell_type": "code",
   "execution_count": null,
   "metadata": {
    "collapsed": true
   },
   "outputs": [],
   "source": [
    "# check if point(s) fall within known geometry - envelopes\n",
    "sim_data['contains_3'] = sim_data['point'].map(lambda x: True if envelope.contains(x).any()==True else False)"
   ]
  },
  {
   "cell_type": "code",
   "execution_count": null,
   "metadata": {
    "collapsed": false
   },
   "outputs": [],
   "source": [
    "sim_data['datetime']"
   ]
  },
  {
   "cell_type": "code",
   "execution_count": null,
   "metadata": {
    "collapsed": false
   },
   "outputs": [],
   "source": [
    "def make_plot(hour=1):\n",
    "\n",
    "    # filter dataframe\n",
    "    temp = sim_data[sim_data['contains_2']==True]\n",
    "    temp=temp[temp['datetime'].dt.hour==hour]\n",
    "\n",
    "    # plot\n",
    "    hulls.plot(ax=gdf.plot())\n",
    "    plt.scatter(x=temp['x'], y=temp['y'], s=30)\n",
    "\n",
    "# create widget\n",
    "interact(make_plot, hour=(1, 23, 1))"
   ]
  }
 ],
 "metadata": {
  "kernelspec": {
   "display_name": "Python 2",
   "language": "python",
   "name": "python2"
  },
  "language_info": {
   "codemirror_mode": {
    "name": "ipython",
    "version": 2
   },
   "file_extension": ".py",
   "mimetype": "text/x-python",
   "name": "python",
   "nbconvert_exporter": "python",
   "pygments_lexer": "ipython2",
   "version": "2.7.13"
  },
  "widgets": {
   "state": {
    "3222eadeff8748c1859c901db97c3234": {
     "views": [
      {
       "cell_index": 25
      }
     ]
    },
    "71043d60b8934bcc8d60872d898ae9e3": {
     "views": [
      {
       "cell_index": 16
      }
     ]
    }
   },
   "version": "1.2.0"
  }
 },
 "nbformat": 4,
 "nbformat_minor": 2
}
