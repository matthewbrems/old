{
 "cells": [
  {
   "cell_type": "markdown",
   "metadata": {},
   "source": [
    "# CORRELATED DATA LAB"
   ]
  },
  {
   "cell_type": "markdown",
   "metadata": {},
   "source": [
    "## Correlated States\n",
    "\n",
    "Read [this](http://fivethirtyeight.com/features/why-fivethirtyeight-gave-trump-a-better-chance-than-almost-anyone-else/) FiveThirtyEight article about polls in states being correlated with one another.\n",
    "\n",
    "Suppose you were advising a Presidential candidate's pollster in the 2020 election. \n",
    "\n",
    "The pollster took polls in every state/region with electoral votes, treated each state as \"independent coin flips,\" and estimated the probability of your candidate winning by simulating 1,000,000 elections.\n",
    "\n",
    "What suggests do you have for the pollster? Specifically, discuss how appropriate the assumption of independence is in this case and suggest improvements if you feel any are necessary."
   ]
  },
  {
   "cell_type": "markdown",
   "metadata": {},
   "source": [
    "#### Answer:"
   ]
  },
  {
   "cell_type": "markdown",
   "metadata": {
    "collapsed": true
   },
   "source": [
    "We cannot treat states as independent when it comes to polls. Data from previous elections shows that states with similar demographics will have similar election outcomes. If a race is close in a few states, like swing states, and candidate A beats their polling by a couple of percentage points, then it's very likely that states with a similar makeup will follow suit. We should look at the data and add correlations where appropriate."
   ]
  },
  {
   "cell_type": "markdown",
   "metadata": {},
   "source": [
    "## Correlated Stock Prices\n",
    "\n",
    "You're interested in the performance of a particular stock. You use the [autocorrelation function](http://pandas.pydata.org/pandas-docs/stable/generated/pandas.Series.autocorr.html) in Pandas to assess how autocorrelated your stock's values are.\n",
    "\n",
    "Autocorrelation makes explicit the idea of temporal correlation we discussed previously. Suppose we wanted to see how correlated a stock's prices are with the immediately preceding day's stock prices. You can think of two columns in a Pandas dataframe: one column with all stock prices, the other column with all stock prices adjusted by one day. The first row in this dataframe will consist of day 1 and day 2 stock prices, the second row in this dataframe will consist of day 2 and day 3 stock prices, and so on. Autocorrelation with a lag of 1 will calculate the correlation between these two columns. Autocorrelation with a lag of $k$ will calculate the correlation between stock prices and the stock prices of $k$ days before in a similar manner.\n",
    "\n",
    "I build a loop that iterates through days (we'll assume our stock price is the closing price at every day) 1 to 365 to assess how correlated a stock price is with the stock price from $i$ days ago. (Sample code seen below.)\n",
    "\n",
    "```\n",
    "for i in range(1, 366):\n",
    "    print df[stock_prices].autocorr(lag=i)\n",
    "```"
   ]
  },
  {
   "cell_type": "markdown",
   "metadata": {},
   "source": [
    "Suppose my highest values of autocorrelation are found when $i = 1, 7, 30, 365$. What do each of these suggest about the performance of this particular stock?"
   ]
  },
  {
   "cell_type": "markdown",
   "metadata": {},
   "source": [
    "#### Answer:"
   ]
  },
  {
   "cell_type": "markdown",
   "metadata": {
    "collapsed": true
   },
   "source": [
    "Week-end stock prices and monthly stock prices are correlated with the annual stock performance."
   ]
  },
  {
   "cell_type": "markdown",
   "metadata": {},
   "source": [
    "#### Question 3:"
   ]
  },
  {
   "cell_type": "markdown",
   "metadata": {},
   "source": [
    "Stock prices vary quite rapidly. Looking at almost any plot of stock price over time, we'll see a very \"jumpy\" function that moves around erratically. Building a model for this can be difficult.\n",
    "\n",
    "One way to \"de-noise\" or \"smooth\" this is to create a [moving average](http://www.investopedia.com/terms/m/movingaverage.asp) of stock prices. Suppose I wanted to create a moving average of stock prices across $k$ days. In this case, I create a new column that takes the current day and $k-1$ previous days (for $k$ total days) and average the stock prices of these days.\n",
    "\n",
    "For example, I have a column of stock prices and a column associated with a moving average for three days. Then, my row for Day 5 includes the Day 5 stock price and the average of Day 3, Day 4, and Day 5 stock prices. (We'll go more in detail with this tomorrow.)\n",
    "\n",
    "As the number of periods $k$ increases, how do I expect my plotted curve to change? As $k$ increases, how are bias and variance affected?"
   ]
  },
  {
   "cell_type": "markdown",
   "metadata": {},
   "source": [
    "#### Answer:"
   ]
  },
  {
   "cell_type": "markdown",
   "metadata": {
    "collapsed": true
   },
   "source": [
    "variance decreases and bias increases, line smoothes out"
   ]
  },
  {
   "cell_type": "code",
   "execution_count": null,
   "metadata": {
    "collapsed": true
   },
   "outputs": [],
   "source": []
  }
 ],
 "metadata": {
  "kernelspec": {
   "display_name": "Python 2",
   "language": "python",
   "name": "python2"
  },
  "language_info": {
   "codemirror_mode": {
    "name": "ipython",
    "version": 2
   },
   "file_extension": ".py",
   "mimetype": "text/x-python",
   "name": "python",
   "nbconvert_exporter": "python",
   "pygments_lexer": "ipython2",
   "version": "2.7.13"
  }
 },
 "nbformat": 4,
 "nbformat_minor": 2
}
