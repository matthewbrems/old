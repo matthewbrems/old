{
 "cells": [
  {
   "cell_type": "markdown",
   "metadata": {},
   "source": [
    "\n",
    "<img src=\"https://ga-dash.s3.amazonaws.com/production/assets/logo-9f88ae6c9c3871690e33280fcf557f33.png\" style=\"float: left; margin: 10px\">\n",
    "\n",
    "#  API Demo / Lab + NLP\n",
    "\n",
    "\n",
    "<img src=\"https://snag.gy/RNAEgP.jpg\" width=\"600\">\n",
    "\n",
    "Can we correctly identify which of these two old men tweeted what?\n"
   ]
  },
  {
   "cell_type": "markdown",
   "metadata": {},
   "source": [
    "## (5 mins) Opening \n",
    "\n",
    "We are going to:\n",
    "\n",
    "- Create a developer account on Twitter\n",
    "- Create a method to pull a list of tweets from the Twitter API\n",
    "\n",
    "(Lab)\n",
    "- Perform proper preprocessing on our text\n",
    "- Engineer sentiment feature in our dataset using TextBlob\n",
    "- Explore supervised classification techniques\n"
   ]
  },
  {
   "cell_type": "markdown",
   "metadata": {},
   "source": [
    "## Twitter API Developer Registration\n",
    "\n",
    "If you haven't registered a Twitter account yet, this is a requirement in order to have a \"developer\" account.\n",
    "\n",
    "[Twitter Rest API](https://dev.twitter.com/rest/public)\n",
    "\n"
   ]
  },
  {
   "cell_type": "markdown",
   "metadata": {},
   "source": [
    "## Create an \"App\"\n",
    "\n",
    "![](https://snag.gy/HPBQbJ.jpg)\n",
    "\n",
    "We now will now go to Twitter and register an \"app\" [apps.twitter.com](https://apps.twitter.com/).  After we set up our app, we will only need to reference the cooresponding keys Twitter generates for our app.  These are the keys that we will use with our application to communicate with the Twitter API."
   ]
  },
  {
   "cell_type": "markdown",
   "metadata": {},
   "source": [
    "## Install Python Twitter API library\n",
    "\n",
    "Someone was nice enough to build a nice libary for us in Python that we only need to plug in our keys and start collecting data with.  The library we will be using is provided by [Python Twitter Tools](http://mike.verdone.ca/twitter/).\n",
    "\n",
    "To install it, just run the next frame (there is no conda package)."
   ]
  },
  {
   "cell_type": "code",
   "execution_count": 5,
   "metadata": {},
   "outputs": [
    {
     "name": "stdout",
     "output_type": "stream",
     "text": [
      "Requirement already satisfied (use --upgrade to upgrade): twitter in /Library/Frameworks/Python.framework/Versions/2.7/lib/python2.7/site-packages\n",
      "Requirement already satisfied (use --upgrade to upgrade): python-twitter in /Library/Frameworks/Python.framework/Versions/2.7/lib/python2.7/site-packages\n",
      "Requirement already satisfied (use --upgrade to upgrade): requests in /Library/Frameworks/Python.framework/Versions/2.7/lib/python2.7/site-packages (from python-twitter)\n",
      "Requirement already satisfied (use --upgrade to upgrade): future in /Library/Frameworks/Python.framework/Versions/2.7/lib/python2.7/site-packages (from python-twitter)\n",
      "Requirement already satisfied (use --upgrade to upgrade): requests-oauthlib in /Library/Frameworks/Python.framework/Versions/2.7/lib/python2.7/site-packages (from python-twitter)\n",
      "Requirement already satisfied (use --upgrade to upgrade): oauthlib>=0.6.2 in /Library/Frameworks/Python.framework/Versions/2.7/lib/python2.7/site-packages (from requests-oauthlib->python-twitter)\n"
     ]
    }
   ],
   "source": [
    "!pip install python-twitter"
   ]
  },
  {
   "cell_type": "markdown",
   "metadata": {},
   "source": [
    "## Some Boring Twitter Rules\n",
    "\n",
    "Twitter says they will rate limit your requests:\n",
    "\n",
    ">When using application-only authentication, rate limits are determined globally for the entire application. If a method allows for 15 requests per rate limit window, then it allows you to make 15 requests per window — on behalf of your application. This limit is considered completely separately from per-user limits. https://dev.twitter.com/rest/public/rate-limiting\n",
    "\n",
    "Here's a quick overview of what Twitter says are \"the rulez\":\n",
    "\n",
    "![](https://snag.gy/yJ6vIH.jpg)\n"
   ]
  },
  {
   "cell_type": "markdown",
   "metadata": {},
   "source": [
    "## About those Keys: OAuth Review\n",
    "\n",
    "![](https://g.twimg.com/dev/documentation/image/appauth_0.png)"
   ]
  },
  {
   "cell_type": "markdown",
   "metadata": {},
   "source": [
    "## What's going on here?  Take a minute.."
   ]
  },
  {
   "cell_type": "markdown",
   "metadata": {},
   "source": [
    "## Our Application Keys\n",
    "\n",
    "Take note of our application keys that we will be using with our little application that will be connecting to Twitter and mining Tweets from the official twitter accounts of our choosing.\n"
   ]
  },
  {
   "cell_type": "markdown",
   "metadata": {},
   "source": [
    "## Tweet Miner Class Setup\n",
    "\n",
    "The following code is meant to get us up and running with connectivity to twitter, and the ability to make requests and easily transform the JSON responses to DataFrames.  We will be using object oriented Python in order to organize our code.  We may go into review since this was a topic we covered earlier in the class but we can review it during the lab for those who want to know more about it.\n",
    "\n",
    "\n",
    "> \"request_limit\" is used in this class to limit the number of tweets that are pulled per instance request.  Setting it to something lower until you've worked the bugs out of your request, and captured the data you want, is essential to avoiding any rate limit blocks.\n",
    "\n",
    "#### Key Setup\n",
    "\n",
    "- **consumer_key** - Find this in your app page under the \"Keys and Access Tokens\"\n",
    "- **consumer_secret** - Right under **consumer_key** in the \"Keys and Access Tokens\" tab\n",
    "- **access_token_key** - You will need to click the \"generate tokens\" button to get this\n",
    "- **access_token_secret** - Also available after \"generate tokens\" is pressed\n"
   ]
  },
  {
   "cell_type": "code",
<<<<<<< HEAD
   "execution_count": 3,
   "metadata": {
    "collapsed": true
   },
   "outputs": [],
=======
   "execution_count": 1,
   "metadata": {},
   "outputs": [
    {
     "name": "stderr",
     "output_type": "stream",
     "text": [
      "/Users/JosephNelson/anaconda2/lib/python2.7/site-packages/simplejson/encoder.py:269: DeprecationWarning: Interpreting naive datetime as local 2017-05-05 11:55:24.820778. Please add timezone info to timestamps.\n",
      "  chunks = self.iterencode(o, _one_shot=True)\n"
     ]
    }
   ],
>>>>>>> fc402b9518f9e00d7be14ff689cf64d82045a4f4
   "source": [
    "import twitter, re, datetime, pandas as pd\n",
    "\n",
    "class twitterminer():\n",
    "\n",
    "    request_limit   =   20    \n",
    "    api             =   False\n",
    "    data            =   []\n",
    "    \n",
    "    twitter_keys = {\n",
    "        'consumer_key':        '2UMx1b3sVexoau3RBMqDkCnQk',\n",
    "        'consumer_secret':     'B30hlQ260D6ZEuu1FavRo0ygz78VPiQU5T9WqhqplWrqSejX6u',\n",
    "        'access_token_key':    '441431405-G7NP80h5k308x6qSHc8nOpTJ7p4wa6YG5Oz66uVf',\n",
    "        'access_token_secret': 'BTK48YLcRfCO9ldaYawiEpeGjuA0bySMYbnio0f1OHciD'\n",
    "    }\n",
    "    \n",
    "    def __init__(self,  request_limit = 20):\n",
    "        \n",
    "        self.request_limit = request_limit\n",
    "        \n",
    "        # This sets the twitter API object for use internall within the class\n",
    "        self.set_api()\n",
    "        \n",
    "    def set_api(self):\n",
    "        \n",
    "        self.api = twitter.Api(\n",
    "            consumer_key         =   self.twitter_keys['consumer_key'],\n",
    "            consumer_secret      =   self.twitter_keys['consumer_secret'],\n",
    "            access_token_key     =   self.twitter_keys['access_token_key'],\n",
    "            access_token_secret  =   self.twitter_keys['access_token_secret']\n",
    "        )\n",
    "\n",
<<<<<<< HEAD
    "    def mine_user_tweets(self, user=\"matthewbrems\"):\n",
=======
    "    def mine_user_tweets(self, user=\"matthewbrems\", mine_retweets=False):\n",
>>>>>>> fc402b9518f9e00d7be14ff689cf64d82045a4f4
    "\n",
    "        statuses   =   self.api.GetUserTimeline(screen_name=user, count=self.request_limit)\n",
    "        data       =   []\n",
    "        \n",
    "        for item in statuses:\n",
    "\n",
    "            mined = {\n",
    "                'tweet_id': item.id,\n",
    "                'handle': item.user.name,\n",
    "                'retweet_count': item.retweet_count,\n",
    "                'text': item.text,\n",
    "                'mined_at': datetime.datetime.now(),\n",
    "                'created_at': item.created_at,\n",
    "            }\n",
    "            \n",
    "            data.append(mined)\n",
    "            \n",
    "        return data"
   ]
  },
  {
   "cell_type": "markdown",
   "metadata": {},
   "source": [
    "## Does anyone remember how we \"instantiate\" a new instance of this class?\n",
    "\n",
    "**Bonus bonus** How do we call the method to *mine_user_tweets()*?"
   ]
  },
  {
   "cell_type": "code",
<<<<<<< HEAD
   "execution_count": 44,
   "metadata": {},
   "outputs": [],
   "source": [
    "# optional twitter ids:  realDonaldTrump, berniesanders\n",
    "# Let's test this out here.."
   ]
  },
  {
=======
   "execution_count": 2,
   "metadata": {},
   "outputs": [
    {
     "name": "stderr",
     "output_type": "stream",
     "text": [
      "/Users/JosephNelson/anaconda2/lib/python2.7/site-packages/simplejson/encoder.py:269: DeprecationWarning: Interpreting naive datetime as local 2017-05-05 11:57:59.058309. Please add timezone info to timestamps.\n",
      "  chunks = self.iterencode(o, _one_shot=True)\n"
     ]
    }
   ],
   "source": [
    "# optional twitter ids:  realDonaldTrump, berniesanders\n",
    "# Let's test this out here..\n",
    "ray = twitterminer()"
   ]
  },
  {
   "cell_type": "code",
   "execution_count": 5,
   "metadata": {
    "collapsed": true
   },
   "outputs": [
    {
     "data": {
      "text/plain": [
       "[{'created_at': u'Fri May 05 13:02:46 +0000 2017',\n",
       "  'handle': u'Donald J. Trump',\n",
       "  'mined_at': datetime.datetime(2017, 5, 5, 12, 1, 24, 96835),\n",
       "  'retweet_count': 5688,\n",
       "  'text': u'Rather than causing a big disruption in N.Y.C., I will be working out of my home in Bedminster, N.J. this weekend. Also saves country money!',\n",
       "  'tweet_id': 860479885566980096},\n",
       " {'created_at': u'Fri May 05 12:52:36 +0000 2017',\n",
       "  'handle': u'Donald J. Trump',\n",
       "  'mined_at': datetime.datetime(2017, 5, 5, 12, 1, 24, 96846),\n",
       "  'retweet_count': 5056,\n",
       "  'text': u'Big win in the House - very exciting! But when everything comes together with the inclusion of Phase 2, we will have truly great healthcare!',\n",
       "  'tweet_id': 860477328882905089},\n",
       " {'created_at': u'Fri May 05 06:16:06 +0000 2017',\n",
       "  'handle': u'Donald J. Trump',\n",
       "  'mined_at': datetime.datetime(2017, 5, 5, 12, 1, 24, 96850),\n",
       "  'retweet_count': 4853,\n",
       "  'text': u'An honor to welcome PM of Australia, @TurnbullMalcolm to America &amp; join him in marking the 75th Anniversary of the\\u2026 https://t.co/foMUec7EAE',\n",
       "  'tweet_id': 860377543878348800},\n",
       " {'created_at': u'Fri May 05 02:55:02 +0000 2017',\n",
       "  'handle': u'Donald J. Trump',\n",
       "  'mined_at': datetime.datetime(2017, 5, 5, 12, 1, 24, 96852),\n",
       "  'retweet_count': 9919,\n",
       "  'text': u'It was a GREAT day for the United States of America! This is a great plan that is a repeal &amp; replace of ObamaCare.\\u2026 https://t.co/0TnmLn55Lm',\n",
       "  'tweet_id': 860326946147840001},\n",
       " {'created_at': u'Thu May 04 18:07:29 +0000 2017',\n",
       "  'handle': u'Donald J. Trump',\n",
       "  'mined_at': datetime.datetime(2017, 5, 5, 12, 1, 24, 96855),\n",
       "  'retweet_count': 7757,\n",
       "  'text': u'If victorious, Republicans will be having a big press conference at the beautiful Rose Garden of the White House immediately after vote!',\n",
       "  'tweet_id': 860194183797243904},\n",
       " {'created_at': u'Thu May 04 17:56:51 +0000 2017',\n",
       "  'handle': u'Donald J. Trump',\n",
       "  'mined_at': datetime.datetime(2017, 5, 5, 12, 1, 24, 96858),\n",
       "  'retweet_count': 11252,\n",
       "  'text': u'Insurance companies are fleeing ObamaCare - it is dead. Our healthcare plan will lower premiums &amp; deductibles - and be great healthcare!',\n",
       "  'tweet_id': 860191508619722752},\n",
       " {'created_at': u'Thu May 04 17:43:11 +0000 2017',\n",
       "  'handle': u'Donald J. Trump',\n",
       "  'mined_at': datetime.datetime(2017, 5, 5, 12, 1, 24, 96861),\n",
       "  'retweet_count': 13081,\n",
       "  'text': u'I am watching the Democrats trying to defend the \"you can keep you doctor, you can keep your plan &amp; premiums will go down\" ObamaCare lie.\"',\n",
       "  'tweet_id': 860188065758838785},\n",
       " {'created_at': u'Thu May 04 15:26:00 +0000 2017',\n",
       "  'handle': u'Donald J. Trump',\n",
       "  'mined_at': datetime.datetime(2017, 5, 5, 12, 1, 24, 96864),\n",
       "  'retweet_count': 7263,\n",
       "  'text': u'Beautiful evening with Religious Leaders here at the WH last night. Join us now for a #NationalDayofPrayer, LIVE:\\u2026 https://t.co/b8j1tWZJuv',\n",
       "  'tweet_id': 860153543151542272},\n",
       " {'created_at': u'Thu May 04 12:28:39 +0000 2017',\n",
       "  'handle': u'Donald J. Trump',\n",
       "  'mined_at': datetime.datetime(2017, 5, 5, 12, 1, 24, 96867),\n",
       "  'retweet_count': 7548,\n",
       "  'text': u\"Death spiral!\\n'Aetna will exit Obamacare markets in VA in 2018, citing expected losses on INDV plans this year'\\nhttps://t.co/5YnzDitF8r\",\n",
       "  'tweet_id': 860108914624532480},\n",
       " {'created_at': u'Thu May 04 11:09:26 +0000 2017',\n",
       "  'handle': u'Donald J. Trump',\n",
       "  'mined_at': datetime.datetime(2017, 5, 5, 12, 1, 24, 96870),\n",
       "  'retweet_count': 9491,\n",
       "  'text': u'RT @foxandfriends: President Trump to sign an executive order on religious liberty today, the National Day of Prayer | @kevincorke https://\\u2026',\n",
       "  'tweet_id': 860088977277235201},\n",
       " {'created_at': u'Thu May 04 11:07:35 +0000 2017',\n",
       "  'handle': u'Donald J. Trump',\n",
       "  'mined_at': datetime.datetime(2017, 5, 5, 12, 1, 24, 96873),\n",
       "  'retweet_count': 6227,\n",
       "  'text': u'Congratulations to @foxandfriends on its unbelievable ratings hike.',\n",
       "  'tweet_id': 860088511202029569},\n",
       " {'created_at': u'Thu May 04 11:02:54 +0000 2017',\n",
       "  'handle': u'Donald J. Trump',\n",
       "  'mined_at': datetime.datetime(2017, 5, 5, 12, 1, 24, 96875),\n",
       "  'retweet_count': 17681,\n",
       "  'text': u'The Fake News media is officially out of control. They will do or say anything in order to get attention - never been a time like this!',\n",
       "  'tweet_id': 860087334519414784},\n",
       " {'created_at': u'Thu May 04 10:49:10 +0000 2017',\n",
       "  'handle': u'Donald J. Trump',\n",
       "  'mined_at': datetime.datetime(2017, 5, 5, 12, 1, 24, 96879),\n",
       "  'retweet_count': 8905,\n",
       "  'text': u'...allegations of unmasking Trump transition officials. Not good!',\n",
       "  'tweet_id': 860083874893897728},\n",
       " {'created_at': u'Thu May 04 10:40:33 +0000 2017',\n",
       "  'handle': u'Donald J. Trump',\n",
       "  'mined_at': datetime.datetime(2017, 5, 5, 12, 1, 24, 96882),\n",
       "  'retweet_count': 13140,\n",
       "  'text': u'Susan Rice, the former National Security Advisor to President Obama, is refusing to testify before a Senate Subcommittee next week on.....',\n",
       "  'tweet_id': 860081707315232771},\n",
       " {'created_at': u'Wed May 03 20:57:56 +0000 2017',\n",
       "  'handle': u'Donald J. Trump',\n",
       "  'mined_at': datetime.datetime(2017, 5, 5, 12, 1, 24, 96885),\n",
       "  'retweet_count': 8200,\n",
       "  'text': u'It was an honor to stop by a #SchoolChoice event hosted by @VP Pence and @usedgov Secretary @BetsyDeVosED at the\\u2026 https://t.co/B8VxVsYNHA',\n",
       "  'tweet_id': 859874689442775045},\n",
       " {'created_at': u'Wed May 03 03:06:16 +0000 2017',\n",
       "  'handle': u'Donald J. Trump',\n",
       "  'mined_at': datetime.datetime(2017, 5, 5, 12, 1, 24, 96887),\n",
       "  'retweet_count': 18083,\n",
       "  'text': u'...Trump/Russia story was an excuse used by the Democrats as justification for losing the election. Perhaps Trump just ran a great campaign?',\n",
       "  'tweet_id': 859604996236742656},\n",
       " {'created_at': u'Wed May 03 02:51:07 +0000 2017',\n",
       "  'handle': u'Donald J. Trump',\n",
       "  'mined_at': datetime.datetime(2017, 5, 5, 12, 1, 24, 96890),\n",
       "  'retweet_count': 19205,\n",
       "  'text': u'FBI Director Comey was the best thing that ever happened to Hillary Clinton in that he gave her a free pass for many bad deeds! The phony...',\n",
       "  'tweet_id': 859601184285491201},\n",
       " {'created_at': u'Tue May 02 21:08:14 +0000 2017',\n",
       "  'handle': u'Donald J. Trump',\n",
       "  'mined_at': datetime.datetime(2017, 5, 5, 12, 1, 24, 96893),\n",
       "  'retweet_count': 7980,\n",
       "  'text': u\"Congratulations to the winners of the Commander-in-Chief's Trophy, the great Air Force Falcons! \\nWatch:\\u2026 https://t.co/HyxxFCfaUh\",\n",
       "  'tweet_id': 859514893418082310},\n",
       " {'created_at': u'Tue May 02 13:07:10 +0000 2017',\n",
       "  'handle': u'Donald J. Trump',\n",
       "  'mined_at': datetime.datetime(2017, 5, 5, 12, 1, 24, 96896),\n",
       "  'retweet_count': 16613,\n",
       "  'text': u'either elect more Republican Senators in 2018 or change the rules now to 51%. Our country needs a good \"shutdown\" in September to fix mess!',\n",
       "  'tweet_id': 859393829505552385},\n",
       " {'created_at': u'Tue May 02 13:01:41 +0000 2017',\n",
       "  'handle': u'Donald J. Trump',\n",
       "  'mined_at': datetime.datetime(2017, 5, 5, 12, 1, 24, 96898),\n",
       "  'retweet_count': 9759,\n",
       "  'text': u'The reason for the plan negotiated between the Republicans and Democrats is that we need 60 votes in the Senate which are not there! We....',\n",
       "  'tweet_id': 859392449181093888}]"
      ]
     },
     "execution_count": 5,
     "metadata": {},
     "output_type": "execute_result"
    },
    {
     "name": "stderr",
     "output_type": "stream",
     "text": [
      "/Users/JosephNelson/anaconda2/lib/python2.7/site-packages/simplejson/encoder.py:269: DeprecationWarning: Interpreting naive datetime as local 2017-05-05 12:01:23.766518. Please add timezone info to timestamps.\n",
      "  chunks = self.iterencode(o, _one_shot=True)\n"
     ]
    }
   ],
   "source": [
    "ray.mine_user_tweets(user='realdonaldtrump')"
   ]
  },
  {
   "cell_type": "code",
   "execution_count": null,
   "metadata": {
    "collapsed": true
   },
   "outputs": [],
   "source": []
  },
  {
   "cell_type": "code",
   "execution_count": null,
   "metadata": {
    "collapsed": true
   },
   "outputs": [],
   "source": []
  },
  {
>>>>>>> fc402b9518f9e00d7be14ff689cf64d82045a4f4
   "cell_type": "markdown",
   "metadata": {
    "collapsed": true
   },
   "source": [
    "##  Now we create some training data\n",
    "\n",
    "We will have to munge a little bit in order to get our \"mined\" data from the Twitter API.  \n",
    "\n",
    " - Mine User1 Tweets\n",
    " - Create DataFrame\n",
    " - Mine User2 Tweets\n",
    " - Append to DataFrame"
   ]
  },
  {
   "cell_type": "code",
<<<<<<< HEAD
   "execution_count": 4,
   "metadata": {
    "collapsed": true
   },
   "outputs": [],
=======
   "execution_count": 6,
   "metadata": {},
   "outputs": [
    {
     "name": "stderr",
     "output_type": "stream",
     "text": [
      "/Users/JosephNelson/anaconda2/lib/python2.7/site-packages/simplejson/encoder.py:269: DeprecationWarning: Interpreting naive datetime as local 2017-05-05 12:02:42.521353. Please add timezone info to timestamps.\n",
      "  chunks = self.iterencode(o, _one_shot=True)\n"
     ]
    }
   ],
>>>>>>> fc402b9518f9e00d7be14ff689cf64d82045a4f4
   "source": [
    "# we only need to \"instantiate\" once.  Then we can call mine_user_tweets as much as we want.\n",
    "miner = twitterminer(request_limit=100)"
   ]
  },
  {
   "cell_type": "code",
<<<<<<< HEAD
   "execution_count": 5,
   "metadata": {
    "collapsed": true
   },
   "outputs": [],
=======
   "execution_count": 7,
   "metadata": {},
   "outputs": [
    {
     "name": "stderr",
     "output_type": "stream",
     "text": [
      "/Users/JosephNelson/anaconda2/lib/python2.7/site-packages/simplejson/encoder.py:269: DeprecationWarning: Interpreting naive datetime as local 2017-05-05 12:02:45.762554. Please add timezone info to timestamps.\n",
      "  chunks = self.iterencode(o, _one_shot=True)\n"
     ]
    }
   ],
>>>>>>> fc402b9518f9e00d7be14ff689cf64d82045a4f4
   "source": [
    "# insert handle we like\n",
    "brems_tweets = miner.mine_user_tweets()"
   ]
  },
  {
   "cell_type": "code",
<<<<<<< HEAD
   "execution_count": 7,
   "metadata": {},
   "outputs": [
    {
     "name": "stderr",
     "output_type": "stream",
     "text": [
      "/Users/JosephNelson/anaconda2/lib/python2.7/site-packages/IPython/core/formatters.py:92: DeprecationWarning: DisplayFormatter._ipython_display_formatter_default is deprecated: use @default decorator instead.\n",
      "  def _ipython_display_formatter_default(self):\n",
      "/Users/JosephNelson/anaconda2/lib/python2.7/site-packages/IPython/core/formatters.py:98: DeprecationWarning: DisplayFormatter._formatters_default is deprecated: use @default decorator instead.\n",
      "  def _formatters_default(self):\n",
      "/Users/JosephNelson/anaconda2/lib/python2.7/site-packages/IPython/core/formatters.py:677: DeprecationWarning: PlainTextFormatter._deferred_printers_default is deprecated: use @default decorator instead.\n",
      "  def _deferred_printers_default(self):\n",
      "/Users/JosephNelson/anaconda2/lib/python2.7/site-packages/IPython/core/formatters.py:669: DeprecationWarning: PlainTextFormatter._singleton_printers_default is deprecated: use @default decorator instead.\n",
      "  def _singleton_printers_default(self):\n",
      "/Users/JosephNelson/anaconda2/lib/python2.7/site-packages/IPython/core/formatters.py:672: DeprecationWarning: PlainTextFormatter._type_printers_default is deprecated: use @default decorator instead.\n",
      "  def _type_printers_default(self):\n",
      "/Users/JosephNelson/anaconda2/lib/python2.7/site-packages/IPython/core/formatters.py:669: DeprecationWarning: PlainTextFormatter._singleton_printers_default is deprecated: use @default decorator instead.\n",
      "  def _singleton_printers_default(self):\n",
      "/Users/JosephNelson/anaconda2/lib/python2.7/site-packages/IPython/core/formatters.py:672: DeprecationWarning: PlainTextFormatter._type_printers_default is deprecated: use @default decorator instead.\n",
      "  def _type_printers_default(self):\n",
      "/Users/JosephNelson/anaconda2/lib/python2.7/site-packages/IPython/core/formatters.py:677: DeprecationWarning: PlainTextFormatter._deferred_printers_default is deprecated: use @default decorator instead.\n",
      "  def _deferred_printers_default(self):\n"
     ]
    },
    {
     "data": {
      "text/html": [
       "<div>\n",
       "<table border=\"1\" class=\"dataframe\">\n",
       "  <thead>\n",
       "    <tr style=\"text-align: right;\">\n",
       "      <th></th>\n",
       "      <th>created_at</th>\n",
       "      <th>handle</th>\n",
       "      <th>mined_at</th>\n",
       "      <th>retweet_count</th>\n",
       "      <th>text</th>\n",
       "      <th>tweet_id</th>\n",
       "    </tr>\n",
       "  </thead>\n",
       "  <tbody>\n",
       "    <tr>\n",
       "      <th>0</th>\n",
       "      <td>Wed Jan 25 16:22:57 +0000 2017</td>\n",
       "      <td>Matt Brems</td>\n",
       "      <td>2017-01-25 11:40:23.086171</td>\n",
       "      <td>13</td>\n",
       "      <td>RT @jacobsoboroff: True. https://t.co/GWq6DjedD1</td>\n",
       "      <td>824291478784589824</td>\n",
       "    </tr>\n",
       "    <tr>\n",
       "      <th>1</th>\n",
       "      <td>Wed Jan 25 16:22:32 +0000 2017</td>\n",
       "      <td>Matt Brems</td>\n",
       "      <td>2017-01-25 11:40:23.086184</td>\n",
       "      <td>43833</td>\n",
       "      <td>RT @mightybattlecat: The year is 2017. America...</td>\n",
       "      <td>824291372664520706</td>\n",
       "    </tr>\n",
       "    <tr>\n",
       "      <th>2</th>\n",
       "      <td>Wed Jan 25 14:50:53 +0000 2017</td>\n",
       "      <td>Matt Brems</td>\n",
       "      <td>2017-01-25 11:40:23.086188</td>\n",
       "      <td>17444</td>\n",
       "      <td>RT @ericgeller: It's happening: The White Hous...</td>\n",
       "      <td>824268309717721088</td>\n",
       "    </tr>\n",
       "    <tr>\n",
       "      <th>3</th>\n",
       "      <td>Wed Jan 25 14:46:54 +0000 2017</td>\n",
       "      <td>Matt Brems</td>\n",
       "      <td>2017-01-25 11:40:23.086192</td>\n",
       "      <td>0</td>\n",
       "      <td>S8 of Parks and Rec?? https://t.co/UzvK4W6jbu</td>\n",
       "      <td>824267305504874496</td>\n",
       "    </tr>\n",
       "    <tr>\n",
       "      <th>4</th>\n",
       "      <td>Wed Jan 25 14:46:31 +0000 2017</td>\n",
       "      <td>Matt Brems</td>\n",
       "      <td>2017-01-25 11:40:23.086197</td>\n",
       "      <td>750</td>\n",
       "      <td>RT @CahnEmily: Your daily reminder that @realD...</td>\n",
       "      <td>824267209295929344</td>\n",
       "    </tr>\n",
       "    <tr>\n",
       "      <th>5</th>\n",
       "      <td>Wed Jan 25 14:46:16 +0000 2017</td>\n",
       "      <td>Matt Brems</td>\n",
       "      <td>2017-01-25 11:40:23.086201</td>\n",
       "      <td>0</td>\n",
       "      <td>#DataScience https://t.co/VvYnjsdpvH</td>\n",
       "      <td>824267147069243392</td>\n",
       "    </tr>\n",
       "    <tr>\n",
       "      <th>6</th>\n",
       "      <td>Wed Jan 25 03:43:03 +0000 2017</td>\n",
       "      <td>Matt Brems</td>\n",
       "      <td>2017-01-25 11:40:23.086206</td>\n",
       "      <td>306</td>\n",
       "      <td>RT @HalfOnionInABag: @Aaron_Spicer @realDonald...</td>\n",
       "      <td>824100243990056962</td>\n",
       "    </tr>\n",
       "    <tr>\n",
       "      <th>7</th>\n",
       "      <td>Wed Jan 25 03:41:46 +0000 2017</td>\n",
       "      <td>Matt Brems</td>\n",
       "      <td>2017-01-25 11:40:23.086210</td>\n",
       "      <td>0</td>\n",
       "      <td>@mostlyinane Missed you tonight, but glad it w...</td>\n",
       "      <td>824099917476073472</td>\n",
       "    </tr>\n",
       "    <tr>\n",
       "      <th>8</th>\n",
       "      <td>Tue Jan 24 21:45:01 +0000 2017</td>\n",
       "      <td>Matt Brems</td>\n",
       "      <td>2017-01-25 11:40:23.086213</td>\n",
       "      <td>0</td>\n",
       "      <td>😂😂 https://t.co/NjVd1Vpcwx</td>\n",
       "      <td>824010141553094656</td>\n",
       "    </tr>\n",
       "    <tr>\n",
       "      <th>9</th>\n",
       "      <td>Tue Jan 24 17:05:20 +0000 2017</td>\n",
       "      <td>Matt Brems</td>\n",
       "      <td>2017-01-25 11:40:23.086219</td>\n",
       "      <td>19689</td>\n",
       "      <td>RT @AdamWeinstein: Is that... a problem\\nHas.....</td>\n",
       "      <td>823939757273206784</td>\n",
       "    </tr>\n",
       "  </tbody>\n",
       "</table>\n",
       "</div>"
      ],
      "text/plain": [
       "                       created_at      handle                   mined_at  \\\n",
       "0  Wed Jan 25 16:22:57 +0000 2017  Matt Brems 2017-01-25 11:40:23.086171   \n",
       "1  Wed Jan 25 16:22:32 +0000 2017  Matt Brems 2017-01-25 11:40:23.086184   \n",
       "2  Wed Jan 25 14:50:53 +0000 2017  Matt Brems 2017-01-25 11:40:23.086188   \n",
       "3  Wed Jan 25 14:46:54 +0000 2017  Matt Brems 2017-01-25 11:40:23.086192   \n",
       "4  Wed Jan 25 14:46:31 +0000 2017  Matt Brems 2017-01-25 11:40:23.086197   \n",
       "5  Wed Jan 25 14:46:16 +0000 2017  Matt Brems 2017-01-25 11:40:23.086201   \n",
       "6  Wed Jan 25 03:43:03 +0000 2017  Matt Brems 2017-01-25 11:40:23.086206   \n",
       "7  Wed Jan 25 03:41:46 +0000 2017  Matt Brems 2017-01-25 11:40:23.086210   \n",
       "8  Tue Jan 24 21:45:01 +0000 2017  Matt Brems 2017-01-25 11:40:23.086213   \n",
       "9  Tue Jan 24 17:05:20 +0000 2017  Matt Brems 2017-01-25 11:40:23.086219   \n",
       "\n",
       "   retweet_count                                               text  \\\n",
       "0             13   RT @jacobsoboroff: True. https://t.co/GWq6DjedD1   \n",
       "1          43833  RT @mightybattlecat: The year is 2017. America...   \n",
       "2          17444  RT @ericgeller: It's happening: The White Hous...   \n",
       "3              0      S8 of Parks and Rec?? https://t.co/UzvK4W6jbu   \n",
       "4            750  RT @CahnEmily: Your daily reminder that @realD...   \n",
       "5              0               #DataScience https://t.co/VvYnjsdpvH   \n",
       "6            306  RT @HalfOnionInABag: @Aaron_Spicer @realDonald...   \n",
       "7              0  @mostlyinane Missed you tonight, but glad it w...   \n",
       "8              0                       😂😂 https://t.co/NjVd1Vpcwx   \n",
       "9          19689  RT @AdamWeinstein: Is that... a problem\\nHas.....   \n",
       "\n",
       "             tweet_id  \n",
       "0  824291478784589824  \n",
       "1  824291372664520706  \n",
       "2  824268309717721088  \n",
       "3  824267305504874496  \n",
       "4  824267209295929344  \n",
       "5  824267147069243392  \n",
       "6  824100243990056962  \n",
       "7  824099917476073472  \n",
       "8  824010141553094656  \n",
       "9  823939757273206784  "
      ]
     },
     "execution_count": 7,
     "metadata": {},
     "output_type": "execute_result"
=======
   "execution_count": 10,
   "metadata": {},
   "outputs": [
    {
     "data": {
      "text/plain": [
       "u'From Presidential candidates to grabbing an umbrella, check out a mistake we all make. #DataScience #Election2016 https://t.co/6fj40VHdOO'"
      ]
     },
     "execution_count": 10,
     "metadata": {},
     "output_type": "execute_result"
    },
    {
     "name": "stderr",
     "output_type": "stream",
     "text": [
      "/Users/JosephNelson/anaconda2/lib/python2.7/site-packages/simplejson/encoder.py:269: DeprecationWarning: Interpreting naive datetime as local 2017-05-05 12:03:33.691812. Please add timezone info to timestamps.\n",
      "  chunks = self.iterencode(o, _one_shot=True)\n"
     ]
>>>>>>> fc402b9518f9e00d7be14ff689cf64d82045a4f4
    }
   ],
   "source": [
    "# name our df aptly\n",
    "brems_df = pd.DataFrame(brems_tweets)\n",
<<<<<<< HEAD
    "brems_df.head(10)"
=======
    "brems_df.head(30)\n",
    "brems_df.ix[16].text"
>>>>>>> fc402b9518f9e00d7be14ff689cf64d82045a4f4
   ]
  },
  {
   "cell_type": "code",
<<<<<<< HEAD
   "execution_count": 8,
=======
   "execution_count": 11,
>>>>>>> fc402b9518f9e00d7be14ff689cf64d82045a4f4
   "metadata": {},
   "outputs": [
    {
     "data": {
      "text/plain": [
       "(100, 6)"
      ]
     },
<<<<<<< HEAD
     "execution_count": 8,
     "metadata": {},
     "output_type": "execute_result"
=======
     "execution_count": 11,
     "metadata": {},
     "output_type": "execute_result"
    },
    {
     "name": "stderr",
     "output_type": "stream",
     "text": [
      "/Users/JosephNelson/anaconda2/lib/python2.7/site-packages/simplejson/encoder.py:269: DeprecationWarning: Interpreting naive datetime as local 2017-05-05 12:04:23.001755. Please add timezone info to timestamps.\n",
      "  chunks = self.iterencode(o, _one_shot=True)\n"
     ]
>>>>>>> fc402b9518f9e00d7be14ff689cf64d82045a4f4
    }
   ],
   "source": [
    "brems_df.shape"
   ]
  },
  {
   "cell_type": "markdown",
   "metadata": {},
   "source": [
    "## Any interesting ngrams going on with Trump?"
   ]
  },
  {
   "cell_type": "code",
   "execution_count": 102,
   "metadata": {},
   "outputs": [
    {
     "data": {
      "text/plain": [
       "[(u'https co', 31),\n",
       " (u'thank you', 14),\n",
       " (u'crooked hillary', 10),\n",
       " (u'of the', 10),\n",
       " (u'trump2016 https', 8),\n",
       " (u'in the', 8),\n",
       " (u'will be', 6),\n",
       " (u'great again', 5),\n",
       " (u'america great', 5),\n",
       " (u'for the', 5)]"
      ]
     },
     "execution_count": 102,
     "metadata": {},
     "output_type": "execute_result"
    }
   ],
   "source": [
    "from sklearn.feature_extraction.text import TfidfVectorizer\n",
    "from collections import Counter\n",
    "\n",
    "# We can use the TfidfVectorizer to find ngrams for us\n",
    "vect = TfidfVectorizer(ngram_range=(2,2))\n",
    "\n",
    "# Pulls all of trumps tweet text's into one giant string\n",
    "summaries = \"\".join(trump_df['text'])\n",
    "ngrams_summaries = vect.build_analyzer()(summaries)\n",
    "\n",
    "Counter(ngrams_summaries).most_common(10)"
   ]
  },
  {
   "cell_type": "markdown",
   "metadata": {},
   "source": [
    "## (10 mins) Try this exercize with Bernie Sanders.."
   ]
  },
  {
   "cell_type": "code",
   "execution_count": 103,
   "metadata": {
    "collapsed": true
   },
   "outputs": [],
   "source": [
    "sanders_tweets = miner.mine_user_tweets(\"berniesanders\")"
   ]
  },
  {
   "cell_type": "code",
   "execution_count": 104,
   "metadata": {
    "collapsed": true
   },
   "outputs": [],
   "source": [
    "all_tweets = pd.DataFrame(trump_tweets + sanders_tweets)"
   ]
  },
  {
   "cell_type": "markdown",
   "metadata": {},
   "source": [
    "## Preprocessing our Tweets\n",
    "\n",
    "In order to do classfication recall that we need a set of features.  Our features are literally what our presidential hopefulls say on Twitter. \n",
    "\n",
    "We will need to:\n",
    "- Vectorize input text data\n",
    "- Intialize a model (let's try Logistic regression)\n",
    "- Train / Predict / Cross Validate\n",
    "- Score / Evaluate\n"
   ]
  },
  {
   "cell_type": "code",
   "execution_count": 107,
   "metadata": {},
   "outputs": [
    {
     "data": {
      "text/plain": [
       "LogisticRegression(C=1.0, class_weight=None, dual=False, fit_intercept=True,\n",
       "          intercept_scaling=1, max_iter=100, multi_class='ovr', n_jobs=1,\n",
       "          penalty='l2', random_state=None, solver='liblinear', tol=0.0001,\n",
       "          verbose=0, warm_start=False)"
      ]
     },
     "execution_count": 107,
     "metadata": {},
     "output_type": "execute_result"
    }
   ],
   "source": [
    "from sklearn.linear_model import LogisticRegression\n",
    "\n",
    "# Preprocess our text data to Tfidf\n",
    "tfv = TfidfVectorizer(lowercase=True, strip_accents='unicode')\n",
    "X_all = tfv.fit_transform(all_tweets['text'])\n",
    "\n",
    "# Setup logistic regression (or try another classification method here)\n",
    "estimator = LogisticRegression()\n",
    "estimator.fit(X_all, all_tweets['handle'])\n",
    "\n"
   ]
  },
  {
   "cell_type": "markdown",
   "metadata": {},
   "source": [
    "## Check Prediction vs Random Sanders Tweet"
   ]
  },
  {
   "cell_type": "code",
   "execution_count": 110,
   "metadata": {},
   "outputs": [
    {
     "data": {
      "text/plain": [
       "array([[ 0.63681826,  0.36318174],\n",
       "       [ 0.29723894,  0.70276106]])"
      ]
     },
     "execution_count": 110,
     "metadata": {},
     "output_type": "execute_result"
    }
   ],
   "source": [
    "# Prep our source as TfIdf vectors\n",
    "source_test = [\n",
    "    \"Demanding that the wealthy and the powerful start paying their fair share of taxes that's exactly what the American people want.\",\n",
    "    \"Crooked Hillary is spending tremendous amounts of Wall Street money on false ads against me. She is a very dishonest person!\"\n",
    "]\n",
    "\n",
    "############\n",
    "# NOTE:  Do not re-initialize the tfidf vectorizor or the feature space willbe overwritten and\n",
    "# hence your transform will not match the number of features you trained your model on.\n",
    "#\n",
    "# This is why you only need to \"transform\" since you already \"fit\" previously\n",
    "#\n",
    "####\n",
    "\n",
    "X_all = tfv.transform(source_test)\n",
    "\n",
    "# Predict using previously trained logist regression `estimator`\n",
    "estimator.predict_proba(X_all)"
   ]
  },
  {
   "cell_type": "code",
   "execution_count": null,
   "metadata": {
    "collapsed": true
   },
   "outputs": [],
   "source": []
  },
  {
   "cell_type": "code",
   "execution_count": null,
   "metadata": {
    "collapsed": true
   },
   "outputs": [],
   "source": []
  },
  {
   "cell_type": "code",
   "execution_count": null,
   "metadata": {
    "collapsed": true
   },
   "outputs": [],
   "source": []
  },
  {
   "cell_type": "markdown",
   "metadata": {},
   "source": [
    "## Lab Time\n",
    "\n",
    "### The following is available in the lab folder as well -- please do your work in _that_ notebook.\n",
    "\n",
    "We would like you to perform an analysis using a proper cross validation.  Also, try classfication using other models."
   ]
  },
  {
   "cell_type": "markdown",
   "metadata": {},
   "source": [
    "### 1. Implement the same analysis using more data.\n",
    "\n",
    "Experiment with using more data.  The API may not like that you are blowing through their limits so definitely be careful.  Try to grab only what you need 1x, then work on the copy of the objects that are returned.  Read the documents about rate limits and see if you can get enough without hitting the rate limit.  Are there any options availabl in the API to avoid such a problem?"
   ]
  },
  {
   "cell_type": "code",
   "execution_count": null,
   "metadata": {
    "collapsed": true
   },
   "outputs": [],
   "source": []
  },
  {
   "cell_type": "markdown",
   "metadata": {},
   "source": [
    "### 2. Implement K-Folds or test/train split.\n",
    "\n",
    "Double check that you are getting random data before moving forward.  What would happen if you over sample Trump more than Sanders?"
   ]
  },
  {
   "cell_type": "code",
   "execution_count": null,
   "metadata": {
    "collapsed": true
   },
   "outputs": [],
   "source": []
  },
  {
   "cell_type": "markdown",
   "metadata": {},
   "source": [
    "### 3. Mine more Tweets that aren't in your data set\n",
    "Or use the hold-out method to do a proper test.  Refer back to our advanced classification evaluation lesson if you need to."
   ]
  },
  {
   "cell_type": "code",
   "execution_count": null,
   "metadata": {
    "collapsed": true
   },
   "outputs": [],
   "source": []
  },
  {
   "cell_type": "markdown",
   "metadata": {},
   "source": [
    "### 4. Check your classification report\n",
    "How's precision / recall of your model?"
   ]
  },
  {
   "cell_type": "code",
   "execution_count": null,
   "metadata": {
    "collapsed": true
   },
   "outputs": [],
   "source": []
  },
  {
   "cell_type": "markdown",
   "metadata": {},
   "source": [
    "### 5.  Change out your TFIDF vectorizer for CountVectorizer.\n",
    "How has this impacted your mode performance at all?"
   ]
  },
  {
   "cell_type": "code",
   "execution_count": null,
   "metadata": {
    "collapsed": true
   },
   "outputs": [],
   "source": []
  },
  {
   "cell_type": "markdown",
   "metadata": {},
   "source": [
    "### 6.  Implement a different classification method such as random forrests.\n",
    "Or pick one of your favorites"
   ]
  },
  {
   "cell_type": "code",
   "execution_count": null,
   "metadata": {
    "collapsed": true
   },
   "outputs": [],
   "source": []
  },
  {
   "cell_type": "markdown",
   "metadata": {},
   "source": [
    "### 7.  Try to remove stopwords from your text during your preprocessing step\n",
    "\n",
    "Then double check your classfication report.  Have things improved?"
   ]
  },
  {
   "cell_type": "code",
   "execution_count": null,
   "metadata": {
    "collapsed": true
   },
   "outputs": [],
   "source": []
  },
  {
   "cell_type": "markdown",
   "metadata": {},
   "source": [
    "### 8.  Try removing samples that have links or that are obviously just announcements or \"noise\" that doesn't appear to represent \"True\" tweets by the authors."
   ]
  },
  {
   "cell_type": "code",
   "execution_count": null,
   "metadata": {
    "collapsed": true
   },
   "outputs": [],
   "source": []
  },
  {
   "cell_type": "markdown",
   "metadata": {},
   "source": [
    "### 9. What are some contrasting words or phrases that you can see between the ngrams for each author?"
   ]
  },
  {
   "cell_type": "code",
   "execution_count": null,
   "metadata": {
    "collapsed": true
   },
   "outputs": [],
   "source": []
  },
  {
   "cell_type": "markdown",
   "metadata": {},
   "source": [
    "### 10.  What do you think you can do to improve the scores further?"
   ]
  },
  {
   "cell_type": "code",
   "execution_count": null,
   "metadata": {
    "collapsed": true
   },
   "outputs": [],
   "source": []
  },
  {
   "cell_type": "markdown",
   "metadata": {},
   "source": [
    "### 11. **BONUS** Using TextBlob, add a sentiment feature to your dataset."
   ]
  },
  {
   "cell_type": "code",
   "execution_count": null,
   "metadata": {
    "collapsed": true
   },
   "outputs": [],
   "source": []
  },
  {
   "cell_type": "markdown",
   "metadata": {},
   "source": [
    "### 12. BONUS BONUS Apply PCA to your text features\n",
    "Is this effective? (ie: we could talk about LDA here a little bit)"
   ]
  },
  {
   "cell_type": "code",
   "execution_count": null,
   "metadata": {
    "collapsed": true
   },
   "outputs": [],
   "source": []
  },
  {
   "cell_type": "markdown",
   "metadata": {},
   "source": [
    "## Closing\n",
    "\n",
    "- What where the most impactful changes that helped your models?\n",
    "- What do you think would happen if we had more user1 Tweets than user2?\n",
    "- What other projects might you think to apply these problems against?"
   ]
  }
 ],
 "metadata": {
  "anaconda-cloud": {},
  "kernelspec": {
   "display_name": "Python [Root]",
   "language": "python",
   "name": "Python [Root]"
  },
  "language_info": {
   "codemirror_mode": {
    "name": "ipython",
    "version": 2
   },
   "file_extension": ".py",
   "mimetype": "text/x-python",
   "name": "python",
   "nbconvert_exporter": "python",
   "pygments_lexer": "ipython2",
   "version": "2.7.12"
  },
  "widgets": {
   "state": {},
   "version": "1.1.0"
  }
 },
 "nbformat": 4,
 "nbformat_minor": 1
}
