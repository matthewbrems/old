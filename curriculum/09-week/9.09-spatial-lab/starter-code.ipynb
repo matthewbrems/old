{
 "cells": [
  {
   "cell_type": "markdown",
   "metadata": {},
   "source": [
    "# Spatial Data Lab"
   ]
  },
  {
   "cell_type": "markdown",
   "metadata": {},
   "source": [
    "## NYC Data Component\n",
    "During the lesson, we looked at each borough of NYC, drew random samples, and assessed whether these samples fell inside each borough, the convex hull of each borough, or the envelope of each borough.\n",
    "\n",
    "Generate 10,000 samples uniformly across the NYC map. (Note, you're generating both a random X and a random Y in order to get a location on the NYC map, much like we did when we estimated the value of $\\pi$ with the \"grains of sand.\") Also generate the convex hull and envelope of each borough."
   ]
  },
  {
   "cell_type": "code",
   "execution_count": null,
   "metadata": {
    "collapsed": true
   },
   "outputs": [],
   "source": []
  },
  {
   "cell_type": "markdown",
   "metadata": {},
   "source": [
    "In this part, we'll quantify efficiency. While timing your code, check how long it takes for your computer to check:\n",
    "\n",
    "- Whether or not each sample falls in the true geographic boroughs.\n",
    "- Whether or not each sample falls in the convex hulls of the boroughs.\n",
    "- Whether or not each sample falls in the envelopes of the boroughs.\n",
    "\n",
    "(Check the linear algebra lesson on computational efficiency for commands for timing code.)\n",
    "\n",
    "Report these numbers, as well as how much more efficient (percentage-wise) envelopes and convex hulls are relative to the true geographies."
   ]
  },
  {
   "cell_type": "code",
   "execution_count": null,
   "metadata": {
    "collapsed": true
   },
   "outputs": [],
   "source": []
  },
  {
   "cell_type": "markdown",
   "metadata": {},
   "source": [
    "Obviously there's a trade-off here. Check how many samples lie in the actual geographies, the convex hulls, and the envelopes.\n",
    "\n",
    "Report the following:\n",
    "\n",
    "- A confusion matrix comparing convex hulls and actual geographies. (i.e. actual geographies are the true counts; convex hulls are predicted counts)\n",
    "- A confusion matrix comparing envelopes and actual geographies.\n",
    "- The accuracy, sensitivity, and specificity from each of the confusion matrices above.\n",
    "- A paragraph summarizing your findings."
   ]
  },
  {
   "cell_type": "code",
   "execution_count": null,
   "metadata": {
    "collapsed": true
   },
   "outputs": [],
   "source": []
  },
  {
   "cell_type": "markdown",
   "metadata": {},
   "source": [
    "## Project 5 Component\n",
    "Pivoting to Project 5, take the data for this project. Generate a map of the world with each country shaded based on the number of terror attacks that occur in each country. (Warning: Some data munging is likely necessary here.)"
   ]
  },
  {
   "cell_type": "code",
   "execution_count": null,
   "metadata": {
    "collapsed": true
   },
   "outputs": [],
   "source": []
  },
  {
   "cell_type": "markdown",
   "metadata": {},
   "source": [
    "Suppose I want to forecast the number of terror attacks by country. Would this process be described as areal, geostatistical, or point pattern?"
   ]
  },
  {
   "cell_type": "code",
   "execution_count": null,
   "metadata": {
    "collapsed": true
   },
   "outputs": [],
   "source": []
  },
  {
   "cell_type": "markdown",
   "metadata": {},
   "source": [
    "Build a widget that will put dots on the map for the location of each terror attack by year. Depending on how precisely you wish to identify the location of the terror attack, you may use the centroid of a country if you'd like. (Note: Using the centroid may cause multiple dots to overlap; people often use a [random jitter](https://www.dataplusscience.com/TableauJitter.html) to help with this. While not required for this lab, consider random jitter as a bonus!)"
   ]
  },
  {
   "cell_type": "code",
   "execution_count": null,
   "metadata": {
    "collapsed": true
   },
   "outputs": [],
   "source": []
  },
  {
   "cell_type": "markdown",
   "metadata": {},
   "source": [
    "Suppose I want to predict the precise location of terror attacks. Would this process be described as areal, geostatistical, or point pattern?"
   ]
  },
  {
   "cell_type": "code",
   "execution_count": null,
   "metadata": {
    "collapsed": true
   },
   "outputs": [],
   "source": []
  },
  {
   "cell_type": "markdown",
   "metadata": {},
   "source": [
    "### If you're happy with the results here, you should consider including these in your presentations next week!"
   ]
  }
 ],
 "metadata": {
  "kernelspec": {
   "display_name": "Python 2",
   "language": "python",
   "name": "python2"
  },
  "language_info": {
   "codemirror_mode": {
    "name": "ipython",
    "version": 2
   },
   "file_extension": ".py",
   "mimetype": "text/x-python",
   "name": "python",
   "nbconvert_exporter": "python",
   "pygments_lexer": "ipython2",
   "version": "2.7.13"
  }
 },
 "nbformat": 4,
 "nbformat_minor": 2
}
