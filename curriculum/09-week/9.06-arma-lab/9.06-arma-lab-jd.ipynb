{
 "cells": [
  {
   "cell_type": "code",
   "execution_count": 2,
   "metadata": {
    "collapsed": false
   },
   "outputs": [
    {
     "data": {
      "text/html": [
       "<div>\n",
       "<table border=\"1\" class=\"dataframe\">\n",
       "  <thead>\n",
       "    <tr style=\"text-align: right;\">\n",
       "      <th></th>\n",
       "      <th>Store</th>\n",
       "      <th>Dept</th>\n",
       "      <th>Weekly_Sales</th>\n",
       "      <th>IsHoliday</th>\n",
       "    </tr>\n",
       "    <tr>\n",
       "      <th>Date</th>\n",
       "      <th></th>\n",
       "      <th></th>\n",
       "      <th></th>\n",
       "      <th></th>\n",
       "    </tr>\n",
       "  </thead>\n",
       "  <tbody>\n",
       "    <tr>\n",
       "      <th>2010-02-05</th>\n",
       "      <td>1</td>\n",
       "      <td>1</td>\n",
       "      <td>24924.50</td>\n",
       "      <td>False</td>\n",
       "    </tr>\n",
       "    <tr>\n",
       "      <th>2010-02-12</th>\n",
       "      <td>1</td>\n",
       "      <td>1</td>\n",
       "      <td>46039.49</td>\n",
       "      <td>True</td>\n",
       "    </tr>\n",
       "    <tr>\n",
       "      <th>2010-02-19</th>\n",
       "      <td>1</td>\n",
       "      <td>1</td>\n",
       "      <td>41595.55</td>\n",
       "      <td>False</td>\n",
       "    </tr>\n",
       "    <tr>\n",
       "      <th>2010-02-26</th>\n",
       "      <td>1</td>\n",
       "      <td>1</td>\n",
       "      <td>19403.54</td>\n",
       "      <td>False</td>\n",
       "    </tr>\n",
       "    <tr>\n",
       "      <th>2010-03-05</th>\n",
       "      <td>1</td>\n",
       "      <td>1</td>\n",
       "      <td>21827.90</td>\n",
       "      <td>False</td>\n",
       "    </tr>\n",
       "  </tbody>\n",
       "</table>\n",
       "</div>"
      ],
      "text/plain": [
       "            Store  Dept  Weekly_Sales IsHoliday\n",
       "Date                                           \n",
       "2010-02-05      1     1      24924.50     False\n",
       "2010-02-12      1     1      46039.49      True\n",
       "2010-02-19      1     1      41595.55     False\n",
       "2010-02-26      1     1      19403.54     False\n",
       "2010-03-05      1     1      21827.90     False"
      ]
     },
     "execution_count": 2,
     "metadata": {},
     "output_type": "execute_result"
    }
   ],
   "source": [
    "import pandas as pd\n",
    "import numpy as np\n",
    "\n",
    "%matplotlib inline\n",
    "\n",
    "data = pd.read_csv('assets/datasets/train.csv')\n",
    "data.set_index('Date', inplace=True)\n",
    "data.head()"
   ]
  },
  {
   "cell_type": "code",
   "execution_count": 3,
   "metadata": {
    "collapsed": false
   },
   "outputs": [
    {
     "data": {
      "text/plain": [
       "<bound method DataFrame.sort_index of             Store  Dept  Weekly_Sales IsHoliday\n",
       "Date                                           \n",
       "2010-02-05      1     1      24924.50     False\n",
       "2010-02-12      1     1      46039.49      True\n",
       "2010-02-19      1     1      41595.55     False\n",
       "2010-02-26      1     1      19403.54     False\n",
       "2010-03-05      1     1      21827.90     False\n",
       "2010-03-12      1     1      21043.39     False\n",
       "2010-03-19      1     1      22136.64     False\n",
       "2010-03-26      1     1      26229.21     False\n",
       "2010-04-02      1     1      57258.43     False\n",
       "2010-04-09      1     1      42960.91     False\n",
       "2010-04-16      1     1      17596.96     False\n",
       "2010-04-23      1     1      16145.35     False\n",
       "2010-04-30      1     1      16555.11     False\n",
       "2010-05-07      1     1      17413.94     False\n",
       "2010-05-14      1     1      18926.74     False\n",
       "2010-05-21      1     1      14773.04     False\n",
       "2010-05-28      1     1      15580.43     False\n",
       "2010-06-04      1     1      17558.09     False\n",
       "2010-06-11      1     1      16637.62     False\n",
       "2010-06-18      1     1      16216.27     False\n",
       "2010-06-25      1     1      16328.72     False\n",
       "2010-07-02      1     1      16333.14     False\n",
       "2010-07-09      1     1      17688.76     False\n",
       "2010-07-16      1     1      17150.84     False\n",
       "2010-07-23      1     1      15360.45     False\n",
       "2010-07-30      1     1      15381.82     False\n",
       "2010-08-06      1     1      17508.41     False\n",
       "2010-08-13      1     1      15536.40     False\n",
       "2010-08-20      1     1      15740.13     False\n",
       "2010-08-27      1     1      15793.87     False\n",
       "...           ...   ...           ...       ...\n",
       "2011-08-26      1    99        120.00     False\n",
       "2011-09-02      1    99         20.00     False\n",
       "2011-09-09      1    99         40.00      True\n",
       "2011-11-25      1    99       2400.00      True\n",
       "2011-12-09      1    99        435.00     False\n",
       "2011-12-16      1    99       1310.00     False\n",
       "2011-12-23      1    99       1860.00     False\n",
       "2011-12-30      1    99        400.00      True\n",
       "2012-02-03      1    99        330.00     False\n",
       "2012-02-10      1    99       1070.00      True\n",
       "2012-02-17      1    99        600.00     False\n",
       "2012-02-24      1    99        100.00     False\n",
       "2012-03-02      1    99        130.00     False\n",
       "2012-04-06      1    99        140.00     False\n",
       "2012-04-13      1    99         20.00     False\n",
       "2012-05-04      1    99         50.00     False\n",
       "2012-06-15      1    99        240.00     False\n",
       "2012-06-22      1    99         35.00     False\n",
       "2012-07-13      1    99          0.02     False\n",
       "2012-07-20      1    99          0.01     False\n",
       "2012-07-27      1    99          0.04     False\n",
       "2012-08-03      1    99         20.00     False\n",
       "2012-08-10      1    99          0.02     False\n",
       "2012-08-17      1    99          0.06     False\n",
       "2012-08-24      1    99          0.07     False\n",
       "2012-08-31      1    99         20.06     False\n",
       "2012-09-07      1    99          0.05      True\n",
       "2012-09-14      1    99          0.03     False\n",
       "2012-10-05      1    99        635.00     False\n",
       "2012-10-12      1    99         80.00     False\n",
       "\n",
       "[10244 rows x 4 columns]>"
      ]
     },
     "execution_count": 3,
     "metadata": {},
     "output_type": "execute_result"
    }
   ],
   "source": [
    "data[data.Store==1].sort_index"
   ]
  },
  {
   "cell_type": "markdown",
   "metadata": {},
   "source": [
    "#### Deliverable\n",
    "\n",
    "Look back at the readme from wednesday's lecture on timeseries for good information about these models and acf/pacf plots!"
   ]
  },
  {
   "cell_type": "markdown",
   "metadata": {},
   "source": [
    "- Filter the dataframe to Store 1 sales and aggregate over departments to compute the total sales per store."
   ]
  },
  {
   "cell_type": "code",
   "execution_count": 4,
   "metadata": {
    "collapsed": false
   },
   "outputs": [],
   "source": [
    "data.index = pd.to_datetime(data.index)\n",
    "store1 = data[data.Store==1]\n",
    "store1 = pd.DataFrame(store1['Weekly_Sales'].resample('1D').sum(),columns=['Weekly_Sales'])\n",
    "store1.dropna(inplace=True)"
   ]
  },
  {
   "cell_type": "code",
   "execution_count": 5,
   "metadata": {
    "collapsed": false
   },
   "outputs": [
    {
     "data": {
      "text/html": [
       "<div>\n",
       "<table border=\"1\" class=\"dataframe\">\n",
       "  <thead>\n",
       "    <tr style=\"text-align: right;\">\n",
       "      <th></th>\n",
       "      <th>Weekly_Sales</th>\n",
       "    </tr>\n",
       "    <tr>\n",
       "      <th>Date</th>\n",
       "      <th></th>\n",
       "    </tr>\n",
       "  </thead>\n",
       "  <tbody>\n",
       "    <tr>\n",
       "      <th>2010-02-05</th>\n",
       "      <td>1643690.90</td>\n",
       "    </tr>\n",
       "    <tr>\n",
       "      <th>2010-02-12</th>\n",
       "      <td>1641957.44</td>\n",
       "    </tr>\n",
       "    <tr>\n",
       "      <th>2010-02-19</th>\n",
       "      <td>1611968.17</td>\n",
       "    </tr>\n",
       "    <tr>\n",
       "      <th>2010-02-26</th>\n",
       "      <td>1409727.59</td>\n",
       "    </tr>\n",
       "    <tr>\n",
       "      <th>2010-03-05</th>\n",
       "      <td>1554806.68</td>\n",
       "    </tr>\n",
       "  </tbody>\n",
       "</table>\n",
       "</div>"
      ],
      "text/plain": [
       "            Weekly_Sales\n",
       "Date                    \n",
       "2010-02-05    1643690.90\n",
       "2010-02-12    1641957.44\n",
       "2010-02-19    1611968.17\n",
       "2010-02-26    1409727.59\n",
       "2010-03-05    1554806.68"
      ]
     },
     "execution_count": 5,
     "metadata": {},
     "output_type": "execute_result"
    }
   ],
   "source": [
    "store1.head()"
   ]
  },
  {
   "cell_type": "markdown",
   "metadata": {},
   "source": [
    "- Plot the rolling_mean for Weekly_Sales. What general trends do you observe?"
   ]
  },
  {
   "cell_type": "code",
   "execution_count": 6,
   "metadata": {
    "collapsed": false
   },
   "outputs": [
    {
     "data": {
      "text/plain": [
       "<matplotlib.axes._subplots.AxesSubplot at 0x11a810550>"
      ]
     },
     "execution_count": 6,
     "metadata": {},
     "output_type": "execute_result"
    },
    {
     "data": {
      "image/png": "[encoded data removed]",
      "text/plain": [
       "<matplotlib.figure.Figure at 0x11a73e910>"
      ]
     },
     "metadata": {},
     "output_type": "display_data"
    }
   ],
   "source": [
    "store1['Weekly_Sales'].rolling(window=1).mean().plot()"
   ]
  },
  {
   "cell_type": "markdown",
   "metadata": {},
   "source": [
    "It's pretty unsurprising to see that sales jump right before January--Christmas."
   ]
  },
  {
   "cell_type": "markdown",
   "metadata": {},
   "source": [
    "- Compute the 1, 2, 52 autocorrelations for Weekly_Sales and create an autocorrelation and partial autocorrelation plot."
   ]
  },
  {
   "cell_type": "code",
   "execution_count": 7,
   "metadata": {
    "collapsed": false
   },
   "outputs": [
    {
     "data": {
      "text/plain": [
       "0.89537602947770079"
      ]
     },
     "execution_count": 7,
     "metadata": {},
     "output_type": "execute_result"
    }
   ],
   "source": [
    "store1.Weekly_Sales.autocorr(lag=1) #previous week = 0.30215827941131262\n",
    "store1.Weekly_Sales.autocorr(lag=2) #2 weeks prior = 0.12741313055390105\n",
    "store1.Weekly_Sales.autocorr(lag=52) #previous year = 0.89537602947770101"
   ]
  },
  {
   "cell_type": "markdown",
   "metadata": {},
   "source": [
    "We can see from the autocorrelation values that the weekly_sales are highly correlated with the sales from the year leading up to that week"
   ]
  },
  {
   "cell_type": "code",
   "execution_count": 8,
   "metadata": {
    "collapsed": false
   },
   "outputs": [
    {
     "data": {
      "text/plain": [
       "<matplotlib.axes._subplots.AxesSubplot at 0x1105bbb50>"
      ]
     },
     "execution_count": 8,
     "metadata": {},
     "output_type": "execute_result"
    },
    {
     "data": {
      "image/png": "[encoded data removed]",
      "text/plain": [
       "<matplotlib.figure.Figure at 0x1105d0c10>"
      ]
     },
     "metadata": {},
     "output_type": "display_data"
    }
   ],
   "source": [
    "from pandas.tools.plotting import autocorrelation_plot\n",
    "\n",
    "autocorrelation_plot(store1['Weekly_Sales'])"
   ]
  },
  {
   "cell_type": "markdown",
   "metadata": {},
   "source": [
    "This chart also shows that around week 52, the autocorrelation is highest."
   ]
  },
  {
   "cell_type": "markdown",
   "metadata": {},
   "source": [
    "- BONUS: What do the acf() and pacf() plots say about the type of model you want to build?"
   ]
  },
  {
   "cell_type": "code",
   "execution_count": 9,
   "metadata": {
    "collapsed": false
   },
   "outputs": [
    {
     "data": {
      "image/png": "[encoded data removed]",
      "text/plain": [
       "<matplotlib.figure.Figure at 0x11ac7a610>"
      ]
     },
     "metadata": {},
     "output_type": "display_data"
    },
    {
     "data": {
      "image/png": "[encoded data removed]",
      "text/plain": [
       "<matplotlib.figure.Figure at 0x11c9f1a90>"
      ]
     },
     "metadata": {},
     "output_type": "display_data"
    }
   ],
   "source": [
    "from statsmodels.graphics.tsaplots import plot_acf, plot_pacf\n",
    "from matplotlib import pyplot as plt\n",
    "\n",
    "plot_acf(store1.Weekly_Sales, lags=52*2)\n",
    "plt.show()\n",
    "\n",
    "plot_pacf(store1.Weekly_Sales, lags=52*3)\n",
    "plt.show()\n",
    "\n",
    "# These plots tell us how many p's and q's we need"
   ]
  },
  {
   "cell_type": "code",
   "execution_count": null,
   "metadata": {
    "collapsed": true
   },
   "outputs": [],
   "source": []
  },
  {
   "cell_type": "markdown",
   "metadata": {},
   "source": [
    "- \"Difference\" the data by converting the sales into change in sales (diff function is convenient for doing this.)\n",
    "- Split the weekly sales data in a training and test set - using 75% of the data for training."
   ]
  },
  {
   "cell_type": "code",
   "execution_count": 14,
   "metadata": {
    "collapsed": false
   },
   "outputs": [],
   "source": [
    "store1_diff = store1.diff(periods=1)\n",
    "store1_diff.fillna(0,inplace=True)\n",
    "\n",
    "X_train = store1_diff[0:107]\n",
    "X_test = store1_diff.index[107:]"
   ]
  },
  {
   "cell_type": "code",
   "execution_count": 11,
   "metadata": {
    "collapsed": false
   },
   "outputs": [
    {
     "data": {
      "text/plain": [
       "DatetimeIndex(['2012-02-24', '2012-03-02', '2012-03-09', '2012-03-16',\n",
       "               '2012-03-23', '2012-03-30', '2012-04-06', '2012-04-13',\n",
       "               '2012-04-20', '2012-04-27', '2012-05-04', '2012-05-11',\n",
       "               '2012-05-18', '2012-05-25', '2012-06-01', '2012-06-08',\n",
       "               '2012-06-15', '2012-06-22', '2012-06-29', '2012-07-06',\n",
       "               '2012-07-13', '2012-07-20', '2012-07-27', '2012-08-03',\n",
       "               '2012-08-10', '2012-08-17', '2012-08-24', '2012-08-31',\n",
       "               '2012-09-07', '2012-09-14', '2012-09-21', '2012-09-28',\n",
       "               '2012-10-05', '2012-10-12', '2012-10-19', '2012-10-26'],\n",
       "              dtype='datetime64[ns]', name=u'Date', freq='7D')"
      ]
     },
     "execution_count": 11,
     "metadata": {},
     "output_type": "execute_result"
    }
   ],
   "source": [
    "import datetime as dt\n",
    "X_test = pd.to_datetime(X_test)\n",
    "\n",
    "X_test"
   ]
  },
  {
   "cell_type": "markdown",
   "metadata": {},
   "source": [
    "- Create an AR(1) model on the training data and compute the mean absolute error of the predictions. How effective is this model?\n"
   ]
  },
  {
   "cell_type": "code",
   "execution_count": 12,
   "metadata": {
    "collapsed": false
   },
   "outputs": [
    {
     "data": {
      "text/html": [
       "<table class=\"simpletable\">\n",
       "<caption>ARMA Model Results</caption>\n",
       "<tr>\n",
       "  <th>Dep. Variable:</th>   <td>Weekly_Sales</td>   <th>  No. Observations:  </th>     <td>143</td>   \n",
       "</tr>\n",
       "<tr>\n",
       "  <th>Model:</th>            <td>ARMA(1, 0)</td>    <th>  Log Likelihood     </th>  <td>-1925.240</td>\n",
       "</tr>\n",
       "<tr>\n",
       "  <th>Method:</th>             <td>css-mle</td>     <th>  S.D. of innovations</th> <td>170033.900</td>\n",
       "</tr>\n",
       "<tr>\n",
       "  <th>Date:</th>          <td>Fri, 05 May 2017</td> <th>  AIC                </th>  <td>3856.480</td> \n",
       "</tr>\n",
       "<tr>\n",
       "  <th>Time:</th>              <td>09:25:05</td>     <th>  BIC                </th>  <td>3865.368</td> \n",
       "</tr>\n",
       "<tr>\n",
       "  <th>Sample:</th>           <td>02-05-2010</td>    <th>  HQIC               </th>  <td>3860.092</td> \n",
       "</tr>\n",
       "<tr>\n",
       "  <th></th>                 <td>- 10-26-2012</td>   <th>                     </th>      <td> </td>    \n",
       "</tr>\n",
       "</table>\n",
       "<table class=\"simpletable\">\n",
       "<tr>\n",
       "           <td></td>             <th>coef</th>     <th>std err</th>      <th>z</th>      <th>P>|z|</th>  <th>[0.025</th>    <th>0.975]</th>  \n",
       "</tr>\n",
       "<tr>\n",
       "  <th>const</th>              <td>-1049.1690</td> <td> 1.04e+04</td> <td>   -0.101</td> <td> 0.920</td> <td>-2.14e+04</td> <td> 1.93e+04</td>\n",
       "</tr>\n",
       "<tr>\n",
       "  <th>ar.L1.Weekly_Sales</th> <td>   -0.3731</td> <td>    0.077</td> <td>   -4.836</td> <td> 0.000</td> <td>   -0.524</td> <td>   -0.222</td>\n",
       "</tr>\n",
       "</table>\n",
       "<table class=\"simpletable\">\n",
       "<caption>Roots</caption>\n",
       "<tr>\n",
       "    <td></td>   <th>           Real</th> <th>         Imaginary</th> <th>         Modulus</th> <th>        Frequency</th>\n",
       "</tr>\n",
       "<tr>\n",
       "  <th>AR.1</th>              -2.6803                    +0.0000j                    2.6803                    0.5000     \n",
       "</tr>\n",
       "</table>"
      ],
      "text/plain": [
       "<class 'statsmodels.iolib.summary.Summary'>\n",
       "\"\"\"\n",
       "                              ARMA Model Results                              \n",
       "==============================================================================\n",
       "Dep. Variable:           Weekly_Sales   No. Observations:                  143\n",
       "Model:                     ARMA(1, 0)   Log Likelihood               -1925.240\n",
       "Method:                       css-mle   S.D. of innovations         170033.900\n",
       "Date:                Fri, 05 May 2017   AIC                           3856.480\n",
       "Time:                        09:25:05   BIC                           3865.368\n",
       "Sample:                    02-05-2010   HQIC                          3860.092\n",
       "                         - 10-26-2012                                         \n",
       "======================================================================================\n",
       "                         coef    std err          z      P>|z|      [0.025      0.975]\n",
       "--------------------------------------------------------------------------------------\n",
       "const              -1049.1690   1.04e+04     -0.101      0.920   -2.14e+04    1.93e+04\n",
       "ar.L1.Weekly_Sales    -0.3731      0.077     -4.836      0.000      -0.524      -0.222\n",
       "                                    Roots                                    \n",
       "=============================================================================\n",
       "                 Real           Imaginary           Modulus         Frequency\n",
       "-----------------------------------------------------------------------------\n",
       "AR.1           -2.6803           +0.0000j            2.6803            0.5000\n",
       "-----------------------------------------------------------------------------\n",
       "\"\"\""
      ]
     },
     "execution_count": 12,
     "metadata": {},
     "output_type": "execute_result"
    }
   ],
   "source": [
    "from statsmodels.tsa.arima_model import ARMA\n",
    "\n",
    "model = ARMA(store1_diff, (1, 0)).fit()\n",
    "model.summary()"
   ]
  },
  {
   "cell_type": "code",
   "execution_count": 15,
   "metadata": {
    "collapsed": false
   },
   "outputs": [],
   "source": [
    "from sklearn.metrics import mean_absolute_error\n",
    "\n",
    "start = min(X_test)\n",
    "end = max(X_test)\n",
    "\n",
    "\n",
    "\n",
    "X_test = np.ravel(X_test)\n",
    "y_pred = model.predict(start = start, end = end)\n",
    "\n",
    "y_pred = np.ravel(y_pred)\n",
    "mean_absolute_error(y_test, y_pred)"
   ]
  },
  {
   "cell_type": "markdown",
   "metadata": {},
   "source": [
    "- Plot the residuals - where are their significant errors?\n"
   ]
  },
  {
   "cell_type": "code",
   "execution_count": 13,
   "metadata": {
    "collapsed": false
   },
   "outputs": [
    {
     "data": {
      "text/plain": [
       "<matplotlib.axes._subplots.AxesSubplot at 0x11cc082d0>"
      ]
     },
     "execution_count": 13,
     "metadata": {},
     "output_type": "execute_result"
    },
    {
     "data": {
      "image/png": "[encoded data removed]",
      "text/plain": [
       "<matplotlib.figure.Figure at 0x11cc08a90>"
      ]
     },
     "metadata": {},
     "output_type": "display_data"
    }
   ],
   "source": [
    "model.resid.plot()"
   ]
  },
  {
   "cell_type": "markdown",
   "metadata": {},
   "source": [
    "- Compute and AR(2) model and an ARMA(2, 2) model - does this improve your mean absolute error on the held out set?"
   ]
  },
  {
   "cell_type": "code",
   "execution_count": null,
   "metadata": {
    "collapsed": true
   },
   "outputs": [],
   "source": []
  },
  {
   "cell_type": "markdown",
   "metadata": {},
   "source": [
    "- Assemble your findings, including any useful graphs."
   ]
  },
  {
   "cell_type": "code",
   "execution_count": null,
   "metadata": {
    "collapsed": true
   },
   "outputs": [],
   "source": []
  }
 ],
 "metadata": {
  "anaconda-cloud": {},
  "kernelspec": {
   "display_name": "Python 2",
   "language": "python",
   "name": "python2"
  },
  "language_info": {
   "codemirror_mode": {
    "name": "ipython",
    "version": 2
   },
   "file_extension": ".py",
   "mimetype": "text/x-python",
   "name": "python",
   "nbconvert_exporter": "python",
   "pygments_lexer": "ipython2",
   "version": "2.7.13"
  }
 },
 "nbformat": 4,
 "nbformat_minor": 1
}
