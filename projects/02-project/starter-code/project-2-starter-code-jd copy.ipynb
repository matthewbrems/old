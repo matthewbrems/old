{
 "cells": [
  {
   "cell_type": "markdown",
   "metadata": {},
   "source": [
    "\n",
    "# Getting started\n",
    "\n",
    "Once you've chosen your scenario, download the data from the Iowa website in csv format. Start by loading the data with pandas. You may need to parse the date columns appropriately."
   ]
  },
  {
   "cell_type": "code",
   "execution_count": 1,
   "metadata": {
    "collapsed": false
   },
   "outputs": [
    {
     "name": "stderr",
     "output_type": "stream",
     "text": [
      "//anaconda/lib/python2.7/site-packages/IPython/core/interactiveshell.py:2717: DtypeWarning: Columns (3) have mixed types. Specify dtype option on import or set low_memory=False.\n",
      "  interactivity=interactivity, compiler=compiler, result=result)\n"
     ]
    }
   ],
   "source": [
    "import pandas as pd\n",
    "\n",
    "import numpy as np\n",
    "## Load the data into a DataFrame\n",
    "liquor = pd.read_csv('../../../../Iowa_Liquor_Sales_reduced.csv')[['Store Number',\n",
    "               'Date',\n",
    "               'City',\n",
    "               'Zip Code',\n",
    "               'County',\n",
    "               'Bottle Volume (ml)', \n",
    "               'State Bottle Cost', \n",
    "               'State Bottle Retail', \n",
    "               'Bottles Sold', \n",
    "               'Sale (Dollars)', \n",
    "               'Volume Sold (Liters)', \n",
    "               'Volume Sold (Gallons)']]\n"
   ]
  },
  {
   "cell_type": "code",
   "execution_count": 2,
   "metadata": {
    "collapsed": false
   },
   "outputs": [],
   "source": [
    "## Make necessary column modifications\n",
    "\n",
    "## Transform the dates\n",
    "liquor[\"Date\"] = pd.to_datetime(liquor[\"Date\"], format=\"%m/%d/%Y\")\n",
    "liquor['Year'] = liquor['Date'].dt.year\n",
    "liquor['Month'] = liquor['Date'].dt.month\n",
    "\n",
    "## Reformat column names to replace spaces with underscores\n",
    "liquor.columns = [c.replace(' ', '_') for c in liquor.columns]\n",
    "liquor.columns = [c.replace(')', '') for c in liquor.columns]\n",
    "liquor.columns = [c.replace('(', '') for c in liquor.columns]\n",
    "\n",
    "## turn to lowercase because I hate initcap\n",
    "liquor.columns = [c.lower() for c in liquor.columns]"
   ]
  },
  {
   "cell_type": "code",
   "execution_count": 3,
   "metadata": {
    "collapsed": false
   },
   "outputs": [],
   "source": [
    "## capitalize city and county for consistency\n",
    "liquor.city = liquor.city.str.upper()\n",
    "liquor.county = liquor.county.str.upper()\n",
    "\n",
    "## remove dollar signs and convert to floats\n",
    "liquor['sale_dollars'] = liquor['sale_dollars'].str.replace('$','').astype(np.float64)\n",
    "liquor['state_bottle_retail'] = liquor['state_bottle_retail'].str.replace('$','').astype(np.float64)\n",
    "liquor['state_bottle_cost'] = liquor['state_bottle_cost'].str.replace('$','').astype(np.float64)"
   ]
  },
  {
   "cell_type": "code",
   "execution_count": 4,
   "metadata": {
    "collapsed": false
   },
   "outputs": [],
   "source": [
    "## check: missing values, dtypes, df shape, describe, unique values, duplicates\n",
    "\n",
    "def eda(dataframe):\n",
    "    \n",
    "    print \"missing values \\n\", dataframe.isnull().sum()## count number of null values per column\n",
    "    print ''\n",
    "    print \"dataframe types \\n\", dataframe.dtypes       ## list data type of each column\n",
    "    print ''\n",
    "    print \"dataframe shape \\n\", dataframe.shape        ## rows by columns\n",
    "    print ''\n",
    "    print \"dataframe describe \\n\", dataframe.describe()## stats -- mean, min, max, etc.. \n",
    "    print ''\n",
    "    for item in dataframe:                             ## count number of unique values per column\n",
    "        print item, '= ', dataframe[item].nunique()\n",
    "    print ''\n",
    "    print 'num duplicates:', dataframe.duplicated().sum()\n",
    "\n",
    "# eda(liquor)"
   ]
  },
  {
   "cell_type": "code",
   "execution_count": 5,
   "metadata": {
    "collapsed": false
   },
   "outputs": [
    {
     "name": "stdout",
     "output_type": "stream",
     "text": [
      "num duplicates: 0\n"
     ]
    },
    {
     "ename": "KeyError",
     "evalue": "\"['county_number'] not in index\"",
     "output_type": "error",
     "traceback": [
      "\u001b[0;31m---------------------------------------------------------------------------\u001b[0m",
      "\u001b[0;31mKeyError\u001b[0m                                  Traceback (most recent call last)",
      "\u001b[0;32m<ipython-input-5-90442c4581d1>\u001b[0m in \u001b[0;36m<module>\u001b[0;34m()\u001b[0m\n\u001b[1;32m      4\u001b[0m \u001b[0;34m\u001b[0m\u001b[0m\n\u001b[1;32m      5\u001b[0m \u001b[0;31m## look into missing county_numbers and counties\u001b[0m\u001b[0;34m\u001b[0m\u001b[0;34m\u001b[0m\u001b[0m\n\u001b[0;32m----> 6\u001b[0;31m \u001b[0mcounty_lookup\u001b[0m \u001b[0;34m=\u001b[0m \u001b[0mliquor\u001b[0m\u001b[0;34m[\u001b[0m\u001b[0;34m[\u001b[0m\u001b[0;34m'zip_code'\u001b[0m\u001b[0;34m,\u001b[0m\u001b[0;34m'county'\u001b[0m\u001b[0;34m,\u001b[0m\u001b[0;34m'county_number'\u001b[0m\u001b[0;34m]\u001b[0m\u001b[0;34m]\u001b[0m\u001b[0;34m[\u001b[0m\u001b[0mliquor\u001b[0m\u001b[0;34m.\u001b[0m\u001b[0mcounty\u001b[0m\u001b[0;34m.\u001b[0m\u001b[0misnull\u001b[0m\u001b[0;34m(\u001b[0m\u001b[0;34m)\u001b[0m\u001b[0;34m==\u001b[0m\u001b[0mFalse\u001b[0m\u001b[0;34m]\u001b[0m\u001b[0;34m\u001b[0m\u001b[0m\n\u001b[0m\u001b[1;32m      7\u001b[0m \u001b[0mcounty_lookup\u001b[0m\u001b[0;34m.\u001b[0m\u001b[0mdrop_duplicates\u001b[0m\u001b[0;34m(\u001b[0m\u001b[0minplace\u001b[0m\u001b[0;34m=\u001b[0m\u001b[0mTrue\u001b[0m\u001b[0;34m)\u001b[0m\u001b[0;34m\u001b[0m\u001b[0m\n",
      "\u001b[0;32m//anaconda/lib/python2.7/site-packages/pandas/core/frame.pyc\u001b[0m in \u001b[0;36m__getitem__\u001b[0;34m(self, key)\u001b[0m\n\u001b[1;32m   2051\u001b[0m         \u001b[0;32mif\u001b[0m \u001b[0misinstance\u001b[0m\u001b[0;34m(\u001b[0m\u001b[0mkey\u001b[0m\u001b[0;34m,\u001b[0m \u001b[0;34m(\u001b[0m\u001b[0mSeries\u001b[0m\u001b[0;34m,\u001b[0m \u001b[0mnp\u001b[0m\u001b[0;34m.\u001b[0m\u001b[0mndarray\u001b[0m\u001b[0;34m,\u001b[0m \u001b[0mIndex\u001b[0m\u001b[0;34m,\u001b[0m \u001b[0mlist\u001b[0m\u001b[0;34m)\u001b[0m\u001b[0;34m)\u001b[0m\u001b[0;34m:\u001b[0m\u001b[0;34m\u001b[0m\u001b[0m\n\u001b[1;32m   2052\u001b[0m             \u001b[0;31m# either boolean or fancy integer index\u001b[0m\u001b[0;34m\u001b[0m\u001b[0;34m\u001b[0m\u001b[0m\n\u001b[0;32m-> 2053\u001b[0;31m             \u001b[0;32mreturn\u001b[0m \u001b[0mself\u001b[0m\u001b[0;34m.\u001b[0m\u001b[0m_getitem_array\u001b[0m\u001b[0;34m(\u001b[0m\u001b[0mkey\u001b[0m\u001b[0;34m)\u001b[0m\u001b[0;34m\u001b[0m\u001b[0m\n\u001b[0m\u001b[1;32m   2054\u001b[0m         \u001b[0;32melif\u001b[0m \u001b[0misinstance\u001b[0m\u001b[0;34m(\u001b[0m\u001b[0mkey\u001b[0m\u001b[0;34m,\u001b[0m \u001b[0mDataFrame\u001b[0m\u001b[0;34m)\u001b[0m\u001b[0;34m:\u001b[0m\u001b[0;34m\u001b[0m\u001b[0m\n\u001b[1;32m   2055\u001b[0m             \u001b[0;32mreturn\u001b[0m \u001b[0mself\u001b[0m\u001b[0;34m.\u001b[0m\u001b[0m_getitem_frame\u001b[0m\u001b[0;34m(\u001b[0m\u001b[0mkey\u001b[0m\u001b[0;34m)\u001b[0m\u001b[0;34m\u001b[0m\u001b[0m\n",
      "\u001b[0;32m//anaconda/lib/python2.7/site-packages/pandas/core/frame.pyc\u001b[0m in \u001b[0;36m_getitem_array\u001b[0;34m(self, key)\u001b[0m\n\u001b[1;32m   2095\u001b[0m             \u001b[0;32mreturn\u001b[0m \u001b[0mself\u001b[0m\u001b[0;34m.\u001b[0m\u001b[0mtake\u001b[0m\u001b[0;34m(\u001b[0m\u001b[0mindexer\u001b[0m\u001b[0;34m,\u001b[0m \u001b[0maxis\u001b[0m\u001b[0;34m=\u001b[0m\u001b[0;36m0\u001b[0m\u001b[0;34m,\u001b[0m \u001b[0mconvert\u001b[0m\u001b[0;34m=\u001b[0m\u001b[0mFalse\u001b[0m\u001b[0;34m)\u001b[0m\u001b[0;34m\u001b[0m\u001b[0m\n\u001b[1;32m   2096\u001b[0m         \u001b[0;32melse\u001b[0m\u001b[0;34m:\u001b[0m\u001b[0;34m\u001b[0m\u001b[0m\n\u001b[0;32m-> 2097\u001b[0;31m             \u001b[0mindexer\u001b[0m \u001b[0;34m=\u001b[0m \u001b[0mself\u001b[0m\u001b[0;34m.\u001b[0m\u001b[0mix\u001b[0m\u001b[0;34m.\u001b[0m\u001b[0m_convert_to_indexer\u001b[0m\u001b[0;34m(\u001b[0m\u001b[0mkey\u001b[0m\u001b[0;34m,\u001b[0m \u001b[0maxis\u001b[0m\u001b[0;34m=\u001b[0m\u001b[0;36m1\u001b[0m\u001b[0;34m)\u001b[0m\u001b[0;34m\u001b[0m\u001b[0m\n\u001b[0m\u001b[1;32m   2098\u001b[0m             \u001b[0;32mreturn\u001b[0m \u001b[0mself\u001b[0m\u001b[0;34m.\u001b[0m\u001b[0mtake\u001b[0m\u001b[0;34m(\u001b[0m\u001b[0mindexer\u001b[0m\u001b[0;34m,\u001b[0m \u001b[0maxis\u001b[0m\u001b[0;34m=\u001b[0m\u001b[0;36m1\u001b[0m\u001b[0;34m,\u001b[0m \u001b[0mconvert\u001b[0m\u001b[0;34m=\u001b[0m\u001b[0mTrue\u001b[0m\u001b[0;34m)\u001b[0m\u001b[0;34m\u001b[0m\u001b[0m\n\u001b[1;32m   2099\u001b[0m \u001b[0;34m\u001b[0m\u001b[0m\n",
      "\u001b[0;32m//anaconda/lib/python2.7/site-packages/pandas/core/indexing.pyc\u001b[0m in \u001b[0;36m_convert_to_indexer\u001b[0;34m(self, obj, axis, is_setter)\u001b[0m\n\u001b[1;32m   1228\u001b[0m                 \u001b[0mmask\u001b[0m \u001b[0;34m=\u001b[0m \u001b[0mcheck\u001b[0m \u001b[0;34m==\u001b[0m \u001b[0;34m-\u001b[0m\u001b[0;36m1\u001b[0m\u001b[0;34m\u001b[0m\u001b[0m\n\u001b[1;32m   1229\u001b[0m                 \u001b[0;32mif\u001b[0m \u001b[0mmask\u001b[0m\u001b[0;34m.\u001b[0m\u001b[0many\u001b[0m\u001b[0;34m(\u001b[0m\u001b[0;34m)\u001b[0m\u001b[0;34m:\u001b[0m\u001b[0;34m\u001b[0m\u001b[0m\n\u001b[0;32m-> 1230\u001b[0;31m                     \u001b[0;32mraise\u001b[0m \u001b[0mKeyError\u001b[0m\u001b[0;34m(\u001b[0m\u001b[0;34m'%s not in index'\u001b[0m \u001b[0;34m%\u001b[0m \u001b[0mobjarr\u001b[0m\u001b[0;34m[\u001b[0m\u001b[0mmask\u001b[0m\u001b[0;34m]\u001b[0m\u001b[0;34m)\u001b[0m\u001b[0;34m\u001b[0m\u001b[0m\n\u001b[0m\u001b[1;32m   1231\u001b[0m \u001b[0;34m\u001b[0m\u001b[0m\n\u001b[1;32m   1232\u001b[0m                 \u001b[0;32mreturn\u001b[0m \u001b[0m_values_from_object\u001b[0m\u001b[0;34m(\u001b[0m\u001b[0mindexer\u001b[0m\u001b[0;34m)\u001b[0m\u001b[0;34m\u001b[0m\u001b[0m\n",
      "\u001b[0;31mKeyError\u001b[0m: \"['county_number'] not in index\""
     ]
    }
   ],
   "source": [
    "## drop duplicate rows\n",
    "liquor.drop_duplicates(inplace=True)\n",
    "print 'num duplicates:', liquor.duplicated().sum()\n",
    "\n",
    "## look into missing county_numbers and counties\n",
    "county_lookup = liquor[['zip_code','county','county_number']][liquor.county.isnull()==False]\n",
    "county_lookup.drop_duplicates(inplace=True)"
   ]
  },
  {
   "cell_type": "code",
   "execution_count": null,
   "metadata": {
    "collapsed": false
   },
   "outputs": [],
   "source": [
    "## grab a list of zip codes for iowa to help fill in missing county names\n",
    "iowa_zips = pd.read_csv('../../../../iowa_zips.csv')\n",
    "iowa_zips.columns = [c.replace(' ', '_') for c in iowa_zips.columns]"
   ]
  },
  {
   "cell_type": "code",
   "execution_count": null,
   "metadata": {
    "collapsed": false
   },
   "outputs": [],
   "source": [
    "# set up connection to SQLalchemy\n",
    "from sqlalchemy import create_engine\n",
    "engine = create_engine('sqlite:///:memory:')\n",
    "conn = engine.connect()\n",
    "\n",
    "# push dfs into sql tables\n",
    "liquor.to_sql('liquor', engine)\n",
    "county_lookup.to_sql('county_lookup', engine)\n",
    "iowa_zips.to_sql('iowa_zips', engine)"
   ]
  },
  {
   "cell_type": "code",
   "execution_count": null,
   "metadata": {
    "collapsed": false
   },
   "outputs": [],
   "source": [
    "# run updates to fill in county names\n",
    "conn.execute(\"update liquor set county = (select upper(county) from county_lookup where county_lookup.zip_code = liquor.zip_code) where county is null;\")\n",
    "conn.execute(\"update liquor set county = (select upper(County) from iowa_zips where iowa_zips.Zip_Code = liquor.zip_code) where county is null;\")\n",
    "# run updates to fill in county_numbers\n",
    "conn.execute(\"update liquor set county_number = (select county_number from county_lookup where county_lookup.zip_code = liquor.zip_code and county_lookup.county = liquor.county) where county_number is null;\")\n",
    "# conn.execute(\"update liquor set quarter = (case when year=2015 and month<=3 then '1Q15' when year=2015 and month<=6 then '2Q15' when year=2015 and month<=9 then '3Q15' when year=2015 and month<=12 then '4Q15' else '1Q16' end);\")\n",
    "# pull sql table into a pandas df\n",
    "liquor_sql = pd.read_sql_table('liquor',engine)\n",
    "# close sql connection\n",
    "conn.close()"
   ]
  },
  {
   "cell_type": "code",
   "execution_count": null,
   "metadata": {
    "collapsed": false
   },
   "outputs": [],
   "source": [
    "# check missing values for counties\n",
    "eda(liquor_sql)\n",
    "\n",
    "liquor_sql['zip_code'][liquor_sql.county.isnull()==True]\n",
    "liquor = liquor_sql"
   ]
  },
  {
   "cell_type": "code",
   "execution_count": null,
   "metadata": {
    "collapsed": true
   },
   "outputs": [],
   "source": [
    "## now that all counties are filled in, export data to be used for mapping in tableau\n",
    "liquor.to_csv('../../../../Iowa_Liquor_sales_sample_10pct_CLEAN.csv') \n",
    "\n",
    "\n",
    "## because i'm neurotic, found coordinates for counties that couldn't be mapped in tableau\n",
    "# https://dom.iowa.gov/document/iowa-county-codes-and-coordinates"
   ]
  },
  {
   "cell_type": "markdown",
   "metadata": {},
   "source": [
    "# Explore the data\n",
    "\n",
    "Perform some exploratory statistical analysis and make some plots, such as histograms of transaction totals, bottles sold, etc."
   ]
  },
  {
   "cell_type": "code",
   "execution_count": null,
   "metadata": {
    "collapsed": false
   },
   "outputs": [],
   "source": [
    "import seaborn as sns\n",
    "import matplotlib.pyplot as plt\n",
    "%matplotlib inline"
   ]
  },
  {
   "cell_type": "code",
   "execution_count": null,
   "metadata": {
    "collapsed": false
   },
   "outputs": [],
   "source": [
    "plt.scatter(liquor.bottles_sold,liquor.sale_dollars)\n",
    "plt.xlabel('Bottles Sold')\n",
    "plt.ylabel('Sale Amount $')\n",
    "plt.title('Obvious Relationship between Bottles Sold and Sale Amount')\n",
    "plt.show()\n",
    "\n",
    "plt.scatter(liquor.volume_sold_liters,liquor.sale_dollars)\n",
    "plt.show()\n",
    "\n",
    "plt.scatter(liquor.bottles_sold,liquor.volume_sold_liters)\n",
    "plt.show()\n",
    "\n",
    "plt.scatter(liquor.bottles_sold,liquor.state_bottle_retail)\n",
    "plt.show()\n"
   ]
  },
  {
   "cell_type": "markdown",
   "metadata": {},
   "source": [
    "# Record your findings\n",
    "\n",
    "Be sure to write out any observations from your exploratory analysis.\n"
   ]
  },
  {
   "cell_type": "markdown",
   "metadata": {},
   "source": [
    "# Mine the data\n",
    "\n",
    "Now you are ready to compute the variables you will use for your regression from the data. For example, you may want to compute total sales per store from Jan to March of 2015, mean price per bottle, etc. Refer to the readme for more ideas appropriate to your scenario.\n",
    "\n",
    "Pandas is your friend for this task. Take a look at the operations here for ideas on how to make the best use of pandas and feel free to search for blog and Stack Overflow posts to help you group data by certain variables and compute sums, means, etc. You may find it useful to create a new data frame to house this summary data.\n",
    " \n"
   ]
  },
  {
   "cell_type": "code",
   "execution_count": null,
   "metadata": {
    "collapsed": false
   },
   "outputs": [],
   "source": [
    "by_store = liquor[['store_number',\n",
    "                   'quarter',\n",
    "                   'sale_dollars',\n",
    "                   'volume_sold_liters',\n",
    "                   'bottles_sold']].groupby(['store_number',\n",
    "                                             'quarter']).agg({'sale_dollars': [np.sum, np.mean],\n",
    "                                                            'volume_sold_liters': [np.sum, np.mean],\n",
    "                                                            'bottles_sold' : [np.sum, np.mean]\n",
    "                                                           \n",
    "                                                           })\n",
    "by_county = liquor[['county',\n",
    "                   'quarter',\n",
    "                   'sale_dollars',\n",
    "                   'volume_sold_liters',\n",
    "                   'bottles_sold']].groupby(['county',\n",
    "                                             'quarter']).agg({'sale_dollars': [np.sum, np.mean],\n",
    "                                                            'volume_sold_liters': [np.sum, np.mean],\n",
    "                                                            'bottles_sold' : [np.sum, np.mean]\n",
    "                                                           })\n",
    "\n",
    "by_city = liquor[['city',\n",
    "                   'quarter',\n",
    "                   'sale_dollars',\n",
    "                   'volume_sold_liters',\n",
    "                   'bottles_sold']].groupby(['city',\n",
    "                                             'quarter']).agg({'sale_dollars': [np.sum, np.mean],\n",
    "                                                            'volume_sold_liters': [np.sum, np.mean],\n",
    "                                                            'bottles_sold' : [np.sum, np.mean]\n",
    "                                                           })"
   ]
  },
  {
   "cell_type": "code",
   "execution_count": null,
   "metadata": {
    "collapsed": false
   },
   "outputs": [],
   "source": [
    "sns.pairplot(by_store)"
   ]
  },
  {
   "cell_type": "code",
   "execution_count": null,
   "metadata": {
    "collapsed": false
   },
   "outputs": [],
   "source": [
    "sns.pairplot(by_county)"
   ]
  },
  {
   "cell_type": "code",
   "execution_count": null,
   "metadata": {
    "collapsed": false
   },
   "outputs": [],
   "source": [
    "sns.pairplot(by_city)\n"
   ]
  },
  {
   "cell_type": "markdown",
   "metadata": {},
   "source": [
    "# Refine the data\n",
    "\n",
    "Look for any statistical relationships, correlations, or other relevant properties of the dataset."
   ]
  },
  {
   "cell_type": "code",
   "execution_count": null,
   "metadata": {
    "collapsed": false
   },
   "outputs": [],
   "source": [
    "liquor_by_store = liquor[['store_number',\n",
    "                          'sale_dollars',\n",
    "                          'bottles_sold', \n",
    "                          'state_bottle_retail']].groupby(liquor.store_number).agg({'sale_dollars' : np.sum,\n",
    "                                                                                    'bottles_sold' : np.sum,\n",
    "                                                                                    'state_bottle_retail' : np.sum})\n",
    "\n",
    "liquor_by_zip = liquor[['zip_code',\n",
    "                          'sale_dollars',\n",
    "                          'bottles_sold', \n",
    "                          'state_bottle_retail',\n",
    "                        'store_number']].groupby(liquor.zip_code).agg({'sale_dollars' : np.sum,\n",
    "                                                                                    'bottles_sold' : np.sum,\n",
    "                                                                                    'state_bottle_retail' : np.sum,\n",
    "                                                                                   'store_number' : lambda x: x.nunique()})\n",
    "liquor_by_city = liquor[['city',\n",
    "                          'sale_dollars',\n",
    "                          'bottles_sold', \n",
    "                          'state_bottle_retail',\n",
    "                        'store_number']].groupby(liquor.city).agg({'sale_dollars' : np.sum,\n",
    "                                                                                    'bottles_sold' : np.sum,\n",
    "                                                                                    'state_bottle_retail' : np.sum,\n",
    "                                                                           'store_number' : lambda x: x.nunique()})\n",
    "liquor_by_county = liquor[['county',\n",
    "                          'sale_dollars',\n",
    "                          'bottles_sold', \n",
    "                          'state_bottle_retail',\n",
    "                          'store_number']].groupby(liquor.county).agg({'sale_dollars' : np.sum,\n",
    "                                                                                    'bottles_sold' : np.sum,\n",
    "                                                                                    'state_bottle_retail' : np.sum,\n",
    "                                                                             'store_number' : lambda x: x.nunique()})\n",
    "\n",
    "\n",
    "liquor_by_store['avg_price_per_bottle'] = liquor_by_store.sale_dollars / liquor_by_store.bottles_sold\n",
    "liquor_by_zip['avg_price_per_bottle'] = liquor_by_zip.sale_dollars / liquor_by_zip.bottles_sold\n",
    "liquor_by_city['avg_price_per_bottle'] = liquor_by_city.sale_dollars / liquor_by_city.bottles_sold\n",
    "liquor_by_county['avg_price_per_bottle'] = liquor_by_county.sale_dollars / liquor_by_county.bottles_sold\n",
    "\n",
    "liquor_by_zip['avg_sales_store'] = liquor_by_zip.sale_dollars / (liquor_by_zip.bottles_sold)\n",
    "liquor_by_city['avg_sales_store'] = liquor_by_city.sale_dollars / (liquor_by_city.bottles_sold)\n",
    "liquor_by_county['avg_sales_store'] = liquor_by_county.sale_dollars / (liquor_by_county.bottles_sold)\n",
    "\n",
    "liquor_by_zip['avg_sales_store_plus1'] = liquor_by_zip.sale_dollars / (liquor_by_zip.bottles_sold + 1)\n",
    "liquor_by_city['avg_sales_store_plus1'] = liquor_by_city.sale_dollars / (liquor_by_city.bottles_sold + 1)\n",
    "liquor_by_county['avg_sales_store_plus1'] = liquor_by_county.sale_dollars / (liquor_by_county.bottles_sold + 1)\n",
    "\n",
    "liquor_by_zip['delta_sales'] = liquor_by_zip.avg_sales_store - liquor_by_zip.avg_sales_store_plus1\n",
    "liquor_by_city['delta_sales'] = liquor_by_city.avg_sales_store - liquor_by_city.avg_sales_store_plus1\n",
    "liquor_by_county['delta_sales'] = liquor_by_county.avg_sales_store - liquor_by_county.avg_sales_store_plus1"
   ]
  },
  {
   "cell_type": "code",
   "execution_count": null,
   "metadata": {
    "collapsed": false
   },
   "outputs": [],
   "source": [
    "sns.pairplot(liquor_by_store)"
   ]
  },
  {
   "cell_type": "code",
   "execution_count": null,
   "metadata": {
    "collapsed": false
   },
   "outputs": [],
   "source": [
    "sns.pairplot(liquor_by_zip)"
   ]
  },
  {
   "cell_type": "code",
   "execution_count": null,
   "metadata": {
    "collapsed": false
   },
   "outputs": [],
   "source": [
    "sns.pairplot(liquor_by_city)"
   ]
  },
  {
   "cell_type": "code",
   "execution_count": null,
   "metadata": {
    "collapsed": false
   },
   "outputs": [],
   "source": [
    "sns.pairplot(liquor_by_county)"
   ]
  },
  {
   "cell_type": "markdown",
   "metadata": {},
   "source": [
    "# Build your models\n",
    "\n",
    "Using scikit-learn or statsmodels, build the necessary models for your scenario. Evaluate model fit."
   ]
  },
  {
   "cell_type": "code",
   "execution_count": null,
   "metadata": {
    "collapsed": false
   },
   "outputs": [],
   "source": [
    "import statsmodels.formula.api as sm #import statsmodels"
   ]
  },
  {
   "cell_type": "code",
   "execution_count": null,
   "metadata": {
    "collapsed": false
   },
   "outputs": [],
   "source": [
    "\n",
    "X = liquor_desmoines[['bottles_sold','state_bottle_retail']]\n",
    "y = liquor_desmoines['sale_dollars']\n",
    "\n",
    "lm = linear_model.LassoCV(cv=5)\n",
    "model_desmoines = lm.fit(X,y)\n",
    "print model_desmoines.score(X,y)\n",
    "print model_desmoines.alpha_"
   ]
  },
  {
   "cell_type": "code",
   "execution_count": null,
   "metadata": {
    "collapsed": false,
    "scrolled": false
   },
   "outputs": [],
   "source": [
    "from sklearn import linear_model\n",
    "from sklearn.metrics import r2_score\n",
    "\n",
    "\n",
    "liquor_by_zip.sort_values('sale_dollars',ascending=False)\n",
    "liquor_50314 = liquor[['store_number',\n",
    "                           'bottles_sold', \n",
    "                           'state_bottle_retail', \n",
    "                           'sale_dollars']][liquor.zip_code=='50314'].groupby(liquor.store_number).agg({'bottles_sold': np.sum,\n",
    "                                                                                                         'state_bottle_retail' : np.sum, \n",
    "                                                                                                         'sale_dollars' : np.sum})\n",
    "X = liquor_50314[['bottles_sold','state_bottle_retail']]\n",
    "y = liquor_50314['sale_dollars']\n",
    "\n",
    "lm = linear_model.LassoCV(cv=5)\n",
    "model_50314 = lm.fit(X,y)\n",
    "print '50314 model score = ', model_50314.score(X,y)\n",
    "print '50314 alpha =', model_50314.alpha_\n",
    "print ''\n",
    "\n",
    "\n",
    "liquor_50320 = liquor[['store_number',\n",
    "                           'bottles_sold', \n",
    "                           'state_bottle_retail', \n",
    "                           'sale_dollars']][liquor.zip_code=='50320'].groupby(liquor.store_number).agg({'bottles_sold': np.sum,\n",
    "                                                                                                         'state_bottle_retail' : np.sum, \n",
    "                                                                                                         'sale_dollars' : np.sum})\n",
    "                                                                                                         \n",
    "X = liquor_50320[['bottles_sold','state_bottle_retail']]\n",
    "y = liquor_50320['sale_dollars']\n",
    "\n",
    "lm = linear_model.LassoCV(cv=5)\n",
    "model_50320 = lm.fit(X,y)\n",
    "print '50320 model score =', model_50320.score(X,y)\n",
    "print '50320 alpha =', model_50320.alpha_\n",
    "print ''\n",
    "\n",
    "\n",
    "liquor_desmoines = liquor[['store_number',\n",
    "                           'bottles_sold', \n",
    "                           'state_bottle_retail', \n",
    "                           'sale_dollars']][liquor.city=='DES MOINES'].groupby(liquor.store_number).agg({'bottles_sold': np.sum,\n",
    "                                                                                                         'state_bottle_retail' : np.sum, \n",
    "                                                                                                         'sale_dollars' : np.sum})\n",
    "X = liquor_desmoines[['bottles_sold','state_bottle_retail']]\n",
    "y = liquor_desmoines['sale_dollars']\n",
    "\n",
    "lm = linear_model.LassoCV(cv=5)\n",
    "model_desmoines = lm.fit(X,y)\n",
    "print 'Des Moines model score = ', model_desmoines.score(X,y)\n",
    "print 'Des Moines alpha = ', model_desmoines.alpha_"
   ]
  },
  {
   "cell_type": "code",
   "execution_count": null,
   "metadata": {
    "collapsed": false
   },
   "outputs": [],
   "source": [
    "X = liquor_by_store[['bottles_sold','state_bottle_retail']]\n",
    "y = liquor_by_store['sale_dollars']\n",
    "lm = linear_model.LassoCV(cv=5)\n",
    "model = lm.fit(X,y)\n",
    "print model.score(X,y)\n",
    "print model.alpha_\n",
    "print ''\n",
    "liquor_by_store['predictions'] = model.predict(X)\n",
    "print 'TOP PERFORMING STORES'\n",
    "liquor_by_store[['sale_dollars','predictions']].sort_values('predictions', ascending=False)[0:20]"
   ]
  },
  {
   "cell_type": "markdown",
   "metadata": {},
   "source": [
    "# Plot your results\n",
    "\n",
    "Again make sure that you record any valuable information. For example, in the tax scenario, did you find the sales from the first three months of the year to be a good predictor of the total sales for the year? Plot the predictions versus the true values and discuss the successes and limitations of your models"
   ]
  },
  {
   "cell_type": "code",
   "execution_count": null,
   "metadata": {
    "collapsed": false
   },
   "outputs": [],
   "source": [
    "predictions = model_desmoines.predict(X)\n",
    "\n",
    "plt.scatter(y, predictions)\n",
    "plt.ylabel(\"Predictions\")\n",
    "plt.xlabel(\"True Values\")\n",
    "plt.show()"
   ]
  },
  {
   "cell_type": "code",
   "execution_count": null,
   "metadata": {
    "collapsed": false
   },
   "outputs": [],
   "source": [
    "predictions = model_50314.predict(X)\n",
    "\n",
    "plt.scatter(y, predictions)\n",
    "plt.ylabel(\"Predictions\")\n",
    "plt.xlabel(\"True Values\")\n",
    "plt.show()\n",
    "\n",
    "\n",
    "predictions = model_50320.predict(X)\n",
    "\n",
    "plt.scatter(y, predictions)\n",
    "plt.ylabel(\"Predictions\")\n",
    "plt.xlabel(\"True Values\")\n",
    "plt.show()"
   ]
  },
  {
   "cell_type": "markdown",
   "metadata": {},
   "source": [
    "# Present the Results\n",
    "\n",
    "Present your conclusions and results. If you have more than one interesting model feel free to include more than one along with a discussion. Use your work in this notebook to prepare your write-up."
   ]
  },
  {
   "cell_type": "code",
   "execution_count": null,
   "metadata": {
    "collapsed": true
   },
   "outputs": [],
   "source": []
  }
 ],
 "metadata": {
  "anaconda-cloud": {},
  "kernelspec": {
   "display_name": "Python 2",
   "language": "python",
   "name": "python2"
  },
  "language_info": {
   "codemirror_mode": {
    "name": "ipython",
    "version": 2
   },
   "file_extension": ".py",
   "mimetype": "text/x-python",
   "name": "python",
   "nbconvert_exporter": "python",
   "pygments_lexer": "ipython2",
   "version": "2.7.13"
  }
 },
 "nbformat": 4,
 "nbformat_minor": 1
}
