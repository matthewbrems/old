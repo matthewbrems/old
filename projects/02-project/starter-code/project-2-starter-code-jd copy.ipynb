{
 "cells": [
  {
   "cell_type": "markdown",
   "metadata": {},
   "source": [
    "\n",
    "# Getting started\n",
    "\n",
    "Once you've chosen your scenario, download the data from the Iowa website in csv format. Start by loading the data with pandas. You may need to parse the date columns appropriately."
   ]
  },
  {
   "cell_type": "code",
   "execution_count": 49,
   "metadata": {
    "collapsed": false
   },
   "outputs": [],
   "source": [
    "import pandas as pd\n",
    "\n",
    "import numpy as np\n",
    "## Load the data into a DataFrame\n",
    "liquor = pd.read_csv('../../../../Iowa_Liquor_sales_sample_10pct.csv',low_memory=False)[['Store Number',\n",
    "               'Date',\n",
    "               'City',\n",
    "               'Zip Code',\n",
    "               'County',\n",
    "               'Bottle Volume (ml)', \n",
    "               'State Bottle Cost', \n",
    "               'State Bottle Retail', \n",
    "               'Bottles Sold', \n",
    "               'Sale (Dollars)', \n",
    "               'Volume Sold (Liters)', \n",
    "               'Volume Sold (Gallons)']]\n"
   ]
  },
  {
   "cell_type": "code",
   "execution_count": 52,
   "metadata": {
    "collapsed": false
   },
   "outputs": [],
   "source": [
    "## Make necessary column modifications\n",
    "\n",
    "## Transform the dates\n",
    "liquor[\"Date\"] = pd.to_datetime(liquor[\"Date\"], format=\"%m/%d/%Y\")\n",
    "\n",
    "## I'm creating functions for a few different things\n",
    "## that I'll be able to reuse when I import the full dataset\n",
    "def  clean_columns(table):\n",
    "    table.columns = [x.replace(' ', '_') for x in table.columns]\n",
    "    table.columns = [x.replace(')', '') for x in table.columns]\n",
    "    table.columns = [x.replace('(', '') for x in table.columns]\n",
    "    table.columns = [x.lower()  for x in table.columns]  \n",
    "    table.city = liquor.city.str.upper()   #capitalize all cities and counties\n",
    "    table.county = table.county.str.upper()\n",
    "    ## remove dollar sign from monetary columns and convert to float\n",
    "    for column in ('sale_dollars', 'state_bottle_retail', 'state_bottle_cost'):\n",
    "        table[column] = table[column].str.replace('$','').astype(np.float64)\n",
    "    ## convert to float\n",
    "    table['bottles_sold'] = table['bottles_sold'].astype(np.float64)\n",
    "\n",
    "clean_columns(liquor)"
   ]
  },
  {
   "cell_type": "code",
   "execution_count": 53,
   "metadata": {
    "collapsed": false
   },
   "outputs": [
    {
     "name": "stdout",
     "output_type": "stream",
     "text": [
      "missing values \n",
      "store_number              0\n",
      "date                      0\n",
      "city                      0\n",
      "zip_code                  0\n",
      "county                 1077\n",
      "bottle_volume_ml          0\n",
      "state_bottle_cost         0\n",
      "state_bottle_retail       0\n",
      "bottles_sold              0\n",
      "sale_dollars              0\n",
      "volume_sold_liters        0\n",
      "volume_sold_gallons       0\n",
      "dtype: int64\n",
      "\n",
      "dataframe types \n",
      "store_number                    int64\n",
      "date                   datetime64[ns]\n",
      "city                           object\n",
      "zip_code                       object\n",
      "county                         object\n",
      "bottle_volume_ml                int64\n",
      "state_bottle_cost             float64\n",
      "state_bottle_retail           float64\n",
      "bottles_sold                  float64\n",
      "sale_dollars                  float64\n",
      "volume_sold_liters            float64\n",
      "volume_sold_gallons           float64\n",
      "dtype: object\n",
      "\n",
      "dataframe shape \n",
      "(270955, 12)\n",
      "\n",
      "dataframe describe \n",
      "        store_number  bottle_volume_ml  state_bottle_cost  \\\n",
      "count  270955.000000     270955.000000      270955.000000   \n",
      "mean     3590.263701        924.830341           9.773281   \n",
      "std       947.662050        493.088489           7.047119   \n",
      "min      2106.000000         50.000000           0.890000   \n",
      "25%      2604.000000        750.000000           5.500000   \n",
      "50%      3722.000000        750.000000           8.000000   \n",
      "75%      4378.000000       1000.000000          11.920000   \n",
      "max      9023.000000       6000.000000         425.000000   \n",
      "\n",
      "       state_bottle_retail   bottles_sold   sale_dollars  volume_sold_liters  \\\n",
      "count        270955.000000  270955.000000  270955.000000       270955.000000   \n",
      "mean             14.675760       9.871285     128.902375            8.981351   \n",
      "std              10.570145      24.040912     383.027369           28.913690   \n",
      "min               1.340000       1.000000       1.340000            0.100000   \n",
      "25%               8.270000       2.000000      30.450000            1.500000   \n",
      "50%              12.270000       6.000000      70.560000            5.250000   \n",
      "75%              17.880000      12.000000     135.000000           10.500000   \n",
      "max             637.500000    2508.000000   36392.400000         2508.000000   \n",
      "\n",
      "       volume_sold_gallons  \n",
      "count        270955.000000  \n",
      "mean              2.372830  \n",
      "std               7.638182  \n",
      "min               0.030000  \n",
      "25%               0.400000  \n",
      "50%               1.390000  \n",
      "75%               2.770000  \n",
      "max             662.540000  \n",
      "\n",
      "store_number =  1400\n",
      "date =  274\n",
      "city =  379\n",
      "zip_code =  415\n",
      "county =  99\n",
      "bottle_volume_ml =  29\n",
      "state_bottle_cost =  1086\n",
      "state_bottle_retail =  1112\n",
      "bottles_sold =  137\n",
      "sale_dollars =  6580\n",
      "volume_sold_liters =  265\n",
      "volume_sold_gallons =  261\n",
      "\n",
      "num duplicates: 2454\n"
     ]
    }
   ],
   "source": [
    "## check: missing values, dtypes, df shape, describe, unique values, duplicates\n",
    "\n",
    "def eda(dataframe):\n",
    "    \n",
    "    print \"missing values \\n\", dataframe.isnull().sum()## count number of null values per column\n",
    "    print ''\n",
    "    print \"dataframe types \\n\", dataframe.dtypes       ## list data type of each column\n",
    "    print ''\n",
    "    print \"dataframe shape \\n\", dataframe.shape        ## rows by columns\n",
    "    print ''\n",
    "    print \"dataframe describe \\n\", dataframe.describe()## stats -- mean, min, max, etc.. \n",
    "    print ''\n",
    "    for item in dataframe:                             ## count number of unique values per column\n",
    "        print item, '= ', dataframe[item].nunique()\n",
    "    print ''\n",
    "    print 'num duplicates:', dataframe.duplicated().sum()\n",
    "\n",
    "eda(liquor)"
   ]
  },
  {
   "cell_type": "code",
   "execution_count": 54,
   "metadata": {
    "collapsed": false
   },
   "outputs": [
    {
     "name": "stdout",
     "output_type": "stream",
     "text": [
      "num duplicates: 0\n"
     ]
    }
   ],
   "source": [
    "## As a result of the EDA function, \n",
    "## I will drop duplicates\n",
    "## & fill in county names\n",
    "\n",
    "## drop duplicate rows\n",
    "liquor.drop_duplicates(inplace=True)\n",
    "print 'num duplicates:', liquor.duplicated().sum()\n",
    "\n",
    "## create a lookup table for all filled in counties, zip_codes\n",
    "## that can be used to fill in any counties have a zip code but no name\n",
    "county_lookup = liquor[['zip_code','county']][liquor.county.isnull()==False]\n",
    "county_lookup.drop_duplicates(inplace=True)   # make sure there's only one of each county, drop dupes\n",
    "\n",
    "## in addition to the lookup table, I'm using the file below\n",
    "## to help fill in missing county names\n",
    "iowa_zips = pd.read_csv('../../../../iowa_zips.csv')\n",
    "iowa_zips.columns = [c.replace(' ', '_') for c in iowa_zips.columns]\n",
    "\n",
    "## next cell will update county names\n"
   ]
  },
  {
   "cell_type": "code",
   "execution_count": 55,
   "metadata": {
    "collapsed": false
   },
   "outputs": [],
   "source": [
    "## I spent a while trying to figure out how to update\n",
    "## values in the pandas dataframe, but was very\n",
    "## unsuccessful. I decided to run the updates using SQL instead.\n",
    "\n",
    "## set up connection to SQLalchemy\n",
    "from sqlalchemy import create_engine\n",
    "engine = create_engine('sqlite:///:memory:')\n",
    "conn = engine.connect()\n",
    "\n",
    "## push dataframes into sql tables\n",
    "liquor.to_sql('liquor', engine)\n",
    "county_lookup.to_sql('county_lookup', engine)\n",
    "iowa_zips.to_sql('iowa_zips', engine)\n",
    "\n",
    "## run updates to fill in county names by matching zip_codes to lookup data\n",
    "conn.execute(\"update liquor set county = (select upper(county) from county_lookup where county_lookup.zip_code = liquor.zip_code) where county is null;\")\n",
    "conn.execute(\"update liquor set county = (select upper(County) from iowa_zips where iowa_zips.Zip_Code = liquor.zip_code) where county is null;\")\n",
    "\n",
    "## pull sql table back into a pandas df\n",
    "liquor_sql = pd.read_sql_table('liquor',engine)\n",
    "\n",
    "## close sql connection\n",
    "conn.close()"
   ]
  },
  {
   "cell_type": "code",
   "execution_count": 56,
   "metadata": {
    "collapsed": false
   },
   "outputs": [
    {
     "name": "stdout",
     "output_type": "stream",
     "text": [
      "missing values \n",
      "index                  0\n",
      "store_number           0\n",
      "date                   0\n",
      "city                   0\n",
      "zip_code               0\n",
      "county                 0\n",
      "bottle_volume_ml       0\n",
      "state_bottle_cost      0\n",
      "state_bottle_retail    0\n",
      "bottles_sold           0\n",
      "sale_dollars           0\n",
      "volume_sold_liters     0\n",
      "volume_sold_gallons    0\n",
      "dtype: int64\n",
      "\n",
      "dataframe types \n",
      "index                           int64\n",
      "store_number                    int64\n",
      "date                   datetime64[ns]\n",
      "city                           object\n",
      "zip_code                       object\n",
      "county                         object\n",
      "bottle_volume_ml                int64\n",
      "state_bottle_cost             float64\n",
      "state_bottle_retail           float64\n",
      "bottles_sold                  float64\n",
      "sale_dollars                  float64\n",
      "volume_sold_liters            float64\n",
      "volume_sold_gallons           float64\n",
      "dtype: object\n",
      "\n",
      "dataframe shape \n",
      "(268501, 13)\n",
      "\n",
      "dataframe describe \n",
      "               index   store_number  bottle_volume_ml  state_bottle_cost  \\\n",
      "count  268501.000000  268501.000000     268501.000000      268501.000000   \n",
      "mean   135079.162152    3592.682135        925.663052           9.787527   \n",
      "std     78216.826761     947.508435        494.102242           7.069616   \n",
      "min         0.000000    2106.000000         50.000000           0.890000   \n",
      "25%     67302.000000    2604.000000        750.000000           5.500000   \n",
      "50%    134886.000000    3723.000000        750.000000           8.000000   \n",
      "75%    202760.000000    4382.000000       1000.000000          11.960000   \n",
      "max    270954.000000    9023.000000       6000.000000         425.000000   \n",
      "\n",
      "       state_bottle_retail   bottles_sold   sale_dollars  volume_sold_liters  \\\n",
      "count        268501.000000  268501.000000  268501.000000       268501.000000   \n",
      "mean             14.697124       9.886321     129.201241            9.002011   \n",
      "std              10.603915      24.128342     384.556052           29.019580   \n",
      "min               1.340000       1.000000       1.340000            0.100000   \n",
      "25%               8.250000       2.000000      30.480000            1.500000   \n",
      "50%              12.270000       6.000000      70.560000            5.250000   \n",
      "75%              17.940000      12.000000     135.000000           10.500000   \n",
      "max             637.500000    2508.000000   36392.400000         2508.000000   \n",
      "\n",
      "       volume_sold_gallons  \n",
      "count        268501.000000  \n",
      "mean              2.378283  \n",
      "std               7.666155  \n",
      "min               0.030000  \n",
      "25%               0.400000  \n",
      "50%               1.390000  \n",
      "75%               2.770000  \n",
      "max             662.540000  \n",
      "\n",
      "index =  268501\n",
      "store_number =  1400\n",
      "date =  274\n",
      "city =  379\n",
      "zip_code =  415\n",
      "county =  99\n",
      "bottle_volume_ml =  29\n",
      "state_bottle_cost =  1086\n",
      "state_bottle_retail =  1112\n",
      "bottles_sold =  137\n",
      "sale_dollars =  6580\n",
      "volume_sold_liters =  265\n",
      "volume_sold_gallons =  261\n",
      "\n",
      "num duplicates: 0\n"
     ]
    }
   ],
   "source": [
    "## check missing values for counties to see how many are null now\n",
    "eda(liquor_sql)\n",
    "## all are filled in!\n",
    "\n",
    "## I'm happy with the quality of the data, so I'm\n",
    "## going to go ahead and use the modified table\n",
    "liquor = liquor_sql\n",
    "liquor_sql = ''"
   ]
  },
  {
   "cell_type": "code",
   "execution_count": 57,
   "metadata": {
    "collapsed": true
   },
   "outputs": [],
   "source": [
    "## now that all counties are filled in, export data to be used for mapping in tableau\n",
    "liquor.to_csv('../../../../Iowa_Liquor_sales_sample_10pct_CLEAN.csv') \n",
    "\n",
    "\n",
    "## because i'm neurotic, found coordinates for counties that couldn't be mapped in tableau\n",
    "# https://dom.iowa.gov/document/iowa-county-codes-and-coordinates"
   ]
  },
  {
   "cell_type": "markdown",
   "metadata": {},
   "source": [
    "# Explore the data\n",
    "\n",
    "Perform some exploratory statistical analysis and make some plots, such as histograms of transaction totals, bottles sold, etc."
   ]
  },
  {
   "cell_type": "code",
   "execution_count": 58,
   "metadata": {
    "collapsed": false
   },
   "outputs": [],
   "source": [
    "import seaborn as sns\n",
    "import matplotlib.pyplot as plt\n",
    "%matplotlib inline"
   ]
  },
  {
   "cell_type": "code",
   "execution_count": 61,
   "metadata": {
    "collapsed": false
   },
   "outputs": [
    {
     "data": {
      "text/plain": [
       "<matplotlib.text.Text at 0x11baaa850>"
      ]
     },
     "execution_count": 61,
     "metadata": {},
     "output_type": "execute_result"
    },
    {
     "data": {
      "image/png": "[encoded data removed]",
      "text/plain": [
       "<matplotlib.figure.Figure at 0x22b9e2990>"
      ]
     },
     "metadata": {},
     "output_type": "display_data"
    }
   ],
   "source": [
    "plt.close('all')\n",
    "fig, ((ax1, ax2), (ax3, ax4)) = plt.subplots(nrows=2, ncols=2,figsize=(12,10))\n",
    "plt.tight_layout(pad=5, w_pad=5, h_pad=5)\n",
    "\n",
    "ax1.scatter(liquor.bottles_sold,liquor.sale_dollars)\n",
    "ax1.set_xlabel('Bottles Sold')\n",
    "ax1.set_ylabel('Sale Amount $')\n",
    "ax1.set_title('Bottles Sold and Sale Amount')\n",
    "\n",
    "ax2.scatter(liquor.bottles_sold,liquor.state_bottle_retail)\n",
    "ax2.set_xlabel('Bottles Sold')\n",
    "ax2.set_ylabel('Price per Bottle')\n",
    "ax2.set_title('Price per Bottle vs # Bottles Sold')\n",
    "\n",
    "ax3.scatter(liquor.bottles_sold,liquor.volume_sold_liters)\n",
    "ax3.set_xlabel('Bottles Sold')\n",
    "ax3.set_ylabel('Volume Sold (L)')\n",
    "ax3.set_title('Bottles Sold and Volume Sold')\n",
    "\n",
    "ax4.scatter(liquor.volume_sold_liters,liquor.sale_dollars)\n",
    "ax4.set_xlabel('Volume Sold (L)')\n",
    "ax4.set_ylabel('Sale Amount $')\n",
    "ax4.set_title('Volume Sold and Sale Amount')"
   ]
  },
  {
   "cell_type": "code",
   "execution_count": null,
   "metadata": {
    "collapsed": false
   },
   "outputs": [],
   "source": [
    "g = sns.FacetGrid(liquor, col='sale_dollars')  \n",
    "g.map(sns.distplot, \"mpg\")  "
   ]
  },
  {
   "cell_type": "markdown",
   "metadata": {},
   "source": [
    "# Record your findings\n",
    "\n",
    "Be sure to write out any observations from your exploratory analysis.\n"
   ]
  },
  {
   "cell_type": "markdown",
   "metadata": {},
   "source": [
    "# Mine the data\n",
    "\n",
    "Now you are ready to compute the variables you will use for your regression from the data. For example, you may want to compute total sales per store from Jan to March of 2015, mean price per bottle, etc. Refer to the readme for more ideas appropriate to your scenario.\n",
    "\n",
    "Pandas is your friend for this task. Take a look at the operations here for ideas on how to make the best use of pandas and feel free to search for blog and Stack Overflow posts to help you group data by certain variables and compute sums, means, etc. You may find it useful to create a new data frame to house this summary data.\n",
    " \n"
   ]
  },
  {
   "cell_type": "code",
   "execution_count": null,
   "metadata": {
    "collapsed": false
   },
   "outputs": [],
   "source": [
    "by_store = liquor[['store_number',\n",
    "                   'quarter',\n",
    "                   'sale_dollars',\n",
    "                   'volume_sold_liters',\n",
    "                   'bottles_sold']].groupby(['store_number',\n",
    "                                             'quarter']).agg({'sale_dollars': [np.sum, np.mean],\n",
    "                                                            'volume_sold_liters': [np.sum, np.mean],\n",
    "                                                            'bottles_sold' : [np.sum, np.mean]\n",
    "                                                           \n",
    "                                                           })\n",
    "by_county = liquor[['county',\n",
    "                   'quarter',\n",
    "                   'sale_dollars',\n",
    "                   'volume_sold_liters',\n",
    "                   'bottles_sold']].groupby(['county',\n",
    "                                             'quarter']).agg({'sale_dollars': [np.sum, np.mean],\n",
    "                                                            'volume_sold_liters': [np.sum, np.mean],\n",
    "                                                            'bottles_sold' : [np.sum, np.mean]\n",
    "                                                           })\n",
    "\n",
    "by_city = liquor[['city',\n",
    "                   'quarter',\n",
    "                   'sale_dollars',\n",
    "                   'volume_sold_liters',\n",
    "                   'bottles_sold']].groupby(['city',\n",
    "                                             'quarter']).agg({'sale_dollars': [np.sum, np.mean],\n",
    "                                                            'volume_sold_liters': [np.sum, np.mean],\n",
    "                                                            'bottles_sold' : [np.sum, np.mean]\n",
    "                                                           })"
   ]
  },
  {
   "cell_type": "code",
   "execution_count": null,
   "metadata": {
    "collapsed": false
   },
   "outputs": [],
   "source": [
    "sns.pairplot(by_store)"
   ]
  },
  {
   "cell_type": "code",
   "execution_count": null,
   "metadata": {
    "collapsed": false
   },
   "outputs": [],
   "source": [
    "sns.pairplot(by_county)"
   ]
  },
  {
   "cell_type": "code",
   "execution_count": null,
   "metadata": {
    "collapsed": false
   },
   "outputs": [],
   "source": [
    "sns.pairplot(by_city)\n"
   ]
  },
  {
   "cell_type": "markdown",
   "metadata": {},
   "source": [
    "# Refine the data\n",
    "\n",
    "Look for any statistical relationships, correlations, or other relevant properties of the dataset."
   ]
  },
  {
   "cell_type": "code",
   "execution_count": null,
   "metadata": {
    "collapsed": false
   },
   "outputs": [],
   "source": [
    "liquor_by_store = liquor[['store_number',\n",
    "                          'sale_dollars',\n",
    "                          'bottles_sold', \n",
    "                          'state_bottle_retail']].groupby(liquor.store_number).agg({'sale_dollars' : np.sum,\n",
    "                                                                                    'bottles_sold' : np.sum,\n",
    "                                                                                    'state_bottle_retail' : np.sum})\n",
    "\n",
    "liquor_by_zip = liquor[['zip_code',\n",
    "                          'sale_dollars',\n",
    "                          'bottles_sold', \n",
    "                          'state_bottle_retail',\n",
    "                        'store_number']].groupby(liquor.zip_code).agg({'sale_dollars' : np.sum,\n",
    "                                                                                    'bottles_sold' : np.sum,\n",
    "                                                                                    'state_bottle_retail' : np.sum,\n",
    "                                                                                   'store_number' : lambda x: x.nunique()})\n",
    "liquor_by_city = liquor[['city',\n",
    "                          'sale_dollars',\n",
    "                          'bottles_sold', \n",
    "                          'state_bottle_retail',\n",
    "                        'store_number']].groupby(liquor.city).agg({'sale_dollars' : np.sum,\n",
    "                                                                                    'bottles_sold' : np.sum,\n",
    "                                                                                    'state_bottle_retail' : np.sum,\n",
    "                                                                           'store_number' : lambda x: x.nunique()})\n",
    "liquor_by_county = liquor[['county',\n",
    "                          'sale_dollars',\n",
    "                          'bottles_sold', \n",
    "                          'state_bottle_retail',\n",
    "                          'store_number']].groupby(liquor.county).agg({'sale_dollars' : np.sum,\n",
    "                                                                                    'bottles_sold' : np.sum,\n",
    "                                                                                    'state_bottle_retail' : np.sum,\n",
    "                                                                             'store_number' : lambda x: x.nunique()})\n",
    "\n",
    "\n",
    "liquor_by_store['avg_price_per_bottle'] = liquor_by_store.sale_dollars / liquor_by_store.bottles_sold\n",
    "liquor_by_zip['avg_price_per_bottle'] = liquor_by_zip.sale_dollars / liquor_by_zip.bottles_sold\n",
    "liquor_by_city['avg_price_per_bottle'] = liquor_by_city.sale_dollars / liquor_by_city.bottles_sold\n",
    "liquor_by_county['avg_price_per_bottle'] = liquor_by_county.sale_dollars / liquor_by_county.bottles_sold\n",
    "\n",
    "liquor_by_zip['avg_sales_store'] = liquor_by_zip.sale_dollars / (liquor_by_zip.bottles_sold)\n",
    "liquor_by_city['avg_sales_store'] = liquor_by_city.sale_dollars / (liquor_by_city.bottles_sold)\n",
    "liquor_by_county['avg_sales_store'] = liquor_by_county.sale_dollars / (liquor_by_county.bottles_sold)\n",
    "\n",
    "liquor_by_zip['avg_sales_store_plus1'] = liquor_by_zip.sale_dollars / (liquor_by_zip.bottles_sold + 1)\n",
    "liquor_by_city['avg_sales_store_plus1'] = liquor_by_city.sale_dollars / (liquor_by_city.bottles_sold + 1)\n",
    "liquor_by_county['avg_sales_store_plus1'] = liquor_by_county.sale_dollars / (liquor_by_county.bottles_sold + 1)\n",
    "\n",
    "liquor_by_zip['delta_sales'] = liquor_by_zip.avg_sales_store - liquor_by_zip.avg_sales_store_plus1\n",
    "liquor_by_city['delta_sales'] = liquor_by_city.avg_sales_store - liquor_by_city.avg_sales_store_plus1\n",
    "liquor_by_county['delta_sales'] = liquor_by_county.avg_sales_store - liquor_by_county.avg_sales_store_plus1"
   ]
  },
  {
   "cell_type": "code",
   "execution_count": null,
   "metadata": {
    "collapsed": false
   },
   "outputs": [],
   "source": [
    "sns.pairplot(liquor_by_store)"
   ]
  },
  {
   "cell_type": "code",
   "execution_count": null,
   "metadata": {
    "collapsed": false
   },
   "outputs": [],
   "source": [
    "sns.pairplot(liquor_by_zip)"
   ]
  },
  {
   "cell_type": "code",
   "execution_count": null,
   "metadata": {
    "collapsed": false
   },
   "outputs": [],
   "source": [
    "sns.pairplot(liquor_by_city)"
   ]
  },
  {
   "cell_type": "code",
   "execution_count": null,
   "metadata": {
    "collapsed": false
   },
   "outputs": [],
   "source": [
    "sns.pairplot(liquor_by_county)"
   ]
  },
  {
   "cell_type": "markdown",
   "metadata": {},
   "source": [
    "# Build your models\n",
    "\n",
    "Using scikit-learn or statsmodels, build the necessary models for your scenario. Evaluate model fit."
   ]
  },
  {
   "cell_type": "code",
   "execution_count": null,
   "metadata": {
    "collapsed": false
   },
   "outputs": [],
   "source": [
    "import statsmodels.formula.api as sm #import statsmodels"
   ]
  },
  {
   "cell_type": "code",
   "execution_count": null,
   "metadata": {
    "collapsed": false
   },
   "outputs": [],
   "source": [
    "\n",
    "X = liquor_desmoines[['bottles_sold','state_bottle_retail']]\n",
    "y = liquor_desmoines['sale_dollars']\n",
    "\n",
    "lm = linear_model.LassoCV(cv=5)\n",
    "model_desmoines = lm.fit(X,y)\n",
    "print model_desmoines.score(X,y)\n",
    "print model_desmoines.alpha_"
   ]
  },
  {
   "cell_type": "code",
   "execution_count": null,
   "metadata": {
    "collapsed": false,
    "scrolled": false
   },
   "outputs": [],
   "source": [
    "from sklearn import linear_model\n",
    "from sklearn.metrics import r2_score\n",
    "\n",
    "\n",
    "liquor_by_zip.sort_values('sale_dollars',ascending=False)\n",
    "liquor_50314 = liquor[['store_number',\n",
    "                           'bottles_sold', \n",
    "                           'state_bottle_retail', \n",
    "                           'sale_dollars']][liquor.zip_code=='50314'].groupby(liquor.store_number).agg({'bottles_sold': np.sum,\n",
    "                                                                                                         'state_bottle_retail' : np.sum, \n",
    "                                                                                                         'sale_dollars' : np.sum})\n",
    "X = liquor_50314[['bottles_sold','state_bottle_retail']]\n",
    "y = liquor_50314['sale_dollars']\n",
    "\n",
    "lm = linear_model.LassoCV(cv=5)\n",
    "model_50314 = lm.fit(X,y)\n",
    "print '50314 model score = ', model_50314.score(X,y)\n",
    "print '50314 alpha =', model_50314.alpha_\n",
    "print ''\n",
    "\n",
    "\n",
    "liquor_50320 = liquor[['store_number',\n",
    "                           'bottles_sold', \n",
    "                           'state_bottle_retail', \n",
    "                           'sale_dollars']][liquor.zip_code=='50320'].groupby(liquor.store_number).agg({'bottles_sold': np.sum,\n",
    "                                                                                                         'state_bottle_retail' : np.sum, \n",
    "                                                                                                         'sale_dollars' : np.sum})\n",
    "                                                                                                         \n",
    "X = liquor_50320[['bottles_sold','state_bottle_retail']]\n",
    "y = liquor_50320['sale_dollars']\n",
    "\n",
    "lm = linear_model.LassoCV(cv=5)\n",
    "model_50320 = lm.fit(X,y)\n",
    "print '50320 model score =', model_50320.score(X,y)\n",
    "print '50320 alpha =', model_50320.alpha_\n",
    "print ''\n",
    "\n",
    "\n",
    "liquor_desmoines = liquor[['store_number',\n",
    "                           'bottles_sold', \n",
    "                           'state_bottle_retail', \n",
    "                           'sale_dollars']][liquor.city=='DES MOINES'].groupby(liquor.store_number).agg({'bottles_sold': np.sum,\n",
    "                                                                                                         'state_bottle_retail' : np.sum, \n",
    "                                                                                                         'sale_dollars' : np.sum})\n",
    "X = liquor_desmoines[['bottles_sold','state_bottle_retail']]\n",
    "y = liquor_desmoines['sale_dollars']\n",
    "\n",
    "lm = linear_model.LassoCV(cv=5)\n",
    "model_desmoines = lm.fit(X,y)\n",
    "print 'Des Moines model score = ', model_desmoines.score(X,y)\n",
    "print 'Des Moines alpha = ', model_desmoines.alpha_"
   ]
  },
  {
   "cell_type": "code",
   "execution_count": null,
   "metadata": {
    "collapsed": false
   },
   "outputs": [],
   "source": [
    "X = liquor_by_store[['bottles_sold','state_bottle_retail']]\n",
    "y = liquor_by_store['sale_dollars']\n",
    "lm = linear_model.LassoCV(cv=5)\n",
    "model = lm.fit(X,y)\n",
    "print model.score(X,y)\n",
    "print model.alpha_\n",
    "print ''\n",
    "liquor_by_store['predictions'] = model.predict(X)\n",
    "print 'TOP PERFORMING STORES'\n",
    "liquor_by_store[['sale_dollars','predictions']].sort_values('predictions', ascending=False)[0:20]"
   ]
  },
  {
   "cell_type": "markdown",
   "metadata": {},
   "source": [
    "# Plot your results\n",
    "\n",
    "Again make sure that you record any valuable information. For example, in the tax scenario, did you find the sales from the first three months of the year to be a good predictor of the total sales for the year? Plot the predictions versus the true values and discuss the successes and limitations of your models"
   ]
  },
  {
   "cell_type": "code",
   "execution_count": null,
   "metadata": {
    "collapsed": false
   },
   "outputs": [],
   "source": [
    "predictions = model_desmoines.predict(X)\n",
    "\n",
    "plt.scatter(y, predictions)\n",
    "plt.ylabel(\"Predictions\")\n",
    "plt.xlabel(\"True Values\")\n",
    "plt.show()"
   ]
  },
  {
   "cell_type": "code",
   "execution_count": null,
   "metadata": {
    "collapsed": false
   },
   "outputs": [],
   "source": [
    "predictions = model_50314.predict(X)\n",
    "\n",
    "plt.scatter(y, predictions)\n",
    "plt.ylabel(\"Predictions\")\n",
    "plt.xlabel(\"True Values\")\n",
    "plt.show()\n",
    "\n",
    "\n",
    "predictions = model_50320.predict(X)\n",
    "\n",
    "plt.scatter(y, predictions)\n",
    "plt.ylabel(\"Predictions\")\n",
    "plt.xlabel(\"True Values\")\n",
    "plt.show()"
   ]
  },
  {
   "cell_type": "markdown",
   "metadata": {},
   "source": [
    "# Present the Results\n",
    "\n",
    "Present your conclusions and results. If you have more than one interesting model feel free to include more than one along with a discussion. Use your work in this notebook to prepare your write-up."
   ]
  },
  {
   "cell_type": "code",
   "execution_count": null,
   "metadata": {
    "collapsed": true
   },
   "outputs": [],
   "source": []
  }
 ],
 "metadata": {
  "anaconda-cloud": {},
  "kernelspec": {
   "display_name": "Python 2",
   "language": "python",
   "name": "python2"
  },
  "language_info": {
   "codemirror_mode": {
    "name": "ipython",
    "version": 2
   },
   "file_extension": ".py",
   "mimetype": "text/x-python",
   "name": "python",
   "nbconvert_exporter": "python",
   "pygments_lexer": "ipython2",
   "version": "2.7.13"
  }
 },
 "nbformat": 4,
 "nbformat_minor": 1
}
