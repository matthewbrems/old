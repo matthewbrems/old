{
 "cells": [
  {
   "cell_type": "markdown",
   "metadata": {},
   "source": [
    "\n",
    "# Getting started\n",
    "\n",
    "Once you've chosen your scenario, download the data from the Iowa website in csv format. Start by loading the data with pandas. You may need to parse the date columns appropriately."
   ]
  },
  {
   "cell_type": "code",
   "execution_count": 148,
   "metadata": {
    "collapsed": false
   },
   "outputs": [],
   "source": [
    "import pandas as pd\n",
    "\n",
    "import numpy as np\n",
    "## Load the data into a DataFrame\n",
    "liquor = pd.read_csv('../../../../Iowa_Liquor_sales_sample_10pct.csv')[['Store Number',\n",
    "               'Date',\n",
    "               'City',\n",
    "               'Zip Code',\n",
    "               'County Number',\n",
    "               'County',\n",
    "               'Bottle Volume (ml)', \n",
    "               'State Bottle Cost', \n",
    "               'State Bottle Retail', \n",
    "               'Bottles Sold', \n",
    "               'Sale (Dollars)', \n",
    "               'Volume Sold (Liters)', \n",
    "               'Volume Sold (Gallons)']]\n"
   ]
  },
  {
   "cell_type": "code",
   "execution_count": 149,
   "metadata": {
    "collapsed": false
   },
   "outputs": [],
   "source": [
    "## Make necessary column modifications\n",
    "\n",
    "## Transform the dates\n",
    "liquor[\"Date\"] = pd.to_datetime(liquor[\"Date\"], format=\"%m/%d/%Y\")\n",
    "liquor['Year'] = liquor['Date'].dt.year\n",
    "liquor['Month'] = liquor['Date'].dt.month\n",
    "\n",
    "## Reformat column names to replace spaces with underscores\n",
    "liquor.columns = [c.replace(' ', '_') for c in liquor.columns]\n",
    "liquor.columns = [c.replace(')', '') for c in liquor.columns]\n",
    "liquor.columns = [c.replace('(', '') for c in liquor.columns]\n",
    "\n",
    "## turn to lowercase because I hate initcap\n",
    "liquor.columns = [c.lower() for c in liquor.columns]"
   ]
  },
  {
   "cell_type": "code",
   "execution_count": 150,
   "metadata": {
    "collapsed": false
   },
   "outputs": [],
   "source": [
    "## capitalize city and county for consistency\n",
    "liquor.city = liquor.city.str.upper()\n",
    "liquor.county = liquor.county.str.upper()\n",
    "\n",
    "## remove dollar signs and convert to floats\n",
    "liquor['sale_dollars'] = liquor['sale_dollars'].str.replace('$','').astype(np.float64)\n",
    "liquor['state_bottle_retail'] = liquor['state_bottle_retail'].str.replace('$','').astype(np.float64)\n",
    "liquor['state_bottle_cost'] = liquor['state_bottle_cost'].str.replace('$','').astype(np.float64)"
   ]
  },
  {
   "cell_type": "code",
   "execution_count": 151,
   "metadata": {
    "collapsed": false
   },
   "outputs": [],
   "source": [
    "## check: missing values, dtypes, df shape, describe, unique values, duplicates\n",
    "\n",
    "def eda(dataframe):\n",
    "    \n",
    "    print \"missing values \\n\", dataframe.isnull().sum()## count number of null values per column\n",
    "    print ''\n",
    "    print \"dataframe types \\n\", dataframe.dtypes       ## list data type of each column\n",
    "    print ''\n",
    "    print \"dataframe shape \\n\", dataframe.shape        ## rows by columns\n",
    "    print ''\n",
    "    print \"dataframe describe \\n\", dataframe.describe()## stats -- mean, min, max, etc.. \n",
    "    print ''\n",
    "    for item in dataframe:                             ## count number of unique values per column\n",
    "        print item, '= ', dataframe[item].nunique()\n",
    "    print ''\n",
    "    print 'num duplicates:', dataframe.duplicated().sum()\n",
    "\n",
    "# eda(liquor)"
   ]
  },
  {
   "cell_type": "code",
   "execution_count": 152,
   "metadata": {
    "collapsed": false
   },
   "outputs": [
    {
     "name": "stdout",
     "output_type": "stream",
     "text": [
      "num duplicates: 0\n"
     ]
    }
   ],
   "source": [
    "## drop duplicate rows\n",
    "liquor.drop_duplicates(inplace=True)\n",
    "print 'num duplicates:', liquor.duplicated().sum()\n",
    "\n",
    "## look into missing county_numbers and counties\n",
    "county_lookup = liquor[['zip_code','county','county_number']][liquor.county.isnull()==False]\n",
    "county_lookup.drop_duplicates(inplace=True)"
   ]
  },
  {
   "cell_type": "code",
   "execution_count": 153,
   "metadata": {
    "collapsed": false
   },
   "outputs": [],
   "source": [
    "## grab a list of zip codes for iowa to help fill in missing county names\n",
    "iowa_zips = pd.read_csv('../../../../iowa_zips.csv')\n",
    "iowa_zips.columns = [c.replace(' ', '_') for c in iowa_zips.columns]"
   ]
  },
  {
   "cell_type": "code",
   "execution_count": 154,
   "metadata": {
    "collapsed": false
   },
   "outputs": [],
   "source": [
    "# set up connection to SQLalchemy\n",
    "from sqlalchemy import create_engine\n",
    "engine = create_engine('sqlite:///:memory:')\n",
    "conn = engine.connect()\n",
    "\n",
    "# push dfs into sql tables\n",
    "liquor.to_sql('liquor', engine)\n",
    "county_lookup.to_sql('county_lookup', engine)\n",
    "iowa_zips.to_sql('iowa_zips', engine)"
   ]
  },
  {
   "cell_type": "code",
   "execution_count": 155,
   "metadata": {
    "collapsed": false
   },
   "outputs": [],
   "source": [
    "# run updates to fill in county names\n",
    "conn.execute(\"update liquor set county = (select upper(county) from county_lookup where county_lookup.zip_code = liquor.zip_code) where county is null;\")\n",
    "conn.execute(\"update liquor set county = (select upper(County) from iowa_zips where iowa_zips.Zip_Code = liquor.zip_code) where county is null;\")\n",
    "# run updates to fill in county_numbers\n",
    "conn.execute(\"update liquor set county_number = (select county_number from county_lookup where county_lookup.zip_code = liquor.zip_code and county_lookup.county = liquor.county) where county_number is null;\")\n",
    "# conn.execute(\"update liquor set quarter = (case when year=2015 and month<=3 then '1Q15' when year=2015 and month<=6 then '2Q15' when year=2015 and month<=9 then '3Q15' when year=2015 and month<=12 then '4Q15' else '1Q16' end);\")\n",
    "# pull sql table into a pandas df\n",
    "liquor_sql = pd.read_sql_table('liquor',engine)\n",
    "# close sql connection\n",
    "conn.close()"
   ]
  },
  {
   "cell_type": "code",
   "execution_count": 156,
   "metadata": {
    "collapsed": false
   },
   "outputs": [
    {
     "name": "stdout",
     "output_type": "stream",
     "text": [
      "missing values \n",
      "index                   0\n",
      "store_number            0\n",
      "date                    0\n",
      "city                    0\n",
      "zip_code                0\n",
      "county_number          12\n",
      "county                  0\n",
      "bottle_volume_ml        0\n",
      "state_bottle_cost       0\n",
      "state_bottle_retail     0\n",
      "bottles_sold            0\n",
      "sale_dollars            0\n",
      "volume_sold_liters      0\n",
      "volume_sold_gallons     0\n",
      "year                    0\n",
      "month                   0\n",
      "dtype: int64\n",
      "\n",
      "dataframe types \n",
      "index                           int64\n",
      "store_number                    int64\n",
      "date                   datetime64[ns]\n",
      "city                           object\n",
      "zip_code                       object\n",
      "county_number                 float64\n",
      "county                         object\n",
      "bottle_volume_ml                int64\n",
      "state_bottle_cost             float64\n",
      "state_bottle_retail           float64\n",
      "bottles_sold                    int64\n",
      "sale_dollars                  float64\n",
      "volume_sold_liters            float64\n",
      "volume_sold_gallons           float64\n",
      "year                            int64\n",
      "month                           int64\n",
      "dtype: object\n",
      "\n",
      "dataframe shape \n",
      "(268501, 16)\n",
      "\n",
      "dataframe describe \n",
      "               index   store_number  county_number  bottle_volume_ml  \\\n",
      "count  268501.000000  268501.000000  268489.000000     268501.000000   \n",
      "mean   135079.162152    3592.682135      57.217782        925.663052   \n",
      "std     78216.826761     947.508435      27.359261        494.102242   \n",
      "min         0.000000    2106.000000       1.000000         50.000000   \n",
      "25%     67302.000000    2604.000000      31.000000        750.000000   \n",
      "50%    134886.000000    3723.000000      62.000000        750.000000   \n",
      "75%    202760.000000    4382.000000      77.000000       1000.000000   \n",
      "max    270954.000000    9023.000000      99.000000       6000.000000   \n",
      "\n",
      "       state_bottle_cost  state_bottle_retail   bottles_sold   sale_dollars  \\\n",
      "count      268501.000000        268501.000000  268501.000000  268501.000000   \n",
      "mean            9.787527            14.697124       9.886321     129.201241   \n",
      "std             7.069616            10.603915      24.128342     384.556052   \n",
      "min             0.890000             1.340000       1.000000       1.340000   \n",
      "25%             5.500000             8.250000       2.000000      30.480000   \n",
      "50%             8.000000            12.270000       6.000000      70.560000   \n",
      "75%            11.960000            17.940000      12.000000     135.000000   \n",
      "max           425.000000           637.500000    2508.000000   36392.400000   \n",
      "\n",
      "       volume_sold_liters  volume_sold_gallons           year          month  \n",
      "count       268501.000000        268501.000000  268501.000000  268501.000000  \n",
      "mean             9.002011             2.378283    2015.193351       5.820571  \n",
      "std             29.019580             7.666155       0.394927       3.621358  \n",
      "min              0.100000             0.030000    2015.000000       1.000000  \n",
      "25%              1.500000             0.400000    2015.000000       3.000000  \n",
      "50%              5.250000             1.390000    2015.000000       5.000000  \n",
      "75%             10.500000             2.770000    2015.000000       9.000000  \n",
      "max           2508.000000           662.540000    2016.000000      12.000000  \n",
      "\n",
      "index =  268501\n",
      "store_number =  1400\n",
      "date =  274\n",
      "city =  379\n",
      "zip_code =  415\n",
      "county_number =  99\n",
      "county =  99\n",
      "bottle_volume_ml =  29\n",
      "state_bottle_cost =  1086\n",
      "state_bottle_retail =  1112\n",
      "bottles_sold =  137\n",
      "sale_dollars =  6580\n",
      "volume_sold_liters =  265\n",
      "volume_sold_gallons =  261\n",
      "year =  2\n",
      "month =  12\n",
      "\n",
      "num duplicates: 0\n"
     ]
    }
   ],
   "source": [
    "# check missing values for counties\n",
    "eda(liquor_sql)\n",
    "\n",
    "liquor_sql['zip_code'][liquor_sql.county.isnull()==True]\n",
    "liquor = liquor_sql"
   ]
  },
  {
   "cell_type": "code",
   "execution_count": 15,
   "metadata": {
    "collapsed": true
   },
   "outputs": [],
   "source": [
    "## now that all counties are filled in, export data to be used for mapping in tableau\n",
    "liquor.to_csv('../../../../Iowa_Liquor_sales_sample_10pct_CLEAN.csv') \n",
    "\n",
    "\n",
    "## because i'm neurotic, found coordinates for counties that couldn't be mapped in tableau\n",
    "# https://dom.iowa.gov/document/iowa-county-codes-and-coordinates"
   ]
  },
  {
   "cell_type": "markdown",
   "metadata": {},
   "source": [
    "# Explore the data\n",
    "\n",
    "Perform some exploratory statistical analysis and make some plots, such as histograms of transaction totals, bottles sold, etc."
   ]
  },
  {
   "cell_type": "code",
   "execution_count": 16,
   "metadata": {
    "collapsed": false
   },
   "outputs": [],
   "source": [
    "import seaborn as sns\n",
    "import matplotlib.pyplot as plt\n",
    "%matplotlib inline"
   ]
  },
  {
   "cell_type": "code",
   "execution_count": null,
   "metadata": {
    "collapsed": false
   },
   "outputs": [],
   "source": [
    "plt.scatter(liquor.bottles_sold,liquor.sale_dollars)\n",
    "plt.xlabel('Bottles Sold')\n",
    "plt.ylabel('Sale Amount $')\n",
    "plt.title('Obvious Relationship between Bottles Sold and Sale Amount')\n",
    "plt.show()\n",
    "\n",
    "plt.scatter(liquor.volume_sold_liters,liquor.sale_dollars)\n",
    "plt.show()\n",
    "\n",
    "plt.scatter(liquor.bottles_sold,liquor.volume_sold_liters)\n",
    "plt.show()\n",
    "\n",
    "plt.scatter(liquor.bottles_sold,liquor.state_bottle_retail)\n",
    "plt.show()\n"
   ]
  },
  {
   "cell_type": "markdown",
   "metadata": {},
   "source": [
    "# Record your findings\n",
    "\n",
    "Be sure to write out any observations from your exploratory analysis.\n"
   ]
  },
  {
   "cell_type": "markdown",
   "metadata": {},
   "source": [
    "# Mine the data\n",
    "\n",
    "Now you are ready to compute the variables you will use for your regression from the data. For example, you may want to compute total sales per store from Jan to March of 2015, mean price per bottle, etc. Refer to the readme for more ideas appropriate to your scenario.\n",
    "\n",
    "Pandas is your friend for this task. Take a look at the operations here for ideas on how to make the best use of pandas and feel free to search for blog and Stack Overflow posts to help you group data by certain variables and compute sums, means, etc. You may find it useful to create a new data frame to house this summary data.\n",
    " \n"
   ]
  },
  {
   "cell_type": "code",
   "execution_count": null,
   "metadata": {
    "collapsed": false
   },
   "outputs": [],
   "source": [
    "by_store = liquor[['store_number',\n",
    "                   'quarter',\n",
    "                   'sale_dollars',\n",
    "                   'volume_sold_liters',\n",
    "                   'bottles_sold']].groupby(['store_number',\n",
    "                                             'quarter']).agg({'sale_dollars': [np.sum, np.mean],\n",
    "                                                            'volume_sold_liters': [np.sum, np.mean],\n",
    "                                                            'bottles_sold' : [np.sum, np.mean]\n",
    "                                                           \n",
    "                                                           })\n",
    "by_county = liquor[['county',\n",
    "                   'quarter',\n",
    "                   'sale_dollars',\n",
    "                   'volume_sold_liters',\n",
    "                   'bottles_sold']].groupby(['county',\n",
    "                                             'quarter']).agg({'sale_dollars': [np.sum, np.mean],\n",
    "                                                            'volume_sold_liters': [np.sum, np.mean],\n",
    "                                                            'bottles_sold' : [np.sum, np.mean]\n",
    "                                                           })\n",
    "\n",
    "by_city = liquor[['city',\n",
    "                   'quarter',\n",
    "                   'sale_dollars',\n",
    "                   'volume_sold_liters',\n",
    "                   'bottles_sold']].groupby(['city',\n",
    "                                             'quarter']).agg({'sale_dollars': [np.sum, np.mean],\n",
    "                                                            'volume_sold_liters': [np.sum, np.mean],\n",
    "                                                            'bottles_sold' : [np.sum, np.mean]\n",
    "                                                           })"
   ]
  },
  {
   "cell_type": "code",
   "execution_count": null,
   "metadata": {
    "collapsed": false
   },
   "outputs": [],
   "source": [
    "sns.pairplot(by_store)"
   ]
  },
  {
   "cell_type": "code",
   "execution_count": null,
   "metadata": {
    "collapsed": false
   },
   "outputs": [],
   "source": [
    "sns.pairplot(by_county)"
   ]
  },
  {
   "cell_type": "code",
   "execution_count": null,
   "metadata": {
    "collapsed": false
   },
   "outputs": [],
   "source": [
    "sns.pairplot(by_city)\n"
   ]
  },
  {
   "cell_type": "markdown",
   "metadata": {},
   "source": [
    "# Refine the data\n",
    "\n",
    "Look for any statistical relationships, correlations, or other relevant properties of the dataset."
   ]
  },
  {
   "cell_type": "code",
   "execution_count": 157,
   "metadata": {
    "collapsed": false
   },
   "outputs": [],
   "source": [
    "liquor_by_store = liquor[['store_number',\n",
    "                          'sale_dollars',\n",
    "                          'bottles_sold', \n",
    "                          'state_bottle_retail']].groupby(liquor.store_number).agg({'sale_dollars' : np.sum,\n",
    "                                                                                    'bottles_sold' : np.sum,\n",
    "                                                                                    'state_bottle_retail' : np.sum})\n",
    "\n",
    "liquor_by_zip = liquor[['zip_code',\n",
    "                          'sale_dollars',\n",
    "                          'bottles_sold', \n",
    "                          'state_bottle_retail',\n",
    "                        'store_number']].groupby(liquor.zip_code).agg({'sale_dollars' : np.sum,\n",
    "                                                                                    'bottles_sold' : np.sum,\n",
    "                                                                                    'state_bottle_retail' : np.sum,\n",
    "                                                                                   'store_number' : lambda x: x.nunique()})\n",
    "liquor_by_city = liquor[['city',\n",
    "                          'sale_dollars',\n",
    "                          'bottles_sold', \n",
    "                          'state_bottle_retail',\n",
    "                        'store_number']].groupby(liquor.city).agg({'sale_dollars' : np.sum,\n",
    "                                                                                    'bottles_sold' : np.sum,\n",
    "                                                                                    'state_bottle_retail' : np.sum,\n",
    "                                                                           'store_number' : lambda x: x.nunique()})\n",
    "liquor_by_county = liquor[['county',\n",
    "                          'sale_dollars',\n",
    "                          'bottles_sold', \n",
    "                          'state_bottle_retail',\n",
    "                          'store_number']].groupby(liquor.county).agg({'sale_dollars' : np.sum,\n",
    "                                                                                    'bottles_sold' : np.sum,\n",
    "                                                                                    'state_bottle_retail' : np.sum,\n",
    "                                                                             'store_number' : lambda x: x.nunique()})\n",
    "\n",
    "\n",
    "liquor_by_store['avg_price_per_bottle'] = liquor_by_store.sale_dollars / liquor_by_store.bottles_sold\n",
    "liquor_by_zip['avg_price_per_bottle'] = liquor_by_zip.sale_dollars / liquor_by_zip.bottles_sold\n",
    "liquor_by_city['avg_price_per_bottle'] = liquor_by_city.sale_dollars / liquor_by_city.bottles_sold\n",
    "liquor_by_county['avg_price_per_bottle'] = liquor_by_county.sale_dollars / liquor_by_county.bottles_sold\n",
    "\n",
    "liquor_by_zip['avg_sales_store'] = liquor_by_zip.sale_dollars / (liquor_by_zip.bottles_sold)\n",
    "liquor_by_city['avg_sales_store'] = liquor_by_city.sale_dollars / (liquor_by_city.bottles_sold)\n",
    "liquor_by_county['avg_sales_store'] = liquor_by_county.sale_dollars / (liquor_by_county.bottles_sold)\n",
    "\n",
    "liquor_by_zip['avg_sales_store_plus1'] = liquor_by_zip.sale_dollars / (liquor_by_zip.bottles_sold + 1)\n",
    "liquor_by_city['avg_sales_store_plus1'] = liquor_by_city.sale_dollars / (liquor_by_city.bottles_sold + 1)\n",
    "liquor_by_county['avg_sales_store_plus1'] = liquor_by_county.sale_dollars / (liquor_by_county.bottles_sold + 1)\n",
    "\n",
    "liquor_by_zip['delta_sales'] = liquor_by_zip.avg_sales_store - liquor_by_zip.avg_sales_store_plus1\n",
    "liquor_by_city['delta_sales'] = liquor_by_city.avg_sales_store - liquor_by_city.avg_sales_store_plus1\n",
    "liquor_by_county['delta_sales'] = liquor_by_county.avg_sales_store - liquor_by_county.avg_sales_store_plus1"
   ]
  },
  {
   "cell_type": "code",
   "execution_count": null,
   "metadata": {
    "collapsed": false
   },
   "outputs": [],
   "source": [
    "sns.pairplot(liquor_by_store)"
   ]
  },
  {
   "cell_type": "code",
   "execution_count": null,
   "metadata": {
    "collapsed": false
   },
   "outputs": [],
   "source": [
    "sns.pairplot(liquor_by_zip)"
   ]
  },
  {
   "cell_type": "code",
   "execution_count": null,
   "metadata": {
    "collapsed": false
   },
   "outputs": [],
   "source": [
    "sns.pairplot(liquor_by_city)"
   ]
  },
  {
   "cell_type": "code",
   "execution_count": null,
   "metadata": {
    "collapsed": false
   },
   "outputs": [],
   "source": [
    "sns.pairplot(liquor_by_county)"
   ]
  },
  {
   "cell_type": "markdown",
   "metadata": {},
   "source": [
    "# Build your models\n",
    "\n",
    "Using scikit-learn or statsmodels, build the necessary models for your scenario. Evaluate model fit."
   ]
  },
  {
   "cell_type": "code",
   "execution_count": 158,
   "metadata": {
    "collapsed": false
   },
   "outputs": [],
   "source": [
    "import statsmodels.formula.api as sm #import statsmodels"
   ]
  },
  {
   "cell_type": "code",
   "execution_count": 171,
   "metadata": {
    "collapsed": false
   },
   "outputs": [
    {
     "name": "stdout",
     "output_type": "stream",
     "text": [
      "0.976802090947\n",
      "6624280.86363\n",
      "\n",
      "TOP PERFORMING ZIPS\n",
      "          sale_dollars   predictions\n",
      "zip_code                            \n",
      "52402       1165695.97  1.209641e+06\n",
      "50314       1324093.97  1.195702e+06\n",
      "50320       1300314.63  1.122658e+06\n",
      "52240       1070622.10  1.083018e+06\n",
      "50010        918442.81  8.623744e+05\n",
      "50703        478579.66  7.194809e+05\n",
      "51501        709536.16  7.192885e+05\n",
      "52807        729188.53  6.672085e+05\n",
      "52001        651073.54  6.556334e+05\n",
      "50311        689133.59  6.344812e+05\n",
      "50613        621044.59  6.284729e+05\n",
      "52722        670732.17  5.912843e+05\n",
      "50317        433166.44  5.757151e+05\n",
      "52404        466243.97  5.557931e+05\n",
      "52804        456405.03  5.513286e+05\n",
      "50702        474447.31  5.295751e+05\n",
      "50401        476788.77  5.266456e+05\n",
      "52241        625688.39  5.158448e+05\n",
      "50266        674419.59  5.040662e+05\n",
      "50265        503406.93  4.881370e+05\n",
      "0.994565384735\n",
      "9380074.72554\n",
      "\n",
      "TOP PERFORMING CITIES\n",
      "                 sale_dollars   predictions\n",
      "city                                       \n",
      "DES MOINES         4377316.41  4.245844e+06\n",
      "CEDAR RAPIDS       2497591.71  2.580457e+06\n",
      "DAVENPORT          1704234.58  1.892818e+06\n",
      "WATERLOO           1208525.19  1.420868e+06\n",
      "IOWA CITY          1239279.40  1.204817e+06\n",
      "SIOUX CITY         1213348.97  1.193898e+06\n",
      "COUNCIL BLUFFS     1184648.83  1.135150e+06\n",
      "WEST DES MOINES    1173899.95  1.000577e+06\n",
      "DUBUQUE             987127.41  9.741925e+05\n",
      "AMES                966278.02  9.553641e+05\n",
      "CEDAR FALLS         641979.93  6.870794e+05\n",
      "ANKENY              712489.46  6.548130e+05\n",
      "BETTENDORF          670732.17  5.871659e+05\n",
      "MASON CITY          476788.77  5.352608e+05\n",
      "CORALVILLE          625688.39  5.163962e+05\n",
      "WINDSOR HEIGHTS     602181.37  4.857703e+05\n",
      "FORT DODGE          464710.49  4.555968e+05\n",
      "BURLINGTON          364093.18  4.097681e+05\n",
      "CLINTON             352228.95  3.881691e+05\n",
      "MUSCATINE           324186.36  3.656900e+05\n"
     ]
    }
   ],
   "source": [
    "X = liquor_by_zip[['bottles_sold','state_bottle_retail']]\n",
    "y = liquor_by_zip['sale_dollars']\n",
    "lm = linear_model.LassoCV(cv=5)\n",
    "model_zip = lm.fit(X,y)\n",
    "print model_zip.score(X,y)\n",
    "print model_zip.alpha_\n",
    "print ''\n",
    "liquor_by_zip['predictions'] = model_zip.predict(X)\n",
    "print 'TOP PERFORMING ZIPS'\n",
    "print liquor_by_zip[['sale_dollars','predictions']].sort_values('predictions', ascending=False)[0:20]\n",
    "\n",
    "X = liquor_by_city[['bottles_sold','state_bottle_retail']]\n",
    "y = liquor_by_city['sale_dollars']\n",
    "lm = linear_model.LassoCV(cv=5)\n",
    "model_by_city = lm.fit(X,y)\n",
    "print model_by_city.score(X,y)\n",
    "print model_by_city.alpha_\n",
    "print ''\n",
    "liquor_by_city['predictions'] = model_by_city.predict(X)\n",
    "print 'TOP PERFORMING CITIES'\n",
    "print liquor_by_city[['sale_dollars','predictions']].sort_values('predictions', ascending=False)[0:20]"
   ]
  },
  {
   "cell_type": "code",
   "execution_count": 159,
   "metadata": {
    "collapsed": false,
    "scrolled": false
   },
   "outputs": [
    {
     "name": "stdout",
     "output_type": "stream",
     "text": [
      "50314 model score =  0.997541780132\n",
      "50314 alpha = 8806848.65873\n",
      "\n",
      "50320 model score = 0.999829349195\n",
      "50320 alpha = 8958992.11062\n",
      "\n",
      "Des Moines model score =  0.988847534719\n",
      "Des Moines alpha =  16481703.8283\n"
     ]
    }
   ],
   "source": [
    "from sklearn import linear_model\n",
    "from sklearn.metrics import r2_score\n",
    "\n",
    "\n",
    "liquor_by_zip.sort_values('sale_dollars',ascending=False)\n",
    "\n",
    "liquor_50314 = liquor[['store_number',\n",
    "                           'bottles_sold', \n",
    "                           'state_bottle_retail', \n",
    "                           'sale_dollars']][liquor.zip_code=='50314'].groupby(liquor.store_number).agg({'bottles_sold': np.sum,\n",
    "                                                                                                         'state_bottle_retail' : np.sum, \n",
    "                                                                                                         'sale_dollars' : np.sum})\n",
    "X = liquor_50314[['bottles_sold','state_bottle_retail']]\n",
    "y = liquor_50314['sale_dollars']\n",
    "\n",
    "lm = linear_model.LassoCV(cv=5)\n",
    "model_50314 = lm.fit(X,y)\n",
    "print '50314 model score = ', model_50314.score(X,y)\n",
    "print '50314 alpha =', model_50314.alpha_\n",
    "print ''\n",
    "\n",
    "\n",
    "liquor_50320 = liquor[['store_number',\n",
    "                           'bottles_sold', \n",
    "                           'state_bottle_retail', \n",
    "                           'sale_dollars']][liquor.zip_code=='50320'].groupby(liquor.store_number).agg({'bottles_sold': np.sum,\n",
    "                                                                                                         'state_bottle_retail' : np.sum, \n",
    "                                                                                                         'sale_dollars' : np.sum})\n",
    "                                                                                                         \n",
    "X = liquor_50320[['bottles_sold','state_bottle_retail']]\n",
    "y = liquor_50320['sale_dollars']\n",
    "\n",
    "lm = linear_model.LassoCV(cv=5)\n",
    "model_50320 = lm.fit(X,y)\n",
    "print '50320 model score =', model_50320.score(X,y)\n",
    "print '50320 alpha =', model_50320.alpha_\n",
    "print ''\n",
    "\n",
    "liquor_desmoines = liquor[['store_number',\n",
    "                           'bottles_sold', \n",
    "                           'state_bottle_retail', \n",
    "                           'sale_dollars']][liquor.city=='DES MOINES'].groupby(liquor.store_number).agg({'bottles_sold': np.sum,\n",
    "                                                                                                         'state_bottle_retail' : np.sum, \n",
    "                                                                                                         'sale_dollars' : np.sum})\n",
    "X = liquor_desmoines[['bottles_sold','state_bottle_retail']]\n",
    "y = liquor_desmoines['sale_dollars']\n",
    "\n",
    "lm = linear_model.LassoCV(cv=5)\n",
    "model_desmoines = lm.fit(X,y)\n",
    "print 'Des Moines model score = ', model_desmoines.score(X,y)\n",
    "print 'Des Moines alpha = ', model_desmoines.alpha_"
   ]
  },
  {
   "cell_type": "code",
   "execution_count": 172,
   "metadata": {
    "collapsed": false
   },
   "outputs": [
    {
     "name": "stdout",
     "output_type": "stream",
     "text": [
      "0.974580804552\n",
      "1344978.94051\n",
      "\n",
      "TOP PERFORMING STORES\n"
     ]
    },
    {
     "data": {
      "text/html": [
       "<div>\n",
       "<table border=\"1\" class=\"dataframe\">\n",
       "  <thead>\n",
       "    <tr style=\"text-align: right;\">\n",
       "      <th></th>\n",
       "      <th>sale_dollars</th>\n",
       "      <th>predictions</th>\n",
       "    </tr>\n",
       "    <tr>\n",
       "      <th>store_number</th>\n",
       "      <th></th>\n",
       "      <th></th>\n",
       "    </tr>\n",
       "  </thead>\n",
       "  <tbody>\n",
       "    <tr>\n",
       "      <th>2633</th>\n",
       "      <td>1214597.96</td>\n",
       "      <td>1.176886e+06</td>\n",
       "    </tr>\n",
       "    <tr>\n",
       "      <th>4829</th>\n",
       "      <td>1078334.81</td>\n",
       "      <td>1.001242e+06</td>\n",
       "    </tr>\n",
       "    <tr>\n",
       "      <th>2512</th>\n",
       "      <td>527274.22</td>\n",
       "      <td>5.406449e+05</td>\n",
       "    </tr>\n",
       "    <tr>\n",
       "      <th>3385</th>\n",
       "      <td>506589.09</td>\n",
       "      <td>4.880430e+05</td>\n",
       "    </tr>\n",
       "    <tr>\n",
       "      <th>3420</th>\n",
       "      <td>402576.06</td>\n",
       "      <td>3.646401e+05</td>\n",
       "    </tr>\n",
       "    <tr>\n",
       "      <th>3952</th>\n",
       "      <td>390158.35</td>\n",
       "      <td>3.438443e+05</td>\n",
       "    </tr>\n",
       "    <tr>\n",
       "      <th>2670</th>\n",
       "      <td>279503.44</td>\n",
       "      <td>2.806037e+05</td>\n",
       "    </tr>\n",
       "    <tr>\n",
       "      <th>3354</th>\n",
       "      <td>295494.30</td>\n",
       "      <td>2.739709e+05</td>\n",
       "    </tr>\n",
       "    <tr>\n",
       "      <th>3773</th>\n",
       "      <td>297819.72</td>\n",
       "      <td>2.538914e+05</td>\n",
       "    </tr>\n",
       "    <tr>\n",
       "      <th>5102</th>\n",
       "      <td>236202.68</td>\n",
       "      <td>2.466532e+05</td>\n",
       "    </tr>\n",
       "    <tr>\n",
       "      <th>3447</th>\n",
       "      <td>263072.92</td>\n",
       "      <td>2.283965e+05</td>\n",
       "    </tr>\n",
       "    <tr>\n",
       "      <th>2625</th>\n",
       "      <td>221063.56</td>\n",
       "      <td>2.269338e+05</td>\n",
       "    </tr>\n",
       "    <tr>\n",
       "      <th>4167</th>\n",
       "      <td>215875.80</td>\n",
       "      <td>2.162232e+05</td>\n",
       "    </tr>\n",
       "    <tr>\n",
       "      <th>3820</th>\n",
       "      <td>213165.04</td>\n",
       "      <td>2.131010e+05</td>\n",
       "    </tr>\n",
       "    <tr>\n",
       "      <th>2616</th>\n",
       "      <td>188398.81</td>\n",
       "      <td>2.107727e+05</td>\n",
       "    </tr>\n",
       "    <tr>\n",
       "      <th>2629</th>\n",
       "      <td>215990.03</td>\n",
       "      <td>2.065478e+05</td>\n",
       "    </tr>\n",
       "    <tr>\n",
       "      <th>2593</th>\n",
       "      <td>212170.69</td>\n",
       "      <td>2.044513e+05</td>\n",
       "    </tr>\n",
       "    <tr>\n",
       "      <th>3814</th>\n",
       "      <td>310536.40</td>\n",
       "      <td>2.035271e+05</td>\n",
       "    </tr>\n",
       "    <tr>\n",
       "      <th>2190</th>\n",
       "      <td>155539.12</td>\n",
       "      <td>2.033307e+05</td>\n",
       "    </tr>\n",
       "    <tr>\n",
       "      <th>2501</th>\n",
       "      <td>169570.61</td>\n",
       "      <td>1.918297e+05</td>\n",
       "    </tr>\n",
       "  </tbody>\n",
       "</table>\n",
       "</div>"
      ],
      "text/plain": [
       "              sale_dollars   predictions\n",
       "store_number                            \n",
       "2633            1214597.96  1.176886e+06\n",
       "4829            1078334.81  1.001242e+06\n",
       "2512             527274.22  5.406449e+05\n",
       "3385             506589.09  4.880430e+05\n",
       "3420             402576.06  3.646401e+05\n",
       "3952             390158.35  3.438443e+05\n",
       "2670             279503.44  2.806037e+05\n",
       "3354             295494.30  2.739709e+05\n",
       "3773             297819.72  2.538914e+05\n",
       "5102             236202.68  2.466532e+05\n",
       "3447             263072.92  2.283965e+05\n",
       "2625             221063.56  2.269338e+05\n",
       "4167             215875.80  2.162232e+05\n",
       "3820             213165.04  2.131010e+05\n",
       "2616             188398.81  2.107727e+05\n",
       "2629             215990.03  2.065478e+05\n",
       "2593             212170.69  2.044513e+05\n",
       "3814             310536.40  2.035271e+05\n",
       "2190             155539.12  2.033307e+05\n",
       "2501             169570.61  1.918297e+05"
      ]
     },
     "execution_count": 172,
     "metadata": {},
     "output_type": "execute_result"
    }
   ],
   "source": [
    "X = liquor_by_store[['bottles_sold','state_bottle_retail']]\n",
    "y = liquor_by_store['sale_dollars']\n",
    "lm = linear_model.LassoCV(cv=5)\n",
    "model_by_store = lm.fit(X,y)\n",
    "print model_by_store.score(X,y)\n",
    "print model_by_store.alpha_\n",
    "print ''\n",
    "liquor_by_store['predictions'] = model_by_store.predict(X)\n",
    "print 'TOP PERFORMING STORES'\n",
    "liquor_by_store[['sale_dollars','predictions']].sort_values('predictions', ascending=False)[0:20]"
   ]
  },
  {
   "cell_type": "markdown",
   "metadata": {},
   "source": [
    "# Plot your results\n",
    "\n",
    "Again make sure that you record any valuable information. For example, in the tax scenario, did you find the sales from the first three months of the year to be a good predictor of the total sales for the year? Plot the predictions versus the true values and discuss the successes and limitations of your models"
   ]
  },
  {
   "cell_type": "code",
   "execution_count": 124,
   "metadata": {
    "collapsed": false
   },
   "outputs": [
    {
     "data": {
      "image/png": "[encoded data removed]",
      "text/plain": [
       "<matplotlib.figure.Figure at 0x115b56d10>"
      ]
     },
     "metadata": {},
     "output_type": "display_data"
    }
   ],
   "source": [
    "predictions = model_desmoines.predict(X)\n",
    "\n",
    "plt.scatter(y, predictions)\n",
    "plt.ylabel(\"Predictions\")\n",
    "plt.xlabel(\"True Values\")\n",
    "plt.show()"
   ]
  },
  {
   "cell_type": "code",
   "execution_count": 125,
   "metadata": {
    "collapsed": false
   },
   "outputs": [
    {
     "data": {
      "image/png": "[encoded data removed]",
      "text/plain": [
       "<matplotlib.figure.Figure at 0x114919590>"
      ]
     },
     "metadata": {},
     "output_type": "display_data"
    },
    {
     "data": {
      "image/png": "[encoded data removed]",
      "text/plain": [
       "<matplotlib.figure.Figure at 0x112d5f0d0>"
      ]
     },
     "metadata": {},
     "output_type": "display_data"
    }
   ],
   "source": [
    "predictions = model_50314.predict(X)\n",
    "\n",
    "plt.scatter(y, predictions)\n",
    "plt.ylabel(\"Predictions\")\n",
    "plt.xlabel(\"True Values\")\n",
    "plt.show()\n",
    "\n",
    "\n",
    "predictions = model_50320.predict(X)\n",
    "\n",
    "plt.scatter(y, predictions)\n",
    "plt.ylabel(\"Predictions\")\n",
    "plt.xlabel(\"True Values\")\n",
    "plt.show()"
   ]
  },
  {
   "cell_type": "markdown",
   "metadata": {},
   "source": [
    "# Present the Results\n",
    "\n",
    "Present your conclusions and results. If you have more than one interesting model feel free to include more than one along with a discussion. Use your work in this notebook to prepare your write-up."
   ]
  },
  {
   "cell_type": "code",
   "execution_count": 140,
   "metadata": {
    "collapsed": false
   },
   "outputs": [],
   "source": [
    "liquor_full = pd.read_csv('../../../../Iowa_Liquor_Sales_reduced.csv', dtype=str)[['Store Number',\n",
    "               'City',\n",
    "               'Zip Code',\n",
    "               'County',\n",
    "               'State Bottle Retail', \n",
    "               'Bottles Sold', \n",
    "               'Sale (Dollars)']]\n"
   ]
  },
  {
   "cell_type": "code",
   "execution_count": 164,
   "metadata": {
    "collapsed": false
   },
   "outputs": [],
   "source": [
    "\n",
    "## Reformat column names to replace spaces with underscores\n",
    "liquor_full.columns = [c.replace(' ', '_') for c in liquor_full.columns]\n",
    "liquor_full.columns = [c.replace(')', '') for c in liquor_full.columns]\n",
    "liquor_full.columns = [c.replace('(', '') for c in liquor_full.columns]\n",
    "\n",
    "## turn to lowercase because I hate initcap\n",
    "liquor_full.columns = [c.lower() for c in liquor_full.columns]\n",
    "\n",
    "\n",
    "## capitalize city and county for consistency\n",
    "liquor_full.city = liquor_full.city.str.upper()\n",
    "liquor_full.county = liquor_full.county.str.upper()\n",
    "\n",
    "## remove dollar signs and convert to floats\n",
    "liquor_full['sale_dollars'] = liquor_full['sale_dollars'].str.replace('$','').astype(np.float64)\n",
    "liquor_full['state_bottle_retail'] = liquor_full['state_bottle_retail'].str.replace('$','').astype(np.float64)\n",
    "liquor_full['bottles_sold'] = liquor_full['bottles_sold'].astype(np.float64)\n",
    "\n",
    "# liquor_full.drop_duplicates(inplace=True)\n",
    "print 'num duplicates:', liquor_full.duplicated().sum()\n",
    "\n",
    "# ## look into missing county_numbers and counties\n",
    "county_lookup = liquor_full[['zip_code','county']][liquor_full.county.isnull()==False]\n",
    "county_lookup.drop_duplicates(inplace=True)\n"
   ]
  },
  {
   "cell_type": "code",
   "execution_count": 143,
   "metadata": {
    "collapsed": false
   },
   "outputs": [
    {
     "name": "stdout",
     "output_type": "stream",
     "text": [
      "missing values \n",
      "index                  0\n",
      "store_number           0\n",
      "city                   0\n",
      "zip_code               0\n",
      "county                 0\n",
      "state_bottle_retail    0\n",
      "bottles_sold           0\n",
      "sale_dollars           0\n",
      "dtype: int64\n",
      "\n",
      "dataframe types \n",
      "index                    int64\n",
      "store_number            object\n",
      "city                    object\n",
      "zip_code                object\n",
      "county                  object\n",
      "state_bottle_retail    float64\n",
      "bottles_sold            object\n",
      "sale_dollars           float64\n",
      "dtype: object\n",
      "\n",
      "dataframe shape \n",
      "(2709552, 8)\n",
      "\n",
      "dataframe describe \n",
      "              index  state_bottle_retail  sale_dollars\n",
      "count  2.709552e+06         2.709552e+06  2.709552e+06\n",
      "mean   1.354776e+06         1.474012e+01  1.291191e+02\n",
      "std    7.821804e+05         2.235953e+01  3.994615e+02\n",
      "min    0.000000e+00         1.340000e+00  1.340000e+00\n",
      "25%    6.773878e+05         8.270000e+00  3.048000e+01\n",
      "50%    1.354776e+06         1.230000e+01  7.056000e+01\n",
      "75%    2.032163e+06         1.794000e+01  1.350000e+02\n",
      "max    2.709551e+06         9.702000e+03  1.063260e+05\n",
      "\n",
      "index =  2709552\n",
      "store_number =  1403\n",
      "city =  379\n",
      "zip_code =  415\n",
      "county =  99\n",
      "state_bottle_retail =  1525\n",
      "bottles_sold =  275\n",
      "sale_dollars =  11456\n",
      "\n",
      "num duplicates: 0\n"
     ]
    }
   ],
   "source": [
    "\n",
    "# set up connection to SQLalchemy\n",
    "from sqlalchemy import create_engine\n",
    "engine = create_engine('sqlite:///:memory:')\n",
    "conn = engine.connect()\n",
    "\n",
    "# push dfs into sql tables\n",
    "liquor_full.to_sql('liquor_full', engine)\n",
    "county_lookup.to_sql('county_lookup', engine)\n",
    "iowa_zips.to_sql('iowa_zips', engine)\n",
    "\n",
    "\n",
    "# run updates to fill in county names\n",
    "conn.execute(\"update liquor_full set county = (select upper(county) from county_lookup where county_lookup.zip_code = liquor_full.zip_code) where county is null;\")\n",
    "conn.execute(\"update liquor_full set county = (select upper(County) from iowa_zips where iowa_zips.Zip_Code = liquor_full.zip_code) where county is null;\")\n",
    "# run updates to fill in county_numbers\n",
    "# conn.execute(\"update liquor_full set county_number = (select county_number from county_lookup where county_lookup.zip_code = liquor_full.zip_code and county_lookup.county = liquor_full.county) where county_number is null;\")\n",
    "liquor_full_sql = pd.read_sql_table('liquor_full',engine)\n",
    "# close sql connection\n",
    "conn.close()\n",
    "\n",
    "eda(liquor_full_sql)\n",
    "\n",
    "liquor_full_sql['zip_code'][liquor_full_sql.county.isnull()==True]\n",
    "liquor_full = liquor_full_sql\n",
    "\n"
   ]
  },
  {
   "cell_type": "code",
   "execution_count": 165,
   "metadata": {
    "collapsed": false
   },
   "outputs": [],
   "source": [
    "\n",
    "liquor_full_desmoines = liquor_full[['store_number',\n",
    "                           'bottles_sold', \n",
    "                           'state_bottle_retail', \n",
    "                           'sale_dollars']][liquor_full.city=='DES MOINES'].groupby(liquor_full.store_number).agg({'bottles_sold': np.sum,\n",
    "                                                                                                         'state_bottle_retail' : np.sum, \n",
    "                                                                                             'state_bottle_retail' : np.sum, \n",
    "                                                                                                         'sale_dollars' : np.sum})\n",
    "X_full_desmoines = liquor_full_desmoines[['bottles_sold','state_bottle_retail']]\n",
    "y_full_desmoines = liquor_full_desmoines['sale_dollars']\n",
    "\n",
    "\n",
    "\n",
    "liquor_full_50314 = liquor_full[['store_number',\n",
    "                           'bottles_sold', \n",
    "                           'state_bottle_retail', \n",
    "                           'sale_dollars']][liquor_full.zip_code=='50314'].groupby(liquor_full.store_number).agg({'bottles_sold': np.sum,\n",
    "                                                                                                         'state_bottle_retail' : np.sum, \n",
    "                                                                                                         'sale_dollars' : np.sum})\n",
    "X_full_50314 = liquor_full_50314[['bottles_sold','state_bottle_retail']]\n",
    "y_full_50314 = liquor_full_50314['sale_dollars']\n",
    "\n",
    "liquor_full_50320 = liquor_full[['store_number',\n",
    "                           'bottles_sold', \n",
    "                           'state_bottle_retail', \n",
    "                           'sale_dollars']][liquor_full.zip_code=='50320'].groupby(liquor_full.store_number).agg({'bottles_sold': np.sum,\n",
    "                                                                                                         'state_bottle_retail' : np.sum, \n",
    "                                                                                                         'sale_dollars' : np.sum})\n",
    "X_full_50320 = liquor_full_50320[['bottles_sold','state_bottle_retail']]\n",
    "y_full_50320 = liquor_full_50320['sale_dollars']"
   ]
  },
  {
   "cell_type": "code",
   "execution_count": 166,
   "metadata": {
    "collapsed": false
   },
   "outputs": [
    {
     "name": "stdout",
     "output_type": "stream",
     "text": [
      "0.981662131529\n",
      "0.995911502401\n",
      "0.998313050465\n"
     ]
    }
   ],
   "source": [
    "# run full data set for Des Moines and the two zipcodes on the models built on the reduced 10% data\n",
    "print model_desmoines.score(X_full_desmoines,y_full_desmoines)\n",
    "print model_50314.score(X_full_50314,y_full_50314)\n",
    "print model_50320.score(X_full_50320,y_full_50320)"
   ]
  },
  {
   "cell_type": "code",
   "execution_count": 173,
   "metadata": {
    "collapsed": false
   },
   "outputs": [
    {
     "name": "stdout",
     "output_type": "stream",
     "text": [
      "0.969850768125\n",
      "1344978.94051\n",
      "\n",
      "TOP PERFORMING STORES\n"
     ]
    },
    {
     "data": {
      "text/html": [
       "<div>\n",
       "<table border=\"1\" class=\"dataframe\">\n",
       "  <thead>\n",
       "    <tr style=\"text-align: right;\">\n",
       "      <th></th>\n",
       "      <th>sale_dollars</th>\n",
       "      <th>predictions</th>\n",
       "    </tr>\n",
       "    <tr>\n",
       "      <th>store_number</th>\n",
       "      <th></th>\n",
       "      <th></th>\n",
       "    </tr>\n",
       "  </thead>\n",
       "  <tbody>\n",
       "    <tr>\n",
       "      <th>2633</th>\n",
       "      <td>1.228265e+07</td>\n",
       "      <td>1.151508e+07</td>\n",
       "    </tr>\n",
       "    <tr>\n",
       "      <th>4829</th>\n",
       "      <td>1.108553e+07</td>\n",
       "      <td>1.015707e+07</td>\n",
       "    </tr>\n",
       "    <tr>\n",
       "      <th>2512</th>\n",
       "      <td>5.206377e+06</td>\n",
       "      <td>5.504713e+06</td>\n",
       "    </tr>\n",
       "    <tr>\n",
       "      <th>3385</th>\n",
       "      <td>4.759188e+06</td>\n",
       "      <td>4.592834e+06</td>\n",
       "    </tr>\n",
       "    <tr>\n",
       "      <th>3420</th>\n",
       "      <td>4.018415e+06</td>\n",
       "      <td>3.510523e+06</td>\n",
       "    </tr>\n",
       "    <tr>\n",
       "      <th>3952</th>\n",
       "      <td>3.768333e+06</td>\n",
       "      <td>3.387537e+06</td>\n",
       "    </tr>\n",
       "    <tr>\n",
       "      <th>2670</th>\n",
       "      <td>3.015680e+06</td>\n",
       "      <td>3.012344e+06</td>\n",
       "    </tr>\n",
       "    <tr>\n",
       "      <th>5102</th>\n",
       "      <td>2.557579e+06</td>\n",
       "      <td>2.796838e+06</td>\n",
       "    </tr>\n",
       "    <tr>\n",
       "      <th>3354</th>\n",
       "      <td>2.920467e+06</td>\n",
       "      <td>2.663687e+06</td>\n",
       "    </tr>\n",
       "    <tr>\n",
       "      <th>3773</th>\n",
       "      <td>2.948596e+06</td>\n",
       "      <td>2.586343e+06</td>\n",
       "    </tr>\n",
       "    <tr>\n",
       "      <th>4167</th>\n",
       "      <td>2.346191e+06</td>\n",
       "      <td>2.460655e+06</td>\n",
       "    </tr>\n",
       "    <tr>\n",
       "      <th>2625</th>\n",
       "      <td>2.399216e+06</td>\n",
       "      <td>2.417114e+06</td>\n",
       "    </tr>\n",
       "    <tr>\n",
       "      <th>2627</th>\n",
       "      <td>1.153735e+06</td>\n",
       "      <td>2.379009e+06</td>\n",
       "    </tr>\n",
       "    <tr>\n",
       "      <th>2616</th>\n",
       "      <td>1.947756e+06</td>\n",
       "      <td>2.183110e+06</td>\n",
       "    </tr>\n",
       "    <tr>\n",
       "      <th>3494</th>\n",
       "      <td>2.189166e+06</td>\n",
       "      <td>2.133795e+06</td>\n",
       "    </tr>\n",
       "    <tr>\n",
       "      <th>3814</th>\n",
       "      <td>3.365204e+06</td>\n",
       "      <td>2.103035e+06</td>\n",
       "    </tr>\n",
       "    <tr>\n",
       "      <th>3447</th>\n",
       "      <td>2.380194e+06</td>\n",
       "      <td>2.080780e+06</td>\n",
       "    </tr>\n",
       "    <tr>\n",
       "      <th>2614</th>\n",
       "      <td>2.003270e+06</td>\n",
       "      <td>2.062436e+06</td>\n",
       "    </tr>\n",
       "    <tr>\n",
       "      <th>2190</th>\n",
       "      <td>1.561551e+06</td>\n",
       "      <td>2.017191e+06</td>\n",
       "    </tr>\n",
       "    <tr>\n",
       "      <th>3820</th>\n",
       "      <td>1.978407e+06</td>\n",
       "      <td>2.002325e+06</td>\n",
       "    </tr>\n",
       "  </tbody>\n",
       "</table>\n",
       "</div>"
      ],
      "text/plain": [
       "              sale_dollars   predictions\n",
       "store_number                            \n",
       "2633          1.228265e+07  1.151508e+07\n",
       "4829          1.108553e+07  1.015707e+07\n",
       "2512          5.206377e+06  5.504713e+06\n",
       "3385          4.759188e+06  4.592834e+06\n",
       "3420          4.018415e+06  3.510523e+06\n",
       "3952          3.768333e+06  3.387537e+06\n",
       "2670          3.015680e+06  3.012344e+06\n",
       "5102          2.557579e+06  2.796838e+06\n",
       "3354          2.920467e+06  2.663687e+06\n",
       "3773          2.948596e+06  2.586343e+06\n",
       "4167          2.346191e+06  2.460655e+06\n",
       "2625          2.399216e+06  2.417114e+06\n",
       "2627          1.153735e+06  2.379009e+06\n",
       "2616          1.947756e+06  2.183110e+06\n",
       "3494          2.189166e+06  2.133795e+06\n",
       "3814          3.365204e+06  2.103035e+06\n",
       "3447          2.380194e+06  2.080780e+06\n",
       "2614          2.003270e+06  2.062436e+06\n",
       "2190          1.561551e+06  2.017191e+06\n",
       "3820          1.978407e+06  2.002325e+06"
      ]
     },
     "execution_count": 173,
     "metadata": {},
     "output_type": "execute_result"
    }
   ],
   "source": [
    "liquor_full_by_store = liquor_full[['store_number',\n",
    "                          'sale_dollars',\n",
    "                          'bottles_sold', \n",
    "                          'state_bottle_retail']].groupby(liquor_full.store_number).agg({'sale_dollars' : np.sum,\n",
    "                                                                                    'bottles_sold' : np.sum,\n",
    "                                                                                    'state_bottle_retail' : np.sum})\n",
    "\n",
    "X = liquor_full_by_store[['bottles_sold','state_bottle_retail']]\n",
    "y = liquor_full_by_store['sale_dollars']\n",
    "print model_by_store.score(X,y)\n",
    "print model_by_store.alpha_\n",
    "print ''\n",
    "liquor_full_by_store['predictions'] = model_by_store.predict(X)\n",
    "print 'TOP PERFORMING STORES'\n",
    "liquor_full_by_store[['sale_dollars','predictions']].sort_values('predictions', ascending=False)[0:20]\n",
    "\n",
    "\n",
    "# results with the test data for top stores by performance:\n",
    "# 2633\t1214597.96\t1.176886e+06\n",
    "# 4829\t1078334.81\t1.001242e+06\n",
    "# 2512\t527274.22\t5.406449e+05\n",
    "# 3385\t506589.09\t4.880430e+05\n",
    "# 3420\t402576.06\t3.646401e+05\n",
    "# 3952\t390158.35\t3.438443e+05\n",
    "\n",
    "\n",
    "# yay it matches the full set!! "
   ]
  },
  {
   "cell_type": "code",
   "execution_count": 178,
   "metadata": {
    "collapsed": false
   },
   "outputs": [
    {
     "name": "stdout",
     "output_type": "stream",
     "text": [
      "0.976179985154\n",
      "6624280.86363\n",
      "\n",
      "TOP PERFORMING ZIPS\n",
      "          sale_dollars   predictions\n",
      "zip_code                            \n",
      "50314     1.352982e+07  1.202532e+07\n",
      "52402     1.125460e+07  1.170125e+07\n",
      "52240     1.106181e+07  1.127014e+07\n",
      "50320     1.312019e+07  1.103642e+07\n",
      "50010     9.090596e+06  8.738001e+06\n",
      "51501     6.998685e+06  7.330547e+06\n",
      "50703     4.671745e+06  6.785124e+06\n",
      "52807     7.504745e+06  6.732219e+06\n",
      "52001     6.395593e+06  6.476215e+06\n",
      "50613     6.257773e+06  6.342994e+06\n",
      "50311     6.915971e+06  6.306530e+06\n",
      "52722     6.632695e+06  5.963441e+06\n",
      "50317     4.420838e+06  5.917337e+06\n",
      "50702     5.339281e+06  5.732062e+06\n",
      "52804     4.903297e+06  5.718866e+06\n",
      "52404     4.780601e+06  5.680539e+06\n",
      "52241     6.854789e+06  5.670584e+06\n",
      "50401     4.842734e+06  5.295362e+06\n",
      "50266     7.214257e+06  5.265494e+06\n",
      "50265     5.183613e+06  5.104059e+06\n",
      "0.994125197863\n",
      "9380074.72554\n",
      "\n",
      "TOP PERFORMING CITIES\n",
      "                 sale_dollars   predictions\n",
      "city                                       \n",
      "DES MOINES         2851243.57  3.111004e+06\n",
      "CEDAR RAPIDS       2317348.37  2.468854e+06\n",
      "DAVENPORT          1438055.28  1.523574e+06\n",
      "COUNCIL BLUFFS     1108968.99  1.106599e+06\n",
      "WATERLOO           1039545.02  1.070547e+06\n",
      "SIOUX CITY         1001320.93  1.040781e+06\n",
      "IOWA CITY           913569.22  9.984342e+05\n",
      "AMES                905529.92  9.680676e+05\n",
      "WEST DES MOINES     899709.14  9.475630e+05\n",
      "DUBUQUE             854492.28  9.231754e+05\n",
      "CEDAR FALLS         698663.23  7.365998e+05\n",
      "ANKENY              638851.50  6.544727e+05\n",
      "MASON CITY          520745.05  5.458062e+05\n",
      "BETTENDORF          423132.77  4.697919e+05\n",
      "CORALVILLE          452944.15  4.645878e+05\n",
      "MUSCATINE           412658.28  4.572233e+05\n",
      "FORT DODGE          364254.78  4.024400e+05\n",
      "BURLINGTON          370570.09  4.021690e+05\n",
      "CLINTON             376821.04  3.930185e+05\n",
      "WINDSOR HEIGHTS     338689.56  3.620604e+05\n"
     ]
    }
   ],
   "source": [
    "\n",
    "liquor_full_by_zip = liquor_full[['zip_code',\n",
    "                          'sale_dollars',\n",
    "                          'bottles_sold', \n",
    "                          'state_bottle_retail',\n",
    "                        'store_number']].groupby(liquor_full.zip_code).agg({'sale_dollars' : np.sum,\n",
    "                                                                                    'bottles_sold' : np.sum,\n",
    "                                                                                    'state_bottle_retail' : np.sum,\n",
    "                                                                                   'store_number' : lambda x: x.nunique()})\n",
    "liquor_full_by_city = liquor_full[['city',\n",
    "                          'sale_dollars',\n",
    "                          'bottles_sold', \n",
    "                          'state_bottle_retail',\n",
    "                        'store_number']].groupby(liquor.city).agg({'sale_dollars' : np.sum,\n",
    "                                                                                    'bottles_sold' : np.sum,\n",
    "                                                                                    'state_bottle_retail' : np.sum,\n",
    "                                                                           'store_number' : lambda x: x.nunique()})\n",
    "\n",
    "\n",
    "X = liquor_full_by_zip[['bottles_sold','state_bottle_retail']]\n",
    "y = liquor_full_by_zip['sale_dollars']\n",
    "print model_zip.score(X,y)\n",
    "print model_zip.alpha_\n",
    "print ''\n",
    "liquor_full_by_zip['predictions'] = model_zip.predict(X)\n",
    "print 'TOP PERFORMING ZIPS'\n",
    "print liquor_full_by_zip[['sale_dollars','predictions']].sort_values('predictions', ascending=False)[0:20]\n",
    "\n",
    "\n",
    "X = liquor_full_by_city[['bottles_sold','state_bottle_retail']]\n",
    "y = liquor_full_by_city['sale_dollars']\n",
    "print model_by_city.score(X,y)\n",
    "print model_by_city.alpha_\n",
    "print ''\n",
    "liquor_full_by_city['predictions'] = model_by_city.predict(X)\n",
    "print 'TOP PERFORMING CITIES'\n",
    "print liquor_full_by_city[['sale_dollars','predictions']].sort_values('predictions', ascending=False)[0:20]\n",
    "\n"
   ]
  },
  {
   "cell_type": "code",
   "execution_count": null,
   "metadata": {
    "collapsed": true
   },
   "outputs": [],
   "source": []
  }
 ],
 "metadata": {
  "anaconda-cloud": {},
  "kernelspec": {
   "display_name": "Python 2",
   "language": "python",
   "name": "python2"
  },
  "language_info": {
   "codemirror_mode": {
    "name": "ipython",
    "version": 2
   },
   "file_extension": ".py",
   "mimetype": "text/x-python",
   "name": "python",
   "nbconvert_exporter": "python",
   "pygments_lexer": "ipython2",
   "version": "2.7.13"
  }
 },
 "nbformat": 4,
 "nbformat_minor": 1
}
