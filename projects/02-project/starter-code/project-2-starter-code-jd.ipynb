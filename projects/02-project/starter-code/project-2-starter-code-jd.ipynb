{
 "cells": [
  {
   "cell_type": "markdown",
   "metadata": {},
   "source": [
    "\n",
    "# Getting started\n",
    "\n",
    "Once you've chosen your scenario, download the data from the Iowa website in csv format. Start by loading the data with pandas. You may need to parse the date columns appropriately."
   ]
  },
  {
   "cell_type": "code",
   "execution_count": 1,
   "metadata": {
    "collapsed": false
   },
   "outputs": [],
   "source": [
    "import pandas as pd\n",
    "\n",
    "import numpy as np\n",
    "## Load the data into a DataFrame\n",
    "liquor = pd.read_csv('../../../../Iowa_Liquor_sales_sample_10pct.csv')[['Store Number',\n",
    "               'City',\n",
    "               'Zip Code',\n",
    "               'County Number',\n",
    "               'County',\n",
    "               'Bottle Volume (ml)', \n",
    "               'State Bottle Cost', \n",
    "               'State Bottle Retail', \n",
    "               'Bottles Sold', \n",
    "               'Sale (Dollars)', \n",
    "               'Volume Sold (Liters)', \n",
    "               'Volume Sold (Gallons)']]\n"
   ]
  },
  {
   "cell_type": "code",
   "execution_count": 2,
   "metadata": {
    "collapsed": false
   },
   "outputs": [],
   "source": [
    "## Make necessary column modifications\n",
    "\n",
    "## Transform the dates\n",
    "# liquor[\"Date\"] = pd.to_datetime(liquor[\"Date\"], format=\"%m/%d/%Y\")\n",
    "# liquor['Year'] = liquor['Date'].dt.year\n",
    "# liquor['Month'] = liquor['Date'].dt.month\n",
    "\n",
    "## Reformat column names to replace spaces with underscores\n",
    "liquor.columns = [c.replace(' ', '_') for c in liquor.columns]\n",
    "liquor.columns = [c.replace(')', '') for c in liquor.columns]\n",
    "liquor.columns = [c.replace('(', '') for c in liquor.columns]\n",
    "\n",
    "## turn to lowercase because I hate initcap\n",
    "liquor.columns = [c.lower() for c in liquor.columns]"
   ]
  },
  {
   "cell_type": "code",
   "execution_count": 3,
   "metadata": {
    "collapsed": false
   },
   "outputs": [],
   "source": [
    "## capitalize city and county for consistency\n",
    "# liquor.city = liquor.city.str.upper()\n",
    "# liquor.county = liquor.county.str.upper()\n",
    "\n",
    "# liquor.apply(lambda x: x.astype(str).str.upper())\n",
    "\n",
    "\n",
    "## remove dollar signs and convert to floats\n",
    "liquor['sale_dollars'] = liquor['sale_dollars'].str.replace('$','').astype(np.float64)\n",
    "liquor['state_bottle_retail'] = liquor['state_bottle_retail'].str.replace('$','').astype(np.float64)\n",
    "liquor['state_bottle_cost'] = liquor['state_bottle_cost'].str.replace('$','').astype(np.float64)"
   ]
  },
  {
   "cell_type": "code",
   "execution_count": 14,
   "metadata": {
    "collapsed": false
   },
   "outputs": [
    {
     "name": "stdout",
     "output_type": "stream",
     "text": [
      "missing values \n",
      "store_number             0\n",
      "city                     0\n",
      "zip_code                 0\n",
      "county_number          970\n",
      "county                 970\n",
      "bottle_volume_ml         0\n",
      "state_bottle_cost        0\n",
      "state_bottle_retail      0\n",
      "bottles_sold             0\n",
      "sale_dollars             0\n",
      "volume_sold_liters       0\n",
      "volume_sold_gallons      0\n",
      "dtype: int64\n",
      "\n",
      "dataframe types \n",
      "store_number             int64\n",
      "city                    object\n",
      "zip_code                object\n",
      "county_number          float64\n",
      "county                  object\n",
      "bottle_volume_ml         int64\n",
      "state_bottle_cost      float64\n",
      "state_bottle_retail    float64\n",
      "bottles_sold             int64\n",
      "sale_dollars           float64\n",
      "volume_sold_liters     float64\n",
      "volume_sold_gallons    float64\n",
      "dtype: object\n",
      "\n",
      "dataframe shape \n",
      "(174402, 12)\n",
      "\n",
      "dataframe describe \n",
      "        store_number  county_number  bottle_volume_ml  state_bottle_cost  \\\n",
      "count  174402.000000  173432.000000     174402.000000      174402.000000   \n",
      "mean     3655.515871      56.767021        904.890454          10.105807   \n",
      "std       957.173723      27.556328        491.137317           7.659892   \n",
      "min      2106.000000       1.000000         50.000000           0.890000   \n",
      "25%      2613.000000      31.000000        750.000000           5.500000   \n",
      "50%      3789.000000      60.000000        750.000000           8.250000   \n",
      "75%      4478.000000      77.000000       1000.000000          12.500000   \n",
      "max      9023.000000      99.000000       6000.000000         425.000000   \n",
      "\n",
      "       state_bottle_retail   bottles_sold   sale_dollars  volume_sold_liters  \\\n",
      "count        174402.000000  174402.000000  174402.000000       174402.000000   \n",
      "mean             15.178753       9.983819     135.254020            9.208536   \n",
      "std              11.488960      27.104901     438.692455           33.524978   \n",
      "min               1.340000       1.000000       1.340000            0.100000   \n",
      "25%               8.250000       2.000000      29.180000            1.500000   \n",
      "50%              12.380000       6.000000      66.120000            4.500000   \n",
      "75%              18.750000      12.000000     134.280000            9.600000   \n",
      "max             637.500000    2508.000000   36392.400000         2508.000000   \n",
      "\n",
      "       volume_sold_gallons  \n",
      "count        174402.000000  \n",
      "mean              2.432851  \n",
      "std               8.856379  \n",
      "min               0.030000  \n",
      "25%               0.400000  \n",
      "50%               1.190000  \n",
      "75%               2.540000  \n",
      "max             662.540000  \n",
      "\n",
      "store_number =  1400\n",
      "city =  385\n",
      "zip_code =  415\n",
      "county_number =  99\n",
      "county =  99\n",
      "bottle_volume_ml =  29\n",
      "state_bottle_cost =  1086\n",
      "state_bottle_retail =  1112\n",
      "bottles_sold =  137\n",
      "sale_dollars =  6580\n",
      "volume_sold_liters =  265\n",
      "volume_sold_gallons =  261\n",
      "\n",
      "num duplicates: 0\n"
     ]
    }
   ],
   "source": [
    "## check: missing values, dtypes, df shape, describe, unique values, duplicates\n",
    "\n",
    "def eda(dataframe):\n",
    "    \n",
    "    print \"missing values \\n\", dataframe.isnull().sum()## count number of null values per column\n",
    "    print ''\n",
    "    print \"dataframe types \\n\", dataframe.dtypes       ## list data type of each column\n",
    "    print ''\n",
    "    print \"dataframe shape \\n\", dataframe.shape        ## rows by columns\n",
    "    print ''\n",
    "    print \"dataframe describe \\n\", dataframe.describe()## stats -- mean, min, max, etc.. \n",
    "    print ''\n",
    "    for item in dataframe:                             ## count number of unique values per column\n",
    "        print item, '= ', dataframe[item].nunique()\n",
    "    print ''\n",
    "    print 'num duplicates:', dataframe.duplicated().sum()\n",
    "\n",
    "eda(liquor)"
   ]
  },
  {
   "cell_type": "code",
   "execution_count": 4,
   "metadata": {
    "collapsed": false
   },
   "outputs": [
    {
     "name": "stdout",
     "output_type": "stream",
     "text": [
      "num duplicates: 0\n"
     ]
    }
   ],
   "source": [
    "## drop duplicate rows\n",
    "liquor.drop_duplicates(inplace=True)\n",
    "print 'num duplicates:', liquor.duplicated().sum()\n",
    "\n",
    "## look into missing county_numbers and counties\n",
    "county_lookup = liquor[['zip_code','county','county_number']][liquor.county.isnull()==False]\n",
    "county_lookup.drop_duplicates(inplace=True)"
   ]
  },
  {
   "cell_type": "code",
   "execution_count": 6,
   "metadata": {
    "collapsed": false
   },
   "outputs": [
    {
     "data": {
      "text/plain": [
       "Index([u'Zip_Code', u'City', u'County'], dtype='object')"
      ]
     },
     "execution_count": 6,
     "metadata": {},
     "output_type": "execute_result"
    }
   ],
   "source": [
    "## grabs a list of zip codes for iows to help fill in missing county names\n",
    "iowa_zips = pd.read_csv('../../../../iowa_zips.csv')\n",
    "iowa_zips.columns = [c.replace(' ', '_') for c in iowa_zips.columns]\n",
    "iowa_zips.columns\n",
    "\n"
   ]
  },
  {
   "cell_type": "code",
   "execution_count": 16,
   "metadata": {
    "collapsed": false
   },
   "outputs": [],
   "source": [
    "# set up connection to SQLalchemy\n",
    "from sqlalchemy import create_engine\n",
    "engine = create_engine('sqlite:///:memory:')\n",
    "conn = engine.connect()\n",
    "\n",
    "# push dfs into sql tables\n",
    "liquor.to_sql('liquor', engine)\n",
    "county_lookup.to_sql('county_lookup', engine)\n",
    "iowa_zips.to_sql('iowa_zips', engine)"
   ]
  },
  {
   "cell_type": "code",
   "execution_count": 17,
   "metadata": {
    "collapsed": false
   },
   "outputs": [],
   "source": [
    "# run updates to fill in county names\n",
    "conn.execute(\"update liquor set county = (select county from county_lookup where county_lookup.zip_code = liquor.zip_code) where county is null;\")\n",
    "conn.execute(\"update liquor set county = (select County from iowa_zips where iowa_zips.Zip_Code = liquor.zip_code) where county is null;\")\n",
    "# run updates to fill in county_numbers\n",
    "conn.execute(\"update liquor set county_number = (select county_number from county_lookup where county_lookup.zip_code = liquor.zip_code and county_lookup.county = liquor.county) where county_number is null;\")\n",
    "\n",
    "# pull sql table into a pandas df\n",
    "liquor_sql = pd.read_sql_table('liquor',engine)\n",
    "# close sql connection\n",
    "conn.close()"
   ]
  },
  {
   "cell_type": "code",
   "execution_count": 18,
   "metadata": {
    "collapsed": false
   },
   "outputs": [
    {
     "name": "stdout",
     "output_type": "stream",
     "text": [
      "missing values \n",
      "index                   0\n",
      "store_number            0\n",
      "city                    0\n",
      "zip_code                0\n",
      "county_number          12\n",
      "county                  0\n",
      "bottle_volume_ml        0\n",
      "state_bottle_cost       0\n",
      "state_bottle_retail     0\n",
      "bottles_sold            0\n",
      "sale_dollars            0\n",
      "volume_sold_liters      0\n",
      "volume_sold_gallons     0\n",
      "dtype: int64\n",
      "\n",
      "dataframe types \n",
      "index                    int64\n",
      "store_number             int64\n",
      "city                    object\n",
      "zip_code                object\n",
      "county_number          float64\n",
      "county                  object\n",
      "bottle_volume_ml         int64\n",
      "state_bottle_cost      float64\n",
      "state_bottle_retail    float64\n",
      "bottles_sold             int64\n",
      "sale_dollars           float64\n",
      "volume_sold_liters     float64\n",
      "volume_sold_gallons    float64\n",
      "dtype: object\n",
      "\n",
      "dataframe shape \n",
      "(174402, 13)\n",
      "\n",
      "dataframe describe \n",
      "               index   store_number  county_number  bottle_volume_ml  \\\n",
      "count  174402.000000  174402.000000  174390.000000     174402.000000   \n",
      "mean   118293.558308    3655.515871      56.748707        904.890454   \n",
      "std     78162.625690     957.173723      27.570504        491.137317   \n",
      "min         0.000000    2106.000000       1.000000         50.000000   \n",
      "25%     49058.250000    2613.000000      31.000000        750.000000   \n",
      "50%    109746.500000    3789.000000      60.000000        750.000000   \n",
      "75%    183187.500000    4478.000000      77.000000       1000.000000   \n",
      "max    270954.000000    9023.000000      99.000000       6000.000000   \n",
      "\n",
      "       state_bottle_cost  state_bottle_retail   bottles_sold   sale_dollars  \\\n",
      "count      174402.000000        174402.000000  174402.000000  174402.000000   \n",
      "mean           10.105807            15.178753       9.983819     135.254020   \n",
      "std             7.659892            11.488960      27.104901     438.692455   \n",
      "min             0.890000             1.340000       1.000000       1.340000   \n",
      "25%             5.500000             8.250000       2.000000      29.180000   \n",
      "50%             8.250000            12.380000       6.000000      66.120000   \n",
      "75%            12.500000            18.750000      12.000000     134.280000   \n",
      "max           425.000000           637.500000    2508.000000   36392.400000   \n",
      "\n",
      "       volume_sold_liters  volume_sold_gallons  \n",
      "count       174402.000000        174402.000000  \n",
      "mean             9.208536             2.432851  \n",
      "std             33.524978             8.856379  \n",
      "min              0.100000             0.030000  \n",
      "25%              1.500000             0.400000  \n",
      "50%              4.500000             1.190000  \n",
      "75%              9.600000             2.540000  \n",
      "max           2508.000000           662.540000  \n",
      "\n",
      "index =  174402\n",
      "store_number =  1400\n",
      "city =  385\n",
      "zip_code =  415\n",
      "county_number =  99\n",
      "county =  99\n",
      "bottle_volume_ml =  29\n",
      "state_bottle_cost =  1086\n",
      "state_bottle_retail =  1112\n",
      "bottles_sold =  137\n",
      "sale_dollars =  6580\n",
      "volume_sold_liters =  265\n",
      "volume_sold_gallons =  261\n",
      "\n",
      "num duplicates: 0\n"
     ]
    }
   ],
   "source": [
    "# check missing values for counties\n",
    "eda(liquor_sql)\n",
    "\n",
    "liquor_sql['zip_code'][liquor_sql.county.isnull()==True]\n",
    "liquor = liquor_sql"
   ]
  },
  {
   "cell_type": "markdown",
   "metadata": {},
   "source": [
    "# Explore the data\n",
    "\n",
    "Perform some exploratory statistical analysis and make some plots, such as histograms of transaction totals, bottles sold, etc."
   ]
  },
  {
   "cell_type": "code",
   "execution_count": 46,
   "metadata": {
    "collapsed": false
   },
   "outputs": [],
   "source": [
    "import seaborn as sns\n",
    "import matplotlib.pyplot as plt\n",
    "%matplotlib inline\n",
    "\n",
    "\n",
    "liquor_lite = liquor.groupby(['store_number','city','county','zip_code']).agg({'sale_dollars': np.sum,\n",
    "                                                                'volume_sold_liters':np.sum,\n",
    "                                                                'bottles_sold' : np.sum})\n"
   ]
  },
  {
   "cell_type": "code",
   "execution_count": 178,
   "metadata": {
    "collapsed": false
   },
   "outputs": [
    {
     "data": {
      "text/plain": [
       "0"
      ]
     },
     "execution_count": 178,
     "metadata": {},
     "output_type": "execute_result"
    }
   ],
   "source": [
    "# sales_by_ym = liquor[['year','month','sale_dollars']].groupby(['year','month']).agg({'sale_dollars': np.sum})\n",
    "pd.set_eng_float_format(accuracy=10, use_eng_prefix=True)\n",
    "sales_by_county = ['county','sale_dollars','volume_sold_liters','bottles_sold']\n",
    "sales_by_store = ['store_number','sale_dollars','volume_sold_liters','bottles_sold']\n",
    "# liquor[sales_by_county].groupby(['county']).sum().plot.barh()\n",
    "\n",
    "## find the counties spending the most on liquor\n",
    "liquor[['county','sale_dollars']].groupby(['county']).sum().sort_values('sale_dollars',ascending=False)[0:5]\n",
    "\n",
    "\n",
    "liquor['store_number'][liquor.county.isin(['POLK'])].count()\n",
    "# ,'LINN','SCOTT']\n",
    "\n",
    "\n",
    "# liquor[sales_by_store].groupby(['store_number']).sum().plot.barh()"
   ]
  },
  {
   "cell_type": "code",
   "execution_count": 161,
   "metadata": {
    "collapsed": false
   },
   "outputs": [
    {
     "data": {
      "image/png": "[encoded data removed]",
      "text/plain": [
       "<matplotlib.figure.Figure at 0x1466c1f50>"
      ]
     },
     "metadata": {},
     "output_type": "display_data"
    },
    {
     "data": {
      "image/png": "[encoded data removed]",
      "text/plain": [
       "<matplotlib.figure.Figure at 0x1466c1c10>"
      ]
     },
     "metadata": {},
     "output_type": "display_data"
    },
    {
     "data": {
      "image/png": "[encoded data removed]",
      "text/plain": [
       "<matplotlib.figure.Figure at 0x13ee1df10>"
      ]
     },
     "metadata": {},
     "output_type": "display_data"
    },
    {
     "data": {
      "image/png": "[encoded data removed]",
      "text/plain": [
       "<matplotlib.figure.Figure at 0x12d970790>"
      ]
     },
     "metadata": {},
     "output_type": "display_data"
    }
   ],
   "source": [
    "plt.scatter(liquor.bottles_sold,liquor.sale_dollars)\n",
    "plt.xlabel('Bottles Sold')\n",
    "plt.ylabel('Sale Amount $')\n",
    "plt.title('Obvious Relationship between Bottles Sold and Sale Amount')\n",
    "plt.show()\n",
    "\n",
    "plt.scatter(liquor.volume_sold_liters,liquor.sale_dollars)\n",
    "plt.show()\n",
    "\n",
    "plt.scatter(liquor.bottles_sold,liquor.volume_sold_liters)\n",
    "plt.show()\n",
    "\n",
    "plt.scatter(liquor.bottles_sold,liquor.state_bottle_retail)\n",
    "plt.show()\n"
   ]
  },
  {
   "cell_type": "markdown",
   "metadata": {},
   "source": [
    "# Record your findings\n",
    "\n",
    "Be sure to write out any observations from your exploratory analysis.\n"
   ]
  },
  {
   "cell_type": "code",
   "execution_count": 10,
   "metadata": {
    "collapsed": false
   },
   "outputs": [
    {
     "data": {
      "text/plain": [
       "<seaborn.axisgrid.PairGrid at 0x116b78bd0>"
      ]
     },
     "execution_count": 10,
     "metadata": {},
     "output_type": "execute_result"
    }
   ],
   "source": [
    "import seaborn as sns\n",
    "liquor_lite"
   ]
  },
  {
   "cell_type": "markdown",
   "metadata": {},
   "source": [
    "# Mine the data\n",
    "\n",
    "Now you are ready to compute the variables you will use for your regression from the data. For example, you may want to compute total sales per store from Jan to March of 2015, mean price per bottle, etc. Refer to the readme for more ideas appropriate to your scenario.\n",
    "\n",
    "Pandas is your friend for this task. Take a look at the operations here for ideas on how to make the best use of pandas and feel free to search for blog and Stack Overflow posts to help you group data by certain variables and compute sums, means, etc. You may find it useful to create a new data frame to house this summary data.\n",
    " \n"
   ]
  },
  {
   "cell_type": "code",
   "execution_count": 47,
   "metadata": {
    "collapsed": false
   },
   "outputs": [
    {
     "data": {
      "text/plain": [
       "Index([u'index', u'store_number', u'city', u'zip_code', u'county_number',\n",
       "       u'county', u'bottle_volume_ml', u'state_bottle_cost',\n",
       "       u'state_bottle_retail', u'bottles_sold', u'sale_dollars',\n",
       "       u'volume_sold_liters', u'volume_sold_gallons'],\n",
       "      dtype='object')"
      ]
     },
     "execution_count": 47,
     "metadata": {},
     "output_type": "execute_result"
    }
   ],
   "source": [
    "## bottles sold\n",
    "## price per bottle\n",
    "## total sales\n",
    "## volume sold\n",
    "## \n",
    "\n",
    "# Index([u'index', u'store_number', u'city', u'zip_code', u'county_number',\n",
    "#        u'county', u'bottle_volume_ml', u'state_bottle_cost',\n",
    "#        u'state_bottle_retail', u'bottles_sold', u'sale_dollars',\n",
    "#        u'volume_sold_liters', u'volume_sold_gallons'],\n",
    "#       dtype='object')\n",
    "\n",
    "liquor.columns\n",
    "# liquor['city'].groupby(['city']).agg({''})\n",
    "\n",
    "\n"
   ]
  },
  {
   "cell_type": "markdown",
   "metadata": {},
   "source": [
    "# Refine the data\n",
    "\n",
    "Look for any statistical relationships, correlations, or other relevant properties of the dataset."
   ]
  },
  {
   "cell_type": "code",
   "execution_count": null,
   "metadata": {
    "collapsed": true
   },
   "outputs": [],
   "source": []
  },
  {
   "cell_type": "markdown",
   "metadata": {},
   "source": [
    "# Build your models\n",
    "\n",
    "Using scikit-learn or statsmodels, build the necessary models for your scenario. Evaluate model fit."
   ]
  },
  {
   "cell_type": "code",
   "execution_count": null,
   "metadata": {
    "collapsed": true
   },
   "outputs": [],
   "source": []
  },
  {
   "cell_type": "markdown",
   "metadata": {},
   "source": [
    "# Plot your results\n",
    "\n",
    "Again make sure that you record any valuable information. For example, in the tax scenario, did you find the sales from the first three months of the year to be a good predictor of the total sales for the year? Plot the predictions versus the true values and discuss the successes and limitations of your models"
   ]
  },
  {
   "cell_type": "code",
   "execution_count": null,
   "metadata": {
    "collapsed": true
   },
   "outputs": [],
   "source": []
  },
  {
   "cell_type": "markdown",
   "metadata": {},
   "source": [
    "# Present the Results\n",
    "\n",
    "Present your conclusions and results. If you have more than one interesting model feel free to include more than one along with a discussion. Use your work in this notebook to prepare your write-up."
   ]
  },
  {
   "cell_type": "code",
   "execution_count": null,
   "metadata": {
    "collapsed": true
   },
   "outputs": [],
   "source": []
  }
 ],
 "metadata": {
  "anaconda-cloud": {},
  "kernelspec": {
   "display_name": "Python 2",
   "language": "python",
   "name": "python2"
  },
  "language_info": {
   "codemirror_mode": {
    "name": "ipython",
    "version": 2
   },
   "file_extension": ".py",
   "mimetype": "text/x-python",
   "name": "python",
   "nbconvert_exporter": "python",
   "pygments_lexer": "ipython2",
   "version": "2.7.13"
  }
 },
 "nbformat": 4,
 "nbformat_minor": 1
}
