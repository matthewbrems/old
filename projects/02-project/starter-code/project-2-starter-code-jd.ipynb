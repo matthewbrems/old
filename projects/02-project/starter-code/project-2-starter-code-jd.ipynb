{
 "cells": [
  {
   "cell_type": "markdown",
   "metadata": {},
   "source": [
    "\n",
    "# Getting started\n",
    "\n",
    "Once you've chosen your scenario, download the data from the Iowa website in csv format. Start by loading the data with pandas. You may need to parse the date columns appropriately."
   ]
  },
  {
   "cell_type": "code",
   "execution_count": 18,
   "metadata": {
    "collapsed": false
   },
   "outputs": [],
   "source": [
    "import pandas as pd\n",
    "\n",
    "## Load the data into a DataFrame\n",
    "liquor = pd.read_csv('../../../../Iowa_Liquor_sales_sample_10pct.csv')"
   ]
  },
  {
   "cell_type": "code",
   "execution_count": 21,
   "metadata": {
    "collapsed": false
   },
   "outputs": [],
   "source": [
    "## Make necessary column modifications\n",
    "\n",
    "## Transform the dates\n",
    "liquor[\"Date\"] = pd.to_datetime(liquor[\"Date\"], format=\"%m/%d/%Y\")\n",
    "\n",
    "## Reformat column names to replace spaces with underscores\n",
    "liquor.columns = [c.replace(' ', '_') for c in liquor.columns]\n",
    "liquor.columns = [c.replace(')', '') for c in liquor.columns]\n",
    "liquor.columns = [c.replace('(', '') for c in liquor.columns]"
   ]
  },
  {
   "cell_type": "code",
   "execution_count": 19,
   "metadata": {
    "collapsed": false
   },
   "outputs": [
    {
     "name": "stdout",
     "output_type": "stream",
     "text": [
      "missing values \n",
      "Date                        0\n",
      "Store Number                0\n",
      "City                        0\n",
      "Zip Code                    0\n",
      "County Number            1077\n",
      "County                   1077\n",
      "Category                   68\n",
      "Category Name             632\n",
      "Vendor Number               0\n",
      "Item Number                 0\n",
      "Item Description            0\n",
      "Bottle Volume (ml)          0\n",
      "State Bottle Cost           0\n",
      "State Bottle Retail         0\n",
      "Bottles Sold                0\n",
      "Sale (Dollars)              0\n",
      "Volume Sold (Liters)        0\n",
      "Volume Sold (Gallons)       0\n",
      "dtype: int64\n",
      "\n",
      "dataframe types \n",
      "Date                      object\n",
      "Store Number               int64\n",
      "City                      object\n",
      "Zip Code                  object\n",
      "County Number            float64\n",
      "County                    object\n",
      "Category                 float64\n",
      "Category Name             object\n",
      "Vendor Number              int64\n",
      "Item Number                int64\n",
      "Item Description          object\n",
      "Bottle Volume (ml)         int64\n",
      "State Bottle Cost         object\n",
      "State Bottle Retail       object\n",
      "Bottles Sold               int64\n",
      "Sale (Dollars)            object\n",
      "Volume Sold (Liters)     float64\n",
      "Volume Sold (Gallons)    float64\n",
      "dtype: object\n",
      "\n",
      "dataframe shape \n",
      "(270955, 18)\n",
      "\n",
      "dataframe describe \n",
      "        Store Number  County Number      Category  Vendor Number  \\\n",
      "count  270955.000000  269878.000000  2.708870e+05   270955.00000   \n",
      "mean     3590.263701      57.231642  1.043888e+06      256.43443   \n",
      "std       947.662050      27.341205  5.018211e+04      141.01489   \n",
      "min      2106.000000       1.000000  1.011100e+06       10.00000   \n",
      "25%      2604.000000      31.000000  1.012200e+06      115.00000   \n",
      "50%      3722.000000      62.000000  1.031200e+06      260.00000   \n",
      "75%      4378.000000      77.000000  1.062310e+06      380.00000   \n",
      "max      9023.000000      99.000000  1.701100e+06      978.00000   \n",
      "\n",
      "         Item Number  Bottle Volume (ml)   Bottles Sold  Volume Sold (Liters)  \\\n",
      "count  270955.000000       270955.000000  270955.000000         270955.000000   \n",
      "mean    45974.963300          924.830341       9.871285              8.981351   \n",
      "std     52757.043086          493.088489      24.040912             28.913690   \n",
      "min       168.000000           50.000000       1.000000              0.100000   \n",
      "25%     26827.000000          750.000000       2.000000              1.500000   \n",
      "50%     38176.000000          750.000000       6.000000              5.250000   \n",
      "75%     64573.000000         1000.000000      12.000000             10.500000   \n",
      "max    995507.000000         6000.000000    2508.000000           2508.000000   \n",
      "\n",
      "       Volume Sold (Gallons)  \n",
      "count          270955.000000  \n",
      "mean                2.372830  \n",
      "std                 7.638182  \n",
      "min                 0.030000  \n",
      "25%                 0.400000  \n",
      "50%                 1.390000  \n",
      "75%                 2.770000  \n",
      "max               662.540000  \n",
      "\n",
      "Date\n",
      "274\n",
      "Store Number\n",
      "1400\n",
      "City\n",
      "385\n",
      "Zip Code\n",
      "415\n",
      "County Number\n",
      "99\n",
      "County\n",
      "99\n",
      "Category\n",
      "83\n",
      "Category Name\n",
      "71\n",
      "Vendor Number\n",
      "116\n",
      "Item Number\n",
      "2696\n",
      "Item Description\n",
      "2173\n",
      "Bottle Volume (ml)\n",
      "29\n",
      "State Bottle Cost\n",
      "1086\n",
      "State Bottle Retail\n",
      "1112\n",
      "Bottles Sold\n",
      "137\n",
      "Sale (Dollars)\n",
      "6580\n",
      "Volume Sold (Liters)\n",
      "265\n",
      "Volume Sold (Gallons)\n",
      "261\n"
     ]
    }
   ],
   "source": [
    "def eda(dataframe):\n",
    "    \n",
    "    print \"missing values \\n\", dataframe.isnull().sum()## count number of null values per column\n",
    "    print ''\n",
    "    print \"dataframe types \\n\", dataframe.dtypes       ## list data type of each column\n",
    "    print ''\n",
    "    print \"dataframe shape \\n\", dataframe.shape        ## rows by columns\n",
    "    print ''\n",
    "    print \"dataframe describe \\n\", dataframe.describe()## stats -- mean, min, max, etc.. \n",
    "    print ''\n",
    "    for item in dataframe:                             ## count number of unique values per column\n",
    "        print item\n",
    "        print dataframe[item].nunique()\n",
    "\n",
    "eda(liquor)"
   ]
  },
  {
   "cell_type": "code",
   "execution_count": 23,
   "metadata": {
    "collapsed": false
   },
   "outputs": [
    {
     "name": "stdout",
     "output_type": "stream",
     "text": [
      "1031080.0    35373\n",
      "1012100.0    27087\n",
      "1011200.0    15342\n",
      "1062310.0    14631\n",
      "1031200.0    14001\n",
      "1022100.0    12109\n",
      "1011100.0    11547\n",
      "1081600.0    10902\n",
      "1032080.0    10668\n",
      "1062200.0    10062\n",
      "1062300.0     7282\n",
      "1011300.0     7081\n",
      "1071100.0     6929\n",
      "1051010.0     6589\n",
      "1041100.0     6559\n",
      "1032200.0     6506\n",
      "1082900.0     6299\n",
      "1081200.0     6284\n",
      "1012200.0     5375\n",
      "1052010.0     4614\n",
      "1081390.0     4249\n",
      "1081900.0     3394\n",
      "1031100.0     3304\n",
      "1081300.0     3221\n",
      "1042100.0     2939\n",
      "1012300.0     2791\n",
      "1012210.0     2288\n",
      "1081030.0     1914\n",
      "1081330.0     1650\n",
      "1051110.0     1580\n",
      "             ...  \n",
      "1041150.0      250\n",
      "1081365.0      235\n",
      "1052100.0      224\n",
      "1081230.0      201\n",
      "1011400.0      190\n",
      "1041200.0      169\n",
      "1081220.0      157\n",
      "1051150.0      144\n",
      "1032100.0      114\n",
      "1081350.0       99\n",
      "1081500.0       86\n",
      "1082100.0       83\n",
      "1031090.0       78\n",
      "1022200.0       63\n",
      "1081250.0       61\n",
      "1081210.0       52\n",
      "1062500.0       38\n",
      "1081020.0       35\n",
      "1012400.0       23\n",
      "1031110.0       15\n",
      "1091100.0       15\n",
      "1082200.0       13\n",
      "1011600.0       12\n",
      "1062400.0        8\n",
      "1082010.0        3\n",
      "1011700.0        3\n",
      "1091300.0        2\n",
      "1501100.0        2\n",
      "1082015.0        2\n",
      "1092100.0        1\n",
      "Name: Category, dtype: int64\n",
      "VODKA 80 PROOF                        35373\n",
      "CANADIAN WHISKIES                     27087\n",
      "STRAIGHT BOURBON WHISKIES             15342\n",
      "SPICED RUM                            14631\n",
      "VODKA FLAVORED                        14001\n",
      "TEQUILA                               12109\n",
      "BLENDED WHISKIES                      11547\n",
      "WHISKEY LIQUEUR                       10902\n",
      "IMPORTED VODKA                        10668\n",
      "PUERTO RICO & VIRGIN ISLANDS RUM      10062\n",
      "FLAVORED RUM                           7282\n",
      "TENNESSEE WHISKIES                     7081\n",
      "AMERICAN COCKTAILS                     6929\n",
      "AMERICAN GRAPE BRANDIES                6589\n",
      "AMERICAN DRY GINS                      6559\n",
      "IMPORTED VODKA - MISC                  6506\n",
      "MISC. IMPORTED CORDIALS & LIQUEURS     6299\n",
      "CREAM LIQUEURS                         6284\n",
      "SCOTCH WHISKIES                        5375\n",
      "IMPORTED GRAPE BRANDIES                4614\n",
      "IMPORTED SCHNAPPS                      4249\n",
      "MISC. AMERICAN CORDIALS & LIQUEURS     3394\n",
      "100 PROOF VODKA                        3304\n",
      "PEPPERMINT SCHNAPPS                    3221\n",
      "IMPORTED DRY GINS                      2939\n",
      "IRISH WHISKIES                         2791\n",
      "SINGLE MALT SCOTCH                     2288\n",
      "COFFEE LIQUEURS                        1914\n",
      "PEACH SCHNAPPS                         1650\n",
      "BLACKBERRY BRANDIES                    1580\n",
      "                                      ...  \n",
      "AMERICAN ALCOHOL                        573\n",
      "WATERMELON SCHNAPPS                     479\n",
      "BARBADOS RUM                            393\n",
      "JAMAICA RUM                             385\n",
      "GRAPE SCHNAPPS                          333\n",
      "CHERRY BRANDIES                         330\n",
      "ROOT BEER SCHNAPPS                      324\n",
      "SINGLE BARREL BOURBON WHISKIES          319\n",
      "RASPBERRY SCHNAPPS                      304\n",
      "STRAWBERRY SCHNAPPS                     302\n",
      "IMPORTED AMARETTO                       276\n",
      "GREEN CREME DE MENTHE                   259\n",
      "FLAVORED GINS                           250\n",
      "TROPICAL FRUIT SCHNAPPS                 235\n",
      "WHITE CREME DE CACAO                    201\n",
      "BOTTLED IN BOND BOURBON                 190\n",
      "AMERICAN SLOE GINS                      169\n",
      "DARK CREME DE CACAO                     157\n",
      "MISCELLANEOUS  BRANDIES                 144\n",
      "SPEARMINT SCHNAPPS                       99\n",
      "ROCK & RYE                               86\n",
      "OTHER PROOF VODKA                        78\n",
      "WHITE CREME DE MENTHE                    61\n",
      "CREME DE ALMOND                          52\n",
      "ANISETTE                                 35\n",
      "JAPANESE WHISKY                          23\n",
      "LOW PROOF VODKA                          15\n",
      "CORN WHISKIES                            12\n",
      "AMARETTO - IMPORTED                       3\n",
      "HIGH PROOF BEER - AMERICAN                2\n",
      "Name: Category_Name, dtype: int64\n"
     ]
    }
   ],
   "source": [
    "print liquor.Category.value_counts()\n",
    "print liquor.Category_Name.value_counts()"
   ]
  },
  {
   "cell_type": "markdown",
   "metadata": {},
   "source": [
    "# Explore the data\n",
    "\n",
    "Perform some exploratory statistical analysis and make some plots, such as histograms of transaction totals, bottles sold, etc."
   ]
  },
  {
   "cell_type": "code",
   "execution_count": 16,
   "metadata": {
    "collapsed": true
   },
   "outputs": [],
   "source": [
    "import seaborn as sns\n",
    "import matplotlib.pyplot as plt\n",
    "\n",
    "\n",
    "\n"
   ]
  },
  {
   "cell_type": "markdown",
   "metadata": {},
   "source": [
    "# Record your findings\n",
    "\n",
    "Be sure to write out anything observations from your exploratory analysis.\n"
   ]
  },
  {
   "cell_type": "code",
   "execution_count": null,
   "metadata": {
    "collapsed": true
   },
   "outputs": [],
   "source": []
  },
  {
   "cell_type": "markdown",
   "metadata": {},
   "source": [
    "# Mine the data\n",
    "\n",
    "Now you are ready to compute the variables you will use for your regression from the data. For example, you may want to compute total sales per store from Jan to March of 2015, mean price per bottle, etc. Refer to the readme for more ideas appropriate to your scenario.\n",
    "\n",
    "Pandas is your friend for this task. Take a look at the operations here for ideas on how to make the best use of pandas and feel free to search for blog and Stack Overflow posts to help you group data by certain variables and compute sums, means, etc. You may find it useful to create a new data frame to house this summary data.\n",
    " \n"
   ]
  },
  {
   "cell_type": "code",
   "execution_count": null,
   "metadata": {
    "collapsed": true
   },
   "outputs": [],
   "source": []
  },
  {
   "cell_type": "markdown",
   "metadata": {},
   "source": [
    "# Refine the data\n",
    "\n",
    "Look for any statistical relationships, correlations, or other relevant properties of the dataset."
   ]
  },
  {
   "cell_type": "code",
   "execution_count": null,
   "metadata": {
    "collapsed": true
   },
   "outputs": [],
   "source": []
  },
  {
   "cell_type": "markdown",
   "metadata": {},
   "source": [
    "# Build your models\n",
    "\n",
    "Using scikit-learn or statsmodels, build the necessary models for your scenario. Evaluate model fit."
   ]
  },
  {
   "cell_type": "code",
   "execution_count": null,
   "metadata": {
    "collapsed": true
   },
   "outputs": [],
   "source": []
  },
  {
   "cell_type": "markdown",
   "metadata": {},
   "source": [
    "# Plot your results\n",
    "\n",
    "Again make sure that you record any valuable information. For example, in the tax scenario, did you find the sales from the first three months of the year to be a good predictor of the total sales for the year? Plot the predictions versus the true values and discuss the successes and limitations of your models"
   ]
  },
  {
   "cell_type": "code",
   "execution_count": null,
   "metadata": {
    "collapsed": true
   },
   "outputs": [],
   "source": []
  },
  {
   "cell_type": "markdown",
   "metadata": {},
   "source": [
    "# Present the Results\n",
    "\n",
    "Present your conclusions and results. If you have more than one interesting model feel free to include more than one along with a discussion. Use your work in this notebook to prepare your write-up."
   ]
  },
  {
   "cell_type": "code",
   "execution_count": null,
   "metadata": {
    "collapsed": true
   },
   "outputs": [],
   "source": []
  }
 ],
 "metadata": {
  "anaconda-cloud": {},
  "kernelspec": {
   "display_name": "Python 2",
   "language": "python",
   "name": "python2"
  },
  "language_info": {
   "codemirror_mode": {
    "name": "ipython",
    "version": 2
   },
   "file_extension": ".py",
   "mimetype": "text/x-python",
   "name": "python",
   "nbconvert_exporter": "python",
   "pygments_lexer": "ipython2",
   "version": "2.7.13"
  }
 },
 "nbformat": 4,
 "nbformat_minor": 1
}
