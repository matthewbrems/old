{
 "cells": [
  {
   "cell_type": "markdown",
   "metadata": {},
   "source": [
    "\n",
    "# Getting started\n",
    "\n",
    "Once you've chosen your scenario, download the data from the Iowa website in csv format. Start by loading the data with pandas. You may need to parse the date columns appropriately."
   ]
  },
  {
   "cell_type": "markdown",
   "metadata": {},
   "source": [
    "## Problem Statement:\n",
    "### Given the Iowa Liquor Sales dataset, the goal is to determine the best location for a new store based on store performance. Models will be created for breakdowns by city, county, and zip code. Whichever model achieves the lowest MSE (along with a high Rsquared score) will be used to select stores and assess their performance. Stores will receive predicted sales for 2015 and 2016, along with the actual sales for 2015 for comparison.\n"
   ]
  },
  {
   "cell_type": "code",
   "execution_count": 1,
   "metadata": {
    "collapsed": false
   },
   "outputs": [],
   "source": [
    "import pandas as pd\n",
    "\n",
    "import numpy as np\n",
    "## Load the data into a DataFrame\n",
    "liquor = pd.read_csv('../../../../Iowa_Liquor_sales_sample_10pct.csv')[['Store Number',\n",
    "               'Date',\n",
    "               'City',\n",
    "               'Zip Code',\n",
    "               'County Number',\n",
    "               'County',\n",
    "               'Bottle Volume (ml)', \n",
    "               'State Bottle Cost', \n",
    "               'State Bottle Retail', \n",
    "               'Bottles Sold', \n",
    "               'Sale (Dollars)', \n",
    "               'Volume Sold (Liters)', \n",
    "               'Volume Sold (Gallons)']]\n"
   ]
  },
  {
   "cell_type": "code",
   "execution_count": 2,
   "metadata": {
    "collapsed": false
   },
   "outputs": [],
   "source": [
    "## Make necessary column modifications\n",
    "\n",
    "## Transform the dates\n",
    "liquor[\"Date\"] = pd.to_datetime(liquor[\"Date\"], format=\"%m/%d/%Y\")\n",
    "liquor[\"Year\"] = liquor.Date.dt.year\n",
    "liquor[\"Month\"] = liquor.Date.dt.month\n",
    "\n",
    "## I'm creating functions for a few different things\n",
    "## that I'll be able to reuse when I import the full dataset\n",
    "def  clean_columns(table):\n",
    "    table.columns = [x.replace(' ', '_') for x in table.columns]\n",
    "    table.columns = [x.replace(')', '') for x in table.columns]\n",
    "    table.columns = [x.replace('(', '') for x in table.columns]\n",
    "    table.columns = [x.lower()  for x in table.columns]  \n",
    "    table.city = liquor.city.str.upper()   #capitalize all cities and counties\n",
    "    table.county = table.county.str.upper()\n",
    "    ## remove dollar sign from monetary columns and convert to float\n",
    "    for column in ('sale_dollars', 'state_bottle_retail', 'state_bottle_cost'):\n",
    "        table[column] = table[column].str.replace('$','').astype(np.float64)\n",
    "    ## convert to float\n",
    "    table['bottles_sold'] = table['bottles_sold'].astype(np.float64)\n",
    "\n",
    "clean_columns(liquor)"
   ]
  },
  {
   "cell_type": "code",
   "execution_count": 3,
   "metadata": {
    "collapsed": false
   },
   "outputs": [],
   "source": [
    "## check: missing values, dtypes, df shape, describe, unique values, duplicates\n",
    "\n",
    "def eda(dataframe):\n",
    "    \n",
    "    print \"missing values \\n\", dataframe.isnull().sum()## count number of null values per column\n",
    "    print ''\n",
    "    print \"dataframe types \\n\", dataframe.dtypes       ## list data type of each column\n",
    "    print ''\n",
    "    print \"dataframe shape \\n\", dataframe.shape        ## rows by columns\n",
    "    print ''\n",
    "    print \"dataframe describe \\n\", dataframe.describe()## stats -- mean, min, max, etc.. \n",
    "    print ''\n",
    "    for item in dataframe:                             ## count number of unique values per column\n",
    "        print item, '= ', dataframe[item].nunique()\n",
    "    print ''\n",
    "    print 'num duplicates:', dataframe.duplicated().sum()\n",
    "\n",
    "# eda(liquor)"
   ]
  },
  {
   "cell_type": "code",
   "execution_count": 4,
   "metadata": {
    "collapsed": false
   },
   "outputs": [
    {
     "name": "stdout",
     "output_type": "stream",
     "text": [
      "num duplicates: 0\n"
     ]
    }
   ],
   "source": [
    "## As a result of the EDA function, \n",
    "## I will drop duplicates\n",
    "## & fill in county names\n",
    "\n",
    "## drop duplicate rows\n",
    "liquor.drop_duplicates(inplace=True)\n",
    "print 'num duplicates:', liquor.duplicated().sum()\n",
    "\n",
    "## create a lookup table for all filled in counties, zip_codes\n",
    "## that can be used to fill in any counties have a zip code but no name\n",
    "county_lookup = liquor[['zip_code','county']][liquor.county.isnull()==False]\n",
    "county_lookup.drop_duplicates(inplace=True)   # make sure there's only one of each county, drop dupes\n",
    "\n",
    "## in addition to the lookup table, I'm using the file below\n",
    "## to help fill in missing county names\n",
    "iowa_zips = pd.read_csv('../../../../iowa_zips.csv')\n",
    "iowa_zips.columns = [c.replace(' ', '_') for c in iowa_zips.columns]\n",
    "\n",
    "## next cell will update county names"
   ]
  },
  {
   "cell_type": "code",
   "execution_count": 5,
   "metadata": {
    "collapsed": false
   },
   "outputs": [
    {
     "name": "stdout",
     "output_type": "stream",
     "text": [
      "missing values \n",
      "index                     0\n",
      "store_number              0\n",
      "date                      0\n",
      "city                      0\n",
      "zip_code                  0\n",
      "county_number          1061\n",
      "county                    0\n",
      "bottle_volume_ml          0\n",
      "state_bottle_cost         0\n",
      "state_bottle_retail       0\n",
      "bottles_sold              0\n",
      "sale_dollars              0\n",
      "volume_sold_liters        0\n",
      "volume_sold_gallons       0\n",
      "year                      0\n",
      "month                     0\n",
      "dtype: int64\n",
      "\n",
      "dataframe types \n",
      "index                           int64\n",
      "store_number                    int64\n",
      "date                   datetime64[ns]\n",
      "city                           object\n",
      "zip_code                       object\n",
      "county_number                 float64\n",
      "county                         object\n",
      "bottle_volume_ml                int64\n",
      "state_bottle_cost             float64\n",
      "state_bottle_retail           float64\n",
      "bottles_sold                  float64\n",
      "sale_dollars                  float64\n",
      "volume_sold_liters            float64\n",
      "volume_sold_gallons           float64\n",
      "year                            int64\n",
      "month                           int64\n",
      "dtype: object\n",
      "\n",
      "dataframe shape \n",
      "(268501, 16)\n",
      "\n",
      "dataframe describe \n",
      "               index   store_number  county_number  bottle_volume_ml  \\\n",
      "count  268501.000000  268501.000000  267440.000000     268501.000000   \n",
      "mean   135079.162152    3592.682135      57.223901        925.663052   \n",
      "std     78216.826761     947.508435      27.345828        494.102242   \n",
      "min         0.000000    2106.000000       1.000000         50.000000   \n",
      "25%     67302.000000    2604.000000      31.000000        750.000000   \n",
      "50%    134886.000000    3723.000000      62.000000        750.000000   \n",
      "75%    202760.000000    4382.000000      77.000000       1000.000000   \n",
      "max    270954.000000    9023.000000      99.000000       6000.000000   \n",
      "\n",
      "       state_bottle_cost  state_bottle_retail   bottles_sold   sale_dollars  \\\n",
      "count      268501.000000        268501.000000  268501.000000  268501.000000   \n",
      "mean            9.787527            14.697124       9.886321     129.201241   \n",
      "std             7.069616            10.603915      24.128342     384.556052   \n",
      "min             0.890000             1.340000       1.000000       1.340000   \n",
      "25%             5.500000             8.250000       2.000000      30.480000   \n",
      "50%             8.000000            12.270000       6.000000      70.560000   \n",
      "75%            11.960000            17.940000      12.000000     135.000000   \n",
      "max           425.000000           637.500000    2508.000000   36392.400000   \n",
      "\n",
      "       volume_sold_liters  volume_sold_gallons           year          month  \n",
      "count       268501.000000        268501.000000  268501.000000  268501.000000  \n",
      "mean             9.002011             2.378283    2015.193351       5.820571  \n",
      "std             29.019580             7.666155       0.394927       3.621358  \n",
      "min              0.100000             0.030000    2015.000000       1.000000  \n",
      "25%              1.500000             0.400000    2015.000000       3.000000  \n",
      "50%              5.250000             1.390000    2015.000000       5.000000  \n",
      "75%             10.500000             2.770000    2015.000000       9.000000  \n",
      "max           2508.000000           662.540000    2016.000000      12.000000  \n",
      "\n",
      "index =  268501\n",
      "store_number =  1400\n",
      "date =  274\n",
      "city =  379\n",
      "zip_code =  415\n",
      "county_number =  99\n",
      "county =  99\n",
      "bottle_volume_ml =  29\n",
      "state_bottle_cost =  1086\n",
      "state_bottle_retail =  1112\n",
      "bottles_sold =  137\n",
      "sale_dollars =  6580\n",
      "volume_sold_liters =  265\n",
      "volume_sold_gallons =  261\n",
      "year =  2\n",
      "month =  12\n",
      "\n",
      "num duplicates: 0\n"
     ]
    }
   ],
   "source": [
    "## I spent a while trying to figure out how to update\n",
    "## values in the pandas dataframe, but was very\n",
    "## unsuccessful. I decided to run the updates using SQL instead.\n",
    "\n",
    "## set up connection to SQLalchemy\n",
    "from sqlalchemy import create_engine\n",
    "engine = create_engine('sqlite:///:memory:')\n",
    "conn = engine.connect()\n",
    "\n",
    "## push dataframes into sql tables\n",
    "liquor.to_sql('liquor', engine)\n",
    "county_lookup.to_sql('county_lookup', engine)\n",
    "iowa_zips.to_sql('iowa_zips', engine)\n",
    "\n",
    "## run updates to fill in county names by matching zip_codes to lookup data\n",
    "q1 = 'update liquor set county = (select upper(county) from county_lookup where county_lookup.zip_code = liquor.zip_code) where county is null;'\n",
    "q2 = 'update liquor set county = (select upper(County) from iowa_zips where iowa_zips.Zip_Code = liquor.zip_code) where county is null;'\n",
    "q3 = 'update liquor set county = null where zip_code not in (select Zip_Code from iowa_zips) ;'\n",
    "\n",
    "conn.execute(q1)\n",
    "conn.execute(q2)\n",
    "\n",
    "## pull sql table back into a pandas df\n",
    "liquor = pd.read_sql_table('liquor',engine)\n",
    "\n",
    "## close sql connection\n",
    "conn.close()\n",
    "\n",
    "eda(liquor)"
   ]
  },
  {
   "cell_type": "code",
   "execution_count": 6,
   "metadata": {
    "collapsed": false
   },
   "outputs": [],
   "source": [
    "## all are filled in!\n",
    "\n",
    "## and now i'll export the data to be used for mapping in tableau\n",
    "# liquor.to_csv('../../../../Iowa_Liquor_sales_sample_10pct_CLEAN.csv') \n",
    "\n",
    "## because i'm neurotic, found coordinates for counties that couldn't be mapped in tableau\n",
    "# https://dom.iowa.gov/document/iowa-county-codes-and-coordinates"
   ]
  },
  {
   "cell_type": "markdown",
   "metadata": {},
   "source": [
    "# Explore the data\n",
    "\n",
    "Perform some exploratory statistical analysis and make some plots, such as histograms of transaction totals, bottles sold, etc."
   ]
  },
  {
   "cell_type": "code",
   "execution_count": 7,
   "metadata": {
    "collapsed": false
   },
   "outputs": [],
   "source": [
    "import seaborn as sns\n",
    "import matplotlib.pyplot as plt\n",
    "%matplotlib inline"
   ]
  },
  {
   "cell_type": "code",
   "execution_count": 8,
   "metadata": {
    "collapsed": false
   },
   "outputs": [
    {
     "data": {
      "image/png": "[encoded data removed]",
      "text/plain": [
       "<matplotlib.figure.Figure at 0x11ae044d0>"
      ]
     },
     "metadata": {},
     "output_type": "display_data"
    },
    {
     "data": {
      "image/png": "[encoded data removed]",
      "text/plain": [
       "<matplotlib.figure.Figure at 0x11b00ac50>"
      ]
     },
     "metadata": {},
     "output_type": "display_data"
    },
    {
     "data": {
      "image/png": "[encoded data removed]",
      "text/plain": [
       "<matplotlib.figure.Figure at 0x11b6883d0>"
      ]
     },
     "metadata": {},
     "output_type": "display_data"
    },
    {
     "data": {
      "image/png": "[encoded data removed]",
      "text/plain": [
       "<matplotlib.figure.Figure at 0x11caf3b10>"
      ]
     },
     "metadata": {},
     "output_type": "display_data"
    },
    {
     "data": {
      "image/png": "[encoded data removed]",
      "text/plain": [
       "<matplotlib.figure.Figure at 0x11c5cb510>"
      ]
     },
     "metadata": {},
     "output_type": "display_data"
    }
   ],
   "source": [
    "## to see what we're daeling with, plot the sale_dollars, bottles_sold, state_bottle_retail\n",
    "## filters on sale_dollar amounts leave out outliers to get a closer view of the rest of the data\n",
    "\n",
    "sns.distplot(liquor['sale_dollars'])\n",
    "plt.show()\n",
    "sns.distplot(liquor['sale_dollars'][liquor.sale_dollars <1000])\n",
    "plt.show()\n",
    "sns.distplot(liquor['bottles_sold'][liquor.sale_dollars <100])\n",
    "plt.show()\n",
    "sns.distplot(liquor['volume_sold_liters'][liquor.sale_dollars <100])\n",
    "plt.show()\n",
    "sns.distplot(liquor['state_bottle_retail'][liquor.sale_dollars <100])\n",
    "plt.show()"
   ]
  },
  {
   "cell_type": "markdown",
   "metadata": {},
   "source": [
    "From these graphs, it appears that state_bottle_retail, volume_sold_liters, and bottles_sold could have some sort of relationship, so I'll try to explore that further to see if they are what I should build my model on."
   ]
  },
  {
   "cell_type": "code",
   "execution_count": 9,
   "metadata": {
    "collapsed": false
   },
   "outputs": [
    {
     "data": {
      "text/plain": [
       "<matplotlib.text.Text at 0x11c5a7a90>"
      ]
     },
     "execution_count": 9,
     "metadata": {},
     "output_type": "execute_result"
    },
    {
     "data": {
      "image/png": "[encoded data removed]",
      "text/plain": [
       "<matplotlib.figure.Figure at 0x11cf682d0>"
      ]
     },
     "metadata": {},
     "output_type": "display_data"
    }
   ],
   "source": [
    "# to begin looking at possible features to select, create scatter plots of various variable relationships\n",
    "plt.close('all')\n",
    "fig, ((ax1, ax2), (ax3, ax4)) = plt.subplots(nrows=2, ncols=2,figsize=(12,10))\n",
    "plt.tight_layout(pad=5, w_pad=5, h_pad=5)\n",
    "\n",
    "ax1.scatter(liquor.bottles_sold,liquor.sale_dollars)\n",
    "ax1.set_xlabel('Bottles Sold')\n",
    "ax1.set_ylabel('Sale Amount $')\n",
    "ax1.set_title('Bottles Sold and Sale Amount')\n",
    "\n",
    "ax2.scatter(liquor.volume_sold_liters,liquor.sale_dollars)\n",
    "ax2.set_xlabel('Volume Sold (L)')\n",
    "ax2.set_ylabel('Sale Amount $')\n",
    "ax2.set_title('Volume Sold and Sale Amount')\n",
    "\n",
    "ax3.scatter(liquor.bottles_sold,liquor.volume_sold_liters)\n",
    "ax3.set_xlabel('Bottles Sold')\n",
    "ax3.set_ylabel('Volume Sold (L)')\n",
    "ax3.set_title('Bottles Sold and Volume Sold')\n",
    "\n",
    "ax4.scatter(liquor.bottles_sold,liquor.state_bottle_retail)\n",
    "ax4.set_xlabel('Bottles Sold')\n",
    "ax4.set_ylabel('Price per Bottle')\n",
    "ax4.set_title('Price per Bottle vs # Bottles Sold')\n",
    "\n"
   ]
  },
  {
   "cell_type": "markdown",
   "metadata": {
    "collapsed": true
   },
   "source": [
    "These graphs indicate:\n",
    "1) Bottles Sold vs Sale Amount $: this isn't surprising, but the number of bottles sold affects the sale amount\n",
    "2) Price per bottle vs Bottles Sold: Stores seem to be selling much more of the lesser expensive alochol than the very pricey bottles\n",
    "3) Bottles Sold vs Volume Sold: Generally, volume and bottles go hand in hand, but the slope of the two major lines indicate that generally the number of bottles sold is lower than the number of liters, which just means that most bottles are over a liter.\n",
    "4) Volume Sold and Sale Amount: Pretty similar to the first graph, showing that the more that is sold, the more the sales increase."
   ]
  },
  {
   "cell_type": "markdown",
   "metadata": {},
   "source": [
    "# Record your findings\n",
    "\n",
    "Be sure to write out any observations from your exploratory analysis.\n"
   ]
  },
  {
   "cell_type": "markdown",
   "metadata": {},
   "source": [
    "First off, I want to note that the column being used, state_bottle_retail, does NOT reflect the sales of the store--this figure is the amount that they paid to the state for their inventory. These analyses then are assuming that they're selling what they buy.\n",
    "\n",
    "I'm definitely interested to see what profits are being made and breaking some of the features down. Overall, nothing surprising was uncovered through initial exploratory analysis.\n",
    "\n",
    "For outliers, each of my graphs clearly shows that there are a few data points with sales > 20000, so I will exclude them."
   ]
  },
  {
   "cell_type": "markdown",
   "metadata": {},
   "source": [
    "# Mine the data\n",
    "\n",
    "Now you are ready to compute the variables you will use for your regression from the data. For example, you may want to compute total sales per store from Jan to March of 2015, mean price per bottle, etc. Refer to the readme for more ideas appropriate to your scenario.\n",
    "\n",
    "Pandas is your friend for this task. Take a look at the operations here for ideas on how to make the best use of pandas and feel free to search for blog and Stack Overflow posts to help you group data by certain variables and compute sums, means, etc. You may find it useful to create a new data frame to house this summary data.\n",
    " \n"
   ]
  },
  {
   "cell_type": "code",
   "execution_count": 10,
   "metadata": {
    "collapsed": false
   },
   "outputs": [
    {
     "ename": "NameError",
     "evalue": "name 'liquor_by_zip' is not defined",
     "output_type": "error",
     "traceback": [
      "\u001b[0;31m---------------------------------------------------------------------------\u001b[0m",
      "\u001b[0;31mNameError\u001b[0m                                 Traceback (most recent call last)",
      "\u001b[0;32m<ipython-input-10-be233a25ab41>\u001b[0m in \u001b[0;36m<module>\u001b[0;34m()\u001b[0m\n\u001b[1;32m      9\u001b[0m \u001b[0;34m\u001b[0m\u001b[0m\n\u001b[1;32m     10\u001b[0m \u001b[0;34m\u001b[0m\u001b[0m\n\u001b[0;32m---> 11\u001b[0;31m \u001b[0mliquor_by_zip\u001b[0m\u001b[0;34m.\u001b[0m\u001b[0mfillna\u001b[0m\u001b[0;34m(\u001b[0m\u001b[0;36m0\u001b[0m\u001b[0;34m,\u001b[0m\u001b[0minplace\u001b[0m\u001b[0;34m=\u001b[0m\u001b[0mTrue\u001b[0m\u001b[0;34m)\u001b[0m\u001b[0;34m\u001b[0m\u001b[0m\n\u001b[0m\u001b[1;32m     12\u001b[0m \u001b[0mliquor_by_city\u001b[0m\u001b[0;34m.\u001b[0m\u001b[0mfillna\u001b[0m\u001b[0;34m(\u001b[0m\u001b[0;36m0\u001b[0m\u001b[0;34m,\u001b[0m\u001b[0minplace\u001b[0m\u001b[0;34m=\u001b[0m\u001b[0mTrue\u001b[0m\u001b[0;34m)\u001b[0m\u001b[0;34m\u001b[0m\u001b[0m\n\u001b[1;32m     13\u001b[0m \u001b[0mliquor_by_county\u001b[0m\u001b[0;34m.\u001b[0m\u001b[0mfillna\u001b[0m\u001b[0;34m(\u001b[0m\u001b[0;36m0\u001b[0m\u001b[0;34m,\u001b[0m\u001b[0minplace\u001b[0m\u001b[0;34m=\u001b[0m\u001b[0mTrue\u001b[0m\u001b[0;34m)\u001b[0m\u001b[0;34m\u001b[0m\u001b[0m\n",
      "\u001b[0;31mNameError\u001b[0m: name 'liquor_by_zip' is not defined"
     ]
    }
   ],
   "source": [
    "# exclude the sales >+ 20000 as determined by graphs\n",
    "liquor = liquor[liquor.sale_dollars < 20000]\n",
    "\n",
    "# create a column for 2015 sales, and both 2015, 2016 Q1 sales\n",
    "# I plan to include 2015Q1 as a feature and then run 2016Q1 to predict what 2016 FY sales will be\n",
    "liquor['sales_2015'] = liquor['sale_dollars'][liquor.year==2015]\n",
    "liquor['sales_1Q15'] = liquor['sale_dollars'][liquor.year==2015 ][liquor.month.isin([1,2,3])]\n",
    "liquor['sales_1Q16'] = liquor['sale_dollars'][liquor.year==2016 ][liquor.month.isin([1,2,3])]\n",
    "\n",
    "\n",
    "liquor_by_zip.fillna(0,inplace=True)\n",
    "liquor_by_city.fillna(0,inplace=True)\n",
    "liquor_by_county.fillna(0,inplace=True)"
   ]
  },
  {
   "cell_type": "code",
   "execution_count": null,
   "metadata": {
    "collapsed": false
   },
   "outputs": [],
   "source": [
    "# To figure out whether I look for the best location by zip, city, or county, \n",
    "# I'll build a model for each and choose what I think is best\n",
    "\n",
    "aggs = {'bottles_sold': np.sum, 'volume_sold_liters': np.sum, 'state_bottle_retail' : np.sum, 'sales_2015' : np.sum, 'sales_1Q15' : np.sum, 'sales_1Q16' : np.sum, 'store_number' : pd.Series.nunique}\n",
    "aggs_store = {'bottles_sold': np.sum, 'volume_sold_liters': np.sum, 'state_bottle_retail' : np.sum, 'sales_2015' : np.sum, 'sales_1Q15' : np.sum, 'sales_1Q16' : np.sum}\n",
    "# create a sub-df of liquor to see figures on the store level\n",
    "liquor_by_store = liquor[['store_number',\n",
    "                          'sales_2015',\n",
    "                          'sales_1Q15',\n",
    "                          'sales_1Q16',                          \n",
    "                          'bottles_sold', \n",
    "                          'volume_sold_liters',\n",
    "                          'state_bottle_retail']].groupby(liquor.store_number).agg(aggs_store)\n",
    "\n",
    "# create a sub-df of liquor to see figures on the zip_code level\n",
    "liquor_by_zip = liquor[['zip_code',\n",
    "                          'sales_2015',\n",
    "                          'sales_1Q15',\n",
    "                          'sales_1Q16',                          \n",
    "                          'bottles_sold', \n",
    "                          'state_bottle_retail',\n",
    "                        'volume_sold_liters',\n",
    "                       'store_number']].groupby(liquor.zip_code).agg(aggs)\n",
    "\n",
    "# create a sub-df of liquor to see figures on the city level\n",
    "liquor_by_city = liquor[['city',\n",
    "                          'sales_2015',\n",
    "                          'sales_1Q15',\n",
    "                          'sales_1Q16',                          \n",
    "                          'bottles_sold', \n",
    "                          'state_bottle_retail',\n",
    "                         'volume_sold_liters',\n",
    "                        'store_number']].groupby(liquor.city).agg(aggs)\n",
    "\n",
    "# create a sub-df of liquor to see figures on the county level\n",
    "liquor_by_county = liquor[['county',\n",
    "                          'sales_2015',\n",
    "                          'sales_1Q15',\n",
    "                          'sales_1Q16',                          \n",
    "                          'bottles_sold', \n",
    "                          'state_bottle_retail',\n",
    "                           'volume_sold_liters',\n",
    "                          'store_number']].groupby(liquor.county).agg(aggs)\n",
    "\n",
    "# add some more stats to the tables to consider for feature selection\n",
    "for liquor_table in (liquor_by_zip, liquor_by_city, liquor_by_county, liquor_by_store):\n",
    "    liquor_table['avg_price_per_bottle'] = liquor_table.sales_2015 / liquor_table.bottles_sold\n",
    "    liquor_table['avg_price_per_liter'] = liquor_table.sales_2015 / liquor_table.volume_sold_liters\n"
   ]
  },
  {
   "cell_type": "markdown",
   "metadata": {},
   "source": [
    "# Refine the data\n",
    "\n",
    "Look for any statistical relationships, correlations, or other relevant properties of the dataset."
   ]
  },
  {
   "cell_type": "code",
   "execution_count": null,
   "metadata": {
    "collapsed": false
   },
   "outputs": [],
   "source": [
    "# now that we have some more features, look at the correlation between variables for each breakdown\n",
    "\n",
    "liquor_correlation = liquor.corr()\n",
    "sns.heatmap(liquor_correlation, vmax=.8, square=True)\n",
    "plt.title('Ungrouped')\n",
    "plt.show()\n",
    "\n",
    "liquor_zip_correlation = liquor_by_zip.corr()\n",
    "sns.heatmap(liquor_zip_correlation, vmax=.8, square=True)\n",
    "plt.title('Grouped by Zip')\n",
    "plt.show()\n",
    "\n",
    "liquor_city_correlation = liquor_by_city.corr()\n",
    "sns.heatmap(liquor_city_correlation, vmax=.8, square=True)\n",
    "plt.title('Grouped by City')\n",
    "plt.show()\n",
    "liquor_county_correlation = liquor_by_county.corr()\n",
    "sns.heatmap(liquor_county_correlation, vmax=.8, square=True)\n",
    "plt.title('Grouped by County')\n",
    "plt.show()\n"
   ]
  },
  {
   "cell_type": "code",
   "execution_count": null,
   "metadata": {
    "collapsed": false
   },
   "outputs": [],
   "source": [
    "sns.lmplot(x=\"bottles_sold\", y=\"sales_2015\", data=liquor_by_zip)\n",
    "sns.lmplot(x=\"state_bottle_retail\", y=\"sales_2015\", data=liquor_by_zip)"
   ]
  },
  {
   "cell_type": "markdown",
   "metadata": {},
   "source": [
    "# Build your models\n",
    "\n",
    "Using scikit-learn or statsmodels, build the necessary models for your scenario. Evaluate model fit."
   ]
  },
  {
   "cell_type": "code",
   "execution_count": null,
   "metadata": {
    "collapsed": false
   },
   "outputs": [],
   "source": [
    "import statsmodels.formula.api as sm #import statsmodels\n",
    "from sklearn import linear_model, metrics\n"
   ]
  },
  {
   "cell_type": "code",
   "execution_count": null,
   "metadata": {
    "collapsed": false
   },
   "outputs": [],
   "source": [
    "## Build a separate model for each zip, city, and county grouped sub-dfs\n",
    "# features      = [u'bottles_sold', u'volume_sold_liters', u'state_bottle_retail', u'avg_price_per_liter','avg_price_per_bottle','sales_1Q15']\n",
    "\n",
    "features      = ['bottles_sold','state_bottle_retail','sales_1Q15']\n",
    "\n",
    "alpha_range    = 10.**np.arange(-2, 3)\n",
    "\n",
    "liquor_by_zip.fillna(0,inplace=True)\n",
    "liquor_by_city.fillna(0,inplace=True)\n",
    "liquor_by_county.fillna(0,inplace=True)\n",
    "\n",
    "# define the subsets that we'll use to train the models\n",
    "subset_zip     = liquor_by_zip.sample(frac=0.1, replace=False) \n",
    "subset_city    = liquor_by_city.sample(frac=0.1, replace=False) \n",
    "subset_county  = liquor_by_county.sample(frac=0.1, replace=False) \n",
    "\n",
    "# define the training data for each model\n",
    "X_train_zip    = subset_zip[features]\n",
    "y_train_zip    = subset_zip['sales_2015']\n",
    "X_train_city   = subset_city[features]\n",
    "y_train_city   = subset_city['sales_2015']\n",
    "X_train_county = subset_county[features]\n",
    "y_train_county = subset_county['sales_2015']\n",
    "\n",
    "lm = linear_model.RidgeCV(alphas=alpha_range) # Try different alphas \n",
    "\n",
    "model_by_zip = lm.fit(X_train_zip, y_train_zip) #and then fit a line WITH REGULARIZATION\n",
    "model_by_city = lm.fit(X_train_city, y_train_city)\n",
    "model_by_county = lm.fit(X_train_county, y_train_county)\n",
    "\n",
    "predictions_train_zip = model_by_zip.predict(X_train_zip) #we then generate predicted values _just based on the X_ \n",
    "predictions_train_city = model_by_city.predict(X_train_city) #we then generate predicted values _just based on the X_ \n",
    "predictions_train_county = model_by_county.predict(X_train_county) #we then generate predicted values _just based on the X_ \n",
    "\n",
    "zip_train_score = model_by_zip.score(X_train_zip, y_train_zip)\n",
    "city_train_score = model_by_city.score(X_train_city, y_train_city)\n",
    "county_train_score = model_by_county.score(X_train_county, y_train_county)\n",
    "\n",
    "zip_train_mse = np.sqrt(metrics.mean_squared_error(y_train_zip, predictions_train_zip))\n",
    "city_train_mse = np.sqrt(metrics.mean_squared_error(y_train_city, predictions_train_city))\n",
    "county_train_mse = np.sqrt(metrics.mean_squared_error(y_train_county, predictions_train_county))\n",
    "\n",
    "print 'Zip code model:  training set score = ', zip_train_score, ' //  MSE = ', zip_train_mse\n",
    "print ''\n",
    "print 'City model:      training set score = ', city_train_score, ' //  MSE = ', city_train_mse\n",
    "print ''\n",
    "print 'County model:    training set score = ', county_train_score, ' //  MSE = ', county_train_mse\n",
    "\n",
    "plt.close('all')\n",
    "fig, ((ax1, ax2, ax3)) = plt.subplots(nrows=1, ncols=3,figsize=(10,8))\n",
    "\n",
    "ax1.scatter(y_train_zip,predictions_train_zip)\n",
    "ax2.scatter(y_train_zip,predictions_train_zip)\n",
    "ax3.scatter(y_train_zip,predictions_train_zip)\n"
   ]
  },
  {
   "cell_type": "code",
   "execution_count": null,
   "metadata": {
    "collapsed": false
   },
   "outputs": [],
   "source": [
    "# Apply to the whole data set\n",
    "X_zip = liquor_by_zip[features]\n",
    "y_zip = liquor_by_zip['sales_2015']\n",
    "X_city = liquor_by_city[features]\n",
    "y_city = liquor_by_city['sales_2015']\n",
    "X_county = liquor_by_county[features]\n",
    "y_county = liquor_by_county['sales_2015']\n",
    "\n",
    "zip_score = model_by_zip.score(X_zip, y_zip)\n",
    "city_score = model_by_city.score(X_city, y_city)\n",
    "county_score = model_by_county.score(X_county, y_county)\n",
    "\n",
    "zip_predictions = model_by_zip.predict(X_zip)\n",
    "city_predictions = model_by_city.predict(X_city)\n",
    "county_predictions = model_by_county.predict(X_county)\n",
    "\n",
    "zip_mse = np.sqrt(metrics.mean_squared_error(y_zip, zip_predictions))\n",
    "city_mse = np.sqrt(metrics.mean_squared_error(y_city, city_predictions))\n",
    "county_mse = np.sqrt(metrics.mean_squared_error(y_county, county_predictions))\n",
    "\n",
    "print 'Zip code model:  full df score = ', zip_score, '  //  MSE = ', zip_mse\n",
    "print ''\n",
    "print 'City model:      full df score = ', city_score, '  //  MSE = ', city_mse\n",
    "print ''\n",
    "print 'County model:    full df score = ', county_score, '  //  MSE = ', county_mse\n",
    "\n"
   ]
  },
  {
   "cell_type": "markdown",
   "metadata": {},
   "source": [
    "I've decided to go with zip code as my location factor because its MSE is lowest for both train and full datasets. I think that having many more zip codes than cities or counties helps with the model. I'm also afraid of 99% scores and assume it must be overfit.\n",
    "\n",
    "Next, I'll take the top zipcode by predicted performance and use that to find the best performing stores."
   ]
  },
  {
   "cell_type": "code",
   "execution_count": null,
   "metadata": {
    "collapsed": false
   },
   "outputs": [],
   "source": [
    "liquor_by_zip['predictions_2015fy'] = model_by_zip.predict(X_zip)\n",
    "liquor_by_zip['predictions_2016fy'] = model_by_zip.predict(liquor_by_zip[['bottles_sold','state_bottle_retail','sales_1Q16']])\n",
    "\n",
    "liquor_by_zip[['predictions_2016fy','predictions_2015fy','sales_2015']].sort_values('predictions_2015fy',ascending=False)[0:3]\n",
    "\n",
    "## Top zip codes by predicted 2015 sales"
   ]
  },
  {
   "cell_type": "code",
   "execution_count": null,
   "metadata": {
    "collapsed": false,
    "scrolled": false
   },
   "outputs": [],
   "source": [
    "## Top 2 zip codes are both in Des Moines, so both will be analyzed\n",
    "\n",
    "#########\n",
    "# 50314 #\n",
    "#########\n",
    "store_zip_50314 = liquor['store_number'][liquor.zip_code=='50314']\n",
    "store_zip_50314 = store_zip_50314.unique().tolist()\n",
    "store_zip_50314 = [int(x) for x in store_zip_50314]\n",
    "\n",
    "liquor_50314 = pd.DataFrame(liquor_by_store.loc[x] for x in store_zip_50314)\n",
    "\n",
    "X = liquor_50314[features]\n",
    "y = liquor_50314['sales_2015']\n",
    "model_50314 = linear_model.RidgeCV(cv=5).fit(X,y)\n",
    "print '50314 model score = ', model_50314.score(X,y)\n",
    "print '50314 alpha =', model_50314.alpha_\n",
    "\n",
    "#########\n",
    "# 50320 #\n",
    "#########\n",
    "store_zip_50320 = liquor['store_number'][liquor.zip_code=='50320']\n",
    "store_zip_50320 = store_zip_50320.unique().tolist()\n",
    "store_zip_50320 = [int(x) for x in store_zip_50320]\n",
    "\n",
    "\n",
    "liquor_50320 = pd.DataFrame(liquor_by_store.loc[x] for x in store_zip_50320)\n",
    "\n",
    "X = liquor_50320[features]\n",
    "y = liquor_50320['sales_2015']\n",
    "model_50320 = linear_model.RidgeCV(cv=5).fit(X,y)\n",
    "print '50320 model score = ', model_50320.score(X,y)\n",
    "print '50320 alpha =', model_50320.alpha_\n",
    "\n",
    "\n",
    "\n",
    "\n",
    "## I'm going to apply this model to the ENTIRE dataset and get predictions"
   ]
  },
  {
   "cell_type": "markdown",
   "metadata": {},
   "source": [
    "## Final Run -- Full Dataset"
   ]
  },
  {
   "cell_type": "code",
   "execution_count": null,
   "metadata": {
    "collapsed": false
   },
   "outputs": [],
   "source": [
    "## I'm now going to run through the full dataset and see how the models turn out. \n",
    "## This cell mimicks the operations performed on the reduced dataset\n",
    "\n",
    "liquor_full = pd.read_csv('../../../../Iowa_Liquor_Sales_reduced.csv',low_memory=False)\n",
    "liquor_full = liquor_full[liquor_full['Zip Code'].isin(['50314','50320'])]\n",
    "\n",
    "liquor_full[\"Date\"] = pd.to_datetime(liquor_full[\"Date\"], format=\"%m/%d/%Y\")\n",
    "liquor_full[\"Year\"] = liquor_full.Date.dt.year\n",
    "liquor_full[\"Month\"] = liquor_full.Date.dt.month"
   ]
  },
  {
   "cell_type": "code",
   "execution_count": null,
   "metadata": {
    "collapsed": false
   },
   "outputs": [],
   "source": [
    "# Transform the dates\n",
    "\n",
    "clean_columns(liquor_full)\n",
    "liquor_full.drop_duplicates(inplace=True)\n",
    "liquor_full = liquor_full[liquor_full.sale_dollars < 20000]\n",
    "\n",
    "print eda(liquor_full)"
   ]
  },
  {
   "cell_type": "code",
   "execution_count": null,
   "metadata": {
    "collapsed": false
   },
   "outputs": [],
   "source": [
    "liquor_full['sales_2015'] = liquor_full['sale_dollars'][liquor_full.year==2015]\n",
    "liquor_full['sales_1Q15'] = liquor_full['sale_dollars'][liquor_full.year==2015 ][liquor_full.month.isin([1,2,3])]\n",
    "liquor_full['sales_1Q16'] = liquor_full['sale_dollars'][liquor_full.year==2016 ][liquor_full.month.isin([1,2,3])]\n",
    "liquor_full['bottles_2015'] = liquor_full['bottles_sold'][liquor_full.year==2015]\n",
    "liquor_full['volume_liters_2015'] = liquor_full['volume_sold_liters'][liquor_full.year==2015]\n",
    "\n",
    "liquor_full.fillna(0,inplace=True)\n",
    "\n",
    "aggs = {'bottles_sold': np.sum, 'volume_sold_liters': np.sum, 'state_bottle_retail' : np.sum, 'sales_2015' : np.sum, 'sales_1Q15' : np.sum, 'sales_1Q16' : np.sum, 'bottles_2015': np.sum, 'volume_liters_2015' : np.sum}\n",
    "\n",
    "liquor_50314 = liquor_full[liquor_full.zip_code=='50314']\n",
    "liquor_50320 = liquor_full[liquor_full.zip_code=='50320']\n",
    "\n",
    "liquor_full_50314 = liquor_50314.groupby(liquor_50314.store_number).agg(aggs)\n",
    "liquor_full_50320 = liquor_50320.groupby(liquor_50320.store_number).agg(aggs)\n",
    "\n",
    "liquor_full_50314['avg_price_per_bottle'] = liquor_full_50314.sales_2015 / liquor_full_50314.bottles_sold\n",
    "liquor_full_50314['avg_price_per_liter'] = liquor_full_50314.sales_2015 / liquor_full_50314.volume_sold_liters\n",
    "liquor_full_50320['avg_price_per_bottle'] = liquor_full_50320.sales_2015 / liquor_full_50320.bottles_sold\n",
    "liquor_full_50320['avg_price_per_liter'] = liquor_full_50320.sales_2015 / liquor_full_50320.volume_sold_liters\n",
    "\n",
    "\n",
    "X_full_50314 = liquor_full_50314[features]\n",
    "y_full_50314 = liquor_full_50314['sales_2015']\n",
    "X_full_50320 = liquor_full_50320[features]\n",
    "y_full_50320 = liquor_full_50320['sales_2015']\n",
    "\n",
    "# run full data set for 50314 on the model built on the reduced 10% data\n",
    "predictions_50314 = model_50314.predict(X_full_50314)\n",
    "liquor_full_50314['predictions_2015'] = model_50314.predict(X_full_50314)\n",
    "print '50314 score: ', model_50314.score(X_full_50314,y_full_50314)\n",
    "\n",
    "predictions_50320 = model_50320.predict(X_full_50320)\n",
    "liquor_full_50320['predictions_2015'] = model_50320.predict(X_full_50320)\n",
    "print '50320 score: ', model_50320.score(X_full_50320,y_full_50320)\n"
   ]
  },
  {
   "cell_type": "markdown",
   "metadata": {},
   "source": [
    "# Plot your results\n",
    "\n",
    "Again make sure that you record any valuable information. For example, in the tax scenario, did you find the sales from the first three months of the year to be a good predictor of the total sales for the year? Plot the predictions versus the true values and discuss the successes and limitations of your models"
   ]
  },
  {
   "cell_type": "code",
   "execution_count": null,
   "metadata": {
    "collapsed": false
   },
   "outputs": [],
   "source": [
    "plt.scatter(y_full_50314, predictions_50314)\n",
    "plt.scatter(y_full_50320, predictions_50320)\n",
    "\n",
    "plt.ylabel(\"Predictions\")\n",
    "plt.xlabel(\"True Values\")\n",
    "plt.show()\n"
   ]
  },
  {
   "cell_type": "markdown",
   "metadata": {},
   "source": [
    "# Present the Results\n",
    "\n",
    "Present your conclusions and results. If you have more than one interesting model feel free to include more than one along with a discussion. Use your work in this notebook to prepare your write-up."
   ]
  },
  {
   "cell_type": "code",
   "execution_count": null,
   "metadata": {
    "collapsed": false
   },
   "outputs": [],
   "source": [
    "\n",
    "pd.set_option('display.float_format', lambda x: '%.3f' % x)\n",
    "\n",
    "#now predict 2016 sales\n",
    "liquor_full_50314['predictions_2016'] = model_50314.predict(liquor_full_50314[['bottles_sold','state_bottle_retail','sales_1Q16']])\n",
    "liquor_full_50320['predictions_2016'] = model_50320.predict(liquor_full_50320[['bottles_sold','state_bottle_retail','sales_1Q16']])\n",
    "\n",
    "liquor_full_50314['zip'] = '50314'\n",
    "liquor_full_50320['zip'] = '50320'\n",
    "\n",
    "liquor_full_results = liquor_full_50314.append(liquor_full_50320)\n",
    "\n",
    "\n",
    "print 'TOP PERFORMING STORES in 50314, 50320'\n",
    "final_list = liquor_full_results[['predictions_2016','predictions_2015','sales_2015','bottles_2015','volume_liters_2015']].sort_values('predictions_2016', ascending=False)\n",
    "final_list['avg_price_per_bottle'] = final_list.sales_2015 / final_list.bottles_2015\n",
    "final_list['avg_price_per_liter'] = final_list.sales_2015 / final_list.volume_liters_2015\n",
    "final_list['bottle_2016_target'] = final_list.predictions_2016 / final_list.avg_price_per_bottle\n",
    "final_list['liter_2016_target'] = final_list.predictions_2016 / final_list.avg_price_per_liter\n",
    "\n",
    "print final_list"
   ]
  },
  {
   "cell_type": "code",
   "execution_count": null,
   "metadata": {
    "collapsed": false
   },
   "outputs": [],
   "source": [
    "final_list[['sales_2015','predictions_2015','predictions_2016']].plot.bar()\n",
    "plt.title('Comparing Actual 2015 Sales, & 2015, 2016 Predicted Sales Across Stores')\n",
    "final_list[['bottles_2015','volume_liters_2015']].plot.bar()\n",
    "plt.title('Comparing Sales, Bottles Sold, and Volume (Liters) Sold Across Stores')\n",
    "final_list[['avg_price_per_bottle','avg_price_per_liter']].plot.bar()\n",
    "plt.title('Comparing the Average Price per Bottle, Liter Across Stores')"
   ]
  },
  {
   "cell_type": "code",
   "execution_count": null,
   "metadata": {
    "collapsed": false
   },
   "outputs": [],
   "source": [
    "# What are they selling??\n",
    "\n",
    "aggs = {'sales_2015' : np.sum, 'bottles_2015' : np.sum, 'volume_liters_2015' : np.sum}\n",
    "\n",
    "top_ten = liquor_full[['category_name','sales_2015','bottles_2015','volume_liters_2015']].groupby([liquor_trim.category_name]).agg(aggs).sort_values(['sales_2015','bottles_2015'], ascending = False)[0:10]\n",
    "top_ten['category'] = top_ten.index\n",
    "\n",
    "top_ten.plot.barh()"
   ]
  },
  {
   "cell_type": "markdown",
   "metadata": {
    "collapsed": true
   },
   "source": [
    "Because of the low population of Iowa and its 'cities,' it's hard to determine more than one particular location where a new store would thrive. Des Moines, Iowa is the state's epicienter of alcohol sales--not many other locations compare. The two highest performing zip codes in terms of sales are both in Des Moines.\n",
    "\n",
    "Limitations: We don't actually have the sales of the stores; we merely have the amount they're spending on their stock. Using this metric as their sales is risky, as there's definitely a possibility they're not selling everything they're buying. We could look at spending trends and see if they decline anywhere--this could indicate where sales are slow and maybe they're having to markdown prices to rid stock."
   ]
  },
  {
   "cell_type": "markdown",
   "metadata": {},
   "source": [
    "## Executive Summary\n",
    "\n",
    "This report analyzes Iowa Liquor Sales to determine an ideal location for opening a new store based upon the performance of existing stores. The price per bottle and the number of bottles sold help define the stores’ performance. Additionally, other statistics, like average price per liter and average price per bottle, helped solidify the performance variables. Results indicate that the zip code proves to be a great indicator of sales, and that the top-performing zip codes are both in Des Moines: 50314, 50320.\n",
    "\n",
    "From the numbers available for the fifteen stores in Des Moines, we can see that two stores in particular essentially dominate the market. Aside from their position as the top performers in Des Moines, the margin by which they both outperform the rest of the stores is remarkable. Together, they make up nearly 88% of the liquor sales in these two Des Moines zip codes.\n",
    "\n",
    "With that aside, the third-best performing store has much more realistic figures for a new competitor to match. To have the second largest share of the Des Moines market, a new store should ideally aim to sell at least 115K bottles,  for  70K liters--while the two most profitable stores will be shooting for upwards of 570K, 550K to meet 2016 sales projections."
   ]
  },
  {
   "cell_type": "code",
   "execution_count": null,
   "metadata": {
    "collapsed": true
   },
   "outputs": [],
   "source": []
  }
 ],
 "metadata": {
  "anaconda-cloud": {},
  "kernelspec": {
   "display_name": "Python 2",
   "language": "python",
   "name": "python2"
  },
  "language_info": {
   "codemirror_mode": {
    "name": "ipython",
    "version": 2
   },
   "file_extension": ".py",
   "mimetype": "text/x-python",
   "name": "python",
   "nbconvert_exporter": "python",
   "pygments_lexer": "ipython2",
   "version": "2.7.13"
  }
 },
 "nbformat": 4,
 "nbformat_minor": 1
}
