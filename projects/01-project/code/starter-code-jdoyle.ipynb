{
 "cells": [
  {
   "cell_type": "markdown",
   "metadata": {},
   "source": [
    "# Project 1\n",
    "\n",
    "## Step 1: Open the `sat_scores.csv` file. Investigate the data, and answer the questions below.\n"
   ]
  },
  {
   "cell_type": "markdown",
   "metadata": {},
   "source": [
    "##### 1. What does the data describe?"
   ]
  },
  {
   "cell_type": "markdown",
   "metadata": {
    "collapsed": false
   },
   "source": [
    "2001 SAT scores by state for Math and Verbal sections, along with the percentage of high school students who took the SAT."
   ]
  },
  {
   "cell_type": "markdown",
   "metadata": {},
   "source": [
    "##### 2. Does the data look complete? Are there any obvious issues with the observations?"
   ]
  },
  {
   "cell_type": "markdown",
   "metadata": {
    "collapsed": false
   },
   "source": [
    "All of the data looks complete. There's a row that averages out all of the scores for each state, which shouldn't be included in my analysis and will have to be removed."
   ]
  },
  {
   "cell_type": "markdown",
   "metadata": {},
   "source": [
    "##### 3. Create a data dictionary for the dataset."
   ]
  },
  {
   "cell_type": "code",
   "execution_count": 16,
   "metadata": {
    "collapsed": false
   },
   "outputs": [],
   "source": [
    "## moved to after #6\n"
   ]
  },
  {
   "cell_type": "markdown",
   "metadata": {},
   "source": [
    "## Step 2: Load the data."
   ]
  },
  {
   "cell_type": "markdown",
   "metadata": {},
   "source": [
    "##### 4. Load the data into a list of lists"
   ]
  },
  {
   "cell_type": "code",
   "execution_count": 1,
   "metadata": {
    "collapsed": false
   },
   "outputs": [],
   "source": [
    "import csv\n",
    "f = open('../data/sat_scores.csv', 'rU')\n",
    "reader = csv.reader(f)\n",
    "data = [row for row in reader]\n",
    "f.close()"
   ]
  },
  {
   "cell_type": "markdown",
   "metadata": {},
   "source": [
    "##### 5. Print the data"
   ]
  },
  {
   "cell_type": "code",
   "execution_count": 2,
   "metadata": {
    "collapsed": false
   },
   "outputs": [
    {
     "name": "stdout",
     "output_type": "stream",
     "text": [
      "[['State', 'Rate', 'Verbal', 'Math'], ['CT', '82', '509', '510'], ['NJ', '81', '499', '513'], ['MA', '79', '511', '515'], ['NY', '77', '495', '505'], ['NH', '72', '520', '516'], ['RI', '71', '501', '499'], ['PA', '71', '500', '499'], ['VT', '69', '511', '506'], ['ME', '69', '506', '500'], ['VA', '68', '510', '501'], ['DE', '67', '501', '499'], ['MD', '65', '508', '510'], ['NC', '65', '493', '499'], ['GA', '63', '491', '489'], ['IN', '60', '499', '501'], ['SC', '57', '486', '488'], ['DC', '56', '482', '474'], ['OR', '55', '526', '526'], ['FL', '54', '498', '499'], ['WA', '53', '527', '527'], ['TX', '53', '493', '499'], ['HI', '52', '485', '515'], ['AK', '51', '514', '510'], ['CA', '51', '498', '517'], ['AZ', '34', '523', '525'], ['NV', '33', '509', '515'], ['CO', '31', '539', '542'], ['OH', '26', '534', '439'], ['MT', '23', '539', '539'], ['WV', '18', '527', '512'], ['ID', '17', '543', '542'], ['TN', '13', '562', '553'], ['NM', '13', '551', '542'], ['IL', '12', '576', '589'], ['KY', '12', '550', '550'], ['WY', '11', '547', '545'], ['MI', '11', '561', '572'], ['MN', '9', '580', '589'], ['KS', '9', '577', '580'], ['AL', '9', '559', '554'], ['NE', '8', '562', '568'], ['OK', '8', '567', '561'], ['MO', '8', '577', '577'], ['LA', '7', '564', '562'], ['WI', '6', '584', '596'], ['AR', '6', '562', '550'], ['UT', '5', '575', '570'], ['IA', '5', '593', '603'], ['SD', '4', '577', '582'], ['ND', '4', '592', '599'], ['MS', '4', '566', '551'], ['All', '45', '506', '514']]\n"
     ]
    }
   ],
   "source": [
    "print(data)"
   ]
  },
  {
   "cell_type": "markdown",
   "metadata": {
    "collapsed": true
   },
   "source": [
    "##### 6. Extract a list of the labels from the data, and remove them from the data."
   ]
  },
  {
   "cell_type": "code",
   "execution_count": 3,
   "metadata": {
    "collapsed": false
   },
   "outputs": [],
   "source": [
    "## numbers are in the lists as strings\n",
    "## convert to integers\n",
    "header = data[0]\n",
    "sat_scores = data[1:len(data)-1] ## don't inclue the 'All' line"
   ]
  },
  {
   "cell_type": "code",
   "execution_count": 4,
   "metadata": {
    "collapsed": false
   },
   "outputs": [],
   "source": [
    "## 3. Create a data dictionary for the dataset.\n",
    "sat_scores_dict = {}\n",
    "\n",
    "for i in header:\n",
    "    x = header.index(i)  ## need index number to select the appropriate values in sat_scores\n",
    "    temp_list = []       ## create empty list for all corresponding values to be appended to\n",
    "    for row in sat_scores:\n",
    "        temp_list.append( row[x] )  ## add the values\n",
    "    sat_scores_dict[header[x]] = temp_list  ## add the key and value list to the dictionary"
   ]
  },
  {
   "cell_type": "markdown",
   "metadata": {},
   "source": [
    "##### 7. Create a list of State names extracted from the data. (Hint: use the list of labels to index on the State column)"
   ]
  },
  {
   "cell_type": "code",
   "execution_count": 5,
   "metadata": {
    "collapsed": false
   },
   "outputs": [],
   "source": [
    "## take all values assigned to the 'State' key in the dictionary\n",
    "state_names = sat_scores_dict['State'] "
   ]
  },
  {
   "cell_type": "markdown",
   "metadata": {},
   "source": [
    "##### 8. Print the types of each column"
   ]
  },
  {
   "cell_type": "code",
   "execution_count": 6,
   "metadata": {
    "collapsed": false,
    "scrolled": true
   },
   "outputs": [
    {
     "name": "stdout",
     "output_type": "stream",
     "text": [
      "Column 1: <type 'str'>\n",
      "Column 2: <type 'str'>\n",
      "Column 3: <type 'str'>\n",
      "Column 4: <type 'str'>\n"
     ]
    }
   ],
   "source": [
    "## since there are 4 values per row in sat_scores, \n",
    "## loop through each one in just the first row\n",
    "## and print the column type\n",
    "num_cols = len(sat_scores[0])\n",
    "for i in range(0,num_cols):\n",
    "    print 'Column ' + str(i+1) + ': ' + str(type(sat_scores[0][i]))"
   ]
  },
  {
   "cell_type": "markdown",
   "metadata": {},
   "source": [
    "##### 9. Do any types need to be reassigned? If so, go ahead and do it."
   ]
  },
  {
   "cell_type": "code",
   "execution_count": 7,
   "metadata": {
    "collapsed": false
   },
   "outputs": [
    {
     "name": "stdout",
     "output_type": "stream",
     "text": [
      "Column 1: <type 'str'>\n",
      "Column 2: <type 'int'>\n",
      "Column 3: <type 'int'>\n",
      "Column 4: <type 'int'>\n"
     ]
    }
   ],
   "source": [
    "## create a new list of lists, keeping the state column as a str\n",
    "## and converting the remaining number columns to int\n",
    "sat_scores = [ [row[0], int(row[1]), int(row[2]), int(row[3])] \n",
    "            for row in sat_scores]\n",
    "\n",
    "for i in range(0,num_cols):\n",
    "    print 'Column ' + str(i+1) + ': ' + str(type(sat_scores[0][i]))    "
   ]
  },
  {
   "cell_type": "markdown",
   "metadata": {},
   "source": [
    "##### 10. Create a dictionary for each column mapping the State to its respective value for that column. "
   ]
  },
  {
   "cell_type": "code",
   "execution_count": 11,
   "metadata": {
    "collapsed": false
   },
   "outputs": [],
   "source": [
    "rate = {}\n",
    "math = {}\n",
    "verbal = {}\n",
    "\n",
    "## loop through each row of sat_ints \n",
    "## and assign the state key to the appropriate value\n",
    "for row in sat_scores:\n",
    "    rate[row[0]] = row[1]\n",
    "    verbal[row[0]] = row[2]\n",
    "    math[row[0]] = row[3]"
   ]
  },
  {
   "cell_type": "markdown",
   "metadata": {},
   "source": [
    "##### 11. Create a dictionary with the values for each of the numeric columns"
   ]
  },
  {
   "cell_type": "code",
   "execution_count": 13,
   "metadata": {
    "collapsed": false
   },
   "outputs": [],
   "source": [
    "## loop through sat_scores and append \n",
    "## the appropriate values to each list\n",
    "rate_list = []\n",
    "verbal_list = []\n",
    "math_list = []\n",
    "\n",
    "for row in sat_scores:\n",
    "    rate_list.append(row[1])\n",
    "    verbal_list.append(row[2])\n",
    "    math_list.append(row[3])\n",
    "\n",
    "## assign those lists to their respective keys    \n",
    "sat_numeric = {'rate': rate_list, \n",
    "               'verbal' : verbal_list, \n",
    "               'math' : math_list}"
   ]
  },
  {
   "cell_type": "markdown",
   "metadata": {},
   "source": [
    "## Step 3: Describe the data"
   ]
  },
  {
   "cell_type": "markdown",
   "metadata": {},
   "source": [
    "##### 12. Print the min and max of each column"
   ]
  },
  {
   "cell_type": "code",
   "execution_count": 14,
   "metadata": {
    "collapsed": false
   },
   "outputs": [
    {
     "name": "stdout",
     "output_type": "stream",
     "text": [
      "RATE (min,max) = (4, 82)\n",
      "VERBAL (min,max) = (482, 593)\n",
      "MATH (min,max) = (439, 603)\n"
     ]
    }
   ],
   "source": [
    "print('RATE (min,max) = ' + str((min(rate_list),max(rate_list))))\n",
    "print('VERBAL (min,max) = ' + str((min(verbal_list),max(verbal_list))))\n",
    "print('MATH (min,max) = ' + str((min(math_list),max(math_list))))"
   ]
  },
  {
   "cell_type": "markdown",
   "metadata": {},
   "source": [
    "##### 13. Write a function using only list comprehensions, no loops, to compute Standard Deviation. Print the Standard Deviation of each numeric column."
   ]
  },
  {
   "cell_type": "code",
   "execution_count": 16,
   "metadata": {
    "collapsed": false
   },
   "outputs": [
    {
     "name": "stdout",
     "output_type": "stream",
     "text": [
      "27.55068\n",
      "33.36067\n",
      "36.28739\n"
     ]
    }
   ],
   "source": [
    "import numpy as np\n",
    "\n",
    "def standard_deviation(column):\n",
    "    sample_mean = np.mean(column) ## get the average for the column\n",
    "    squared_distance = [(i-sample_mean)**2 for i in column] ## for each value in the column, square the difference from the mean\n",
    "    sum_sq_diff = sum(squared_distance) ## take the sum of all squared distinces from the mean\n",
    "    variance = sum_sq_diff / (len(column) -1 ) ## compute the variance by dividing the sum by n - 1\n",
    "    std_dev = variance ** (0.5) ## take the square root of the variance to get standard deviation\n",
    "    return round(std_dev,5)\n",
    "      \n",
    "print(standard_deviation(rate_list))\n",
    "print(standard_deviation(verbal_list))\n",
    "print(standard_deviation(math_list))"
   ]
  },
  {
   "cell_type": "markdown",
   "metadata": {},
   "source": [
    "## Step 4: Visualize the data"
   ]
  },
  {
   "cell_type": "markdown",
   "metadata": {
    "collapsed": true
   },
   "source": [
    "##### 14. Using MatPlotLib and PyPlot, plot the distribution of the Rate using histograms."
   ]
  },
  {
   "cell_type": "code",
   "execution_count": 17,
   "metadata": {
    "collapsed": false
   },
   "outputs": [
    {
     "data": {
      "image/png": "[encoded data removed]",
      "text/plain": [
       "<matplotlib.figure.Figure at 0x10c76b1d0>"
      ]
     },
     "metadata": {},
     "output_type": "display_data"
    }
   ],
   "source": [
    "import matplotlib.pyplot as plt\n",
    "import matplotlib.figure as fig\n",
    "\n",
    "plt.hist(rate_list) ## plot a histogram for the rate values\n",
    "plt.axvline(np.median(rate_list), color=\"b\") ## blue line represents the median value\n",
    "plt.axvline(np.mean(rate_list), color=\"r\")   ## red line represents the mean value\n",
    "plt.show()\n",
    "\n",
    "\n",
    "\n"
   ]
  },
  {
   "cell_type": "markdown",
   "metadata": {},
   "source": [
    "##### 15. Plot the Math(s) distribution"
   ]
  },
  {
   "cell_type": "code",
   "execution_count": 18,
   "metadata": {
    "collapsed": false
   },
   "outputs": [
    {
     "data": {
      "image/png": "[encoded data removed]",
      "text/plain": [
       "<matplotlib.figure.Figure at 0x10d3b2510>"
      ]
     },
     "metadata": {},
     "output_type": "display_data"
    }
   ],
   "source": [
    "\n",
    "plt.hist(math_list) ## plot a histogram for the rate values\n",
    "plt.axvline(np.median(math_list), color=\"b\") ## blue line represents the median value\n",
    "plt.axvline(np.mean(math_list), color=\"r\")   ## red line represents the mean value\n",
    "plt.show()\n"
   ]
  },
  {
   "cell_type": "markdown",
   "metadata": {},
   "source": [
    "##### 16. Plot the Verbal distribution"
   ]
  },
  {
   "cell_type": "code",
   "execution_count": 19,
   "metadata": {
    "collapsed": false
   },
   "outputs": [
    {
     "data": {
      "image/png": "[encoded data removed]",
      "text/plain": [
       "<matplotlib.figure.Figure at 0x10d5b7a50>"
      ]
     },
     "metadata": {},
     "output_type": "display_data"
    }
   ],
   "source": [
    "\n",
    "plt.hist(verbal_list) ## plot a histogram for the rate values\n",
    "plt.axvline(np.median(verbal_list), color=\"b\") ## blue line represents the median value\n",
    "plt.axvline(np.mean(verbal_list), color=\"r\")   ## red line represents the mean value\n",
    "plt.show()\n"
   ]
  },
  {
   "cell_type": "markdown",
   "metadata": {},
   "source": [
    "##### 17. What is the typical assumption for data distribution?"
   ]
  },
  {
   "cell_type": "markdown",
   "metadata": {
    "collapsed": true
   },
   "source": [
    "Normality, or relative normality as in the mean and median values are close"
   ]
  },
  {
   "cell_type": "markdown",
   "metadata": {},
   "source": [
    "##### 18. Does that distribution hold true for our data?"
   ]
  },
  {
   "cell_type": "markdown",
   "metadata": {
    "collapsed": true
   },
   "source": [
    "No, it does not. Each variable is far from normal."
   ]
  },
  {
   "cell_type": "markdown",
   "metadata": {},
   "source": [
    "##### 19. Plot some scatterplots. **BONUS**: Use a PyPlot `figure` to present multiple plots at once."
   ]
  },
  {
   "cell_type": "code",
   "execution_count": 21,
   "metadata": {
    "collapsed": false,
    "scrolled": true
   },
   "outputs": [
    {
     "data": {
      "image/png": "[encoded data removed]",
      "text/plain": [
       "<matplotlib.figure.Figure at 0x10d2fcd10>"
      ]
     },
     "metadata": {},
     "output_type": "display_data"
    },
    {
     "data": {
      "image/png": "[encoded data removed]",
      "text/plain": [
       "<matplotlib.figure.Figure at 0x10d2fc550>"
      ]
     },
     "metadata": {},
     "output_type": "display_data"
    },
    {
     "data": {
      "image/png": "[encoded data removed]",
      "text/plain": [
       "<matplotlib.figure.Figure at 0x11009bb10>"
      ]
     },
     "metadata": {},
     "output_type": "display_data"
    }
   ],
   "source": [
    "plt.figure(1) ## indicates the first figure to display\n",
    "\n",
    "## rate vs verbal\n",
    "scatter_1 = [plt.scatter(row[1],row[2]) for row in sat_scores]\n",
    "plt.suptitle('Rate, Verbal Relationship', fontsize=20)\n",
    "plt.xlabel('Rate', fontsize=16)\n",
    "plt.ylabel('Verbal', fontsize=16)\n",
    "\n",
    "plt.figure(211) ## indicates that we want to display a second figure below\n",
    "\n",
    "## rate vs math\n",
    "\n",
    "[plt.scatter(row[1],row[3]) for row in sat_scores]\n",
    "plt.suptitle('Rate, Math Relationship', fontsize=20)\n",
    "plt.xlabel('Rate', fontsize=16)\n",
    "plt.ylabel('Math', fontsize=16)\n",
    "\n",
    "plt.figure(212) ## indicates that we want to display a third figure below\n",
    "\n",
    "## math vs verbal\n",
    "[plt.scatter(row[2],row[3]) for row in sat_scores]\n",
    "plt.suptitle('Verbal, Math Relationship', fontsize=20)\n",
    "plt.xlabel('Verbal', fontsize=16)\n",
    "plt.ylabel('Math', fontsize=16)\n",
    "\n",
    "plt.show()"
   ]
  },
  {
   "cell_type": "markdown",
   "metadata": {},
   "source": [
    "##### 20. Are there any interesting relationships to note?"
   ]
  },
  {
   "cell_type": "markdown",
   "metadata": {
    "collapsed": true
   },
   "source": [
    "There's negative correlation for both rate, verbal and for rate, math. This means that smaller participation rates are associated with higher scores in both cases, and that higher participation rates are asssociated with lower scores. This greatly affects how we are able to look at the data. I broke down scores by US region (below heat maps) and found that the Midwest scores were higher than the Northeast--which was the opposite of my biased assumption. If you look closer, however, the Midwest has a much lower participation rate, which makes it seem like not enough of a diverse population of students take the exam. This is a very biased sample. Now that I see the great difference in participation rates, my focus is no longer on the scores, but why the rates are down outside of the East Coast."
   ]
  },
  {
   "cell_type": "markdown",
   "metadata": {},
   "source": [
    "##### 21. Create box plots for each variable. "
   ]
  },
  {
   "cell_type": "code",
   "execution_count": 22,
   "metadata": {
    "collapsed": false
   },
   "outputs": [
    {
     "data": {
      "text/plain": [
       "<matplotlib.axes._subplots.AxesSubplot at 0x10fd35ed0>"
      ]
     },
     "execution_count": 22,
     "metadata": {},
     "output_type": "execute_result"
    },
    {
     "data": {
      "image/png": "[encoded data removed]",
      "text/plain": [
       "<matplotlib.figure.Figure at 0x10fd354d0>"
      ]
     },
     "metadata": {},
     "output_type": "display_data"
    }
   ],
   "source": [
    "import pandas as pd\n",
    "f = '../data/sat_scores.csv'\n",
    "sat_pandas = pd.read_csv(f, header=0, na_filter=False)\n",
    "\n",
    "%matplotlib inline\n",
    "sat_pandas.plot(kind='box')"
   ]
  },
  {
   "cell_type": "markdown",
   "metadata": {},
   "source": [
    "##### BONUS: Using Tableau, create a heat map for each variable using a map of the US. "
   ]
  },
  {
   "cell_type": "code",
   "execution_count": 23,
   "metadata": {
    "collapsed": false
   },
   "outputs": [
    {
     "data": {
      "text/html": [
       "<div class='tableauPlaceholder' id='viz1489527750572' style='position: relative'><noscript><a href='#'><img alt='2001 Average Math SAT Scores by State ' src='https:&#47;&#47;public.tableau.com&#47;static&#47;images&#47;Av&#47;AverageMathSATScoresbyState&#47;Sheet2&#47;1_rss.png' style='border: none' /></a></noscript><object class='tableauViz'  style='display:none;'><param name='host_url' value='https%3A%2F%2Fpublic.tableau.com%2F' /> <param name='path' value='views&#47;AverageMathSATScoresbyState&#47;Sheet2?:embed=y&amp;:display_count=y' /> <param name='toolbar' value='yes' /><param name='static_image' value='https:&#47;&#47;public.tableau.com&#47;static&#47;images&#47;Av&#47;AverageMathSATScoresbyState&#47;Sheet2&#47;1.png' /> <param name='animate_transition' value='yes' /><param name='display_static_image' value='yes' /><param name='display_spinner' value='yes' /><param name='display_overlay' value='yes' /><param name='display_count' value='yes' /></object></div>                <script type='text/javascript'>                    var divElement = document.getElementById('viz1489527750572');                    var vizElement = divElement.getElementsByTagName('object')[0];                    vizElement.style.width='100%';vizElement.style.height=(divElement.offsetWidth*0.75)+'px';                    var scriptElement = document.createElement('script');                    scriptElement.src = 'https://public.tableau.com/javascripts/api/viz_v1.js';                    vizElement.parentNode.insertBefore(scriptElement, vizElement);                </script>"
      ],
      "text/plain": [
       "<IPython.core.display.HTML object>"
      ]
     },
     "metadata": {},
     "output_type": "display_data"
    }
   ],
   "source": [
    "%%HTML\n",
    "<div class='tableauPlaceholder' id='viz1489527750572' style='position: relative'><noscript><a href='#'><img alt='2001 Average Math SAT Scores by State ' src='https:&#47;&#47;public.tableau.com&#47;static&#47;images&#47;Av&#47;AverageMathSATScoresbyState&#47;Sheet2&#47;1_rss.png' style='border: none' /></a></noscript><object class='tableauViz'  style='display:none;'><param name='host_url' value='https%3A%2F%2Fpublic.tableau.com%2F' /> <param name='path' value='views&#47;AverageMathSATScoresbyState&#47;Sheet2?:embed=y&amp;:display_count=y' /> <param name='toolbar' value='yes' /><param name='static_image' value='https:&#47;&#47;public.tableau.com&#47;static&#47;images&#47;Av&#47;AverageMathSATScoresbyState&#47;Sheet2&#47;1.png' /> <param name='animate_transition' value='yes' /><param name='display_static_image' value='yes' /><param name='display_spinner' value='yes' /><param name='display_overlay' value='yes' /><param name='display_count' value='yes' /></object></div>                <script type='text/javascript'>                    var divElement = document.getElementById('viz1489527750572');                    var vizElement = divElement.getElementsByTagName('object')[0];                    vizElement.style.width='100%';vizElement.style.height=(divElement.offsetWidth*0.75)+'px';                    var scriptElement = document.createElement('script');                    scriptElement.src = 'https://public.tableau.com/javascripts/api/viz_v1.js';                    vizElement.parentNode.insertBefore(scriptElement, vizElement);                </script>"
   ]
  },
  {
   "cell_type": "code",
   "execution_count": 24,
   "metadata": {
    "collapsed": false
   },
   "outputs": [
    {
     "data": {
      "text/html": [
       "<div class='tableauPlaceholder' id='viz1489528066797' style='position: relative'><noscript><a href='#'><img alt='2001 SAT Participation Rate by State ' src='https:&#47;&#47;public.tableau.com&#47;static&#47;images&#47;20&#47;2001SATParticipationRatebyState_0&#47;Sheet3&#47;1_rss.png' style='border: none' /></a></noscript><object class='tableauViz'  style='display:none;'><param name='host_url' value='https%3A%2F%2Fpublic.tableau.com%2F' /> <param name='path' value='views&#47;2001SATParticipationRatebyState_0&#47;Sheet3?:embed=y&amp;:display_count=y' /> <param name='toolbar' value='yes' /><param name='static_image' value='https:&#47;&#47;public.tableau.com&#47;static&#47;images&#47;20&#47;2001SATParticipationRatebyState_0&#47;Sheet3&#47;1.png' /> <param name='animate_transition' value='yes' /><param name='display_static_image' value='yes' /><param name='display_spinner' value='yes' /><param name='display_overlay' value='yes' /><param name='display_count' value='yes' /></object></div>                <script type='text/javascript'>                    var divElement = document.getElementById('viz1489528066797');                    var vizElement = divElement.getElementsByTagName('object')[0];                    vizElement.style.width='100%';vizElement.style.height=(divElement.offsetWidth*0.75)+'px';                    var scriptElement = document.createElement('script');                    scriptElement.src = 'https://public.tableau.com/javascripts/api/viz_v1.js';                    vizElement.parentNode.insertBefore(scriptElement, vizElement);                </script>"
      ],
      "text/plain": [
       "<IPython.core.display.HTML object>"
      ]
     },
     "metadata": {},
     "output_type": "display_data"
    }
   ],
   "source": [
    "%%HTML\n",
    "<div class='tableauPlaceholder' id='viz1489528066797' style='position: relative'><noscript><a href='#'><img alt='2001 SAT Participation Rate by State ' src='https:&#47;&#47;public.tableau.com&#47;static&#47;images&#47;20&#47;2001SATParticipationRatebyState_0&#47;Sheet3&#47;1_rss.png' style='border: none' /></a></noscript><object class='tableauViz'  style='display:none;'><param name='host_url' value='https%3A%2F%2Fpublic.tableau.com%2F' /> <param name='path' value='views&#47;2001SATParticipationRatebyState_0&#47;Sheet3?:embed=y&amp;:display_count=y' /> <param name='toolbar' value='yes' /><param name='static_image' value='https:&#47;&#47;public.tableau.com&#47;static&#47;images&#47;20&#47;2001SATParticipationRatebyState_0&#47;Sheet3&#47;1.png' /> <param name='animate_transition' value='yes' /><param name='display_static_image' value='yes' /><param name='display_spinner' value='yes' /><param name='display_overlay' value='yes' /><param name='display_count' value='yes' /></object></div>                <script type='text/javascript'>                    var divElement = document.getElementById('viz1489528066797');                    var vizElement = divElement.getElementsByTagName('object')[0];                    vizElement.style.width='100%';vizElement.style.height=(divElement.offsetWidth*0.75)+'px';                    var scriptElement = document.createElement('script');                    scriptElement.src = 'https://public.tableau.com/javascripts/api/viz_v1.js';                    vizElement.parentNode.insertBefore(scriptElement, vizElement);                </script>"
   ]
  },
  {
   "cell_type": "code",
   "execution_count": 25,
   "metadata": {
    "collapsed": false
   },
   "outputs": [
    {
     "data": {
      "text/html": [
       "<div class='tableauPlaceholder' id='viz1489528167633' style='position: relative'><noscript><a href='#'><img alt='2001 Average Verbal SAT Scores by State ' src='https:&#47;&#47;public.tableau.com&#47;static&#47;images&#47;20&#47;2001AverageVerbalSATScoresbyState&#47;Sheet4&#47;1_rss.png' style='border: none' /></a></noscript><object class='tableauViz'  style='display:none;'><param name='host_url' value='https%3A%2F%2Fpublic.tableau.com%2F' /> <param name='site_root' value='' /><param name='name' value='2001AverageVerbalSATScoresbyState&#47;Sheet4' /><param name='tabs' value='no' /><param name='toolbar' value='yes' /><param name='static_image' value='https:&#47;&#47;public.tableau.com&#47;static&#47;images&#47;20&#47;2001AverageVerbalSATScoresbyState&#47;Sheet4&#47;1.png' /> <param name='animate_transition' value='yes' /><param name='display_static_image' value='yes' /><param name='display_spinner' value='yes' /><param name='display_overlay' value='yes' /><param name='display_count' value='yes' /></object></div>                <script type='text/javascript'>                    var divElement = document.getElementById('viz1489528167633');                    var vizElement = divElement.getElementsByTagName('object')[0];                    vizElement.style.width='100%';vizElement.style.height=(divElement.offsetWidth*0.75)+'px';                    var scriptElement = document.createElement('script');                    scriptElement.src = 'https://public.tableau.com/javascripts/api/viz_v1.js';                    vizElement.parentNode.insertBefore(scriptElement, vizElement);                </script>"
      ],
      "text/plain": [
       "<IPython.core.display.HTML object>"
      ]
     },
     "metadata": {},
     "output_type": "display_data"
    }
   ],
   "source": [
    "%%HTML\n",
    "<div class='tableauPlaceholder' id='viz1489528167633' style='position: relative'><noscript><a href='#'><img alt='2001 Average Verbal SAT Scores by State ' src='https:&#47;&#47;public.tableau.com&#47;static&#47;images&#47;20&#47;2001AverageVerbalSATScoresbyState&#47;Sheet4&#47;1_rss.png' style='border: none' /></a></noscript><object class='tableauViz'  style='display:none;'><param name='host_url' value='https%3A%2F%2Fpublic.tableau.com%2F' /> <param name='site_root' value='' /><param name='name' value='2001AverageVerbalSATScoresbyState&#47;Sheet4' /><param name='tabs' value='no' /><param name='toolbar' value='yes' /><param name='static_image' value='https:&#47;&#47;public.tableau.com&#47;static&#47;images&#47;20&#47;2001AverageVerbalSATScoresbyState&#47;Sheet4&#47;1.png' /> <param name='animate_transition' value='yes' /><param name='display_static_image' value='yes' /><param name='display_spinner' value='yes' /><param name='display_overlay' value='yes' /><param name='display_count' value='yes' /></object></div>                <script type='text/javascript'>                    var divElement = document.getElementById('viz1489528167633');                    var vizElement = divElement.getElementsByTagName('object')[0];                    vizElement.style.width='100%';vizElement.style.height=(divElement.offsetWidth*0.75)+'px';                    var scriptElement = document.createElement('script');                    scriptElement.src = 'https://public.tableau.com/javascripts/api/viz_v1.js';                    vizElement.parentNode.insertBefore(scriptElement, vizElement);                </script>"
   ]
  },
  {
   "cell_type": "code",
   "execution_count": 26,
   "metadata": {
    "collapsed": true
   },
   "outputs": [],
   "source": [
    "## to confirm my suspicions about performance by region,\n",
    "## I found and utilized a list of all states, their region, and subregion\n",
    "## source: http://researchertools.blogspot.com/2012/09/excel-file-with-us-states-abbreviations.html\n",
    "\n",
    "import csv\n",
    "f = open('../data/US_STATES_REGIONS_SUBREGIONS.csv', 'rU')\n",
    "reader = csv.reader(f)\n",
    "states_data = [row for row in reader]\n",
    "f.close()"
   ]
  },
  {
   "cell_type": "code",
   "execution_count": 28,
   "metadata": {
    "collapsed": false
   },
   "outputs": [],
   "source": [
    "states_data_header = states_data[0]\n",
    "states_regions = states_data[1:]\n",
    "\n",
    "regions = set([row[2] for row in states_regions])\n",
    "subregions = set([row[3] for row in states_regions])\n",
    "regions_dictionary = {'West' : [row[1] for row in states_regions if row[2]=='West'],\n",
    "                      'Northeast' : [row[1] for row in states_regions if row[2]=='Northeast'],\n",
    "                      'Midwest' : [row[1] for row in states_regions if row[2]=='Midwest'], \n",
    "                      'South' : [row[1] for row in states_regions if row[2]=='South']}\n",
    "\n",
    "rate_by_region = []\n",
    "for region in regions:\n",
    "    region_rate = [row[1] for row in sat_scores if row[0] in regions_dictionary[region]]\n",
    "    region_verbal = [row[2] for row in sat_scores if row[0] in regions_dictionary[region]]\n",
    "    region_math = [row[3] for row in sat_scores if row[0] in regions_dictionary[region]]\n",
    "    region_dict = {}\n",
    "    region_dict['region']=region\n",
    "    region_dict['region_mean_rate'] = round(np.mean(region_rate),2)\n",
    "    region_dict['region_median_rate'] = round(np.median(region_rate),2)\n",
    "    region_dict['region_mean_verbal'] = round(np.mean(region_verbal),2)\n",
    "    region_dict['region_median_verbal'] = round(np.median(region_verbal),2)\n",
    "    region_dict['region_mean_math'] = round(np.mean(region_math),2)\n",
    "    region_dict['region_median_math'] = round(np.median(region_math),2)\n",
    "    rate_by_region.append(region_dict)"
   ]
  },
  {
   "cell_type": "code",
   "execution_count": 29,
   "metadata": {
    "collapsed": false
   },
   "outputs": [
    {
     "name": "stdout",
     "output_type": "stream",
     "text": [
      "West\n",
      "RATE: mean = 33.0; median = 33.0\n",
      "VERBAL: mean = 528.92; median = 527.0\n",
      "MATH: mean = 531.92; median = 527.0\n",
      "\n",
      "Northeast\n",
      "RATE: mean = 74.56; median = 72.0\n",
      "VERBAL: mean = 505.78; median = 506.0\n",
      "MATH: mean = 507.0; median = 506.0\n",
      "\n",
      "Midwest\n",
      "RATE: mean = 13.5; median = 8.5\n",
      "VERBAL: mean = 567.67; median = 577.0\n",
      "MATH: mean = 566.25; median = 581.0\n",
      "\n",
      "South\n",
      "RATE: mean = 35.56; median = 35.5\n",
      "VERBAL: mean = 527.31; median = 518.5\n",
      "MATH: mean = 523.56; median = 511.0\n",
      "\n"
     ]
    }
   ],
   "source": [
    "## print the mean and median of each score type for each region\n",
    "for region in rate_by_region:\n",
    "    print region['region']\n",
    "    print ('RATE: mean = ' + str(region['region_mean_rate']) + \n",
    "            '; median = ' + str(region['region_median_rate']) )\n",
    "    print ('VERBAL: mean = ' + str(region['region_mean_verbal']) + \n",
    "            '; median = ' + str(region['region_median_verbal']) )\n",
    "    print ('MATH: mean = ' + str(region['region_mean_math']) + \n",
    "            '; median = ' + str(region['region_median_math']) )\n",
    "    print \"\""
   ]
  },
  {
   "cell_type": "code",
   "execution_count": 44,
   "metadata": {
    "collapsed": false
   },
   "outputs": [],
   "source": [
    "## Now I'm curious to see how Midwest ACT participation rates stack up.\n",
    "## As long as participation rates for the Midwest are significantly\n",
    "## higher than their SAT participation rates, I think it's fair to say\n",
    "## not that fewer Midwestern students are taking college entrance exams,\n",
    "## but fewer are taking the SAT. Let's actually look at some ACT data.\n",
    "\n",
    "# data source = https://forms.act.org/newsroom/data/2001/states.html\n",
    "# * Totals for graduating seniors were obtained from Projections of High School Graduates by State and Race/Ethnicity 1996-2012, Copyright © by Western Interstate Commission for Higher Education, February, 1998.\n",
    "# ** Core Course = at least four years of English and three years each of mathematics (algebra and above), social sciences, and natural sciences\n",
    "# I'm going to multiply the percentage of graduates who also completed the Core Course requirement as a comparison to the SAT sample to get their percentage of the whole\n",
    "# Important to note that the SAT data isn't just graduates ...\n",
    "\n",
    "import csv\n",
    "f = open('../data/act_scores.csv', 'rU')\n",
    "reader = csv.reader(f)\n",
    "act_data = [row for row in reader]\n",
    "f.close()\n",
    "\n",
    "act_scores = [[row[0],float(row[1]),float(row[2]),float(row[3])] for row in act_data[1:]]\n",
    "header = act_scores[0]\n",
    "act_scores = act_scores[1:]\n"
   ]
  },
  {
   "cell_type": "code",
   "execution_count": 58,
   "metadata": {
    "collapsed": false
   },
   "outputs": [
    {
     "data": {
      "text/html": [
       "<div class='tableauPlaceholder' id='viz1490006784570' style='position: relative'><noscript><a href='#'><img alt='2001 ACT Participation Rates for HS Graduates ' src='https:&#47;&#47;public.tableau.com&#47;static&#47;images&#47;20&#47;2001ACTPartipationRates&#47;Sheet1&#47;1_rss.png' style='border: none' /></a></noscript><object class='tableauViz'  style='display:none;'><param name='host_url' value='https%3A%2F%2Fpublic.tableau.com%2F' /> <param name='site_root' value='' /><param name='name' value='2001ACTPartipationRates&#47;Sheet1' /><param name='tabs' value='no' /><param name='toolbar' value='yes' /><param name='static_image' value='https:&#47;&#47;public.tableau.com&#47;static&#47;images&#47;20&#47;2001ACTPartipationRates&#47;Sheet1&#47;1.png' /> <param name='animate_transition' value='yes' /><param name='display_static_image' value='yes' /><param name='display_spinner' value='yes' /><param name='display_overlay' value='yes' /><param name='display_count' value='yes' /></object></div>                <script type='text/javascript'>                    var divElement = document.getElementById('viz1490006784570');                    var vizElement = divElement.getElementsByTagName('object')[0];                    vizElement.style.width='100%';vizElement.style.height=(divElement.offsetWidth*0.75)+'px';                    var scriptElement = document.createElement('script');                    scriptElement.src = 'https://public.tableau.com/javascripts/api/viz_v1.js';                    vizElement.parentNode.insertBefore(scriptElement, vizElement);                </script>"
      ],
      "text/plain": [
       "<IPython.core.display.HTML object>"
      ]
     },
     "metadata": {},
     "output_type": "display_data"
    }
   ],
   "source": [
    "%%HTML\n",
    "<div class='tableauPlaceholder' id='viz1490006784570' style='position: relative'><noscript><a href='#'><img alt='2001 ACT Participation Rates for HS Graduates ' src='https:&#47;&#47;public.tableau.com&#47;static&#47;images&#47;20&#47;2001ACTPartipationRates&#47;Sheet1&#47;1_rss.png' style='border: none' /></a></noscript><object class='tableauViz'  style='display:none;'><param name='host_url' value='https%3A%2F%2Fpublic.tableau.com%2F' /> <param name='site_root' value='' /><param name='name' value='2001ACTPartipationRates&#47;Sheet1' /><param name='tabs' value='no' /><param name='toolbar' value='yes' /><param name='static_image' value='https:&#47;&#47;public.tableau.com&#47;static&#47;images&#47;20&#47;2001ACTPartipationRates&#47;Sheet1&#47;1.png' /> <param name='animate_transition' value='yes' /><param name='display_static_image' value='yes' /><param name='display_spinner' value='yes' /><param name='display_overlay' value='yes' /><param name='display_count' value='yes' /></object></div>                <script type='text/javascript'>                    var divElement = document.getElementById('viz1490006784570');                    var vizElement = divElement.getElementsByTagName('object')[0];                    vizElement.style.width='100%';vizElement.style.height=(divElement.offsetWidth*0.75)+'px';                    var scriptElement = document.createElement('script');                    scriptElement.src = 'https://public.tableau.com/javascripts/api/viz_v1.js';                    vizElement.parentNode.insertBefore(scriptElement, vizElement);                </script>\n"
   ]
  },
  {
   "cell_type": "code",
   "execution_count": 57,
   "metadata": {
    "collapsed": false
   },
   "outputs": [
    {
     "data": {
      "text/html": [
       "<div class='tableauPlaceholder' id='viz1490006820143' style='position: relative'><noscript><a href='#'><img alt='2001 Average ACT Composite Scores for HS Graduates ' src='https:&#47;&#47;public.tableau.com&#47;static&#47;images&#47;20&#47;2001AverageACTCompositeScores&#47;Sheet2&#47;1_rss.png' style='border: none' /></a></noscript><object class='tableauViz'  style='display:none;'><param name='host_url' value='https%3A%2F%2Fpublic.tableau.com%2F' /> <param name='site_root' value='' /><param name='name' value='2001AverageACTCompositeScores&#47;Sheet2' /><param name='tabs' value='no' /><param name='toolbar' value='yes' /><param name='static_image' value='https:&#47;&#47;public.tableau.com&#47;static&#47;images&#47;20&#47;2001AverageACTCompositeScores&#47;Sheet2&#47;1.png' /> <param name='animate_transition' value='yes' /><param name='display_static_image' value='yes' /><param name='display_spinner' value='yes' /><param name='display_overlay' value='yes' /><param name='display_count' value='yes' /></object></div>                <script type='text/javascript'>                    var divElement = document.getElementById('viz1490006820143');                    var vizElement = divElement.getElementsByTagName('object')[0];                    vizElement.style.width='100%';vizElement.style.height=(divElement.offsetWidth*0.75)+'px';                    var scriptElement = document.createElement('script');                    scriptElement.src = 'https://public.tableau.com/javascripts/api/viz_v1.js';                    vizElement.parentNode.insertBefore(scriptElement, vizElement);                </script>"
      ],
      "text/plain": [
       "<IPython.core.display.HTML object>"
      ]
     },
     "metadata": {},
     "output_type": "display_data"
    }
   ],
   "source": [
    "%%HTML\n",
    "<div class='tableauPlaceholder' id='viz1490006820143' style='position: relative'><noscript><a href='#'><img alt='2001 Average ACT Composite Scores for HS Graduates ' src='https:&#47;&#47;public.tableau.com&#47;static&#47;images&#47;20&#47;2001AverageACTCompositeScores&#47;Sheet2&#47;1_rss.png' style='border: none' /></a></noscript><object class='tableauViz'  style='display:none;'><param name='host_url' value='https%3A%2F%2Fpublic.tableau.com%2F' /> <param name='site_root' value='' /><param name='name' value='2001AverageACTCompositeScores&#47;Sheet2' /><param name='tabs' value='no' /><param name='toolbar' value='yes' /><param name='static_image' value='https:&#47;&#47;public.tableau.com&#47;static&#47;images&#47;20&#47;2001AverageACTCompositeScores&#47;Sheet2&#47;1.png' /> <param name='animate_transition' value='yes' /><param name='display_static_image' value='yes' /><param name='display_spinner' value='yes' /><param name='display_overlay' value='yes' /><param name='display_count' value='yes' /></object></div>                <script type='text/javascript'>                    var divElement = document.getElementById('viz1490006820143');                    var vizElement = divElement.getElementsByTagName('object')[0];                    vizElement.style.width='100%';vizElement.style.height=(divElement.offsetWidth*0.75)+'px';                    var scriptElement = document.createElement('script');                    scriptElement.src = 'https://public.tableau.com/javascripts/api/viz_v1.js';                    vizElement.parentNode.insertBefore(scriptElement, vizElement);                </script>"
   ]
  },
  {
   "cell_type": "code",
   "execution_count": 55,
   "metadata": {
    "collapsed": false
   },
   "outputs": [
    {
     "name": "stdout",
     "output_type": "stream",
     "text": [
      "West\n",
      "RATE: mean = 22.04; median = 23.79\n",
      "COMPOSITE: mean = 22.59; median = 22.5\n",
      "\n",
      "Northeast\n",
      "RATE: mean = 3.64; median = 3.6\n",
      "COMPOSITE: mean = 22.43; median = 22.2\n",
      "\n",
      "Midwest\n",
      "RATE: mean = 41.17; median = 42.78\n",
      "COMPOSITE: mean = 22.64; median = 22.6\n",
      "\n",
      "South\n",
      "RATE: mean = 27.34; median = 24.75\n",
      "COMPOSITE: mean = 20.85; median = 20.9\n",
      "\n"
     ]
    }
   ],
   "source": [
    "## similarly to the regions_dictionary for the SAT (using state abbreviations)\n",
    "## use the full state name to classify by region and match to the ACT dataset\n",
    "regions_dictionary_full = {'West' : [row[0] for row in states_regions if row[2]=='West'], \n",
    "                           'Northeast' : [row[0] for row in states_regions if row[2]=='Northeast'], \n",
    "                           'Midwest' : [row[0] for row in states_regions if row[2]=='Midwest'], \n",
    "                           'South' : [row[0] for row in states_regions if row[2]=='South']}\n",
    "## region rate is where I multiply the % of the total that are core course\n",
    "## in order to get the percentage of core course out of the whole\n",
    "\n",
    "act_rate_by_region = []\n",
    "for region in regions:\n",
    "    region_rate = [row[1]*row[2]/100 for row in act_scores if row[0] in regions_dictionary_full[region]]\n",
    "    region_composite = [row[3] for row in act_scores if row[0] in regions_dictionary_full[region]]\n",
    "    region_dict = {}\n",
    "    region_dict['region']=region\n",
    "    region_dict['region_mean_rate'] = round(np.mean(region_rate),2)\n",
    "    region_dict['region_median_rate'] = round(np.median(region_rate),2)\n",
    "    region_dict['region_mean_composite'] = round(np.mean(region_composite),2)\n",
    "    region_dict['region_median_composite'] = round(np.median(region_composite),2)\n",
    "    act_rate_by_region.append(region_dict)\n",
    "\n",
    "for region in act_rate_by_region:\n",
    "    print region['region']\n",
    "    print ('RATE: mean = ' + str(region['region_mean_rate']) + \n",
    "            '; median = ' + str(region['region_median_rate']) )\n",
    "    print ('COMPOSITE: mean = ' + str(region['region_mean_composite']) + \n",
    "            '; median = ' + str(region['region_median_composite']) )\n",
    "    print \"\"  \n"
   ]
  },
  {
   "cell_type": "markdown",
   "metadata": {},
   "source": [
    "While it's hard to make any kind of conclusion given that the target samples of the SAT and ACT datasets are not identical, it is clear that states with low SAT participation rates have much higher ACT participation rates. The College Board needs to increase their presence in these high ACT participation states. I recommend that they collect more data on which schools these students are applying to with their ACT score and see if they can push the importance of SAT performance over ACT performance. Perhaps they could increase these schools' weight on SAT scores and therefore increase the need for students to take the SAT."
   ]
  },
  {
   "cell_type": "code",
   "execution_count": null,
   "metadata": {
    "collapsed": true
   },
   "outputs": [],
   "source": []
  }
 ],
 "metadata": {
  "anaconda-cloud": {},
  "kernelspec": {
   "display_name": "Python 2",
   "language": "python",
   "name": "python2"
  },
  "language_info": {
   "codemirror_mode": {
    "name": "ipython",
    "version": 2
   },
   "file_extension": ".py",
   "mimetype": "text/x-python",
   "name": "python",
   "nbconvert_exporter": "python",
   "pygments_lexer": "ipython2",
   "version": "2.7.13"
  }
 },
 "nbformat": 4,
 "nbformat_minor": 0
}
